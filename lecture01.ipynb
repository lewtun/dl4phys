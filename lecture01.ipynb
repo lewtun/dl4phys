{
 "cells": [
  {
   "cell_type": "markdown",
   "id": "9e046cf7-e28b-4384-989c-ea8400b58982",
   "metadata": {},
   "source": [
    "# Lesson 1 - Introduction to deep neural networks"
   ]
  },
  {
   "cell_type": "markdown",
   "id": "7570366e-3bb2-4741-b300-1f93213b3262",
   "metadata": {},
   "source": [
    "> A first look at training deep neural networks to tag jets in proton-proton collisions."
   ]
  },
  {
   "cell_type": "markdown",
   "id": "6ff2081e-ce52-49f2-b1e0-d76ccab64886",
   "metadata": {
    "jp-MarkdownHeadingCollapsed": true,
    "tags": []
   },
   "source": [
    "## TODO"
   ]
  },
  {
   "cell_type": "markdown",
   "id": "1c6233fc-0a3e-4bab-b955-e1efb4383c3f",
   "metadata": {},
   "source": [
    "* Put dataset on the Hub with a loading script\n",
    "* Figure out how to load `Dataset` objects in dataloaders\n",
    "* Tidy up, add prose\n",
    "* Add exercises\n",
    "* Push model to Hub? => save for next lecture when we actually train from scratch\n",
    "* Primer on N-subjettiness"
   ]
  },
  {
   "cell_type": "markdown",
   "id": "aef867e4-7f1e-4550-9d06-85cc91a5fffd",
   "metadata": {},
   "source": [
    "## Learning objectives\n",
    "\n",
    "* Understand what jet tagging is and how to frame it as a machine learning task\n",
    "* Gain an introduction to the `fastai` library"
   ]
  },
  {
   "cell_type": "markdown",
   "id": "32450a59-30d3-4648-92e8-ae41459e5119",
   "metadata": {},
   "source": [
    "## References\n",
    "\n",
    "* Chapter 1 of [_Deep Learning for Coders with fastai & PyTorch_](https://github.com/fastai/fastbook) by Jeremy Howard and Sylvain Gugger.\n",
    "* [_The Machine Learning Landscape of Top Taggers_](https://arxiv.org/abs/1902.09914) by G. Kasieczka et al.\n",
    "* N-subjet reference"
   ]
  },
  {
   "cell_type": "markdown",
   "id": "13d80ea2-6645-4b6c-90d2-5b661a262088",
   "metadata": {},
   "source": [
    "## The data"
   ]
  },
  {
   "cell_type": "markdown",
   "id": "312b2adf-e12f-4d19-8012-e00240254e8a",
   "metadata": {},
   "source": [
    "For the first few lessons, we'll be analysing the _Top Quark Tagging_ dataset, which is a famous benchmark that's used to evaluate the performance of jet classification algorithms. The dataset can be obtained from either Zenodo or the Hugging Face Hub and is described as follows:\n",
    "\n",
    "* 14 TeV, hadronic tops for signal, qcd diets background, Delphes ATLAS detector card with Pythia8\n",
    "* No MPI/pile-up included\n",
    "* Clustering of  particle-flow entries (produced by Delphes E-flow) into anti-kT 0.8 jets in the pT range [550,650] GeV\n",
    "* All top jets are matched to a parton-level top within ∆R = 0.8, and to all top decay partons within 0.8\n",
    "* Jets are required to have |eta| < 2\n",
    "* The leading 200 jet constituent four-momenta are stored, with zero-padding for jets with fewer than 200\n",
    "* Constituents are sorted by pT, with the highest pT one first\n",
    "* A flag (1 for top, 0 for QCD) is kept for each jet. It is called is_signal_new\n",
    "\n",
    "Framed as a supervised machine learning task, the goal is to train a model that can classify each jets as either a top quark signal or quark-gluon background."
   ]
  },
  {
   "cell_type": "markdown",
   "id": "c8db4ada-8e8c-4c24-9b14-59db681a408c",
   "metadata": {},
   "source": [
    "## Import libraries"
   ]
  },
  {
   "cell_type": "code",
   "execution_count": 2,
   "id": "872d0a1a-7a3b-4500-a8cf-f5a36216af97",
   "metadata": {},
   "outputs": [],
   "source": [
    "import torch.nn.functional as F\n",
    "from datasets import load_dataset\n",
    "from fastai.tabular.all import *\n",
    "from scipy.interpolate import interp1d\n",
    "from sklearn.metrics import auc, roc_auc_score, roc_curve\n",
    "from sklearn.model_selection import train_test_split"
   ]
  },
  {
   "cell_type": "code",
   "execution_count": 3,
   "id": "54801fba-818e-488a-bc03-321519c5ef0e",
   "metadata": {
    "tags": [
     "hide-cell"
    ]
   },
   "outputs": [],
   "source": [
    "import datasets\n",
    "\n",
    "datasets.logging.set_verbosity_error()"
   ]
  },
  {
   "cell_type": "markdown",
   "id": "61eea3a0-aa61-4296-b1c1-96271e768c34",
   "metadata": {},
   "source": [
    "## A first look at 🤗 Datasets"
   ]
  },
  {
   "cell_type": "markdown",
   "id": "e81bfbfb-16cb-46b8-97ef-53ee7ed890c6",
   "metadata": {},
   "source": [
    "We will use the [🤗 Datasets](https://github.com/huggingface/datasets) library to download and process the datasets that we'll encounter in this course. 🤗 Datasets provides smart caching and allows you to process larger-than-RAM datasets by exploiting a technique called _memory-mapping_ that provides a mapping between RAM and filesystem storage.\n",
    "\n",
    "To download the dataset, we can use the `load_dataset()` function:"
   ]
  },
  {
   "cell_type": "code",
   "execution_count": 6,
   "id": "f0848f0c-5f7b-403f-ba8e-4b7cac30ffdd",
   "metadata": {
    "tags": [
     "hide-output"
    ]
   },
   "outputs": [],
   "source": [
    "dataset_id = \"lewtun/top_quark_tagging\"\n",
    "top_quark_ds = load_dataset(dataset_id, name=\"raw\", split=\"train\", streaming=True)"
   ]
  },
  {
   "cell_type": "code",
   "execution_count": 8,
   "id": "a4978a4b-3e5c-4154-bcef-ecd5d5ecd68c",
   "metadata": {},
   "outputs": [],
   "source": [
    "# next(iter(top_quark_ds))"
   ]
  },
  {
   "cell_type": "code",
   "execution_count": 5,
   "id": "19f17074-c1e6-459f-a212-6f1ba16cab6d",
   "metadata": {
    "tags": [
     "hide-output"
    ]
   },
   "outputs": [
    {
     "data": {
      "text/html": [
       "<div>\n",
       "<style scoped>\n",
       "    .dataframe tbody tr th:only-of-type {\n",
       "        vertical-align: middle;\n",
       "    }\n",
       "\n",
       "    .dataframe tbody tr th {\n",
       "        vertical-align: top;\n",
       "    }\n",
       "\n",
       "    .dataframe thead th {\n",
       "        text-align: right;\n",
       "    }\n",
       "</style>\n",
       "<table border=\"1\" class=\"dataframe\">\n",
       "  <thead>\n",
       "    <tr style=\"text-align: right;\">\n",
       "      <th></th>\n",
       "      <th>E_0</th>\n",
       "      <th>PX_0</th>\n",
       "      <th>PY_0</th>\n",
       "      <th>PZ_0</th>\n",
       "      <th>E_1</th>\n",
       "      <th>PX_1</th>\n",
       "      <th>PY_1</th>\n",
       "      <th>PZ_1</th>\n",
       "      <th>E_2</th>\n",
       "      <th>PX_2</th>\n",
       "      <th>...</th>\n",
       "      <th>E_199</th>\n",
       "      <th>PX_199</th>\n",
       "      <th>PY_199</th>\n",
       "      <th>PZ_199</th>\n",
       "      <th>truthE</th>\n",
       "      <th>truthPX</th>\n",
       "      <th>truthPY</th>\n",
       "      <th>truthPZ</th>\n",
       "      <th>ttv</th>\n",
       "      <th>is_signal_new</th>\n",
       "    </tr>\n",
       "  </thead>\n",
       "  <tbody>\n",
       "    <tr>\n",
       "      <th>0</th>\n",
       "      <td>474.071136</td>\n",
       "      <td>-250.347031</td>\n",
       "      <td>-223.651962</td>\n",
       "      <td>-334.738098</td>\n",
       "      <td>103.236237</td>\n",
       "      <td>-48.866222</td>\n",
       "      <td>-56.790775</td>\n",
       "      <td>-71.025490</td>\n",
       "      <td>105.255569</td>\n",
       "      <td>-55.415001</td>\n",
       "      <td>...</td>\n",
       "      <td>0.0</td>\n",
       "      <td>0.0</td>\n",
       "      <td>0.0</td>\n",
       "      <td>0.0</td>\n",
       "      <td>0.0</td>\n",
       "      <td>0.0</td>\n",
       "      <td>0.0</td>\n",
       "      <td>0.0</td>\n",
       "      <td>0</td>\n",
       "      <td>0</td>\n",
       "    </tr>\n",
       "    <tr>\n",
       "      <th>1</th>\n",
       "      <td>150.504532</td>\n",
       "      <td>120.062393</td>\n",
       "      <td>76.852005</td>\n",
       "      <td>-48.274265</td>\n",
       "      <td>82.257057</td>\n",
       "      <td>63.801739</td>\n",
       "      <td>42.754807</td>\n",
       "      <td>-29.454842</td>\n",
       "      <td>48.573559</td>\n",
       "      <td>36.763199</td>\n",
       "      <td>...</td>\n",
       "      <td>0.0</td>\n",
       "      <td>0.0</td>\n",
       "      <td>0.0</td>\n",
       "      <td>0.0</td>\n",
       "      <td>0.0</td>\n",
       "      <td>0.0</td>\n",
       "      <td>0.0</td>\n",
       "      <td>0.0</td>\n",
       "      <td>0</td>\n",
       "      <td>0</td>\n",
       "    </tr>\n",
       "    <tr>\n",
       "      <th>2</th>\n",
       "      <td>251.645386</td>\n",
       "      <td>10.427651</td>\n",
       "      <td>-147.573746</td>\n",
       "      <td>203.564880</td>\n",
       "      <td>104.147797</td>\n",
       "      <td>10.718256</td>\n",
       "      <td>-54.497948</td>\n",
       "      <td>88.101395</td>\n",
       "      <td>78.043213</td>\n",
       "      <td>5.724113</td>\n",
       "      <td>...</td>\n",
       "      <td>0.0</td>\n",
       "      <td>0.0</td>\n",
       "      <td>0.0</td>\n",
       "      <td>0.0</td>\n",
       "      <td>0.0</td>\n",
       "      <td>0.0</td>\n",
       "      <td>0.0</td>\n",
       "      <td>0.0</td>\n",
       "      <td>0</td>\n",
       "      <td>0</td>\n",
       "    </tr>\n",
       "    <tr>\n",
       "      <th>3</th>\n",
       "      <td>451.566132</td>\n",
       "      <td>129.885437</td>\n",
       "      <td>-99.066292</td>\n",
       "      <td>-420.984100</td>\n",
       "      <td>208.410919</td>\n",
       "      <td>59.033958</td>\n",
       "      <td>-46.177090</td>\n",
       "      <td>-194.467941</td>\n",
       "      <td>190.183304</td>\n",
       "      <td>54.069675</td>\n",
       "      <td>...</td>\n",
       "      <td>0.0</td>\n",
       "      <td>0.0</td>\n",
       "      <td>0.0</td>\n",
       "      <td>0.0</td>\n",
       "      <td>0.0</td>\n",
       "      <td>0.0</td>\n",
       "      <td>0.0</td>\n",
       "      <td>0.0</td>\n",
       "      <td>0</td>\n",
       "      <td>0</td>\n",
       "    </tr>\n",
       "    <tr>\n",
       "      <th>4</th>\n",
       "      <td>399.093903</td>\n",
       "      <td>-168.432083</td>\n",
       "      <td>-47.205597</td>\n",
       "      <td>-358.717438</td>\n",
       "      <td>273.691956</td>\n",
       "      <td>-121.926941</td>\n",
       "      <td>-30.803854</td>\n",
       "      <td>-243.088928</td>\n",
       "      <td>152.837219</td>\n",
       "      <td>-44.400204</td>\n",
       "      <td>...</td>\n",
       "      <td>0.0</td>\n",
       "      <td>0.0</td>\n",
       "      <td>0.0</td>\n",
       "      <td>0.0</td>\n",
       "      <td>0.0</td>\n",
       "      <td>0.0</td>\n",
       "      <td>0.0</td>\n",
       "      <td>0.0</td>\n",
       "      <td>0</td>\n",
       "      <td>0</td>\n",
       "    </tr>\n",
       "  </tbody>\n",
       "</table>\n",
       "<p>5 rows × 806 columns</p>\n",
       "</div>"
      ],
      "text/plain": [
       "          E_0        PX_0        PY_0        PZ_0         E_1        PX_1  \\\n",
       "0  474.071136 -250.347031 -223.651962 -334.738098  103.236237  -48.866222   \n",
       "1  150.504532  120.062393   76.852005  -48.274265   82.257057   63.801739   \n",
       "2  251.645386   10.427651 -147.573746  203.564880  104.147797   10.718256   \n",
       "3  451.566132  129.885437  -99.066292 -420.984100  208.410919   59.033958   \n",
       "4  399.093903 -168.432083  -47.205597 -358.717438  273.691956 -121.926941   \n",
       "\n",
       "        PY_1        PZ_1         E_2       PX_2  ...  E_199  PX_199  PY_199  \\\n",
       "0 -56.790775  -71.025490  105.255569 -55.415001  ...    0.0     0.0     0.0   \n",
       "1  42.754807  -29.454842   48.573559  36.763199  ...    0.0     0.0     0.0   \n",
       "2 -54.497948   88.101395   78.043213   5.724113  ...    0.0     0.0     0.0   \n",
       "3 -46.177090 -194.467941  190.183304  54.069675  ...    0.0     0.0     0.0   \n",
       "4 -30.803854 -243.088928  152.837219 -44.400204  ...    0.0     0.0     0.0   \n",
       "\n",
       "   PZ_199  truthE  truthPX  truthPY  truthPZ  ttv  is_signal_new  \n",
       "0     0.0     0.0      0.0      0.0      0.0    0              0  \n",
       "1     0.0     0.0      0.0      0.0      0.0    0              0  \n",
       "2     0.0     0.0      0.0      0.0      0.0    0              0  \n",
       "3     0.0     0.0      0.0      0.0      0.0    0              0  \n",
       "4     0.0     0.0      0.0      0.0      0.0    0              0  \n",
       "\n",
       "[5 rows x 806 columns]"
      ]
     },
     "execution_count": 5,
     "metadata": {},
     "output_type": "execute_result"
    }
   ],
   "source": [
    "sample = list(top_quark_ds.take(5))\n",
    "pd.DataFrame(sample)"
   ]
  },
  {
   "cell_type": "markdown",
   "id": "3ed98137-8c5d-47da-9868-4a2d7a2cb1a1",
   "metadata": {},
   "source": [
    "As we can see, each row consists of 4-vectors $(E_i, p_{x_i}, p_{y_i}, p_{z_i})$ that correspond to the 200 particles that make up each jet. We can also see that each jet has been padded with zeros, since most won't have 200 particles. We also have an `is_signal_new` column that indicates whether the jet is a top quark signal (1) or QCD background (0)."
   ]
  },
  {
   "cell_type": "markdown",
   "id": "ca6fd041-3bd5-497a-a095-b78624766a40",
   "metadata": {},
   "source": [
    "## Jet representations"
   ]
  },
  {
   "cell_type": "markdown",
   "id": "fec0fa8c-d73b-41eb-b252-b955d21e3d8b",
   "metadata": {},
   "source": [
    "In any machine learning problem, the first step is to decide how to represent the data. For jet tagging, there have typically been several approaches:\n",
    "\n",
    "* Use the raw point cloud data.\n",
    "* Convert the data to images\n",
    "* Use theory-inspired features like N-subjettiness."
   ]
  },
  {
   "cell_type": "markdown",
   "id": "6d70b6cf-c13d-48a1-a737-dbf75a873cc4",
   "metadata": {},
   "source": [
    "## Representing jets with $N$-subjettiness"
   ]
  },
  {
   "cell_type": "code",
   "execution_count": 10,
   "id": "9f0a5389-e6f5-4e89-a2b6-e6d2b143ccf3",
   "metadata": {},
   "outputs": [
    {
     "name": "stdout",
     "output_type": "stream",
     "text": [
      "Downloading and preparing dataset top_quark_tagging/nsubjettiness to /home/lewis/.cache/huggingface/datasets/lewtun___top_quark_tagging/nsubjettiness/0.0.0/ab617914238dd6b4a8d883615322296bffb42618659b01559c43388c1b703343...\n"
     ]
    },
    {
     "data": {
      "application/vnd.jupyter.widget-view+json": {
       "model_id": "911e163272fc4a55872851f5f348ba95",
       "version_major": 2,
       "version_minor": 0
      },
      "text/plain": [
       "Downloading data files:   0%|          | 0/6 [00:00<?, ?it/s]"
      ]
     },
     "metadata": {},
     "output_type": "display_data"
    },
    {
     "data": {
      "application/vnd.jupyter.widget-view+json": {
       "model_id": "bedf6a29928d49e5b1c0d8a39b0a8062",
       "version_major": 2,
       "version_minor": 0
      },
      "text/plain": [
       "Extracting data files:   0%|          | 0/6 [00:00<?, ?it/s]"
      ]
     },
     "metadata": {},
     "output_type": "display_data"
    },
    {
     "data": {
      "application/vnd.jupyter.widget-view+json": {
       "model_id": "",
       "version_major": 2,
       "version_minor": 0
      },
      "text/plain": [
       "Generating train split: 0 examples [00:00, ? examples/s]"
      ]
     },
     "metadata": {},
     "output_type": "display_data"
    },
    {
     "data": {
      "application/vnd.jupyter.widget-view+json": {
       "model_id": "",
       "version_major": 2,
       "version_minor": 0
      },
      "text/plain": [
       "Generating validation split: 0 examples [00:00, ? examples/s]"
      ]
     },
     "metadata": {},
     "output_type": "display_data"
    },
    {
     "data": {
      "application/vnd.jupyter.widget-view+json": {
       "model_id": "",
       "version_major": 2,
       "version_minor": 0
      },
      "text/plain": [
       "Generating test split: 0 examples [00:00, ? examples/s]"
      ]
     },
     "metadata": {},
     "output_type": "display_data"
    },
    {
     "name": "stdout",
     "output_type": "stream",
     "text": [
      "Dataset top_quark_tagging downloaded and prepared to /home/lewis/.cache/huggingface/datasets/lewtun___top_quark_tagging/nsubjettiness/0.0.0/ab617914238dd6b4a8d883615322296bffb42618659b01559c43388c1b703343. Subsequent calls will reuse this data.\n"
     ]
    },
    {
     "data": {
      "application/vnd.jupyter.widget-view+json": {
       "model_id": "8b4e2d29482d4ae19bd2cfe944343e1d",
       "version_major": 2,
       "version_minor": 0
      },
      "text/plain": [
       "  0%|          | 0/3 [00:00<?, ?it/s]"
      ]
     },
     "metadata": {},
     "output_type": "display_data"
    },
    {
     "data": {
      "text/plain": [
       "DatasetDict({\n",
       "    train: Dataset({\n",
       "        features: ['tau_1_0.5', 'tau_1_1', 'tau_1_2', 'tau_2_0.5', 'tau_2_1', 'tau_2_2', 'tau_3_0.5', 'tau_3_1', 'tau_3_2', 'tau_4_0.5', 'tau_4_1', 'tau_4_2', 'is_signal_new'],\n",
       "        num_rows: 1211000\n",
       "    })\n",
       "    validation: Dataset({\n",
       "        features: ['tau_1_0.5', 'tau_1_1', 'tau_1_2', 'tau_2_0.5', 'tau_2_1', 'tau_2_2', 'tau_3_0.5', 'tau_3_1', 'tau_3_2', 'tau_4_0.5', 'tau_4_1', 'tau_4_2', 'is_signal_new'],\n",
       "        num_rows: 403000\n",
       "    })\n",
       "    test: Dataset({\n",
       "        features: ['tau_1_0.5', 'tau_1_1', 'tau_1_2', 'tau_2_0.5', 'tau_2_1', 'tau_2_2', 'tau_3_0.5', 'tau_3_1', 'tau_3_2', 'tau_4_0.5', 'tau_4_1', 'tau_4_2', 'is_signal_new'],\n",
       "        num_rows: 404000\n",
       "    })\n",
       "})"
      ]
     },
     "execution_count": 10,
     "metadata": {},
     "output_type": "execute_result"
    }
   ],
   "source": [
    "nsubjet_ds = load_dataset(dataset_id, name=\"nsubjettiness\")\n",
    "nsubjet_ds"
   ]
  },
  {
   "cell_type": "code",
   "execution_count": 11,
   "id": "aa72cf0f-af6e-45df-9614-140b08152c6a",
   "metadata": {},
   "outputs": [
    {
     "data": {
      "text/plain": [
       "{'tau_1_0.5': 543.6339721679688,\n",
       " 'tau_1_1': 0.16512173414230347,\n",
       " 'tau_1_2': 0.032661281526088715,\n",
       " 'tau_2_0.5': 0.0022617217618972063,\n",
       " 'tau_2_1': 0.048829928040504456,\n",
       " 'tau_2_2': 0.003710513934493065,\n",
       " 'tau_3_0.5': 4.390962203615345e-05,\n",
       " 'tau_3_1': 0.030994312837719917,\n",
       " 'tau_3_2': 0.0016299881972372532,\n",
       " 'tau_4_0.5': 1.1181864465470426e-05,\n",
       " 'tau_4_1': 0.001115332474000752,\n",
       " 'tau_4_2': 7.765891496092081e-06,\n",
       " 'is_signal_new': 0}"
      ]
     },
     "execution_count": 11,
     "metadata": {},
     "output_type": "execute_result"
    }
   ],
   "source": [
    "nsubjet_ds[\"train\"][0]"
   ]
  },
  {
   "cell_type": "code",
   "execution_count": 12,
   "id": "498662cc-e3fa-4244-8a5a-ddccacf5cb54",
   "metadata": {},
   "outputs": [],
   "source": [
    "train_df, test_df = nsubjet_ds[\"train\"].to_pandas(), nsubjet_ds[\"test\"].to_pandas()"
   ]
  },
  {
   "cell_type": "code",
   "execution_count": 13,
   "id": "5bb63f73-e6b7-4d85-a41d-a94dcb503921",
   "metadata": {},
   "outputs": [
    {
     "data": {
      "text/html": [
       "<div>\n",
       "<style scoped>\n",
       "    .dataframe tbody tr th:only-of-type {\n",
       "        vertical-align: middle;\n",
       "    }\n",
       "\n",
       "    .dataframe tbody tr th {\n",
       "        vertical-align: top;\n",
       "    }\n",
       "\n",
       "    .dataframe thead th {\n",
       "        text-align: right;\n",
       "    }\n",
       "</style>\n",
       "<table border=\"1\" class=\"dataframe\">\n",
       "  <thead>\n",
       "    <tr style=\"text-align: right;\">\n",
       "      <th></th>\n",
       "      <th>tau_1_0.5</th>\n",
       "      <th>tau_1_1</th>\n",
       "      <th>tau_1_2</th>\n",
       "      <th>tau_2_0.5</th>\n",
       "      <th>tau_2_1</th>\n",
       "      <th>tau_2_2</th>\n",
       "      <th>tau_3_0.5</th>\n",
       "      <th>tau_3_1</th>\n",
       "      <th>tau_3_2</th>\n",
       "      <th>tau_4_0.5</th>\n",
       "      <th>tau_4_1</th>\n",
       "      <th>tau_4_2</th>\n",
       "      <th>is_signal_new</th>\n",
       "    </tr>\n",
       "  </thead>\n",
       "  <tbody>\n",
       "    <tr>\n",
       "      <th>0</th>\n",
       "      <td>543.633972</td>\n",
       "      <td>0.165122</td>\n",
       "      <td>0.032661</td>\n",
       "      <td>0.002262</td>\n",
       "      <td>0.048830</td>\n",
       "      <td>0.003711</td>\n",
       "      <td>0.000044</td>\n",
       "      <td>0.030994</td>\n",
       "      <td>0.001630</td>\n",
       "      <td>0.000011</td>\n",
       "      <td>0.001115</td>\n",
       "      <td>0.000008</td>\n",
       "      <td>0</td>\n",
       "    </tr>\n",
       "    <tr>\n",
       "      <th>1</th>\n",
       "      <td>452.411865</td>\n",
       "      <td>0.162938</td>\n",
       "      <td>0.027598</td>\n",
       "      <td>0.000876</td>\n",
       "      <td>0.095902</td>\n",
       "      <td>0.015461</td>\n",
       "      <td>0.000506</td>\n",
       "      <td>0.079750</td>\n",
       "      <td>0.009733</td>\n",
       "      <td>0.000163</td>\n",
       "      <td>0.005454</td>\n",
       "      <td>0.000072</td>\n",
       "      <td>0</td>\n",
       "    </tr>\n",
       "    <tr>\n",
       "      <th>2</th>\n",
       "      <td>429.495270</td>\n",
       "      <td>0.244436</td>\n",
       "      <td>0.065901</td>\n",
       "      <td>0.005557</td>\n",
       "      <td>0.155202</td>\n",
       "      <td>0.038807</td>\n",
       "      <td>0.002762</td>\n",
       "      <td>0.123285</td>\n",
       "      <td>0.025339</td>\n",
       "      <td>0.001385</td>\n",
       "      <td>0.012678</td>\n",
       "      <td>0.000567</td>\n",
       "      <td>0</td>\n",
       "    </tr>\n",
       "    <tr>\n",
       "      <th>3</th>\n",
       "      <td>512.675415</td>\n",
       "      <td>0.102580</td>\n",
       "      <td>0.011369</td>\n",
       "      <td>0.000170</td>\n",
       "      <td>0.086306</td>\n",
       "      <td>0.007759</td>\n",
       "      <td>0.000071</td>\n",
       "      <td>0.068169</td>\n",
       "      <td>0.005386</td>\n",
       "      <td>0.000048</td>\n",
       "      <td>0.002376</td>\n",
       "      <td>0.000008</td>\n",
       "      <td>0</td>\n",
       "    </tr>\n",
       "    <tr>\n",
       "      <th>4</th>\n",
       "      <td>527.956848</td>\n",
       "      <td>0.407009</td>\n",
       "      <td>0.191839</td>\n",
       "      <td>0.065169</td>\n",
       "      <td>0.291460</td>\n",
       "      <td>0.105479</td>\n",
       "      <td>0.029753</td>\n",
       "      <td>0.209341</td>\n",
       "      <td>0.049187</td>\n",
       "      <td>0.004359</td>\n",
       "      <td>0.033249</td>\n",
       "      <td>0.003689</td>\n",
       "      <td>0</td>\n",
       "    </tr>\n",
       "  </tbody>\n",
       "</table>\n",
       "</div>"
      ],
      "text/plain": [
       "    tau_1_0.5   tau_1_1   tau_1_2  tau_2_0.5   tau_2_1   tau_2_2  tau_3_0.5  \\\n",
       "0  543.633972  0.165122  0.032661   0.002262  0.048830  0.003711   0.000044   \n",
       "1  452.411865  0.162938  0.027598   0.000876  0.095902  0.015461   0.000506   \n",
       "2  429.495270  0.244436  0.065901   0.005557  0.155202  0.038807   0.002762   \n",
       "3  512.675415  0.102580  0.011369   0.000170  0.086306  0.007759   0.000071   \n",
       "4  527.956848  0.407009  0.191839   0.065169  0.291460  0.105479   0.029753   \n",
       "\n",
       "    tau_3_1   tau_3_2  tau_4_0.5   tau_4_1   tau_4_2  is_signal_new  \n",
       "0  0.030994  0.001630   0.000011  0.001115  0.000008              0  \n",
       "1  0.079750  0.009733   0.000163  0.005454  0.000072              0  \n",
       "2  0.123285  0.025339   0.001385  0.012678  0.000567              0  \n",
       "3  0.068169  0.005386   0.000048  0.002376  0.000008              0  \n",
       "4  0.209341  0.049187   0.004359  0.033249  0.003689              0  "
      ]
     },
     "execution_count": 13,
     "metadata": {},
     "output_type": "execute_result"
    }
   ],
   "source": [
    "train_df.head()"
   ]
  },
  {
   "cell_type": "markdown",
   "id": "e619bf96-1e95-42ca-875a-970f6c0555ca",
   "metadata": {},
   "source": [
    "## Introducing fastai"
   ]
  },
  {
   "cell_type": "markdown",
   "id": "f820a022-ca1e-40ef-8e8b-7007347c7e2c",
   "metadata": {},
   "source": [
    "### From data to DataLoaders"
   ]
  },
  {
   "cell_type": "markdown",
   "id": "35e75770-cb9c-44f2-af57-bed0b0548b7a",
   "metadata": {},
   "source": [
    "Now that we have downloaded our first dataset, it's time to wrangle it in a format that's suitable for training neural nets. In `fastai`, this means we need to create an object called `DataLoaders`.\n",
    "\n",
    "To turn our dataset into a `DataLoaders` object we need to specify:\n",
    "\n",
    "* What type of data we are dealing with (tabular, images, etc)\n",
    "* How to get the examples\n",
    "* How to label each example\n",
    "* How to create the validation set\n",
    "\n",
    "`fastai` provides a number of _factory methods_ that are convenient ways to quickly create a `DataLoaders` object. In our case, the data is in a _tabuluar_ format, so we can use the `TabularDataLoaders.from_df()` method to do this:"
   ]
  },
  {
   "cell_type": "code",
   "execution_count": 16,
   "id": "7bbe2929-742d-42b5-902f-d8695236d9f3",
   "metadata": {},
   "outputs": [],
   "source": [
    "splits = RandomSplitter(valid_pct=0.20, seed=42)(range_of(train_df))\n",
    "\n",
    "dls = TabularDataLoaders.from_df(\n",
    "    train_df, y_names=\"is_signal_new\", bs=1000, y_block=CategoryBlock, splits=splits\n",
    ")"
   ]
  },
  {
   "cell_type": "markdown",
   "id": "189a7931-a43e-478b-b3e0-fe0db0a208bb",
   "metadata": {},
   "source": [
    "Let's unpack this code a bit. We split our dataset into training and validaiton sets using the `RandomSplitter` class:"
   ]
  },
  {
   "cell_type": "code",
   "execution_count": 17,
   "id": "e375dc61-91a0-48ca-b66a-5de770c2b9c5",
   "metadata": {},
   "outputs": [
    {
     "data": {
      "text/plain": [
       "((#968800) [56197,366255,1032564,106752,241088,829670,483972,868789,1142782,1033772...],\n",
       " (#242200) [429542,53893,1012620,698367,144414,346165,278364,990743,416382,260351...])"
      ]
     },
     "execution_count": 17,
     "metadata": {},
     "output_type": "execute_result"
    }
   ],
   "source": [
    "splits"
   ]
  },
  {
   "cell_type": "markdown",
   "id": "cfe80a12-059d-452a-a07b-17109d7bf57d",
   "metadata": {},
   "source": [
    "Explain `CategoryBlock` and `bs` and `y_names`"
   ]
  },
  {
   "cell_type": "code",
   "execution_count": 20,
   "id": "e6a95121-8dc4-4a66-a44a-04b1df40cf40",
   "metadata": {},
   "outputs": [
    {
     "data": {
      "text/html": [
       "<table border=\"1\" class=\"dataframe\">\n",
       "  <thead>\n",
       "    <tr style=\"text-align: right;\">\n",
       "      <th></th>\n",
       "      <th>tau_4_0.5</th>\n",
       "      <th>tau_4_2</th>\n",
       "      <th>tau_3_1</th>\n",
       "      <th>tau_4_1</th>\n",
       "      <th>tau_2_0.5</th>\n",
       "      <th>tau_1_2</th>\n",
       "      <th>tau_3_0.5</th>\n",
       "      <th>tau_2_1</th>\n",
       "      <th>tau_3_2</th>\n",
       "      <th>tau_1_1</th>\n",
       "      <th>tau_2_2</th>\n",
       "      <th>tau_1_0.5</th>\n",
       "      <th>is_signal_new</th>\n",
       "    </tr>\n",
       "  </thead>\n",
       "  <tbody>\n",
       "    <tr>\n",
       "      <th>0</th>\n",
       "      <td>0.002646</td>\n",
       "      <td>0.000652</td>\n",
       "      <td>0.168284</td>\n",
       "      <td>0.018302</td>\n",
       "      <td>0.089148</td>\n",
       "      <td>0.265248</td>\n",
       "      <td>0.029266</td>\n",
       "      <td>0.363591</td>\n",
       "      <td>0.033364</td>\n",
       "      <td>0.503636</td>\n",
       "      <td>0.143044</td>\n",
       "      <td>474.734161</td>\n",
       "      <td>1</td>\n",
       "    </tr>\n",
       "    <tr>\n",
       "      <th>1</th>\n",
       "      <td>0.005814</td>\n",
       "      <td>0.001478</td>\n",
       "      <td>0.219450</td>\n",
       "      <td>0.028015</td>\n",
       "      <td>0.043463</td>\n",
       "      <td>0.144448</td>\n",
       "      <td>0.012173</td>\n",
       "      <td>0.259690</td>\n",
       "      <td>0.055023</td>\n",
       "      <td>0.349679</td>\n",
       "      <td>0.080712</td>\n",
       "      <td>479.476501</td>\n",
       "      <td>1</td>\n",
       "    </tr>\n",
       "    <tr>\n",
       "      <th>2</th>\n",
       "      <td>0.000056</td>\n",
       "      <td>0.000022</td>\n",
       "      <td>0.044269</td>\n",
       "      <td>0.003159</td>\n",
       "      <td>0.005846</td>\n",
       "      <td>0.055352</td>\n",
       "      <td>0.002220</td>\n",
       "      <td>0.144247</td>\n",
       "      <td>0.003929</td>\n",
       "      <td>0.205768</td>\n",
       "      <td>0.031896</td>\n",
       "      <td>551.100342</td>\n",
       "      <td>0</td>\n",
       "    </tr>\n",
       "    <tr>\n",
       "      <th>3</th>\n",
       "      <td>0.007043</td>\n",
       "      <td>0.002760</td>\n",
       "      <td>0.219705</td>\n",
       "      <td>0.040629</td>\n",
       "      <td>0.105210</td>\n",
       "      <td>0.326334</td>\n",
       "      <td>0.042844</td>\n",
       "      <td>0.360403</td>\n",
       "      <td>0.060194</td>\n",
       "      <td>0.579568</td>\n",
       "      <td>0.165126</td>\n",
       "      <td>462.601837</td>\n",
       "      <td>1</td>\n",
       "    </tr>\n",
       "    <tr>\n",
       "      <th>4</th>\n",
       "      <td>0.007231</td>\n",
       "      <td>0.003477</td>\n",
       "      <td>0.165943</td>\n",
       "      <td>0.028515</td>\n",
       "      <td>0.021554</td>\n",
       "      <td>0.074485</td>\n",
       "      <td>0.008140</td>\n",
       "      <td>0.177030</td>\n",
       "      <td>0.040316</td>\n",
       "      <td>0.236287</td>\n",
       "      <td>0.045547</td>\n",
       "      <td>480.506561</td>\n",
       "      <td>0</td>\n",
       "    </tr>\n",
       "    <tr>\n",
       "      <th>5</th>\n",
       "      <td>0.001759</td>\n",
       "      <td>0.001229</td>\n",
       "      <td>0.171646</td>\n",
       "      <td>0.015074</td>\n",
       "      <td>0.061105</td>\n",
       "      <td>0.191326</td>\n",
       "      <td>0.010203</td>\n",
       "      <td>0.208858</td>\n",
       "      <td>0.031751</td>\n",
       "      <td>0.413293</td>\n",
       "      <td>0.056896</td>\n",
       "      <td>592.550659</td>\n",
       "      <td>1</td>\n",
       "    </tr>\n",
       "    <tr>\n",
       "      <th>6</th>\n",
       "      <td>0.000776</td>\n",
       "      <td>0.000593</td>\n",
       "      <td>0.117022</td>\n",
       "      <td>0.010112</td>\n",
       "      <td>0.053625</td>\n",
       "      <td>0.154415</td>\n",
       "      <td>0.015167</td>\n",
       "      <td>0.279056</td>\n",
       "      <td>0.018289</td>\n",
       "      <td>0.356082</td>\n",
       "      <td>0.089697</td>\n",
       "      <td>512.566528</td>\n",
       "      <td>1</td>\n",
       "    </tr>\n",
       "    <tr>\n",
       "      <th>7</th>\n",
       "      <td>0.002784</td>\n",
       "      <td>0.001207</td>\n",
       "      <td>0.140661</td>\n",
       "      <td>0.019237</td>\n",
       "      <td>0.018201</td>\n",
       "      <td>0.105460</td>\n",
       "      <td>0.009699</td>\n",
       "      <td>0.193670</td>\n",
       "      <td>0.035766</td>\n",
       "      <td>0.297140</td>\n",
       "      <td>0.066668</td>\n",
       "      <td>397.187164</td>\n",
       "      <td>0</td>\n",
       "    </tr>\n",
       "    <tr>\n",
       "      <th>8</th>\n",
       "      <td>0.000733</td>\n",
       "      <td>0.000428</td>\n",
       "      <td>0.090419</td>\n",
       "      <td>0.010936</td>\n",
       "      <td>4.803965</td>\n",
       "      <td>0.852682</td>\n",
       "      <td>4.744865</td>\n",
       "      <td>0.392383</td>\n",
       "      <td>0.013099</td>\n",
       "      <td>0.559244</td>\n",
       "      <td>0.789355</td>\n",
       "      <td>514.240356</td>\n",
       "      <td>0</td>\n",
       "    </tr>\n",
       "    <tr>\n",
       "      <th>9</th>\n",
       "      <td>0.004468</td>\n",
       "      <td>0.001086</td>\n",
       "      <td>0.153431</td>\n",
       "      <td>0.018334</td>\n",
       "      <td>0.049096</td>\n",
       "      <td>0.161745</td>\n",
       "      <td>0.029301</td>\n",
       "      <td>0.208116</td>\n",
       "      <td>0.045663</td>\n",
       "      <td>0.378922</td>\n",
       "      <td>0.092313</td>\n",
       "      <td>481.526703</td>\n",
       "      <td>0</td>\n",
       "    </tr>\n",
       "  </tbody>\n",
       "</table>"
      ],
      "text/plain": [
       "<IPython.core.display.HTML object>"
      ]
     },
     "metadata": {},
     "output_type": "display_data"
    }
   ],
   "source": [
    "dls.show_batch()"
   ]
  },
  {
   "cell_type": "markdown",
   "id": "b94bdc16-7c76-4504-8783-0802b756d85a",
   "metadata": {},
   "source": [
    "### Create a Learner"
   ]
  },
  {
   "cell_type": "code",
   "execution_count": 22,
   "id": "15a41f91-dafa-4f3c-95aa-59ca58030e3d",
   "metadata": {},
   "outputs": [],
   "source": [
    "learn = tabular_learner(dls, layers=[100, 100], metrics=[accuracy, RocAucBinary()])"
   ]
  },
  {
   "cell_type": "code",
   "execution_count": 23,
   "id": "0527cd48-316a-494f-8ff1-9efc7e153fd6",
   "metadata": {},
   "outputs": [
    {
     "data": {
      "text/html": [
       "\n",
       "<style>\n",
       "    /* Turns off some styling */\n",
       "    progress {\n",
       "        /* gets rid of default border in Firefox and Opera. */\n",
       "        border: none;\n",
       "        /* Needs to be in here for Safari polyfill so background images work as expected. */\n",
       "        background-size: auto;\n",
       "    }\n",
       "    .progress-bar-interrupted, .progress-bar-interrupted::-webkit-progress-bar {\n",
       "        background: #F44336;\n",
       "    }\n",
       "</style>\n"
      ],
      "text/plain": [
       "<IPython.core.display.HTML object>"
      ]
     },
     "metadata": {},
     "output_type": "display_data"
    },
    {
     "data": {
      "text/html": [],
      "text/plain": [
       "<IPython.core.display.HTML object>"
      ]
     },
     "metadata": {},
     "output_type": "display_data"
    },
    {
     "data": {
      "text/plain": [
       "TabularModel (Input shape: 1000 x 0)\n",
       "============================================================================\n",
       "Layer (type)         Output Shape         Param #    Trainable \n",
       "============================================================================\n",
       "                     1000 x 12           \n",
       "BatchNorm1d                               24         True      \n",
       "____________________________________________________________________________\n",
       "                     1000 x 100          \n",
       "Linear                                    1200       True      \n",
       "ReLU                                                           \n",
       "BatchNorm1d                               200        True      \n",
       "Linear                                    10000      True      \n",
       "ReLU                                                           \n",
       "BatchNorm1d                               200        True      \n",
       "____________________________________________________________________________\n",
       "                     1000 x 2            \n",
       "Linear                                    202        True      \n",
       "____________________________________________________________________________\n",
       "\n",
       "Total params: 11,826\n",
       "Total trainable params: 11,826\n",
       "Total non-trainable params: 0\n",
       "\n",
       "Optimizer used: <function Adam at 0x7ff6abe9e3a0>\n",
       "Loss function: FlattenedLoss of CrossEntropyLoss()\n",
       "\n",
       "Callbacks:\n",
       "  - TrainEvalCallback\n",
       "  - Recorder\n",
       "  - ProgressCallback"
      ]
     },
     "execution_count": 23,
     "metadata": {},
     "output_type": "execute_result"
    }
   ],
   "source": [
    "learn.summary()"
   ]
  },
  {
   "cell_type": "markdown",
   "id": "5a822240-e8c5-4560-88e5-cccae83d7a9a",
   "metadata": {},
   "source": [
    "### Find a good learning rate"
   ]
  },
  {
   "cell_type": "code",
   "execution_count": 24,
   "id": "f1cd3ea0-df09-43e0-82a0-1db33bdc29a4",
   "metadata": {},
   "outputs": [
    {
     "data": {
      "text/html": [
       "\n",
       "<style>\n",
       "    /* Turns off some styling */\n",
       "    progress {\n",
       "        /* gets rid of default border in Firefox and Opera. */\n",
       "        border: none;\n",
       "        /* Needs to be in here for Safari polyfill so background images work as expected. */\n",
       "        background-size: auto;\n",
       "    }\n",
       "    .progress-bar-interrupted, .progress-bar-interrupted::-webkit-progress-bar {\n",
       "        background: #F44336;\n",
       "    }\n",
       "</style>\n"
      ],
      "text/plain": [
       "<IPython.core.display.HTML object>"
      ]
     },
     "metadata": {},
     "output_type": "display_data"
    },
    {
     "data": {
      "text/html": [],
      "text/plain": [
       "<IPython.core.display.HTML object>"
      ]
     },
     "metadata": {},
     "output_type": "display_data"
    },
    {
     "data": {
      "text/plain": [
       "SuggestedLRs(valley=0.001737800776027143)"
      ]
     },
     "execution_count": 24,
     "metadata": {},
     "output_type": "execute_result"
    },
    {
     "data": {
      "image/png": "[encoded data removed]",
      "text/plain": [
       "<Figure size 432x288 with 1 Axes>"
      ]
     },
     "metadata": {
      "needs_background": "light"
     },
     "output_type": "display_data"
    }
   ],
   "source": [
    "learn.lr_find()"
   ]
  },
  {
   "cell_type": "markdown",
   "id": "766ad957-ff12-4cd5-b2b8-6aa35c9b9450",
   "metadata": {},
   "source": [
    "### Train your model"
   ]
  },
  {
   "cell_type": "code",
   "execution_count": 25,
   "id": "55669c54-12f5-4a76-a4b6-88c31fc6895a",
   "metadata": {},
   "outputs": [
    {
     "data": {
      "text/html": [
       "\n",
       "<style>\n",
       "    /* Turns off some styling */\n",
       "    progress {\n",
       "        /* gets rid of default border in Firefox and Opera. */\n",
       "        border: none;\n",
       "        /* Needs to be in here for Safari polyfill so background images work as expected. */\n",
       "        background-size: auto;\n",
       "    }\n",
       "    .progress-bar-interrupted, .progress-bar-interrupted::-webkit-progress-bar {\n",
       "        background: #F44336;\n",
       "    }\n",
       "</style>\n"
      ],
      "text/plain": [
       "<IPython.core.display.HTML object>"
      ]
     },
     "metadata": {},
     "output_type": "display_data"
    },
    {
     "data": {
      "text/html": [
       "<table border=\"1\" class=\"dataframe\">\n",
       "  <thead>\n",
       "    <tr style=\"text-align: left;\">\n",
       "      <th>epoch</th>\n",
       "      <th>train_loss</th>\n",
       "      <th>valid_loss</th>\n",
       "      <th>accuracy</th>\n",
       "      <th>roc_auc_score</th>\n",
       "      <th>time</th>\n",
       "    </tr>\n",
       "  </thead>\n",
       "  <tbody>\n",
       "    <tr>\n",
       "      <td>0</td>\n",
       "      <td>0.256953</td>\n",
       "      <td>0.257858</td>\n",
       "      <td>0.889694</td>\n",
       "      <td>0.958573</td>\n",
       "      <td>00:08</td>\n",
       "    </tr>\n",
       "    <tr>\n",
       "      <td>1</td>\n",
       "      <td>0.241160</td>\n",
       "      <td>0.252786</td>\n",
       "      <td>0.890124</td>\n",
       "      <td>0.962595</td>\n",
       "      <td>00:08</td>\n",
       "    </tr>\n",
       "    <tr>\n",
       "      <td>2</td>\n",
       "      <td>0.234253</td>\n",
       "      <td>0.249138</td>\n",
       "      <td>0.891065</td>\n",
       "      <td>0.963505</td>\n",
       "      <td>00:08</td>\n",
       "    </tr>\n",
       "  </tbody>\n",
       "</table>"
      ],
      "text/plain": [
       "<IPython.core.display.HTML object>"
      ]
     },
     "metadata": {},
     "output_type": "display_data"
    }
   ],
   "source": [
    "learn.fit_one_cycle(3, lr_max=1e-3)"
   ]
  },
  {
   "cell_type": "code",
   "execution_count": 26,
   "id": "4949435c-9b95-4bad-8c9f-bfc2f1306494",
   "metadata": {},
   "outputs": [
    {
     "data": {
      "text/html": [
       "\n",
       "<style>\n",
       "    /* Turns off some styling */\n",
       "    progress {\n",
       "        /* gets rid of default border in Firefox and Opera. */\n",
       "        border: none;\n",
       "        /* Needs to be in here for Safari polyfill so background images work as expected. */\n",
       "        background-size: auto;\n",
       "    }\n",
       "    .progress-bar-interrupted, .progress-bar-interrupted::-webkit-progress-bar {\n",
       "        background: #F44336;\n",
       "    }\n",
       "</style>\n"
      ],
      "text/plain": [
       "<IPython.core.display.HTML object>"
      ]
     },
     "metadata": {},
     "output_type": "display_data"
    },
    {
     "data": {
      "text/html": [],
      "text/plain": [
       "<IPython.core.display.HTML object>"
      ]
     },
     "metadata": {},
     "output_type": "display_data"
    },
    {
     "data": {
      "text/html": [
       "<table border=\"1\" class=\"dataframe\">\n",
       "  <thead>\n",
       "    <tr style=\"text-align: right;\">\n",
       "      <th></th>\n",
       "      <th>tau_1_2</th>\n",
       "      <th>tau_4_0.5</th>\n",
       "      <th>tau_1_1</th>\n",
       "      <th>tau_2_0.5</th>\n",
       "      <th>tau_3_2</th>\n",
       "      <th>tau_3_0.5</th>\n",
       "      <th>tau_2_1</th>\n",
       "      <th>tau_4_1</th>\n",
       "      <th>tau_1_0.5</th>\n",
       "      <th>tau_4_2</th>\n",
       "      <th>tau_2_2</th>\n",
       "      <th>tau_3_1</th>\n",
       "      <th>is_signal_new</th>\n",
       "      <th>is_signal_new_pred</th>\n",
       "    </tr>\n",
       "  </thead>\n",
       "  <tbody>\n",
       "    <tr>\n",
       "      <th>0</th>\n",
       "      <td>0.568064</td>\n",
       "      <td>0.001906</td>\n",
       "      <td>0.547532</td>\n",
       "      <td>2.448554</td>\n",
       "      <td>0.025503</td>\n",
       "      <td>2.380191</td>\n",
       "      <td>0.311953</td>\n",
       "      <td>0.017975</td>\n",
       "      <td>497.404083</td>\n",
       "      <td>0.001171</td>\n",
       "      <td>0.449487</td>\n",
       "      <td>0.127556</td>\n",
       "      <td>1.0</td>\n",
       "      <td>1.0</td>\n",
       "    </tr>\n",
       "    <tr>\n",
       "      <th>1</th>\n",
       "      <td>0.240000</td>\n",
       "      <td>0.001116</td>\n",
       "      <td>0.483712</td>\n",
       "      <td>0.066756</td>\n",
       "      <td>0.031389</td>\n",
       "      <td>0.028697</td>\n",
       "      <td>0.314486</td>\n",
       "      <td>0.020007</td>\n",
       "      <td>516.652893</td>\n",
       "      <td>0.000713</td>\n",
       "      <td>0.122349</td>\n",
       "      <td>0.173533</td>\n",
       "      <td>1.0</td>\n",
       "      <td>1.0</td>\n",
       "    </tr>\n",
       "    <tr>\n",
       "      <th>2</th>\n",
       "      <td>0.222677</td>\n",
       "      <td>0.006287</td>\n",
       "      <td>0.447833</td>\n",
       "      <td>0.073248</td>\n",
       "      <td>0.069243</td>\n",
       "      <td>0.015953</td>\n",
       "      <td>0.331112</td>\n",
       "      <td>0.041239</td>\n",
       "      <td>419.849243</td>\n",
       "      <td>0.002643</td>\n",
       "      <td>0.115739</td>\n",
       "      <td>0.253424</td>\n",
       "      <td>1.0</td>\n",
       "      <td>1.0</td>\n",
       "    </tr>\n",
       "    <tr>\n",
       "      <th>3</th>\n",
       "      <td>0.156302</td>\n",
       "      <td>0.010616</td>\n",
       "      <td>0.382011</td>\n",
       "      <td>0.034030</td>\n",
       "      <td>0.061303</td>\n",
       "      <td>0.013037</td>\n",
       "      <td>0.253378</td>\n",
       "      <td>0.044847</td>\n",
       "      <td>460.127411</td>\n",
       "      <td>0.009875</td>\n",
       "      <td>0.074477</td>\n",
       "      <td>0.227193</td>\n",
       "      <td>1.0</td>\n",
       "      <td>1.0</td>\n",
       "    </tr>\n",
       "    <tr>\n",
       "      <th>4</th>\n",
       "      <td>0.182249</td>\n",
       "      <td>0.002375</td>\n",
       "      <td>0.391135</td>\n",
       "      <td>0.061537</td>\n",
       "      <td>0.035261</td>\n",
       "      <td>0.021044</td>\n",
       "      <td>0.288826</td>\n",
       "      <td>0.026862</td>\n",
       "      <td>432.314941</td>\n",
       "      <td>0.001465</td>\n",
       "      <td>0.101581</td>\n",
       "      <td>0.165579</td>\n",
       "      <td>1.0</td>\n",
       "      <td>1.0</td>\n",
       "    </tr>\n",
       "    <tr>\n",
       "      <th>5</th>\n",
       "      <td>0.177731</td>\n",
       "      <td>0.002577</td>\n",
       "      <td>0.396802</td>\n",
       "      <td>0.054459</td>\n",
       "      <td>0.029761</td>\n",
       "      <td>0.036373</td>\n",
       "      <td>0.334377</td>\n",
       "      <td>0.017925</td>\n",
       "      <td>511.252228</td>\n",
       "      <td>0.001663</td>\n",
       "      <td>0.129177</td>\n",
       "      <td>0.133739</td>\n",
       "      <td>1.0</td>\n",
       "      <td>1.0</td>\n",
       "    </tr>\n",
       "    <tr>\n",
       "      <th>6</th>\n",
       "      <td>0.089279</td>\n",
       "      <td>0.005871</td>\n",
       "      <td>0.263357</td>\n",
       "      <td>0.022551</td>\n",
       "      <td>0.038737</td>\n",
       "      <td>0.014446</td>\n",
       "      <td>0.236617</td>\n",
       "      <td>0.015613</td>\n",
       "      <td>528.263306</td>\n",
       "      <td>0.000723</td>\n",
       "      <td>0.073212</td>\n",
       "      <td>0.150028</td>\n",
       "      <td>1.0</td>\n",
       "      <td>0.0</td>\n",
       "    </tr>\n",
       "    <tr>\n",
       "      <th>7</th>\n",
       "      <td>0.372707</td>\n",
       "      <td>0.006909</td>\n",
       "      <td>0.590176</td>\n",
       "      <td>0.172101</td>\n",
       "      <td>0.056810</td>\n",
       "      <td>0.024048</td>\n",
       "      <td>0.311812</td>\n",
       "      <td>0.036499</td>\n",
       "      <td>467.772858</td>\n",
       "      <td>0.002317</td>\n",
       "      <td>0.121685</td>\n",
       "      <td>0.208302</td>\n",
       "      <td>1.0</td>\n",
       "      <td>1.0</td>\n",
       "    </tr>\n",
       "    <tr>\n",
       "      <th>8</th>\n",
       "      <td>0.027472</td>\n",
       "      <td>0.000350</td>\n",
       "      <td>0.157974</td>\n",
       "      <td>0.001132</td>\n",
       "      <td>0.010036</td>\n",
       "      <td>0.000452</td>\n",
       "      <td>0.108214</td>\n",
       "      <td>0.005730</td>\n",
       "      <td>513.965271</td>\n",
       "      <td>0.000091</td>\n",
       "      <td>0.013685</td>\n",
       "      <td>0.089757</td>\n",
       "      <td>0.0</td>\n",
       "      <td>0.0</td>\n",
       "    </tr>\n",
       "  </tbody>\n",
       "</table>"
      ],
      "text/plain": [
       "<IPython.core.display.HTML object>"
      ]
     },
     "metadata": {},
     "output_type": "display_data"
    }
   ],
   "source": [
    "learn.show_results()"
   ]
  },
  {
   "cell_type": "markdown",
   "id": "27e1675a-52a4-4fe4-b8c7-4fb5bb31f57b",
   "metadata": {},
   "source": [
    "### Evaluate your model"
   ]
  },
  {
   "cell_type": "code",
   "execution_count": 27,
   "id": "a5897626-3d08-41b5-a741-837a36d4d59b",
   "metadata": {},
   "outputs": [],
   "source": [
    "test_dl = learn.dls.test_dl(test_df)"
   ]
  },
  {
   "cell_type": "code",
   "execution_count": 28,
   "id": "86fa05c6-9a79-4846-b84c-f64c358e56ed",
   "metadata": {},
   "outputs": [
    {
     "data": {
      "text/html": [
       "\n",
       "<style>\n",
       "    /* Turns off some styling */\n",
       "    progress {\n",
       "        /* gets rid of default border in Firefox and Opera. */\n",
       "        border: none;\n",
       "        /* Needs to be in here for Safari polyfill so background images work as expected. */\n",
       "        background-size: auto;\n",
       "    }\n",
       "    .progress-bar-interrupted, .progress-bar-interrupted::-webkit-progress-bar {\n",
       "        background: #F44336;\n",
       "    }\n",
       "</style>\n"
      ],
      "text/plain": [
       "<IPython.core.display.HTML object>"
      ]
     },
     "metadata": {},
     "output_type": "display_data"
    },
    {
     "data": {
      "text/html": [],
      "text/plain": [
       "<IPython.core.display.HTML object>"
      ]
     },
     "metadata": {},
     "output_type": "display_data"
    }
   ],
   "source": [
    "preds = learn.get_preds(dl=test_dl)"
   ]
  },
  {
   "cell_type": "code",
   "execution_count": 29,
   "id": "5f800978-a953-45bb-9169-8c60d914add1",
   "metadata": {},
   "outputs": [],
   "source": [
    "rc = roc_curve(test_df[\"is_signal_new\"], preds[0][:, 1])"
   ]
  },
  {
   "cell_type": "code",
   "execution_count": 30,
   "id": "97aca712-1e24-4e86-a8ef-29e2ed0d4929",
   "metadata": {},
   "outputs": [
    {
     "data": {
      "text/plain": [
       "3"
      ]
     },
     "execution_count": 30,
     "metadata": {},
     "output_type": "execute_result"
    }
   ],
   "source": [
    "len(rc)"
   ]
  },
  {
   "cell_type": "code",
   "execution_count": 31,
   "id": "b72d878e-dc86-4161-8060-d934601eefe4",
   "metadata": {},
   "outputs": [
    {
     "data": {
      "text/plain": [
       "(82684,)"
      ]
     },
     "execution_count": 31,
     "metadata": {},
     "output_type": "execute_result"
    }
   ],
   "source": [
    "rc[0].shape"
   ]
  },
  {
   "cell_type": "code",
   "execution_count": 32,
   "id": "7ee4136d-8e06-471c-9b01-0eeb16de0767",
   "metadata": {},
   "outputs": [
    {
     "data": {
      "text/plain": [
       "(82684,)"
      ]
     },
     "execution_count": 32,
     "metadata": {},
     "output_type": "execute_result"
    }
   ],
   "source": [
    "rc[1].shape"
   ]
  },
  {
   "cell_type": "code",
   "execution_count": 33,
   "id": "15ea74ac-c00a-4e16-97d8-5cbecc7fc2bb",
   "metadata": {},
   "outputs": [
    {
     "data": {
      "text/plain": [
       "(82684,)"
      ]
     },
     "execution_count": 33,
     "metadata": {},
     "output_type": "execute_result"
    }
   ],
   "source": [
    "rc[2].shape"
   ]
  },
  {
   "cell_type": "code",
   "execution_count": 34,
   "id": "b7d9ee28-086c-47e4-a6bd-ebe631762ae5",
   "metadata": {},
   "outputs": [
    {
     "data": {
      "text/plain": [
       "(0.0, 1.0)"
      ]
     },
     "execution_count": 34,
     "metadata": {},
     "output_type": "execute_result"
    },
    {
     "data": {
      "image/png": "[encoded data removed]",
      "text/plain": [
       "<Figure size 432x288 with 1 Axes>"
      ]
     },
     "metadata": {
      "needs_background": "light"
     },
     "output_type": "display_data"
    }
   ],
   "source": [
    "plt.plot(rc[1], 1 - rc[0], \"-\")\n",
    "plt.xlim(0, 1)\n",
    "plt.ylim(0, 1)"
   ]
  },
  {
   "cell_type": "code",
   "execution_count": 35,
   "id": "a9f5802b-afd7-4380-bd4a-ec262fbde1e1",
   "metadata": {},
   "outputs": [],
   "source": [
    "fpr_n, tpr_n, thresholds_n = roc_curve(\n",
    "    y_true=test_df[\"is_signal_new\"], y_score=preds[0][:, 1]\n",
    ")"
   ]
  },
  {
   "cell_type": "code",
   "execution_count": 50,
   "id": "6278fd5e-9ddf-4cd6-b270-7698f2aa3406",
   "metadata": {},
   "outputs": [
    {
     "name": "stdout",
     "output_type": "stream",
     "text": [
      "The area under the curve is 0.963\n",
      "The backround rejection at signal efficieny 0.3 is 261.547\n"
     ]
    }
   ],
   "source": [
    "auc_n = auc(fpr_n, tpr_n)\n",
    "\n",
    "background_eff_n = interp1d(tpr_n, fpr_n)\n",
    "working_point_n = background_eff_n(0.3)\n",
    "\n",
    "print(f\"The area under the curve is {auc_n:0.3f}\")\n",
    "print(f\"The backround rejection at signal efficieny 0.3 is {1/working_point_n:0.3f}\")"
   ]
  },
  {
   "cell_type": "code",
   "execution_count": 55,
   "id": "acd08062-5d3b-4edd-ae23-649c73102b93",
   "metadata": {},
   "outputs": [
    {
     "data": {
      "text/plain": [
       "1.0"
      ]
     },
     "execution_count": 55,
     "metadata": {},
     "output_type": "execute_result"
    }
   ],
   "source": [
    "1 / background_eff_n(1.0)"
   ]
  },
  {
   "cell_type": "code",
   "execution_count": 60,
   "id": "b6b2044e-7409-4bd1-8868-00c8202259ab",
   "metadata": {},
   "outputs": [
    {
     "name": "stderr",
     "output_type": "stream",
     "text": [
      "/tmp/ipykernel_15495/2989435873.py:6: RuntimeWarning: divide by zero encountered in true_divide\n",
      "  rejections.append(1/working_point_n)\n"
     ]
    }
   ],
   "source": [
    "rejections = []\n",
    "idxs = []\n",
    "\n",
    "for i in range(0, 101):\n",
    "    working_point_n = background_eff_n(i / 100.0)\n",
    "    rejections.append(1 / working_point_n)\n",
    "    idxs.append(i / 100.0)"
   ]
  },
  {
   "cell_type": "code",
   "execution_count": 63,
   "id": "fc84d119-a98f-40f3-a1a6-1433529b8050",
   "metadata": {},
   "outputs": [
    {
     "data": {
      "text/plain": [
       "[<matplotlib.lines.Line2D at 0x7ff674addb80>]"
      ]
     },
     "execution_count": 63,
     "metadata": {},
     "output_type": "execute_result"
    },
    {
     "data": {
      "image/png": "[encoded data removed]",
      "text/plain": [
       "<Figure size 432x288 with 1 Axes>"
      ]
     },
     "metadata": {
      "needs_background": "light"
     },
     "output_type": "display_data"
    }
   ],
   "source": [
    "plt.plot(idxs, rejections, \"-\")\n",
    "# plt.ylim(0,1000)"
   ]
  }
 ],
 "metadata": {
  "kernelspec": {
   "display_name": "Python 3 (ipykernel)",
   "language": "python",
   "name": "python3"
  },
  "language_info": {
   "codemirror_mode": {
    "name": "ipython",
    "version": 3
   },
   "file_extension": ".py",
   "mimetype": "text/x-python",
   "name": "python",
   "nbconvert_exporter": "python",
   "pygments_lexer": "ipython3",
   "version": "3.9.11"
  }
 },
 "nbformat": 4,
 "nbformat_minor": 5
}
