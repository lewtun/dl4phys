{
 "cells": [
  {
   "cell_type": "code",
   "execution_count": null,
   "id": "8f653357",
   "metadata": {},
   "outputs": [],
   "source": [
    "%load_ext autoreload\n",
    "%autoreload 2"
   ]
  },
  {
   "cell_type": "markdown",
   "id": "a51f252e",
   "metadata": {},
   "source": [
    "## Imports"
   ]
  },
  {
   "cell_type": "code",
   "execution_count": null,
   "id": "18269824",
   "metadata": {},
   "outputs": [],
   "source": [
    "import numpy as np\n",
    "import pandas as pd\n",
    "from datasets import Dataset\n",
    "from pytorch_lightning import LightningModule, Trainer\n",
    "import torch\n",
    "from torch.utils.data import DataLoader, TensorDataset\n",
    "import torch.nn.functional as F\n",
    "import torch.nn as nn"
   ]
  },
  {
   "cell_type": "markdown",
   "id": "a860f138",
   "metadata": {},
   "source": [
    "## Load data"
   ]
  },
  {
   "cell_type": "code",
   "execution_count": null,
   "id": "ab3efcd6",
   "metadata": {},
   "outputs": [],
   "source": [
    "EVENTS_PATH = \"data/QG_nsubs.npz?dl=1\"\n",
    "\n",
    "with np.load(EVENTS_PATH) as f:\n",
    "    X, y = f['X'], f['y']"
   ]
  },
  {
   "cell_type": "code",
   "execution_count": null,
   "id": "748da1bb",
   "metadata": {},
   "outputs": [
    {
     "data": {
      "text/plain": [
       "((100000, 45), (100000,))"
      ]
     },
     "execution_count": null,
     "metadata": {},
     "output_type": "execute_result"
    }
   ],
   "source": [
    "X.shape, y.shape"
   ]
  },
  {
   "cell_type": "code",
   "execution_count": null,
   "id": "a6fbf761",
   "metadata": {},
   "outputs": [
    {
     "data": {
      "text/plain": [
       "(100000,)"
      ]
     },
     "execution_count": null,
     "metadata": {},
     "output_type": "execute_result"
    }
   ],
   "source": [
    "X[:,0].shape"
   ]
  },
  {
   "cell_type": "code",
   "execution_count": null,
   "id": "f23f070d",
   "metadata": {},
   "outputs": [
    {
     "data": {
      "text/plain": [
       "0.0"
      ]
     },
     "execution_count": null,
     "metadata": {},
     "output_type": "execute_result"
    }
   ],
   "source": [
    "y[0]"
   ]
  },
  {
   "cell_type": "code",
   "execution_count": null,
   "id": "9211bd5c",
   "metadata": {},
   "outputs": [
    {
     "data": {
      "text/plain": [
       "array([0.58288529, 0.35983362, 0.15946587, 0.28643438, 0.10931263,\n",
       "       0.03136041, 0.29199412, 0.10462717, 0.02529765, 0.26962497,\n",
       "       0.08968088, 0.0185029 , 0.26170934, 0.08504337, 0.01718934,\n",
       "       0.23999388, 0.07369913, 0.01286971, 0.24165983, 0.07294354,\n",
       "       0.01229564, 0.21727208, 0.06340214, 0.01102354, 0.20602818,\n",
       "       0.05551519, 0.00822112, 0.21182996, 0.05651417, 0.00794706,\n",
       "       0.20925511, 0.05459273, 0.00716666, 0.19743325, 0.04912426,\n",
       "       0.00563262, 0.19182676, 0.0455615 , 0.00474475, 0.18342361,\n",
       "       0.04259337, 0.00448976, 0.17466835, 0.03901473, 0.00406034])"
      ]
     },
     "execution_count": null,
     "metadata": {},
     "output_type": "execute_result"
    }
   ],
   "source": [
    "X[0]"
   ]
  },
  {
   "cell_type": "code",
   "execution_count": null,
   "id": "89ea8e88",
   "metadata": {},
   "outputs": [
    {
     "data": {
      "text/plain": [
       "array([0., 1.])"
      ]
     },
     "execution_count": null,
     "metadata": {},
     "output_type": "execute_result"
    }
   ],
   "source": [
    "np.unique(y)"
   ]
  },
  {
   "cell_type": "code",
   "execution_count": null,
   "id": "7bf9b690",
   "metadata": {},
   "outputs": [],
   "source": [
    "data = {f\"feature_{idx}\":X[:, idx] for idx in range(45)}"
   ]
  },
  {
   "cell_type": "code",
   "execution_count": null,
   "id": "128c0d7f",
   "metadata": {},
   "outputs": [],
   "source": [
    "data[\"label\"] = y"
   ]
  },
  {
   "cell_type": "code",
   "execution_count": null,
   "id": "bac64c63",
   "metadata": {},
   "outputs": [
    {
     "data": {
      "text/html": [
       "<div>\n",
       "<style scoped>\n",
       "    .dataframe tbody tr th:only-of-type {\n",
       "        vertical-align: middle;\n",
       "    }\n",
       "\n",
       "    .dataframe tbody tr th {\n",
       "        vertical-align: top;\n",
       "    }\n",
       "\n",
       "    .dataframe thead th {\n",
       "        text-align: right;\n",
       "    }\n",
       "</style>\n",
       "<table border=\"1\" class=\"dataframe\">\n",
       "  <thead>\n",
       "    <tr style=\"text-align: right;\">\n",
       "      <th></th>\n",
       "      <th>feature_0</th>\n",
       "      <th>feature_1</th>\n",
       "      <th>feature_2</th>\n",
       "      <th>feature_3</th>\n",
       "      <th>feature_4</th>\n",
       "      <th>feature_5</th>\n",
       "      <th>feature_6</th>\n",
       "      <th>feature_7</th>\n",
       "      <th>feature_8</th>\n",
       "      <th>feature_9</th>\n",
       "      <th>...</th>\n",
       "      <th>feature_36</th>\n",
       "      <th>feature_37</th>\n",
       "      <th>feature_38</th>\n",
       "      <th>feature_39</th>\n",
       "      <th>feature_40</th>\n",
       "      <th>feature_41</th>\n",
       "      <th>feature_42</th>\n",
       "      <th>feature_43</th>\n",
       "      <th>feature_44</th>\n",
       "      <th>label</th>\n",
       "    </tr>\n",
       "  </thead>\n",
       "  <tbody>\n",
       "    <tr>\n",
       "      <th>0</th>\n",
       "      <td>0.582885</td>\n",
       "      <td>0.359834</td>\n",
       "      <td>0.159466</td>\n",
       "      <td>0.286434</td>\n",
       "      <td>0.109313</td>\n",
       "      <td>0.031360</td>\n",
       "      <td>0.291994</td>\n",
       "      <td>0.104627</td>\n",
       "      <td>0.025298</td>\n",
       "      <td>0.269625</td>\n",
       "      <td>...</td>\n",
       "      <td>0.191827</td>\n",
       "      <td>0.045562</td>\n",
       "      <td>0.004745</td>\n",
       "      <td>0.183424</td>\n",
       "      <td>0.042593</td>\n",
       "      <td>0.004490</td>\n",
       "      <td>0.174668</td>\n",
       "      <td>0.039015</td>\n",
       "      <td>0.004060</td>\n",
       "      <td>0.0</td>\n",
       "    </tr>\n",
       "    <tr>\n",
       "      <th>1</th>\n",
       "      <td>0.260756</td>\n",
       "      <td>0.084642</td>\n",
       "      <td>0.019812</td>\n",
       "      <td>0.240676</td>\n",
       "      <td>0.073122</td>\n",
       "      <td>0.015786</td>\n",
       "      <td>0.225725</td>\n",
       "      <td>0.063897</td>\n",
       "      <td>0.012387</td>\n",
       "      <td>0.215447</td>\n",
       "      <td>...</td>\n",
       "      <td>0.126111</td>\n",
       "      <td>0.021134</td>\n",
       "      <td>0.002316</td>\n",
       "      <td>0.122458</td>\n",
       "      <td>0.018581</td>\n",
       "      <td>0.001079</td>\n",
       "      <td>0.117416</td>\n",
       "      <td>0.017345</td>\n",
       "      <td>0.000992</td>\n",
       "      <td>0.0</td>\n",
       "    </tr>\n",
       "    <tr>\n",
       "      <th>2</th>\n",
       "      <td>0.564012</td>\n",
       "      <td>0.330684</td>\n",
       "      <td>0.127177</td>\n",
       "      <td>0.292710</td>\n",
       "      <td>0.110119</td>\n",
       "      <td>0.024787</td>\n",
       "      <td>0.258846</td>\n",
       "      <td>0.086578</td>\n",
       "      <td>0.017215</td>\n",
       "      <td>0.240176</td>\n",
       "      <td>...</td>\n",
       "      <td>0.150572</td>\n",
       "      <td>0.034919</td>\n",
       "      <td>0.003328</td>\n",
       "      <td>0.147431</td>\n",
       "      <td>0.032971</td>\n",
       "      <td>0.003017</td>\n",
       "      <td>0.143079</td>\n",
       "      <td>0.031147</td>\n",
       "      <td>0.002829</td>\n",
       "      <td>0.0</td>\n",
       "    </tr>\n",
       "    <tr>\n",
       "      <th>3</th>\n",
       "      <td>0.395935</td>\n",
       "      <td>0.170801</td>\n",
       "      <td>0.042085</td>\n",
       "      <td>0.344588</td>\n",
       "      <td>0.130606</td>\n",
       "      <td>0.026208</td>\n",
       "      <td>0.271026</td>\n",
       "      <td>0.090233</td>\n",
       "      <td>0.017891</td>\n",
       "      <td>0.243731</td>\n",
       "      <td>...</td>\n",
       "      <td>0.164546</td>\n",
       "      <td>0.034850</td>\n",
       "      <td>0.004036</td>\n",
       "      <td>0.151774</td>\n",
       "      <td>0.029703</td>\n",
       "      <td>0.002897</td>\n",
       "      <td>0.149630</td>\n",
       "      <td>0.028986</td>\n",
       "      <td>0.002850</td>\n",
       "      <td>0.0</td>\n",
       "    </tr>\n",
       "    <tr>\n",
       "      <th>4</th>\n",
       "      <td>0.196304</td>\n",
       "      <td>0.051556</td>\n",
       "      <td>0.011701</td>\n",
       "      <td>0.192528</td>\n",
       "      <td>0.048644</td>\n",
       "      <td>0.010743</td>\n",
       "      <td>0.178389</td>\n",
       "      <td>0.043404</td>\n",
       "      <td>0.009060</td>\n",
       "      <td>0.172218</td>\n",
       "      <td>...</td>\n",
       "      <td>0.084400</td>\n",
       "      <td>0.012952</td>\n",
       "      <td>0.001005</td>\n",
       "      <td>0.078391</td>\n",
       "      <td>0.011012</td>\n",
       "      <td>0.000815</td>\n",
       "      <td>0.076849</td>\n",
       "      <td>0.010029</td>\n",
       "      <td>0.000572</td>\n",
       "      <td>0.0</td>\n",
       "    </tr>\n",
       "  </tbody>\n",
       "</table>\n",
       "<p>5 rows × 46 columns</p>\n",
       "</div>"
      ],
      "text/plain": [
       "   feature_0  feature_1  feature_2  feature_3  feature_4  feature_5  \\\n",
       "0   0.582885   0.359834   0.159466   0.286434   0.109313   0.031360   \n",
       "1   0.260756   0.084642   0.019812   0.240676   0.073122   0.015786   \n",
       "2   0.564012   0.330684   0.127177   0.292710   0.110119   0.024787   \n",
       "3   0.395935   0.170801   0.042085   0.344588   0.130606   0.026208   \n",
       "4   0.196304   0.051556   0.011701   0.192528   0.048644   0.010743   \n",
       "\n",
       "   feature_6  feature_7  feature_8  feature_9  ...  feature_36  feature_37  \\\n",
       "0   0.291994   0.104627   0.025298   0.269625  ...    0.191827    0.045562   \n",
       "1   0.225725   0.063897   0.012387   0.215447  ...    0.126111    0.021134   \n",
       "2   0.258846   0.086578   0.017215   0.240176  ...    0.150572    0.034919   \n",
       "3   0.271026   0.090233   0.017891   0.243731  ...    0.164546    0.034850   \n",
       "4   0.178389   0.043404   0.009060   0.172218  ...    0.084400    0.012952   \n",
       "\n",
       "   feature_38  feature_39  feature_40  feature_41  feature_42  feature_43  \\\n",
       "0    0.004745    0.183424    0.042593    0.004490    0.174668    0.039015   \n",
       "1    0.002316    0.122458    0.018581    0.001079    0.117416    0.017345   \n",
       "2    0.003328    0.147431    0.032971    0.003017    0.143079    0.031147   \n",
       "3    0.004036    0.151774    0.029703    0.002897    0.149630    0.028986   \n",
       "4    0.001005    0.078391    0.011012    0.000815    0.076849    0.010029   \n",
       "\n",
       "   feature_44  label  \n",
       "0    0.004060    0.0  \n",
       "1    0.000992    0.0  \n",
       "2    0.002829    0.0  \n",
       "3    0.002850    0.0  \n",
       "4    0.000572    0.0  \n",
       "\n",
       "[5 rows x 46 columns]"
      ]
     },
     "execution_count": null,
     "metadata": {},
     "output_type": "execute_result"
    }
   ],
   "source": [
    "df = pd.DataFrame(data)\n",
    "df.head()"
   ]
  },
  {
   "cell_type": "code",
   "execution_count": null,
   "id": "62727636",
   "metadata": {},
   "outputs": [
    {
     "data": {
      "text/plain": [
       "Dataset({\n",
       "    features: ['feature_0', 'feature_1', 'feature_2', 'feature_3', 'feature_4', 'feature_5', 'feature_6', 'feature_7', 'feature_8', 'feature_9', 'feature_10', 'feature_11', 'feature_12', 'feature_13', 'feature_14', 'feature_15', 'feature_16', 'feature_17', 'feature_18', 'feature_19', 'feature_20', 'feature_21', 'feature_22', 'feature_23', 'feature_24', 'feature_25', 'feature_26', 'feature_27', 'feature_28', 'feature_29', 'feature_30', 'feature_31', 'feature_32', 'feature_33', 'feature_34', 'feature_35', 'feature_36', 'feature_37', 'feature_38', 'feature_39', 'feature_40', 'feature_41', 'feature_42', 'feature_43', 'feature_44', 'label'],\n",
       "    num_rows: 100000\n",
       "})"
      ]
     },
     "execution_count": null,
     "metadata": {},
     "output_type": "execute_result"
    }
   ],
   "source": [
    "# Can't use categorical\n",
    "dset = Dataset.from_pandas(df)\n",
    "dset"
   ]
  },
  {
   "cell_type": "markdown",
   "id": "ba2cce9e",
   "metadata": {},
   "source": [
    "## Define model"
   ]
  },
  {
   "cell_type": "code",
   "execution_count": null,
   "id": "e4841277",
   "metadata": {},
   "outputs": [],
   "source": [
    "class DNNModel(LightningModule):\n",
    "    def __init__(self):\n",
    "        super().__init__()\n",
    "        self.layers = nn.Sequential(nn.Linear(45, 64), nn.ReLU(), nn.Linear(64, 64), nn.ReLU(), nn.Linear(64, 2))\n",
    "\n",
    "    def forward(self, x):\n",
    "        return self.layers(x.view(x.size(0), -1))\n",
    "\n",
    "    def training_step(self, batch):\n",
    "        x, y = batch\n",
    "        loss = F.cross_entropy(self(x), y)\n",
    "        return loss\n",
    "\n",
    "    def configure_optimizers(self):\n",
    "        return torch.optim.Adam(self.parameters(), lr=0.02)"
   ]
  },
  {
   "cell_type": "code",
   "execution_count": null,
   "id": "91f9624f",
   "metadata": {},
   "outputs": [],
   "source": [
    "model = DNNModel()"
   ]
  },
  {
   "cell_type": "code",
   "execution_count": null,
   "id": "9ea4c589",
   "metadata": {},
   "outputs": [
    {
     "data": {
      "text/plain": [
       "(100000, 45)"
      ]
     },
     "execution_count": null,
     "metadata": {},
     "output_type": "execute_result"
    }
   ],
   "source": [
    "X.shape"
   ]
  },
  {
   "cell_type": "code",
   "execution_count": null,
   "id": "0147c9bb",
   "metadata": {},
   "outputs": [
    {
     "data": {
      "text/plain": [
       "(100000,)"
      ]
     },
     "execution_count": null,
     "metadata": {},
     "output_type": "execute_result"
    }
   ],
   "source": [
    "y.shape"
   ]
  },
  {
   "cell_type": "code",
   "execution_count": null,
   "id": "fb766449",
   "metadata": {},
   "outputs": [],
   "source": [
    "X_pt = torch.from_numpy(X).float()\n",
    "y_pt = torch.from_numpy(y).long()"
   ]
  },
  {
   "cell_type": "code",
   "execution_count": null,
   "id": "cae7f7e0",
   "metadata": {},
   "outputs": [
    {
     "data": {
      "text/plain": [
       "tensor(0)"
      ]
     },
     "execution_count": null,
     "metadata": {},
     "output_type": "execute_result"
    }
   ],
   "source": [
    "y_pt[0]"
   ]
  },
  {
   "cell_type": "code",
   "execution_count": null,
   "id": "789402b5",
   "metadata": {},
   "outputs": [],
   "source": [
    "train_ds = TensorDataset(X_pt, y_pt)"
   ]
  },
  {
   "cell_type": "code",
   "execution_count": null,
   "id": "a0e1c8cc",
   "metadata": {},
   "outputs": [],
   "source": [
    "dl = DataLoader(train_ds, batch_size=100)"
   ]
  },
  {
   "cell_type": "code",
   "execution_count": null,
   "id": "95e4e779",
   "metadata": {},
   "outputs": [],
   "source": [
    "for batch in dl:\n",
    "    break"
   ]
  },
  {
   "cell_type": "code",
   "execution_count": null,
   "id": "f5c0b285",
   "metadata": {},
   "outputs": [],
   "source": []
  },
  {
   "cell_type": "code",
   "execution_count": null,
   "id": "b937fa1a",
   "metadata": {},
   "outputs": [
    {
     "data": {
      "text/plain": [
       "torch.Size([4, 45])"
      ]
     },
     "execution_count": null,
     "metadata": {},
     "output_type": "execute_result"
    }
   ],
   "source": [
    "xb.size()"
   ]
  },
  {
   "cell_type": "code",
   "execution_count": null,
   "id": "e4425f61",
   "metadata": {},
   "outputs": [
    {
     "data": {
      "text/plain": [
       "torch.Size([4])"
      ]
     },
     "execution_count": null,
     "metadata": {},
     "output_type": "execute_result"
    },
    {
     "name": "stdout",
     "output_type": "stream",
     "text": [
      "Epoch 0:  46%|████▋     | 11580/25000 [01:00<01:09, 193.00it/s, loss=0.393, v_num=0]"
     ]
    }
   ],
   "source": [
    "yb.size()"
   ]
  },
  {
   "cell_type": "code",
   "execution_count": null,
   "id": "70c9f014",
   "metadata": {},
   "outputs": [
    {
     "data": {
      "text/plain": [
       "tensor([0.5829, 0.3598, 0.1595, 0.2864, 0.1093, 0.0314, 0.2920, 0.1046, 0.0253,\n",
       "        0.2696, 0.0897, 0.0185, 0.2617, 0.0850, 0.0172, 0.2400, 0.0737, 0.0129,\n",
       "        0.2417, 0.0729, 0.0123, 0.2173, 0.0634, 0.0110, 0.2060, 0.0555, 0.0082,\n",
       "        0.2118, 0.0565, 0.0079, 0.2093, 0.0546, 0.0072, 0.1974, 0.0491, 0.0056,\n",
       "        0.1918, 0.0456, 0.0047, 0.1834, 0.0426, 0.0045, 0.1747, 0.0390, 0.0041],\n",
       "       dtype=torch.float64)"
      ]
     },
     "execution_count": null,
     "metadata": {},
     "output_type": "execute_result"
    }
   ],
   "source": [
    "xb[0]"
   ]
  },
  {
   "cell_type": "code",
   "execution_count": null,
   "id": "8d125fdf",
   "metadata": {},
   "outputs": [
    {
     "data": {
      "text/plain": [
       "tensor(0.6900, grad_fn=<NllLossBackward0>)"
      ]
     },
     "execution_count": null,
     "metadata": {},
     "output_type": "execute_result"
    }
   ],
   "source": [
    "model.training_step(batch)"
   ]
  },
  {
   "cell_type": "code",
   "execution_count": null,
   "id": "1858b2d0",
   "metadata": {},
   "outputs": [
    {
     "name": "stderr",
     "output_type": "stream",
     "text": [
      "GPU available: True, used: True\n",
      "TPU available: False, using: 0 TPU cores\n",
      "IPU available: False, using: 0 IPUs\n"
     ]
    }
   ],
   "source": [
    "trainer = Trainer(\n",
    "    gpus=1,\n",
    "    max_epochs=3,\n",
    "    progress_bar_refresh_rate=20,\n",
    ")"
   ]
  },
  {
   "cell_type": "code",
   "execution_count": null,
   "id": "9a06f7c1",
   "metadata": {},
   "outputs": [
    {
     "name": "stderr",
     "output_type": "stream",
     "text": [
      "LOCAL_RANK: 0 - CUDA_VISIBLE_DEVICES: [0]\n",
      "\n",
      "  | Name   | Type       | Params\n",
      "--------------------------------------\n",
      "0 | layers | Sequential | 7.2 K \n",
      "--------------------------------------\n",
      "7.2 K     Trainable params\n",
      "0         Non-trainable params\n",
      "7.2 K     Total params\n",
      "0.029     Total estimated model params size (MB)\n"
     ]
    },
    {
     "name": "stdout",
     "output_type": "stream",
     "text": [
      "Epoch 0:  46%|████▋     | 11580/25000 [01:08<01:19, 169.65it/s, loss=0.393, v_num=0]\n",
      "Epoch 2: 100%|██████████| 1000/1000 [00:04<00:00, 227.52it/s, loss=0.459, v_num=1]\n"
     ]
    }
   ],
   "source": [
    "trainer.fit(model, dl)"
   ]
  },
  {
   "cell_type": "code",
   "execution_count": null,
   "id": "771d109f",
   "metadata": {},
   "outputs": [],
   "source": []
  }
 ],
 "metadata": {
  "kernelspec": {
   "display_name": "Python 3 (ipykernel)",
   "language": "python",
   "name": "python3"
  }
 },
 "nbformat": 4,
 "nbformat_minor": 5
}
