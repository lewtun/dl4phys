{
 "cells": [
  {
   "cell_type": "code",
   "execution_count": null,
   "id": "d07469bf",
   "metadata": {},
   "outputs": [],
   "source": [
    "%load_ext autoreload\n",
    "%autoreload 2"
   ]
  },
  {
   "cell_type": "markdown",
   "id": "3f46888d",
   "metadata": {},
   "source": [
    "## Imports"
   ]
  },
  {
   "cell_type": "code",
   "execution_count": null,
   "id": "3694579d",
   "metadata": {},
   "outputs": [],
   "source": [
    "import numpy as np\n",
    "import pandas as pd\n",
    "from datasets import Dataset\n",
    "from pytorch_lightning import LightningModule, Trainer\n",
    "import torch\n",
    "from torch.utils.data import DataLoader, TensorDataset\n",
    "import torch.nn.functional as F\n",
    "import torch.nn as nn\n",
    "import torchmetrics"
   ]
  },
  {
   "cell_type": "markdown",
   "id": "360f069d",
   "metadata": {},
   "source": [
    "## Load data"
   ]
  },
  {
   "cell_type": "code",
   "execution_count": null,
   "id": "5680b9a5",
   "metadata": {},
   "outputs": [],
   "source": [
    "EVENTS_PATH = \"data/QG_nsubs.npz?dl=1\"\n",
    "\n",
    "with np.load(EVENTS_PATH) as f:\n",
    "    X, y = f['X'], f['y']"
   ]
  },
  {
   "cell_type": "code",
   "execution_count": null,
   "id": "a18f838b",
   "metadata": {},
   "outputs": [
    {
     "data": {
      "text/plain": [
       "((100000, 45), (100000,))"
      ]
     },
     "execution_count": null,
     "metadata": {},
     "output_type": "execute_result"
    }
   ],
   "source": [
    "X.shape, y.shape"
   ]
  },
  {
   "cell_type": "code",
   "execution_count": null,
   "id": "fe5aa972",
   "metadata": {},
   "outputs": [
    {
     "data": {
      "text/plain": [
       "(100000,)"
      ]
     },
     "execution_count": null,
     "metadata": {},
     "output_type": "execute_result"
    }
   ],
   "source": [
    "X[:,0].shape"
   ]
  },
  {
   "cell_type": "code",
   "execution_count": null,
   "id": "926ba6a9",
   "metadata": {},
   "outputs": [
    {
     "data": {
      "text/plain": [
       "0.0"
      ]
     },
     "execution_count": null,
     "metadata": {},
     "output_type": "execute_result"
    }
   ],
   "source": [
    "y[0]"
   ]
  },
  {
   "cell_type": "code",
   "execution_count": null,
   "id": "9b6fc036",
   "metadata": {},
   "outputs": [
    {
     "data": {
      "text/plain": [
       "array([0.58288529, 0.35983362, 0.15946587, 0.28643438, 0.10931263,\n",
       "       0.03136041, 0.29199412, 0.10462717, 0.02529765, 0.26962497,\n",
       "       0.08968088, 0.0185029 , 0.26170934, 0.08504337, 0.01718934,\n",
       "       0.23999388, 0.07369913, 0.01286971, 0.24165983, 0.07294354,\n",
       "       0.01229564, 0.21727208, 0.06340214, 0.01102354, 0.20602818,\n",
       "       0.05551519, 0.00822112, 0.21182996, 0.05651417, 0.00794706,\n",
       "       0.20925511, 0.05459273, 0.00716666, 0.19743325, 0.04912426,\n",
       "       0.00563262, 0.19182676, 0.0455615 , 0.00474475, 0.18342361,\n",
       "       0.04259337, 0.00448976, 0.17466835, 0.03901473, 0.00406034])"
      ]
     },
     "execution_count": null,
     "metadata": {},
     "output_type": "execute_result"
    }
   ],
   "source": [
    "X[0]"
   ]
  },
  {
   "cell_type": "code",
   "execution_count": null,
   "id": "0c9b3561",
   "metadata": {},
   "outputs": [
    {
     "data": {
      "text/plain": [
       "array([0., 1.])"
      ]
     },
     "execution_count": null,
     "metadata": {},
     "output_type": "execute_result"
    }
   ],
   "source": [
    "np.unique(y)"
   ]
  },
  {
   "cell_type": "code",
   "execution_count": null,
   "id": "e1d13bec",
   "metadata": {},
   "outputs": [],
   "source": [
    "data = {f\"feature_{idx}\":X[:, idx] for idx in range(45)}"
   ]
  },
  {
   "cell_type": "code",
   "execution_count": null,
   "id": "c49662be",
   "metadata": {},
   "outputs": [],
   "source": [
    "data[\"label\"] = y"
   ]
  },
  {
   "cell_type": "code",
   "execution_count": null,
   "id": "47b34a41",
   "metadata": {},
   "outputs": [
    {
     "data": {
      "text/html": [
       "<div>\n",
       "<style scoped>\n",
       "    .dataframe tbody tr th:only-of-type {\n",
       "        vertical-align: middle;\n",
       "    }\n",
       "\n",
       "    .dataframe tbody tr th {\n",
       "        vertical-align: top;\n",
       "    }\n",
       "\n",
       "    .dataframe thead th {\n",
       "        text-align: right;\n",
       "    }\n",
       "</style>\n",
       "<table border=\"1\" class=\"dataframe\">\n",
       "  <thead>\n",
       "    <tr style=\"text-align: right;\">\n",
       "      <th></th>\n",
       "      <th>feature_0</th>\n",
       "      <th>feature_1</th>\n",
       "      <th>feature_2</th>\n",
       "      <th>feature_3</th>\n",
       "      <th>feature_4</th>\n",
       "      <th>feature_5</th>\n",
       "      <th>feature_6</th>\n",
       "      <th>feature_7</th>\n",
       "      <th>feature_8</th>\n",
       "      <th>feature_9</th>\n",
       "      <th>...</th>\n",
       "      <th>feature_36</th>\n",
       "      <th>feature_37</th>\n",
       "      <th>feature_38</th>\n",
       "      <th>feature_39</th>\n",
       "      <th>feature_40</th>\n",
       "      <th>feature_41</th>\n",
       "      <th>feature_42</th>\n",
       "      <th>feature_43</th>\n",
       "      <th>feature_44</th>\n",
       "      <th>label</th>\n",
       "    </tr>\n",
       "  </thead>\n",
       "  <tbody>\n",
       "    <tr>\n",
       "      <th>0</th>\n",
       "      <td>0.582885</td>\n",
       "      <td>0.359834</td>\n",
       "      <td>0.159466</td>\n",
       "      <td>0.286434</td>\n",
       "      <td>0.109313</td>\n",
       "      <td>0.031360</td>\n",
       "      <td>0.291994</td>\n",
       "      <td>0.104627</td>\n",
       "      <td>0.025298</td>\n",
       "      <td>0.269625</td>\n",
       "      <td>...</td>\n",
       "      <td>0.191827</td>\n",
       "      <td>0.045562</td>\n",
       "      <td>0.004745</td>\n",
       "      <td>0.183424</td>\n",
       "      <td>0.042593</td>\n",
       "      <td>0.004490</td>\n",
       "      <td>0.174668</td>\n",
       "      <td>0.039015</td>\n",
       "      <td>0.004060</td>\n",
       "      <td>0.0</td>\n",
       "    </tr>\n",
       "    <tr>\n",
       "      <th>1</th>\n",
       "      <td>0.260756</td>\n",
       "      <td>0.084642</td>\n",
       "      <td>0.019812</td>\n",
       "      <td>0.240676</td>\n",
       "      <td>0.073122</td>\n",
       "      <td>0.015786</td>\n",
       "      <td>0.225725</td>\n",
       "      <td>0.063897</td>\n",
       "      <td>0.012387</td>\n",
       "      <td>0.215447</td>\n",
       "      <td>...</td>\n",
       "      <td>0.126111</td>\n",
       "      <td>0.021134</td>\n",
       "      <td>0.002316</td>\n",
       "      <td>0.122458</td>\n",
       "      <td>0.018581</td>\n",
       "      <td>0.001079</td>\n",
       "      <td>0.117416</td>\n",
       "      <td>0.017345</td>\n",
       "      <td>0.000992</td>\n",
       "      <td>0.0</td>\n",
       "    </tr>\n",
       "    <tr>\n",
       "      <th>2</th>\n",
       "      <td>0.564012</td>\n",
       "      <td>0.330684</td>\n",
       "      <td>0.127177</td>\n",
       "      <td>0.292710</td>\n",
       "      <td>0.110119</td>\n",
       "      <td>0.024787</td>\n",
       "      <td>0.258846</td>\n",
       "      <td>0.086578</td>\n",
       "      <td>0.017215</td>\n",
       "      <td>0.240176</td>\n",
       "      <td>...</td>\n",
       "      <td>0.150572</td>\n",
       "      <td>0.034919</td>\n",
       "      <td>0.003328</td>\n",
       "      <td>0.147431</td>\n",
       "      <td>0.032971</td>\n",
       "      <td>0.003017</td>\n",
       "      <td>0.143079</td>\n",
       "      <td>0.031147</td>\n",
       "      <td>0.002829</td>\n",
       "      <td>0.0</td>\n",
       "    </tr>\n",
       "    <tr>\n",
       "      <th>3</th>\n",
       "      <td>0.395935</td>\n",
       "      <td>0.170801</td>\n",
       "      <td>0.042085</td>\n",
       "      <td>0.344588</td>\n",
       "      <td>0.130606</td>\n",
       "      <td>0.026208</td>\n",
       "      <td>0.271026</td>\n",
       "      <td>0.090233</td>\n",
       "      <td>0.017891</td>\n",
       "      <td>0.243731</td>\n",
       "      <td>...</td>\n",
       "      <td>0.164546</td>\n",
       "      <td>0.034850</td>\n",
       "      <td>0.004036</td>\n",
       "      <td>0.151774</td>\n",
       "      <td>0.029703</td>\n",
       "      <td>0.002897</td>\n",
       "      <td>0.149630</td>\n",
       "      <td>0.028986</td>\n",
       "      <td>0.002850</td>\n",
       "      <td>0.0</td>\n",
       "    </tr>\n",
       "    <tr>\n",
       "      <th>4</th>\n",
       "      <td>0.196304</td>\n",
       "      <td>0.051556</td>\n",
       "      <td>0.011701</td>\n",
       "      <td>0.192528</td>\n",
       "      <td>0.048644</td>\n",
       "      <td>0.010743</td>\n",
       "      <td>0.178389</td>\n",
       "      <td>0.043404</td>\n",
       "      <td>0.009060</td>\n",
       "      <td>0.172218</td>\n",
       "      <td>...</td>\n",
       "      <td>0.084400</td>\n",
       "      <td>0.012952</td>\n",
       "      <td>0.001005</td>\n",
       "      <td>0.078391</td>\n",
       "      <td>0.011012</td>\n",
       "      <td>0.000815</td>\n",
       "      <td>0.076849</td>\n",
       "      <td>0.010029</td>\n",
       "      <td>0.000572</td>\n",
       "      <td>0.0</td>\n",
       "    </tr>\n",
       "  </tbody>\n",
       "</table>\n",
       "<p>5 rows × 46 columns</p>\n",
       "</div>"
      ],
      "text/plain": [
       "   feature_0  feature_1  feature_2  feature_3  feature_4  feature_5  \\\n",
       "0   0.582885   0.359834   0.159466   0.286434   0.109313   0.031360   \n",
       "1   0.260756   0.084642   0.019812   0.240676   0.073122   0.015786   \n",
       "2   0.564012   0.330684   0.127177   0.292710   0.110119   0.024787   \n",
       "3   0.395935   0.170801   0.042085   0.344588   0.130606   0.026208   \n",
       "4   0.196304   0.051556   0.011701   0.192528   0.048644   0.010743   \n",
       "\n",
       "   feature_6  feature_7  feature_8  feature_9  ...  feature_36  feature_37  \\\n",
       "0   0.291994   0.104627   0.025298   0.269625  ...    0.191827    0.045562   \n",
       "1   0.225725   0.063897   0.012387   0.215447  ...    0.126111    0.021134   \n",
       "2   0.258846   0.086578   0.017215   0.240176  ...    0.150572    0.034919   \n",
       "3   0.271026   0.090233   0.017891   0.243731  ...    0.164546    0.034850   \n",
       "4   0.178389   0.043404   0.009060   0.172218  ...    0.084400    0.012952   \n",
       "\n",
       "   feature_38  feature_39  feature_40  feature_41  feature_42  feature_43  \\\n",
       "0    0.004745    0.183424    0.042593    0.004490    0.174668    0.039015   \n",
       "1    0.002316    0.122458    0.018581    0.001079    0.117416    0.017345   \n",
       "2    0.003328    0.147431    0.032971    0.003017    0.143079    0.031147   \n",
       "3    0.004036    0.151774    0.029703    0.002897    0.149630    0.028986   \n",
       "4    0.001005    0.078391    0.011012    0.000815    0.076849    0.010029   \n",
       "\n",
       "   feature_44  label  \n",
       "0    0.004060    0.0  \n",
       "1    0.000992    0.0  \n",
       "2    0.002829    0.0  \n",
       "3    0.002850    0.0  \n",
       "4    0.000572    0.0  \n",
       "\n",
       "[5 rows x 46 columns]"
      ]
     },
     "execution_count": null,
     "metadata": {},
     "output_type": "execute_result"
    }
   ],
   "source": [
    "df = pd.DataFrame(data)\n",
    "df.head()"
   ]
  },
  {
   "cell_type": "code",
   "execution_count": null,
   "id": "35927298",
   "metadata": {},
   "outputs": [
    {
     "data": {
      "text/plain": [
       "Dataset({\n",
       "    features: ['feature_0', 'feature_1', 'feature_2', 'feature_3', 'feature_4', 'feature_5', 'feature_6', 'feature_7', 'feature_8', 'feature_9', 'feature_10', 'feature_11', 'feature_12', 'feature_13', 'feature_14', 'feature_15', 'feature_16', 'feature_17', 'feature_18', 'feature_19', 'feature_20', 'feature_21', 'feature_22', 'feature_23', 'feature_24', 'feature_25', 'feature_26', 'feature_27', 'feature_28', 'feature_29', 'feature_30', 'feature_31', 'feature_32', 'feature_33', 'feature_34', 'feature_35', 'feature_36', 'feature_37', 'feature_38', 'feature_39', 'feature_40', 'feature_41', 'feature_42', 'feature_43', 'feature_44', 'label'],\n",
       "    num_rows: 100000\n",
       "})"
      ]
     },
     "execution_count": null,
     "metadata": {},
     "output_type": "execute_result"
    }
   ],
   "source": [
    "# Can't use categorical\n",
    "dset = Dataset.from_pandas(df)\n",
    "dset"
   ]
  },
  {
   "cell_type": "markdown",
   "id": "8a8b5ca2",
   "metadata": {},
   "source": [
    "## Define model"
   ]
  },
  {
   "cell_type": "code",
   "execution_count": null,
   "id": "94bff9e5",
   "metadata": {},
   "outputs": [],
   "source": [
    "class DNNModel(LightningModule):\n",
    "    def __init__(self):\n",
    "        super().__init__()\n",
    "        self.accuracy = torchmetrics.Accuracy()\n",
    "        self.roc_auc = torchmetrics.AUROC(num_classes=2)\n",
    "        self.layers = nn.Sequential(nn.Linear(45, 100), nn.ReLU(), nn.Linear(100, 100), nn.ReLU(), nn.Linear(100, 2))\n",
    "\n",
    "    def forward(self, x):\n",
    "        return self.layers(x.view(x.size(0), -1))\n",
    "\n",
    "    def training_step(self, batch, batch_idx):\n",
    "        x, y = batch\n",
    "        loss = F.cross_entropy(self(x), y)\n",
    "        return loss\n",
    "    \n",
    "    def validation_step(self, batch, batch_idx):\n",
    "        x, y = batch\n",
    "        y_hat = self(x)\n",
    "        val_loss = F.cross_entropy(y_hat, y)\n",
    "        # log step metric\n",
    "        self.accuracy(y_hat, y)\n",
    "        self.roc_auc(y_hat, y)\n",
    "        self.log(\"val_accuracy\", self.accuracy, on_step=True, on_epoch=True, prog_bar=True,)\n",
    "        self.log(\"val_roc_auc\", self.roc_auc, on_step=True, on_epoch=True, prog_bar=True, )\n",
    "        self.log(\"val_loss\", val_loss, on_step=True, on_epoch=True, prog_bar=True,)\n",
    "\n",
    "    def configure_optimizers(self):\n",
    "        return torch.optim.Adam(self.parameters(), lr=0.02)"
   ]
  },
  {
   "cell_type": "code",
   "execution_count": null,
   "id": "71bde0a0",
   "metadata": {},
   "outputs": [],
   "source": [
    "model = DNNModel()"
   ]
  },
  {
   "cell_type": "code",
   "execution_count": null,
   "id": "23cc5bab",
   "metadata": {},
   "outputs": [
    {
     "data": {
      "text/plain": [
       "  | Name     | Type       | Params\n",
       "----------------------------------------\n",
       "0 | accuracy | Accuracy   | 0     \n",
       "1 | roc_auc  | AUROC      | 0     \n",
       "2 | layers   | Sequential | 14.9 K\n",
       "----------------------------------------\n",
       "14.9 K    Trainable params\n",
       "0         Non-trainable params\n",
       "14.9 K    Total params\n",
       "0.060     Total estimated model params size (MB)"
      ]
     },
     "execution_count": null,
     "metadata": {},
     "output_type": "execute_result"
    }
   ],
   "source": [
    "model.summarize()"
   ]
  },
  {
   "cell_type": "code",
   "execution_count": null,
   "id": "ef777f1b",
   "metadata": {},
   "outputs": [],
   "source": [
    "model."
   ]
  },
  {
   "cell_type": "code",
   "execution_count": null,
   "id": "0527c105",
   "metadata": {},
   "outputs": [
    {
     "data": {
      "text/plain": [
       "(100000, 45)"
      ]
     },
     "execution_count": null,
     "metadata": {},
     "output_type": "execute_result"
    }
   ],
   "source": [
    "X.shape"
   ]
  },
  {
   "cell_type": "code",
   "execution_count": null,
   "id": "d520460d",
   "metadata": {},
   "outputs": [
    {
     "data": {
      "text/plain": [
       "(100000,)"
      ]
     },
     "execution_count": null,
     "metadata": {},
     "output_type": "execute_result"
    }
   ],
   "source": [
    "y.shape"
   ]
  },
  {
   "cell_type": "code",
   "execution_count": null,
   "id": "b3423f83",
   "metadata": {},
   "outputs": [],
   "source": [
    "X_pt = torch.from_numpy(X).float()\n",
    "y_pt = torch.from_numpy(y).long()"
   ]
  },
  {
   "cell_type": "code",
   "execution_count": null,
   "id": "67cc6367",
   "metadata": {},
   "outputs": [
    {
     "data": {
      "text/plain": [
       "tensor(0)"
      ]
     },
     "execution_count": null,
     "metadata": {},
     "output_type": "execute_result"
    }
   ],
   "source": [
    "y_pt[0]"
   ]
  },
  {
   "cell_type": "code",
   "execution_count": null,
   "id": "2525451a",
   "metadata": {},
   "outputs": [],
   "source": [
    "train_ds = TensorDataset(X_pt[:90_000], y_pt[:90_000])\n",
    "val_ds = TensorDataset(X_pt[90_000:], y_pt[90_000:])"
   ]
  },
  {
   "cell_type": "code",
   "execution_count": null,
   "id": "43e682e0",
   "metadata": {},
   "outputs": [],
   "source": [
    "train_dl = DataLoader(train_ds, batch_size=100)\n",
    "val_dl = DataLoader(val_ds, batch_size=100)"
   ]
  },
  {
   "cell_type": "code",
   "execution_count": null,
   "id": "10dccca6",
   "metadata": {},
   "outputs": [],
   "source": [
    "for batch in dl:\n",
    "    break"
   ]
  },
  {
   "cell_type": "code",
   "execution_count": null,
   "id": "3cf05d7c",
   "metadata": {},
   "outputs": [
    {
     "data": {
      "text/plain": [
       "[tensor([[5.8289e-01, 3.5983e-01, 1.5947e-01,  ..., 1.7467e-01, 3.9015e-02,\n",
       "          4.0603e-03],\n",
       "         [2.6076e-01, 8.4642e-02, 1.9812e-02,  ..., 1.1742e-01, 1.7345e-02,\n",
       "          9.9190e-04],\n",
       "         [5.6401e-01, 3.3068e-01, 1.2718e-01,  ..., 1.4308e-01, 3.1147e-02,\n",
       "          2.8288e-03],\n",
       "         ...,\n",
       "         [4.4769e-01, 2.0842e-01, 5.1291e-02,  ..., 7.2588e-02, 1.1365e-02,\n",
       "          9.3176e-04],\n",
       "         [1.3482e-01, 3.9163e-02, 1.5009e-02,  ..., 2.1892e-02, 1.7439e-03,\n",
       "          8.1177e-05],\n",
       "         [3.6589e-01, 1.4499e-01, 3.0012e-02,  ..., 1.1757e-01, 2.1363e-02,\n",
       "          1.5061e-03]]),\n",
       " tensor([0, 0, 0, 0, 0, 1, 1, 1, 0, 0, 1, 1, 0, 1, 1, 1, 0, 1, 0, 1, 0, 1, 0, 1,\n",
       "         0, 1, 0, 1, 1, 0, 1, 1, 1, 1, 1, 1, 1, 1, 1, 0, 0, 1, 0, 1, 1, 0, 0, 0,\n",
       "         1, 1, 0, 1, 0, 1, 1, 1, 0, 0, 1, 0, 1, 1, 0, 0, 0, 1, 1, 1, 1, 0, 1, 0,\n",
       "         0, 1, 1, 0, 1, 0, 1, 0, 0, 1, 1, 1, 1, 0, 1, 1, 0, 0, 1, 1, 1, 1, 0, 0,\n",
       "         0, 1, 1, 1])]"
      ]
     },
     "execution_count": null,
     "metadata": {},
     "output_type": "execute_result"
    }
   ],
   "source": [
    "batch"
   ]
  },
  {
   "cell_type": "code",
   "execution_count": null,
   "id": "71f77252",
   "metadata": {},
   "outputs": [
    {
     "name": "stderr",
     "output_type": "stream",
     "text": [
      "GPU available: True, used: True\n",
      "TPU available: False, using: 0 TPU cores\n",
      "IPU available: False, using: 0 IPUs\n"
     ]
    }
   ],
   "source": [
    "trainer = Trainer(\n",
    "    gpus=1,\n",
    "    max_epochs=10,\n",
    "    progress_bar_refresh_rate=20,\n",
    ")"
   ]
  },
  {
   "cell_type": "code",
   "execution_count": null,
   "id": "50b43932",
   "metadata": {},
   "outputs": [
    {
     "name": "stderr",
     "output_type": "stream",
     "text": [
      "LOCAL_RANK: 0 - CUDA_VISIBLE_DEVICES: [0]\n",
      "\n",
      "  | Name     | Type       | Params\n",
      "----------------------------------------\n",
      "0 | accuracy | Accuracy   | 0     \n",
      "1 | roc_auc  | AUROC      | 0     \n",
      "2 | layers   | Sequential | 14.9 K\n",
      "----------------------------------------\n",
      "14.9 K    Trainable params\n",
      "0         Non-trainable params\n",
      "14.9 K    Total params\n",
      "0.060     Total estimated model params size (MB)\n"
     ]
    },
    {
     "name": "stdout",
     "output_type": "stream",
     "text": [
      "Epoch 2:  74%|███████▍  | 740/1000 [00:18<00:06, 40.64it/s, loss=0.47, v_num=13] \n",
      "Epoch 0:  90%|█████████ | 900/1000 [00:03<00:00, 244.53it/s, loss=0.462, v_num=14]\n",
      "Validating: 0it [00:00, ?it/s]\u001b[A\n",
      "Validating:   0%|          | 0/100 [00:00<?, ?it/s]\u001b[A\n",
      "Epoch 0:  94%|█████████▍| 940/1000 [00:03<00:00, 244.53it/s, loss=0.462, v_num=14]\n",
      "Validating:  40%|████      | 40/100 [00:00<00:00, 122.39it/s]\u001b[A\n",
      "Validating:  60%|██████    | 60/100 [00:00<00:00, 124.38it/s]\u001b[A\n",
      "Epoch 0: 100%|██████████| 1000/1000 [00:04<00:00, 229.91it/s, loss=0.462, v_num=14]\n",
      "Epoch 0: 100%|██████████| 1000/1000 [00:04<00:00, 220.06it/s, loss=0.462, v_num=14, val_accuracy_step=0.780, val_roc_auc_step=0.867, val_loss_step=0.489, val_accuracy_epoch=0.771, val_roc_auc_epoch=0.869, val_loss_epoch=0.495]\n",
      "Epoch 1:  90%|█████████ | 900/1000 [00:04<00:00, 224.24it/s, loss=0.448, v_num=14, val_accuracy_step=0.780, val_roc_auc_step=0.867, val_loss_step=0.489, val_accuracy_epoch=0.771, val_roc_auc_epoch=0.869, val_loss_epoch=0.495] \n",
      "Validating: 0it [00:00, ?it/s]\u001b[A\n",
      "Validating:   0%|          | 0/100 [00:00<?, ?it/s]\u001b[A\n",
      "Validating:  20%|██        | 20/100 [00:00<00:00, 105.27it/s]\u001b[A\n",
      "Epoch 1:  96%|█████████▌| 960/1000 [00:04<00:00, 219.48it/s, loss=0.448, v_num=14, val_accuracy_step=0.780, val_roc_auc_step=0.867, val_loss_step=0.489, val_accuracy_epoch=0.771, val_roc_auc_epoch=0.869, val_loss_epoch=0.495]\n",
      "Validating:  60%|██████    | 60/100 [00:00<00:00, 112.70it/s]\u001b[A\n",
      "Validating:  80%|████████  | 80/100 [00:00<00:00, 115.83it/s]\u001b[A\n",
      "Epoch 1: 100%|██████████| 1000/1000 [00:04<00:00, 203.38it/s, loss=0.448, v_num=14, val_accuracy_step=0.780, val_roc_auc_step=0.869, val_loss_step=0.470, val_accuracy_epoch=0.779, val_roc_auc_epoch=0.869, val_loss_epoch=0.472]\n",
      "Epoch 2:  90%|█████████ | 900/1000 [00:04<00:00, 224.93it/s, loss=0.444, v_num=14, val_accuracy_step=0.780, val_roc_auc_step=0.869, val_loss_step=0.470, val_accuracy_epoch=0.779, val_roc_auc_epoch=0.869, val_loss_epoch=0.472] \n",
      "Validating: 0it [00:00, ?it/s]\u001b[A\n",
      "Validating:   0%|          | 0/100 [00:00<?, ?it/s]\u001b[A\n",
      "Validating:  20%|██        | 20/100 [00:00<00:00, 130.54it/s]\u001b[A\n",
      "Epoch 2:  96%|█████████▌| 960/1000 [00:04<00:00, 221.74it/s, loss=0.444, v_num=14, val_accuracy_step=0.780, val_roc_auc_step=0.869, val_loss_step=0.470, val_accuracy_epoch=0.779, val_roc_auc_epoch=0.869, val_loss_epoch=0.472]\n",
      "Validating:  60%|██████    | 60/100 [00:00<00:00, 117.82it/s]\u001b[A\n",
      "Validating:  80%|████████  | 80/100 [00:00<00:00, 118.36it/s]\u001b[A\n",
      "Epoch 2: 100%|██████████| 1000/1000 [00:04<00:00, 206.01it/s, loss=0.444, v_num=14, val_accuracy_step=0.780, val_roc_auc_step=0.868, val_loss_step=0.466, val_accuracy_epoch=0.788, val_roc_auc_epoch=0.871, val_loss_epoch=0.460]\n",
      "Epoch 3:  54%|█████▍    | 540/1000 [00:18<00:15, 28.98it/s, loss=0.462, v_num=14, val_accuracy_step=0.780, val_roc_auc_step=0.868, val_loss_step=0.466, val_accuracy_epoch=0.788, val_roc_auc_epoch=0.871, val_loss_epoch=0.460]  "
     ]
    }
   ],
   "source": [
    "trainer.fit(model, train_dataloader=train_dl, val_dataloaders=val_dl)"
   ]
  },
  {
   "cell_type": "code",
   "execution_count": null,
   "id": "cd26463e",
   "metadata": {},
   "outputs": [
    {
     "name": "stderr",
     "output_type": "stream",
     "text": [
      "LOCAL_RANK: 0 - CUDA_VISIBLE_DEVICES: [0]\n"
     ]
    },
    {
     "name": "stdout",
     "output_type": "stream",
     "text": [
      "Validating: 100%|██████████| 100/100 [00:00<00:00, 110.16it/s]--------------------------------------------------------------------------------\n",
      "DATALOADER:0 VALIDATE RESULTS\n",
      "{'val_accuracy': 0.7940000295639038,\n",
      " 'val_accuracy_epoch': 0.7940000295639038,\n",
      " 'val_loss': 0.4502171277999878,\n",
      " 'val_loss_epoch': 0.4502171277999878,\n",
      " 'val_roc_auc': 0.87178635597229,\n",
      " 'val_roc_auc_epoch': 0.87178635597229}\n",
      "--------------------------------------------------------------------------------\n",
      "Validating: 100%|██████████| 100/100 [00:00<00:00, 111.28it/s]\n"
     ]
    },
    {
     "data": {
      "text/plain": [
       "[{'val_accuracy': 0.7940000295639038,\n",
       "  'val_accuracy_epoch': 0.7940000295639038,\n",
       "  'val_roc_auc': 0.87178635597229,\n",
       "  'val_roc_auc_epoch': 0.87178635597229,\n",
       "  'val_loss': 0.4502171277999878,\n",
       "  'val_loss_epoch': 0.4502171277999878}]"
      ]
     },
     "execution_count": null,
     "metadata": {},
     "output_type": "execute_result"
    }
   ],
   "source": [
    "trainer.validate(model, dataloaders=val_dl)"
   ]
  },
  {
   "cell_type": "code",
   "execution_count": null,
   "id": "9705934f",
   "metadata": {},
   "outputs": [],
   "source": []
  }
 ],
 "metadata": {
  "kernelspec": {
   "display_name": "Python 3 (ipykernel)",
   "language": "python",
   "name": "python3"
  }
 },
 "nbformat": 4,
 "nbformat_minor": 5
}
