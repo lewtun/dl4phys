{
 "cells": [
  {
   "cell_type": "markdown",
   "id": "0f337ae1-bb4c-4be4-82a8-19c6f885d201",
   "metadata": {},
   "source": [
    "## TODO\n",
    "\n",
    "* Show how to create jet images\n",
    "* Find a clean way to load data from datasets (save to disk?). Check I don't get RAM problems on Colab. can do this with a custom Dataset, but indexing is slow ..."
   ]
  },
  {
   "cell_type": "markdown",
   "id": "a24705d7-e5a4-4adf-bb16-aca47aa3c48e",
   "metadata": {},
   "source": [
    "## Imports"
   ]
  },
  {
   "cell_type": "code",
   "execution_count": 7,
   "id": "e5387606-9d8e-40d5-9826-e2cf20620766",
   "metadata": {},
   "outputs": [],
   "source": [
    "from datasets import load_dataset\n",
    "from fastai.vision.all import *\n",
    "from torch.utils.data import Dataset, TensorDataset\n",
    "from torchvision import transforms"
   ]
  },
  {
   "cell_type": "markdown",
   "id": "11426624-9951-4ae9-81cc-1a8035453120",
   "metadata": {},
   "source": [
    "## Creating jet images"
   ]
  },
  {
   "cell_type": "code",
   "execution_count": null,
   "id": "b81e9af9-b51f-4a8a-95ee-a0d9d5aff9c5",
   "metadata": {},
   "outputs": [],
   "source": []
  },
  {
   "cell_type": "markdown",
   "id": "fc681b49-b3ec-40b6-a3ce-a2726009155f",
   "metadata": {},
   "source": [
    "## Load data"
   ]
  },
  {
   "cell_type": "code",
   "execution_count": 35,
   "id": "92093aca-a879-4633-96cd-9a421b2b3606",
   "metadata": {},
   "outputs": [
    {
     "name": "stderr",
     "output_type": "stream",
     "text": [
      "Using custom data configuration dl4phys--top_landscape_images-9b271235338645d2\n",
      "Reusing dataset parquet (/home/lewis/.cache/huggingface/datasets/dl4phys___parquet/dl4phys--top_landscape_images-9b271235338645d2/0.0.0/0b6d5799bb726b24ad7fc7be720c170d8e497f575d02d47537de9a5bac074901)\n"
     ]
    },
    {
     "data": {
      "application/vnd.jupyter.widget-view+json": {
       "model_id": "7e01275024524b2cb79dd6dd9db83c1d",
       "version_major": 2,
       "version_minor": 0
      },
      "text/plain": [
       "  0%|          | 0/3 [00:00<?, ?it/s]"
      ]
     },
     "metadata": {},
     "output_type": "display_data"
    },
    {
     "data": {
      "text/plain": [
       "DatasetDict({\n",
       "    validation: Dataset({\n",
       "        features: ['image', 'label'],\n",
       "        num_rows: 403000\n",
       "    })\n",
       "    test: Dataset({\n",
       "        features: ['image', 'label'],\n",
       "        num_rows: 404000\n",
       "    })\n",
       "    train: Dataset({\n",
       "        features: ['image', 'label'],\n",
       "        num_rows: 1211000\n",
       "    })\n",
       "})"
      ]
     },
     "execution_count": 35,
     "metadata": {},
     "output_type": "execute_result"
    }
   ],
   "source": [
    "images_ds = load_dataset(\"dl4phys/top_tagging_images\")\n",
    "images_ds"
   ]
  },
  {
   "cell_type": "code",
   "execution_count": 44,
   "id": "9942b349-2684-49f7-bc20-3922e5379816",
   "metadata": {},
   "outputs": [
    {
     "name": "stdout",
     "output_type": "stream",
     "text": [
      "CPU times: user 5 µs, sys: 0 ns, total: 5 µs\n",
      "Wall time: 9.54 µs\n"
     ]
    }
   ],
   "source": [
    "%%time\n",
    "# train_x[:256]"
   ]
  },
  {
   "cell_type": "code",
   "execution_count": 42,
   "id": "c63dda34-28b7-4b14-9b84-5ca9bcbddc51",
   "metadata": {},
   "outputs": [
    {
     "name": "stdout",
     "output_type": "stream",
     "text": [
      "CPU times: user 15.2 ms, sys: 0 ns, total: 15.2 ms\n",
      "Wall time: 14.5 ms\n"
     ]
    },
    {
     "data": {
      "text/plain": [
       "{'image': [<PIL.PngImagePlugin.PngImageFile image mode=L size=40x40>,\n",
       "  <PIL.PngImagePlugin.PngImageFile image mode=L size=40x40>,\n",
       "  <PIL.PngImagePlugin.PngImageFile image mode=L size=40x40>,\n",
       "  <PIL.PngImagePlugin.PngImageFile image mode=L size=40x40>,\n",
       "  <PIL.PngImagePlugin.PngImageFile image mode=L size=40x40>,\n",
       "  <PIL.PngImagePlugin.PngImageFile image mode=L size=40x40>,\n",
       "  <PIL.PngImagePlugin.PngImageFile image mode=L size=40x40>,\n",
       "  <PIL.PngImagePlugin.PngImageFile image mode=L size=40x40>,\n",
       "  <PIL.PngImagePlugin.PngImageFile image mode=L size=40x40>,\n",
       "  <PIL.PngImagePlugin.PngImageFile image mode=L size=40x40>,\n",
       "  <PIL.PngImagePlugin.PngImageFile image mode=L size=40x40>,\n",
       "  <PIL.PngImagePlugin.PngImageFile image mode=L size=40x40>,\n",
       "  <PIL.PngImagePlugin.PngImageFile image mode=L size=40x40>,\n",
       "  <PIL.PngImagePlugin.PngImageFile image mode=L size=40x40>,\n",
       "  <PIL.PngImagePlugin.PngImageFile image mode=L size=40x40>,\n",
       "  <PIL.PngImagePlugin.PngImageFile image mode=L size=40x40>,\n",
       "  <PIL.PngImagePlugin.PngImageFile image mode=L size=40x40>,\n",
       "  <PIL.PngImagePlugin.PngImageFile image mode=L size=40x40>,\n",
       "  <PIL.PngImagePlugin.PngImageFile image mode=L size=40x40>,\n",
       "  <PIL.PngImagePlugin.PngImageFile image mode=L size=40x40>,\n",
       "  <PIL.PngImagePlugin.PngImageFile image mode=L size=40x40>,\n",
       "  <PIL.PngImagePlugin.PngImageFile image mode=L size=40x40>,\n",
       "  <PIL.PngImagePlugin.PngImageFile image mode=L size=40x40>,\n",
       "  <PIL.PngImagePlugin.PngImageFile image mode=L size=40x40>,\n",
       "  <PIL.PngImagePlugin.PngImageFile image mode=L size=40x40>,\n",
       "  <PIL.PngImagePlugin.PngImageFile image mode=L size=40x40>,\n",
       "  <PIL.PngImagePlugin.PngImageFile image mode=L size=40x40>,\n",
       "  <PIL.PngImagePlugin.PngImageFile image mode=L size=40x40>,\n",
       "  <PIL.PngImagePlugin.PngImageFile image mode=L size=40x40>,\n",
       "  <PIL.PngImagePlugin.PngImageFile image mode=L size=40x40>,\n",
       "  <PIL.PngImagePlugin.PngImageFile image mode=L size=40x40>,\n",
       "  <PIL.PngImagePlugin.PngImageFile image mode=L size=40x40>,\n",
       "  <PIL.PngImagePlugin.PngImageFile image mode=L size=40x40>,\n",
       "  <PIL.PngImagePlugin.PngImageFile image mode=L size=40x40>,\n",
       "  <PIL.PngImagePlugin.PngImageFile image mode=L size=40x40>,\n",
       "  <PIL.PngImagePlugin.PngImageFile image mode=L size=40x40>,\n",
       "  <PIL.PngImagePlugin.PngImageFile image mode=L size=40x40>,\n",
       "  <PIL.PngImagePlugin.PngImageFile image mode=L size=40x40>,\n",
       "  <PIL.PngImagePlugin.PngImageFile image mode=L size=40x40>,\n",
       "  <PIL.PngImagePlugin.PngImageFile image mode=L size=40x40>,\n",
       "  <PIL.PngImagePlugin.PngImageFile image mode=L size=40x40>,\n",
       "  <PIL.PngImagePlugin.PngImageFile image mode=L size=40x40>,\n",
       "  <PIL.PngImagePlugin.PngImageFile image mode=L size=40x40>,\n",
       "  <PIL.PngImagePlugin.PngImageFile image mode=L size=40x40>,\n",
       "  <PIL.PngImagePlugin.PngImageFile image mode=L size=40x40>,\n",
       "  <PIL.PngImagePlugin.PngImageFile image mode=L size=40x40>,\n",
       "  <PIL.PngImagePlugin.PngImageFile image mode=L size=40x40>,\n",
       "  <PIL.PngImagePlugin.PngImageFile image mode=L size=40x40>,\n",
       "  <PIL.PngImagePlugin.PngImageFile image mode=L size=40x40>,\n",
       "  <PIL.PngImagePlugin.PngImageFile image mode=L size=40x40>,\n",
       "  <PIL.PngImagePlugin.PngImageFile image mode=L size=40x40>,\n",
       "  <PIL.PngImagePlugin.PngImageFile image mode=L size=40x40>,\n",
       "  <PIL.PngImagePlugin.PngImageFile image mode=L size=40x40>,\n",
       "  <PIL.PngImagePlugin.PngImageFile image mode=L size=40x40>,\n",
       "  <PIL.PngImagePlugin.PngImageFile image mode=L size=40x40>,\n",
       "  <PIL.PngImagePlugin.PngImageFile image mode=L size=40x40>,\n",
       "  <PIL.PngImagePlugin.PngImageFile image mode=L size=40x40>,\n",
       "  <PIL.PngImagePlugin.PngImageFile image mode=L size=40x40>,\n",
       "  <PIL.PngImagePlugin.PngImageFile image mode=L size=40x40>,\n",
       "  <PIL.PngImagePlugin.PngImageFile image mode=L size=40x40>,\n",
       "  <PIL.PngImagePlugin.PngImageFile image mode=L size=40x40>,\n",
       "  <PIL.PngImagePlugin.PngImageFile image mode=L size=40x40>,\n",
       "  <PIL.PngImagePlugin.PngImageFile image mode=L size=40x40>,\n",
       "  <PIL.PngImagePlugin.PngImageFile image mode=L size=40x40>,\n",
       "  <PIL.PngImagePlugin.PngImageFile image mode=L size=40x40>,\n",
       "  <PIL.PngImagePlugin.PngImageFile image mode=L size=40x40>,\n",
       "  <PIL.PngImagePlugin.PngImageFile image mode=L size=40x40>,\n",
       "  <PIL.PngImagePlugin.PngImageFile image mode=L size=40x40>,\n",
       "  <PIL.PngImagePlugin.PngImageFile image mode=L size=40x40>,\n",
       "  <PIL.PngImagePlugin.PngImageFile image mode=L size=40x40>,\n",
       "  <PIL.PngImagePlugin.PngImageFile image mode=L size=40x40>,\n",
       "  <PIL.PngImagePlugin.PngImageFile image mode=L size=40x40>,\n",
       "  <PIL.PngImagePlugin.PngImageFile image mode=L size=40x40>,\n",
       "  <PIL.PngImagePlugin.PngImageFile image mode=L size=40x40>,\n",
       "  <PIL.PngImagePlugin.PngImageFile image mode=L size=40x40>,\n",
       "  <PIL.PngImagePlugin.PngImageFile image mode=L size=40x40>,\n",
       "  <PIL.PngImagePlugin.PngImageFile image mode=L size=40x40>,\n",
       "  <PIL.PngImagePlugin.PngImageFile image mode=L size=40x40>,\n",
       "  <PIL.PngImagePlugin.PngImageFile image mode=L size=40x40>,\n",
       "  <PIL.PngImagePlugin.PngImageFile image mode=L size=40x40>,\n",
       "  <PIL.PngImagePlugin.PngImageFile image mode=L size=40x40>,\n",
       "  <PIL.PngImagePlugin.PngImageFile image mode=L size=40x40>,\n",
       "  <PIL.PngImagePlugin.PngImageFile image mode=L size=40x40>,\n",
       "  <PIL.PngImagePlugin.PngImageFile image mode=L size=40x40>,\n",
       "  <PIL.PngImagePlugin.PngImageFile image mode=L size=40x40>,\n",
       "  <PIL.PngImagePlugin.PngImageFile image mode=L size=40x40>,\n",
       "  <PIL.PngImagePlugin.PngImageFile image mode=L size=40x40>,\n",
       "  <PIL.PngImagePlugin.PngImageFile image mode=L size=40x40>,\n",
       "  <PIL.PngImagePlugin.PngImageFile image mode=L size=40x40>,\n",
       "  <PIL.PngImagePlugin.PngImageFile image mode=L size=40x40>,\n",
       "  <PIL.PngImagePlugin.PngImageFile image mode=L size=40x40>,\n",
       "  <PIL.PngImagePlugin.PngImageFile image mode=L size=40x40>,\n",
       "  <PIL.PngImagePlugin.PngImageFile image mode=L size=40x40>,\n",
       "  <PIL.PngImagePlugin.PngImageFile image mode=L size=40x40>,\n",
       "  <PIL.PngImagePlugin.PngImageFile image mode=L size=40x40>,\n",
       "  <PIL.PngImagePlugin.PngImageFile image mode=L size=40x40>,\n",
       "  <PIL.PngImagePlugin.PngImageFile image mode=L size=40x40>,\n",
       "  <PIL.PngImagePlugin.PngImageFile image mode=L size=40x40>,\n",
       "  <PIL.PngImagePlugin.PngImageFile image mode=L size=40x40>,\n",
       "  <PIL.PngImagePlugin.PngImageFile image mode=L size=40x40>,\n",
       "  <PIL.PngImagePlugin.PngImageFile image mode=L size=40x40>,\n",
       "  <PIL.PngImagePlugin.PngImageFile image mode=L size=40x40>,\n",
       "  <PIL.PngImagePlugin.PngImageFile image mode=L size=40x40>,\n",
       "  <PIL.PngImagePlugin.PngImageFile image mode=L size=40x40>,\n",
       "  <PIL.PngImagePlugin.PngImageFile image mode=L size=40x40>,\n",
       "  <PIL.PngImagePlugin.PngImageFile image mode=L size=40x40>,\n",
       "  <PIL.PngImagePlugin.PngImageFile image mode=L size=40x40>,\n",
       "  <PIL.PngImagePlugin.PngImageFile image mode=L size=40x40>,\n",
       "  <PIL.PngImagePlugin.PngImageFile image mode=L size=40x40>,\n",
       "  <PIL.PngImagePlugin.PngImageFile image mode=L size=40x40>,\n",
       "  <PIL.PngImagePlugin.PngImageFile image mode=L size=40x40>,\n",
       "  <PIL.PngImagePlugin.PngImageFile image mode=L size=40x40>,\n",
       "  <PIL.PngImagePlugin.PngImageFile image mode=L size=40x40>,\n",
       "  <PIL.PngImagePlugin.PngImageFile image mode=L size=40x40>,\n",
       "  <PIL.PngImagePlugin.PngImageFile image mode=L size=40x40>,\n",
       "  <PIL.PngImagePlugin.PngImageFile image mode=L size=40x40>,\n",
       "  <PIL.PngImagePlugin.PngImageFile image mode=L size=40x40>,\n",
       "  <PIL.PngImagePlugin.PngImageFile image mode=L size=40x40>,\n",
       "  <PIL.PngImagePlugin.PngImageFile image mode=L size=40x40>,\n",
       "  <PIL.PngImagePlugin.PngImageFile image mode=L size=40x40>,\n",
       "  <PIL.PngImagePlugin.PngImageFile image mode=L size=40x40>,\n",
       "  <PIL.PngImagePlugin.PngImageFile image mode=L size=40x40>,\n",
       "  <PIL.PngImagePlugin.PngImageFile image mode=L size=40x40>,\n",
       "  <PIL.PngImagePlugin.PngImageFile image mode=L size=40x40>,\n",
       "  <PIL.PngImagePlugin.PngImageFile image mode=L size=40x40>,\n",
       "  <PIL.PngImagePlugin.PngImageFile image mode=L size=40x40>,\n",
       "  <PIL.PngImagePlugin.PngImageFile image mode=L size=40x40>,\n",
       "  <PIL.PngImagePlugin.PngImageFile image mode=L size=40x40>,\n",
       "  <PIL.PngImagePlugin.PngImageFile image mode=L size=40x40>,\n",
       "  <PIL.PngImagePlugin.PngImageFile image mode=L size=40x40>,\n",
       "  <PIL.PngImagePlugin.PngImageFile image mode=L size=40x40>,\n",
       "  <PIL.PngImagePlugin.PngImageFile image mode=L size=40x40>,\n",
       "  <PIL.PngImagePlugin.PngImageFile image mode=L size=40x40>,\n",
       "  <PIL.PngImagePlugin.PngImageFile image mode=L size=40x40>,\n",
       "  <PIL.PngImagePlugin.PngImageFile image mode=L size=40x40>,\n",
       "  <PIL.PngImagePlugin.PngImageFile image mode=L size=40x40>,\n",
       "  <PIL.PngImagePlugin.PngImageFile image mode=L size=40x40>,\n",
       "  <PIL.PngImagePlugin.PngImageFile image mode=L size=40x40>,\n",
       "  <PIL.PngImagePlugin.PngImageFile image mode=L size=40x40>,\n",
       "  <PIL.PngImagePlugin.PngImageFile image mode=L size=40x40>,\n",
       "  <PIL.PngImagePlugin.PngImageFile image mode=L size=40x40>,\n",
       "  <PIL.PngImagePlugin.PngImageFile image mode=L size=40x40>,\n",
       "  <PIL.PngImagePlugin.PngImageFile image mode=L size=40x40>,\n",
       "  <PIL.PngImagePlugin.PngImageFile image mode=L size=40x40>,\n",
       "  <PIL.PngImagePlugin.PngImageFile image mode=L size=40x40>,\n",
       "  <PIL.PngImagePlugin.PngImageFile image mode=L size=40x40>,\n",
       "  <PIL.PngImagePlugin.PngImageFile image mode=L size=40x40>,\n",
       "  <PIL.PngImagePlugin.PngImageFile image mode=L size=40x40>,\n",
       "  <PIL.PngImagePlugin.PngImageFile image mode=L size=40x40>,\n",
       "  <PIL.PngImagePlugin.PngImageFile image mode=L size=40x40>,\n",
       "  <PIL.PngImagePlugin.PngImageFile image mode=L size=40x40>,\n",
       "  <PIL.PngImagePlugin.PngImageFile image mode=L size=40x40>,\n",
       "  <PIL.PngImagePlugin.PngImageFile image mode=L size=40x40>,\n",
       "  <PIL.PngImagePlugin.PngImageFile image mode=L size=40x40>,\n",
       "  <PIL.PngImagePlugin.PngImageFile image mode=L size=40x40>,\n",
       "  <PIL.PngImagePlugin.PngImageFile image mode=L size=40x40>,\n",
       "  <PIL.PngImagePlugin.PngImageFile image mode=L size=40x40>,\n",
       "  <PIL.PngImagePlugin.PngImageFile image mode=L size=40x40>,\n",
       "  <PIL.PngImagePlugin.PngImageFile image mode=L size=40x40>,\n",
       "  <PIL.PngImagePlugin.PngImageFile image mode=L size=40x40>,\n",
       "  <PIL.PngImagePlugin.PngImageFile image mode=L size=40x40>,\n",
       "  <PIL.PngImagePlugin.PngImageFile image mode=L size=40x40>,\n",
       "  <PIL.PngImagePlugin.PngImageFile image mode=L size=40x40>,\n",
       "  <PIL.PngImagePlugin.PngImageFile image mode=L size=40x40>,\n",
       "  <PIL.PngImagePlugin.PngImageFile image mode=L size=40x40>,\n",
       "  <PIL.PngImagePlugin.PngImageFile image mode=L size=40x40>,\n",
       "  <PIL.PngImagePlugin.PngImageFile image mode=L size=40x40>,\n",
       "  <PIL.PngImagePlugin.PngImageFile image mode=L size=40x40>,\n",
       "  <PIL.PngImagePlugin.PngImageFile image mode=L size=40x40>,\n",
       "  <PIL.PngImagePlugin.PngImageFile image mode=L size=40x40>,\n",
       "  <PIL.PngImagePlugin.PngImageFile image mode=L size=40x40>,\n",
       "  <PIL.PngImagePlugin.PngImageFile image mode=L size=40x40>,\n",
       "  <PIL.PngImagePlugin.PngImageFile image mode=L size=40x40>,\n",
       "  <PIL.PngImagePlugin.PngImageFile image mode=L size=40x40>,\n",
       "  <PIL.PngImagePlugin.PngImageFile image mode=L size=40x40>,\n",
       "  <PIL.PngImagePlugin.PngImageFile image mode=L size=40x40>,\n",
       "  <PIL.PngImagePlugin.PngImageFile image mode=L size=40x40>,\n",
       "  <PIL.PngImagePlugin.PngImageFile image mode=L size=40x40>,\n",
       "  <PIL.PngImagePlugin.PngImageFile image mode=L size=40x40>,\n",
       "  <PIL.PngImagePlugin.PngImageFile image mode=L size=40x40>,\n",
       "  <PIL.PngImagePlugin.PngImageFile image mode=L size=40x40>,\n",
       "  <PIL.PngImagePlugin.PngImageFile image mode=L size=40x40>,\n",
       "  <PIL.PngImagePlugin.PngImageFile image mode=L size=40x40>,\n",
       "  <PIL.PngImagePlugin.PngImageFile image mode=L size=40x40>,\n",
       "  <PIL.PngImagePlugin.PngImageFile image mode=L size=40x40>,\n",
       "  <PIL.PngImagePlugin.PngImageFile image mode=L size=40x40>,\n",
       "  <PIL.PngImagePlugin.PngImageFile image mode=L size=40x40>,\n",
       "  <PIL.PngImagePlugin.PngImageFile image mode=L size=40x40>,\n",
       "  <PIL.PngImagePlugin.PngImageFile image mode=L size=40x40>,\n",
       "  <PIL.PngImagePlugin.PngImageFile image mode=L size=40x40>,\n",
       "  <PIL.PngImagePlugin.PngImageFile image mode=L size=40x40>,\n",
       "  <PIL.PngImagePlugin.PngImageFile image mode=L size=40x40>,\n",
       "  <PIL.PngImagePlugin.PngImageFile image mode=L size=40x40>,\n",
       "  <PIL.PngImagePlugin.PngImageFile image mode=L size=40x40>,\n",
       "  <PIL.PngImagePlugin.PngImageFile image mode=L size=40x40>,\n",
       "  <PIL.PngImagePlugin.PngImageFile image mode=L size=40x40>,\n",
       "  <PIL.PngImagePlugin.PngImageFile image mode=L size=40x40>,\n",
       "  <PIL.PngImagePlugin.PngImageFile image mode=L size=40x40>,\n",
       "  <PIL.PngImagePlugin.PngImageFile image mode=L size=40x40>,\n",
       "  <PIL.PngImagePlugin.PngImageFile image mode=L size=40x40>,\n",
       "  <PIL.PngImagePlugin.PngImageFile image mode=L size=40x40>,\n",
       "  <PIL.PngImagePlugin.PngImageFile image mode=L size=40x40>,\n",
       "  <PIL.PngImagePlugin.PngImageFile image mode=L size=40x40>,\n",
       "  <PIL.PngImagePlugin.PngImageFile image mode=L size=40x40>,\n",
       "  <PIL.PngImagePlugin.PngImageFile image mode=L size=40x40>,\n",
       "  <PIL.PngImagePlugin.PngImageFile image mode=L size=40x40>,\n",
       "  <PIL.PngImagePlugin.PngImageFile image mode=L size=40x40>,\n",
       "  <PIL.PngImagePlugin.PngImageFile image mode=L size=40x40>,\n",
       "  <PIL.PngImagePlugin.PngImageFile image mode=L size=40x40>,\n",
       "  <PIL.PngImagePlugin.PngImageFile image mode=L size=40x40>,\n",
       "  <PIL.PngImagePlugin.PngImageFile image mode=L size=40x40>,\n",
       "  <PIL.PngImagePlugin.PngImageFile image mode=L size=40x40>,\n",
       "  <PIL.PngImagePlugin.PngImageFile image mode=L size=40x40>,\n",
       "  <PIL.PngImagePlugin.PngImageFile image mode=L size=40x40>,\n",
       "  <PIL.PngImagePlugin.PngImageFile image mode=L size=40x40>,\n",
       "  <PIL.PngImagePlugin.PngImageFile image mode=L size=40x40>,\n",
       "  <PIL.PngImagePlugin.PngImageFile image mode=L size=40x40>,\n",
       "  <PIL.PngImagePlugin.PngImageFile image mode=L size=40x40>,\n",
       "  <PIL.PngImagePlugin.PngImageFile image mode=L size=40x40>,\n",
       "  <PIL.PngImagePlugin.PngImageFile image mode=L size=40x40>,\n",
       "  <PIL.PngImagePlugin.PngImageFile image mode=L size=40x40>,\n",
       "  <PIL.PngImagePlugin.PngImageFile image mode=L size=40x40>,\n",
       "  <PIL.PngImagePlugin.PngImageFile image mode=L size=40x40>,\n",
       "  <PIL.PngImagePlugin.PngImageFile image mode=L size=40x40>,\n",
       "  <PIL.PngImagePlugin.PngImageFile image mode=L size=40x40>,\n",
       "  <PIL.PngImagePlugin.PngImageFile image mode=L size=40x40>,\n",
       "  <PIL.PngImagePlugin.PngImageFile image mode=L size=40x40>,\n",
       "  <PIL.PngImagePlugin.PngImageFile image mode=L size=40x40>,\n",
       "  <PIL.PngImagePlugin.PngImageFile image mode=L size=40x40>,\n",
       "  <PIL.PngImagePlugin.PngImageFile image mode=L size=40x40>,\n",
       "  <PIL.PngImagePlugin.PngImageFile image mode=L size=40x40>,\n",
       "  <PIL.PngImagePlugin.PngImageFile image mode=L size=40x40>,\n",
       "  <PIL.PngImagePlugin.PngImageFile image mode=L size=40x40>,\n",
       "  <PIL.PngImagePlugin.PngImageFile image mode=L size=40x40>,\n",
       "  <PIL.PngImagePlugin.PngImageFile image mode=L size=40x40>,\n",
       "  <PIL.PngImagePlugin.PngImageFile image mode=L size=40x40>,\n",
       "  <PIL.PngImagePlugin.PngImageFile image mode=L size=40x40>,\n",
       "  <PIL.PngImagePlugin.PngImageFile image mode=L size=40x40>,\n",
       "  <PIL.PngImagePlugin.PngImageFile image mode=L size=40x40>,\n",
       "  <PIL.PngImagePlugin.PngImageFile image mode=L size=40x40>,\n",
       "  <PIL.PngImagePlugin.PngImageFile image mode=L size=40x40>,\n",
       "  <PIL.PngImagePlugin.PngImageFile image mode=L size=40x40>,\n",
       "  <PIL.PngImagePlugin.PngImageFile image mode=L size=40x40>,\n",
       "  <PIL.PngImagePlugin.PngImageFile image mode=L size=40x40>,\n",
       "  <PIL.PngImagePlugin.PngImageFile image mode=L size=40x40>,\n",
       "  <PIL.PngImagePlugin.PngImageFile image mode=L size=40x40>,\n",
       "  <PIL.PngImagePlugin.PngImageFile image mode=L size=40x40>,\n",
       "  <PIL.PngImagePlugin.PngImageFile image mode=L size=40x40>,\n",
       "  <PIL.PngImagePlugin.PngImageFile image mode=L size=40x40>,\n",
       "  <PIL.PngImagePlugin.PngImageFile image mode=L size=40x40>,\n",
       "  <PIL.PngImagePlugin.PngImageFile image mode=L size=40x40>,\n",
       "  <PIL.PngImagePlugin.PngImageFile image mode=L size=40x40>,\n",
       "  <PIL.PngImagePlugin.PngImageFile image mode=L size=40x40>,\n",
       "  <PIL.PngImagePlugin.PngImageFile image mode=L size=40x40>,\n",
       "  <PIL.PngImagePlugin.PngImageFile image mode=L size=40x40>,\n",
       "  <PIL.PngImagePlugin.PngImageFile image mode=L size=40x40>],\n",
       " 'label': [0,\n",
       "  0,\n",
       "  0,\n",
       "  0,\n",
       "  0,\n",
       "  0,\n",
       "  0,\n",
       "  0,\n",
       "  0,\n",
       "  0,\n",
       "  0,\n",
       "  0,\n",
       "  0,\n",
       "  0,\n",
       "  0,\n",
       "  0,\n",
       "  0,\n",
       "  0,\n",
       "  0,\n",
       "  0,\n",
       "  0,\n",
       "  0,\n",
       "  0,\n",
       "  0,\n",
       "  0,\n",
       "  0,\n",
       "  0,\n",
       "  0,\n",
       "  0,\n",
       "  0,\n",
       "  0,\n",
       "  0,\n",
       "  0,\n",
       "  0,\n",
       "  0,\n",
       "  0,\n",
       "  0,\n",
       "  0,\n",
       "  0,\n",
       "  0,\n",
       "  1,\n",
       "  1,\n",
       "  1,\n",
       "  1,\n",
       "  1,\n",
       "  1,\n",
       "  1,\n",
       "  1,\n",
       "  1,\n",
       "  1,\n",
       "  0,\n",
       "  0,\n",
       "  0,\n",
       "  0,\n",
       "  0,\n",
       "  0,\n",
       "  0,\n",
       "  0,\n",
       "  0,\n",
       "  0,\n",
       "  1,\n",
       "  1,\n",
       "  1,\n",
       "  1,\n",
       "  1,\n",
       "  1,\n",
       "  1,\n",
       "  1,\n",
       "  1,\n",
       "  1,\n",
       "  1,\n",
       "  1,\n",
       "  1,\n",
       "  1,\n",
       "  1,\n",
       "  1,\n",
       "  1,\n",
       "  1,\n",
       "  1,\n",
       "  1,\n",
       "  1,\n",
       "  1,\n",
       "  1,\n",
       "  1,\n",
       "  1,\n",
       "  1,\n",
       "  1,\n",
       "  1,\n",
       "  1,\n",
       "  1,\n",
       "  0,\n",
       "  0,\n",
       "  0,\n",
       "  0,\n",
       "  0,\n",
       "  0,\n",
       "  0,\n",
       "  0,\n",
       "  0,\n",
       "  0,\n",
       "  1,\n",
       "  1,\n",
       "  1,\n",
       "  1,\n",
       "  1,\n",
       "  1,\n",
       "  1,\n",
       "  1,\n",
       "  1,\n",
       "  1,\n",
       "  0,\n",
       "  0,\n",
       "  0,\n",
       "  0,\n",
       "  0,\n",
       "  0,\n",
       "  0,\n",
       "  0,\n",
       "  0,\n",
       "  0,\n",
       "  1,\n",
       "  1,\n",
       "  1,\n",
       "  1,\n",
       "  1,\n",
       "  1,\n",
       "  1,\n",
       "  1,\n",
       "  1,\n",
       "  1,\n",
       "  1,\n",
       "  1,\n",
       "  1,\n",
       "  1,\n",
       "  1,\n",
       "  1,\n",
       "  1,\n",
       "  1,\n",
       "  1,\n",
       "  1,\n",
       "  0,\n",
       "  0,\n",
       "  0,\n",
       "  0,\n",
       "  0,\n",
       "  0,\n",
       "  0,\n",
       "  0,\n",
       "  0,\n",
       "  0,\n",
       "  0,\n",
       "  0,\n",
       "  0,\n",
       "  0,\n",
       "  0,\n",
       "  0,\n",
       "  0,\n",
       "  0,\n",
       "  0,\n",
       "  0,\n",
       "  1,\n",
       "  1,\n",
       "  1,\n",
       "  1,\n",
       "  1,\n",
       "  1,\n",
       "  1,\n",
       "  1,\n",
       "  1,\n",
       "  1,\n",
       "  0,\n",
       "  0,\n",
       "  0,\n",
       "  0,\n",
       "  0,\n",
       "  0,\n",
       "  0,\n",
       "  0,\n",
       "  0,\n",
       "  0,\n",
       "  0,\n",
       "  0,\n",
       "  0,\n",
       "  0,\n",
       "  0,\n",
       "  0,\n",
       "  0,\n",
       "  0,\n",
       "  0,\n",
       "  0,\n",
       "  1,\n",
       "  1,\n",
       "  1,\n",
       "  1,\n",
       "  1,\n",
       "  1,\n",
       "  1,\n",
       "  1,\n",
       "  1,\n",
       "  1,\n",
       "  1,\n",
       "  1,\n",
       "  1,\n",
       "  1,\n",
       "  1,\n",
       "  1,\n",
       "  1,\n",
       "  1,\n",
       "  1,\n",
       "  1,\n",
       "  0,\n",
       "  0,\n",
       "  0,\n",
       "  0,\n",
       "  0,\n",
       "  0,\n",
       "  0,\n",
       "  0,\n",
       "  0,\n",
       "  0,\n",
       "  0,\n",
       "  0,\n",
       "  0,\n",
       "  0,\n",
       "  0,\n",
       "  0,\n",
       "  0,\n",
       "  0,\n",
       "  0,\n",
       "  0,\n",
       "  0,\n",
       "  0,\n",
       "  0,\n",
       "  0,\n",
       "  0,\n",
       "  0,\n",
       "  0,\n",
       "  0,\n",
       "  0,\n",
       "  0,\n",
       "  1,\n",
       "  1,\n",
       "  1,\n",
       "  1,\n",
       "  1,\n",
       "  1,\n",
       "  1,\n",
       "  1,\n",
       "  1,\n",
       "  1,\n",
       "  0,\n",
       "  0,\n",
       "  0,\n",
       "  0,\n",
       "  0,\n",
       "  0]}"
      ]
     },
     "execution_count": 42,
     "metadata": {},
     "output_type": "execute_result"
    }
   ],
   "source": [
    "%%time\n",
    "images_ds[\"train\"][:256]"
   ]
  },
  {
   "cell_type": "markdown",
   "id": "ce417394-e307-43ca-a7f8-33845f6252db",
   "metadata": {},
   "source": [
    "## Using dataset"
   ]
  },
  {
   "cell_type": "code",
   "execution_count": 68,
   "id": "17e9680e-f6b5-4775-a3fe-4b06825c62dd",
   "metadata": {},
   "outputs": [],
   "source": [
    "num_samples = 100_000"
   ]
  },
  {
   "cell_type": "code",
   "execution_count": 47,
   "id": "25cb871e-9db9-4cb0-bce3-d538140fcc4b",
   "metadata": {},
   "outputs": [],
   "source": [
    "def convert_to_tensor(x):\n",
    "    x[\"pixel_values\"] = [transforms.ToTensor()(img) for img in x[\"image\"]]\n",
    "    x[\"label\"] = [torch.tensor(l).unsqueeze(0) for l in x[\"label\"]]\n",
    "    return x"
   ]
  },
  {
   "cell_type": "code",
   "execution_count": 48,
   "id": "b103e043-167c-4007-97ea-13b73338c057",
   "metadata": {},
   "outputs": [
    {
     "name": "stdout",
     "output_type": "stream",
     "text": [
      " "
     ]
    },
    {
     "name": "stderr",
     "output_type": "stream",
     "text": [
      "Loading cached processed dataset at /home/lewis/.cache/huggingface/datasets/dl4phys___parquet/dl4phys--top_landscape_images-9b271235338645d2/0.0.0/0b6d5799bb726b24ad7fc7be720c170d8e497f575d02d47537de9a5bac074901/cache-b450dc0c83c1a67f.arrow\n"
     ]
    },
    {
     "name": "stdout",
     "output_type": "stream",
     "text": [
      " "
     ]
    },
    {
     "name": "stderr",
     "output_type": "stream",
     "text": [
      "Loading cached processed dataset at /home/lewis/.cache/huggingface/datasets/dl4phys___parquet/dl4phys--top_landscape_images-9b271235338645d2/0.0.0/0b6d5799bb726b24ad7fc7be720c170d8e497f575d02d47537de9a5bac074901/cache-3089ed3cd2c7fa57.arrow\n"
     ]
    },
    {
     "name": "stdout",
     "output_type": "stream",
     "text": [
      " "
     ]
    },
    {
     "name": "stderr",
     "output_type": "stream",
     "text": [
      "Loading cached processed dataset at /home/lewis/.cache/huggingface/datasets/dl4phys___parquet/dl4phys--top_landscape_images-9b271235338645d2/0.0.0/0b6d5799bb726b24ad7fc7be720c170d8e497f575d02d47537de9a5bac074901/cache-8fe848766b132ddd.arrow\n"
     ]
    },
    {
     "name": "stdout",
     "output_type": "stream",
     "text": [
      " "
     ]
    },
    {
     "name": "stderr",
     "output_type": "stream",
     "text": [
      "Loading cached processed dataset at /home/lewis/.cache/huggingface/datasets/dl4phys___parquet/dl4phys--top_landscape_images-9b271235338645d2/0.0.0/0b6d5799bb726b24ad7fc7be720c170d8e497f575d02d47537de9a5bac074901/cache-60be1454cd6c9d7f.arrow\n"
     ]
    },
    {
     "name": "stdout",
     "output_type": "stream",
     "text": [
      " "
     ]
    },
    {
     "name": "stderr",
     "output_type": "stream",
     "text": [
      "Loading cached processed dataset at /home/lewis/.cache/huggingface/datasets/dl4phys___parquet/dl4phys--top_landscape_images-9b271235338645d2/0.0.0/0b6d5799bb726b24ad7fc7be720c170d8e497f575d02d47537de9a5bac074901/cache-59f55e7e7bbca34e.arrow\n"
     ]
    },
    {
     "name": "stdout",
     "output_type": "stream",
     "text": [
      " "
     ]
    },
    {
     "name": "stderr",
     "output_type": "stream",
     "text": [
      "Loading cached processed dataset at /home/lewis/.cache/huggingface/datasets/dl4phys___parquet/dl4phys--top_landscape_images-9b271235338645d2/0.0.0/0b6d5799bb726b24ad7fc7be720c170d8e497f575d02d47537de9a5bac074901/cache-a7acaed6da4dcf15.arrow\n"
     ]
    },
    {
     "name": "stdout",
     "output_type": "stream",
     "text": [
      " "
     ]
    },
    {
     "name": "stderr",
     "output_type": "stream",
     "text": [
      "Loading cached processed dataset at /home/lewis/.cache/huggingface/datasets/dl4phys___parquet/dl4phys--top_landscape_images-9b271235338645d2/0.0.0/0b6d5799bb726b24ad7fc7be720c170d8e497f575d02d47537de9a5bac074901/cache-2c763458767ff94d.arrow\n"
     ]
    },
    {
     "name": "stdout",
     "output_type": "stream",
     "text": [
      " "
     ]
    },
    {
     "name": "stderr",
     "output_type": "stream",
     "text": [
      "Loading cached processed dataset at /home/lewis/.cache/huggingface/datasets/dl4phys___parquet/dl4phys--top_landscape_images-9b271235338645d2/0.0.0/0b6d5799bb726b24ad7fc7be720c170d8e497f575d02d47537de9a5bac074901/cache-74c910ef6cfcaa80.arrow\n"
     ]
    },
    {
     "name": "stdout",
     "output_type": "stream",
     "text": [
      " "
     ]
    },
    {
     "name": "stderr",
     "output_type": "stream",
     "text": [
      "Loading cached processed dataset at /home/lewis/.cache/huggingface/datasets/dl4phys___parquet/dl4phys--top_landscape_images-9b271235338645d2/0.0.0/0b6d5799bb726b24ad7fc7be720c170d8e497f575d02d47537de9a5bac074901/cache-407546ab9ed0b964.arrow\n"
     ]
    },
    {
     "name": "stdout",
     "output_type": "stream",
     "text": [
      " "
     ]
    },
    {
     "name": "stderr",
     "output_type": "stream",
     "text": [
      "Loading cached processed dataset at /home/lewis/.cache/huggingface/datasets/dl4phys___parquet/dl4phys--top_landscape_images-9b271235338645d2/0.0.0/0b6d5799bb726b24ad7fc7be720c170d8e497f575d02d47537de9a5bac074901/cache-f9ab346ca267a70b.arrow\n"
     ]
    },
    {
     "name": "stdout",
     "output_type": "stream",
     "text": [
      " "
     ]
    },
    {
     "name": "stderr",
     "output_type": "stream",
     "text": [
      "Loading cached processed dataset at /home/lewis/.cache/huggingface/datasets/dl4phys___parquet/dl4phys--top_landscape_images-9b271235338645d2/0.0.0/0b6d5799bb726b24ad7fc7be720c170d8e497f575d02d47537de9a5bac074901/cache-dcb953e4638b49e6.arrow\n"
     ]
    },
    {
     "name": "stdout",
     "output_type": "stream",
     "text": [
      " "
     ]
    },
    {
     "name": "stderr",
     "output_type": "stream",
     "text": [
      "Loading cached processed dataset at /home/lewis/.cache/huggingface/datasets/dl4phys___parquet/dl4phys--top_landscape_images-9b271235338645d2/0.0.0/0b6d5799bb726b24ad7fc7be720c170d8e497f575d02d47537de9a5bac074901/cache-b7045a46fe6e586f.arrow\n"
     ]
    }
   ],
   "source": [
    "images_ds = images_ds.map(convert_to_tensor, batched=True, num_proc=4)"
   ]
  },
  {
   "cell_type": "code",
   "execution_count": 49,
   "id": "130a9406-e826-4718-bf2d-a8fa8a423c0a",
   "metadata": {},
   "outputs": [],
   "source": [
    "images_ds = images_ds.remove_columns(\"image\")"
   ]
  },
  {
   "cell_type": "code",
   "execution_count": 69,
   "id": "f4bb92a8-3ab3-4839-9cf4-4fe4fe5f4976",
   "metadata": {},
   "outputs": [
    {
     "data": {
      "text/plain": [
       "DatasetDict({\n",
       "    validation: Dataset({\n",
       "        features: ['label', 'pixel_values'],\n",
       "        num_rows: 403000\n",
       "    })\n",
       "    test: Dataset({\n",
       "        features: ['label', 'pixel_values'],\n",
       "        num_rows: 404000\n",
       "    })\n",
       "    train: Dataset({\n",
       "        features: ['label', 'pixel_values'],\n",
       "        num_rows: 1211000\n",
       "    })\n",
       "})"
      ]
     },
     "execution_count": 69,
     "metadata": {},
     "output_type": "execute_result"
    }
   ],
   "source": [
    "images_ds"
   ]
  },
  {
   "cell_type": "code",
   "execution_count": 70,
   "id": "3e5c8c0b-9ae1-431d-9946-60306fd699e0",
   "metadata": {},
   "outputs": [],
   "source": [
    "class JetImageDataset(Dataset):\n",
    "    def __init__(self, ds):\n",
    "        self.ds = ds\n",
    "\n",
    "    def __len__(self):\n",
    "        return len(self.ds)\n",
    "\n",
    "    def __getitem__(self, idx):\n",
    "        data = self.ds[idx]\n",
    "        image = torch.tensor(data[\"pixel_values\"]) \n",
    "        label = torch.tensor(data[\"label\"]).squeeze() \n",
    "        # image = self.ds[idx][\"pixel_values\"]\n",
    "        # label = self.ds[idx][\"label\"]\n",
    "        return image, label"
   ]
  },
  {
   "cell_type": "code",
   "execution_count": 52,
   "id": "c3de03df-ad54-44f2-8d68-56dd6f59de47",
   "metadata": {},
   "outputs": [],
   "source": [
    "# %%time\n",
    "# for i in images_ds[\"train\"].select(range(num_samples)):\n",
    "#     _ = i"
   ]
  },
  {
   "cell_type": "code",
   "execution_count": 71,
   "id": "aa3aa7b8-0963-4cb2-a019-1c73103f240e",
   "metadata": {},
   "outputs": [],
   "source": [
    "train_ds = JetImageDataset(images_ds[\"train\"].select(range(num_samples)))\n",
    "valid_ds = JetImageDataset(images_ds[\"validation\"])"
   ]
  },
  {
   "cell_type": "code",
   "execution_count": 54,
   "id": "d4fe2dd0-2148-4de6-8af6-f4aaa8d6472d",
   "metadata": {},
   "outputs": [],
   "source": [
    "train_dl = DataLoader(\n",
    "    train_ds,\n",
    "    bs=256,\n",
    "    shuffle=True,\n",
    ")\n",
    "valid_dl = DataLoader(valid_ds, bs=128)"
   ]
  },
  {
   "cell_type": "code",
   "execution_count": 55,
   "id": "1ef98a9b-367f-4ea9-b24e-ee3b1196bc9c",
   "metadata": {},
   "outputs": [
    {
     "name": "stdout",
     "output_type": "stream",
     "text": [
      "CPU times: user 4 µs, sys: 0 ns, total: 4 µs\n",
      "Wall time: 9.06 µs\n"
     ]
    }
   ],
   "source": [
    "%time\n",
    "for xb,yb in train_dl:\n",
    "    _ = 1"
   ]
  },
  {
   "cell_type": "code",
   "execution_count": 56,
   "id": "ccef970b-d623-42c4-883a-8e07e2df6d11",
   "metadata": {},
   "outputs": [],
   "source": [
    "train_dl = DataLoader(\n",
    "    train_ds,\n",
    "    bs=256,\n",
    "    shuffle=True,\n",
    "    num_workers=1,\n",
    "    pin_memory=True\n",
    ")\n",
    "train_dl.to(\"cuda\");"
   ]
  },
  {
   "cell_type": "code",
   "execution_count": 21,
   "id": "9c59114f-d4cc-40e8-a6f6-1ad3199b76e8",
   "metadata": {},
   "outputs": [
    {
     "name": "stdout",
     "output_type": "stream",
     "text": [
      "CPU times: user 3 µs, sys: 0 ns, total: 3 µs\n",
      "Wall time: 6.91 µs\n"
     ]
    }
   ],
   "source": [
    "%time\n",
    "for xb,yb in train_dl:\n",
    "    _ = 1"
   ]
  },
  {
   "cell_type": "code",
   "execution_count": 15,
   "id": "9a8d5a12-ae19-421b-af5d-8071bac1a96e",
   "metadata": {},
   "outputs": [
    {
     "data": {
      "text/plain": [
       "10000"
      ]
     },
     "execution_count": 15,
     "metadata": {},
     "output_type": "execute_result"
    }
   ],
   "source": [
    "len(train_ds)"
   ]
  },
  {
   "cell_type": "code",
   "execution_count": 8,
   "id": "06666ea2-1dc6-4480-9ea9-1048b2ec7f42",
   "metadata": {},
   "outputs": [
    {
     "data": {
      "text/plain": [
       "device(type='cpu')"
      ]
     },
     "execution_count": 8,
     "metadata": {},
     "output_type": "execute_result"
    }
   ],
   "source": [
    "train_ds[0][0].device"
   ]
  },
  {
   "cell_type": "code",
   "execution_count": 72,
   "id": "3f8cdbfd-132f-4f14-b008-40a2c3870db4",
   "metadata": {},
   "outputs": [],
   "source": [
    "train_dl = DataLoader(\n",
    "    train_ds,\n",
    "    bs=256,\n",
    "    # shuffle=True,\n",
    ")\n",
    "valid_dl = DataLoader(valid_ds, bs=128)"
   ]
  },
  {
   "cell_type": "code",
   "execution_count": 72,
   "id": "3a6621d3-6721-46b7-bee0-08dc3b3d564b",
   "metadata": {},
   "outputs": [],
   "source": [
    "train_dl.to(\"cuda\");\n",
    "valid_dl.to(\"cuda\");"
   ]
  },
  {
   "cell_type": "code",
   "execution_count": 58,
   "id": "f3e091c7-65c4-4639-9b1d-48cb8e7c783d",
   "metadata": {},
   "outputs": [],
   "source": [
    "xb, yb = first(train_dl)"
   ]
  },
  {
   "cell_type": "code",
   "execution_count": 59,
   "id": "0ba639b6-1512-4fd8-b6ef-ca073e2209b3",
   "metadata": {},
   "outputs": [
    {
     "data": {
      "text/plain": [
       "(torch.Size([256, 1, 40, 40]), torch.Size([256]))"
      ]
     },
     "execution_count": 59,
     "metadata": {},
     "output_type": "execute_result"
    }
   ],
   "source": [
    "xb.shape, yb.shape"
   ]
  },
  {
   "cell_type": "code",
   "execution_count": 73,
   "id": "ea173ad4-6978-40e7-8f62-8eae90a086b3",
   "metadata": {},
   "outputs": [],
   "source": [
    "dls = DataLoaders(train_dl, valid_dl)\n",
    "dls.to(\"cuda\");"
   ]
  },
  {
   "cell_type": "code",
   "execution_count": 74,
   "id": "461f90a8-08c4-44be-8175-938b3e3d97d3",
   "metadata": {},
   "outputs": [],
   "source": [
    "learn = vision_learner(\n",
    "    dls,\n",
    "    resnet18,\n",
    "    metrics=[accuracy],\n",
    "    n_in=1,\n",
    "    n_out=2,\n",
    "    normalize=False,\n",
    "    loss_func=F.cross_entropy,\n",
    ")"
   ]
  },
  {
   "cell_type": "code",
   "execution_count": 75,
   "id": "349f5d22-6b8e-4a1c-8eaf-fde90ee0ff39",
   "metadata": {},
   "outputs": [],
   "source": [
    "learn.model.to(\"cuda\");"
   ]
  },
  {
   "cell_type": "code",
   "execution_count": 76,
   "id": "5ea7a92f-857e-4df8-8942-87f5414a0815",
   "metadata": {},
   "outputs": [],
   "source": [
    "xb, yb = first(dls.loaders[0])"
   ]
  },
  {
   "cell_type": "code",
   "execution_count": 77,
   "id": "880e9bf1-de19-4403-9606-119302b72ac0",
   "metadata": {},
   "outputs": [
    {
     "data": {
      "text/plain": [
       "device(type='cuda', index=0)"
      ]
     },
     "execution_count": 77,
     "metadata": {},
     "output_type": "execute_result"
    }
   ],
   "source": [
    "xb.device"
   ]
  },
  {
   "cell_type": "code",
   "execution_count": 78,
   "id": "2da35cbc-db7f-4ddd-b7bd-4c2b288e1b17",
   "metadata": {},
   "outputs": [
    {
     "data": {
      "text/plain": [
       "device(type='cuda', index=0)"
      ]
     },
     "execution_count": 78,
     "metadata": {},
     "output_type": "execute_result"
    }
   ],
   "source": [
    "learn.model(xb).device"
   ]
  },
  {
   "cell_type": "code",
   "execution_count": 79,
   "id": "9e513595-3488-4b54-8a25-f029b63388f7",
   "metadata": {},
   "outputs": [
    {
     "data": {
      "text/html": [
       "\n",
       "<style>\n",
       "    /* Turns off some styling */\n",
       "    progress {\n",
       "        /* gets rid of default border in Firefox and Opera. */\n",
       "        border: none;\n",
       "        /* Needs to be in here for Safari polyfill so background images work as expected. */\n",
       "        background-size: auto;\n",
       "    }\n",
       "    .progress-bar-interrupted, .progress-bar-interrupted::-webkit-progress-bar {\n",
       "        background: #F44336;\n",
       "    }\n",
       "</style>\n"
      ],
      "text/plain": [
       "<IPython.core.display.HTML object>"
      ]
     },
     "metadata": {},
     "output_type": "display_data"
    },
    {
     "data": {
      "text/html": [],
      "text/plain": [
       "<IPython.core.display.HTML object>"
      ]
     },
     "metadata": {},
     "output_type": "display_data"
    },
    {
     "data": {
      "text/plain": [
       "SuggestedLRs(valley=0.0012022644514217973)"
      ]
     },
     "execution_count": 79,
     "metadata": {},
     "output_type": "execute_result"
    },
    {
     "data": {
      "image/png": "[encoded data removed]",
      "text/plain": [
       "<Figure size 432x288 with 1 Axes>"
      ]
     },
     "metadata": {
      "needs_background": "light"
     },
     "output_type": "display_data"
    }
   ],
   "source": [
    "learn.lr_find()"
   ]
  },
  {
   "cell_type": "code",
   "execution_count": 80,
   "id": "c5393afa-344f-4929-96f9-1537f8ca43d9",
   "metadata": {},
   "outputs": [
    {
     "data": {
      "text/html": [
       "\n",
       "<style>\n",
       "    /* Turns off some styling */\n",
       "    progress {\n",
       "        /* gets rid of default border in Firefox and Opera. */\n",
       "        border: none;\n",
       "        /* Needs to be in here for Safari polyfill so background images work as expected. */\n",
       "        background-size: auto;\n",
       "    }\n",
       "    .progress-bar-interrupted, .progress-bar-interrupted::-webkit-progress-bar {\n",
       "        background: #F44336;\n",
       "    }\n",
       "</style>\n"
      ],
      "text/plain": [
       "<IPython.core.display.HTML object>"
      ]
     },
     "metadata": {},
     "output_type": "display_data"
    },
    {
     "data": {
      "text/html": [
       "<table border=\"1\" class=\"dataframe\">\n",
       "  <thead>\n",
       "    <tr style=\"text-align: left;\">\n",
       "      <th>epoch</th>\n",
       "      <th>train_loss</th>\n",
       "      <th>valid_loss</th>\n",
       "      <th>accuracy</th>\n",
       "      <th>time</th>\n",
       "    </tr>\n",
       "  </thead>\n",
       "  <tbody>\n",
       "    <tr>\n",
       "      <td>0</td>\n",
       "      <td>0.514728</td>\n",
       "      <td>0.425086</td>\n",
       "      <td>0.809208</td>\n",
       "      <td>05:41</td>\n",
       "    </tr>\n",
       "  </tbody>\n",
       "</table>"
      ],
      "text/plain": [
       "<IPython.core.display.HTML object>"
      ]
     },
     "metadata": {},
     "output_type": "display_data"
    },
    {
     "data": {
      "text/html": [
       "\n",
       "<style>\n",
       "    /* Turns off some styling */\n",
       "    progress {\n",
       "        /* gets rid of default border in Firefox and Opera. */\n",
       "        border: none;\n",
       "        /* Needs to be in here for Safari polyfill so background images work as expected. */\n",
       "        background-size: auto;\n",
       "    }\n",
       "    .progress-bar-interrupted, .progress-bar-interrupted::-webkit-progress-bar {\n",
       "        background: #F44336;\n",
       "    }\n",
       "</style>\n"
      ],
      "text/plain": [
       "<IPython.core.display.HTML object>"
      ]
     },
     "metadata": {},
     "output_type": "display_data"
    },
    {
     "data": {
      "text/html": [
       "<table border=\"1\" class=\"dataframe\">\n",
       "  <thead>\n",
       "    <tr style=\"text-align: left;\">\n",
       "      <th>epoch</th>\n",
       "      <th>train_loss</th>\n",
       "      <th>valid_loss</th>\n",
       "      <th>accuracy</th>\n",
       "      <th>time</th>\n",
       "    </tr>\n",
       "  </thead>\n",
       "  <tbody>\n",
       "    <tr>\n",
       "      <td>0</td>\n",
       "      <td>0.328901</td>\n",
       "      <td>0.292307</td>\n",
       "      <td>0.877146</td>\n",
       "      <td>05:49</td>\n",
       "    </tr>\n",
       "  </tbody>\n",
       "</table>"
      ],
      "text/plain": [
       "<IPython.core.display.HTML object>"
      ]
     },
     "metadata": {},
     "output_type": "display_data"
    }
   ],
   "source": [
    "learn.fine_tune(1, 1e-3)"
   ]
  },
  {
   "cell_type": "markdown",
   "id": "10eb4c52-5d6b-4bdd-aebc-ba388d803775",
   "metadata": {},
   "source": [
    "## Train simple convnet"
   ]
  },
  {
   "cell_type": "code",
   "execution_count": 5,
   "id": "86107514-ceb6-4d24-9eff-24bbae748f7e",
   "metadata": {},
   "outputs": [],
   "source": [
    "def conv(ni, nf, ks=3, act=True):\n",
    "    res = nn.Conv2d(ni, nf, stride=2, kernel_size=ks, padding=ks // 2)\n",
    "    if act:\n",
    "        res = nn.Sequential(res, nn.ReLU())\n",
    "    return res"
   ]
  },
  {
   "cell_type": "code",
   "execution_count": 64,
   "id": "118a80bc-8e75-46de-ab1e-7f3d0d28c132",
   "metadata": {},
   "outputs": [],
   "source": [
    "simple_cnn = nn.Sequential(\n",
    "    conv(1, 4),\n",
    "    conv(4, 8),\n",
    "    conv(8, 16),\n",
    "    conv(16, 32),\n",
    "    conv(32, 16),\n",
    "    conv(16, 2, act=False),\n",
    "    Flatten(),\n",
    ").to(\"cuda\")"
   ]
  },
  {
   "cell_type": "code",
   "execution_count": 65,
   "id": "0f2f3d47-9054-466e-93b2-2fb15959853f",
   "metadata": {},
   "outputs": [
    {
     "data": {
      "text/plain": [
       "torch.Size([128, 2])"
      ]
     },
     "execution_count": 65,
     "metadata": {},
     "output_type": "execute_result"
    }
   ],
   "source": [
    "simple_cnn(xb).shape"
   ]
  },
  {
   "cell_type": "code",
   "execution_count": 66,
   "id": "be9f9558-8af1-45bf-9c00-47d911c22fc8",
   "metadata": {},
   "outputs": [],
   "source": [
    "learn = Learner(\n",
    "    dls, simple_cnn, metrics=[accuracy, RocAucBinary()], loss_func=F.cross_entropy\n",
    ")"
   ]
  },
  {
   "cell_type": "code",
   "execution_count": 67,
   "id": "69548f36-6773-4bbc-a2ad-e8bc21be73ae",
   "metadata": {},
   "outputs": [
    {
     "data": {
      "text/html": [
       "\n",
       "<style>\n",
       "    /* Turns off some styling */\n",
       "    progress {\n",
       "        /* gets rid of default border in Firefox and Opera. */\n",
       "        border: none;\n",
       "        /* Needs to be in here for Safari polyfill so background images work as expected. */\n",
       "        background-size: auto;\n",
       "    }\n",
       "    .progress-bar-interrupted, .progress-bar-interrupted::-webkit-progress-bar {\n",
       "        background: #F44336;\n",
       "    }\n",
       "</style>\n"
      ],
      "text/plain": [
       "<IPython.core.display.HTML object>"
      ]
     },
     "metadata": {},
     "output_type": "display_data"
    },
    {
     "data": {
      "text/html": [],
      "text/plain": [
       "<IPython.core.display.HTML object>"
      ]
     },
     "metadata": {},
     "output_type": "display_data"
    },
    {
     "data": {
      "text/plain": [
       "Sequential (Input shape: 128 x 1 x 40 x 40)\n",
       "============================================================================\n",
       "Layer (type)         Output Shape         Param #    Trainable \n",
       "============================================================================\n",
       "                     128 x 4 x 20 x 20   \n",
       "Conv2d                                    40         True      \n",
       "ReLU                                                           \n",
       "____________________________________________________________________________\n",
       "                     128 x 8 x 10 x 10   \n",
       "Conv2d                                    296        True      \n",
       "ReLU                                                           \n",
       "____________________________________________________________________________\n",
       "                     128 x 16 x 5 x 5    \n",
       "Conv2d                                    1168       True      \n",
       "ReLU                                                           \n",
       "____________________________________________________________________________\n",
       "                     128 x 32 x 3 x 3    \n",
       "Conv2d                                    4640       True      \n",
       "ReLU                                                           \n",
       "____________________________________________________________________________\n",
       "                     128 x 16 x 2 x 2    \n",
       "Conv2d                                    4624       True      \n",
       "ReLU                                                           \n",
       "____________________________________________________________________________\n",
       "                     128 x 2 x 1 x 1     \n",
       "Conv2d                                    290        True      \n",
       "____________________________________________________________________________\n",
       "                     128 x 2             \n",
       "Flatten                                                        \n",
       "____________________________________________________________________________\n",
       "\n",
       "Total params: 11,058\n",
       "Total trainable params: 11,058\n",
       "Total non-trainable params: 0\n",
       "\n",
       "Optimizer used: <function Adam at 0x7ff1ffc81040>\n",
       "Loss function: <function cross_entropy at 0x7ff25c0de3a0>\n",
       "\n",
       "Callbacks:\n",
       "  - TrainEvalCallback\n",
       "  - Recorder\n",
       "  - ProgressCallback"
      ]
     },
     "execution_count": 67,
     "metadata": {},
     "output_type": "execute_result"
    }
   ],
   "source": [
    "learn.summary()"
   ]
  },
  {
   "cell_type": "code",
   "execution_count": 68,
   "id": "6b35adcd-ef8f-4b52-bea8-ee23ce0b8871",
   "metadata": {},
   "outputs": [
    {
     "data": {
      "text/html": [
       "\n",
       "<style>\n",
       "    /* Turns off some styling */\n",
       "    progress {\n",
       "        /* gets rid of default border in Firefox and Opera. */\n",
       "        border: none;\n",
       "        /* Needs to be in here for Safari polyfill so background images work as expected. */\n",
       "        background-size: auto;\n",
       "    }\n",
       "    .progress-bar-interrupted, .progress-bar-interrupted::-webkit-progress-bar {\n",
       "        background: #F44336;\n",
       "    }\n",
       "</style>\n"
      ],
      "text/plain": [
       "<IPython.core.display.HTML object>"
      ]
     },
     "metadata": {},
     "output_type": "display_data"
    },
    {
     "data": {
      "text/html": [],
      "text/plain": [
       "<IPython.core.display.HTML object>"
      ]
     },
     "metadata": {},
     "output_type": "display_data"
    },
    {
     "data": {
      "text/plain": [
       "SuggestedLRs(valley=0.0030199517495930195)"
      ]
     },
     "execution_count": 68,
     "metadata": {},
     "output_type": "execute_result"
    },
    {
     "data": {
      "image/png": "[encoded data removed]",
      "text/plain": [
       "<Figure size 432x288 with 1 Axes>"
      ]
     },
     "metadata": {
      "needs_background": "light"
     },
     "output_type": "display_data"
    }
   ],
   "source": [
    "learn.lr_find()"
   ]
  },
  {
   "cell_type": "code",
   "execution_count": null,
   "id": "1142f48b-eeb4-4d9e-8902-e8b4c78c404a",
   "metadata": {},
   "outputs": [],
   "source": [
    "learn.fit_one_cycle(5, 3e-3)"
   ]
  },
  {
   "cell_type": "markdown",
   "id": "008118f0-7479-430e-87c4-37d4e4474e0b",
   "metadata": {},
   "source": [
    "## Train with tensors"
   ]
  },
  {
   "cell_type": "code",
   "execution_count": 13,
   "id": "f5b244d6-91a4-4184-89c0-67cdd23de1fa",
   "metadata": {},
   "outputs": [],
   "source": [
    "num_samples = 10_000"
   ]
  },
  {
   "cell_type": "code",
   "execution_count": 14,
   "id": "ff18ad83-35fd-4a31-8d44-a0d7dd631972",
   "metadata": {},
   "outputs": [],
   "source": [
    "train_ds = images_ds[\"train\"].shuffle()"
   ]
  },
  {
   "cell_type": "code",
   "execution_count": 15,
   "id": "1921c565-8301-4470-ae82-e2aec9d00aa3",
   "metadata": {},
   "outputs": [
    {
     "data": {
      "image/png": "[encoded data removed]",
      "text/plain": [
       "<PIL.PngImagePlugin.PngImageFile image mode=L size=40x40>"
      ]
     },
     "execution_count": 15,
     "metadata": {},
     "output_type": "execute_result"
    }
   ],
   "source": [
    "images = train_ds[:num_samples][\"image\"]\n",
    "images[0]"
   ]
  },
  {
   "cell_type": "code",
   "execution_count": 16,
   "id": "da6af12a-134a-421d-ad79-41b24135488f",
   "metadata": {},
   "outputs": [],
   "source": [
    "labels = train_ds[:num_samples][\"label\"]"
   ]
  },
  {
   "cell_type": "code",
   "execution_count": 17,
   "id": "5c0a53a0-8790-4287-a5fb-44d102d29219",
   "metadata": {},
   "outputs": [],
   "source": [
    "train_x = torch.cat([transforms.ToTensor()(img) for img in images]).unsqueeze(1)\n",
    "train_y = torch.cat([torch.tensor(l) for l in labels])"
   ]
  },
  {
   "cell_type": "code",
   "execution_count": 18,
   "id": "4f18ab62-229d-4c6d-988e-29bbf4a82937",
   "metadata": {},
   "outputs": [
    {
     "data": {
      "text/plain": [
       "(torch.Size([10000, 1, 40, 40]), torch.Size([10000]))"
      ]
     },
     "execution_count": 18,
     "metadata": {},
     "output_type": "execute_result"
    }
   ],
   "source": [
    "train_x.shape, train_y.shape"
   ]
  },
  {
   "cell_type": "code",
   "execution_count": 19,
   "id": "48512eb3-eb3d-435d-be31-0bc94f547768",
   "metadata": {},
   "outputs": [],
   "source": [
    "class JetTensorDataset(Dataset):\n",
    "    def __init__(self, images, labels):\n",
    "        self.images = images\n",
    "        self.labels = labels\n",
    "\n",
    "    def __len__(self):\n",
    "        return len(self.images)\n",
    "\n",
    "    def __getitem__(self, idx):\n",
    "        return self.images[idx], self.labels[idx]"
   ]
  },
  {
   "cell_type": "code",
   "execution_count": 20,
   "id": "49cf4cfb-6de1-4f9c-be9d-f729243627af",
   "metadata": {},
   "outputs": [],
   "source": [
    "train_ds = JetTensorDataset(train_x, train_y)"
   ]
  },
  {
   "cell_type": "code",
   "execution_count": 21,
   "id": "567ba066-4080-4c92-b8ba-5ec415560c67",
   "metadata": {},
   "outputs": [],
   "source": [
    "# train_ds = TensorDataset(train_x, train_y)"
   ]
  },
  {
   "cell_type": "code",
   "execution_count": 22,
   "id": "dbf3af14-e125-4274-810c-954418cc956b",
   "metadata": {},
   "outputs": [],
   "source": [
    "train_dl = DataLoader(train_ds, bs=256, shuffle=True)"
   ]
  },
  {
   "cell_type": "code",
   "execution_count": 23,
   "id": "e88e09b0-bca8-4dfc-98f8-57888f37e007",
   "metadata": {},
   "outputs": [
    {
     "name": "stdout",
     "output_type": "stream",
     "text": [
      "CPU times: user 57.5 ms, sys: 139 µs, total: 57.7 ms\n",
      "Wall time: 56.5 ms\n"
     ]
    }
   ],
   "source": [
    "%%time\n",
    "for xb,yb in train_dl:\n",
    "    _ = 1"
   ]
  },
  {
   "cell_type": "code",
   "execution_count": 24,
   "id": "cc27d13f-672a-4c0b-aa8f-cb5814379d7e",
   "metadata": {},
   "outputs": [
    {
     "data": {
      "text/plain": [
       "10000"
      ]
     },
     "execution_count": 24,
     "metadata": {},
     "output_type": "execute_result"
    }
   ],
   "source": [
    "len(train_ds)"
   ]
  },
  {
   "cell_type": "code",
   "execution_count": 30,
   "id": "06baea72-5f3c-4c00-8cbd-e618cf119274",
   "metadata": {},
   "outputs": [
    {
     "name": "stdout",
     "output_type": "stream",
     "text": [
      "CPU times: user 31.2 ms, sys: 29 µs, total: 31.2 ms\n",
      "Wall time: 30.7 ms\n"
     ]
    }
   ],
   "source": [
    "%%time\n",
    "for i in train_ds:\n",
    "    _ = i"
   ]
  },
  {
   "cell_type": "code",
   "execution_count": 25,
   "id": "b579f8e8-9106-48e2-9ec4-bd33d74ac95a",
   "metadata": {},
   "outputs": [],
   "source": [
    "valid_ds = images_ds[\"validation\"].shuffle()\n",
    "valid_images = valid_ds[:num_samples][\"image\"]\n",
    "valid_labels = valid_ds[:num_samples][\"label\"]"
   ]
  },
  {
   "cell_type": "code",
   "execution_count": 26,
   "id": "762f59e3-52cd-451c-813a-2dfbf1a7f8fc",
   "metadata": {},
   "outputs": [],
   "source": [
    "valid_x = torch.cat([transforms.ToTensor()(img) for img in valid_images]).unsqueeze(1)\n",
    "valid_y = torch.cat([torch.tensor(l) for l in valid_labels])"
   ]
  },
  {
   "cell_type": "code",
   "execution_count": 100,
   "id": "604fe8ed-e527-48bf-9f3c-3d0d5d7aa1fe",
   "metadata": {},
   "outputs": [
    {
     "data": {
      "text/plain": [
       "tensor(0)"
      ]
     },
     "execution_count": 100,
     "metadata": {},
     "output_type": "execute_result"
    }
   ],
   "source": [
    "valid_y[0]"
   ]
  },
  {
   "cell_type": "code",
   "execution_count": 27,
   "id": "f92fcdda-dfad-408e-83a4-ab8af56bec9d",
   "metadata": {},
   "outputs": [],
   "source": [
    "# valid_ds = TensorDataset(valid_x, valid_y)\n",
    "valid_ds = JetTensorDataset(valid_x, valid_y)"
   ]
  },
  {
   "cell_type": "code",
   "execution_count": 28,
   "id": "fbd7baea-8b7c-42a5-abae-590537d70e37",
   "metadata": {},
   "outputs": [],
   "source": [
    "train_dl = DataLoader(train_ds, bs=256, shuffle=True)\n",
    "valid_dl = DataLoader(valid_ds, bs=256, shuffle=False)"
   ]
  },
  {
   "cell_type": "code",
   "execution_count": 29,
   "id": "1f83c9ad-0394-4596-a4cd-fdda280754eb",
   "metadata": {},
   "outputs": [
    {
     "data": {
      "text/plain": [
       "torch.Size([256, 1, 40, 40])"
      ]
     },
     "execution_count": 29,
     "metadata": {},
     "output_type": "execute_result"
    }
   ],
   "source": [
    "xb, yb = first(train_dl)\n",
    "xb.shape"
   ]
  },
  {
   "cell_type": "code",
   "execution_count": 30,
   "id": "2f0b02b0-5c96-4605-a5b4-1ee8dd99267b",
   "metadata": {},
   "outputs": [],
   "source": [
    "dls = DataLoaders(train_dl, valid_dl)"
   ]
  },
  {
   "cell_type": "markdown",
   "id": "76ff8fc0-0424-4a3f-b2be-5789524d7c57",
   "metadata": {},
   "source": [
    "### Vision learner"
   ]
  },
  {
   "cell_type": "code",
   "execution_count": 31,
   "id": "e2a2a54a-5042-4330-b32a-71589c9cef4d",
   "metadata": {},
   "outputs": [],
   "source": [
    "dls.to(\"cuda\");"
   ]
  },
  {
   "cell_type": "code",
   "execution_count": 32,
   "id": "86b0ff68-a2a1-4d3f-bcb6-9f1dbe5aadf7",
   "metadata": {},
   "outputs": [],
   "source": [
    "learn = vision_learner(\n",
    "    dls,\n",
    "    resnet34,\n",
    "    metrics=[accuracy],\n",
    "    n_in=1,\n",
    "    n_out=2,\n",
    "    normalize=False,\n",
    "    loss_func=F.cross_entropy,\n",
    ")"
   ]
  },
  {
   "cell_type": "code",
   "execution_count": 33,
   "id": "bc58b613-dc2c-449b-baf2-050cfacde199",
   "metadata": {},
   "outputs": [],
   "source": [
    "learn.model.to(\"cuda\");"
   ]
  },
  {
   "cell_type": "code",
   "execution_count": 34,
   "id": "8d8af820-ae63-43ce-8538-21386170816b",
   "metadata": {},
   "outputs": [
    {
     "data": {
      "text/html": [
       "\n",
       "<style>\n",
       "    /* Turns off some styling */\n",
       "    progress {\n",
       "        /* gets rid of default border in Firefox and Opera. */\n",
       "        border: none;\n",
       "        /* Needs to be in here for Safari polyfill so background images work as expected. */\n",
       "        background-size: auto;\n",
       "    }\n",
       "    .progress-bar-interrupted, .progress-bar-interrupted::-webkit-progress-bar {\n",
       "        background: #F44336;\n",
       "    }\n",
       "</style>\n"
      ],
      "text/plain": [
       "<IPython.core.display.HTML object>"
      ]
     },
     "metadata": {},
     "output_type": "display_data"
    },
    {
     "data": {
      "text/html": [],
      "text/plain": [
       "<IPython.core.display.HTML object>"
      ]
     },
     "metadata": {},
     "output_type": "display_data"
    },
    {
     "data": {
      "text/plain": [
       "SuggestedLRs(valley=0.0012022644514217973)"
      ]
     },
     "execution_count": 34,
     "metadata": {},
     "output_type": "execute_result"
    },
    {
     "data": {
      "image/png": "[encoded data removed]",
      "text/plain": [
       "<Figure size 432x288 with 1 Axes>"
      ]
     },
     "metadata": {
      "needs_background": "light"
     },
     "output_type": "display_data"
    }
   ],
   "source": [
    "learn.lr_find()"
   ]
  },
  {
   "cell_type": "code",
   "execution_count": null,
   "id": "c8a8d074-6c25-4e2e-8a5c-4d172ff4f2df",
   "metadata": {},
   "outputs": [
    {
     "data": {
      "text/html": [
       "\n",
       "<style>\n",
       "    /* Turns off some styling */\n",
       "    progress {\n",
       "        /* gets rid of default border in Firefox and Opera. */\n",
       "        border: none;\n",
       "        /* Needs to be in here for Safari polyfill so background images work as expected. */\n",
       "        background-size: auto;\n",
       "    }\n",
       "    .progress-bar-interrupted, .progress-bar-interrupted::-webkit-progress-bar {\n",
       "        background: #F44336;\n",
       "    }\n",
       "</style>\n"
      ],
      "text/plain": [
       "<IPython.core.display.HTML object>"
      ]
     },
     "metadata": {},
     "output_type": "display_data"
    },
    {
     "data": {
      "text/html": [
       "<table border=\"1\" class=\"dataframe\">\n",
       "  <thead>\n",
       "    <tr style=\"text-align: left;\">\n",
       "      <th>epoch</th>\n",
       "      <th>train_loss</th>\n",
       "      <th>valid_loss</th>\n",
       "      <th>accuracy</th>\n",
       "      <th>time</th>\n",
       "    </tr>\n",
       "  </thead>\n",
       "  <tbody>\n",
       "    <tr>\n",
       "      <td>0</td>\n",
       "      <td>0.931976</td>\n",
       "      <td>0.669548</td>\n",
       "      <td>0.673500</td>\n",
       "      <td>00:01</td>\n",
       "    </tr>\n",
       "  </tbody>\n",
       "</table>"
      ],
      "text/plain": [
       "<IPython.core.display.HTML object>"
      ]
     },
     "metadata": {},
     "output_type": "display_data"
    },
    {
     "data": {
      "text/html": [
       "\n",
       "<style>\n",
       "    /* Turns off some styling */\n",
       "    progress {\n",
       "        /* gets rid of default border in Firefox and Opera. */\n",
       "        border: none;\n",
       "        /* Needs to be in here for Safari polyfill so background images work as expected. */\n",
       "        background-size: auto;\n",
       "    }\n",
       "    .progress-bar-interrupted, .progress-bar-interrupted::-webkit-progress-bar {\n",
       "        background: #F44336;\n",
       "    }\n",
       "</style>\n"
      ],
      "text/plain": [
       "<IPython.core.display.HTML object>"
      ]
     },
     "metadata": {},
     "output_type": "display_data"
    },
    {
     "data": {
      "text/html": [
       "<table border=\"1\" class=\"dataframe\">\n",
       "  <thead>\n",
       "    <tr style=\"text-align: left;\">\n",
       "      <th>epoch</th>\n",
       "      <th>train_loss</th>\n",
       "      <th>valid_loss</th>\n",
       "      <th>accuracy</th>\n",
       "      <th>time</th>\n",
       "    </tr>\n",
       "  </thead>\n",
       "  <tbody>\n",
       "    <tr>\n",
       "      <td>0</td>\n",
       "      <td>0.586326</td>\n",
       "      <td>0.497514</td>\n",
       "      <td>0.781100</td>\n",
       "      <td>00:02</td>\n",
       "    </tr>\n",
       "    <tr>\n",
       "      <td>1</td>\n",
       "      <td>0.458937</td>\n",
       "      <td>0.431846</td>\n",
       "      <td>0.846900</td>\n",
       "      <td>00:01</td>\n",
       "    </tr>\n",
       "    <tr>\n",
       "      <td>2</td>\n",
       "      <td>0.338561</td>\n",
       "      <td>0.415701</td>\n",
       "      <td>0.849700</td>\n",
       "      <td>00:01</td>\n",
       "    </tr>\n",
       "  </tbody>\n",
       "</table>"
      ],
      "text/plain": [
       "<IPython.core.display.HTML object>"
      ]
     },
     "metadata": {},
     "output_type": "display_data"
    }
   ],
   "source": [
    "learn.fine_tune(3, 1e-3)"
   ]
  },
  {
   "cell_type": "code",
   "execution_count": 22,
   "id": "5354b10c-aa46-4561-ab9a-b9c52e3f0ce5",
   "metadata": {},
   "outputs": [],
   "source": [
    "simple_cnn = nn.Sequential(\n",
    "    conv(1, 4),\n",
    "    conv(4, 8),\n",
    "    conv(8, 16),\n",
    "    conv(16, 32),\n",
    "    conv(32, 16),\n",
    "    conv(16, 2, act=False),\n",
    "    Flatten(),\n",
    ")"
   ]
  },
  {
   "cell_type": "code",
   "execution_count": 23,
   "id": "302524dd-fd9d-4d4f-8efa-c17065541e0d",
   "metadata": {},
   "outputs": [
    {
     "data": {
      "text/plain": [
       "torch.Size([256, 2])"
      ]
     },
     "execution_count": 23,
     "metadata": {},
     "output_type": "execute_result"
    }
   ],
   "source": [
    "simple_cnn(xb).shape"
   ]
  },
  {
   "cell_type": "code",
   "execution_count": 27,
   "id": "d917de61-1ac4-443d-a17a-0b9e050429f7",
   "metadata": {},
   "outputs": [],
   "source": [
    "learn = Learner(\n",
    "    dls, simple_cnn, metrics=[accuracy, RocAucBinary()], loss_func=F.cross_entropy\n",
    ")"
   ]
  },
  {
   "cell_type": "code",
   "execution_count": 28,
   "id": "9e5b5b01-a00a-4348-a45e-768bafe4b0fb",
   "metadata": {},
   "outputs": [
    {
     "data": {
      "text/html": [
       "\n",
       "<style>\n",
       "    /* Turns off some styling */\n",
       "    progress {\n",
       "        /* gets rid of default border in Firefox and Opera. */\n",
       "        border: none;\n",
       "        /* Needs to be in here for Safari polyfill so background images work as expected. */\n",
       "        background-size: auto;\n",
       "    }\n",
       "    .progress-bar-interrupted, .progress-bar-interrupted::-webkit-progress-bar {\n",
       "        background: #F44336;\n",
       "    }\n",
       "</style>\n"
      ],
      "text/plain": [
       "<IPython.core.display.HTML object>"
      ]
     },
     "metadata": {},
     "output_type": "display_data"
    },
    {
     "data": {
      "text/html": [],
      "text/plain": [
       "<IPython.core.display.HTML object>"
      ]
     },
     "metadata": {},
     "output_type": "display_data"
    },
    {
     "data": {
      "text/plain": [
       "SuggestedLRs(valley=0.0014454397605732083)"
      ]
     },
     "execution_count": 28,
     "metadata": {},
     "output_type": "execute_result"
    },
    {
     "data": {
      "image/png": "[encoded data removed]",
      "text/plain": [
       "<Figure size 432x288 with 1 Axes>"
      ]
     },
     "metadata": {
      "needs_background": "light"
     },
     "output_type": "display_data"
    }
   ],
   "source": [
    "learn.lr_find()"
   ]
  },
  {
   "cell_type": "code",
   "execution_count": 29,
   "id": "9dba18a1-dd9e-4cae-ad5d-31ecd7d262f7",
   "metadata": {},
   "outputs": [
    {
     "data": {
      "text/html": [
       "\n",
       "<style>\n",
       "    /* Turns off some styling */\n",
       "    progress {\n",
       "        /* gets rid of default border in Firefox and Opera. */\n",
       "        border: none;\n",
       "        /* Needs to be in here for Safari polyfill so background images work as expected. */\n",
       "        background-size: auto;\n",
       "    }\n",
       "    .progress-bar-interrupted, .progress-bar-interrupted::-webkit-progress-bar {\n",
       "        background: #F44336;\n",
       "    }\n",
       "</style>\n"
      ],
      "text/plain": [
       "<IPython.core.display.HTML object>"
      ]
     },
     "metadata": {},
     "output_type": "display_data"
    },
    {
     "data": {
      "text/html": [
       "<table border=\"1\" class=\"dataframe\">\n",
       "  <thead>\n",
       "    <tr style=\"text-align: left;\">\n",
       "      <th>epoch</th>\n",
       "      <th>train_loss</th>\n",
       "      <th>valid_loss</th>\n",
       "      <th>accuracy</th>\n",
       "      <th>roc_auc_score</th>\n",
       "      <th>time</th>\n",
       "    </tr>\n",
       "  </thead>\n",
       "  <tbody>\n",
       "    <tr>\n",
       "      <td>0</td>\n",
       "      <td>0.310150</td>\n",
       "      <td>0.288318</td>\n",
       "      <td>0.879700</td>\n",
       "      <td>0.950156</td>\n",
       "      <td>00:02</td>\n",
       "    </tr>\n",
       "    <tr>\n",
       "      <td>1</td>\n",
       "      <td>0.268565</td>\n",
       "      <td>0.262153</td>\n",
       "      <td>0.889400</td>\n",
       "      <td>0.957021</td>\n",
       "      <td>00:02</td>\n",
       "    </tr>\n",
       "    <tr>\n",
       "      <td>2</td>\n",
       "      <td>0.257706</td>\n",
       "      <td>0.252610</td>\n",
       "      <td>0.895000</td>\n",
       "      <td>0.959556</td>\n",
       "      <td>00:02</td>\n",
       "    </tr>\n",
       "  </tbody>\n",
       "</table>"
      ],
      "text/plain": [
       "<IPython.core.display.HTML object>"
      ]
     },
     "metadata": {},
     "output_type": "display_data"
    }
   ],
   "source": [
    "learn.fit_one_cycle(3, 3e-3)"
   ]
  },
  {
   "cell_type": "code",
   "execution_count": 29,
   "id": "94623829-538b-46e7-a46e-23964e2e7a65",
   "metadata": {},
   "outputs": [
    {
     "data": {
      "text/html": [
       "\n",
       "<style>\n",
       "    /* Turns off some styling */\n",
       "    progress {\n",
       "        /* gets rid of default border in Firefox and Opera. */\n",
       "        border: none;\n",
       "        /* Needs to be in here for Safari polyfill so background images work as expected. */\n",
       "        background-size: auto;\n",
       "    }\n",
       "    .progress-bar-interrupted, .progress-bar-interrupted::-webkit-progress-bar {\n",
       "        background: #F44336;\n",
       "    }\n",
       "</style>\n"
      ],
      "text/plain": [
       "<IPython.core.display.HTML object>"
      ]
     },
     "metadata": {},
     "output_type": "display_data"
    },
    {
     "data": {
      "text/html": [
       "<table border=\"1\" class=\"dataframe\">\n",
       "  <thead>\n",
       "    <tr style=\"text-align: left;\">\n",
       "      <th>epoch</th>\n",
       "      <th>train_loss</th>\n",
       "      <th>valid_loss</th>\n",
       "      <th>accuracy</th>\n",
       "      <th>roc_auc_score</th>\n",
       "      <th>time</th>\n",
       "    </tr>\n",
       "  </thead>\n",
       "  <tbody>\n",
       "    <tr>\n",
       "      <td>0</td>\n",
       "      <td>0.310150</td>\n",
       "      <td>0.288318</td>\n",
       "      <td>0.879700</td>\n",
       "      <td>0.950156</td>\n",
       "      <td>00:02</td>\n",
       "    </tr>\n",
       "    <tr>\n",
       "      <td>1</td>\n",
       "      <td>0.268565</td>\n",
       "      <td>0.262153</td>\n",
       "      <td>0.889400</td>\n",
       "      <td>0.957021</td>\n",
       "      <td>00:02</td>\n",
       "    </tr>\n",
       "    <tr>\n",
       "      <td>2</td>\n",
       "      <td>0.257706</td>\n",
       "      <td>0.252610</td>\n",
       "      <td>0.895000</td>\n",
       "      <td>0.959556</td>\n",
       "      <td>00:02</td>\n",
       "    </tr>\n",
       "  </tbody>\n",
       "</table>"
      ],
      "text/plain": [
       "<IPython.core.display.HTML object>"
      ]
     },
     "metadata": {},
     "output_type": "display_data"
    }
   ],
   "source": [
    "learn.fit_one_cycle(3, 3e-3)"
   ]
  },
  {
   "cell_type": "code",
   "execution_count": 30,
   "id": "24879634-47da-4b7b-b7ea-4802c20e9f4c",
   "metadata": {},
   "outputs": [],
   "source": [
    "learn = Learner(\n",
    "    dls, simple_cnn, metrics=[accuracy, RocAucBinary()], loss_func=F.cross_entropy\n",
    ")"
   ]
  },
  {
   "cell_type": "code",
   "execution_count": 32,
   "id": "20cc0766-bc14-4849-9bc5-f4bc90c3818a",
   "metadata": {},
   "outputs": [],
   "source": [
    "learn.model.to(\"cuda\");"
   ]
  },
  {
   "cell_type": "code",
   "execution_count": 33,
   "id": "fb21845d-d4cd-40c8-8052-3209143b7496",
   "metadata": {},
   "outputs": [
    {
     "data": {
      "text/html": [
       "\n",
       "<style>\n",
       "    /* Turns off some styling */\n",
       "    progress {\n",
       "        /* gets rid of default border in Firefox and Opera. */\n",
       "        border: none;\n",
       "        /* Needs to be in here for Safari polyfill so background images work as expected. */\n",
       "        background-size: auto;\n",
       "    }\n",
       "    .progress-bar-interrupted, .progress-bar-interrupted::-webkit-progress-bar {\n",
       "        background: #F44336;\n",
       "    }\n",
       "</style>\n"
      ],
      "text/plain": [
       "<IPython.core.display.HTML object>"
      ]
     },
     "metadata": {},
     "output_type": "display_data"
    },
    {
     "data": {
      "text/html": [],
      "text/plain": [
       "<IPython.core.display.HTML object>"
      ]
     },
     "metadata": {},
     "output_type": "display_data"
    },
    {
     "data": {
      "text/plain": [
       "SuggestedLRs(valley=0.0008317637839354575)"
      ]
     },
     "execution_count": 33,
     "metadata": {},
     "output_type": "execute_result"
    },
    {
     "data": {
      "image/png": "[encoded data removed]",
      "text/plain": [
       "<Figure size 432x288 with 1 Axes>"
      ]
     },
     "metadata": {
      "needs_background": "light"
     },
     "output_type": "display_data"
    }
   ],
   "source": [
    "learn.lr_find()"
   ]
  },
  {
   "cell_type": "code",
   "execution_count": 34,
   "id": "936e3c0f-3090-40f1-ba67-2364847ef912",
   "metadata": {},
   "outputs": [
    {
     "data": {
      "text/html": [
       "\n",
       "<style>\n",
       "    /* Turns off some styling */\n",
       "    progress {\n",
       "        /* gets rid of default border in Firefox and Opera. */\n",
       "        border: none;\n",
       "        /* Needs to be in here for Safari polyfill so background images work as expected. */\n",
       "        background-size: auto;\n",
       "    }\n",
       "    .progress-bar-interrupted, .progress-bar-interrupted::-webkit-progress-bar {\n",
       "        background: #F44336;\n",
       "    }\n",
       "</style>\n"
      ],
      "text/plain": [
       "<IPython.core.display.HTML object>"
      ]
     },
     "metadata": {},
     "output_type": "display_data"
    },
    {
     "data": {
      "text/html": [
       "<table border=\"1\" class=\"dataframe\">\n",
       "  <thead>\n",
       "    <tr style=\"text-align: left;\">\n",
       "      <th>epoch</th>\n",
       "      <th>train_loss</th>\n",
       "      <th>valid_loss</th>\n",
       "      <th>accuracy</th>\n",
       "      <th>roc_auc_score</th>\n",
       "      <th>time</th>\n",
       "    </tr>\n",
       "  </thead>\n",
       "  <tbody>\n",
       "    <tr>\n",
       "      <td>0</td>\n",
       "      <td>0.262769</td>\n",
       "      <td>0.260341</td>\n",
       "      <td>0.891300</td>\n",
       "      <td>0.959669</td>\n",
       "      <td>00:02</td>\n",
       "    </tr>\n",
       "    <tr>\n",
       "      <td>1</td>\n",
       "      <td>0.257183</td>\n",
       "      <td>0.246424</td>\n",
       "      <td>0.898000</td>\n",
       "      <td>0.961613</td>\n",
       "      <td>00:01</td>\n",
       "    </tr>\n",
       "    <tr>\n",
       "      <td>2</td>\n",
       "      <td>0.245404</td>\n",
       "      <td>0.241712</td>\n",
       "      <td>0.901200</td>\n",
       "      <td>0.962873</td>\n",
       "      <td>00:01</td>\n",
       "    </tr>\n",
       "  </tbody>\n",
       "</table>"
      ],
      "text/plain": [
       "<IPython.core.display.HTML object>"
      ]
     },
     "metadata": {},
     "output_type": "display_data"
    }
   ],
   "source": [
    "learn.fit_one_cycle(3, 3e-3)"
   ]
  },
  {
   "cell_type": "code",
   "execution_count": null,
   "id": "a37ffe4a-57de-4657-ae5c-f47f45be0739",
   "metadata": {},
   "outputs": [],
   "source": []
  }
 ],
 "metadata": {
  "kernelspec": {
   "display_name": "Python 3 (ipykernel)",
   "language": "python",
   "name": "python3"
  },
  "language_info": {
   "codemirror_mode": {
    "name": "ipython",
    "version": 3
   },
   "file_extension": ".py",
   "mimetype": "text/x-python",
   "name": "python",
   "nbconvert_exporter": "python",
   "pygments_lexer": "ipython3",
   "version": "3.9.12"
  }
 },
 "nbformat": 4,
 "nbformat_minor": 5
}
