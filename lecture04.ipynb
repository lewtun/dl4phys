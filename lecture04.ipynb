{
 "cells": [
  {
   "cell_type": "markdown",
   "id": "0f337ae1-bb4c-4be4-82a8-19c6f885d201",
   "metadata": {},
   "source": [
    "## TODO\n",
    "\n",
    "* Show how to create jet images\n",
    "* Find a clean way to load data from datasets (save to disk?). Check I don't get RAM problems on Colab. can do this with a custom Dataset, but indexing is slow ..."
   ]
  },
  {
   "cell_type": "markdown",
   "id": "85b47ca2-e93a-4f8a-81f9-85a50deb061b",
   "metadata": {},
   "source": [
    "## Setup"
   ]
  },
  {
   "cell_type": "code",
   "execution_count": null,
   "id": "08ed1c15-faea-42dd-a0fa-05d5305c010f",
   "metadata": {},
   "outputs": [],
   "source": [
    "# Uncomment and run this cell if using Colab, Kaggle etc\n",
    "# %pip install fastai==2.6.0 datasets energyflow huggingface_hub"
   ]
  },
  {
   "cell_type": "markdown",
   "id": "a24705d7-e5a4-4adf-bb16-aca47aa3c48e",
   "metadata": {},
   "source": [
    "## Imports"
   ]
  },
  {
   "cell_type": "code",
   "execution_count": 77,
   "id": "e5387606-9d8e-40d5-9826-e2cf20620766",
   "metadata": {},
   "outputs": [],
   "source": [
    "import pandas as pd\n",
    "from datasets import load_dataset\n",
    "from energyflow.utils import (\n",
    "    center_ptyphims,\n",
    "    phi_fix,\n",
    "    pixelate,\n",
    "    ptyphims_from_p4s,\n",
    "    reflect_ptyphims,\n",
    "    rotate_ptyphims,\n",
    ")\n",
    "from fastai.vision.all import *\n",
    "from huggingface_hub import from_pretrained_fastai, notebook_login, push_to_hub_fastai\n",
    "from torch.utils.data import Dataset, TensorDataset\n",
    "from torchvision.transforms import ToTensor"
   ]
  },
  {
   "cell_type": "code",
   "execution_count": 4,
   "id": "7af6929a-9e1d-493f-9c84-281c706d9467",
   "metadata": {},
   "outputs": [],
   "source": [
    "import datasets\n",
    "\n",
    "# Suppress logs to keep things tidy\n",
    "datasets.logging.set_verbosity_error()"
   ]
  },
  {
   "cell_type": "markdown",
   "id": "11426624-9951-4ae9-81cc-1a8035453120",
   "metadata": {},
   "source": [
    "## Creating jet images"
   ]
  },
  {
   "cell_type": "markdown",
   "id": "2416617c-085f-4c26-95b3-e5e9a2f60b37",
   "metadata": {},
   "source": [
    "To get started, let's take a look at how we can construct images from the 4-vectors associated with the consituents in a jet. We'll use the raw events from the [_Top Quark Tagging_ dataset](https://huggingface.co/datasets/dl4phys/top_tagging) in lecture 1, so let's download it and grab a sample of 10,000 events to play with:"
   ]
  },
  {
   "cell_type": "code",
   "execution_count": 5,
   "id": "b81e9af9-b51f-4a8a-95ee-a0d9d5aff9c5",
   "metadata": {},
   "outputs": [
    {
     "data": {
      "text/html": [
       "<div>\n",
       "<style scoped>\n",
       "    .dataframe tbody tr th:only-of-type {\n",
       "        vertical-align: middle;\n",
       "    }\n",
       "\n",
       "    .dataframe tbody tr th {\n",
       "        vertical-align: top;\n",
       "    }\n",
       "\n",
       "    .dataframe thead th {\n",
       "        text-align: right;\n",
       "    }\n",
       "</style>\n",
       "<table border=\"1\" class=\"dataframe\">\n",
       "  <thead>\n",
       "    <tr style=\"text-align: right;\">\n",
       "      <th></th>\n",
       "      <th>E_0</th>\n",
       "      <th>PX_0</th>\n",
       "      <th>PY_0</th>\n",
       "      <th>PZ_0</th>\n",
       "      <th>E_1</th>\n",
       "      <th>PX_1</th>\n",
       "      <th>PY_1</th>\n",
       "      <th>PZ_1</th>\n",
       "      <th>E_2</th>\n",
       "      <th>PX_2</th>\n",
       "      <th>...</th>\n",
       "      <th>E_199</th>\n",
       "      <th>PX_199</th>\n",
       "      <th>PY_199</th>\n",
       "      <th>PZ_199</th>\n",
       "      <th>truthE</th>\n",
       "      <th>truthPX</th>\n",
       "      <th>truthPY</th>\n",
       "      <th>truthPZ</th>\n",
       "      <th>ttv</th>\n",
       "      <th>is_signal_new</th>\n",
       "    </tr>\n",
       "  </thead>\n",
       "  <tbody>\n",
       "    <tr>\n",
       "      <th>0</th>\n",
       "      <td>130.172562</td>\n",
       "      <td>114.353065</td>\n",
       "      <td>-59.476486</td>\n",
       "      <td>18.188450</td>\n",
       "      <td>58.261734</td>\n",
       "      <td>56.383465</td>\n",
       "      <td>-6.442986</td>\n",
       "      <td>-13.184177</td>\n",
       "      <td>43.596382</td>\n",
       "      <td>37.914547</td>\n",
       "      <td>...</td>\n",
       "      <td>0.0</td>\n",
       "      <td>0.0</td>\n",
       "      <td>0.0</td>\n",
       "      <td>0.0</td>\n",
       "      <td>496.599976</td>\n",
       "      <td>418.331940</td>\n",
       "      <td>-202.994308</td>\n",
       "      <td>43.685955</td>\n",
       "      <td>2</td>\n",
       "      <td>1</td>\n",
       "    </tr>\n",
       "    <tr>\n",
       "      <th>1</th>\n",
       "      <td>144.244232</td>\n",
       "      <td>44.394894</td>\n",
       "      <td>71.800972</td>\n",
       "      <td>-116.962021</td>\n",
       "      <td>176.547729</td>\n",
       "      <td>61.791088</td>\n",
       "      <td>51.010948</td>\n",
       "      <td>-157.317657</td>\n",
       "      <td>134.554794</td>\n",
       "      <td>47.264194</td>\n",
       "      <td>...</td>\n",
       "      <td>0.0</td>\n",
       "      <td>0.0</td>\n",
       "      <td>0.0</td>\n",
       "      <td>0.0</td>\n",
       "      <td>1061.465576</td>\n",
       "      <td>240.111099</td>\n",
       "      <td>465.869263</td>\n",
       "      <td>-906.836731</td>\n",
       "      <td>2</td>\n",
       "      <td>1</td>\n",
       "    </tr>\n",
       "    <tr>\n",
       "      <th>2</th>\n",
       "      <td>164.264938</td>\n",
       "      <td>29.799849</td>\n",
       "      <td>-155.011093</td>\n",
       "      <td>45.458752</td>\n",
       "      <td>154.540726</td>\n",
       "      <td>34.444710</td>\n",
       "      <td>-140.643768</td>\n",
       "      <td>53.997475</td>\n",
       "      <td>102.357109</td>\n",
       "      <td>19.766624</td>\n",
       "      <td>...</td>\n",
       "      <td>0.0</td>\n",
       "      <td>0.0</td>\n",
       "      <td>0.0</td>\n",
       "      <td>0.0</td>\n",
       "      <td>0.000000</td>\n",
       "      <td>0.000000</td>\n",
       "      <td>0.000000</td>\n",
       "      <td>0.000000</td>\n",
       "      <td>2</td>\n",
       "      <td>0</td>\n",
       "    </tr>\n",
       "    <tr>\n",
       "      <th>3</th>\n",
       "      <td>190.001175</td>\n",
       "      <td>-59.107372</td>\n",
       "      <td>-180.212479</td>\n",
       "      <td>11.411892</td>\n",
       "      <td>36.530270</td>\n",
       "      <td>-16.578011</td>\n",
       "      <td>-32.546757</td>\n",
       "      <td>0.582238</td>\n",
       "      <td>28.827248</td>\n",
       "      <td>-10.152600</td>\n",
       "      <td>...</td>\n",
       "      <td>0.0</td>\n",
       "      <td>0.0</td>\n",
       "      <td>0.0</td>\n",
       "      <td>0.0</td>\n",
       "      <td>0.000000</td>\n",
       "      <td>0.000000</td>\n",
       "      <td>0.000000</td>\n",
       "      <td>0.000000</td>\n",
       "      <td>2</td>\n",
       "      <td>0</td>\n",
       "    </tr>\n",
       "    <tr>\n",
       "      <th>4</th>\n",
       "      <td>197.350937</td>\n",
       "      <td>-190.924622</td>\n",
       "      <td>-28.691614</td>\n",
       "      <td>-40.889717</td>\n",
       "      <td>65.894730</td>\n",
       "      <td>-63.749012</td>\n",
       "      <td>-9.580021</td>\n",
       "      <td>-13.652922</td>\n",
       "      <td>53.116070</td>\n",
       "      <td>-52.294987</td>\n",
       "      <td>...</td>\n",
       "      <td>0.0</td>\n",
       "      <td>0.0</td>\n",
       "      <td>0.0</td>\n",
       "      <td>0.0</td>\n",
       "      <td>0.000000</td>\n",
       "      <td>0.000000</td>\n",
       "      <td>0.000000</td>\n",
       "      <td>0.000000</td>\n",
       "      <td>2</td>\n",
       "      <td>0</td>\n",
       "    </tr>\n",
       "  </tbody>\n",
       "</table>\n",
       "<p>5 rows × 806 columns</p>\n",
       "</div>"
      ],
      "text/plain": [
       "          E_0        PX_0        PY_0        PZ_0         E_1       PX_1  \\\n",
       "0  130.172562  114.353065  -59.476486   18.188450   58.261734  56.383465   \n",
       "1  144.244232   44.394894   71.800972 -116.962021  176.547729  61.791088   \n",
       "2  164.264938   29.799849 -155.011093   45.458752  154.540726  34.444710   \n",
       "3  190.001175  -59.107372 -180.212479   11.411892   36.530270 -16.578011   \n",
       "4  197.350937 -190.924622  -28.691614  -40.889717   65.894730 -63.749012   \n",
       "\n",
       "         PY_1        PZ_1         E_2       PX_2  ...  E_199  PX_199  PY_199  \\\n",
       "0   -6.442986  -13.184177   43.596382  37.914547  ...    0.0     0.0     0.0   \n",
       "1   51.010948 -157.317657  134.554794  47.264194  ...    0.0     0.0     0.0   \n",
       "2 -140.643768   53.997475  102.357109  19.766624  ...    0.0     0.0     0.0   \n",
       "3  -32.546757    0.582238   28.827248 -10.152600  ...    0.0     0.0     0.0   \n",
       "4   -9.580021  -13.652922   53.116070 -52.294987  ...    0.0     0.0     0.0   \n",
       "\n",
       "   PZ_199       truthE     truthPX     truthPY     truthPZ  ttv  is_signal_new  \n",
       "0     0.0   496.599976  418.331940 -202.994308   43.685955    2              1  \n",
       "1     0.0  1061.465576  240.111099  465.869263 -906.836731    2              1  \n",
       "2     0.0     0.000000    0.000000    0.000000    0.000000    2              0  \n",
       "3     0.0     0.000000    0.000000    0.000000    0.000000    2              0  \n",
       "4     0.0     0.000000    0.000000    0.000000    0.000000    2              0  \n",
       "\n",
       "[5 rows x 806 columns]"
      ]
     },
     "execution_count": 5,
     "metadata": {},
     "output_type": "execute_result"
    }
   ],
   "source": [
    "raw_events = load_dataset(\"dl4phys/top_tagging\", split=\"validation\")\n",
    "sample_df = raw_events.shuffle(seed=42).select(range(10_000)).to_pandas()\n",
    "sample_df.head()"
   ]
  },
  {
   "cell_type": "markdown",
   "id": "407e1e46-9e71-4751-a426-e088f6f082a6",
   "metadata": {},
   "source": [
    "Here we've used the `shuffle()` and `select()` methods to create a random sample, and then converted the result to a pandas `DataFrame`. It's convenient to reshape the events so that instead of having 800 columns, we have 200 columns, where each column groups the 4-vectors of a constituent in a single array. We can do this by casting our `DataFrame` to NumPy and applying the `reshape()` method as follows:"
   ]
  },
  {
   "cell_type": "code",
   "execution_count": 6,
   "id": "ac3cc2f1-e0b3-4893-a5f8-918a7d637de3",
   "metadata": {},
   "outputs": [
    {
     "data": {
      "text/plain": [
       "((10000, 200, 4), (10000,))"
      ]
     },
     "execution_count": 6,
     "metadata": {},
     "output_type": "execute_result"
    }
   ],
   "source": [
    "events = sample_df.iloc[:, :800].values.reshape(-1, 200, 4)\n",
    "labels = sample_df[\"is_signal_new\"].values\n",
    "\n",
    "events.shape, labels.shape"
   ]
  },
  {
   "cell_type": "markdown",
   "id": "1aa30dac-94bd-4872-8fb7-2ac0b1337c23",
   "metadata": {},
   "source": [
    "Now, each row in our `events` array corresponds to an array of shape `(num_constituents, 4)`. We can inspect one of these constituent 4-vectors as follows:"
   ]
  },
  {
   "cell_type": "code",
   "execution_count": 7,
   "id": "07eb663e-e6e4-40ef-a91e-cb2f9977575b",
   "metadata": {},
   "outputs": [
    {
     "data": {
      "text/plain": [
       "array([130.17256 , 114.353065, -59.476486,  18.18845 ], dtype=float32)"
      ]
     },
     "execution_count": 7,
     "metadata": {},
     "output_type": "execute_result"
    }
   ],
   "source": [
    "events[0][0]"
   ]
  },
  {
   "cell_type": "markdown",
   "id": "075ca1cd-0f9f-4f15-a965-adae9a2ce369",
   "metadata": {},
   "source": [
    "> If we approximate the calorimeter resolution as 0.04×2.25◦\n",
    "in rapidity vs azimuthal angle\n",
    "a fat jet with radius parameter R = 0.8 can be covered with 40 × 40 pixels. Assuming a\n",
    "pT threshold around 1 GeV, a typical QCD jet will feature around 40 constituents in this\n",
    "jet image [22]. In Fig. 1 we show an individual calorimeter image from a top jet, as well\n",
    "as averaged images of top jets and QCD jets, after some pre-processing. For both, signal\n",
    "and background jets the center of the image is defined by the hardest object. Next, we\n",
    "rotate the second-hardest object to 12 o’clock. Combined with a narrow pT -bin for the jets\n",
    "this second jet develops a preferred distance from the center for the signal but not for the\n",
    "QCD background. Finally, we reflect the third-largest object to the right side of the image,\n",
    "where such a structure is really only visible for the 3-prong top signal. Note that this kind\n",
    "of pre-processing is crucial for visualization, but not necessarily part of a tagger."
   ]
  },
  {
   "cell_type": "markdown",
   "id": "350009c1-2b7d-4793-909d-db60c46132b1",
   "metadata": {},
   "source": [
    "### Rotating to hadronic coordinates"
   ]
  },
  {
   "cell_type": "markdown",
   "id": "3380fdd5-43d9-4858-a3f0-b87a03fac4a7",
   "metadata": {},
   "source": [
    "Each of the 4-vectors in `events` is currently stored in Cartesian coordinates $(E, p_x, p_y, p_z)$. However, it is convenient to rotate the basis to _hadronic coordinates_ $(p_T, y, \\phi, m)$, where:\n",
    "\n",
    "$$ p_T = \\sqrt{p_x^2 + p_y^2} \\,, \\quad y = \\mathrm{arctanh}\\, \\frac{p_z}{E} \\,, \\quad \\phi = \\arctan \\frac{p_y}{p_x}\\,, \\quad m = \\sqrt{E - p_x^2 - p_y^2 - p_z^2}$$"
   ]
  },
  {
   "cell_type": "markdown",
   "id": "a79c5ba5-54b9-4182-9229-1acddd2eb694",
   "metadata": {},
   "source": [
    "Here $p_T$ denotes the transverse momentum, $y$ is the rapidiy, $\\phi$ the azimuthal angle, and $m$ the mass. Although we could implement these formulas directly in NumPy, we'll use instead the [EnergyFlow](https://energyflow.network/) library, which provides many utility functions for precisely these cases. To convert our 4-vectors to hadronic coordinates, we'll use the `ptyphims_from_p4s()` function:"
   ]
  },
  {
   "cell_type": "code",
   "execution_count": 8,
   "id": "4b40e710-da8a-4688-8505-28f56661c25b",
   "metadata": {},
   "outputs": [],
   "source": [
    "events_hadronic = ptyphims_from_p4s(events, phi_ref=\"hardest\", mass=True)"
   ]
  },
  {
   "cell_type": "markdown",
   "id": "01882ffa-ad1b-4ffc-a629-542a4be8342f",
   "metadata": {},
   "source": [
    "Here, the `phi_ref` argument specifies which $\\phi$ value to use as reference within $\\pm \\pi$. The next step is to centre the collection of 4-vectors associated with each event. We can use the `center_ptyphims()` function to handle that for us:"
   ]
  },
  {
   "cell_type": "code",
   "execution_count": 9,
   "id": "44834eb4-820a-4a03-aeeb-53d16bf5a056",
   "metadata": {},
   "outputs": [],
   "source": [
    "events_centered = [center_ptyphims(event) for event in events_hadronic]"
   ]
  },
  {
   "cell_type": "markdown",
   "id": "9d729a79-2aca-4ea2-9d0e-94512e6f2d55",
   "metadata": {},
   "source": [
    "The final step is to reflect and rotate our events:"
   ]
  },
  {
   "cell_type": "code",
   "execution_count": 10,
   "id": "6a3e9d2c-c806-4226-9448-62a2ebe060d5",
   "metadata": {},
   "outputs": [],
   "source": [
    "events_reflected_and_rotated = [\n",
    "    reflect_ptyphims(rotate_ptyphims(event)) for event in events_centered\n",
    "]"
   ]
  },
  {
   "cell_type": "markdown",
   "id": "ef6dc012-979b-4392-8cb9-f543a05eb0cf",
   "metadata": {},
   "source": [
    "The final step is to create a jet image from an array of 4-vectors.  Here we can use the `pixelate()` function as follows:"
   ]
  },
  {
   "cell_type": "code",
   "execution_count": 11,
   "id": "550f7da2-0bba-415e-b914-bdcfffa87081",
   "metadata": {},
   "outputs": [],
   "source": [
    "images = [\n",
    "    pixelate(\n",
    "        event,\n",
    "        npix=40,\n",
    "        img_width=0.8,\n",
    "        nb_chan=1,\n",
    "        norm=False,\n",
    "        charged_counts_only=False,\n",
    "    )\n",
    "    for event in events_reflected_and_rotated\n",
    "]\n",
    "\n",
    "images = np.array(images).reshape(len(images), 40, 40)"
   ]
  },
  {
   "cell_type": "markdown",
   "id": "8630bcdb-af5f-4223-95ae-b89470c85048",
   "metadata": {},
   "source": [
    "Now that we have our images, let's split them into those corresponding to the top-quarks and QCD background:"
   ]
  },
  {
   "cell_type": "code",
   "execution_count": 12,
   "id": "69c93bbc-736a-4d14-8d59-a1034bdcf975",
   "metadata": {},
   "outputs": [],
   "source": [
    "top_images = images[labels == 1]\n",
    "qcd_images = images[labels == 0]"
   ]
  },
  {
   "cell_type": "markdown",
   "id": "18d87ee3-8c91-4344-9ec6-58e348a66dd9",
   "metadata": {},
   "source": [
    "And now we can plot a few examples to see how they images look like:"
   ]
  },
  {
   "cell_type": "code",
   "execution_count": 13,
   "id": "003b6560-9c01-4758-a7d6-a3f5eb443992",
   "metadata": {},
   "outputs": [
    {
     "data": {
      "image/png": "[encoded data removed]",
      "text/plain": [
       "<Figure size 576x288 with 2 Axes>"
      ]
     },
     "metadata": {
      "needs_background": "light"
     },
     "output_type": "display_data"
    },
    {
     "data": {
      "image/png": "[encoded data removed]",
      "text/plain": [
       "<Figure size 576x288 with 2 Axes>"
      ]
     },
     "metadata": {
      "needs_background": "light"
     },
     "output_type": "display_data"
    }
   ],
   "source": [
    "for i in range(2):\n",
    "    plt.figure(figsize=(8, 4))\n",
    "    plt.subplot(1, 2, 1)\n",
    "    plt.title(\"QCD background\")\n",
    "    plt.imshow(qcd_images[i])\n",
    "    plt.subplot(1, 2, 2)\n",
    "    plt.title(\"Top quark\")\n",
    "    plt.imshow(top_images[i])\n",
    "    plt.tight_layout()\n",
    "    plt.show()"
   ]
  },
  {
   "cell_type": "markdown",
   "id": "69ad82ef-8c05-4aa6-9335-316f2b9c21f5",
   "metadata": {},
   "source": [
    "Notice how the background events are much more clustered around the centre, while the top-quark jets have multiple \"prongs\". We can see this more clearly by averaging the pixel values across all events:"
   ]
  },
  {
   "cell_type": "code",
   "execution_count": 14,
   "id": "e044c284-37ee-4934-83e9-408d1b6fe4f9",
   "metadata": {},
   "outputs": [
    {
     "data": {
      "image/png": "[encoded data removed]",
      "text/plain": [
       "<Figure size 576x288 with 2 Axes>"
      ]
     },
     "metadata": {
      "needs_background": "light"
     },
     "output_type": "display_data"
    }
   ],
   "source": [
    "plt.figure(figsize=(8, 4))\n",
    "plt.subplot(1, 2, 1)\n",
    "plt.imshow(np.sum(qcd_images, axis=0))\n",
    "plt.title(\"Average QCD\")\n",
    "plt.xlabel(\"$\\eta$\")\n",
    "plt.ylabel(\"$\\phi$\")\n",
    "\n",
    "plt.subplot(1, 2, 2)\n",
    "plt.imshow(np.sum(top_images, axis=0))\n",
    "plt.title(\"Average Top\")\n",
    "plt.xlabel(\"$\\eta$\")\n",
    "plt.ylabel(\"$\\phi$\")\n",
    "\n",
    "plt.tight_layout()\n",
    "plt.show()"
   ]
  },
  {
   "cell_type": "markdown",
   "id": "756c0ebe-715b-4bbf-b37c-59472ef5d965",
   "metadata": {},
   "source": [
    "Great, we now have a way to convert raw 4-vectors into jet images! For convenience, we've applied the above steps to the whole `top_tagging` dataset, so let's download it now:"
   ]
  },
  {
   "cell_type": "code",
   "execution_count": 15,
   "id": "92093aca-a879-4633-96cd-9a421b2b3606",
   "metadata": {},
   "outputs": [
    {
     "data": {
      "application/vnd.jupyter.widget-view+json": {
       "model_id": "b340f289ba2944d79f0110c9f78c02df",
       "version_major": 2,
       "version_minor": 0
      },
      "text/plain": [
       "  0%|          | 0/3 [00:00<?, ?it/s]"
      ]
     },
     "metadata": {},
     "output_type": "display_data"
    },
    {
     "data": {
      "text/plain": [
       "DatasetDict({\n",
       "    validation: Dataset({\n",
       "        features: ['image', 'label'],\n",
       "        num_rows: 403000\n",
       "    })\n",
       "    test: Dataset({\n",
       "        features: ['image', 'label'],\n",
       "        num_rows: 404000\n",
       "    })\n",
       "    train: Dataset({\n",
       "        features: ['image', 'label'],\n",
       "        num_rows: 1211000\n",
       "    })\n",
       "})"
      ]
     },
     "execution_count": 15,
     "metadata": {},
     "output_type": "execute_result"
    }
   ],
   "source": [
    "images_ds = load_dataset(\"dl4phys/top_tagging_images\")\n",
    "images_ds"
   ]
  },
  {
   "cell_type": "code",
   "execution_count": 19,
   "id": "7c777e03-142f-4630-a682-5f63031a6cf4",
   "metadata": {},
   "outputs": [
    {
     "data": {
      "image/png": "[encoded data removed]",
      "text/plain": [
       "<Figure size 432x288 with 1 Axes>"
      ]
     },
     "metadata": {
      "needs_background": "light"
     },
     "output_type": "display_data"
    }
   ],
   "source": [
    "img = images_ds[\"train\"][0][\"image\"]\n",
    "plt.imshow(img);"
   ]
  },
  {
   "cell_type": "markdown",
   "id": "6e63935f-1d9a-4014-a829-e937dffffac8",
   "metadata": {},
   "source": [
    "## From images to tensors"
   ]
  },
  {
   "cell_type": "markdown",
   "id": "d80fc93c-9254-4258-9c8c-2c445302f9f1",
   "metadata": {},
   "source": [
    "Now that we have a dataset of images, the next thing we need to do is convert them to PyTorch tensors and wrap them in a `DataLoader`. One way to do this is via `torchvision`'s `ToTensor` class, which converts a PIL image into a tensor as follows:"
   ]
  },
  {
   "cell_type": "code",
   "execution_count": 22,
   "id": "df6dd8e8-9d67-409d-bad1-ad9b3ed16914",
   "metadata": {},
   "outputs": [
    {
     "data": {
      "text/plain": [
       "torch.Size([1, 40, 40])"
      ]
     },
     "execution_count": 22,
     "metadata": {},
     "output_type": "execute_result"
    }
   ],
   "source": [
    "t = ToTensor()(img)\n",
    "t.shape"
   ]
  },
  {
   "cell_type": "markdown",
   "id": "fc8ee638-c1ae-4761-a1fc-8a25e1f0bb5e",
   "metadata": {},
   "source": [
    "Here we can see that we now have a tensor of shape `(num_channels, height, width)`, where `num_channels` is 1 because we're dealing with black and white images. "
   ]
  },
  {
   "cell_type": "code",
   "execution_count": 53,
   "id": "f1381d63-3d56-40ea-a794-6cd291967035",
   "metadata": {},
   "outputs": [],
   "source": [
    "def get_dataset(dataset, num_examples=None):\n",
    "    if num_examples is not None:\n",
    "        dataset = dataset.shuffle(seed=42).select(range(num_examples))\n",
    "\n",
    "    x = torch.cat([ToTensor()(img) for img in dataset[\"image\"]]).unsqueeze(1)\n",
    "    y = torch.cat([torch.tensor(l).unsqueeze(0) for l in dataset[\"label\"]])\n",
    "\n",
    "    return TensorDataset(x, y)"
   ]
  },
  {
   "cell_type": "code",
   "execution_count": 76,
   "id": "e2d1950a-c482-47f6-85d1-6b5686d636bd",
   "metadata": {},
   "outputs": [],
   "source": [
    "train_ds = get_dataset(images_ds[\"train\"], 500_000)\n",
    "valid_ds = get_dataset(images_ds[\"validation\"], 50_000)"
   ]
  },
  {
   "cell_type": "code",
   "execution_count": 78,
   "id": "90543496-b25a-4575-8ea8-25b712a897c9",
   "metadata": {},
   "outputs": [],
   "source": [
    "train_dl = DataLoader(train_ds, bs=128, shuffle=True)\n",
    "valid_dl = DataLoader(valid_ds, bs=128)"
   ]
  },
  {
   "cell_type": "code",
   "execution_count": 79,
   "id": "162e2271-e6f9-4c91-8c0e-cdd52bc67cea",
   "metadata": {},
   "outputs": [],
   "source": [
    "dls = DataLoaders(train_dl, valid_dl)"
   ]
  },
  {
   "cell_type": "markdown",
   "id": "598e674b-015c-4e78-9807-4fde32858eb3",
   "metadata": {},
   "source": [
    "## Training a CNN"
   ]
  },
  {
   "cell_type": "code",
   "execution_count": null,
   "id": "6b05158b-ac88-4f07-ae6b-f4da40069a32",
   "metadata": {},
   "outputs": [],
   "source": [
    "dls.to(\"cuda\");"
   ]
  },
  {
   "cell_type": "code",
   "execution_count": 81,
   "id": "1b47b804-1b6f-48d3-8d43-a7a3831810c0",
   "metadata": {},
   "outputs": [],
   "source": [
    "learn = vision_learner(\n",
    "    dls,\n",
    "    resnet34,\n",
    "    metrics=[accuracy, RocAucBinary()],\n",
    "    n_in=1,\n",
    "    n_out=2,\n",
    "    normalize=False,\n",
    "    loss_func=F.cross_entropy,\n",
    ")"
   ]
  },
  {
   "cell_type": "code",
   "execution_count": 82,
   "id": "bee77d68-8e49-44d3-86e5-c354819afe30",
   "metadata": {},
   "outputs": [],
   "source": [
    "learn.model.to(\"cuda\");"
   ]
  },
  {
   "cell_type": "code",
   "execution_count": 83,
   "id": "cd54e49f-a10c-4a91-9554-3734153c3ca8",
   "metadata": {},
   "outputs": [
    {
     "data": {
      "text/html": [
       "\n",
       "<style>\n",
       "    /* Turns off some styling */\n",
       "    progress {\n",
       "        /* gets rid of default border in Firefox and Opera. */\n",
       "        border: none;\n",
       "        /* Needs to be in here for Safari polyfill so background images work as expected. */\n",
       "        background-size: auto;\n",
       "    }\n",
       "    .progress-bar-interrupted, .progress-bar-interrupted::-webkit-progress-bar {\n",
       "        background: #F44336;\n",
       "    }\n",
       "</style>\n"
      ],
      "text/plain": [
       "<IPython.core.display.HTML object>"
      ]
     },
     "metadata": {},
     "output_type": "display_data"
    },
    {
     "data": {
      "text/html": [],
      "text/plain": [
       "<IPython.core.display.HTML object>"
      ]
     },
     "metadata": {},
     "output_type": "display_data"
    },
    {
     "data": {
      "text/plain": [
       "SuggestedLRs(valley=0.0012022644514217973)"
      ]
     },
     "execution_count": 83,
     "metadata": {},
     "output_type": "execute_result"
    },
    {
     "data": {
      "image/png": "[encoded data removed]",
      "text/plain": [
       "<Figure size 432x288 with 1 Axes>"
      ]
     },
     "metadata": {
      "needs_background": "light"
     },
     "output_type": "display_data"
    }
   ],
   "source": [
    "learn.lr_find()"
   ]
  },
  {
   "cell_type": "code",
   "execution_count": 84,
   "id": "ed45964a-7729-4023-bd58-06474c817f19",
   "metadata": {},
   "outputs": [
    {
     "data": {
      "text/html": [
       "\n",
       "<style>\n",
       "    /* Turns off some styling */\n",
       "    progress {\n",
       "        /* gets rid of default border in Firefox and Opera. */\n",
       "        border: none;\n",
       "        /* Needs to be in here for Safari polyfill so background images work as expected. */\n",
       "        background-size: auto;\n",
       "    }\n",
       "    .progress-bar-interrupted, .progress-bar-interrupted::-webkit-progress-bar {\n",
       "        background: #F44336;\n",
       "    }\n",
       "</style>\n"
      ],
      "text/plain": [
       "<IPython.core.display.HTML object>"
      ]
     },
     "metadata": {},
     "output_type": "display_data"
    },
    {
     "data": {
      "text/html": [
       "<table border=\"1\" class=\"dataframe\">\n",
       "  <thead>\n",
       "    <tr style=\"text-align: left;\">\n",
       "      <th>epoch</th>\n",
       "      <th>train_loss</th>\n",
       "      <th>valid_loss</th>\n",
       "      <th>accuracy</th>\n",
       "      <th>roc_auc_score</th>\n",
       "      <th>time</th>\n",
       "    </tr>\n",
       "  </thead>\n",
       "  <tbody>\n",
       "    <tr>\n",
       "      <td>0</td>\n",
       "      <td>0.320922</td>\n",
       "      <td>0.304875</td>\n",
       "      <td>0.871600</td>\n",
       "      <td>0.941209</td>\n",
       "      <td>01:15</td>\n",
       "    </tr>\n",
       "  </tbody>\n",
       "</table>"
      ],
      "text/plain": [
       "<IPython.core.display.HTML object>"
      ]
     },
     "metadata": {},
     "output_type": "display_data"
    },
    {
     "data": {
      "text/html": [
       "\n",
       "<style>\n",
       "    /* Turns off some styling */\n",
       "    progress {\n",
       "        /* gets rid of default border in Firefox and Opera. */\n",
       "        border: none;\n",
       "        /* Needs to be in here for Safari polyfill so background images work as expected. */\n",
       "        background-size: auto;\n",
       "    }\n",
       "    .progress-bar-interrupted, .progress-bar-interrupted::-webkit-progress-bar {\n",
       "        background: #F44336;\n",
       "    }\n",
       "</style>\n"
      ],
      "text/plain": [
       "<IPython.core.display.HTML object>"
      ]
     },
     "metadata": {},
     "output_type": "display_data"
    },
    {
     "data": {
      "text/html": [
       "<table border=\"1\" class=\"dataframe\">\n",
       "  <thead>\n",
       "    <tr style=\"text-align: left;\">\n",
       "      <th>epoch</th>\n",
       "      <th>train_loss</th>\n",
       "      <th>valid_loss</th>\n",
       "      <th>accuracy</th>\n",
       "      <th>roc_auc_score</th>\n",
       "      <th>time</th>\n",
       "    </tr>\n",
       "  </thead>\n",
       "  <tbody>\n",
       "    <tr>\n",
       "      <td>0</td>\n",
       "      <td>0.241961</td>\n",
       "      <td>0.235067</td>\n",
       "      <td>0.902800</td>\n",
       "      <td>0.965104</td>\n",
       "      <td>01:37</td>\n",
       "    </tr>\n",
       "    <tr>\n",
       "      <td>1</td>\n",
       "      <td>0.208062</td>\n",
       "      <td>0.219872</td>\n",
       "      <td>0.909400</td>\n",
       "      <td>0.969319</td>\n",
       "      <td>01:37</td>\n",
       "    </tr>\n",
       "    <tr>\n",
       "      <td>2</td>\n",
       "      <td>0.203698</td>\n",
       "      <td>0.215279</td>\n",
       "      <td>0.911520</td>\n",
       "      <td>0.970384</td>\n",
       "      <td>01:37</td>\n",
       "    </tr>\n",
       "  </tbody>\n",
       "</table>"
      ],
      "text/plain": [
       "<IPython.core.display.HTML object>"
      ]
     },
     "metadata": {},
     "output_type": "display_data"
    }
   ],
   "source": [
    "learn.fine_tune(3, 1e-3)"
   ]
  },
  {
   "cell_type": "markdown",
   "id": "69ad9885-c2e3-4f55-a9e5-e757c7cba816",
   "metadata": {},
   "source": [
    "## Sharing our model"
   ]
  },
  {
   "cell_type": "code",
   "execution_count": 85,
   "id": "b7eef164-1011-480c-8ad8-131df13d90e1",
   "metadata": {},
   "outputs": [
    {
     "name": "stderr",
     "output_type": "stream",
     "text": [
      "Cloning https://huggingface.co/dl4phys/lewtun-resnet-finetuned-images-500k into local empty directory.\n"
     ]
    },
    {
     "ename": "AttributeError",
     "evalue": "'TensorDataset' object has no attribute 'new_empty'",
     "output_type": "error",
     "traceback": [
      "\u001b[0;31m---------------------------------------------------------------------------\u001b[0m",
      "\u001b[0;31mAttributeError\u001b[0m                            Traceback (most recent call last)",
      "Input \u001b[0;32mIn [85]\u001b[0m, in \u001b[0;36m<cell line: 5>\u001b[0;34m()\u001b[0m\n\u001b[1;32m      2\u001b[0m model_id \u001b[38;5;241m=\u001b[39m \u001b[38;5;124m\"\u001b[39m\u001b[38;5;124mlewtun-resnet-finetuned-images-500k\u001b[39m\u001b[38;5;124m\"\u001b[39m  \u001b[38;5;66;03m# Change this to something different\u001b[39;00m\n\u001b[1;32m      3\u001b[0m repo_id \u001b[38;5;241m=\u001b[39m \u001b[38;5;124mf\u001b[39m\u001b[38;5;124m\"\u001b[39m\u001b[38;5;132;01m{\u001b[39;00muser_or_org\u001b[38;5;132;01m}\u001b[39;00m\u001b[38;5;124m/\u001b[39m\u001b[38;5;132;01m{\u001b[39;00mmodel_id\u001b[38;5;132;01m}\u001b[39;00m\u001b[38;5;124m\"\u001b[39m\n\u001b[0;32m----> 5\u001b[0m \u001b[43mpush_to_hub_fastai\u001b[49m\u001b[43m(\u001b[49m\n\u001b[1;32m      6\u001b[0m \u001b[43m    \u001b[49m\u001b[43mlearner\u001b[49m\u001b[38;5;241;43m=\u001b[39;49m\u001b[43mlearn\u001b[49m\u001b[43m,\u001b[49m\n\u001b[1;32m      7\u001b[0m \u001b[43m    \u001b[49m\u001b[43mrepo_id\u001b[49m\u001b[38;5;241;43m=\u001b[39;49m\u001b[43mrepo_id\u001b[49m\u001b[43m,\u001b[49m\n\u001b[1;32m      8\u001b[0m \u001b[43m    \u001b[49m\u001b[43mcommit_message\u001b[49m\u001b[38;5;241;43m=\u001b[39;49m\u001b[38;5;124;43m\"\u001b[39;49m\u001b[38;5;124;43mAdd new Learner\u001b[39;49m\u001b[38;5;124;43m\"\u001b[39;49m\u001b[43m,\u001b[49m\n\u001b[1;32m      9\u001b[0m \u001b[43m)\u001b[49m\n",
      "File \u001b[0;32m~/miniconda3/envs/dl4phys/lib/python3.9/site-packages/huggingface_hub/fastai_utils.py:436\u001b[0m, in \u001b[0;36mpush_to_hub_fastai\u001b[0;34m(learner, repo_id, commit_message, private, token, config, **kwargs)\u001b[0m\n\u001b[1;32m    427\u001b[0m repo \u001b[38;5;241m=\u001b[39m Repository(\n\u001b[1;32m    428\u001b[0m     repo_id,\n\u001b[1;32m    429\u001b[0m     clone_from\u001b[38;5;241m=\u001b[39mrepo_url,\n\u001b[0;32m   (...)\u001b[0m\n\u001b[1;32m    432\u001b[0m     git_email\u001b[38;5;241m=\u001b[39mgit_email,\n\u001b[1;32m    433\u001b[0m )\n\u001b[1;32m    434\u001b[0m repo\u001b[38;5;241m.\u001b[39mgit_pull(rebase\u001b[38;5;241m=\u001b[39m\u001b[38;5;28;01mTrue\u001b[39;00m)\n\u001b[0;32m--> 436\u001b[0m \u001b[43m_save_pretrained_fastai\u001b[49m\u001b[43m(\u001b[49m\u001b[43mlearner\u001b[49m\u001b[43m,\u001b[49m\u001b[43m \u001b[49m\u001b[43mrepo_id\u001b[49m\u001b[43m,\u001b[49m\u001b[43m \u001b[49m\u001b[43mconfig\u001b[49m\u001b[38;5;241;43m=\u001b[39;49m\u001b[43mconfig\u001b[49m\u001b[43m)\u001b[49m\n\u001b[1;32m    438\u001b[0m \u001b[38;5;28;01mreturn\u001b[39;00m repo\u001b[38;5;241m.\u001b[39mpush_to_hub(commit_message\u001b[38;5;241m=\u001b[39mcommit_message)\n",
      "File \u001b[0;32m~/miniconda3/envs/dl4phys/lib/python3.9/site-packages/huggingface_hub/fastai_utils.py:296\u001b[0m, in \u001b[0;36m_save_pretrained_fastai\u001b[0;34m(learner, save_directory, config)\u001b[0m\n\u001b[1;32m    294\u001b[0m os\u001b[38;5;241m.\u001b[39mmakedirs(save_directory, exist_ok\u001b[38;5;241m=\u001b[39m\u001b[38;5;28;01mTrue\u001b[39;00m)\n\u001b[1;32m    295\u001b[0m \u001b[38;5;28;01mtry\u001b[39;00m:\n\u001b[0;32m--> 296\u001b[0m     \u001b[43mlearner\u001b[49m\u001b[38;5;241;43m.\u001b[39;49m\u001b[43mexport\u001b[49m\u001b[43m(\u001b[49m\n\u001b[1;32m    297\u001b[0m \u001b[43m        \u001b[49m\u001b[43mfname\u001b[49m\u001b[38;5;241;43m=\u001b[39;49m\u001b[38;5;124;43m\"\u001b[39;49m\u001b[38;5;124;43mmodel.pkl\u001b[39;49m\u001b[38;5;124;43m\"\u001b[39;49m\u001b[43m,\u001b[49m\n\u001b[1;32m    298\u001b[0m \u001b[43m        \u001b[49m\u001b[43mpickle_protocol\u001b[49m\u001b[38;5;241;43m=\u001b[39;49m\u001b[43mDEFAULT_PROTOCOL\u001b[49m\u001b[43m,\u001b[49m\n\u001b[1;32m    299\u001b[0m \u001b[43m    \u001b[49m\u001b[43m)\u001b[49m\n\u001b[1;32m    300\u001b[0m \u001b[38;5;28;01mexcept\u001b[39;00m PicklingError:\n\u001b[1;32m    301\u001b[0m     \u001b[38;5;28;01mraise\u001b[39;00m PicklingError(\n\u001b[1;32m    302\u001b[0m         \u001b[38;5;124m\"\u001b[39m\u001b[38;5;124mYou are using a lambda function, i.e., an anonymous function. `pickle`\u001b[39m\u001b[38;5;124m\"\u001b[39m\n\u001b[1;32m    303\u001b[0m         \u001b[38;5;124m\"\u001b[39m\u001b[38;5;124m cannot pickle function objects and requires that all functions have\u001b[39m\u001b[38;5;124m\"\u001b[39m\n\u001b[1;32m    304\u001b[0m         \u001b[38;5;124m\"\u001b[39m\u001b[38;5;124m names. One possible solution is to name the function.\u001b[39m\u001b[38;5;124m\"\u001b[39m\n\u001b[1;32m    305\u001b[0m     )\n",
      "File \u001b[0;32m~/miniconda3/envs/dl4phys/lib/python3.9/site-packages/fastai/learner.py:377\u001b[0m, in \u001b[0;36mexport\u001b[0;34m(self, fname, pickle_module, pickle_protocol)\u001b[0m\n\u001b[1;32m    375\u001b[0m \u001b[38;5;28mself\u001b[39m\u001b[38;5;241m.\u001b[39m_end_cleanup()\n\u001b[1;32m    376\u001b[0m old_dbunch \u001b[38;5;241m=\u001b[39m \u001b[38;5;28mself\u001b[39m\u001b[38;5;241m.\u001b[39mdls\n\u001b[0;32m--> 377\u001b[0m \u001b[38;5;28mself\u001b[39m\u001b[38;5;241m.\u001b[39mdls \u001b[38;5;241m=\u001b[39m \u001b[38;5;28;43mself\u001b[39;49m\u001b[38;5;241;43m.\u001b[39;49m\u001b[43mdls\u001b[49m\u001b[38;5;241;43m.\u001b[39;49m\u001b[43mnew_empty\u001b[49m\u001b[43m(\u001b[49m\u001b[43m)\u001b[49m\n\u001b[1;32m    378\u001b[0m state \u001b[38;5;241m=\u001b[39m \u001b[38;5;28mself\u001b[39m\u001b[38;5;241m.\u001b[39mopt\u001b[38;5;241m.\u001b[39mstate_dict() \u001b[38;5;28;01mif\u001b[39;00m \u001b[38;5;28mself\u001b[39m\u001b[38;5;241m.\u001b[39mopt \u001b[38;5;129;01mis\u001b[39;00m \u001b[38;5;129;01mnot\u001b[39;00m \u001b[38;5;28;01mNone\u001b[39;00m \u001b[38;5;28;01melse\u001b[39;00m \u001b[38;5;28;01mNone\u001b[39;00m\n\u001b[1;32m    379\u001b[0m \u001b[38;5;28mself\u001b[39m\u001b[38;5;241m.\u001b[39mopt \u001b[38;5;241m=\u001b[39m \u001b[38;5;28;01mNone\u001b[39;00m\n",
      "File \u001b[0;32m~/miniconda3/envs/dl4phys/lib/python3.9/site-packages/fastai/data/core.py:149\u001b[0m, in \u001b[0;36mDataLoaders.new_empty\u001b[0;34m(self)\u001b[0m\n\u001b[1;32m    148\u001b[0m \u001b[38;5;28;01mdef\u001b[39;00m \u001b[38;5;21mnew_empty\u001b[39m(\u001b[38;5;28mself\u001b[39m):\n\u001b[0;32m--> 149\u001b[0m     loaders \u001b[38;5;241m=\u001b[39m [dl\u001b[38;5;241m.\u001b[39mnew(dl\u001b[38;5;241m.\u001b[39mdataset\u001b[38;5;241m.\u001b[39mnew_empty()) \u001b[38;5;28;01mfor\u001b[39;00m dl \u001b[38;5;129;01min\u001b[39;00m \u001b[38;5;28mself\u001b[39m\u001b[38;5;241m.\u001b[39mloaders]\n\u001b[1;32m    150\u001b[0m     \u001b[38;5;28;01mreturn\u001b[39;00m \u001b[38;5;28mtype\u001b[39m(\u001b[38;5;28mself\u001b[39m)(\u001b[38;5;241m*\u001b[39mloaders, path\u001b[38;5;241m=\u001b[39m\u001b[38;5;28mself\u001b[39m\u001b[38;5;241m.\u001b[39mpath, device\u001b[38;5;241m=\u001b[39m\u001b[38;5;28mself\u001b[39m\u001b[38;5;241m.\u001b[39mdevice)\n",
      "File \u001b[0;32m~/miniconda3/envs/dl4phys/lib/python3.9/site-packages/fastai/data/core.py:149\u001b[0m, in \u001b[0;36m<listcomp>\u001b[0;34m(.0)\u001b[0m\n\u001b[1;32m    148\u001b[0m \u001b[38;5;28;01mdef\u001b[39;00m \u001b[38;5;21mnew_empty\u001b[39m(\u001b[38;5;28mself\u001b[39m):\n\u001b[0;32m--> 149\u001b[0m     loaders \u001b[38;5;241m=\u001b[39m [dl\u001b[38;5;241m.\u001b[39mnew(\u001b[43mdl\u001b[49m\u001b[38;5;241;43m.\u001b[39;49m\u001b[43mdataset\u001b[49m\u001b[38;5;241;43m.\u001b[39;49m\u001b[43mnew_empty\u001b[49m()) \u001b[38;5;28;01mfor\u001b[39;00m dl \u001b[38;5;129;01min\u001b[39;00m \u001b[38;5;28mself\u001b[39m\u001b[38;5;241m.\u001b[39mloaders]\n\u001b[1;32m    150\u001b[0m     \u001b[38;5;28;01mreturn\u001b[39;00m \u001b[38;5;28mtype\u001b[39m(\u001b[38;5;28mself\u001b[39m)(\u001b[38;5;241m*\u001b[39mloaders, path\u001b[38;5;241m=\u001b[39m\u001b[38;5;28mself\u001b[39m\u001b[38;5;241m.\u001b[39mpath, device\u001b[38;5;241m=\u001b[39m\u001b[38;5;28mself\u001b[39m\u001b[38;5;241m.\u001b[39mdevice)\n",
      "\u001b[0;31mAttributeError\u001b[0m: 'TensorDataset' object has no attribute 'new_empty'"
     ]
    }
   ],
   "source": [
    "user_or_org = \"dl4phys\"  # This can also be your Hub username, e.g. lewtun\n",
    "model_id = \"lewtun-resnet-finetuned-images-500k\"  # Change this to something different\n",
    "repo_id = f\"{user_or_org}/{model_id}\"\n",
    "\n",
    "push_to_hub_fastai(\n",
    "    learner=learn,\n",
    "    repo_id=repo_id,\n",
    "    commit_message=\"Add new Learner\",\n",
    ")"
   ]
  },
  {
   "cell_type": "markdown",
   "id": "f01865b2-f40b-43b9-9cea-215aa3a04601",
   "metadata": {},
   "source": [
    "## Comparisons to other techniques"
   ]
  },
  {
   "cell_type": "code",
   "execution_count": null,
   "id": "de968dfe-ceeb-46e3-b405-a07e7e143703",
   "metadata": {},
   "outputs": [],
   "source": [
    "xb, yb ="
   ]
  },
  {
   "cell_type": "code",
   "execution_count": 44,
   "id": "9942b349-2684-49f7-bc20-3922e5379816",
   "metadata": {},
   "outputs": [
    {
     "name": "stdout",
     "output_type": "stream",
     "text": [
      "CPU times: user 5 µs, sys: 0 ns, total: 5 µs\n",
      "Wall time: 9.54 µs\n"
     ]
    }
   ],
   "source": [
    "%%time\n",
    "# train_x[:256]"
   ]
  },
  {
   "cell_type": "code",
   "execution_count": 73,
   "id": "c63dda34-28b7-4b14-9b84-5ca9bcbddc51",
   "metadata": {},
   "outputs": [],
   "source": [
    "# %%time\n",
    "# images_ds[\"train\"][:256]"
   ]
  },
  {
   "cell_type": "markdown",
   "id": "ce417394-e307-43ca-a7f8-33845f6252db",
   "metadata": {},
   "source": [
    "## Using dataset"
   ]
  },
  {
   "cell_type": "code",
   "execution_count": 68,
   "id": "17e9680e-f6b5-4775-a3fe-4b06825c62dd",
   "metadata": {},
   "outputs": [],
   "source": [
    "num_samples = 100_000"
   ]
  },
  {
   "cell_type": "code",
   "execution_count": 47,
   "id": "25cb871e-9db9-4cb0-bce3-d538140fcc4b",
   "metadata": {},
   "outputs": [],
   "source": [
    "def convert_to_tensor(x):\n",
    "    x[\"pixel_values\"] = [transforms.ToTensor()(img) for img in x[\"image\"]]\n",
    "    x[\"label\"] = [torch.tensor(l).unsqueeze(0) for l in x[\"label\"]]\n",
    "    return x"
   ]
  },
  {
   "cell_type": "code",
   "execution_count": 48,
   "id": "b103e043-167c-4007-97ea-13b73338c057",
   "metadata": {},
   "outputs": [
    {
     "name": "stdout",
     "output_type": "stream",
     "text": [
      " "
     ]
    },
    {
     "name": "stderr",
     "output_type": "stream",
     "text": [
      "Loading cached processed dataset at /home/lewis/.cache/huggingface/datasets/dl4phys___parquet/dl4phys--top_landscape_images-9b271235338645d2/0.0.0/0b6d5799bb726b24ad7fc7be720c170d8e497f575d02d47537de9a5bac074901/cache-b450dc0c83c1a67f.arrow\n"
     ]
    },
    {
     "name": "stdout",
     "output_type": "stream",
     "text": [
      " "
     ]
    },
    {
     "name": "stderr",
     "output_type": "stream",
     "text": [
      "Loading cached processed dataset at /home/lewis/.cache/huggingface/datasets/dl4phys___parquet/dl4phys--top_landscape_images-9b271235338645d2/0.0.0/0b6d5799bb726b24ad7fc7be720c170d8e497f575d02d47537de9a5bac074901/cache-3089ed3cd2c7fa57.arrow\n"
     ]
    },
    {
     "name": "stdout",
     "output_type": "stream",
     "text": [
      " "
     ]
    },
    {
     "name": "stderr",
     "output_type": "stream",
     "text": [
      "Loading cached processed dataset at /home/lewis/.cache/huggingface/datasets/dl4phys___parquet/dl4phys--top_landscape_images-9b271235338645d2/0.0.0/0b6d5799bb726b24ad7fc7be720c170d8e497f575d02d47537de9a5bac074901/cache-8fe848766b132ddd.arrow\n"
     ]
    },
    {
     "name": "stdout",
     "output_type": "stream",
     "text": [
      " "
     ]
    },
    {
     "name": "stderr",
     "output_type": "stream",
     "text": [
      "Loading cached processed dataset at /home/lewis/.cache/huggingface/datasets/dl4phys___parquet/dl4phys--top_landscape_images-9b271235338645d2/0.0.0/0b6d5799bb726b24ad7fc7be720c170d8e497f575d02d47537de9a5bac074901/cache-60be1454cd6c9d7f.arrow\n"
     ]
    },
    {
     "name": "stdout",
     "output_type": "stream",
     "text": [
      " "
     ]
    },
    {
     "name": "stderr",
     "output_type": "stream",
     "text": [
      "Loading cached processed dataset at /home/lewis/.cache/huggingface/datasets/dl4phys___parquet/dl4phys--top_landscape_images-9b271235338645d2/0.0.0/0b6d5799bb726b24ad7fc7be720c170d8e497f575d02d47537de9a5bac074901/cache-59f55e7e7bbca34e.arrow\n"
     ]
    },
    {
     "name": "stdout",
     "output_type": "stream",
     "text": [
      " "
     ]
    },
    {
     "name": "stderr",
     "output_type": "stream",
     "text": [
      "Loading cached processed dataset at /home/lewis/.cache/huggingface/datasets/dl4phys___parquet/dl4phys--top_landscape_images-9b271235338645d2/0.0.0/0b6d5799bb726b24ad7fc7be720c170d8e497f575d02d47537de9a5bac074901/cache-a7acaed6da4dcf15.arrow\n"
     ]
    },
    {
     "name": "stdout",
     "output_type": "stream",
     "text": [
      " "
     ]
    },
    {
     "name": "stderr",
     "output_type": "stream",
     "text": [
      "Loading cached processed dataset at /home/lewis/.cache/huggingface/datasets/dl4phys___parquet/dl4phys--top_landscape_images-9b271235338645d2/0.0.0/0b6d5799bb726b24ad7fc7be720c170d8e497f575d02d47537de9a5bac074901/cache-2c763458767ff94d.arrow\n"
     ]
    },
    {
     "name": "stdout",
     "output_type": "stream",
     "text": [
      " "
     ]
    },
    {
     "name": "stderr",
     "output_type": "stream",
     "text": [
      "Loading cached processed dataset at /home/lewis/.cache/huggingface/datasets/dl4phys___parquet/dl4phys--top_landscape_images-9b271235338645d2/0.0.0/0b6d5799bb726b24ad7fc7be720c170d8e497f575d02d47537de9a5bac074901/cache-74c910ef6cfcaa80.arrow\n"
     ]
    },
    {
     "name": "stdout",
     "output_type": "stream",
     "text": [
      " "
     ]
    },
    {
     "name": "stderr",
     "output_type": "stream",
     "text": [
      "Loading cached processed dataset at /home/lewis/.cache/huggingface/datasets/dl4phys___parquet/dl4phys--top_landscape_images-9b271235338645d2/0.0.0/0b6d5799bb726b24ad7fc7be720c170d8e497f575d02d47537de9a5bac074901/cache-407546ab9ed0b964.arrow\n"
     ]
    },
    {
     "name": "stdout",
     "output_type": "stream",
     "text": [
      " "
     ]
    },
    {
     "name": "stderr",
     "output_type": "stream",
     "text": [
      "Loading cached processed dataset at /home/lewis/.cache/huggingface/datasets/dl4phys___parquet/dl4phys--top_landscape_images-9b271235338645d2/0.0.0/0b6d5799bb726b24ad7fc7be720c170d8e497f575d02d47537de9a5bac074901/cache-f9ab346ca267a70b.arrow\n"
     ]
    },
    {
     "name": "stdout",
     "output_type": "stream",
     "text": [
      " "
     ]
    },
    {
     "name": "stderr",
     "output_type": "stream",
     "text": [
      "Loading cached processed dataset at /home/lewis/.cache/huggingface/datasets/dl4phys___parquet/dl4phys--top_landscape_images-9b271235338645d2/0.0.0/0b6d5799bb726b24ad7fc7be720c170d8e497f575d02d47537de9a5bac074901/cache-dcb953e4638b49e6.arrow\n"
     ]
    },
    {
     "name": "stdout",
     "output_type": "stream",
     "text": [
      " "
     ]
    },
    {
     "name": "stderr",
     "output_type": "stream",
     "text": [
      "Loading cached processed dataset at /home/lewis/.cache/huggingface/datasets/dl4phys___parquet/dl4phys--top_landscape_images-9b271235338645d2/0.0.0/0b6d5799bb726b24ad7fc7be720c170d8e497f575d02d47537de9a5bac074901/cache-b7045a46fe6e586f.arrow\n"
     ]
    }
   ],
   "source": [
    "images_ds = images_ds.map(convert_to_tensor, batched=True, num_proc=4)"
   ]
  },
  {
   "cell_type": "code",
   "execution_count": 49,
   "id": "130a9406-e826-4718-bf2d-a8fa8a423c0a",
   "metadata": {},
   "outputs": [],
   "source": [
    "images_ds = images_ds.remove_columns(\"image\")"
   ]
  },
  {
   "cell_type": "code",
   "execution_count": 69,
   "id": "f4bb92a8-3ab3-4839-9cf4-4fe4fe5f4976",
   "metadata": {},
   "outputs": [
    {
     "data": {
      "text/plain": [
       "DatasetDict({\n",
       "    validation: Dataset({\n",
       "        features: ['label', 'pixel_values'],\n",
       "        num_rows: 403000\n",
       "    })\n",
       "    test: Dataset({\n",
       "        features: ['label', 'pixel_values'],\n",
       "        num_rows: 404000\n",
       "    })\n",
       "    train: Dataset({\n",
       "        features: ['label', 'pixel_values'],\n",
       "        num_rows: 1211000\n",
       "    })\n",
       "})"
      ]
     },
     "execution_count": 69,
     "metadata": {},
     "output_type": "execute_result"
    }
   ],
   "source": [
    "images_ds"
   ]
  },
  {
   "cell_type": "code",
   "execution_count": 70,
   "id": "3e5c8c0b-9ae1-431d-9946-60306fd699e0",
   "metadata": {},
   "outputs": [],
   "source": [
    "class JetImageDataset(Dataset):\n",
    "    def __init__(self, ds):\n",
    "        self.ds = ds\n",
    "\n",
    "    def __len__(self):\n",
    "        return len(self.ds)\n",
    "\n",
    "    def __getitem__(self, idx):\n",
    "        data = self.ds[idx]\n",
    "        image = torch.tensor(data[\"pixel_values\"])\n",
    "        label = torch.tensor(data[\"label\"]).squeeze()\n",
    "        # image = self.ds[idx][\"pixel_values\"]\n",
    "        # label = self.ds[idx][\"label\"]\n",
    "        return image, label"
   ]
  },
  {
   "cell_type": "code",
   "execution_count": 52,
   "id": "c3de03df-ad54-44f2-8d68-56dd6f59de47",
   "metadata": {},
   "outputs": [],
   "source": [
    "# %%time\n",
    "# for i in images_ds[\"train\"].select(range(num_samples)):\n",
    "#     _ = i"
   ]
  },
  {
   "cell_type": "code",
   "execution_count": 71,
   "id": "aa3aa7b8-0963-4cb2-a019-1c73103f240e",
   "metadata": {},
   "outputs": [],
   "source": [
    "train_ds = JetImageDataset(images_ds[\"train\"].select(range(num_samples)))\n",
    "valid_ds = JetImageDataset(images_ds[\"validation\"])"
   ]
  },
  {
   "cell_type": "code",
   "execution_count": 54,
   "id": "d4fe2dd0-2148-4de6-8af6-f4aaa8d6472d",
   "metadata": {},
   "outputs": [],
   "source": [
    "train_dl = DataLoader(\n",
    "    train_ds,\n",
    "    bs=256,\n",
    "    shuffle=True,\n",
    ")\n",
    "valid_dl = DataLoader(valid_ds, bs=128)"
   ]
  },
  {
   "cell_type": "code",
   "execution_count": 55,
   "id": "1ef98a9b-367f-4ea9-b24e-ee3b1196bc9c",
   "metadata": {},
   "outputs": [
    {
     "name": "stdout",
     "output_type": "stream",
     "text": [
      "CPU times: user 4 µs, sys: 0 ns, total: 4 µs\n",
      "Wall time: 9.06 µs\n"
     ]
    }
   ],
   "source": [
    "%time\n",
    "for xb, yb in train_dl:\n",
    "    _ = 1"
   ]
  },
  {
   "cell_type": "code",
   "execution_count": 56,
   "id": "ccef970b-d623-42c4-883a-8e07e2df6d11",
   "metadata": {},
   "outputs": [],
   "source": [
    "train_dl = DataLoader(train_ds, bs=256, shuffle=True, num_workers=1, pin_memory=True)\n",
    "train_dl.to(\"cuda\");"
   ]
  },
  {
   "cell_type": "code",
   "execution_count": 21,
   "id": "9c59114f-d4cc-40e8-a6f6-1ad3199b76e8",
   "metadata": {},
   "outputs": [
    {
     "name": "stdout",
     "output_type": "stream",
     "text": [
      "CPU times: user 3 µs, sys: 0 ns, total: 3 µs\n",
      "Wall time: 6.91 µs\n"
     ]
    }
   ],
   "source": [
    "%time\n",
    "for xb, yb in train_dl:\n",
    "    _ = 1"
   ]
  },
  {
   "cell_type": "code",
   "execution_count": 15,
   "id": "9a8d5a12-ae19-421b-af5d-8071bac1a96e",
   "metadata": {},
   "outputs": [
    {
     "data": {
      "text/plain": [
       "10000"
      ]
     },
     "execution_count": 15,
     "metadata": {},
     "output_type": "execute_result"
    }
   ],
   "source": [
    "len(train_ds)"
   ]
  },
  {
   "cell_type": "code",
   "execution_count": 8,
   "id": "06666ea2-1dc6-4480-9ea9-1048b2ec7f42",
   "metadata": {},
   "outputs": [
    {
     "data": {
      "text/plain": [
       "device(type='cpu')"
      ]
     },
     "execution_count": 8,
     "metadata": {},
     "output_type": "execute_result"
    }
   ],
   "source": [
    "train_ds[0][0].device"
   ]
  },
  {
   "cell_type": "code",
   "execution_count": 72,
   "id": "3f8cdbfd-132f-4f14-b008-40a2c3870db4",
   "metadata": {},
   "outputs": [],
   "source": [
    "train_dl = DataLoader(\n",
    "    train_ds,\n",
    "    bs=256,\n",
    "    # shuffle=True,\n",
    ")\n",
    "valid_dl = DataLoader(valid_ds, bs=128)"
   ]
  },
  {
   "cell_type": "code",
   "execution_count": 72,
   "id": "3a6621d3-6721-46b7-bee0-08dc3b3d564b",
   "metadata": {},
   "outputs": [],
   "source": [
    "train_dl.to(\"cuda\")\n",
    "valid_dl.to(\"cuda\");"
   ]
  },
  {
   "cell_type": "code",
   "execution_count": 58,
   "id": "f3e091c7-65c4-4639-9b1d-48cb8e7c783d",
   "metadata": {},
   "outputs": [],
   "source": [
    "xb, yb = first(train_dl)"
   ]
  },
  {
   "cell_type": "code",
   "execution_count": 59,
   "id": "0ba639b6-1512-4fd8-b6ef-ca073e2209b3",
   "metadata": {},
   "outputs": [
    {
     "data": {
      "text/plain": [
       "(torch.Size([256, 1, 40, 40]), torch.Size([256]))"
      ]
     },
     "execution_count": 59,
     "metadata": {},
     "output_type": "execute_result"
    }
   ],
   "source": [
    "xb.shape, yb.shape"
   ]
  },
  {
   "cell_type": "code",
   "execution_count": 73,
   "id": "ea173ad4-6978-40e7-8f62-8eae90a086b3",
   "metadata": {},
   "outputs": [],
   "source": [
    "dls = DataLoaders(train_dl, valid_dl)\n",
    "dls.to(\"cuda\");"
   ]
  },
  {
   "cell_type": "code",
   "execution_count": 74,
   "id": "461f90a8-08c4-44be-8175-938b3e3d97d3",
   "metadata": {},
   "outputs": [],
   "source": [
    "learn = vision_learner(\n",
    "    dls,\n",
    "    resnet18,\n",
    "    metrics=[accuracy],\n",
    "    n_in=1,\n",
    "    n_out=2,\n",
    "    normalize=False,\n",
    "    loss_func=F.cross_entropy,\n",
    ")"
   ]
  },
  {
   "cell_type": "code",
   "execution_count": 75,
   "id": "349f5d22-6b8e-4a1c-8eaf-fde90ee0ff39",
   "metadata": {},
   "outputs": [],
   "source": [
    "learn.model.to(\"cuda\");"
   ]
  },
  {
   "cell_type": "code",
   "execution_count": 76,
   "id": "5ea7a92f-857e-4df8-8942-87f5414a0815",
   "metadata": {},
   "outputs": [],
   "source": [
    "xb, yb = first(dls.loaders[0])"
   ]
  },
  {
   "cell_type": "code",
   "execution_count": 77,
   "id": "880e9bf1-de19-4403-9606-119302b72ac0",
   "metadata": {},
   "outputs": [
    {
     "data": {
      "text/plain": [
       "device(type='cuda', index=0)"
      ]
     },
     "execution_count": 77,
     "metadata": {},
     "output_type": "execute_result"
    }
   ],
   "source": [
    "xb.device"
   ]
  },
  {
   "cell_type": "code",
   "execution_count": 78,
   "id": "2da35cbc-db7f-4ddd-b7bd-4c2b288e1b17",
   "metadata": {},
   "outputs": [
    {
     "data": {
      "text/plain": [
       "device(type='cuda', index=0)"
      ]
     },
     "execution_count": 78,
     "metadata": {},
     "output_type": "execute_result"
    }
   ],
   "source": [
    "learn.model(xb).device"
   ]
  },
  {
   "cell_type": "code",
   "execution_count": 79,
   "id": "9e513595-3488-4b54-8a25-f029b63388f7",
   "metadata": {},
   "outputs": [
    {
     "data": {
      "text/html": [
       "\n",
       "<style>\n",
       "    /* Turns off some styling */\n",
       "    progress {\n",
       "        /* gets rid of default border in Firefox and Opera. */\n",
       "        border: none;\n",
       "        /* Needs to be in here for Safari polyfill so background images work as expected. */\n",
       "        background-size: auto;\n",
       "    }\n",
       "    .progress-bar-interrupted, .progress-bar-interrupted::-webkit-progress-bar {\n",
       "        background: #F44336;\n",
       "    }\n",
       "</style>\n"
      ],
      "text/plain": [
       "<IPython.core.display.HTML object>"
      ]
     },
     "metadata": {},
     "output_type": "display_data"
    },
    {
     "data": {
      "text/html": [],
      "text/plain": [
       "<IPython.core.display.HTML object>"
      ]
     },
     "metadata": {},
     "output_type": "display_data"
    },
    {
     "data": {
      "text/plain": [
       "SuggestedLRs(valley=0.0012022644514217973)"
      ]
     },
     "execution_count": 79,
     "metadata": {},
     "output_type": "execute_result"
    },
    {
     "data": {
      "image/png": "[encoded data removed]",
      "text/plain": [
       "<Figure size 432x288 with 1 Axes>"
      ]
     },
     "metadata": {
      "needs_background": "light"
     },
     "output_type": "display_data"
    }
   ],
   "source": [
    "learn.lr_find()"
   ]
  },
  {
   "cell_type": "code",
   "execution_count": 80,
   "id": "c5393afa-344f-4929-96f9-1537f8ca43d9",
   "metadata": {},
   "outputs": [
    {
     "data": {
      "text/html": [
       "\n",
       "<style>\n",
       "    /* Turns off some styling */\n",
       "    progress {\n",
       "        /* gets rid of default border in Firefox and Opera. */\n",
       "        border: none;\n",
       "        /* Needs to be in here for Safari polyfill so background images work as expected. */\n",
       "        background-size: auto;\n",
       "    }\n",
       "    .progress-bar-interrupted, .progress-bar-interrupted::-webkit-progress-bar {\n",
       "        background: #F44336;\n",
       "    }\n",
       "</style>\n"
      ],
      "text/plain": [
       "<IPython.core.display.HTML object>"
      ]
     },
     "metadata": {},
     "output_type": "display_data"
    },
    {
     "data": {
      "text/html": [
       "<table border=\"1\" class=\"dataframe\">\n",
       "  <thead>\n",
       "    <tr style=\"text-align: left;\">\n",
       "      <th>epoch</th>\n",
       "      <th>train_loss</th>\n",
       "      <th>valid_loss</th>\n",
       "      <th>accuracy</th>\n",
       "      <th>time</th>\n",
       "    </tr>\n",
       "  </thead>\n",
       "  <tbody>\n",
       "    <tr>\n",
       "      <td>0</td>\n",
       "      <td>0.514728</td>\n",
       "      <td>0.425086</td>\n",
       "      <td>0.809208</td>\n",
       "      <td>05:41</td>\n",
       "    </tr>\n",
       "  </tbody>\n",
       "</table>"
      ],
      "text/plain": [
       "<IPython.core.display.HTML object>"
      ]
     },
     "metadata": {},
     "output_type": "display_data"
    },
    {
     "data": {
      "text/html": [
       "\n",
       "<style>\n",
       "    /* Turns off some styling */\n",
       "    progress {\n",
       "        /* gets rid of default border in Firefox and Opera. */\n",
       "        border: none;\n",
       "        /* Needs to be in here for Safari polyfill so background images work as expected. */\n",
       "        background-size: auto;\n",
       "    }\n",
       "    .progress-bar-interrupted, .progress-bar-interrupted::-webkit-progress-bar {\n",
       "        background: #F44336;\n",
       "    }\n",
       "</style>\n"
      ],
      "text/plain": [
       "<IPython.core.display.HTML object>"
      ]
     },
     "metadata": {},
     "output_type": "display_data"
    },
    {
     "data": {
      "text/html": [
       "<table border=\"1\" class=\"dataframe\">\n",
       "  <thead>\n",
       "    <tr style=\"text-align: left;\">\n",
       "      <th>epoch</th>\n",
       "      <th>train_loss</th>\n",
       "      <th>valid_loss</th>\n",
       "      <th>accuracy</th>\n",
       "      <th>time</th>\n",
       "    </tr>\n",
       "  </thead>\n",
       "  <tbody>\n",
       "    <tr>\n",
       "      <td>0</td>\n",
       "      <td>0.328901</td>\n",
       "      <td>0.292307</td>\n",
       "      <td>0.877146</td>\n",
       "      <td>05:49</td>\n",
       "    </tr>\n",
       "  </tbody>\n",
       "</table>"
      ],
      "text/plain": [
       "<IPython.core.display.HTML object>"
      ]
     },
     "metadata": {},
     "output_type": "display_data"
    }
   ],
   "source": [
    "learn.fine_tune(1, 1e-3)"
   ]
  },
  {
   "cell_type": "markdown",
   "id": "10eb4c52-5d6b-4bdd-aebc-ba388d803775",
   "metadata": {},
   "source": [
    "## Train simple convnet"
   ]
  },
  {
   "cell_type": "code",
   "execution_count": 5,
   "id": "86107514-ceb6-4d24-9eff-24bbae748f7e",
   "metadata": {},
   "outputs": [],
   "source": [
    "def conv(ni, nf, ks=3, act=True):\n",
    "    res = nn.Conv2d(ni, nf, stride=2, kernel_size=ks, padding=ks // 2)\n",
    "    if act:\n",
    "        res = nn.Sequential(res, nn.ReLU())\n",
    "    return res"
   ]
  },
  {
   "cell_type": "code",
   "execution_count": 64,
   "id": "118a80bc-8e75-46de-ab1e-7f3d0d28c132",
   "metadata": {},
   "outputs": [],
   "source": [
    "simple_cnn = nn.Sequential(\n",
    "    conv(1, 4),\n",
    "    conv(4, 8),\n",
    "    conv(8, 16),\n",
    "    conv(16, 32),\n",
    "    conv(32, 16),\n",
    "    conv(16, 2, act=False),\n",
    "    Flatten(),\n",
    ").to(\"cuda\")"
   ]
  },
  {
   "cell_type": "code",
   "execution_count": 65,
   "id": "0f2f3d47-9054-466e-93b2-2fb15959853f",
   "metadata": {},
   "outputs": [
    {
     "data": {
      "text/plain": [
       "torch.Size([128, 2])"
      ]
     },
     "execution_count": 65,
     "metadata": {},
     "output_type": "execute_result"
    }
   ],
   "source": [
    "simple_cnn(xb).shape"
   ]
  },
  {
   "cell_type": "code",
   "execution_count": 66,
   "id": "be9f9558-8af1-45bf-9c00-47d911c22fc8",
   "metadata": {},
   "outputs": [],
   "source": [
    "learn = Learner(\n",
    "    dls, simple_cnn, metrics=[accuracy, RocAucBinary()], loss_func=F.cross_entropy\n",
    ")"
   ]
  },
  {
   "cell_type": "code",
   "execution_count": 67,
   "id": "69548f36-6773-4bbc-a2ad-e8bc21be73ae",
   "metadata": {},
   "outputs": [
    {
     "data": {
      "text/html": [
       "\n",
       "<style>\n",
       "    /* Turns off some styling */\n",
       "    progress {\n",
       "        /* gets rid of default border in Firefox and Opera. */\n",
       "        border: none;\n",
       "        /* Needs to be in here for Safari polyfill so background images work as expected. */\n",
       "        background-size: auto;\n",
       "    }\n",
       "    .progress-bar-interrupted, .progress-bar-interrupted::-webkit-progress-bar {\n",
       "        background: #F44336;\n",
       "    }\n",
       "</style>\n"
      ],
      "text/plain": [
       "<IPython.core.display.HTML object>"
      ]
     },
     "metadata": {},
     "output_type": "display_data"
    },
    {
     "data": {
      "text/html": [],
      "text/plain": [
       "<IPython.core.display.HTML object>"
      ]
     },
     "metadata": {},
     "output_type": "display_data"
    },
    {
     "data": {
      "text/plain": [
       "Sequential (Input shape: 128 x 1 x 40 x 40)\n",
       "============================================================================\n",
       "Layer (type)         Output Shape         Param #    Trainable \n",
       "============================================================================\n",
       "                     128 x 4 x 20 x 20   \n",
       "Conv2d                                    40         True      \n",
       "ReLU                                                           \n",
       "____________________________________________________________________________\n",
       "                     128 x 8 x 10 x 10   \n",
       "Conv2d                                    296        True      \n",
       "ReLU                                                           \n",
       "____________________________________________________________________________\n",
       "                     128 x 16 x 5 x 5    \n",
       "Conv2d                                    1168       True      \n",
       "ReLU                                                           \n",
       "____________________________________________________________________________\n",
       "                     128 x 32 x 3 x 3    \n",
       "Conv2d                                    4640       True      \n",
       "ReLU                                                           \n",
       "____________________________________________________________________________\n",
       "                     128 x 16 x 2 x 2    \n",
       "Conv2d                                    4624       True      \n",
       "ReLU                                                           \n",
       "____________________________________________________________________________\n",
       "                     128 x 2 x 1 x 1     \n",
       "Conv2d                                    290        True      \n",
       "____________________________________________________________________________\n",
       "                     128 x 2             \n",
       "Flatten                                                        \n",
       "____________________________________________________________________________\n",
       "\n",
       "Total params: 11,058\n",
       "Total trainable params: 11,058\n",
       "Total non-trainable params: 0\n",
       "\n",
       "Optimizer used: <function Adam at 0x7ff1ffc81040>\n",
       "Loss function: <function cross_entropy at 0x7ff25c0de3a0>\n",
       "\n",
       "Callbacks:\n",
       "  - TrainEvalCallback\n",
       "  - Recorder\n",
       "  - ProgressCallback"
      ]
     },
     "execution_count": 67,
     "metadata": {},
     "output_type": "execute_result"
    }
   ],
   "source": [
    "learn.summary()"
   ]
  },
  {
   "cell_type": "code",
   "execution_count": 68,
   "id": "6b35adcd-ef8f-4b52-bea8-ee23ce0b8871",
   "metadata": {},
   "outputs": [
    {
     "data": {
      "text/html": [
       "\n",
       "<style>\n",
       "    /* Turns off some styling */\n",
       "    progress {\n",
       "        /* gets rid of default border in Firefox and Opera. */\n",
       "        border: none;\n",
       "        /* Needs to be in here for Safari polyfill so background images work as expected. */\n",
       "        background-size: auto;\n",
       "    }\n",
       "    .progress-bar-interrupted, .progress-bar-interrupted::-webkit-progress-bar {\n",
       "        background: #F44336;\n",
       "    }\n",
       "</style>\n"
      ],
      "text/plain": [
       "<IPython.core.display.HTML object>"
      ]
     },
     "metadata": {},
     "output_type": "display_data"
    },
    {
     "data": {
      "text/html": [],
      "text/plain": [
       "<IPython.core.display.HTML object>"
      ]
     },
     "metadata": {},
     "output_type": "display_data"
    },
    {
     "data": {
      "text/plain": [
       "SuggestedLRs(valley=0.0030199517495930195)"
      ]
     },
     "execution_count": 68,
     "metadata": {},
     "output_type": "execute_result"
    },
    {
     "data": {
      "image/png": "[encoded data removed]",
      "text/plain": [
       "<Figure size 432x288 with 1 Axes>"
      ]
     },
     "metadata": {
      "needs_background": "light"
     },
     "output_type": "display_data"
    }
   ],
   "source": [
    "learn.lr_find()"
   ]
  },
  {
   "cell_type": "code",
   "execution_count": null,
   "id": "1142f48b-eeb4-4d9e-8902-e8b4c78c404a",
   "metadata": {},
   "outputs": [],
   "source": [
    "learn.fit_one_cycle(5, 3e-3)"
   ]
  },
  {
   "cell_type": "markdown",
   "id": "008118f0-7479-430e-87c4-37d4e4474e0b",
   "metadata": {},
   "source": [
    "## Train with tensors"
   ]
  },
  {
   "cell_type": "code",
   "execution_count": 13,
   "id": "f5b244d6-91a4-4184-89c0-67cdd23de1fa",
   "metadata": {},
   "outputs": [],
   "source": [
    "num_samples = 10_000"
   ]
  },
  {
   "cell_type": "code",
   "execution_count": 14,
   "id": "ff18ad83-35fd-4a31-8d44-a0d7dd631972",
   "metadata": {},
   "outputs": [],
   "source": [
    "train_ds = images_ds[\"train\"].shuffle()"
   ]
  },
  {
   "cell_type": "code",
   "execution_count": 15,
   "id": "1921c565-8301-4470-ae82-e2aec9d00aa3",
   "metadata": {},
   "outputs": [
    {
     "data": {
      "image/png": "[encoded data removed]",
      "text/plain": [
       "<PIL.PngImagePlugin.PngImageFile image mode=L size=40x40>"
      ]
     },
     "execution_count": 15,
     "metadata": {},
     "output_type": "execute_result"
    }
   ],
   "source": [
    "images = train_ds[:num_samples][\"image\"]\n",
    "images[0]"
   ]
  },
  {
   "cell_type": "code",
   "execution_count": 16,
   "id": "da6af12a-134a-421d-ad79-41b24135488f",
   "metadata": {},
   "outputs": [],
   "source": [
    "labels = train_ds[:num_samples][\"label\"]"
   ]
  },
  {
   "cell_type": "code",
   "execution_count": 17,
   "id": "5c0a53a0-8790-4287-a5fb-44d102d29219",
   "metadata": {},
   "outputs": [],
   "source": [
    "train_x = torch.cat([transforms.ToTensor()(img) for img in images]).unsqueeze(1)\n",
    "train_y = torch.cat([torch.tensor(l) for l in labels])"
   ]
  },
  {
   "cell_type": "code",
   "execution_count": 18,
   "id": "4f18ab62-229d-4c6d-988e-29bbf4a82937",
   "metadata": {},
   "outputs": [
    {
     "data": {
      "text/plain": [
       "(torch.Size([10000, 1, 40, 40]), torch.Size([10000]))"
      ]
     },
     "execution_count": 18,
     "metadata": {},
     "output_type": "execute_result"
    }
   ],
   "source": [
    "train_x.shape, train_y.shape"
   ]
  },
  {
   "cell_type": "code",
   "execution_count": 19,
   "id": "48512eb3-eb3d-435d-be31-0bc94f547768",
   "metadata": {},
   "outputs": [],
   "source": [
    "class JetTensorDataset(Dataset):\n",
    "    def __init__(self, images, labels):\n",
    "        self.images = images\n",
    "        self.labels = labels\n",
    "\n",
    "    def __len__(self):\n",
    "        return len(self.images)\n",
    "\n",
    "    def __getitem__(self, idx):\n",
    "        return self.images[idx], self.labels[idx]"
   ]
  },
  {
   "cell_type": "code",
   "execution_count": 20,
   "id": "49cf4cfb-6de1-4f9c-be9d-f729243627af",
   "metadata": {},
   "outputs": [],
   "source": [
    "train_ds = JetTensorDataset(train_x, train_y)"
   ]
  },
  {
   "cell_type": "code",
   "execution_count": 21,
   "id": "567ba066-4080-4c92-b8ba-5ec415560c67",
   "metadata": {},
   "outputs": [],
   "source": [
    "# train_ds = TensorDataset(train_x, train_y)"
   ]
  },
  {
   "cell_type": "code",
   "execution_count": 22,
   "id": "dbf3af14-e125-4274-810c-954418cc956b",
   "metadata": {},
   "outputs": [],
   "source": [
    "train_dl = DataLoader(train_ds, bs=256, shuffle=True)"
   ]
  },
  {
   "cell_type": "code",
   "execution_count": 23,
   "id": "e88e09b0-bca8-4dfc-98f8-57888f37e007",
   "metadata": {},
   "outputs": [
    {
     "name": "stdout",
     "output_type": "stream",
     "text": [
      "CPU times: user 57.5 ms, sys: 139 µs, total: 57.7 ms\n",
      "Wall time: 56.5 ms\n"
     ]
    }
   ],
   "source": [
    "%%time\n",
    "for xb, yb in train_dl:\n",
    "    _ = 1"
   ]
  },
  {
   "cell_type": "code",
   "execution_count": 24,
   "id": "cc27d13f-672a-4c0b-aa8f-cb5814379d7e",
   "metadata": {},
   "outputs": [
    {
     "data": {
      "text/plain": [
       "10000"
      ]
     },
     "execution_count": 24,
     "metadata": {},
     "output_type": "execute_result"
    }
   ],
   "source": [
    "len(train_ds)"
   ]
  },
  {
   "cell_type": "code",
   "execution_count": 30,
   "id": "06baea72-5f3c-4c00-8cbd-e618cf119274",
   "metadata": {},
   "outputs": [
    {
     "name": "stdout",
     "output_type": "stream",
     "text": [
      "CPU times: user 31.2 ms, sys: 29 µs, total: 31.2 ms\n",
      "Wall time: 30.7 ms\n"
     ]
    }
   ],
   "source": [
    "%%time\n",
    "for i in train_ds:\n",
    "    _ = i"
   ]
  },
  {
   "cell_type": "code",
   "execution_count": 25,
   "id": "b579f8e8-9106-48e2-9ec4-bd33d74ac95a",
   "metadata": {},
   "outputs": [],
   "source": [
    "valid_ds = images_ds[\"validation\"].shuffle()\n",
    "valid_images = valid_ds[:num_samples][\"image\"]\n",
    "valid_labels = valid_ds[:num_samples][\"label\"]"
   ]
  },
  {
   "cell_type": "code",
   "execution_count": 26,
   "id": "762f59e3-52cd-451c-813a-2dfbf1a7f8fc",
   "metadata": {},
   "outputs": [],
   "source": [
    "valid_x = torch.cat([transforms.ToTensor()(img) for img in valid_images]).unsqueeze(1)\n",
    "valid_y = torch.cat([torch.tensor(l) for l in valid_labels])"
   ]
  },
  {
   "cell_type": "code",
   "execution_count": 100,
   "id": "604fe8ed-e527-48bf-9f3c-3d0d5d7aa1fe",
   "metadata": {},
   "outputs": [
    {
     "data": {
      "text/plain": [
       "tensor(0)"
      ]
     },
     "execution_count": 100,
     "metadata": {},
     "output_type": "execute_result"
    }
   ],
   "source": [
    "valid_y[0]"
   ]
  },
  {
   "cell_type": "code",
   "execution_count": 27,
   "id": "f92fcdda-dfad-408e-83a4-ab8af56bec9d",
   "metadata": {},
   "outputs": [],
   "source": [
    "# valid_ds = TensorDataset(valid_x, valid_y)\n",
    "valid_ds = JetTensorDataset(valid_x, valid_y)"
   ]
  },
  {
   "cell_type": "code",
   "execution_count": 28,
   "id": "fbd7baea-8b7c-42a5-abae-590537d70e37",
   "metadata": {},
   "outputs": [],
   "source": [
    "train_dl = DataLoader(train_ds, bs=256, shuffle=True)\n",
    "valid_dl = DataLoader(valid_ds, bs=256, shuffle=False)"
   ]
  },
  {
   "cell_type": "code",
   "execution_count": 29,
   "id": "1f83c9ad-0394-4596-a4cd-fdda280754eb",
   "metadata": {},
   "outputs": [
    {
     "data": {
      "text/plain": [
       "torch.Size([256, 1, 40, 40])"
      ]
     },
     "execution_count": 29,
     "metadata": {},
     "output_type": "execute_result"
    }
   ],
   "source": [
    "xb, yb = first(train_dl)\n",
    "xb.shape"
   ]
  },
  {
   "cell_type": "code",
   "execution_count": 30,
   "id": "2f0b02b0-5c96-4605-a5b4-1ee8dd99267b",
   "metadata": {},
   "outputs": [],
   "source": [
    "dls = DataLoaders(train_dl, valid_dl)"
   ]
  },
  {
   "cell_type": "markdown",
   "id": "76ff8fc0-0424-4a3f-b2be-5789524d7c57",
   "metadata": {},
   "source": [
    "### Vision learner"
   ]
  },
  {
   "cell_type": "code",
   "execution_count": 31,
   "id": "e2a2a54a-5042-4330-b32a-71589c9cef4d",
   "metadata": {},
   "outputs": [],
   "source": [
    "dls.to(\"cuda\");"
   ]
  },
  {
   "cell_type": "code",
   "execution_count": 32,
   "id": "86b0ff68-a2a1-4d3f-bcb6-9f1dbe5aadf7",
   "metadata": {},
   "outputs": [],
   "source": [
    "learn = vision_learner(\n",
    "    dls,\n",
    "    resnet34,\n",
    "    metrics=[accuracy],\n",
    "    n_in=1,\n",
    "    n_out=2,\n",
    "    normalize=False,\n",
    "    loss_func=F.cross_entropy,\n",
    ")"
   ]
  },
  {
   "cell_type": "code",
   "execution_count": 33,
   "id": "bc58b613-dc2c-449b-baf2-050cfacde199",
   "metadata": {},
   "outputs": [],
   "source": [
    "learn.model.to(\"cuda\");"
   ]
  },
  {
   "cell_type": "code",
   "execution_count": 34,
   "id": "8d8af820-ae63-43ce-8538-21386170816b",
   "metadata": {},
   "outputs": [
    {
     "data": {
      "text/html": [
       "\n",
       "<style>\n",
       "    /* Turns off some styling */\n",
       "    progress {\n",
       "        /* gets rid of default border in Firefox and Opera. */\n",
       "        border: none;\n",
       "        /* Needs to be in here for Safari polyfill so background images work as expected. */\n",
       "        background-size: auto;\n",
       "    }\n",
       "    .progress-bar-interrupted, .progress-bar-interrupted::-webkit-progress-bar {\n",
       "        background: #F44336;\n",
       "    }\n",
       "</style>\n"
      ],
      "text/plain": [
       "<IPython.core.display.HTML object>"
      ]
     },
     "metadata": {},
     "output_type": "display_data"
    },
    {
     "data": {
      "text/html": [],
      "text/plain": [
       "<IPython.core.display.HTML object>"
      ]
     },
     "metadata": {},
     "output_type": "display_data"
    },
    {
     "data": {
      "text/plain": [
       "SuggestedLRs(valley=0.0012022644514217973)"
      ]
     },
     "execution_count": 34,
     "metadata": {},
     "output_type": "execute_result"
    },
    {
     "data": {
      "image/png": "[encoded data removed]",
      "text/plain": [
       "<Figure size 432x288 with 1 Axes>"
      ]
     },
     "metadata": {
      "needs_background": "light"
     },
     "output_type": "display_data"
    }
   ],
   "source": [
    "learn.lr_find()"
   ]
  },
  {
   "cell_type": "code",
   "execution_count": null,
   "id": "c8a8d074-6c25-4e2e-8a5c-4d172ff4f2df",
   "metadata": {},
   "outputs": [
    {
     "data": {
      "text/html": [
       "\n",
       "<style>\n",
       "    /* Turns off some styling */\n",
       "    progress {\n",
       "        /* gets rid of default border in Firefox and Opera. */\n",
       "        border: none;\n",
       "        /* Needs to be in here for Safari polyfill so background images work as expected. */\n",
       "        background-size: auto;\n",
       "    }\n",
       "    .progress-bar-interrupted, .progress-bar-interrupted::-webkit-progress-bar {\n",
       "        background: #F44336;\n",
       "    }\n",
       "</style>\n"
      ],
      "text/plain": [
       "<IPython.core.display.HTML object>"
      ]
     },
     "metadata": {},
     "output_type": "display_data"
    },
    {
     "data": {
      "text/html": [
       "<table border=\"1\" class=\"dataframe\">\n",
       "  <thead>\n",
       "    <tr style=\"text-align: left;\">\n",
       "      <th>epoch</th>\n",
       "      <th>train_loss</th>\n",
       "      <th>valid_loss</th>\n",
       "      <th>accuracy</th>\n",
       "      <th>time</th>\n",
       "    </tr>\n",
       "  </thead>\n",
       "  <tbody>\n",
       "    <tr>\n",
       "      <td>0</td>\n",
       "      <td>0.931976</td>\n",
       "      <td>0.669548</td>\n",
       "      <td>0.673500</td>\n",
       "      <td>00:01</td>\n",
       "    </tr>\n",
       "  </tbody>\n",
       "</table>"
      ],
      "text/plain": [
       "<IPython.core.display.HTML object>"
      ]
     },
     "metadata": {},
     "output_type": "display_data"
    },
    {
     "data": {
      "text/html": [
       "\n",
       "<style>\n",
       "    /* Turns off some styling */\n",
       "    progress {\n",
       "        /* gets rid of default border in Firefox and Opera. */\n",
       "        border: none;\n",
       "        /* Needs to be in here for Safari polyfill so background images work as expected. */\n",
       "        background-size: auto;\n",
       "    }\n",
       "    .progress-bar-interrupted, .progress-bar-interrupted::-webkit-progress-bar {\n",
       "        background: #F44336;\n",
       "    }\n",
       "</style>\n"
      ],
      "text/plain": [
       "<IPython.core.display.HTML object>"
      ]
     },
     "metadata": {},
     "output_type": "display_data"
    },
    {
     "data": {
      "text/html": [
       "<table border=\"1\" class=\"dataframe\">\n",
       "  <thead>\n",
       "    <tr style=\"text-align: left;\">\n",
       "      <th>epoch</th>\n",
       "      <th>train_loss</th>\n",
       "      <th>valid_loss</th>\n",
       "      <th>accuracy</th>\n",
       "      <th>time</th>\n",
       "    </tr>\n",
       "  </thead>\n",
       "  <tbody>\n",
       "    <tr>\n",
       "      <td>0</td>\n",
       "      <td>0.586326</td>\n",
       "      <td>0.497514</td>\n",
       "      <td>0.781100</td>\n",
       "      <td>00:02</td>\n",
       "    </tr>\n",
       "    <tr>\n",
       "      <td>1</td>\n",
       "      <td>0.458937</td>\n",
       "      <td>0.431846</td>\n",
       "      <td>0.846900</td>\n",
       "      <td>00:01</td>\n",
       "    </tr>\n",
       "    <tr>\n",
       "      <td>2</td>\n",
       "      <td>0.338561</td>\n",
       "      <td>0.415701</td>\n",
       "      <td>0.849700</td>\n",
       "      <td>00:01</td>\n",
       "    </tr>\n",
       "  </tbody>\n",
       "</table>"
      ],
      "text/plain": [
       "<IPython.core.display.HTML object>"
      ]
     },
     "metadata": {},
     "output_type": "display_data"
    }
   ],
   "source": [
    "learn.fine_tune(3, 1e-3)"
   ]
  },
  {
   "cell_type": "code",
   "execution_count": 22,
   "id": "5354b10c-aa46-4561-ab9a-b9c52e3f0ce5",
   "metadata": {},
   "outputs": [],
   "source": [
    "simple_cnn = nn.Sequential(\n",
    "    conv(1, 4),\n",
    "    conv(4, 8),\n",
    "    conv(8, 16),\n",
    "    conv(16, 32),\n",
    "    conv(32, 16),\n",
    "    conv(16, 2, act=False),\n",
    "    Flatten(),\n",
    ")"
   ]
  },
  {
   "cell_type": "code",
   "execution_count": 23,
   "id": "302524dd-fd9d-4d4f-8efa-c17065541e0d",
   "metadata": {},
   "outputs": [
    {
     "data": {
      "text/plain": [
       "torch.Size([256, 2])"
      ]
     },
     "execution_count": 23,
     "metadata": {},
     "output_type": "execute_result"
    }
   ],
   "source": [
    "simple_cnn(xb).shape"
   ]
  },
  {
   "cell_type": "code",
   "execution_count": 27,
   "id": "d917de61-1ac4-443d-a17a-0b9e050429f7",
   "metadata": {},
   "outputs": [],
   "source": [
    "learn = Learner(\n",
    "    dls, simple_cnn, metrics=[accuracy, RocAucBinary()], loss_func=F.cross_entropy\n",
    ")"
   ]
  },
  {
   "cell_type": "code",
   "execution_count": 28,
   "id": "9e5b5b01-a00a-4348-a45e-768bafe4b0fb",
   "metadata": {},
   "outputs": [
    {
     "data": {
      "text/html": [
       "\n",
       "<style>\n",
       "    /* Turns off some styling */\n",
       "    progress {\n",
       "        /* gets rid of default border in Firefox and Opera. */\n",
       "        border: none;\n",
       "        /* Needs to be in here for Safari polyfill so background images work as expected. */\n",
       "        background-size: auto;\n",
       "    }\n",
       "    .progress-bar-interrupted, .progress-bar-interrupted::-webkit-progress-bar {\n",
       "        background: #F44336;\n",
       "    }\n",
       "</style>\n"
      ],
      "text/plain": [
       "<IPython.core.display.HTML object>"
      ]
     },
     "metadata": {},
     "output_type": "display_data"
    },
    {
     "data": {
      "text/html": [],
      "text/plain": [
       "<IPython.core.display.HTML object>"
      ]
     },
     "metadata": {},
     "output_type": "display_data"
    },
    {
     "data": {
      "text/plain": [
       "SuggestedLRs(valley=0.0014454397605732083)"
      ]
     },
     "execution_count": 28,
     "metadata": {},
     "output_type": "execute_result"
    },
    {
     "data": {
      "image/png": "[encoded data removed]",
      "text/plain": [
       "<Figure size 432x288 with 1 Axes>"
      ]
     },
     "metadata": {
      "needs_background": "light"
     },
     "output_type": "display_data"
    }
   ],
   "source": [
    "learn.lr_find()"
   ]
  },
  {
   "cell_type": "code",
   "execution_count": 29,
   "id": "9dba18a1-dd9e-4cae-ad5d-31ecd7d262f7",
   "metadata": {},
   "outputs": [
    {
     "data": {
      "text/html": [
       "\n",
       "<style>\n",
       "    /* Turns off some styling */\n",
       "    progress {\n",
       "        /* gets rid of default border in Firefox and Opera. */\n",
       "        border: none;\n",
       "        /* Needs to be in here for Safari polyfill so background images work as expected. */\n",
       "        background-size: auto;\n",
       "    }\n",
       "    .progress-bar-interrupted, .progress-bar-interrupted::-webkit-progress-bar {\n",
       "        background: #F44336;\n",
       "    }\n",
       "</style>\n"
      ],
      "text/plain": [
       "<IPython.core.display.HTML object>"
      ]
     },
     "metadata": {},
     "output_type": "display_data"
    },
    {
     "data": {
      "text/html": [
       "<table border=\"1\" class=\"dataframe\">\n",
       "  <thead>\n",
       "    <tr style=\"text-align: left;\">\n",
       "      <th>epoch</th>\n",
       "      <th>train_loss</th>\n",
       "      <th>valid_loss</th>\n",
       "      <th>accuracy</th>\n",
       "      <th>roc_auc_score</th>\n",
       "      <th>time</th>\n",
       "    </tr>\n",
       "  </thead>\n",
       "  <tbody>\n",
       "    <tr>\n",
       "      <td>0</td>\n",
       "      <td>0.310150</td>\n",
       "      <td>0.288318</td>\n",
       "      <td>0.879700</td>\n",
       "      <td>0.950156</td>\n",
       "      <td>00:02</td>\n",
       "    </tr>\n",
       "    <tr>\n",
       "      <td>1</td>\n",
       "      <td>0.268565</td>\n",
       "      <td>0.262153</td>\n",
       "      <td>0.889400</td>\n",
       "      <td>0.957021</td>\n",
       "      <td>00:02</td>\n",
       "    </tr>\n",
       "    <tr>\n",
       "      <td>2</td>\n",
       "      <td>0.257706</td>\n",
       "      <td>0.252610</td>\n",
       "      <td>0.895000</td>\n",
       "      <td>0.959556</td>\n",
       "      <td>00:02</td>\n",
       "    </tr>\n",
       "  </tbody>\n",
       "</table>"
      ],
      "text/plain": [
       "<IPython.core.display.HTML object>"
      ]
     },
     "metadata": {},
     "output_type": "display_data"
    }
   ],
   "source": [
    "learn.fit_one_cycle(3, 3e-3)"
   ]
  },
  {
   "cell_type": "code",
   "execution_count": 29,
   "id": "94623829-538b-46e7-a46e-23964e2e7a65",
   "metadata": {},
   "outputs": [
    {
     "data": {
      "text/html": [
       "\n",
       "<style>\n",
       "    /* Turns off some styling */\n",
       "    progress {\n",
       "        /* gets rid of default border in Firefox and Opera. */\n",
       "        border: none;\n",
       "        /* Needs to be in here for Safari polyfill so background images work as expected. */\n",
       "        background-size: auto;\n",
       "    }\n",
       "    .progress-bar-interrupted, .progress-bar-interrupted::-webkit-progress-bar {\n",
       "        background: #F44336;\n",
       "    }\n",
       "</style>\n"
      ],
      "text/plain": [
       "<IPython.core.display.HTML object>"
      ]
     },
     "metadata": {},
     "output_type": "display_data"
    },
    {
     "data": {
      "text/html": [
       "<table border=\"1\" class=\"dataframe\">\n",
       "  <thead>\n",
       "    <tr style=\"text-align: left;\">\n",
       "      <th>epoch</th>\n",
       "      <th>train_loss</th>\n",
       "      <th>valid_loss</th>\n",
       "      <th>accuracy</th>\n",
       "      <th>roc_auc_score</th>\n",
       "      <th>time</th>\n",
       "    </tr>\n",
       "  </thead>\n",
       "  <tbody>\n",
       "    <tr>\n",
       "      <td>0</td>\n",
       "      <td>0.310150</td>\n",
       "      <td>0.288318</td>\n",
       "      <td>0.879700</td>\n",
       "      <td>0.950156</td>\n",
       "      <td>00:02</td>\n",
       "    </tr>\n",
       "    <tr>\n",
       "      <td>1</td>\n",
       "      <td>0.268565</td>\n",
       "      <td>0.262153</td>\n",
       "      <td>0.889400</td>\n",
       "      <td>0.957021</td>\n",
       "      <td>00:02</td>\n",
       "    </tr>\n",
       "    <tr>\n",
       "      <td>2</td>\n",
       "      <td>0.257706</td>\n",
       "      <td>0.252610</td>\n",
       "      <td>0.895000</td>\n",
       "      <td>0.959556</td>\n",
       "      <td>00:02</td>\n",
       "    </tr>\n",
       "  </tbody>\n",
       "</table>"
      ],
      "text/plain": [
       "<IPython.core.display.HTML object>"
      ]
     },
     "metadata": {},
     "output_type": "display_data"
    }
   ],
   "source": [
    "learn.fit_one_cycle(3, 3e-3)"
   ]
  },
  {
   "cell_type": "code",
   "execution_count": 30,
   "id": "24879634-47da-4b7b-b7ea-4802c20e9f4c",
   "metadata": {},
   "outputs": [],
   "source": [
    "learn = Learner(\n",
    "    dls, simple_cnn, metrics=[accuracy, RocAucBinary()], loss_func=F.cross_entropy\n",
    ")"
   ]
  },
  {
   "cell_type": "code",
   "execution_count": 32,
   "id": "20cc0766-bc14-4849-9bc5-f4bc90c3818a",
   "metadata": {},
   "outputs": [],
   "source": [
    "learn.model.to(\"cuda\");"
   ]
  },
  {
   "cell_type": "code",
   "execution_count": 33,
   "id": "fb21845d-d4cd-40c8-8052-3209143b7496",
   "metadata": {},
   "outputs": [
    {
     "data": {
      "text/html": [
       "\n",
       "<style>\n",
       "    /* Turns off some styling */\n",
       "    progress {\n",
       "        /* gets rid of default border in Firefox and Opera. */\n",
       "        border: none;\n",
       "        /* Needs to be in here for Safari polyfill so background images work as expected. */\n",
       "        background-size: auto;\n",
       "    }\n",
       "    .progress-bar-interrupted, .progress-bar-interrupted::-webkit-progress-bar {\n",
       "        background: #F44336;\n",
       "    }\n",
       "</style>\n"
      ],
      "text/plain": [
       "<IPython.core.display.HTML object>"
      ]
     },
     "metadata": {},
     "output_type": "display_data"
    },
    {
     "data": {
      "text/html": [],
      "text/plain": [
       "<IPython.core.display.HTML object>"
      ]
     },
     "metadata": {},
     "output_type": "display_data"
    },
    {
     "data": {
      "text/plain": [
       "SuggestedLRs(valley=0.0008317637839354575)"
      ]
     },
     "execution_count": 33,
     "metadata": {},
     "output_type": "execute_result"
    },
    {
     "data": {
      "image/png": "[encoded data removed]",
      "text/plain": [
       "<Figure size 432x288 with 1 Axes>"
      ]
     },
     "metadata": {
      "needs_background": "light"
     },
     "output_type": "display_data"
    }
   ],
   "source": [
    "learn.lr_find()"
   ]
  },
  {
   "cell_type": "code",
   "execution_count": 34,
   "id": "936e3c0f-3090-40f1-ba67-2364847ef912",
   "metadata": {},
   "outputs": [
    {
     "data": {
      "text/html": [
       "\n",
       "<style>\n",
       "    /* Turns off some styling */\n",
       "    progress {\n",
       "        /* gets rid of default border in Firefox and Opera. */\n",
       "        border: none;\n",
       "        /* Needs to be in here for Safari polyfill so background images work as expected. */\n",
       "        background-size: auto;\n",
       "    }\n",
       "    .progress-bar-interrupted, .progress-bar-interrupted::-webkit-progress-bar {\n",
       "        background: #F44336;\n",
       "    }\n",
       "</style>\n"
      ],
      "text/plain": [
       "<IPython.core.display.HTML object>"
      ]
     },
     "metadata": {},
     "output_type": "display_data"
    },
    {
     "data": {
      "text/html": [
       "<table border=\"1\" class=\"dataframe\">\n",
       "  <thead>\n",
       "    <tr style=\"text-align: left;\">\n",
       "      <th>epoch</th>\n",
       "      <th>train_loss</th>\n",
       "      <th>valid_loss</th>\n",
       "      <th>accuracy</th>\n",
       "      <th>roc_auc_score</th>\n",
       "      <th>time</th>\n",
       "    </tr>\n",
       "  </thead>\n",
       "  <tbody>\n",
       "    <tr>\n",
       "      <td>0</td>\n",
       "      <td>0.262769</td>\n",
       "      <td>0.260341</td>\n",
       "      <td>0.891300</td>\n",
       "      <td>0.959669</td>\n",
       "      <td>00:02</td>\n",
       "    </tr>\n",
       "    <tr>\n",
       "      <td>1</td>\n",
       "      <td>0.257183</td>\n",
       "      <td>0.246424</td>\n",
       "      <td>0.898000</td>\n",
       "      <td>0.961613</td>\n",
       "      <td>00:01</td>\n",
       "    </tr>\n",
       "    <tr>\n",
       "      <td>2</td>\n",
       "      <td>0.245404</td>\n",
       "      <td>0.241712</td>\n",
       "      <td>0.901200</td>\n",
       "      <td>0.962873</td>\n",
       "      <td>00:01</td>\n",
       "    </tr>\n",
       "  </tbody>\n",
       "</table>"
      ],
      "text/plain": [
       "<IPython.core.display.HTML object>"
      ]
     },
     "metadata": {},
     "output_type": "display_data"
    }
   ],
   "source": [
    "learn.fit_one_cycle(3, 3e-3)"
   ]
  },
  {
   "cell_type": "code",
   "execution_count": null,
   "id": "a37ffe4a-57de-4657-ae5c-f47f45be0739",
   "metadata": {},
   "outputs": [],
   "source": []
  }
 ],
 "metadata": {
  "kernelspec": {
   "display_name": "Python 3 (ipykernel)",
   "language": "python",
   "name": "python3"
  },
  "language_info": {
   "codemirror_mode": {
    "name": "ipython",
    "version": 3
   },
   "file_extension": ".py",
   "mimetype": "text/x-python",
   "name": "python",
   "nbconvert_exporter": "python",
   "pygments_lexer": "ipython3",
   "version": "3.9.12"
  }
 },
 "nbformat": 4,
 "nbformat_minor": 5
}
