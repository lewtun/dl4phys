{
 "cells": [
  {
   "cell_type": "markdown",
   "id": "9e046cf7-e28b-4384-989c-ea8400b58982",
   "metadata": {},
   "source": [
    "# Lesson 1 - Jet tagging with neural networks"
   ]
  },
  {
   "cell_type": "markdown",
   "id": "7570366e-3bb2-4741-b300-1f93213b3262",
   "metadata": {},
   "source": [
    "> A first look at training deep neural networks to tag jets in proton-proton collisions."
   ]
  },
  {
   "cell_type": "markdown",
   "id": "603d61ac-7bed-4ee3-b966-acf6a89bae70",
   "metadata": {},
   "source": [
    "## TODO\n",
    "\n",
    "* Move `top_quark_tagging` to `dl4phys` org"
   ]
  },
  {
   "cell_type": "markdown",
   "id": "aef867e4-7f1e-4550-9d06-85cc91a5fffd",
   "metadata": {},
   "source": [
    "## Learning objectives\n",
    "\n",
    "* Understand what jet tagging is and how to frame it as a machine learning task\n",
    "* Understand the main steps needed to train and evaluate a jet tagger\n",
    "* Gain an introduction to the fastai library"
   ]
  },
  {
   "cell_type": "markdown",
   "id": "32450a59-30d3-4648-92e8-ae41459e5119",
   "metadata": {},
   "source": [
    "## References\n",
    "\n",
    "* Chapter 1 of [_Deep Learning for Coders with fastai & PyTorch_](https://github.com/fastai/fastbook) by Jeremy Howard and Sylvain Gugger.\n",
    "* [_The Machine Learning Landscape of Top Taggers_](https://arxiv.org/abs/1902.09914) by G. Kasieczka et al.\n",
    "* [_How Much Information is in a Jet?_](https://arxiv.org/abs/1704.08249) by K. Datta and A. Larkowski."
   ]
  },
  {
   "cell_type": "markdown",
   "id": "13d80ea2-6645-4b6c-90d2-5b661a262088",
   "metadata": {},
   "source": [
    "## The data"
   ]
  },
  {
   "cell_type": "markdown",
   "id": "312b2adf-e12f-4d19-8012-e00240254e8a",
   "metadata": {},
   "source": [
    "For the first few lessons, we'll be analysing the [_Top Quark Tagging_ dataset](https://zenodo.org/record/2603256), which is a famous benchmark that's used to compare the performance of jet classification algorithms. The dataset is described as follows:\n",
    "\n",
    "* 14 TeV, hadronic tops for signal, qcd diets background, Delphes ATLAS detector card with Pythia8\n",
    "* No MPI/pile-up included\n",
    "* Clustering of  particle-flow entries (produced by Delphes E-flow) into anti-kT 0.8 jets in the pT range [550,650] GeV\n",
    "* All top jets are matched to a parton-level top within ∆R = 0.8, and to all top decay partons within 0.8\n",
    "* Jets are required to have |eta| < 2\n",
    "* The leading 200 jet constituent four-momenta are stored, with zero-padding for jets with fewer than 200\n",
    "* Constituents are sorted by pT, with the highest pT one first\n",
    "* A flag (1 for top, 0 for QCD) is kept for each jet. It is called is_signal_new\n",
    "\n",
    "Framed as a supervised machine learning task, the goal is to train a model that can classify each jet as either a top quark signal or quark-gluon background."
   ]
  },
  {
   "cell_type": "markdown",
   "id": "0a57d2da-ec9c-4e96-abf3-13a497981ef6",
   "metadata": {},
   "source": [
    "<img src=\"images/jet-tagging.png\" alt=\"fishy\" class=\"bg-primary mb-1\" width=\"600px\">"
   ]
  },
  {
   "cell_type": "markdown",
   "id": "c8db4ada-8e8c-4c24-9b14-59db681a408c",
   "metadata": {},
   "source": [
    "## Import libraries"
   ]
  },
  {
   "cell_type": "code",
   "execution_count": 19,
   "id": "872d0a1a-7a3b-4500-a8cf-f5a36216af97",
   "metadata": {},
   "outputs": [],
   "source": [
    "import torch.nn.functional as F\n",
    "from datasets import load_dataset\n",
    "from fastai.tabular.all import *\n",
    "from scipy.interpolate import interp1d\n",
    "from sklearn.metrics import accuracy_score, auc, roc_auc_score, roc_curve\n",
    "from sklearn.model_selection import train_test_split"
   ]
  },
  {
   "cell_type": "code",
   "execution_count": 2,
   "id": "54801fba-818e-488a-bc03-321519c5ef0e",
   "metadata": {
    "tags": [
     "hide-cell"
    ]
   },
   "outputs": [],
   "source": [
    "import datasets\n",
    "\n",
    "# Suppress logs\n",
    "datasets.logging.set_verbosity_error()"
   ]
  },
  {
   "cell_type": "markdown",
   "id": "61eea3a0-aa61-4296-b1c1-96271e768c34",
   "metadata": {},
   "source": [
    "## Getting the data"
   ]
  },
  {
   "cell_type": "markdown",
   "id": "e81bfbfb-16cb-46b8-97ef-53ee7ed890c6",
   "metadata": {},
   "source": [
    "We will use the [🤗 Datasets](https://github.com/huggingface/datasets) library to download and process the datasets that we'll encounter in this course. 🤗 Datasets provides smart caching and allows you to process larger-than-RAM datasets by exploiting a technique called _memory-mapping_ that provides a mapping between RAM and filesystem storage.\n",
    "\n",
    "To download the Top Quark Tagging dataset from the Hugging Face Hub, we can use the `load_dataset()` function:"
   ]
  },
  {
   "cell_type": "code",
   "execution_count": 3,
   "id": "f0848f0c-5f7b-403f-ba8e-4b7cac30ffdd",
   "metadata": {
    "tags": [
     "hide-output"
    ]
   },
   "outputs": [
    {
     "name": "stderr",
     "output_type": "stream",
     "text": [
      "Using custom data configuration dl4phys--top_landscape-961457c8730ac19c\n"
     ]
    },
    {
     "name": "stdout",
     "output_type": "stream",
     "text": [
      "Downloading and preparing dataset parquet/dl4phys--top_landscape to /home/lewis/.cache/huggingface/datasets/parquet/dl4phys--top_landscape-961457c8730ac19c/0.0.0/0b6d5799bb726b24ad7fc7be720c170d8e497f575d02d47537de9a5bac074901...\n"
     ]
    },
    {
     "data": {
      "application/vnd.jupyter.widget-view+json": {
       "model_id": "69ba1825f3784c71b74c44fc291a9acb",
       "version_major": 2,
       "version_minor": 0
      },
      "text/plain": [
       "Downloading data files:   0%|          | 0/3 [00:00<?, ?it/s]"
      ]
     },
     "metadata": {},
     "output_type": "display_data"
    },
    {
     "data": {
      "application/vnd.jupyter.widget-view+json": {
       "model_id": "f5a44d19426e4d0493217f73bba6d718",
       "version_major": 2,
       "version_minor": 0
      },
      "text/plain": [
       "Downloading data:   0%|          | 0.00/1.28G [00:00<?, ?B/s]"
      ]
     },
     "metadata": {},
     "output_type": "display_data"
    },
    {
     "data": {
      "application/vnd.jupyter.widget-view+json": {
       "model_id": "1d8090cd9a2e4a1ab3545639b153ac8b",
       "version_major": 2,
       "version_minor": 0
      },
      "text/plain": [
       "Downloading data:   0%|          | 0.00/509M [00:00<?, ?B/s]"
      ]
     },
     "metadata": {},
     "output_type": "display_data"
    },
    {
     "data": {
      "application/vnd.jupyter.widget-view+json": {
       "model_id": "37f762de6e1c4285a492fbaee67b4916",
       "version_major": 2,
       "version_minor": 0
      },
      "text/plain": [
       "Downloading data:   0%|          | 0.00/508M [00:00<?, ?B/s]"
      ]
     },
     "metadata": {},
     "output_type": "display_data"
    },
    {
     "data": {
      "application/vnd.jupyter.widget-view+json": {
       "model_id": "da39149a502a49368717f694d945a6f6",
       "version_major": 2,
       "version_minor": 0
      },
      "text/plain": [
       "Extracting data files:   0%|          | 0/3 [00:00<?, ?it/s]"
      ]
     },
     "metadata": {},
     "output_type": "display_data"
    },
    {
     "name": "stdout",
     "output_type": "stream",
     "text": [
      "Dataset parquet downloaded and prepared to /home/lewis/.cache/huggingface/datasets/parquet/dl4phys--top_landscape-961457c8730ac19c/0.0.0/0b6d5799bb726b24ad7fc7be720c170d8e497f575d02d47537de9a5bac074901. Subsequent calls will reuse this data.\n"
     ]
    },
    {
     "data": {
      "application/vnd.jupyter.widget-view+json": {
       "model_id": "925817ebb74f4330a3398e3ec34ddc47",
       "version_major": 2,
       "version_minor": 0
      },
      "text/plain": [
       "  0%|          | 0/3 [00:00<?, ?it/s]"
      ]
     },
     "metadata": {},
     "output_type": "display_data"
    },
    {
     "data": {
      "text/plain": [
       "DatasetDict({\n",
       "    train: Dataset({\n",
       "        features: ['E_0', 'PX_0', 'PY_0', 'PZ_0', 'E_1', 'PX_1', 'PY_1', 'PZ_1', 'E_2', 'PX_2', 'PY_2', 'PZ_2', 'E_3', 'PX_3', 'PY_3', 'PZ_3', 'E_4', 'PX_4', 'PY_4', 'PZ_4', 'E_5', 'PX_5', 'PY_5', 'PZ_5', 'E_6', 'PX_6', 'PY_6', 'PZ_6', 'E_7', 'PX_7', 'PY_7', 'PZ_7', 'E_8', 'PX_8', 'PY_8', 'PZ_8', 'E_9', 'PX_9', 'PY_9', 'PZ_9', 'E_10', 'PX_10', 'PY_10', 'PZ_10', 'E_11', 'PX_11', 'PY_11', 'PZ_11', 'E_12', 'PX_12', 'PY_12', 'PZ_12', 'E_13', 'PX_13', 'PY_13', 'PZ_13', 'E_14', 'PX_14', 'PY_14', 'PZ_14', 'E_15', 'PX_15', 'PY_15', 'PZ_15', 'E_16', 'PX_16', 'PY_16', 'PZ_16', 'E_17', 'PX_17', 'PY_17', 'PZ_17', 'E_18', 'PX_18', 'PY_18', 'PZ_18', 'E_19', 'PX_19', 'PY_19', 'PZ_19', 'E_20', 'PX_20', 'PY_20', 'PZ_20', 'E_21', 'PX_21', 'PY_21', 'PZ_21', 'E_22', 'PX_22', 'PY_22', 'PZ_22', 'E_23', 'PX_23', 'PY_23', 'PZ_23', 'E_24', 'PX_24', 'PY_24', 'PZ_24', 'E_25', 'PX_25', 'PY_25', 'PZ_25', 'E_26', 'PX_26', 'PY_26', 'PZ_26', 'E_27', 'PX_27', 'PY_27', 'PZ_27', 'E_28', 'PX_28', 'PY_28', 'PZ_28', 'E_29', 'PX_29', 'PY_29', 'PZ_29', 'E_30', 'PX_30', 'PY_30', 'PZ_30', 'E_31', 'PX_31', 'PY_31', 'PZ_31', 'E_32', 'PX_32', 'PY_32', 'PZ_32', 'E_33', 'PX_33', 'PY_33', 'PZ_33', 'E_34', 'PX_34', 'PY_34', 'PZ_34', 'E_35', 'PX_35', 'PY_35', 'PZ_35', 'E_36', 'PX_36', 'PY_36', 'PZ_36', 'E_37', 'PX_37', 'PY_37', 'PZ_37', 'E_38', 'PX_38', 'PY_38', 'PZ_38', 'E_39', 'PX_39', 'PY_39', 'PZ_39', 'E_40', 'PX_40', 'PY_40', 'PZ_40', 'E_41', 'PX_41', 'PY_41', 'PZ_41', 'E_42', 'PX_42', 'PY_42', 'PZ_42', 'E_43', 'PX_43', 'PY_43', 'PZ_43', 'E_44', 'PX_44', 'PY_44', 'PZ_44', 'E_45', 'PX_45', 'PY_45', 'PZ_45', 'E_46', 'PX_46', 'PY_46', 'PZ_46', 'E_47', 'PX_47', 'PY_47', 'PZ_47', 'E_48', 'PX_48', 'PY_48', 'PZ_48', 'E_49', 'PX_49', 'PY_49', 'PZ_49', 'E_50', 'PX_50', 'PY_50', 'PZ_50', 'E_51', 'PX_51', 'PY_51', 'PZ_51', 'E_52', 'PX_52', 'PY_52', 'PZ_52', 'E_53', 'PX_53', 'PY_53', 'PZ_53', 'E_54', 'PX_54', 'PY_54', 'PZ_54', 'E_55', 'PX_55', 'PY_55', 'PZ_55', 'E_56', 'PX_56', 'PY_56', 'PZ_56', 'E_57', 'PX_57', 'PY_57', 'PZ_57', 'E_58', 'PX_58', 'PY_58', 'PZ_58', 'E_59', 'PX_59', 'PY_59', 'PZ_59', 'E_60', 'PX_60', 'PY_60', 'PZ_60', 'E_61', 'PX_61', 'PY_61', 'PZ_61', 'E_62', 'PX_62', 'PY_62', 'PZ_62', 'E_63', 'PX_63', 'PY_63', 'PZ_63', 'E_64', 'PX_64', 'PY_64', 'PZ_64', 'E_65', 'PX_65', 'PY_65', 'PZ_65', 'E_66', 'PX_66', 'PY_66', 'PZ_66', 'E_67', 'PX_67', 'PY_67', 'PZ_67', 'E_68', 'PX_68', 'PY_68', 'PZ_68', 'E_69', 'PX_69', 'PY_69', 'PZ_69', 'E_70', 'PX_70', 'PY_70', 'PZ_70', 'E_71', 'PX_71', 'PY_71', 'PZ_71', 'E_72', 'PX_72', 'PY_72', 'PZ_72', 'E_73', 'PX_73', 'PY_73', 'PZ_73', 'E_74', 'PX_74', 'PY_74', 'PZ_74', 'E_75', 'PX_75', 'PY_75', 'PZ_75', 'E_76', 'PX_76', 'PY_76', 'PZ_76', 'E_77', 'PX_77', 'PY_77', 'PZ_77', 'E_78', 'PX_78', 'PY_78', 'PZ_78', 'E_79', 'PX_79', 'PY_79', 'PZ_79', 'E_80', 'PX_80', 'PY_80', 'PZ_80', 'E_81', 'PX_81', 'PY_81', 'PZ_81', 'E_82', 'PX_82', 'PY_82', 'PZ_82', 'E_83', 'PX_83', 'PY_83', 'PZ_83', 'E_84', 'PX_84', 'PY_84', 'PZ_84', 'E_85', 'PX_85', 'PY_85', 'PZ_85', 'E_86', 'PX_86', 'PY_86', 'PZ_86', 'E_87', 'PX_87', 'PY_87', 'PZ_87', 'E_88', 'PX_88', 'PY_88', 'PZ_88', 'E_89', 'PX_89', 'PY_89', 'PZ_89', 'E_90', 'PX_90', 'PY_90', 'PZ_90', 'E_91', 'PX_91', 'PY_91', 'PZ_91', 'E_92', 'PX_92', 'PY_92', 'PZ_92', 'E_93', 'PX_93', 'PY_93', 'PZ_93', 'E_94', 'PX_94', 'PY_94', 'PZ_94', 'E_95', 'PX_95', 'PY_95', 'PZ_95', 'E_96', 'PX_96', 'PY_96', 'PZ_96', 'E_97', 'PX_97', 'PY_97', 'PZ_97', 'E_98', 'PX_98', 'PY_98', 'PZ_98', 'E_99', 'PX_99', 'PY_99', 'PZ_99', 'E_100', 'PX_100', 'PY_100', 'PZ_100', 'E_101', 'PX_101', 'PY_101', 'PZ_101', 'E_102', 'PX_102', 'PY_102', 'PZ_102', 'E_103', 'PX_103', 'PY_103', 'PZ_103', 'E_104', 'PX_104', 'PY_104', 'PZ_104', 'E_105', 'PX_105', 'PY_105', 'PZ_105', 'E_106', 'PX_106', 'PY_106', 'PZ_106', 'E_107', 'PX_107', 'PY_107', 'PZ_107', 'E_108', 'PX_108', 'PY_108', 'PZ_108', 'E_109', 'PX_109', 'PY_109', 'PZ_109', 'E_110', 'PX_110', 'PY_110', 'PZ_110', 'E_111', 'PX_111', 'PY_111', 'PZ_111', 'E_112', 'PX_112', 'PY_112', 'PZ_112', 'E_113', 'PX_113', 'PY_113', 'PZ_113', 'E_114', 'PX_114', 'PY_114', 'PZ_114', 'E_115', 'PX_115', 'PY_115', 'PZ_115', 'E_116', 'PX_116', 'PY_116', 'PZ_116', 'E_117', 'PX_117', 'PY_117', 'PZ_117', 'E_118', 'PX_118', 'PY_118', 'PZ_118', 'E_119', 'PX_119', 'PY_119', 'PZ_119', 'E_120', 'PX_120', 'PY_120', 'PZ_120', 'E_121', 'PX_121', 'PY_121', 'PZ_121', 'E_122', 'PX_122', 'PY_122', 'PZ_122', 'E_123', 'PX_123', 'PY_123', 'PZ_123', 'E_124', 'PX_124', 'PY_124', 'PZ_124', 'E_125', 'PX_125', 'PY_125', 'PZ_125', 'E_126', 'PX_126', 'PY_126', 'PZ_126', 'E_127', 'PX_127', 'PY_127', 'PZ_127', 'E_128', 'PX_128', 'PY_128', 'PZ_128', 'E_129', 'PX_129', 'PY_129', 'PZ_129', 'E_130', 'PX_130', 'PY_130', 'PZ_130', 'E_131', 'PX_131', 'PY_131', 'PZ_131', 'E_132', 'PX_132', 'PY_132', 'PZ_132', 'E_133', 'PX_133', 'PY_133', 'PZ_133', 'E_134', 'PX_134', 'PY_134', 'PZ_134', 'E_135', 'PX_135', 'PY_135', 'PZ_135', 'E_136', 'PX_136', 'PY_136', 'PZ_136', 'E_137', 'PX_137', 'PY_137', 'PZ_137', 'E_138', 'PX_138', 'PY_138', 'PZ_138', 'E_139', 'PX_139', 'PY_139', 'PZ_139', 'E_140', 'PX_140', 'PY_140', 'PZ_140', 'E_141', 'PX_141', 'PY_141', 'PZ_141', 'E_142', 'PX_142', 'PY_142', 'PZ_142', 'E_143', 'PX_143', 'PY_143', 'PZ_143', 'E_144', 'PX_144', 'PY_144', 'PZ_144', 'E_145', 'PX_145', 'PY_145', 'PZ_145', 'E_146', 'PX_146', 'PY_146', 'PZ_146', 'E_147', 'PX_147', 'PY_147', 'PZ_147', 'E_148', 'PX_148', 'PY_148', 'PZ_148', 'E_149', 'PX_149', 'PY_149', 'PZ_149', 'E_150', 'PX_150', 'PY_150', 'PZ_150', 'E_151', 'PX_151', 'PY_151', 'PZ_151', 'E_152', 'PX_152', 'PY_152', 'PZ_152', 'E_153', 'PX_153', 'PY_153', 'PZ_153', 'E_154', 'PX_154', 'PY_154', 'PZ_154', 'E_155', 'PX_155', 'PY_155', 'PZ_155', 'E_156', 'PX_156', 'PY_156', 'PZ_156', 'E_157', 'PX_157', 'PY_157', 'PZ_157', 'E_158', 'PX_158', 'PY_158', 'PZ_158', 'E_159', 'PX_159', 'PY_159', 'PZ_159', 'E_160', 'PX_160', 'PY_160', 'PZ_160', 'E_161', 'PX_161', 'PY_161', 'PZ_161', 'E_162', 'PX_162', 'PY_162', 'PZ_162', 'E_163', 'PX_163', 'PY_163', 'PZ_163', 'E_164', 'PX_164', 'PY_164', 'PZ_164', 'E_165', 'PX_165', 'PY_165', 'PZ_165', 'E_166', 'PX_166', 'PY_166', 'PZ_166', 'E_167', 'PX_167', 'PY_167', 'PZ_167', 'E_168', 'PX_168', 'PY_168', 'PZ_168', 'E_169', 'PX_169', 'PY_169', 'PZ_169', 'E_170', 'PX_170', 'PY_170', 'PZ_170', 'E_171', 'PX_171', 'PY_171', 'PZ_171', 'E_172', 'PX_172', 'PY_172', 'PZ_172', 'E_173', 'PX_173', 'PY_173', 'PZ_173', 'E_174', 'PX_174', 'PY_174', 'PZ_174', 'E_175', 'PX_175', 'PY_175', 'PZ_175', 'E_176', 'PX_176', 'PY_176', 'PZ_176', 'E_177', 'PX_177', 'PY_177', 'PZ_177', 'E_178', 'PX_178', 'PY_178', 'PZ_178', 'E_179', 'PX_179', 'PY_179', 'PZ_179', 'E_180', 'PX_180', 'PY_180', 'PZ_180', 'E_181', 'PX_181', 'PY_181', 'PZ_181', 'E_182', 'PX_182', 'PY_182', 'PZ_182', 'E_183', 'PX_183', 'PY_183', 'PZ_183', 'E_184', 'PX_184', 'PY_184', 'PZ_184', 'E_185', 'PX_185', 'PY_185', 'PZ_185', 'E_186', 'PX_186', 'PY_186', 'PZ_186', 'E_187', 'PX_187', 'PY_187', 'PZ_187', 'E_188', 'PX_188', 'PY_188', 'PZ_188', 'E_189', 'PX_189', 'PY_189', 'PZ_189', 'E_190', 'PX_190', 'PY_190', 'PZ_190', 'E_191', 'PX_191', 'PY_191', 'PZ_191', 'E_192', 'PX_192', 'PY_192', 'PZ_192', 'E_193', 'PX_193', 'PY_193', 'PZ_193', 'E_194', 'PX_194', 'PY_194', 'PZ_194', 'E_195', 'PX_195', 'PY_195', 'PZ_195', 'E_196', 'PX_196', 'PY_196', 'PZ_196', 'E_197', 'PX_197', 'PY_197', 'PZ_197', 'E_198', 'PX_198', 'PY_198', 'PZ_198', 'E_199', 'PX_199', 'PY_199', 'PZ_199', 'truthE', 'truthPX', 'truthPY', 'truthPZ', 'ttv', 'is_signal_new'],\n",
       "        num_rows: 1211000\n",
       "    })\n",
       "    test: Dataset({\n",
       "        features: ['E_0', 'PX_0', 'PY_0', 'PZ_0', 'E_1', 'PX_1', 'PY_1', 'PZ_1', 'E_2', 'PX_2', 'PY_2', 'PZ_2', 'E_3', 'PX_3', 'PY_3', 'PZ_3', 'E_4', 'PX_4', 'PY_4', 'PZ_4', 'E_5', 'PX_5', 'PY_5', 'PZ_5', 'E_6', 'PX_6', 'PY_6', 'PZ_6', 'E_7', 'PX_7', 'PY_7', 'PZ_7', 'E_8', 'PX_8', 'PY_8', 'PZ_8', 'E_9', 'PX_9', 'PY_9', 'PZ_9', 'E_10', 'PX_10', 'PY_10', 'PZ_10', 'E_11', 'PX_11', 'PY_11', 'PZ_11', 'E_12', 'PX_12', 'PY_12', 'PZ_12', 'E_13', 'PX_13', 'PY_13', 'PZ_13', 'E_14', 'PX_14', 'PY_14', 'PZ_14', 'E_15', 'PX_15', 'PY_15', 'PZ_15', 'E_16', 'PX_16', 'PY_16', 'PZ_16', 'E_17', 'PX_17', 'PY_17', 'PZ_17', 'E_18', 'PX_18', 'PY_18', 'PZ_18', 'E_19', 'PX_19', 'PY_19', 'PZ_19', 'E_20', 'PX_20', 'PY_20', 'PZ_20', 'E_21', 'PX_21', 'PY_21', 'PZ_21', 'E_22', 'PX_22', 'PY_22', 'PZ_22', 'E_23', 'PX_23', 'PY_23', 'PZ_23', 'E_24', 'PX_24', 'PY_24', 'PZ_24', 'E_25', 'PX_25', 'PY_25', 'PZ_25', 'E_26', 'PX_26', 'PY_26', 'PZ_26', 'E_27', 'PX_27', 'PY_27', 'PZ_27', 'E_28', 'PX_28', 'PY_28', 'PZ_28', 'E_29', 'PX_29', 'PY_29', 'PZ_29', 'E_30', 'PX_30', 'PY_30', 'PZ_30', 'E_31', 'PX_31', 'PY_31', 'PZ_31', 'E_32', 'PX_32', 'PY_32', 'PZ_32', 'E_33', 'PX_33', 'PY_33', 'PZ_33', 'E_34', 'PX_34', 'PY_34', 'PZ_34', 'E_35', 'PX_35', 'PY_35', 'PZ_35', 'E_36', 'PX_36', 'PY_36', 'PZ_36', 'E_37', 'PX_37', 'PY_37', 'PZ_37', 'E_38', 'PX_38', 'PY_38', 'PZ_38', 'E_39', 'PX_39', 'PY_39', 'PZ_39', 'E_40', 'PX_40', 'PY_40', 'PZ_40', 'E_41', 'PX_41', 'PY_41', 'PZ_41', 'E_42', 'PX_42', 'PY_42', 'PZ_42', 'E_43', 'PX_43', 'PY_43', 'PZ_43', 'E_44', 'PX_44', 'PY_44', 'PZ_44', 'E_45', 'PX_45', 'PY_45', 'PZ_45', 'E_46', 'PX_46', 'PY_46', 'PZ_46', 'E_47', 'PX_47', 'PY_47', 'PZ_47', 'E_48', 'PX_48', 'PY_48', 'PZ_48', 'E_49', 'PX_49', 'PY_49', 'PZ_49', 'E_50', 'PX_50', 'PY_50', 'PZ_50', 'E_51', 'PX_51', 'PY_51', 'PZ_51', 'E_52', 'PX_52', 'PY_52', 'PZ_52', 'E_53', 'PX_53', 'PY_53', 'PZ_53', 'E_54', 'PX_54', 'PY_54', 'PZ_54', 'E_55', 'PX_55', 'PY_55', 'PZ_55', 'E_56', 'PX_56', 'PY_56', 'PZ_56', 'E_57', 'PX_57', 'PY_57', 'PZ_57', 'E_58', 'PX_58', 'PY_58', 'PZ_58', 'E_59', 'PX_59', 'PY_59', 'PZ_59', 'E_60', 'PX_60', 'PY_60', 'PZ_60', 'E_61', 'PX_61', 'PY_61', 'PZ_61', 'E_62', 'PX_62', 'PY_62', 'PZ_62', 'E_63', 'PX_63', 'PY_63', 'PZ_63', 'E_64', 'PX_64', 'PY_64', 'PZ_64', 'E_65', 'PX_65', 'PY_65', 'PZ_65', 'E_66', 'PX_66', 'PY_66', 'PZ_66', 'E_67', 'PX_67', 'PY_67', 'PZ_67', 'E_68', 'PX_68', 'PY_68', 'PZ_68', 'E_69', 'PX_69', 'PY_69', 'PZ_69', 'E_70', 'PX_70', 'PY_70', 'PZ_70', 'E_71', 'PX_71', 'PY_71', 'PZ_71', 'E_72', 'PX_72', 'PY_72', 'PZ_72', 'E_73', 'PX_73', 'PY_73', 'PZ_73', 'E_74', 'PX_74', 'PY_74', 'PZ_74', 'E_75', 'PX_75', 'PY_75', 'PZ_75', 'E_76', 'PX_76', 'PY_76', 'PZ_76', 'E_77', 'PX_77', 'PY_77', 'PZ_77', 'E_78', 'PX_78', 'PY_78', 'PZ_78', 'E_79', 'PX_79', 'PY_79', 'PZ_79', 'E_80', 'PX_80', 'PY_80', 'PZ_80', 'E_81', 'PX_81', 'PY_81', 'PZ_81', 'E_82', 'PX_82', 'PY_82', 'PZ_82', 'E_83', 'PX_83', 'PY_83', 'PZ_83', 'E_84', 'PX_84', 'PY_84', 'PZ_84', 'E_85', 'PX_85', 'PY_85', 'PZ_85', 'E_86', 'PX_86', 'PY_86', 'PZ_86', 'E_87', 'PX_87', 'PY_87', 'PZ_87', 'E_88', 'PX_88', 'PY_88', 'PZ_88', 'E_89', 'PX_89', 'PY_89', 'PZ_89', 'E_90', 'PX_90', 'PY_90', 'PZ_90', 'E_91', 'PX_91', 'PY_91', 'PZ_91', 'E_92', 'PX_92', 'PY_92', 'PZ_92', 'E_93', 'PX_93', 'PY_93', 'PZ_93', 'E_94', 'PX_94', 'PY_94', 'PZ_94', 'E_95', 'PX_95', 'PY_95', 'PZ_95', 'E_96', 'PX_96', 'PY_96', 'PZ_96', 'E_97', 'PX_97', 'PY_97', 'PZ_97', 'E_98', 'PX_98', 'PY_98', 'PZ_98', 'E_99', 'PX_99', 'PY_99', 'PZ_99', 'E_100', 'PX_100', 'PY_100', 'PZ_100', 'E_101', 'PX_101', 'PY_101', 'PZ_101', 'E_102', 'PX_102', 'PY_102', 'PZ_102', 'E_103', 'PX_103', 'PY_103', 'PZ_103', 'E_104', 'PX_104', 'PY_104', 'PZ_104', 'E_105', 'PX_105', 'PY_105', 'PZ_105', 'E_106', 'PX_106', 'PY_106', 'PZ_106', 'E_107', 'PX_107', 'PY_107', 'PZ_107', 'E_108', 'PX_108', 'PY_108', 'PZ_108', 'E_109', 'PX_109', 'PY_109', 'PZ_109', 'E_110', 'PX_110', 'PY_110', 'PZ_110', 'E_111', 'PX_111', 'PY_111', 'PZ_111', 'E_112', 'PX_112', 'PY_112', 'PZ_112', 'E_113', 'PX_113', 'PY_113', 'PZ_113', 'E_114', 'PX_114', 'PY_114', 'PZ_114', 'E_115', 'PX_115', 'PY_115', 'PZ_115', 'E_116', 'PX_116', 'PY_116', 'PZ_116', 'E_117', 'PX_117', 'PY_117', 'PZ_117', 'E_118', 'PX_118', 'PY_118', 'PZ_118', 'E_119', 'PX_119', 'PY_119', 'PZ_119', 'E_120', 'PX_120', 'PY_120', 'PZ_120', 'E_121', 'PX_121', 'PY_121', 'PZ_121', 'E_122', 'PX_122', 'PY_122', 'PZ_122', 'E_123', 'PX_123', 'PY_123', 'PZ_123', 'E_124', 'PX_124', 'PY_124', 'PZ_124', 'E_125', 'PX_125', 'PY_125', 'PZ_125', 'E_126', 'PX_126', 'PY_126', 'PZ_126', 'E_127', 'PX_127', 'PY_127', 'PZ_127', 'E_128', 'PX_128', 'PY_128', 'PZ_128', 'E_129', 'PX_129', 'PY_129', 'PZ_129', 'E_130', 'PX_130', 'PY_130', 'PZ_130', 'E_131', 'PX_131', 'PY_131', 'PZ_131', 'E_132', 'PX_132', 'PY_132', 'PZ_132', 'E_133', 'PX_133', 'PY_133', 'PZ_133', 'E_134', 'PX_134', 'PY_134', 'PZ_134', 'E_135', 'PX_135', 'PY_135', 'PZ_135', 'E_136', 'PX_136', 'PY_136', 'PZ_136', 'E_137', 'PX_137', 'PY_137', 'PZ_137', 'E_138', 'PX_138', 'PY_138', 'PZ_138', 'E_139', 'PX_139', 'PY_139', 'PZ_139', 'E_140', 'PX_140', 'PY_140', 'PZ_140', 'E_141', 'PX_141', 'PY_141', 'PZ_141', 'E_142', 'PX_142', 'PY_142', 'PZ_142', 'E_143', 'PX_143', 'PY_143', 'PZ_143', 'E_144', 'PX_144', 'PY_144', 'PZ_144', 'E_145', 'PX_145', 'PY_145', 'PZ_145', 'E_146', 'PX_146', 'PY_146', 'PZ_146', 'E_147', 'PX_147', 'PY_147', 'PZ_147', 'E_148', 'PX_148', 'PY_148', 'PZ_148', 'E_149', 'PX_149', 'PY_149', 'PZ_149', 'E_150', 'PX_150', 'PY_150', 'PZ_150', 'E_151', 'PX_151', 'PY_151', 'PZ_151', 'E_152', 'PX_152', 'PY_152', 'PZ_152', 'E_153', 'PX_153', 'PY_153', 'PZ_153', 'E_154', 'PX_154', 'PY_154', 'PZ_154', 'E_155', 'PX_155', 'PY_155', 'PZ_155', 'E_156', 'PX_156', 'PY_156', 'PZ_156', 'E_157', 'PX_157', 'PY_157', 'PZ_157', 'E_158', 'PX_158', 'PY_158', 'PZ_158', 'E_159', 'PX_159', 'PY_159', 'PZ_159', 'E_160', 'PX_160', 'PY_160', 'PZ_160', 'E_161', 'PX_161', 'PY_161', 'PZ_161', 'E_162', 'PX_162', 'PY_162', 'PZ_162', 'E_163', 'PX_163', 'PY_163', 'PZ_163', 'E_164', 'PX_164', 'PY_164', 'PZ_164', 'E_165', 'PX_165', 'PY_165', 'PZ_165', 'E_166', 'PX_166', 'PY_166', 'PZ_166', 'E_167', 'PX_167', 'PY_167', 'PZ_167', 'E_168', 'PX_168', 'PY_168', 'PZ_168', 'E_169', 'PX_169', 'PY_169', 'PZ_169', 'E_170', 'PX_170', 'PY_170', 'PZ_170', 'E_171', 'PX_171', 'PY_171', 'PZ_171', 'E_172', 'PX_172', 'PY_172', 'PZ_172', 'E_173', 'PX_173', 'PY_173', 'PZ_173', 'E_174', 'PX_174', 'PY_174', 'PZ_174', 'E_175', 'PX_175', 'PY_175', 'PZ_175', 'E_176', 'PX_176', 'PY_176', 'PZ_176', 'E_177', 'PX_177', 'PY_177', 'PZ_177', 'E_178', 'PX_178', 'PY_178', 'PZ_178', 'E_179', 'PX_179', 'PY_179', 'PZ_179', 'E_180', 'PX_180', 'PY_180', 'PZ_180', 'E_181', 'PX_181', 'PY_181', 'PZ_181', 'E_182', 'PX_182', 'PY_182', 'PZ_182', 'E_183', 'PX_183', 'PY_183', 'PZ_183', 'E_184', 'PX_184', 'PY_184', 'PZ_184', 'E_185', 'PX_185', 'PY_185', 'PZ_185', 'E_186', 'PX_186', 'PY_186', 'PZ_186', 'E_187', 'PX_187', 'PY_187', 'PZ_187', 'E_188', 'PX_188', 'PY_188', 'PZ_188', 'E_189', 'PX_189', 'PY_189', 'PZ_189', 'E_190', 'PX_190', 'PY_190', 'PZ_190', 'E_191', 'PX_191', 'PY_191', 'PZ_191', 'E_192', 'PX_192', 'PY_192', 'PZ_192', 'E_193', 'PX_193', 'PY_193', 'PZ_193', 'E_194', 'PX_194', 'PY_194', 'PZ_194', 'E_195', 'PX_195', 'PY_195', 'PZ_195', 'E_196', 'PX_196', 'PY_196', 'PZ_196', 'E_197', 'PX_197', 'PY_197', 'PZ_197', 'E_198', 'PX_198', 'PY_198', 'PZ_198', 'E_199', 'PX_199', 'PY_199', 'PZ_199', 'truthE', 'truthPX', 'truthPY', 'truthPZ', 'ttv', 'is_signal_new'],\n",
       "        num_rows: 404000\n",
       "    })\n",
       "    validation: Dataset({\n",
       "        features: ['E_0', 'PX_0', 'PY_0', 'PZ_0', 'E_1', 'PX_1', 'PY_1', 'PZ_1', 'E_2', 'PX_2', 'PY_2', 'PZ_2', 'E_3', 'PX_3', 'PY_3', 'PZ_3', 'E_4', 'PX_4', 'PY_4', 'PZ_4', 'E_5', 'PX_5', 'PY_5', 'PZ_5', 'E_6', 'PX_6', 'PY_6', 'PZ_6', 'E_7', 'PX_7', 'PY_7', 'PZ_7', 'E_8', 'PX_8', 'PY_8', 'PZ_8', 'E_9', 'PX_9', 'PY_9', 'PZ_9', 'E_10', 'PX_10', 'PY_10', 'PZ_10', 'E_11', 'PX_11', 'PY_11', 'PZ_11', 'E_12', 'PX_12', 'PY_12', 'PZ_12', 'E_13', 'PX_13', 'PY_13', 'PZ_13', 'E_14', 'PX_14', 'PY_14', 'PZ_14', 'E_15', 'PX_15', 'PY_15', 'PZ_15', 'E_16', 'PX_16', 'PY_16', 'PZ_16', 'E_17', 'PX_17', 'PY_17', 'PZ_17', 'E_18', 'PX_18', 'PY_18', 'PZ_18', 'E_19', 'PX_19', 'PY_19', 'PZ_19', 'E_20', 'PX_20', 'PY_20', 'PZ_20', 'E_21', 'PX_21', 'PY_21', 'PZ_21', 'E_22', 'PX_22', 'PY_22', 'PZ_22', 'E_23', 'PX_23', 'PY_23', 'PZ_23', 'E_24', 'PX_24', 'PY_24', 'PZ_24', 'E_25', 'PX_25', 'PY_25', 'PZ_25', 'E_26', 'PX_26', 'PY_26', 'PZ_26', 'E_27', 'PX_27', 'PY_27', 'PZ_27', 'E_28', 'PX_28', 'PY_28', 'PZ_28', 'E_29', 'PX_29', 'PY_29', 'PZ_29', 'E_30', 'PX_30', 'PY_30', 'PZ_30', 'E_31', 'PX_31', 'PY_31', 'PZ_31', 'E_32', 'PX_32', 'PY_32', 'PZ_32', 'E_33', 'PX_33', 'PY_33', 'PZ_33', 'E_34', 'PX_34', 'PY_34', 'PZ_34', 'E_35', 'PX_35', 'PY_35', 'PZ_35', 'E_36', 'PX_36', 'PY_36', 'PZ_36', 'E_37', 'PX_37', 'PY_37', 'PZ_37', 'E_38', 'PX_38', 'PY_38', 'PZ_38', 'E_39', 'PX_39', 'PY_39', 'PZ_39', 'E_40', 'PX_40', 'PY_40', 'PZ_40', 'E_41', 'PX_41', 'PY_41', 'PZ_41', 'E_42', 'PX_42', 'PY_42', 'PZ_42', 'E_43', 'PX_43', 'PY_43', 'PZ_43', 'E_44', 'PX_44', 'PY_44', 'PZ_44', 'E_45', 'PX_45', 'PY_45', 'PZ_45', 'E_46', 'PX_46', 'PY_46', 'PZ_46', 'E_47', 'PX_47', 'PY_47', 'PZ_47', 'E_48', 'PX_48', 'PY_48', 'PZ_48', 'E_49', 'PX_49', 'PY_49', 'PZ_49', 'E_50', 'PX_50', 'PY_50', 'PZ_50', 'E_51', 'PX_51', 'PY_51', 'PZ_51', 'E_52', 'PX_52', 'PY_52', 'PZ_52', 'E_53', 'PX_53', 'PY_53', 'PZ_53', 'E_54', 'PX_54', 'PY_54', 'PZ_54', 'E_55', 'PX_55', 'PY_55', 'PZ_55', 'E_56', 'PX_56', 'PY_56', 'PZ_56', 'E_57', 'PX_57', 'PY_57', 'PZ_57', 'E_58', 'PX_58', 'PY_58', 'PZ_58', 'E_59', 'PX_59', 'PY_59', 'PZ_59', 'E_60', 'PX_60', 'PY_60', 'PZ_60', 'E_61', 'PX_61', 'PY_61', 'PZ_61', 'E_62', 'PX_62', 'PY_62', 'PZ_62', 'E_63', 'PX_63', 'PY_63', 'PZ_63', 'E_64', 'PX_64', 'PY_64', 'PZ_64', 'E_65', 'PX_65', 'PY_65', 'PZ_65', 'E_66', 'PX_66', 'PY_66', 'PZ_66', 'E_67', 'PX_67', 'PY_67', 'PZ_67', 'E_68', 'PX_68', 'PY_68', 'PZ_68', 'E_69', 'PX_69', 'PY_69', 'PZ_69', 'E_70', 'PX_70', 'PY_70', 'PZ_70', 'E_71', 'PX_71', 'PY_71', 'PZ_71', 'E_72', 'PX_72', 'PY_72', 'PZ_72', 'E_73', 'PX_73', 'PY_73', 'PZ_73', 'E_74', 'PX_74', 'PY_74', 'PZ_74', 'E_75', 'PX_75', 'PY_75', 'PZ_75', 'E_76', 'PX_76', 'PY_76', 'PZ_76', 'E_77', 'PX_77', 'PY_77', 'PZ_77', 'E_78', 'PX_78', 'PY_78', 'PZ_78', 'E_79', 'PX_79', 'PY_79', 'PZ_79', 'E_80', 'PX_80', 'PY_80', 'PZ_80', 'E_81', 'PX_81', 'PY_81', 'PZ_81', 'E_82', 'PX_82', 'PY_82', 'PZ_82', 'E_83', 'PX_83', 'PY_83', 'PZ_83', 'E_84', 'PX_84', 'PY_84', 'PZ_84', 'E_85', 'PX_85', 'PY_85', 'PZ_85', 'E_86', 'PX_86', 'PY_86', 'PZ_86', 'E_87', 'PX_87', 'PY_87', 'PZ_87', 'E_88', 'PX_88', 'PY_88', 'PZ_88', 'E_89', 'PX_89', 'PY_89', 'PZ_89', 'E_90', 'PX_90', 'PY_90', 'PZ_90', 'E_91', 'PX_91', 'PY_91', 'PZ_91', 'E_92', 'PX_92', 'PY_92', 'PZ_92', 'E_93', 'PX_93', 'PY_93', 'PZ_93', 'E_94', 'PX_94', 'PY_94', 'PZ_94', 'E_95', 'PX_95', 'PY_95', 'PZ_95', 'E_96', 'PX_96', 'PY_96', 'PZ_96', 'E_97', 'PX_97', 'PY_97', 'PZ_97', 'E_98', 'PX_98', 'PY_98', 'PZ_98', 'E_99', 'PX_99', 'PY_99', 'PZ_99', 'E_100', 'PX_100', 'PY_100', 'PZ_100', 'E_101', 'PX_101', 'PY_101', 'PZ_101', 'E_102', 'PX_102', 'PY_102', 'PZ_102', 'E_103', 'PX_103', 'PY_103', 'PZ_103', 'E_104', 'PX_104', 'PY_104', 'PZ_104', 'E_105', 'PX_105', 'PY_105', 'PZ_105', 'E_106', 'PX_106', 'PY_106', 'PZ_106', 'E_107', 'PX_107', 'PY_107', 'PZ_107', 'E_108', 'PX_108', 'PY_108', 'PZ_108', 'E_109', 'PX_109', 'PY_109', 'PZ_109', 'E_110', 'PX_110', 'PY_110', 'PZ_110', 'E_111', 'PX_111', 'PY_111', 'PZ_111', 'E_112', 'PX_112', 'PY_112', 'PZ_112', 'E_113', 'PX_113', 'PY_113', 'PZ_113', 'E_114', 'PX_114', 'PY_114', 'PZ_114', 'E_115', 'PX_115', 'PY_115', 'PZ_115', 'E_116', 'PX_116', 'PY_116', 'PZ_116', 'E_117', 'PX_117', 'PY_117', 'PZ_117', 'E_118', 'PX_118', 'PY_118', 'PZ_118', 'E_119', 'PX_119', 'PY_119', 'PZ_119', 'E_120', 'PX_120', 'PY_120', 'PZ_120', 'E_121', 'PX_121', 'PY_121', 'PZ_121', 'E_122', 'PX_122', 'PY_122', 'PZ_122', 'E_123', 'PX_123', 'PY_123', 'PZ_123', 'E_124', 'PX_124', 'PY_124', 'PZ_124', 'E_125', 'PX_125', 'PY_125', 'PZ_125', 'E_126', 'PX_126', 'PY_126', 'PZ_126', 'E_127', 'PX_127', 'PY_127', 'PZ_127', 'E_128', 'PX_128', 'PY_128', 'PZ_128', 'E_129', 'PX_129', 'PY_129', 'PZ_129', 'E_130', 'PX_130', 'PY_130', 'PZ_130', 'E_131', 'PX_131', 'PY_131', 'PZ_131', 'E_132', 'PX_132', 'PY_132', 'PZ_132', 'E_133', 'PX_133', 'PY_133', 'PZ_133', 'E_134', 'PX_134', 'PY_134', 'PZ_134', 'E_135', 'PX_135', 'PY_135', 'PZ_135', 'E_136', 'PX_136', 'PY_136', 'PZ_136', 'E_137', 'PX_137', 'PY_137', 'PZ_137', 'E_138', 'PX_138', 'PY_138', 'PZ_138', 'E_139', 'PX_139', 'PY_139', 'PZ_139', 'E_140', 'PX_140', 'PY_140', 'PZ_140', 'E_141', 'PX_141', 'PY_141', 'PZ_141', 'E_142', 'PX_142', 'PY_142', 'PZ_142', 'E_143', 'PX_143', 'PY_143', 'PZ_143', 'E_144', 'PX_144', 'PY_144', 'PZ_144', 'E_145', 'PX_145', 'PY_145', 'PZ_145', 'E_146', 'PX_146', 'PY_146', 'PZ_146', 'E_147', 'PX_147', 'PY_147', 'PZ_147', 'E_148', 'PX_148', 'PY_148', 'PZ_148', 'E_149', 'PX_149', 'PY_149', 'PZ_149', 'E_150', 'PX_150', 'PY_150', 'PZ_150', 'E_151', 'PX_151', 'PY_151', 'PZ_151', 'E_152', 'PX_152', 'PY_152', 'PZ_152', 'E_153', 'PX_153', 'PY_153', 'PZ_153', 'E_154', 'PX_154', 'PY_154', 'PZ_154', 'E_155', 'PX_155', 'PY_155', 'PZ_155', 'E_156', 'PX_156', 'PY_156', 'PZ_156', 'E_157', 'PX_157', 'PY_157', 'PZ_157', 'E_158', 'PX_158', 'PY_158', 'PZ_158', 'E_159', 'PX_159', 'PY_159', 'PZ_159', 'E_160', 'PX_160', 'PY_160', 'PZ_160', 'E_161', 'PX_161', 'PY_161', 'PZ_161', 'E_162', 'PX_162', 'PY_162', 'PZ_162', 'E_163', 'PX_163', 'PY_163', 'PZ_163', 'E_164', 'PX_164', 'PY_164', 'PZ_164', 'E_165', 'PX_165', 'PY_165', 'PZ_165', 'E_166', 'PX_166', 'PY_166', 'PZ_166', 'E_167', 'PX_167', 'PY_167', 'PZ_167', 'E_168', 'PX_168', 'PY_168', 'PZ_168', 'E_169', 'PX_169', 'PY_169', 'PZ_169', 'E_170', 'PX_170', 'PY_170', 'PZ_170', 'E_171', 'PX_171', 'PY_171', 'PZ_171', 'E_172', 'PX_172', 'PY_172', 'PZ_172', 'E_173', 'PX_173', 'PY_173', 'PZ_173', 'E_174', 'PX_174', 'PY_174', 'PZ_174', 'E_175', 'PX_175', 'PY_175', 'PZ_175', 'E_176', 'PX_176', 'PY_176', 'PZ_176', 'E_177', 'PX_177', 'PY_177', 'PZ_177', 'E_178', 'PX_178', 'PY_178', 'PZ_178', 'E_179', 'PX_179', 'PY_179', 'PZ_179', 'E_180', 'PX_180', 'PY_180', 'PZ_180', 'E_181', 'PX_181', 'PY_181', 'PZ_181', 'E_182', 'PX_182', 'PY_182', 'PZ_182', 'E_183', 'PX_183', 'PY_183', 'PZ_183', 'E_184', 'PX_184', 'PY_184', 'PZ_184', 'E_185', 'PX_185', 'PY_185', 'PZ_185', 'E_186', 'PX_186', 'PY_186', 'PZ_186', 'E_187', 'PX_187', 'PY_187', 'PZ_187', 'E_188', 'PX_188', 'PY_188', 'PZ_188', 'E_189', 'PX_189', 'PY_189', 'PZ_189', 'E_190', 'PX_190', 'PY_190', 'PZ_190', 'E_191', 'PX_191', 'PY_191', 'PZ_191', 'E_192', 'PX_192', 'PY_192', 'PZ_192', 'E_193', 'PX_193', 'PY_193', 'PZ_193', 'E_194', 'PX_194', 'PY_194', 'PZ_194', 'E_195', 'PX_195', 'PY_195', 'PZ_195', 'E_196', 'PX_196', 'PY_196', 'PZ_196', 'E_197', 'PX_197', 'PY_197', 'PZ_197', 'E_198', 'PX_198', 'PY_198', 'PZ_198', 'E_199', 'PX_199', 'PY_199', 'PZ_199', 'truthE', 'truthPX', 'truthPY', 'truthPZ', 'ttv', 'is_signal_new'],\n",
       "        num_rows: 403000\n",
       "    })\n",
       "})"
      ]
     },
     "execution_count": 3,
     "metadata": {},
     "output_type": "execute_result"
    }
   ],
   "source": [
    "top_quark_ds = load_dataset(\"dl4phys/top_landscape\")\n",
    "top_quark_ds"
   ]
  },
  {
   "cell_type": "markdown",
   "id": "4f97efc7-5e48-4065-8d65-35dc8093f25d",
   "metadata": {},
   "source": [
    "To get a quick feel for what type of data we're dealing with, we've selected just the training split associated with the `raw` subset (which contains all the raw events). Since this dataset is rather large with 1.2 million events, we've also enabled _dataset streaming_ so we can grab a sample of events without having to load the whole dataset into RAM. The `take()` method returns the first $n$ examples in the datasets, so let's grab 5 events and load them in a pandas `DataFrame`:"
   ]
  },
  {
   "cell_type": "code",
   "execution_count": 4,
   "id": "19f17074-c1e6-459f-a212-6f1ba16cab6d",
   "metadata": {
    "tags": [
     "hide-output"
    ]
   },
   "outputs": [
    {
     "data": {
      "text/html": [
       "<div>\n",
       "<style scoped>\n",
       "    .dataframe tbody tr th:only-of-type {\n",
       "        vertical-align: middle;\n",
       "    }\n",
       "\n",
       "    .dataframe tbody tr th {\n",
       "        vertical-align: top;\n",
       "    }\n",
       "\n",
       "    .dataframe thead th {\n",
       "        text-align: right;\n",
       "    }\n",
       "</style>\n",
       "<table border=\"1\" class=\"dataframe\">\n",
       "  <thead>\n",
       "    <tr style=\"text-align: right;\">\n",
       "      <th></th>\n",
       "      <th>E_0</th>\n",
       "      <th>PX_0</th>\n",
       "      <th>PY_0</th>\n",
       "      <th>PZ_0</th>\n",
       "      <th>E_1</th>\n",
       "      <th>PX_1</th>\n",
       "      <th>PY_1</th>\n",
       "      <th>PZ_1</th>\n",
       "      <th>E_2</th>\n",
       "      <th>PX_2</th>\n",
       "      <th>...</th>\n",
       "      <th>E_199</th>\n",
       "      <th>PX_199</th>\n",
       "      <th>PY_199</th>\n",
       "      <th>PZ_199</th>\n",
       "      <th>truthE</th>\n",
       "      <th>truthPX</th>\n",
       "      <th>truthPY</th>\n",
       "      <th>truthPZ</th>\n",
       "      <th>ttv</th>\n",
       "      <th>is_signal_new</th>\n",
       "    </tr>\n",
       "  </thead>\n",
       "  <tbody>\n",
       "    <tr>\n",
       "      <th>0</th>\n",
       "      <td>474.071136</td>\n",
       "      <td>-250.347031</td>\n",
       "      <td>-223.651962</td>\n",
       "      <td>-334.738098</td>\n",
       "      <td>103.236237</td>\n",
       "      <td>-48.866222</td>\n",
       "      <td>-56.790775</td>\n",
       "      <td>-71.025490</td>\n",
       "      <td>105.255569</td>\n",
       "      <td>-55.415001</td>\n",
       "      <td>...</td>\n",
       "      <td>0.0</td>\n",
       "      <td>0.0</td>\n",
       "      <td>0.0</td>\n",
       "      <td>0.0</td>\n",
       "      <td>0.0</td>\n",
       "      <td>0.0</td>\n",
       "      <td>0.0</td>\n",
       "      <td>0.0</td>\n",
       "      <td>0</td>\n",
       "      <td>0</td>\n",
       "    </tr>\n",
       "    <tr>\n",
       "      <th>1</th>\n",
       "      <td>150.504532</td>\n",
       "      <td>120.062393</td>\n",
       "      <td>76.852005</td>\n",
       "      <td>-48.274265</td>\n",
       "      <td>82.257057</td>\n",
       "      <td>63.801739</td>\n",
       "      <td>42.754807</td>\n",
       "      <td>-29.454842</td>\n",
       "      <td>48.573559</td>\n",
       "      <td>36.763199</td>\n",
       "      <td>...</td>\n",
       "      <td>0.0</td>\n",
       "      <td>0.0</td>\n",
       "      <td>0.0</td>\n",
       "      <td>0.0</td>\n",
       "      <td>0.0</td>\n",
       "      <td>0.0</td>\n",
       "      <td>0.0</td>\n",
       "      <td>0.0</td>\n",
       "      <td>0</td>\n",
       "      <td>0</td>\n",
       "    </tr>\n",
       "    <tr>\n",
       "      <th>2</th>\n",
       "      <td>251.645386</td>\n",
       "      <td>10.427651</td>\n",
       "      <td>-147.573746</td>\n",
       "      <td>203.564880</td>\n",
       "      <td>104.147797</td>\n",
       "      <td>10.718256</td>\n",
       "      <td>-54.497948</td>\n",
       "      <td>88.101395</td>\n",
       "      <td>78.043213</td>\n",
       "      <td>5.724113</td>\n",
       "      <td>...</td>\n",
       "      <td>0.0</td>\n",
       "      <td>0.0</td>\n",
       "      <td>0.0</td>\n",
       "      <td>0.0</td>\n",
       "      <td>0.0</td>\n",
       "      <td>0.0</td>\n",
       "      <td>0.0</td>\n",
       "      <td>0.0</td>\n",
       "      <td>0</td>\n",
       "      <td>0</td>\n",
       "    </tr>\n",
       "    <tr>\n",
       "      <th>3</th>\n",
       "      <td>451.566132</td>\n",
       "      <td>129.885437</td>\n",
       "      <td>-99.066292</td>\n",
       "      <td>-420.984100</td>\n",
       "      <td>208.410919</td>\n",
       "      <td>59.033958</td>\n",
       "      <td>-46.177090</td>\n",
       "      <td>-194.467941</td>\n",
       "      <td>190.183304</td>\n",
       "      <td>54.069675</td>\n",
       "      <td>...</td>\n",
       "      <td>0.0</td>\n",
       "      <td>0.0</td>\n",
       "      <td>0.0</td>\n",
       "      <td>0.0</td>\n",
       "      <td>0.0</td>\n",
       "      <td>0.0</td>\n",
       "      <td>0.0</td>\n",
       "      <td>0.0</td>\n",
       "      <td>0</td>\n",
       "      <td>0</td>\n",
       "    </tr>\n",
       "    <tr>\n",
       "      <th>4</th>\n",
       "      <td>399.093903</td>\n",
       "      <td>-168.432083</td>\n",
       "      <td>-47.205597</td>\n",
       "      <td>-358.717438</td>\n",
       "      <td>273.691956</td>\n",
       "      <td>-121.926941</td>\n",
       "      <td>-30.803854</td>\n",
       "      <td>-243.088928</td>\n",
       "      <td>152.837219</td>\n",
       "      <td>-44.400204</td>\n",
       "      <td>...</td>\n",
       "      <td>0.0</td>\n",
       "      <td>0.0</td>\n",
       "      <td>0.0</td>\n",
       "      <td>0.0</td>\n",
       "      <td>0.0</td>\n",
       "      <td>0.0</td>\n",
       "      <td>0.0</td>\n",
       "      <td>0.0</td>\n",
       "      <td>0</td>\n",
       "      <td>0</td>\n",
       "    </tr>\n",
       "  </tbody>\n",
       "</table>\n",
       "<p>5 rows × 806 columns</p>\n",
       "</div>"
      ],
      "text/plain": [
       "          E_0        PX_0        PY_0        PZ_0         E_1        PX_1  \\\n",
       "0  474.071136 -250.347031 -223.651962 -334.738098  103.236237  -48.866222   \n",
       "1  150.504532  120.062393   76.852005  -48.274265   82.257057   63.801739   \n",
       "2  251.645386   10.427651 -147.573746  203.564880  104.147797   10.718256   \n",
       "3  451.566132  129.885437  -99.066292 -420.984100  208.410919   59.033958   \n",
       "4  399.093903 -168.432083  -47.205597 -358.717438  273.691956 -121.926941   \n",
       "\n",
       "        PY_1        PZ_1         E_2       PX_2  ...  E_199  PX_199  PY_199  \\\n",
       "0 -56.790775  -71.025490  105.255569 -55.415001  ...    0.0     0.0     0.0   \n",
       "1  42.754807  -29.454842   48.573559  36.763199  ...    0.0     0.0     0.0   \n",
       "2 -54.497948   88.101395   78.043213   5.724113  ...    0.0     0.0     0.0   \n",
       "3 -46.177090 -194.467941  190.183304  54.069675  ...    0.0     0.0     0.0   \n",
       "4 -30.803854 -243.088928  152.837219 -44.400204  ...    0.0     0.0     0.0   \n",
       "\n",
       "   PZ_199  truthE  truthPX  truthPY  truthPZ  ttv  is_signal_new  \n",
       "0     0.0     0.0      0.0      0.0      0.0    0              0  \n",
       "1     0.0     0.0      0.0      0.0      0.0    0              0  \n",
       "2     0.0     0.0      0.0      0.0      0.0    0              0  \n",
       "3     0.0     0.0      0.0      0.0      0.0    0              0  \n",
       "4     0.0     0.0      0.0      0.0      0.0    0              0  \n",
       "\n",
       "[5 rows x 806 columns]"
      ]
     },
     "execution_count": 4,
     "metadata": {},
     "output_type": "execute_result"
    }
   ],
   "source": [
    "sample = list(top_quark_ds.take(5))\n",
    "pd.DataFrame(sample)"
   ]
  },
  {
   "cell_type": "markdown",
   "id": "3ed98137-8c5d-47da-9868-4a2d7a2cb1a1",
   "metadata": {},
   "source": [
    "As we can see, each row consists of 4-vectors $(E_i, p_{x_i}, p_{y_i}, p_{z_i})$ that correspond to the maximum 200 particles that make up each jet. We can also see that each jet has been padded with zeros, since most won't have 200 particles. We also have an `is_signal_new` column that indicates whether the jet is a top quark signal (1) or QCD background (0).\n",
    "\n",
    "Now that we've had a look at a sample of the raw data, let's take a look at how we can convert it to a format that is suitable for neural networks!"
   ]
  },
  {
   "cell_type": "markdown",
   "id": "ca6fd041-3bd5-497a-a095-b78624766a40",
   "metadata": {},
   "source": [
    "## Jet representations"
   ]
  },
  {
   "cell_type": "markdown",
   "id": "fec0fa8c-d73b-41eb-b252-b955d21e3d8b",
   "metadata": {},
   "source": [
    "In any machine learning problem, the first step is to decide how to represent the data. For jet tagging, the most common approaches one finds in the literature include:\n",
    "\n",
    "* **Jets as images.** A jet image is a pixelated grayscale image, where the pixel intensity represents the energy (or transverse momentum) of all particles that deposited energy in a particular location in the $\\eta-\\phi$ plane. Typically, _convolutional neural networks (CNNs)_ (which we'll encounter later in the course) are used to process the images.\n",
    "* **Jets as sequences.** Here the idea is to order the particles in a jet (usually by $p_T$) and use sequence-based architectures like _recurrent neural networks (RNNs)._\n",
    "* **Jets as graphs.** This approach treats each jet as a generic graph of nodes and edges. Graph neural networks (which we'll also encounter later in the course) excel on this tpe of data.\n",
    "* **Jets as sets.** A generalisation of the previous representations, this approach simply treats each jets as an unordered collection or point cloud of 4-vectors.\n",
    "* **Theory-inspired representations.** Instead of representing the jets in formats to match specific neural network architectures, these approaches use results on IR safety from QCD to represent the jets as a simplified set of features. Fully-connected neural networks are then trained on these features.\n",
    "\n",
    "You can find more details about each representation in a nice [review article](https://arxiv.org/abs/1709.04464) from 2017. \n",
    "\n",
    "<img src=\"images/jets.png\" alt=\"Different ways to represent jets\" class=\"bg-primary mb-1\" width=\"400px\">\n",
    "\n",
    "In this lesson and the next, we'll use one of the theory-inspired representations called $N$-subjettiness. Let's take a look."
   ]
  },
  {
   "cell_type": "markdown",
   "id": "6d70b6cf-c13d-48a1-a737-dbf75a873cc4",
   "metadata": {},
   "source": [
    "### Representing jets with $N$-subjettiness observables"
   ]
  },
  {
   "cell_type": "markdown",
   "id": "471be338-08e1-4ee6-84a5-44055613aac1",
   "metadata": {},
   "source": [
    "$N$-subjettiness observables quantify how much of the radiation in a jet is aligned along different subjet axes. Although originally used for analytic approaches to distinguish different decays and event topologies, these observable can also be used as inputs for machine learning models and provide strong discriminating power. \n",
    "\n",
    "To be precise, an $N$-subjettiness observable $\\tau_N^{(\\beta)}$ measures the radiation about $N$ axes in the jet according to an angular exponent $\\beta>0$:\n",
    "\n",
    "$$ \\tau_N^{(\\beta)} = \\frac{1}{p_{T,J}} \\sum_{i\\in J} p_{T,i} \\min \\left\\{ R_{1,i}^\\beta, R_{1,i}^\\beta, \\ldots , R_{1,i}^\\beta \\right\\} $$\n",
    "\n",
    "Here $p_{T,J}$ is the transverse momentum of the jet, $p_{T,i}$ is the transverse momentum of particle $i$ in the jet, and $R_{K,i}$ is the distance in the $\\eta-\\phi$ plane of particle $i$ to axis $K$.\n",
    "\n",
    "To measure substructure in a jet, one thus needs to measure a suitable number of $N$-subjettiness observables. In practice this is done by specifying the corrdinates of $M$-body phase space in terms of $3m - 4$ $N$-subjettiness observables:\n",
    "\n",
    "$$ \\left\\{ \\tau_1^{(0.5)}, \\tau_1^{(1)}, \\tau_1^{(2)}, \\tau_2^{(0.5)}, \\tau_2^{(1)}, \\tau_2^{(2)}, \\ldots , \\tau_{m-1}^{(0.5)}, \\tau_{m-1}^{(1)}, \\tau_{m-1}^{(2)} \\right\\} $$\n",
    "\n",
    "To see how we can use this basis as features for a neural network, we have computed $N$-subjettiness observables up through 4-body phase space using the [Fastjet library](https://github.com/scikit-hep/fastjet). You can download these features by passing the `nsubjetiness` subset to the `load_dataset()` function:"
   ]
  },
  {
   "cell_type": "code",
   "execution_count": 4,
   "id": "9f0a5389-e6f5-4e89-a2b6-e6d2b143ccf3",
   "metadata": {},
   "outputs": [
    {
     "name": "stderr",
     "output_type": "stream",
     "text": [
      "Using custom data configuration dl4phys--top_landscape_nsubs-d6826973a7221144\n"
     ]
    },
    {
     "name": "stdout",
     "output_type": "stream",
     "text": [
      "Downloading and preparing dataset parquet/dl4phys--top_landscape_nsubs to /home/lewis/.cache/huggingface/datasets/parquet/dl4phys--top_landscape_nsubs-d6826973a7221144/0.0.0/0b6d5799bb726b24ad7fc7be720c170d8e497f575d02d47537de9a5bac074901...\n"
     ]
    },
    {
     "data": {
      "application/vnd.jupyter.widget-view+json": {
       "model_id": "539021242a1d4b59a2ed00081b0f83f0",
       "version_major": 2,
       "version_minor": 0
      },
      "text/plain": [
       "Downloading data files:   0%|          | 0/3 [00:00<?, ?it/s]"
      ]
     },
     "metadata": {},
     "output_type": "display_data"
    },
    {
     "data": {
      "application/vnd.jupyter.widget-view+json": {
       "model_id": "7f0e8b007dba495aab1cc40e71306c68",
       "version_major": 2,
       "version_minor": 0
      },
      "text/plain": [
       "Downloading data:   0%|          | 0.00/198M [00:00<?, ?B/s]"
      ]
     },
     "metadata": {},
     "output_type": "display_data"
    },
    {
     "data": {
      "application/vnd.jupyter.widget-view+json": {
       "model_id": "8c04690477a442a8896d8cc91f207e30",
       "version_major": 2,
       "version_minor": 0
      },
      "text/plain": [
       "Downloading data:   0%|          | 0.00/69.9M [00:00<?, ?B/s]"
      ]
     },
     "metadata": {},
     "output_type": "display_data"
    },
    {
     "data": {
      "application/vnd.jupyter.widget-view+json": {
       "model_id": "5a264189756e4702bb554cf6756002c3",
       "version_major": 2,
       "version_minor": 0
      },
      "text/plain": [
       "Downloading data:   0%|          | 0.00/69.7M [00:00<?, ?B/s]"
      ]
     },
     "metadata": {},
     "output_type": "display_data"
    },
    {
     "data": {
      "application/vnd.jupyter.widget-view+json": {
       "model_id": "6a065bd1768c4c2d917e637581d0a326",
       "version_major": 2,
       "version_minor": 0
      },
      "text/plain": [
       "Extracting data files:   0%|          | 0/3 [00:00<?, ?it/s]"
      ]
     },
     "metadata": {},
     "output_type": "display_data"
    },
    {
     "name": "stdout",
     "output_type": "stream",
     "text": [
      "Dataset parquet downloaded and prepared to /home/lewis/.cache/huggingface/datasets/parquet/dl4phys--top_landscape_nsubs-d6826973a7221144/0.0.0/0b6d5799bb726b24ad7fc7be720c170d8e497f575d02d47537de9a5bac074901. Subsequent calls will reuse this data.\n"
     ]
    },
    {
     "data": {
      "application/vnd.jupyter.widget-view+json": {
       "model_id": "1f5f43121c1a4f458cc88ecee1ec69fd",
       "version_major": 2,
       "version_minor": 0
      },
      "text/plain": [
       "  0%|          | 0/3 [00:00<?, ?it/s]"
      ]
     },
     "metadata": {},
     "output_type": "display_data"
    }
   ],
   "source": [
    "nsubjet_ds = load_dataset(\"dl4phys/top_landscape_nsubs\")"
   ]
  },
  {
   "cell_type": "markdown",
   "id": "cded6667-4ec5-4ff2-a6a2-2773dc2e4201",
   "metadata": {},
   "source": [
    "If we look inside our `nsubjet_ds` object"
   ]
  },
  {
   "cell_type": "code",
   "execution_count": 5,
   "id": "76c759e0-5f64-4b86-9dc6-bf0af2a6fd8a",
   "metadata": {},
   "outputs": [
    {
     "data": {
      "text/plain": [
       "DatasetDict({\n",
       "    train: Dataset({\n",
       "        features: ['pT', 'mass', 'tau_1_0.5', 'tau_1_1', 'tau_1_2', 'tau_2_0.5', 'tau_2_1', 'tau_2_2', 'tau_3_0.5', 'tau_3_1', 'tau_3_2', 'tau_4_0.5', 'tau_4_1', 'tau_4_2', 'tau_5_0.5', 'tau_5_1', 'tau_5_2', 'tau_6_0.5', 'tau_6_1', 'tau_6_2', 'label'],\n",
       "        num_rows: 1211000\n",
       "    })\n",
       "    test: Dataset({\n",
       "        features: ['pT', 'mass', 'tau_1_0.5', 'tau_1_1', 'tau_1_2', 'tau_2_0.5', 'tau_2_1', 'tau_2_2', 'tau_3_0.5', 'tau_3_1', 'tau_3_2', 'tau_4_0.5', 'tau_4_1', 'tau_4_2', 'tau_5_0.5', 'tau_5_1', 'tau_5_2', 'tau_6_0.5', 'tau_6_1', 'tau_6_2', 'label'],\n",
       "        num_rows: 404000\n",
       "    })\n",
       "    validation: Dataset({\n",
       "        features: ['pT', 'mass', 'tau_1_0.5', 'tau_1_1', 'tau_1_2', 'tau_2_0.5', 'tau_2_1', 'tau_2_2', 'tau_3_0.5', 'tau_3_1', 'tau_3_2', 'tau_4_0.5', 'tau_4_1', 'tau_4_2', 'tau_5_0.5', 'tau_5_1', 'tau_5_2', 'tau_6_0.5', 'tau_6_1', 'tau_6_2', 'label'],\n",
       "        num_rows: 403000\n",
       "    })\n",
       "})"
      ]
     },
     "execution_count": 5,
     "metadata": {},
     "output_type": "execute_result"
    }
   ],
   "source": [
    "nsubjet_ds"
   ]
  },
  {
   "cell_type": "markdown",
   "id": "aaf13b66-9a4c-4353-a0cd-1621442fabf8",
   "metadata": {},
   "source": [
    "we see it is similar to a Python dictionary, with each key corresponding to a different split. And we can use the usual dictionary syntax to access an individual split:"
   ]
  },
  {
   "cell_type": "code",
   "execution_count": 6,
   "id": "c5eab197-9e09-4129-97d8-2e2b210eedd8",
   "metadata": {},
   "outputs": [
    {
     "data": {
      "text/plain": [
       "Dataset({\n",
       "    features: ['pT', 'mass', 'tau_1_0.5', 'tau_1_1', 'tau_1_2', 'tau_2_0.5', 'tau_2_1', 'tau_2_2', 'tau_3_0.5', 'tau_3_1', 'tau_3_2', 'tau_4_0.5', 'tau_4_1', 'tau_4_2', 'tau_5_0.5', 'tau_5_1', 'tau_5_2', 'tau_6_0.5', 'tau_6_1', 'tau_6_2', 'label'],\n",
       "    num_rows: 1211000\n",
       "})"
      ]
     },
     "execution_count": 6,
     "metadata": {},
     "output_type": "execute_result"
    }
   ],
   "source": [
    "train_ds = nsubjet_ds[\"train\"]\n",
    "train_ds"
   ]
  },
  {
   "cell_type": "markdown",
   "id": "6c29747f-0a36-4140-8b10-adcdf09ac6c9",
   "metadata": {},
   "source": [
    "The `Dataset` object is one of the core data structures in 🤗 Datasets and behaves like an ordinary Python `list`, so we can query its length:"
   ]
  },
  {
   "cell_type": "code",
   "execution_count": 7,
   "id": "d2e4789b-d74a-4b89-b4f2-579567d8925b",
   "metadata": {},
   "outputs": [
    {
     "data": {
      "text/plain": [
       "1211000"
      ]
     },
     "execution_count": 7,
     "metadata": {},
     "output_type": "execute_result"
    }
   ],
   "source": [
    "len(train_ds)"
   ]
  },
  {
   "cell_type": "markdown",
   "id": "7bf93017-e9d4-4791-b5b2-ec23c14633e8",
   "metadata": {},
   "source": [
    "or access a single element by its index:"
   ]
  },
  {
   "cell_type": "code",
   "execution_count": 8,
   "id": "aa72cf0f-af6e-45df-9614-140b08152c6a",
   "metadata": {},
   "outputs": [
    {
     "data": {
      "text/plain": [
       "{'pT': 543.633943859825,\n",
       " 'mass': 25.84679198808868,\n",
       " 'tau_1_0.5': 0.1651217365709237,\n",
       " 'tau_1_1': 0.0326612823732295,\n",
       " 'tau_1_2': 0.002261721860060991,\n",
       " 'tau_2_0.5': 0.048829926384021324,\n",
       " 'tau_2_1': 0.0037105140267032917,\n",
       " 'tau_2_2': 4.3909620427956585e-05,\n",
       " 'tau_3_0.5': 0.030994313687801745,\n",
       " 'tau_3_1': 0.0016299882278326505,\n",
       " 'tau_3_2': 1.1181864214922376e-05,\n",
       " 'tau_4_0.5': 0.024336277786176298,\n",
       " 'tau_4_1': 0.0011153324466200857,\n",
       " 'tau_4_2': 7.76589146744022e-06,\n",
       " 'tau_5_0.5': 0.004252331010666273,\n",
       " 'tau_5_1': 0.00023385716321281164,\n",
       " 'tau_5_2': 7.706005223664668e-07,\n",
       " 'tau_6_0.5': 0.0,\n",
       " 'tau_6_1': 0.0,\n",
       " 'tau_6_2': 0.0,\n",
       " 'label': 0}"
      ]
     },
     "execution_count": 8,
     "metadata": {},
     "output_type": "execute_result"
    }
   ],
   "source": [
    "train_ds[0]"
   ]
  },
  {
   "cell_type": "markdown",
   "id": "2e253591-66c7-4483-b9e1-65ffdf6f3fc0",
   "metadata": {},
   "source": [
    "Here we see that a single row is repesented as a dictionary where the keys correspond to the column names. Although, 🤗 Datasets provides a lot of low-level functionality for preprocessing datasets, it is often conventient to convert a `Dataset` object to a Pandas `DataFrame`. We can do this by using the `to_pandas()` method as follows:"
   ]
  },
  {
   "cell_type": "code",
   "execution_count": 11,
   "id": "498662cc-e3fa-4244-8a5a-ddccacf5cb54",
   "metadata": {},
   "outputs": [
    {
     "data": {
      "text/html": [
       "<div>\n",
       "<style scoped>\n",
       "    .dataframe tbody tr th:only-of-type {\n",
       "        vertical-align: middle;\n",
       "    }\n",
       "\n",
       "    .dataframe tbody tr th {\n",
       "        vertical-align: top;\n",
       "    }\n",
       "\n",
       "    .dataframe thead th {\n",
       "        text-align: right;\n",
       "    }\n",
       "</style>\n",
       "<table border=\"1\" class=\"dataframe\">\n",
       "  <thead>\n",
       "    <tr style=\"text-align: right;\">\n",
       "      <th></th>\n",
       "      <th>pT</th>\n",
       "      <th>mass</th>\n",
       "      <th>tau_1_0.5</th>\n",
       "      <th>tau_1_1</th>\n",
       "      <th>tau_1_2</th>\n",
       "      <th>tau_2_0.5</th>\n",
       "      <th>tau_2_1</th>\n",
       "      <th>tau_2_2</th>\n",
       "      <th>tau_3_0.5</th>\n",
       "      <th>tau_3_1</th>\n",
       "      <th>...</th>\n",
       "      <th>tau_4_0.5</th>\n",
       "      <th>tau_4_1</th>\n",
       "      <th>tau_4_2</th>\n",
       "      <th>tau_5_0.5</th>\n",
       "      <th>tau_5_1</th>\n",
       "      <th>tau_5_2</th>\n",
       "      <th>tau_6_0.5</th>\n",
       "      <th>tau_6_1</th>\n",
       "      <th>tau_6_2</th>\n",
       "      <th>label</th>\n",
       "    </tr>\n",
       "  </thead>\n",
       "  <tbody>\n",
       "    <tr>\n",
       "      <th>0</th>\n",
       "      <td>543.633944</td>\n",
       "      <td>25.846792</td>\n",
       "      <td>0.165122</td>\n",
       "      <td>0.032661</td>\n",
       "      <td>0.002262</td>\n",
       "      <td>0.048830</td>\n",
       "      <td>0.003711</td>\n",
       "      <td>0.000044</td>\n",
       "      <td>0.030994</td>\n",
       "      <td>0.001630</td>\n",
       "      <td>...</td>\n",
       "      <td>0.024336</td>\n",
       "      <td>0.001115</td>\n",
       "      <td>0.000008</td>\n",
       "      <td>0.004252</td>\n",
       "      <td>0.000234</td>\n",
       "      <td>7.706005e-07</td>\n",
       "      <td>0.000000</td>\n",
       "      <td>0.000000</td>\n",
       "      <td>0.000000e+00</td>\n",
       "      <td>0</td>\n",
       "    </tr>\n",
       "    <tr>\n",
       "      <th>1</th>\n",
       "      <td>452.411860</td>\n",
       "      <td>13.388679</td>\n",
       "      <td>0.162938</td>\n",
       "      <td>0.027598</td>\n",
       "      <td>0.000876</td>\n",
       "      <td>0.095902</td>\n",
       "      <td>0.015461</td>\n",
       "      <td>0.000506</td>\n",
       "      <td>0.079750</td>\n",
       "      <td>0.009733</td>\n",
       "      <td>...</td>\n",
       "      <td>0.056854</td>\n",
       "      <td>0.005454</td>\n",
       "      <td>0.000072</td>\n",
       "      <td>0.044211</td>\n",
       "      <td>0.004430</td>\n",
       "      <td>6.175314e-05</td>\n",
       "      <td>0.037458</td>\n",
       "      <td>0.003396</td>\n",
       "      <td>3.670517e-05</td>\n",
       "      <td>0</td>\n",
       "    </tr>\n",
       "    <tr>\n",
       "      <th>2</th>\n",
       "      <td>429.495258</td>\n",
       "      <td>32.021091</td>\n",
       "      <td>0.244436</td>\n",
       "      <td>0.065901</td>\n",
       "      <td>0.005557</td>\n",
       "      <td>0.155202</td>\n",
       "      <td>0.038807</td>\n",
       "      <td>0.002762</td>\n",
       "      <td>0.123285</td>\n",
       "      <td>0.025339</td>\n",
       "      <td>...</td>\n",
       "      <td>0.078205</td>\n",
       "      <td>0.012678</td>\n",
       "      <td>0.000567</td>\n",
       "      <td>0.052374</td>\n",
       "      <td>0.005935</td>\n",
       "      <td>9.395772e-05</td>\n",
       "      <td>0.037572</td>\n",
       "      <td>0.002932</td>\n",
       "      <td>2.237277e-05</td>\n",
       "      <td>0</td>\n",
       "    </tr>\n",
       "    <tr>\n",
       "      <th>3</th>\n",
       "      <td>512.675443</td>\n",
       "      <td>6.684734</td>\n",
       "      <td>0.102580</td>\n",
       "      <td>0.011369</td>\n",
       "      <td>0.000170</td>\n",
       "      <td>0.086306</td>\n",
       "      <td>0.007760</td>\n",
       "      <td>0.000071</td>\n",
       "      <td>0.068169</td>\n",
       "      <td>0.005386</td>\n",
       "      <td>...</td>\n",
       "      <td>0.044705</td>\n",
       "      <td>0.002376</td>\n",
       "      <td>0.000008</td>\n",
       "      <td>0.027895</td>\n",
       "      <td>0.001364</td>\n",
       "      <td>4.400042e-06</td>\n",
       "      <td>0.009012</td>\n",
       "      <td>0.000379</td>\n",
       "      <td>6.731099e-07</td>\n",
       "      <td>0</td>\n",
       "    </tr>\n",
       "    <tr>\n",
       "      <th>4</th>\n",
       "      <td>527.956859</td>\n",
       "      <td>133.985415</td>\n",
       "      <td>0.407009</td>\n",
       "      <td>0.191839</td>\n",
       "      <td>0.065169</td>\n",
       "      <td>0.291460</td>\n",
       "      <td>0.105479</td>\n",
       "      <td>0.029753</td>\n",
       "      <td>0.209341</td>\n",
       "      <td>0.049187</td>\n",
       "      <td>...</td>\n",
       "      <td>0.143768</td>\n",
       "      <td>0.033249</td>\n",
       "      <td>0.003689</td>\n",
       "      <td>0.135407</td>\n",
       "      <td>0.029054</td>\n",
       "      <td>2.593460e-03</td>\n",
       "      <td>0.110805</td>\n",
       "      <td>0.023179</td>\n",
       "      <td>2.202088e-03</td>\n",
       "      <td>0</td>\n",
       "    </tr>\n",
       "  </tbody>\n",
       "</table>\n",
       "<p>5 rows × 21 columns</p>\n",
       "</div>"
      ],
      "text/plain": [
       "           pT        mass  tau_1_0.5   tau_1_1   tau_1_2  tau_2_0.5   tau_2_1  \\\n",
       "0  543.633944   25.846792   0.165122  0.032661  0.002262   0.048830  0.003711   \n",
       "1  452.411860   13.388679   0.162938  0.027598  0.000876   0.095902  0.015461   \n",
       "2  429.495258   32.021091   0.244436  0.065901  0.005557   0.155202  0.038807   \n",
       "3  512.675443    6.684734   0.102580  0.011369  0.000170   0.086306  0.007760   \n",
       "4  527.956859  133.985415   0.407009  0.191839  0.065169   0.291460  0.105479   \n",
       "\n",
       "    tau_2_2  tau_3_0.5   tau_3_1  ...  tau_4_0.5   tau_4_1   tau_4_2  \\\n",
       "0  0.000044   0.030994  0.001630  ...   0.024336  0.001115  0.000008   \n",
       "1  0.000506   0.079750  0.009733  ...   0.056854  0.005454  0.000072   \n",
       "2  0.002762   0.123285  0.025339  ...   0.078205  0.012678  0.000567   \n",
       "3  0.000071   0.068169  0.005386  ...   0.044705  0.002376  0.000008   \n",
       "4  0.029753   0.209341  0.049187  ...   0.143768  0.033249  0.003689   \n",
       "\n",
       "   tau_5_0.5   tau_5_1       tau_5_2  tau_6_0.5   tau_6_1       tau_6_2  label  \n",
       "0   0.004252  0.000234  7.706005e-07   0.000000  0.000000  0.000000e+00      0  \n",
       "1   0.044211  0.004430  6.175314e-05   0.037458  0.003396  3.670517e-05      0  \n",
       "2   0.052374  0.005935  9.395772e-05   0.037572  0.002932  2.237277e-05      0  \n",
       "3   0.027895  0.001364  4.400042e-06   0.009012  0.000379  6.731099e-07      0  \n",
       "4   0.135407  0.029054  2.593460e-03   0.110805  0.023179  2.202088e-03      0  \n",
       "\n",
       "[5 rows x 21 columns]"
      ]
     },
     "execution_count": 11,
     "metadata": {},
     "output_type": "execute_result"
    }
   ],
   "source": [
    "train_df = train_ds.to_pandas()\n",
    "train_df.head()"
   ]
  },
  {
   "cell_type": "markdown",
   "id": "e619bf96-1e95-42ca-875a-970f6c0555ca",
   "metadata": {
    "tags": []
   },
   "source": [
    "## Introducing fastai\n",
    "\n",
    "Now that we've downloaded our dataset of $N$-subjettiness variables, it's time to train a model! To do so, we'll use the [fastai library](https://github.com/fastai/fastai). fastai is the most popular framework for training deep neural networks with PyTorch and provides various application-specific classes for different types of deep learning data structures and architectures. It is also designed with a _layered API_, which means:\n",
    "\n",
    "* We can use high-level components to quickly and easily get state-of-the-art results in standard deep learning domains\n",
    "* Low-level components can be mixed and matched to build new approaches\n",
    "\n",
    "In particular, this approach will allow us in later lessons to use pure PyTorch code to define our models, and then let fastai take care of the training loop (which is often an error-prone process).\n",
    "\n",
    "**Basics of the API**\n",
    "\n",
    "The most common steps one takes when training a model in fastai are:\n",
    "\n",
    "* Create `DataLoaders` to feed batches of data to the model\n",
    "* Create a `Learner` which wraps the architecture, optimizer, and data, and automatically chooses an appropriate loss function where possible\n",
    "* Find a good learning rate\n",
    "* Train your model\n",
    "* Evaluate your model\n",
    "\n",
    "Let's go through each of these steps to build a neural network that can classify top quark jets from the QCD background!"
   ]
  },
  {
   "cell_type": "markdown",
   "id": "f820a022-ca1e-40ef-8e8b-7007347c7e2c",
   "metadata": {},
   "source": [
    "### From data to DataLoaders"
   ]
  },
  {
   "cell_type": "markdown",
   "id": "35e75770-cb9c-44f2-af57-bed0b0548b7a",
   "metadata": {},
   "source": [
    "To wrangle our data in a format that's suitable for training neural nets, we need to create an object called `DataLoaders`. To turn our dataset into a `DataLoaders` object we need to specify:\n",
    "\n",
    "* What type of data we are dealing with (tabular, images, etc)\n",
    "* How to get the examples\n",
    "* How to label each example\n",
    "* How to create the validation set\n",
    "\n",
    "fastai provides a number of classes for different kinds of deep learning datasets and problems. In our case, the data is in a _tabular_ format (i.e. a table of rows and columns), so we can use the `TabularDataLoaders` class:"
   ]
  },
  {
   "cell_type": "code",
   "execution_count": 12,
   "id": "14740d2c-8c45-4bdb-bd86-f20ea4980100",
   "metadata": {},
   "outputs": [],
   "source": [
    "features = list(train_df.drop(columns=[\"label\"]).columns)\n",
    "splits = RandomSplitter(valid_pct=0.20, seed=42)(range_of(train_df))\n",
    "\n",
    "dls = TabularDataLoaders.from_df(\n",
    "    df=train_df,\n",
    "    procs=[Normalize],\n",
    "    cont_names=features,\n",
    "    y_names=\"label\",\n",
    "    y_block=CategoryBlock,\n",
    "    splits=splits,\n",
    "    bs=1024,\n",
    ")"
   ]
  },
  {
   "cell_type": "markdown",
   "id": "e46e17c6-ec3b-45d0-a68d-3c71ab602e79",
   "metadata": {},
   "source": [
    "Let's unpack this code a bit. The first thing we've specified is which columns of our dataset correspond to _continuous features_ via the `cont_names` argument. To do this, we've simply grabbed all column names from our `DataFrame`, except for the label column `is_signal_new`. Next, we've specified which column is the target in `y_names` and that this is a _categorical feature_ with `CategoryBlock`. Finally we've specified the training and validation splits with `RandomSplitter` and picked a batch size of 1,024 examples.\n",
    "\n",
    "After we've defined a `DataLoaders` object, we can take a look at the data by using the `show_batch()` method:"
   ]
  },
  {
   "cell_type": "code",
   "execution_count": 26,
   "id": "e6a95121-8dc4-4a66-a44a-04b1df40cf40",
   "metadata": {},
   "outputs": [
    {
     "data": {
      "text/html": [
       "<table border=\"1\" class=\"dataframe\">\n",
       "  <thead>\n",
       "    <tr style=\"text-align: right;\">\n",
       "      <th></th>\n",
       "      <th>pT</th>\n",
       "      <th>mass</th>\n",
       "      <th>tau_1_0.5</th>\n",
       "      <th>tau_1_1</th>\n",
       "      <th>tau_1_2</th>\n",
       "      <th>tau_2_0.5</th>\n",
       "      <th>tau_2_1</th>\n",
       "      <th>tau_2_2</th>\n",
       "      <th>tau_3_0.5</th>\n",
       "      <th>tau_3_1</th>\n",
       "      <th>tau_3_2</th>\n",
       "      <th>tau_4_0.5</th>\n",
       "      <th>tau_4_1</th>\n",
       "      <th>tau_4_2</th>\n",
       "      <th>tau_5_0.5</th>\n",
       "      <th>tau_5_1</th>\n",
       "      <th>tau_5_2</th>\n",
       "      <th>tau_6_0.5</th>\n",
       "      <th>tau_6_1</th>\n",
       "      <th>tau_6_2</th>\n",
       "      <th>label</th>\n",
       "    </tr>\n",
       "  </thead>\n",
       "  <tbody>\n",
       "    <tr>\n",
       "      <th>0</th>\n",
       "      <td>574.784485</td>\n",
       "      <td>13.332428</td>\n",
       "      <td>0.138154</td>\n",
       "      <td>0.019876</td>\n",
       "      <td>0.000538</td>\n",
       "      <td>0.061965</td>\n",
       "      <td>0.006697</td>\n",
       "      <td>0.000230</td>\n",
       "      <td>0.065045</td>\n",
       "      <td>0.006656</td>\n",
       "      <td>0.000195</td>\n",
       "      <td>0.048761</td>\n",
       "      <td>0.003922</td>\n",
       "      <td>0.000070</td>\n",
       "      <td>0.050943</td>\n",
       "      <td>0.003266</td>\n",
       "      <td>0.000024</td>\n",
       "      <td>0.026754</td>\n",
       "      <td>0.001647</td>\n",
       "      <td>0.000010</td>\n",
       "      <td>0</td>\n",
       "    </tr>\n",
       "    <tr>\n",
       "      <th>1</th>\n",
       "      <td>501.102509</td>\n",
       "      <td>39.174458</td>\n",
       "      <td>0.206847</td>\n",
       "      <td>0.056299</td>\n",
       "      <td>0.006105</td>\n",
       "      <td>0.194430</td>\n",
       "      <td>0.040987</td>\n",
       "      <td>0.002232</td>\n",
       "      <td>0.146444</td>\n",
       "      <td>0.025609</td>\n",
       "      <td>0.001216</td>\n",
       "      <td>0.123223</td>\n",
       "      <td>0.020604</td>\n",
       "      <td>0.000949</td>\n",
       "      <td>0.100829</td>\n",
       "      <td>0.014150</td>\n",
       "      <td>0.000495</td>\n",
       "      <td>0.088998</td>\n",
       "      <td>0.010900</td>\n",
       "      <td>0.000308</td>\n",
       "      <td>0</td>\n",
       "    </tr>\n",
       "    <tr>\n",
       "      <th>2</th>\n",
       "      <td>567.437622</td>\n",
       "      <td>9.216675</td>\n",
       "      <td>0.110880</td>\n",
       "      <td>0.013615</td>\n",
       "      <td>0.000264</td>\n",
       "      <td>0.096307</td>\n",
       "      <td>0.009623</td>\n",
       "      <td>0.000113</td>\n",
       "      <td>0.065800</td>\n",
       "      <td>0.005697</td>\n",
       "      <td>0.000070</td>\n",
       "      <td>0.047922</td>\n",
       "      <td>0.003633</td>\n",
       "      <td>0.000047</td>\n",
       "      <td>0.037871</td>\n",
       "      <td>0.002613</td>\n",
       "      <td>0.000034</td>\n",
       "      <td>0.032789</td>\n",
       "      <td>0.001841</td>\n",
       "      <td>0.000013</td>\n",
       "      <td>0</td>\n",
       "    </tr>\n",
       "    <tr>\n",
       "      <th>3</th>\n",
       "      <td>539.868835</td>\n",
       "      <td>23.757660</td>\n",
       "      <td>0.132505</td>\n",
       "      <td>0.022899</td>\n",
       "      <td>0.001936</td>\n",
       "      <td>0.030545</td>\n",
       "      <td>0.008723</td>\n",
       "      <td>0.000989</td>\n",
       "      <td>0.020687</td>\n",
       "      <td>0.004149</td>\n",
       "      <td>0.000315</td>\n",
       "      <td>0.012632</td>\n",
       "      <td>0.001686</td>\n",
       "      <td>0.000049</td>\n",
       "      <td>0.007565</td>\n",
       "      <td>0.000816</td>\n",
       "      <td>0.000016</td>\n",
       "      <td>0.000000</td>\n",
       "      <td>0.000000</td>\n",
       "      <td>0.000000</td>\n",
       "      <td>0</td>\n",
       "    </tr>\n",
       "    <tr>\n",
       "      <th>4</th>\n",
       "      <td>422.843536</td>\n",
       "      <td>132.651291</td>\n",
       "      <td>0.777256</td>\n",
       "      <td>1.156965</td>\n",
       "      <td>5.720111</td>\n",
       "      <td>0.667622</td>\n",
       "      <td>1.019123</td>\n",
       "      <td>5.020470</td>\n",
       "      <td>0.263406</td>\n",
       "      <td>0.078666</td>\n",
       "      <td>0.009806</td>\n",
       "      <td>0.252783</td>\n",
       "      <td>0.069123</td>\n",
       "      <td>0.007096</td>\n",
       "      <td>0.217115</td>\n",
       "      <td>0.054484</td>\n",
       "      <td>0.004853</td>\n",
       "      <td>0.151042</td>\n",
       "      <td>0.038717</td>\n",
       "      <td>0.004089</td>\n",
       "      <td>1</td>\n",
       "    </tr>\n",
       "    <tr>\n",
       "      <th>5</th>\n",
       "      <td>587.452759</td>\n",
       "      <td>62.928158</td>\n",
       "      <td>0.230171</td>\n",
       "      <td>0.067528</td>\n",
       "      <td>0.011430</td>\n",
       "      <td>0.170357</td>\n",
       "      <td>0.036579</td>\n",
       "      <td>0.003429</td>\n",
       "      <td>0.069455</td>\n",
       "      <td>0.015958</td>\n",
       "      <td>0.001586</td>\n",
       "      <td>0.065709</td>\n",
       "      <td>0.013273</td>\n",
       "      <td>0.000927</td>\n",
       "      <td>0.059193</td>\n",
       "      <td>0.010604</td>\n",
       "      <td>0.000652</td>\n",
       "      <td>0.052921</td>\n",
       "      <td>0.008185</td>\n",
       "      <td>0.000443</td>\n",
       "      <td>0</td>\n",
       "    </tr>\n",
       "    <tr>\n",
       "      <th>6</th>\n",
       "      <td>491.944061</td>\n",
       "      <td>99.821487</td>\n",
       "      <td>0.384619</td>\n",
       "      <td>0.160133</td>\n",
       "      <td>0.041574</td>\n",
       "      <td>0.335510</td>\n",
       "      <td>0.119861</td>\n",
       "      <td>0.019928</td>\n",
       "      <td>0.249578</td>\n",
       "      <td>0.078657</td>\n",
       "      <td>0.014242</td>\n",
       "      <td>0.198620</td>\n",
       "      <td>0.045096</td>\n",
       "      <td>0.003826</td>\n",
       "      <td>0.175008</td>\n",
       "      <td>0.035084</td>\n",
       "      <td>0.002018</td>\n",
       "      <td>0.145090</td>\n",
       "      <td>0.027215</td>\n",
       "      <td>0.001565</td>\n",
       "      <td>0</td>\n",
       "    </tr>\n",
       "    <tr>\n",
       "      <th>7</th>\n",
       "      <td>487.902222</td>\n",
       "      <td>119.334961</td>\n",
       "      <td>0.441847</td>\n",
       "      <td>0.208416</td>\n",
       "      <td>0.058362</td>\n",
       "      <td>0.220176</td>\n",
       "      <td>0.058952</td>\n",
       "      <td>0.011151</td>\n",
       "      <td>0.163015</td>\n",
       "      <td>0.031126</td>\n",
       "      <td>0.001688</td>\n",
       "      <td>0.135858</td>\n",
       "      <td>0.026392</td>\n",
       "      <td>0.001400</td>\n",
       "      <td>0.090691</td>\n",
       "      <td>0.017000</td>\n",
       "      <td>0.000987</td>\n",
       "      <td>0.060795</td>\n",
       "      <td>0.009315</td>\n",
       "      <td>0.000461</td>\n",
       "      <td>1</td>\n",
       "    </tr>\n",
       "    <tr>\n",
       "      <th>8</th>\n",
       "      <td>431.057739</td>\n",
       "      <td>126.224815</td>\n",
       "      <td>0.491624</td>\n",
       "      <td>0.256349</td>\n",
       "      <td>0.084556</td>\n",
       "      <td>0.385310</td>\n",
       "      <td>0.163532</td>\n",
       "      <td>0.038662</td>\n",
       "      <td>0.304986</td>\n",
       "      <td>0.098619</td>\n",
       "      <td>0.011374</td>\n",
       "      <td>0.205351</td>\n",
       "      <td>0.051473</td>\n",
       "      <td>0.004238</td>\n",
       "      <td>0.160375</td>\n",
       "      <td>0.034244</td>\n",
       "      <td>0.002101</td>\n",
       "      <td>0.109505</td>\n",
       "      <td>0.021336</td>\n",
       "      <td>0.001419</td>\n",
       "      <td>1</td>\n",
       "    </tr>\n",
       "    <tr>\n",
       "      <th>9</th>\n",
       "      <td>418.492065</td>\n",
       "      <td>149.723602</td>\n",
       "      <td>0.545503</td>\n",
       "      <td>0.311767</td>\n",
       "      <td>0.125643</td>\n",
       "      <td>0.328779</td>\n",
       "      <td>0.139683</td>\n",
       "      <td>0.041064</td>\n",
       "      <td>0.323026</td>\n",
       "      <td>0.119281</td>\n",
       "      <td>0.026864</td>\n",
       "      <td>0.207594</td>\n",
       "      <td>0.053539</td>\n",
       "      <td>0.006514</td>\n",
       "      <td>0.192407</td>\n",
       "      <td>0.044502</td>\n",
       "      <td>0.003744</td>\n",
       "      <td>0.167493</td>\n",
       "      <td>0.035936</td>\n",
       "      <td>0.002912</td>\n",
       "      <td>1</td>\n",
       "    </tr>\n",
       "  </tbody>\n",
       "</table>"
      ],
      "text/plain": [
       "<IPython.core.display.HTML object>"
      ]
     },
     "metadata": {},
     "output_type": "display_data"
    }
   ],
   "source": [
    "dls.show_batch()"
   ]
  },
  {
   "cell_type": "markdown",
   "id": "b94bdc16-7c76-4504-8783-0802b756d85a",
   "metadata": {},
   "source": [
    "### Create a Learner"
   ]
  },
  {
   "cell_type": "markdown",
   "id": "5e8da4e7-482c-41a0-85d4-409332091774",
   "metadata": {},
   "source": [
    "We can now create the `Learner` for this data. fastai provides various application-specific learner classes, each of which come with a set of good defaults for training. In our case, we'll use the `tabular_learner` class:"
   ]
  },
  {
   "cell_type": "code",
   "execution_count": 39,
   "id": "15a41f91-dafa-4f3c-95aa-59ca58030e3d",
   "metadata": {},
   "outputs": [],
   "source": [
    "learn = tabular_learner(\n",
    "    dls, layers=[200, 200, 50, 50], metrics=[accuracy, RocAucBinary()]\n",
    ")"
   ]
  },
  {
   "cell_type": "markdown",
   "id": "606cad43-2d4a-4040-89eb-6941d725cee3",
   "metadata": {},
   "source": [
    "By default, `tabular_learner` creates a neural network with two hidden layers and 200 and 100 activations each. This works great for small datasets, but since our dataset is quite large, we've increased the depth of the network by adding two more layers. \n",
    "\n",
    "We've also provided two common classification metrics to track during training: accuracy and the Area Under the ROC Curve (ROC AUC). The AUC is a good summary statistic of the predictiveness of a binary classifier. It varies from zero to one, and a value of 0.5 corresponds to randomness (the classifier cannot distinguish at all between \"signal\" and \"background\"), while a value of 1.0 means that it is perfect. The \"ROC\" refers to the Receiver Operating Characteristic curve which plots the true positive rate\n",
    "\n",
    "$$ \\mathrm{TPR} = \\frac{\\mathrm{TP}}{\\mathrm{TP} + \\mathrm{FP}} \\,, \\qquad \\mathrm{TP\\, (FP)} = \\mathrm{number\\, of\\, true\\, (false) \\,positives}\\,, $$\n",
    "\n",
    "against the false positive rate FPR, where the FPR is the ratio of negative instances that are incorrectly classified as positive. In general there is a tradeoff between these two quantities: the higher the TPR, the more false positives (FPR) the classifier produces.\n",
    "\n",
    "\n",
    "We'll look a ROC AUC in more detail later, so for now let's take a look at our network with the `summary()` method:"
   ]
  },
  {
   "cell_type": "code",
   "execution_count": 40,
   "id": "0527cd48-316a-494f-8ff1-9efc7e153fd6",
   "metadata": {},
   "outputs": [
    {
     "data": {
      "text/html": [
       "\n",
       "<style>\n",
       "    /* Turns off some styling */\n",
       "    progress {\n",
       "        /* gets rid of default border in Firefox and Opera. */\n",
       "        border: none;\n",
       "        /* Needs to be in here for Safari polyfill so background images work as expected. */\n",
       "        background-size: auto;\n",
       "    }\n",
       "    .progress-bar-interrupted, .progress-bar-interrupted::-webkit-progress-bar {\n",
       "        background: #F44336;\n",
       "    }\n",
       "</style>\n"
      ],
      "text/plain": [
       "<IPython.core.display.HTML object>"
      ]
     },
     "metadata": {},
     "output_type": "display_data"
    },
    {
     "data": {
      "text/html": [],
      "text/plain": [
       "<IPython.core.display.HTML object>"
      ]
     },
     "metadata": {},
     "output_type": "display_data"
    },
    {
     "data": {
      "text/plain": [
       "TabularModel (Input shape: 1024 x 0)\n",
       "============================================================================\n",
       "Layer (type)         Output Shape         Param #    Trainable \n",
       "============================================================================\n",
       "                     1024 x 20           \n",
       "BatchNorm1d                               40         True      \n",
       "____________________________________________________________________________\n",
       "                     1024 x 200          \n",
       "Linear                                    4000       True      \n",
       "ReLU                                                           \n",
       "BatchNorm1d                               400        True      \n",
       "Linear                                    40000      True      \n",
       "ReLU                                                           \n",
       "BatchNorm1d                               400        True      \n",
       "____________________________________________________________________________\n",
       "                     1024 x 50           \n",
       "Linear                                    10000      True      \n",
       "ReLU                                                           \n",
       "BatchNorm1d                               100        True      \n",
       "Linear                                    2500       True      \n",
       "ReLU                                                           \n",
       "BatchNorm1d                               100        True      \n",
       "____________________________________________________________________________\n",
       "                     1024 x 2            \n",
       "Linear                                    102        True      \n",
       "____________________________________________________________________________\n",
       "\n",
       "Total params: 57,642\n",
       "Total trainable params: 57,642\n",
       "Total non-trainable params: 0\n",
       "\n",
       "Optimizer used: <function Adam at 0x7fa650fcf4c0>\n",
       "Loss function: FlattenedLoss of CrossEntropyLoss()\n",
       "\n",
       "Callbacks:\n",
       "  - TrainEvalCallback\n",
       "  - Recorder\n",
       "  - ProgressCallback"
      ]
     },
     "execution_count": 40,
     "metadata": {},
     "output_type": "execute_result"
    }
   ],
   "source": [
    "learn.summary()"
   ]
  },
  {
   "cell_type": "markdown",
   "id": "6257d53c-30e0-4739-a634-8441fb36bb91",
   "metadata": {},
   "source": [
    "Here we can see that this particular network has around 56,000 parameters - although this sounds like a lot, it's actually a very small model by modern standards (e.g. in natural language processing, some models have hundreds of billions of parameters!)."
   ]
  },
  {
   "cell_type": "markdown",
   "id": "5a822240-e8c5-4560-88e5-cccae83d7a9a",
   "metadata": {},
   "source": [
    "### Find a good learning rate"
   ]
  },
  {
   "cell_type": "markdown",
   "id": "d142f032-6764-4d67-91cc-ce56c88f64d7",
   "metadata": {},
   "source": [
    "The learning rate is one of the most important hyperparameters involved in training neural networks, so it's important to make sure you've picked a good one. We'll see in the next lesson exactly how this parameter impacts training, but for now it is enough to know that:\n",
    "\n",
    "* If our learning rate is too low, it will take a long time to train the model and there is a good chance of overfitting.\n",
    "* If our learning rate is too high, the training process can diverge.\n",
    "\n",
    "To handle these two extremes, fastai provides a _learning rate finder_ that tracks the loss as we increase the learning rate. You can see this in action by using the `lr_find()` method of any `Learner`:"
   ]
  },
  {
   "cell_type": "code",
   "execution_count": 41,
   "id": "f1cd3ea0-df09-43e0-82a0-1db33bdc29a4",
   "metadata": {},
   "outputs": [
    {
     "data": {
      "text/html": [
       "\n",
       "<style>\n",
       "    /* Turns off some styling */\n",
       "    progress {\n",
       "        /* gets rid of default border in Firefox and Opera. */\n",
       "        border: none;\n",
       "        /* Needs to be in here for Safari polyfill so background images work as expected. */\n",
       "        background-size: auto;\n",
       "    }\n",
       "    .progress-bar-interrupted, .progress-bar-interrupted::-webkit-progress-bar {\n",
       "        background: #F44336;\n",
       "    }\n",
       "</style>\n"
      ],
      "text/plain": [
       "<IPython.core.display.HTML object>"
      ]
     },
     "metadata": {},
     "output_type": "display_data"
    },
    {
     "data": {
      "text/html": [],
      "text/plain": [
       "<IPython.core.display.HTML object>"
      ]
     },
     "metadata": {},
     "output_type": "display_data"
    },
    {
     "data": {
      "text/plain": [
       "SuggestedLRs(valley=0.0012022644514217973)"
      ]
     },
     "execution_count": 41,
     "metadata": {},
     "output_type": "execute_result"
    },
    {
     "data": {
      "image/png": "[encoded data removed]",
      "text/plain": [
       "<Figure size 432x288 with 1 Axes>"
      ]
     },
     "metadata": {
      "needs_background": "light"
     },
     "output_type": "display_data"
    }
   ],
   "source": [
    "learn.lr_find()"
   ]
  },
  {
   "cell_type": "markdown",
   "id": "5aac905b-9bd3-460e-bf79-70c806d9ccf4",
   "metadata": {},
   "source": [
    "From this curve we can see that the loss hits a minimum around a learning rate of $10^{-1}$, so we should select a learning rate lower than this point. The `lr_find()` method provides a handy heuristic to pick the learning rate 1-2 orders of magnitude less than the minimum, as indicated by the orange dot. "
   ]
  },
  {
   "cell_type": "markdown",
   "id": "766ad957-ff12-4cd5-b2b8-6aa35c9b9450",
   "metadata": {},
   "source": [
    "### Train your model"
   ]
  },
  {
   "cell_type": "markdown",
   "id": "af6b834e-e597-49f4-bfb7-30c48ac0b29d",
   "metadata": {},
   "source": [
    "In the above learning rate plot, it appears a learning rate of around 1e-3 would be good, so let's choose that and train our models for 3 epochs:"
   ]
  },
  {
   "cell_type": "code",
   "execution_count": 42,
   "id": "55669c54-12f5-4a76-a4b6-88c31fc6895a",
   "metadata": {},
   "outputs": [
    {
     "data": {
      "text/html": [
       "\n",
       "<style>\n",
       "    /* Turns off some styling */\n",
       "    progress {\n",
       "        /* gets rid of default border in Firefox and Opera. */\n",
       "        border: none;\n",
       "        /* Needs to be in here for Safari polyfill so background images work as expected. */\n",
       "        background-size: auto;\n",
       "    }\n",
       "    .progress-bar-interrupted, .progress-bar-interrupted::-webkit-progress-bar {\n",
       "        background: #F44336;\n",
       "    }\n",
       "</style>\n"
      ],
      "text/plain": [
       "<IPython.core.display.HTML object>"
      ]
     },
     "metadata": {},
     "output_type": "display_data"
    },
    {
     "data": {
      "text/html": [
       "<table border=\"1\" class=\"dataframe\">\n",
       "  <thead>\n",
       "    <tr style=\"text-align: left;\">\n",
       "      <th>epoch</th>\n",
       "      <th>train_loss</th>\n",
       "      <th>valid_loss</th>\n",
       "      <th>accuracy</th>\n",
       "      <th>roc_auc_score</th>\n",
       "      <th>time</th>\n",
       "    </tr>\n",
       "  </thead>\n",
       "  <tbody>\n",
       "    <tr>\n",
       "      <td>0</td>\n",
       "      <td>0.233523</td>\n",
       "      <td>0.238331</td>\n",
       "      <td>0.899719</td>\n",
       "      <td>0.963584</td>\n",
       "      <td>00:08</td>\n",
       "    </tr>\n",
       "    <tr>\n",
       "      <td>1</td>\n",
       "      <td>0.224499</td>\n",
       "      <td>0.225737</td>\n",
       "      <td>0.904042</td>\n",
       "      <td>0.968218</td>\n",
       "      <td>00:08</td>\n",
       "    </tr>\n",
       "    <tr>\n",
       "      <td>2</td>\n",
       "      <td>0.220300</td>\n",
       "      <td>0.223208</td>\n",
       "      <td>0.905206</td>\n",
       "      <td>0.968596</td>\n",
       "      <td>00:08</td>\n",
       "    </tr>\n",
       "  </tbody>\n",
       "</table>"
      ],
      "text/plain": [
       "<IPython.core.display.HTML object>"
      ]
     },
     "metadata": {},
     "output_type": "display_data"
    }
   ],
   "source": [
    "learn.fit_one_cycle(n_epoch=3, lr_max=1e-3)"
   ]
  },
  {
   "cell_type": "markdown",
   "id": "6e630b0a-7ae9-4f77-b0e3-291f976e73e8",
   "metadata": {},
   "source": [
    "Once the model is trained, we can view the results in various ways. A simple approach is to use the `show_results()` method to compare the model errors:"
   ]
  },
  {
   "cell_type": "code",
   "execution_count": 28,
   "id": "4949435c-9b95-4bad-8c9f-bfc2f1306494",
   "metadata": {},
   "outputs": [
    {
     "data": {
      "text/html": [
       "\n",
       "<style>\n",
       "    /* Turns off some styling */\n",
       "    progress {\n",
       "        /* gets rid of default border in Firefox and Opera. */\n",
       "        border: none;\n",
       "        /* Needs to be in here for Safari polyfill so background images work as expected. */\n",
       "        background-size: auto;\n",
       "    }\n",
       "    .progress-bar-interrupted, .progress-bar-interrupted::-webkit-progress-bar {\n",
       "        background: #F44336;\n",
       "    }\n",
       "</style>\n"
      ],
      "text/plain": [
       "<IPython.core.display.HTML object>"
      ]
     },
     "metadata": {},
     "output_type": "display_data"
    },
    {
     "data": {
      "text/html": [],
      "text/plain": [
       "<IPython.core.display.HTML object>"
      ]
     },
     "metadata": {},
     "output_type": "display_data"
    },
    {
     "data": {
      "text/html": [
       "<table border=\"1\" class=\"dataframe\">\n",
       "  <thead>\n",
       "    <tr style=\"text-align: right;\">\n",
       "      <th></th>\n",
       "      <th>tau_1_0.5</th>\n",
       "      <th>tau_1_1</th>\n",
       "      <th>tau_1_2</th>\n",
       "      <th>tau_2_0.5</th>\n",
       "      <th>tau_2_1</th>\n",
       "      <th>tau_2_2</th>\n",
       "      <th>tau_3_0.5</th>\n",
       "      <th>tau_3_1</th>\n",
       "      <th>tau_3_2</th>\n",
       "      <th>tau_4_0.5</th>\n",
       "      <th>tau_4_1</th>\n",
       "      <th>tau_4_2</th>\n",
       "      <th>is_signal_new</th>\n",
       "      <th>is_signal_new_pred</th>\n",
       "    </tr>\n",
       "  </thead>\n",
       "  <tbody>\n",
       "    <tr>\n",
       "      <th>0</th>\n",
       "      <td>-1.947309</td>\n",
       "      <td>0.926203</td>\n",
       "      <td>0.270699</td>\n",
       "      <td>-0.114332</td>\n",
       "      <td>1.249062</td>\n",
       "      <td>0.595708</td>\n",
       "      <td>-0.050255</td>\n",
       "      <td>0.315546</td>\n",
       "      <td>-0.052304</td>\n",
       "      <td>-0.063876</td>\n",
       "      <td>0.097168</td>\n",
       "      <td>-0.048806</td>\n",
       "      <td>1.0</td>\n",
       "      <td>1.0</td>\n",
       "    </tr>\n",
       "    <tr>\n",
       "      <th>1</th>\n",
       "      <td>0.879042</td>\n",
       "      <td>-0.368789</td>\n",
       "      <td>-0.231403</td>\n",
       "      <td>-0.139125</td>\n",
       "      <td>0.014944</td>\n",
       "      <td>-0.075256</td>\n",
       "      <td>-0.072862</td>\n",
       "      <td>-0.172220</td>\n",
       "      <td>-0.129792</td>\n",
       "      <td>-0.051958</td>\n",
       "      <td>-0.053092</td>\n",
       "      <td>-0.044962</td>\n",
       "      <td>1.0</td>\n",
       "      <td>1.0</td>\n",
       "    </tr>\n",
       "    <tr>\n",
       "      <th>2</th>\n",
       "      <td>0.803042</td>\n",
       "      <td>-1.738004</td>\n",
       "      <td>-0.576891</td>\n",
       "      <td>-0.159969</td>\n",
       "      <td>-1.816268</td>\n",
       "      <td>-0.627292</td>\n",
       "      <td>-0.107585</td>\n",
       "      <td>-1.883698</td>\n",
       "      <td>-0.676825</td>\n",
       "      <td>-0.069955</td>\n",
       "      <td>-0.679554</td>\n",
       "      <td>-0.054457</td>\n",
       "      <td>0.0</td>\n",
       "      <td>0.0</td>\n",
       "    </tr>\n",
       "    <tr>\n",
       "      <th>3</th>\n",
       "      <td>0.481037</td>\n",
       "      <td>0.874037</td>\n",
       "      <td>0.245544</td>\n",
       "      <td>-0.118403</td>\n",
       "      <td>0.556596</td>\n",
       "      <td>0.172138</td>\n",
       "      <td>-0.077974</td>\n",
       "      <td>0.027121</td>\n",
       "      <td>-0.105609</td>\n",
       "      <td>-0.062644</td>\n",
       "      <td>-0.474316</td>\n",
       "      <td>-0.053557</td>\n",
       "      <td>1.0</td>\n",
       "      <td>1.0</td>\n",
       "    </tr>\n",
       "    <tr>\n",
       "      <th>4</th>\n",
       "      <td>-0.984107</td>\n",
       "      <td>0.303840</td>\n",
       "      <td>0.009448</td>\n",
       "      <td>-0.127366</td>\n",
       "      <td>1.131559</td>\n",
       "      <td>0.434795</td>\n",
       "      <td>-0.068384</td>\n",
       "      <td>0.860640</td>\n",
       "      <td>0.384995</td>\n",
       "      <td>-0.045383</td>\n",
       "      <td>0.651991</td>\n",
       "      <td>-0.029641</td>\n",
       "      <td>1.0</td>\n",
       "      <td>1.0</td>\n",
       "    </tr>\n",
       "    <tr>\n",
       "      <th>5</th>\n",
       "      <td>0.106860</td>\n",
       "      <td>-0.679268</td>\n",
       "      <td>-0.375832</td>\n",
       "      <td>-0.154271</td>\n",
       "      <td>-0.522182</td>\n",
       "      <td>-0.244822</td>\n",
       "      <td>-0.094518</td>\n",
       "      <td>-0.375993</td>\n",
       "      <td>-0.198173</td>\n",
       "      <td>-0.062035</td>\n",
       "      <td>-0.180509</td>\n",
       "      <td>-0.048787</td>\n",
       "      <td>0.0</td>\n",
       "      <td>0.0</td>\n",
       "    </tr>\n",
       "    <tr>\n",
       "      <th>6</th>\n",
       "      <td>2.403219</td>\n",
       "      <td>-0.958923</td>\n",
       "      <td>-0.472849</td>\n",
       "      <td>-0.159017</td>\n",
       "      <td>-1.599104</td>\n",
       "      <td>-0.598868</td>\n",
       "      <td>-0.107379</td>\n",
       "      <td>-1.673422</td>\n",
       "      <td>-0.652416</td>\n",
       "      <td>-0.069832</td>\n",
       "      <td>-0.679554</td>\n",
       "      <td>-0.054457</td>\n",
       "      <td>0.0</td>\n",
       "      <td>0.0</td>\n",
       "    </tr>\n",
       "    <tr>\n",
       "      <th>7</th>\n",
       "      <td>0.136110</td>\n",
       "      <td>0.489993</td>\n",
       "      <td>0.131335</td>\n",
       "      <td>-0.109151</td>\n",
       "      <td>0.511853</td>\n",
       "      <td>0.020762</td>\n",
       "      <td>-0.093840</td>\n",
       "      <td>0.996578</td>\n",
       "      <td>0.314105</td>\n",
       "      <td>-0.054156</td>\n",
       "      <td>0.480184</td>\n",
       "      <td>-0.032850</td>\n",
       "      <td>1.0</td>\n",
       "      <td>0.0</td>\n",
       "    </tr>\n",
       "    <tr>\n",
       "      <th>8</th>\n",
       "      <td>1.945964</td>\n",
       "      <td>-1.420909</td>\n",
       "      <td>-0.524806</td>\n",
       "      <td>-0.157572</td>\n",
       "      <td>-1.066425</td>\n",
       "      <td>-0.497073</td>\n",
       "      <td>-0.101179</td>\n",
       "      <td>-0.930981</td>\n",
       "      <td>-0.491751</td>\n",
       "      <td>-0.063756</td>\n",
       "      <td>-0.524255</td>\n",
       "      <td>-0.053857</td>\n",
       "      <td>0.0</td>\n",
       "      <td>0.0</td>\n",
       "    </tr>\n",
       "  </tbody>\n",
       "</table>"
      ],
      "text/plain": [
       "<IPython.core.display.HTML object>"
      ]
     },
     "metadata": {},
     "output_type": "display_data"
    }
   ],
   "source": [
    "learn.show_results()"
   ]
  },
  {
   "cell_type": "markdown",
   "id": "11269ab4-6c51-4daa-ac7c-b3160d1963aa",
   "metadata": {},
   "source": [
    "Here we can see that model only made a handful of errors, which is expected since our accuracy is already around 90%. Evaluating our model’s predictions on the same data it was trained on is almost always a recipe for disaster! Why? The problem is that the model may memorise the structure of the data it sees and fail to provide good predictions when shown new data. Let's see how we can evaluate our model on the _test set_."
   ]
  },
  {
   "cell_type": "markdown",
   "id": "27e1675a-52a4-4fe4-b8c7-4fb5bb31f57b",
   "metadata": {},
   "source": [
    "### Evaluate your model"
   ]
  },
  {
   "cell_type": "markdown",
   "id": "5b4b0d46-f442-413d-8a30-a00a41c8de68",
   "metadata": {},
   "source": [
    "The learners in fastai are equipped with `predict()` and `get_preds()` methods that allow one to evaluae the model on new data. To use them, we'll need a new `DataLoader` which we can create by simply passing in a `DataFrame` of the test events:"
   ]
  },
  {
   "cell_type": "code",
   "execution_count": 18,
   "id": "40f2fa5a-6761-4976-8175-b63f658f5759",
   "metadata": {},
   "outputs": [],
   "source": [
    "test_df = nsubjet_ds[\"test\"].to_pandas()\n",
    "test_dl = learn.dls.test_dl(test_items=test_df)"
   ]
  },
  {
   "cell_type": "markdown",
   "id": "aa86813d-83aa-453a-835c-220698516e4b",
   "metadata": {},
   "source": [
    "Now that we have a `DataLoader`, it's a simple matter to compute the predictions with the `get_preds()` method:"
   ]
  },
  {
   "cell_type": "code",
   "execution_count": 19,
   "id": "dc011f96-f75a-4666-ba2b-3d80a0032b8b",
   "metadata": {},
   "outputs": [
    {
     "data": {
      "text/html": [
       "\n",
       "<style>\n",
       "    /* Turns off some styling */\n",
       "    progress {\n",
       "        /* gets rid of default border in Firefox and Opera. */\n",
       "        border: none;\n",
       "        /* Needs to be in here for Safari polyfill so background images work as expected. */\n",
       "        background-size: auto;\n",
       "    }\n",
       "    .progress-bar-interrupted, .progress-bar-interrupted::-webkit-progress-bar {\n",
       "        background: #F44336;\n",
       "    }\n",
       "</style>\n"
      ],
      "text/plain": [
       "<IPython.core.display.HTML object>"
      ]
     },
     "metadata": {},
     "output_type": "display_data"
    },
    {
     "data": {
      "text/html": [],
      "text/plain": [
       "<IPython.core.display.HTML object>"
      ]
     },
     "metadata": {},
     "output_type": "display_data"
    },
    {
     "data": {
      "text/plain": [
       "(torch.Size([404000, 2]), torch.Size([404000, 1]))"
      ]
     },
     "execution_count": 19,
     "metadata": {},
     "output_type": "execute_result"
    }
   ],
   "source": [
    "preds, targs = learn.get_preds(dl=test_dl)\n",
    "# Check the sizes of the predictions and targets\n",
    "preds.size(), targs.size()"
   ]
  },
  {
   "cell_type": "markdown",
   "id": "25e61fd2-dfd5-4689-b263-24e5ba7c754e",
   "metadata": {},
   "source": [
    "Here we can see that the predictions are stored in a 2D tensor, where each dimension corresponds to the _probabilities_ of the model for the two classes (signal vs background). Now, ROC curves effectively plot signal efficiency versus background rejection at various thresholds of some discriminating variable. Here that variable will be the output signal score of our neural network. To visualise the ROC curve we thus first need the scores for the signal and background predictions:"
   ]
  },
  {
   "cell_type": "code",
   "execution_count": 20,
   "id": "c8b80dd9-cea7-415f-a430-04858848cc90",
   "metadata": {},
   "outputs": [],
   "source": [
    "signal_test = preds[:, 1][targs.flatten() == 1].numpy()\n",
    "background_test = preds[:, 1][targs.flatten() == 0].numpy()"
   ]
  },
  {
   "cell_type": "markdown",
   "id": "10a994a2-01c8-423e-bdc8-451dff812320",
   "metadata": {},
   "source": [
    "We can then plot a histogram to visualise the distribution of the probabilities:"
   ]
  },
  {
   "cell_type": "code",
   "execution_count": 21,
   "id": "a8c1d399-dd8d-45f4-bf79-2f6d858c7325",
   "metadata": {},
   "outputs": [
    {
     "data": {
      "image/png": "[encoded data removed]",
      "text/plain": [
       "<Figure size 432x288 with 1 Axes>"
      ]
     },
     "metadata": {
      "needs_background": "light"
     },
     "output_type": "display_data"
    }
   ],
   "source": [
    "plt.subplots()\n",
    "plt.hist(signal_test, histtype=\"step\", bins=20, range=(0, 1), label=\"Signal\")\n",
    "plt.hist(background_test, histtype=\"step\", bins=20, range=(0, 1), label=\"Background\")\n",
    "plt.xlabel(\"Probability\")\n",
    "plt.ylabel(\"Events/bin\")\n",
    "plt.yscale(\"log\")\n",
    "plt.xlim(0, 1)\n",
    "plt.minorticks_on()\n",
    "\n",
    "plt.legend(loc=\"lower right\", frameon=False)\n",
    "plt.show()"
   ]
  },
  {
   "cell_type": "markdown",
   "id": "e648326c-9cf7-42f7-b53e-eaee0663b5b1",
   "metadata": {},
   "source": [
    "We see that although the model assigns high (low) probabilities to the signal (background) events, a fair amount of the signal events overlap with background ones.  To handle this, one usually defines a \"cut\" or threshold that only includes events above that value. For example, if define the cut at 0, then all the events are counted and the signal efficiency $\\epsilon_S$ and background efficieny $\\epsilon_B$ are both 1. As we increase the cut, we reject more and more background events and the result is a ROC curve with $\\epsilon_{B,S}$ ranging from 0 to 1.\n",
    "\n",
    "To visualise the ROC curve, we can use the handy `roc_curve()` function from scikit-learn:"
   ]
  },
  {
   "cell_type": "code",
   "execution_count": 22,
   "id": "f9b7f8be-9052-4ea2-a934-252287270494",
   "metadata": {},
   "outputs": [
    {
     "data": {
      "image/png": "[encoded data removed]",
      "text/plain": [
       "<Figure size 432x288 with 1 Axes>"
      ]
     },
     "metadata": {
      "needs_background": "light"
     },
     "output_type": "display_data"
    }
   ],
   "source": [
    "# fpr = epsilon_B, tpr = epsilon_S\n",
    "fpr, tpr, thresholds = roc_curve(y_true=targs, y_score=preds[:, 1])\n",
    "\n",
    "plt.plot(fpr, tpr)\n",
    "plt.plot([0, 1], [0, 1], ls=\"--\", color=\"k\")\n",
    "plt.xlabel(r\"$\\epsilon_B$\")\n",
    "plt.ylabel(r\"$\\epsilon_S$\")\n",
    "plt.tight_layout()"
   ]
  },
  {
   "cell_type": "markdown",
   "id": "1b08279d-c668-44e4-9ff7-4899a9399fc4",
   "metadata": {},
   "source": [
    "A perfect classifier would have a ROC curve with all signal and background events correctly identified, i.e. an area of 1. Let's compute this area along with the accuracy on the test set:"
   ]
  },
  {
   "cell_type": "code",
   "execution_count": 23,
   "id": "3a2fbae1-2d9e-4cef-9fa8-037798ace714",
   "metadata": {},
   "outputs": [
    {
     "name": "stdout",
     "output_type": "stream",
     "text": [
      "Accuracy: 0.9014\n",
      "AUC: 0.9671\n"
     ]
    }
   ],
   "source": [
    "acc_test = accuracy_score(targs, preds.argmax(dim=-1))\n",
    "auc_test = auc(fpr, tpr)\n",
    "print(f\"Accuracy: {acc_test:.4f}\")\n",
    "print(f\"AUC: {auc_test:.4f}\")"
   ]
  },
  {
   "cell_type": "markdown",
   "id": "d4833e3f-3f3e-4118-9685-8943be0e7324",
   "metadata": {},
   "source": [
    "Since the AUC is dominated by values at large $\\epsilon_B$, it is common to also report the background rejection at a fixed signal efficiency (often 30%). We can do that bu defining an interpolating function across the `tpr` and `fpr` values as follows:"
   ]
  },
  {
   "cell_type": "code",
   "execution_count": 24,
   "id": "6278fd5e-9ddf-4cd6-b270-7698f2aa3406",
   "metadata": {},
   "outputs": [
    {
     "name": "stdout",
     "output_type": "stream",
     "text": [
      "The backround rejection at signal efficiency 0.3 is 365.786\n"
     ]
    }
   ],
   "source": [
    "background_eff = interp1d(tpr, fpr)\n",
    "background_eff_at_30 = background_eff(0.3)\n",
    "print(f\"The backround rejection at signal efficiency 0.3 is {1/background_eff_at_30:0.3f}\")"
   ]
  },
  {
   "cell_type": "markdown",
   "id": "81b8576f-dab8-4bb9-a33a-ad2fbf814073",
   "metadata": {},
   "source": [
    "Comparing these results again the [_The Machine Learning Landscape of Top Taggers_](https://arxiv.org/abs/1902.09914) review, shows that our model hasn't done too poorly - only a few percentage points behind the state-of-the-art from 2019 and it only took around a minute to train our model!"
   ]
  },
  {
   "cell_type": "markdown",
   "id": "cc7ada3a-c68b-4922-a488-a01fbe76c77c",
   "metadata": {},
   "source": [
    "<img src=\"images/top-tagging-scores.png\" alt=\"fishy\" class=\"bg-primary mb-1\" width=\"800px\">"
   ]
  },
  {
   "cell_type": "markdown",
   "id": "17cefc83-3533-4349-9b54-67388dcff91d",
   "metadata": {},
   "source": [
    "To wrap up, let's visualise the ROC curves in terms of background rejection and signal efficiency:"
   ]
  },
  {
   "cell_type": "code",
   "execution_count": 25,
   "id": "69360f07-f1e7-40c2-9dfb-751e0a907553",
   "metadata": {},
   "outputs": [
    {
     "data": {
      "image/png": "[encoded data removed]",
      "text/plain": [
       "<Figure size 432x288 with 1 Axes>"
      ]
     },
     "metadata": {
      "needs_background": "light"
     },
     "output_type": "display_data"
    }
   ],
   "source": [
    "plt.plot(tpr, 1 / (fpr + 1e-6), label=\"4-body $N$-subjettiness\")\n",
    "plt.xlabel(\"Signal efficiency $\\epsilon_{S}$\")\n",
    "plt.ylabel(\"Background rejection $1/\\epsilon_{B}$\")\n",
    "plt.xlim(0, 1)\n",
    "plt.yscale(\"log\")\n",
    "plt.legend()\n",
    "plt.show()"
   ]
  },
  {
   "cell_type": "markdown",
   "id": "faf036fd-8e01-4c73-b8a6-8ea22858685e",
   "metadata": {},
   "source": [
    "## Scratch for CNNs"
   ]
  },
  {
   "cell_type": "code",
   "execution_count": 1,
   "id": "30152ba4-9464-4906-9a68-ad03bc57847e",
   "metadata": {},
   "outputs": [],
   "source": [
    "from fastai.vision.all import *"
   ]
  },
  {
   "cell_type": "code",
   "execution_count": 20,
   "id": "4f695b20-596b-48cd-86ab-c0f8c8850e9d",
   "metadata": {},
   "outputs": [
    {
     "name": "stderr",
     "output_type": "stream",
     "text": [
      "Using custom data configuration dl4phys--top_landscape_images-1db221bb78f88b54\n",
      "Reusing dataset parquet (/home/lewis/.cache/huggingface/datasets/parquet/dl4phys--top_landscape_images-1db221bb78f88b54/0.0.0/0b6d5799bb726b24ad7fc7be720c170d8e497f575d02d47537de9a5bac074901)\n"
     ]
    },
    {
     "data": {
      "application/vnd.jupyter.widget-view+json": {
       "model_id": "5ab86585dfc24c0a85e5dc34b99c0776",
       "version_major": 2,
       "version_minor": 0
      },
      "text/plain": [
       "  0%|          | 0/3 [00:00<?, ?it/s]"
      ]
     },
     "metadata": {},
     "output_type": "display_data"
    }
   ],
   "source": [
    "images_ds = load_dataset(\"dl4phys/top_landscape_images\")"
   ]
  },
  {
   "cell_type": "code",
   "execution_count": 21,
   "id": "81e9bf83-87bb-4f0a-b047-4f21ff0bc115",
   "metadata": {},
   "outputs": [],
   "source": [
    "def transforms(examples):\n",
    "    examples[\"image\"] = [np.array(image) for image in examples[\"image\"]]\n",
    "    return examples\n",
    "\n",
    "transformed_dataset = images_ds.with_transform(transforms)"
   ]
  },
  {
   "cell_type": "code",
   "execution_count": 22,
   "id": "b518de31-730b-4329-8b40-3aa0c53b793b",
   "metadata": {},
   "outputs": [],
   "source": [
    "from torch.utils.data import DataLoader"
   ]
  },
  {
   "cell_type": "code",
   "execution_count": 45,
   "id": "1b625fc8-92dd-46e9-9e94-4c15d4474b09",
   "metadata": {},
   "outputs": [],
   "source": [
    "train_dataloader = DataLoader(\n",
    "     transformed_dataset[\"train\"], batch_size=32, shuffle=True, num_workers=1\n",
    ")\n",
    "test_dataloader = DataLoader(\n",
    "     transformed_dataset[\"test\"], batch_size=32, shuffle=True, num_workers=1\n",
    ")"
   ]
  },
  {
   "cell_type": "code",
   "execution_count": 46,
   "id": "df848abf-e755-4464-82fa-ca74e302c640",
   "metadata": {},
   "outputs": [
    {
     "data": {
      "text/plain": [
       "{'image': tensor([[[0, 0, 0,  ..., 0, 0, 0],\n",
       "          [0, 0, 0,  ..., 0, 0, 0],\n",
       "          [0, 0, 0,  ..., 0, 0, 0],\n",
       "          ...,\n",
       "          [0, 0, 0,  ..., 0, 0, 0],\n",
       "          [0, 0, 0,  ..., 0, 0, 0],\n",
       "          [0, 0, 0,  ..., 0, 0, 0]],\n",
       " \n",
       "         [[0, 0, 0,  ..., 0, 0, 0],\n",
       "          [0, 0, 0,  ..., 0, 0, 0],\n",
       "          [0, 0, 0,  ..., 0, 0, 0],\n",
       "          ...,\n",
       "          [0, 0, 0,  ..., 0, 0, 0],\n",
       "          [0, 0, 0,  ..., 0, 0, 0],\n",
       "          [0, 0, 0,  ..., 0, 0, 0]],\n",
       " \n",
       "         [[0, 0, 0,  ..., 0, 0, 0],\n",
       "          [0, 0, 0,  ..., 0, 0, 0],\n",
       "          [0, 0, 0,  ..., 0, 0, 0],\n",
       "          ...,\n",
       "          [0, 0, 0,  ..., 0, 0, 0],\n",
       "          [0, 0, 0,  ..., 0, 0, 0],\n",
       "          [0, 0, 0,  ..., 0, 0, 0]],\n",
       " \n",
       "         ...,\n",
       " \n",
       "         [[0, 0, 0,  ..., 0, 0, 0],\n",
       "          [0, 0, 0,  ..., 0, 0, 0],\n",
       "          [0, 0, 0,  ..., 0, 0, 0],\n",
       "          ...,\n",
       "          [0, 0, 0,  ..., 0, 0, 0],\n",
       "          [0, 0, 0,  ..., 0, 0, 0],\n",
       "          [0, 0, 0,  ..., 0, 0, 0]],\n",
       " \n",
       "         [[0, 0, 0,  ..., 0, 0, 0],\n",
       "          [0, 0, 0,  ..., 0, 0, 0],\n",
       "          [0, 0, 0,  ..., 0, 0, 0],\n",
       "          ...,\n",
       "          [0, 0, 0,  ..., 0, 0, 0],\n",
       "          [0, 0, 0,  ..., 0, 0, 0],\n",
       "          [0, 0, 0,  ..., 0, 0, 0]],\n",
       " \n",
       "         [[0, 0, 0,  ..., 0, 0, 0],\n",
       "          [0, 0, 0,  ..., 0, 0, 0],\n",
       "          [0, 0, 0,  ..., 0, 0, 0],\n",
       "          ...,\n",
       "          [0, 0, 0,  ..., 0, 0, 0],\n",
       "          [0, 0, 0,  ..., 0, 0, 0],\n",
       "          [0, 0, 0,  ..., 0, 0, 0]]], dtype=torch.uint8),\n",
       " 'label': tensor([0, 0, 1, 0, 0, 1, 1, 0, 0, 1, 0, 0, 1, 1, 0, 1, 0, 1, 0, 1, 1, 1, 0, 0,\n",
       "         1, 0, 0, 1, 1, 1, 0, 1])}"
      ]
     },
     "execution_count": 46,
     "metadata": {},
     "output_type": "execute_result"
    }
   ],
   "source": [
    "next(iter(train_dataloader))"
   ]
  },
  {
   "cell_type": "code",
   "execution_count": 47,
   "id": "e20ee8b9-017f-4fe8-bb40-28ec6eae09dc",
   "metadata": {},
   "outputs": [
    {
     "data": {
      "text/plain": [
       "Dataset({\n",
       "    features: ['image', 'label'],\n",
       "    num_rows: 1211000\n",
       "})"
      ]
     },
     "execution_count": 47,
     "metadata": {},
     "output_type": "execute_result"
    }
   ],
   "source": [
    "train_dataloader.dataset"
   ]
  },
  {
   "cell_type": "code",
   "execution_count": 48,
   "id": "27b5470d-3f1e-415e-8b7a-c9948373c329",
   "metadata": {},
   "outputs": [],
   "source": [
    "dls = DataLoaders(train_dataloader, test_dataloader)"
   ]
  },
  {
   "cell_type": "code",
   "execution_count": 101,
   "id": "2c6cedd0-6d89-4161-876f-396897019943",
   "metadata": {},
   "outputs": [
    {
     "ename": "AttributeError",
     "evalue": "'function' object has no attribute 'fs'",
     "output_type": "error",
     "traceback": [
      "\u001b[0;31m---------------------------------------------------------------------------\u001b[0m",
      "\u001b[0;31mAttributeError\u001b[0m                            Traceback (most recent call last)",
      "Input \u001b[0;32mIn [101]\u001b[0m, in \u001b[0;36m<cell line: 1>\u001b[0;34m()\u001b[0m\n\u001b[0;32m----> 1\u001b[0m \u001b[43mdls\u001b[49m\u001b[38;5;241;43m.\u001b[39;49m\u001b[43mafter_batch\u001b[49m\u001b[38;5;241;43m.\u001b[39;49m\u001b[43mfs\u001b[49m\n",
      "\u001b[0;31mAttributeError\u001b[0m: 'function' object has no attribute 'fs'"
     ]
    }
   ],
   "source": [
    "dls.after_batch.fs"
   ]
  },
  {
   "cell_type": "code",
   "execution_count": 95,
   "id": "c81737c7-53c3-4666-881e-32b7eba3e56a",
   "metadata": {},
   "outputs": [
    {
     "ename": "AttributeError",
     "evalue": "'function' object has no attribute 'fs'",
     "output_type": "error",
     "traceback": [
      "\u001b[0;31m---------------------------------------------------------------------------\u001b[0m",
      "\u001b[0;31mAttributeError\u001b[0m                            Traceback (most recent call last)",
      "Input \u001b[0;32mIn [95]\u001b[0m, in \u001b[0;36m<cell line: 1>\u001b[0;34m()\u001b[0m\n\u001b[0;32m----> 1\u001b[0m learn \u001b[38;5;241m=\u001b[39m \u001b[43mcnn_learner\u001b[49m\u001b[43m(\u001b[49m\u001b[43mdls\u001b[49m\u001b[43m,\u001b[49m\u001b[43m \u001b[49m\u001b[43mresnet34\u001b[49m\u001b[43m,\u001b[49m\u001b[43m \u001b[49m\u001b[43mmetrics\u001b[49m\u001b[38;5;241;43m=\u001b[39;49m\u001b[43maccuracy\u001b[49m\u001b[43m)\u001b[49m\n\u001b[1;32m      2\u001b[0m learn\u001b[38;5;241m.\u001b[39mfine_tune(\u001b[38;5;241m1\u001b[39m)\n",
      "File \u001b[0;32m~/miniconda3/envs/dl4phys/lib/python3.9/site-packages/fastai/vision/learner.py:175\u001b[0m, in \u001b[0;36mcnn_learner\u001b[0;34m(dls, arch, normalize, n_out, pretrained, config, loss_func, opt_func, lr, splitter, cbs, metrics, path, model_dir, wd, wd_bn_bias, train_bn, moms, **kwargs)\u001b[0m\n\u001b[1;32m    172\u001b[0m     kwargs \u001b[38;5;241m=\u001b[39m {\u001b[38;5;241m*\u001b[39m\u001b[38;5;241m*\u001b[39mconfig, \u001b[38;5;241m*\u001b[39m\u001b[38;5;241m*\u001b[39mkwargs}\n\u001b[1;32m    174\u001b[0m meta \u001b[38;5;241m=\u001b[39m model_meta\u001b[38;5;241m.\u001b[39mget(arch, _default_meta)\n\u001b[0;32m--> 175\u001b[0m \u001b[38;5;28;01mif\u001b[39;00m normalize: \u001b[43m_add_norm\u001b[49m\u001b[43m(\u001b[49m\u001b[43mdls\u001b[49m\u001b[43m,\u001b[49m\u001b[43m \u001b[49m\u001b[43mmeta\u001b[49m\u001b[43m,\u001b[49m\u001b[43m \u001b[49m\u001b[43mpretrained\u001b[49m\u001b[43m)\u001b[49m\n\u001b[1;32m    177\u001b[0m \u001b[38;5;28;01mif\u001b[39;00m n_out \u001b[38;5;129;01mis\u001b[39;00m \u001b[38;5;28;01mNone\u001b[39;00m: n_out \u001b[38;5;241m=\u001b[39m get_c(dls)\n\u001b[1;32m    178\u001b[0m \u001b[38;5;28;01massert\u001b[39;00m n_out, \u001b[38;5;124m\"\u001b[39m\u001b[38;5;124m`n_out` is not defined, and could not be inferred from data, set `dls.c` or pass `n_out`\u001b[39m\u001b[38;5;124m\"\u001b[39m\n",
      "File \u001b[0;32m~/miniconda3/envs/dl4phys/lib/python3.9/site-packages/fastai/vision/learner.py:157\u001b[0m, in \u001b[0;36m_add_norm\u001b[0;34m(dls, meta, pretrained)\u001b[0m\n\u001b[1;32m    155\u001b[0m stats \u001b[38;5;241m=\u001b[39m meta\u001b[38;5;241m.\u001b[39mget(\u001b[38;5;124m'\u001b[39m\u001b[38;5;124mstats\u001b[39m\u001b[38;5;124m'\u001b[39m)\n\u001b[1;32m    156\u001b[0m \u001b[38;5;28;01mif\u001b[39;00m stats \u001b[38;5;129;01mis\u001b[39;00m \u001b[38;5;28;01mNone\u001b[39;00m: \u001b[38;5;28;01mreturn\u001b[39;00m\n\u001b[0;32m--> 157\u001b[0m \u001b[38;5;28;01mif\u001b[39;00m \u001b[38;5;129;01mnot\u001b[39;00m \u001b[43mdls\u001b[49m\u001b[38;5;241;43m.\u001b[39;49m\u001b[43mafter_batch\u001b[49m\u001b[38;5;241;43m.\u001b[39;49m\u001b[43mfs\u001b[49m\u001b[38;5;241m.\u001b[39mfilter(risinstance(Normalize)):\n\u001b[1;32m    158\u001b[0m     dls\u001b[38;5;241m.\u001b[39madd_tfms([Normalize\u001b[38;5;241m.\u001b[39mfrom_stats(\u001b[38;5;241m*\u001b[39mstats)],\u001b[38;5;124m'\u001b[39m\u001b[38;5;124mafter_batch\u001b[39m\u001b[38;5;124m'\u001b[39m)\n",
      "\u001b[0;31mAttributeError\u001b[0m: 'function' object has no attribute 'fs'"
     ]
    }
   ],
   "source": [
    "learn = cnn_learner(dls, resnet34, metrics=accuracy)\n",
    "learn.fine_tune(1)"
   ]
  },
  {
   "cell_type": "code",
   "execution_count": 103,
   "id": "27be1ae3-6ea0-4f41-b129-4803239f7d91",
   "metadata": {},
   "outputs": [
    {
     "data": {
      "text/html": [
       "\n",
       "<style>\n",
       "    /* Turns off some styling */\n",
       "    progress {\n",
       "        /* gets rid of default border in Firefox and Opera. */\n",
       "        border: none;\n",
       "        /* Needs to be in here for Safari polyfill so background images work as expected. */\n",
       "        background-size: auto;\n",
       "    }\n",
       "    .progress-bar-interrupted, .progress-bar-interrupted::-webkit-progress-bar {\n",
       "        background: #F44336;\n",
       "    }\n",
       "</style>\n"
      ],
      "text/plain": [
       "<IPython.core.display.HTML object>"
      ]
     },
     "metadata": {},
     "output_type": "display_data"
    },
    {
     "data": {
      "text/html": [
       "\n",
       "    <div>\n",
       "      <progress value='811712512' class='' max='811706944' style='width:300px; height:20px; vertical-align: middle;'></progress>\n",
       "      100.00% [811712512/811706944 01:12<00:00]\n",
       "    </div>\n",
       "    "
      ],
      "text/plain": [
       "<IPython.core.display.HTML object>"
      ]
     },
     "metadata": {},
     "output_type": "display_data"
    }
   ],
   "source": [
    "path = untar_data(URLs.PETS)\n"
   ]
  },
  {
   "cell_type": "code",
   "execution_count": 104,
   "id": "0490585c-e8f1-4e01-b58d-2f0fb67424f5",
   "metadata": {},
   "outputs": [],
   "source": [
    "files = get_image_files(path/\"images\")\n"
   ]
  },
  {
   "cell_type": "code",
   "execution_count": 105,
   "id": "d08d351a-b0ef-4f20-8042-59722e90e3ed",
   "metadata": {},
   "outputs": [],
   "source": [
    "def label_func(f): return f[0].isupper()\n"
   ]
  },
  {
   "cell_type": "code",
   "execution_count": 106,
   "id": "a5ecfe42-e797-4318-ade6-e670c66296e0",
   "metadata": {},
   "outputs": [],
   "source": [
    "dls = ImageDataLoaders.from_name_func(path, files, label_func, item_tfms=Resize(224))\n"
   ]
  },
  {
   "cell_type": "code",
   "execution_count": 11,
   "id": "4b5aad3a-b990-4674-aa20-853f99f4d957",
   "metadata": {},
   "outputs": [
    {
     "ename": "AttributeError",
     "evalue": "'function' object has no attribute 'fs'",
     "output_type": "error",
     "traceback": [
      "\u001b[0;31m---------------------------------------------------------------------------\u001b[0m",
      "\u001b[0;31mAttributeError\u001b[0m                            Traceback (most recent call last)",
      "Input \u001b[0;32mIn [11]\u001b[0m, in \u001b[0;36m<cell line: 1>\u001b[0;34m()\u001b[0m\n\u001b[0;32m----> 1\u001b[0m learn \u001b[38;5;241m=\u001b[39m \u001b[43mcnn_learner\u001b[49m\u001b[43m(\u001b[49m\u001b[43mdls\u001b[49m\u001b[43m,\u001b[49m\u001b[43m \u001b[49m\u001b[43mresnet34\u001b[49m\u001b[43m,\u001b[49m\u001b[43m \u001b[49m\u001b[43mmetrics\u001b[49m\u001b[38;5;241;43m=\u001b[39;49m\u001b[43merror_rate\u001b[49m\u001b[43m)\u001b[49m\n\u001b[1;32m      2\u001b[0m learn\u001b[38;5;241m.\u001b[39mfine_tune(\u001b[38;5;241m1\u001b[39m)\n",
      "File \u001b[0;32m~/miniconda3/envs/dl4phys/lib/python3.9/site-packages/fastai/vision/learner.py:175\u001b[0m, in \u001b[0;36mcnn_learner\u001b[0;34m(dls, arch, normalize, n_out, pretrained, config, loss_func, opt_func, lr, splitter, cbs, metrics, path, model_dir, wd, wd_bn_bias, train_bn, moms, **kwargs)\u001b[0m\n\u001b[1;32m    172\u001b[0m     kwargs \u001b[38;5;241m=\u001b[39m {\u001b[38;5;241m*\u001b[39m\u001b[38;5;241m*\u001b[39mconfig, \u001b[38;5;241m*\u001b[39m\u001b[38;5;241m*\u001b[39mkwargs}\n\u001b[1;32m    174\u001b[0m meta \u001b[38;5;241m=\u001b[39m model_meta\u001b[38;5;241m.\u001b[39mget(arch, _default_meta)\n\u001b[0;32m--> 175\u001b[0m \u001b[38;5;28;01mif\u001b[39;00m normalize: \u001b[43m_add_norm\u001b[49m\u001b[43m(\u001b[49m\u001b[43mdls\u001b[49m\u001b[43m,\u001b[49m\u001b[43m \u001b[49m\u001b[43mmeta\u001b[49m\u001b[43m,\u001b[49m\u001b[43m \u001b[49m\u001b[43mpretrained\u001b[49m\u001b[43m)\u001b[49m\n\u001b[1;32m    177\u001b[0m \u001b[38;5;28;01mif\u001b[39;00m n_out \u001b[38;5;129;01mis\u001b[39;00m \u001b[38;5;28;01mNone\u001b[39;00m: n_out \u001b[38;5;241m=\u001b[39m get_c(dls)\n\u001b[1;32m    178\u001b[0m \u001b[38;5;28;01massert\u001b[39;00m n_out, \u001b[38;5;124m\"\u001b[39m\u001b[38;5;124m`n_out` is not defined, and could not be inferred from data, set `dls.c` or pass `n_out`\u001b[39m\u001b[38;5;124m\"\u001b[39m\n",
      "File \u001b[0;32m~/miniconda3/envs/dl4phys/lib/python3.9/site-packages/fastai/vision/learner.py:157\u001b[0m, in \u001b[0;36m_add_norm\u001b[0;34m(dls, meta, pretrained)\u001b[0m\n\u001b[1;32m    155\u001b[0m stats \u001b[38;5;241m=\u001b[39m meta\u001b[38;5;241m.\u001b[39mget(\u001b[38;5;124m'\u001b[39m\u001b[38;5;124mstats\u001b[39m\u001b[38;5;124m'\u001b[39m)\n\u001b[1;32m    156\u001b[0m \u001b[38;5;28;01mif\u001b[39;00m stats \u001b[38;5;129;01mis\u001b[39;00m \u001b[38;5;28;01mNone\u001b[39;00m: \u001b[38;5;28;01mreturn\u001b[39;00m\n\u001b[0;32m--> 157\u001b[0m \u001b[38;5;28;01mif\u001b[39;00m \u001b[38;5;129;01mnot\u001b[39;00m \u001b[43mdls\u001b[49m\u001b[38;5;241;43m.\u001b[39;49m\u001b[43mafter_batch\u001b[49m\u001b[38;5;241;43m.\u001b[39;49m\u001b[43mfs\u001b[49m\u001b[38;5;241m.\u001b[39mfilter(risinstance(Normalize)):\n\u001b[1;32m    158\u001b[0m     dls\u001b[38;5;241m.\u001b[39madd_tfms([Normalize\u001b[38;5;241m.\u001b[39mfrom_stats(\u001b[38;5;241m*\u001b[39mstats)],\u001b[38;5;124m'\u001b[39m\u001b[38;5;124mafter_batch\u001b[39m\u001b[38;5;124m'\u001b[39m)\n",
      "\u001b[0;31mAttributeError\u001b[0m: 'function' object has no attribute 'fs'"
     ]
    }
   ],
   "source": [
    "learn = cnn_learner(dls, resnet34, metrics=error_rate)\n",
    "learn.fine_tune(1)"
   ]
  },
  {
   "cell_type": "code",
   "execution_count": 4,
   "id": "25cceb03-d850-4d4f-bc61-027e89490f70",
   "metadata": {},
   "outputs": [],
   "source": [
    "from torchvision import datasets\n",
    "import torchvision.transforms as transforms\n"
   ]
  },
  {
   "cell_type": "code",
   "execution_count": 5,
   "id": "aebd4ce6-a950-4392-87b9-c56909b7d506",
   "metadata": {},
   "outputs": [],
   "source": [
    "tfms = transforms.Compose([transforms.ToTensor(),\n",
    "                                 transforms.Normalize((0.1307,), (0.3081))\n",
    "])"
   ]
  },
  {
   "cell_type": "code",
   "execution_count": 53,
   "id": "adeba59a-1c3e-4726-a94c-0d8ccc9a930d",
   "metadata": {},
   "outputs": [],
   "source": [
    "train_dset = datasets.MNIST('./data', train=True, download=True, transform=tfms)\n"
   ]
  },
  {
   "cell_type": "code",
   "execution_count": 54,
   "id": "d47af51d-511e-42a6-b3f7-6349902aacd5",
   "metadata": {},
   "outputs": [
    {
     "data": {
      "text/plain": [
       "Dataset MNIST\n",
       "    Number of datapoints: 60000\n",
       "    Root location: ./data\n",
       "    Split: Train\n",
       "    StandardTransform\n",
       "Transform: Compose(\n",
       "               ToTensor()\n",
       "               Normalize(mean=(0.1307,), std=0.3081)\n",
       "           )"
      ]
     },
     "execution_count": 54,
     "metadata": {},
     "output_type": "execute_result"
    }
   ],
   "source": [
    "train_dset"
   ]
  },
  {
   "cell_type": "code",
   "execution_count": 55,
   "id": "a286fcb1-3c69-4c5c-8706-1fc2998f2590",
   "metadata": {},
   "outputs": [],
   "source": [
    "train_loader = DataLoader(train_dset, batch_size=256, \n",
    "                          shuffle=True, num_workers=1, pin_memory=True)"
   ]
  },
  {
   "cell_type": "code",
   "execution_count": 57,
   "id": "8972d0c3-06c1-4297-a0f6-c987f6357218",
   "metadata": {},
   "outputs": [
    {
     "data": {
      "text/plain": [
       "2"
      ]
     },
     "execution_count": 57,
     "metadata": {},
     "output_type": "execute_result"
    }
   ],
   "source": [
    "next(iter(train_loader))"
   ]
  },
  {
   "cell_type": "code",
   "execution_count": 34,
   "id": "7fc4f671-b17f-44ad-807b-8e55dad13985",
   "metadata": {},
   "outputs": [],
   "source": [
    "dls = DataLoaders(train_loader)\n"
   ]
  },
  {
   "cell_type": "code",
   "execution_count": 35,
   "id": "9b209a55-663d-4e30-badc-c0b40a494fc1",
   "metadata": {},
   "outputs": [],
   "source": [
    "from torch import nn"
   ]
  },
  {
   "cell_type": "code",
   "execution_count": 36,
   "id": "d386d3ea-a84b-4cd8-962b-1387f8757b83",
   "metadata": {},
   "outputs": [],
   "source": [
    "class Flatten(nn.Module):\n",
    "    \"Flattens an input\"\n",
    "    def forward(self, x): return x.view(x.size(0), -1)"
   ]
  },
  {
   "cell_type": "code",
   "execution_count": 41,
   "id": "76d927ce-8d31-41ef-95e1-e28052f93d58",
   "metadata": {},
   "outputs": [],
   "source": [
    "class Net(nn.Sequential):\n",
    "    def __init__(self):\n",
    "        super().__init__(\n",
    "            nn.Conv2d(1, 32, 3, 1), nn.ReLU(),\n",
    "            nn.Conv2d(32, 64, 3, 1), \n",
    "            # A head to the model\n",
    "            nn.MaxPool2d(2), nn.Dropout2d(0.25),\n",
    "            Flatten(), nn.Linear(9216, 128), nn.ReLU(),\n",
    "            nn.Dropout2d(0.5), nn.Linear(128, 10), nn.LogSoftmax(dim=1)\n",
    "        )"
   ]
  },
  {
   "cell_type": "code",
   "execution_count": 42,
   "id": "15b42cc4-1def-4335-b091-c10dfea71fee",
   "metadata": {},
   "outputs": [],
   "source": [
    "import torch.nn.functional as F\n"
   ]
  },
  {
   "cell_type": "code",
   "execution_count": 49,
   "id": "09c71a12-a1fa-4073-804e-5a7631f8e74e",
   "metadata": {},
   "outputs": [],
   "source": [
    "learn = Learner(dls, Net(), loss_func=F.nll_loss)"
   ]
  },
  {
   "cell_type": "code",
   "execution_count": 50,
   "id": "850cc7c0-b00a-43d9-94f0-f6003eebeeb1",
   "metadata": {},
   "outputs": [
    {
     "data": {
      "text/html": [
       "\n",
       "<style>\n",
       "    /* Turns off some styling */\n",
       "    progress {\n",
       "        /* gets rid of default border in Firefox and Opera. */\n",
       "        border: none;\n",
       "        /* Needs to be in here for Safari polyfill so background images work as expected. */\n",
       "        background-size: auto;\n",
       "    }\n",
       "    .progress-bar-interrupted, .progress-bar-interrupted::-webkit-progress-bar {\n",
       "        background: #F44336;\n",
       "    }\n",
       "</style>\n"
      ],
      "text/plain": [
       "<IPython.core.display.HTML object>"
      ]
     },
     "metadata": {},
     "output_type": "display_data"
    },
    {
     "data": {
      "text/html": [
       "\n",
       "    <div>\n",
       "      <progress value='0' class='' max='1' style='width:300px; height:20px; vertical-align: middle;'></progress>\n",
       "      0.00% [0/1 00:00<00:00]\n",
       "    </div>\n",
       "    \n",
       "\n",
       "\n",
       "    <div>\n",
       "      <progress value='0' class='' max='37844' style='width:300px; height:20px; vertical-align: middle;'></progress>\n",
       "      0.00% [0/37844 00:00<00:00]\n",
       "    </div>\n",
       "    "
      ],
      "text/plain": [
       "<IPython.core.display.HTML object>"
      ]
     },
     "metadata": {},
     "output_type": "display_data"
    },
    {
     "ename": "TypeError",
     "evalue": "unhashable type: 'slice'",
     "output_type": "error",
     "traceback": [
      "\u001b[0;31m---------------------------------------------------------------------------\u001b[0m",
      "\u001b[0;31mTypeError\u001b[0m                                 Traceback (most recent call last)",
      "Input \u001b[0;32mIn [50]\u001b[0m, in \u001b[0;36m<cell line: 1>\u001b[0;34m()\u001b[0m\n\u001b[0;32m----> 1\u001b[0m \u001b[43mlearn\u001b[49m\u001b[38;5;241;43m.\u001b[39;49m\u001b[43mlr_find\u001b[49m\u001b[43m(\u001b[49m\u001b[43m)\u001b[49m\n",
      "File \u001b[0;32m~/miniconda3/envs/dl4phys/lib/python3.9/site-packages/fastai/callback/schedule.py:289\u001b[0m, in \u001b[0;36mlr_find\u001b[0;34m(self, start_lr, end_lr, num_it, stop_div, show_plot, suggest_funcs)\u001b[0m\n\u001b[1;32m    287\u001b[0m n_epoch \u001b[38;5;241m=\u001b[39m num_it\u001b[38;5;241m/\u001b[39m\u001b[38;5;241m/\u001b[39m\u001b[38;5;28mlen\u001b[39m(\u001b[38;5;28mself\u001b[39m\u001b[38;5;241m.\u001b[39mdls\u001b[38;5;241m.\u001b[39mtrain) \u001b[38;5;241m+\u001b[39m \u001b[38;5;241m1\u001b[39m\n\u001b[1;32m    288\u001b[0m cb\u001b[38;5;241m=\u001b[39mLRFinder(start_lr\u001b[38;5;241m=\u001b[39mstart_lr, end_lr\u001b[38;5;241m=\u001b[39mend_lr, num_it\u001b[38;5;241m=\u001b[39mnum_it, stop_div\u001b[38;5;241m=\u001b[39mstop_div)\n\u001b[0;32m--> 289\u001b[0m \u001b[38;5;28;01mwith\u001b[39;00m \u001b[38;5;28mself\u001b[39m\u001b[38;5;241m.\u001b[39mno_logging(): \u001b[38;5;28;43mself\u001b[39;49m\u001b[38;5;241;43m.\u001b[39;49m\u001b[43mfit\u001b[49m\u001b[43m(\u001b[49m\u001b[43mn_epoch\u001b[49m\u001b[43m,\u001b[49m\u001b[43m \u001b[49m\u001b[43mcbs\u001b[49m\u001b[38;5;241;43m=\u001b[39;49m\u001b[43mcb\u001b[49m\u001b[43m)\u001b[49m\n\u001b[1;32m    290\u001b[0m \u001b[38;5;28;01mif\u001b[39;00m suggest_funcs \u001b[38;5;129;01mis\u001b[39;00m \u001b[38;5;129;01mnot\u001b[39;00m \u001b[38;5;28;01mNone\u001b[39;00m:\n\u001b[1;32m    291\u001b[0m     lrs, losses \u001b[38;5;241m=\u001b[39m tensor(\u001b[38;5;28mself\u001b[39m\u001b[38;5;241m.\u001b[39mrecorder\u001b[38;5;241m.\u001b[39mlrs[num_it\u001b[38;5;241m/\u001b[39m\u001b[38;5;241m/\u001b[39m\u001b[38;5;241m10\u001b[39m:\u001b[38;5;241m-\u001b[39m\u001b[38;5;241m5\u001b[39m]), tensor(\u001b[38;5;28mself\u001b[39m\u001b[38;5;241m.\u001b[39mrecorder\u001b[38;5;241m.\u001b[39mlosses[num_it\u001b[38;5;241m/\u001b[39m\u001b[38;5;241m/\u001b[39m\u001b[38;5;241m10\u001b[39m:\u001b[38;5;241m-\u001b[39m\u001b[38;5;241m5\u001b[39m])\n",
      "File \u001b[0;32m~/miniconda3/envs/dl4phys/lib/python3.9/site-packages/fastai/learner.py:221\u001b[0m, in \u001b[0;36mLearner.fit\u001b[0;34m(self, n_epoch, lr, wd, cbs, reset_opt)\u001b[0m\n\u001b[1;32m    219\u001b[0m \u001b[38;5;28mself\u001b[39m\u001b[38;5;241m.\u001b[39mopt\u001b[38;5;241m.\u001b[39mset_hypers(lr\u001b[38;5;241m=\u001b[39m\u001b[38;5;28mself\u001b[39m\u001b[38;5;241m.\u001b[39mlr \u001b[38;5;28;01mif\u001b[39;00m lr \u001b[38;5;129;01mis\u001b[39;00m \u001b[38;5;28;01mNone\u001b[39;00m \u001b[38;5;28;01melse\u001b[39;00m lr)\n\u001b[1;32m    220\u001b[0m \u001b[38;5;28mself\u001b[39m\u001b[38;5;241m.\u001b[39mn_epoch \u001b[38;5;241m=\u001b[39m n_epoch\n\u001b[0;32m--> 221\u001b[0m \u001b[38;5;28;43mself\u001b[39;49m\u001b[38;5;241;43m.\u001b[39;49m\u001b[43m_with_events\u001b[49m\u001b[43m(\u001b[49m\u001b[38;5;28;43mself\u001b[39;49m\u001b[38;5;241;43m.\u001b[39;49m\u001b[43m_do_fit\u001b[49m\u001b[43m,\u001b[49m\u001b[43m \u001b[49m\u001b[38;5;124;43m'\u001b[39;49m\u001b[38;5;124;43mfit\u001b[39;49m\u001b[38;5;124;43m'\u001b[39;49m\u001b[43m,\u001b[49m\u001b[43m \u001b[49m\u001b[43mCancelFitException\u001b[49m\u001b[43m,\u001b[49m\u001b[43m \u001b[49m\u001b[38;5;28;43mself\u001b[39;49m\u001b[38;5;241;43m.\u001b[39;49m\u001b[43m_end_cleanup\u001b[49m\u001b[43m)\u001b[49m\n",
      "File \u001b[0;32m~/miniconda3/envs/dl4phys/lib/python3.9/site-packages/fastai/learner.py:163\u001b[0m, in \u001b[0;36mLearner._with_events\u001b[0;34m(self, f, event_type, ex, final)\u001b[0m\n\u001b[1;32m    162\u001b[0m \u001b[38;5;28;01mdef\u001b[39;00m \u001b[38;5;21m_with_events\u001b[39m(\u001b[38;5;28mself\u001b[39m, f, event_type, ex, final\u001b[38;5;241m=\u001b[39mnoop):\n\u001b[0;32m--> 163\u001b[0m     \u001b[38;5;28;01mtry\u001b[39;00m: \u001b[38;5;28mself\u001b[39m(\u001b[38;5;124mf\u001b[39m\u001b[38;5;124m'\u001b[39m\u001b[38;5;124mbefore_\u001b[39m\u001b[38;5;132;01m{\u001b[39;00mevent_type\u001b[38;5;132;01m}\u001b[39;00m\u001b[38;5;124m'\u001b[39m);  \u001b[43mf\u001b[49m\u001b[43m(\u001b[49m\u001b[43m)\u001b[49m\n\u001b[1;32m    164\u001b[0m     \u001b[38;5;28;01mexcept\u001b[39;00m ex: \u001b[38;5;28mself\u001b[39m(\u001b[38;5;124mf\u001b[39m\u001b[38;5;124m'\u001b[39m\u001b[38;5;124mafter_cancel_\u001b[39m\u001b[38;5;132;01m{\u001b[39;00mevent_type\u001b[38;5;132;01m}\u001b[39;00m\u001b[38;5;124m'\u001b[39m)\n\u001b[1;32m    165\u001b[0m     \u001b[38;5;28mself\u001b[39m(\u001b[38;5;124mf\u001b[39m\u001b[38;5;124m'\u001b[39m\u001b[38;5;124mafter_\u001b[39m\u001b[38;5;132;01m{\u001b[39;00mevent_type\u001b[38;5;132;01m}\u001b[39;00m\u001b[38;5;124m'\u001b[39m);  final()\n",
      "File \u001b[0;32m~/miniconda3/envs/dl4phys/lib/python3.9/site-packages/fastai/learner.py:212\u001b[0m, in \u001b[0;36mLearner._do_fit\u001b[0;34m(self)\u001b[0m\n\u001b[1;32m    210\u001b[0m \u001b[38;5;28;01mfor\u001b[39;00m epoch \u001b[38;5;129;01min\u001b[39;00m \u001b[38;5;28mrange\u001b[39m(\u001b[38;5;28mself\u001b[39m\u001b[38;5;241m.\u001b[39mn_epoch):\n\u001b[1;32m    211\u001b[0m     \u001b[38;5;28mself\u001b[39m\u001b[38;5;241m.\u001b[39mepoch\u001b[38;5;241m=\u001b[39mepoch\n\u001b[0;32m--> 212\u001b[0m     \u001b[38;5;28;43mself\u001b[39;49m\u001b[38;5;241;43m.\u001b[39;49m\u001b[43m_with_events\u001b[49m\u001b[43m(\u001b[49m\u001b[38;5;28;43mself\u001b[39;49m\u001b[38;5;241;43m.\u001b[39;49m\u001b[43m_do_epoch\u001b[49m\u001b[43m,\u001b[49m\u001b[43m \u001b[49m\u001b[38;5;124;43m'\u001b[39;49m\u001b[38;5;124;43mepoch\u001b[39;49m\u001b[38;5;124;43m'\u001b[39;49m\u001b[43m,\u001b[49m\u001b[43m \u001b[49m\u001b[43mCancelEpochException\u001b[49m\u001b[43m)\u001b[49m\n",
      "File \u001b[0;32m~/miniconda3/envs/dl4phys/lib/python3.9/site-packages/fastai/learner.py:163\u001b[0m, in \u001b[0;36mLearner._with_events\u001b[0;34m(self, f, event_type, ex, final)\u001b[0m\n\u001b[1;32m    162\u001b[0m \u001b[38;5;28;01mdef\u001b[39;00m \u001b[38;5;21m_with_events\u001b[39m(\u001b[38;5;28mself\u001b[39m, f, event_type, ex, final\u001b[38;5;241m=\u001b[39mnoop):\n\u001b[0;32m--> 163\u001b[0m     \u001b[38;5;28;01mtry\u001b[39;00m: \u001b[38;5;28mself\u001b[39m(\u001b[38;5;124mf\u001b[39m\u001b[38;5;124m'\u001b[39m\u001b[38;5;124mbefore_\u001b[39m\u001b[38;5;132;01m{\u001b[39;00mevent_type\u001b[38;5;132;01m}\u001b[39;00m\u001b[38;5;124m'\u001b[39m);  \u001b[43mf\u001b[49m\u001b[43m(\u001b[49m\u001b[43m)\u001b[49m\n\u001b[1;32m    164\u001b[0m     \u001b[38;5;28;01mexcept\u001b[39;00m ex: \u001b[38;5;28mself\u001b[39m(\u001b[38;5;124mf\u001b[39m\u001b[38;5;124m'\u001b[39m\u001b[38;5;124mafter_cancel_\u001b[39m\u001b[38;5;132;01m{\u001b[39;00mevent_type\u001b[38;5;132;01m}\u001b[39;00m\u001b[38;5;124m'\u001b[39m)\n\u001b[1;32m    165\u001b[0m     \u001b[38;5;28mself\u001b[39m(\u001b[38;5;124mf\u001b[39m\u001b[38;5;124m'\u001b[39m\u001b[38;5;124mafter_\u001b[39m\u001b[38;5;132;01m{\u001b[39;00mevent_type\u001b[38;5;132;01m}\u001b[39;00m\u001b[38;5;124m'\u001b[39m);  final()\n",
      "File \u001b[0;32m~/miniconda3/envs/dl4phys/lib/python3.9/site-packages/fastai/learner.py:206\u001b[0m, in \u001b[0;36mLearner._do_epoch\u001b[0;34m(self)\u001b[0m\n\u001b[1;32m    205\u001b[0m \u001b[38;5;28;01mdef\u001b[39;00m \u001b[38;5;21m_do_epoch\u001b[39m(\u001b[38;5;28mself\u001b[39m):\n\u001b[0;32m--> 206\u001b[0m     \u001b[38;5;28;43mself\u001b[39;49m\u001b[38;5;241;43m.\u001b[39;49m\u001b[43m_do_epoch_train\u001b[49m\u001b[43m(\u001b[49m\u001b[43m)\u001b[49m\n\u001b[1;32m    207\u001b[0m     \u001b[38;5;28mself\u001b[39m\u001b[38;5;241m.\u001b[39m_do_epoch_validate()\n",
      "File \u001b[0;32m~/miniconda3/envs/dl4phys/lib/python3.9/site-packages/fastai/learner.py:198\u001b[0m, in \u001b[0;36mLearner._do_epoch_train\u001b[0;34m(self)\u001b[0m\n\u001b[1;32m    196\u001b[0m \u001b[38;5;28;01mdef\u001b[39;00m \u001b[38;5;21m_do_epoch_train\u001b[39m(\u001b[38;5;28mself\u001b[39m):\n\u001b[1;32m    197\u001b[0m     \u001b[38;5;28mself\u001b[39m\u001b[38;5;241m.\u001b[39mdl \u001b[38;5;241m=\u001b[39m \u001b[38;5;28mself\u001b[39m\u001b[38;5;241m.\u001b[39mdls\u001b[38;5;241m.\u001b[39mtrain\n\u001b[0;32m--> 198\u001b[0m     \u001b[38;5;28;43mself\u001b[39;49m\u001b[38;5;241;43m.\u001b[39;49m\u001b[43m_with_events\u001b[49m\u001b[43m(\u001b[49m\u001b[38;5;28;43mself\u001b[39;49m\u001b[38;5;241;43m.\u001b[39;49m\u001b[43mall_batches\u001b[49m\u001b[43m,\u001b[49m\u001b[43m \u001b[49m\u001b[38;5;124;43m'\u001b[39;49m\u001b[38;5;124;43mtrain\u001b[39;49m\u001b[38;5;124;43m'\u001b[39;49m\u001b[43m,\u001b[49m\u001b[43m \u001b[49m\u001b[43mCancelTrainException\u001b[49m\u001b[43m)\u001b[49m\n",
      "File \u001b[0;32m~/miniconda3/envs/dl4phys/lib/python3.9/site-packages/fastai/learner.py:163\u001b[0m, in \u001b[0;36mLearner._with_events\u001b[0;34m(self, f, event_type, ex, final)\u001b[0m\n\u001b[1;32m    162\u001b[0m \u001b[38;5;28;01mdef\u001b[39;00m \u001b[38;5;21m_with_events\u001b[39m(\u001b[38;5;28mself\u001b[39m, f, event_type, ex, final\u001b[38;5;241m=\u001b[39mnoop):\n\u001b[0;32m--> 163\u001b[0m     \u001b[38;5;28;01mtry\u001b[39;00m: \u001b[38;5;28mself\u001b[39m(\u001b[38;5;124mf\u001b[39m\u001b[38;5;124m'\u001b[39m\u001b[38;5;124mbefore_\u001b[39m\u001b[38;5;132;01m{\u001b[39;00mevent_type\u001b[38;5;132;01m}\u001b[39;00m\u001b[38;5;124m'\u001b[39m);  \u001b[43mf\u001b[49m\u001b[43m(\u001b[49m\u001b[43m)\u001b[49m\n\u001b[1;32m    164\u001b[0m     \u001b[38;5;28;01mexcept\u001b[39;00m ex: \u001b[38;5;28mself\u001b[39m(\u001b[38;5;124mf\u001b[39m\u001b[38;5;124m'\u001b[39m\u001b[38;5;124mafter_cancel_\u001b[39m\u001b[38;5;132;01m{\u001b[39;00mevent_type\u001b[38;5;132;01m}\u001b[39;00m\u001b[38;5;124m'\u001b[39m)\n\u001b[1;32m    165\u001b[0m     \u001b[38;5;28mself\u001b[39m(\u001b[38;5;124mf\u001b[39m\u001b[38;5;124m'\u001b[39m\u001b[38;5;124mafter_\u001b[39m\u001b[38;5;132;01m{\u001b[39;00mevent_type\u001b[38;5;132;01m}\u001b[39;00m\u001b[38;5;124m'\u001b[39m);  final()\n",
      "File \u001b[0;32m~/miniconda3/envs/dl4phys/lib/python3.9/site-packages/fastai/learner.py:169\u001b[0m, in \u001b[0;36mLearner.all_batches\u001b[0;34m(self)\u001b[0m\n\u001b[1;32m    167\u001b[0m \u001b[38;5;28;01mdef\u001b[39;00m \u001b[38;5;21mall_batches\u001b[39m(\u001b[38;5;28mself\u001b[39m):\n\u001b[1;32m    168\u001b[0m     \u001b[38;5;28mself\u001b[39m\u001b[38;5;241m.\u001b[39mn_iter \u001b[38;5;241m=\u001b[39m \u001b[38;5;28mlen\u001b[39m(\u001b[38;5;28mself\u001b[39m\u001b[38;5;241m.\u001b[39mdl)\n\u001b[0;32m--> 169\u001b[0m     \u001b[38;5;28;01mfor\u001b[39;00m o \u001b[38;5;129;01min\u001b[39;00m \u001b[38;5;28menumerate\u001b[39m(\u001b[38;5;28mself\u001b[39m\u001b[38;5;241m.\u001b[39mdl): \u001b[38;5;28;43mself\u001b[39;49m\u001b[38;5;241;43m.\u001b[39;49m\u001b[43mone_batch\u001b[49m\u001b[43m(\u001b[49m\u001b[38;5;241;43m*\u001b[39;49m\u001b[43mo\u001b[49m\u001b[43m)\u001b[49m\n",
      "File \u001b[0;32m~/miniconda3/envs/dl4phys/lib/python3.9/site-packages/fastai/learner.py:193\u001b[0m, in \u001b[0;36mLearner.one_batch\u001b[0;34m(self, i, b)\u001b[0m\n\u001b[1;32m    191\u001b[0m \u001b[38;5;28mself\u001b[39m\u001b[38;5;241m.\u001b[39miter \u001b[38;5;241m=\u001b[39m i\n\u001b[1;32m    192\u001b[0m b \u001b[38;5;241m=\u001b[39m \u001b[38;5;28mself\u001b[39m\u001b[38;5;241m.\u001b[39m_set_device(b)\n\u001b[0;32m--> 193\u001b[0m \u001b[38;5;28;43mself\u001b[39;49m\u001b[38;5;241;43m.\u001b[39;49m\u001b[43m_split\u001b[49m\u001b[43m(\u001b[49m\u001b[43mb\u001b[49m\u001b[43m)\u001b[49m\n\u001b[1;32m    194\u001b[0m \u001b[38;5;28mself\u001b[39m\u001b[38;5;241m.\u001b[39m_with_events(\u001b[38;5;28mself\u001b[39m\u001b[38;5;241m.\u001b[39m_do_one_batch, \u001b[38;5;124m'\u001b[39m\u001b[38;5;124mbatch\u001b[39m\u001b[38;5;124m'\u001b[39m, CancelBatchException)\n",
      "File \u001b[0;32m~/miniconda3/envs/dl4phys/lib/python3.9/site-packages/fastai/learner.py:160\u001b[0m, in \u001b[0;36mLearner._split\u001b[0;34m(self, b)\u001b[0m\n\u001b[1;32m    158\u001b[0m \u001b[38;5;28;01mdef\u001b[39;00m \u001b[38;5;21m_split\u001b[39m(\u001b[38;5;28mself\u001b[39m, b):\n\u001b[1;32m    159\u001b[0m     i \u001b[38;5;241m=\u001b[39m \u001b[38;5;28mgetattr\u001b[39m(\u001b[38;5;28mself\u001b[39m\u001b[38;5;241m.\u001b[39mdls, \u001b[38;5;124m'\u001b[39m\u001b[38;5;124mn_inp\u001b[39m\u001b[38;5;124m'\u001b[39m, \u001b[38;5;241m1\u001b[39m \u001b[38;5;28;01mif\u001b[39;00m \u001b[38;5;28mlen\u001b[39m(b)\u001b[38;5;241m==\u001b[39m\u001b[38;5;241m1\u001b[39m \u001b[38;5;28;01melse\u001b[39;00m \u001b[38;5;28mlen\u001b[39m(b)\u001b[38;5;241m-\u001b[39m\u001b[38;5;241m1\u001b[39m)\n\u001b[0;32m--> 160\u001b[0m     \u001b[38;5;28mself\u001b[39m\u001b[38;5;241m.\u001b[39mxb,\u001b[38;5;28mself\u001b[39m\u001b[38;5;241m.\u001b[39myb \u001b[38;5;241m=\u001b[39m \u001b[43mb\u001b[49m\u001b[43m[\u001b[49m\u001b[43m:\u001b[49m\u001b[43mi\u001b[49m\u001b[43m]\u001b[49m,b[i:]\n",
      "\u001b[0;31mTypeError\u001b[0m: unhashable type: 'slice'"
     ]
    }
   ],
   "source": [
    "learn.lr_find()"
   ]
  },
  {
   "cell_type": "code",
   "execution_count": null,
   "id": "7bfe2d17-6e70-48bf-801c-049993b6b886",
   "metadata": {},
   "outputs": [],
   "source": []
  }
 ],
 "metadata": {
  "kernelspec": {
   "display_name": "Python 3 (ipykernel)",
   "language": "python",
   "name": "python3"
  },
  "language_info": {
   "codemirror_mode": {
    "name": "ipython",
    "version": 3
   },
   "file_extension": ".py",
   "mimetype": "text/x-python",
   "name": "python",
   "nbconvert_exporter": "python",
   "pygments_lexer": "ipython3",
   "version": "3.9.11"
  }
 },
 "nbformat": 4,
 "nbformat_minor": 5
}
