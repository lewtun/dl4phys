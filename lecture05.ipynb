{
 "cells": [
  {
   "cell_type": "markdown",
   "id": "d715d6a9-c3d7-492f-aa7d-6465b264d01c",
   "metadata": {},
   "source": [
    "## Lecture 5 - Convolutional neural networks"
   ]
  },
  {
   "cell_type": "markdown",
   "id": "dda90d94-084b-46a7-98e0-19c4c3e63c34",
   "metadata": {},
   "source": [
    "> A deep dive into convolutional neural networks for jet tagging"
   ]
  },
  {
   "cell_type": "markdown",
   "id": "33cd450c-b40e-4116-8619-6647371d0661",
   "metadata": {},
   "source": [
    "## Learning objectives\n",
    "\n",
    "* Know how to implement and train a convolutional neural network in PyTorch\n",
    "* Learn how to debug unstable training runs with activation statistics\n",
    "* Understand what the 1-cycle training policy is\n",
    "* Understand what batch normalization is and how to incorporate it into a CNN"
   ]
  },
  {
   "cell_type": "markdown",
   "id": "9df3227f-1c01-4552-804f-d8324dc539db",
   "metadata": {},
   "source": [
    "## References\n",
    "\n",
    "* Chapter 13 of [_Deep Learning for Coders with fastai & PyTorch_](https://github.com/fastai/fastbook) by Jeremy Howard and Sylvain Gugger.\n",
    "* Chapter 11 of [_Hands-On Machine Learning with Scikit-Learn, Keras, and TensorFlow_](https://www.amazon.com/Hands-Machine-Learning-Scikit-Learn-TensorFlow/dp/1492032646/ref=sr_1_1?crid=29Z1GSCOWEPDV&keywords=hands+on+machine+learning+with+scikit-learn+and+tensorflow+2&qid=1653288575&sprefix=hands+on+ma%2Caps%2C160&sr=8-1) by Aurélien Geron"
   ]
  },
  {
   "cell_type": "markdown",
   "id": "517b33cb-9796-464c-96a2-14da6eb96aef",
   "metadata": {},
   "source": [
    "## Setup"
   ]
  },
  {
   "cell_type": "code",
   "execution_count": null,
   "id": "a60f6f46-f4a7-49c8-acbb-df68c1318751",
   "metadata": {},
   "outputs": [],
   "source": [
    "# Uncomment and run this cell if using Colab, Kaggle etc\n",
    "# %pip install fastai==2.6.0 datasets"
   ]
  },
  {
   "cell_type": "markdown",
   "id": "c1dd43ed-3e9b-4359-a3e1-992acef49068",
   "metadata": {},
   "source": [
    "## Imports"
   ]
  },
  {
   "cell_type": "code",
   "execution_count": 1,
   "id": "4bdcfefa-9b67-480c-b15b-320e7d2d0c8a",
   "metadata": {},
   "outputs": [],
   "source": [
    "from datasets import load_dataset\n",
    "from fastai.callback.hook import *\n",
    "from fastai.vision.all import *\n",
    "from sklearn.metrics import accuracy_score\n",
    "from torch.utils.data import TensorDataset\n",
    "from torchvision.transforms import ToTensor"
   ]
  },
  {
   "cell_type": "code",
   "execution_count": 2,
   "id": "88c210f7-1dc4-4ace-9ba8-88f48e5bad4a",
   "metadata": {},
   "outputs": [],
   "source": [
    "import datasets\n",
    "\n",
    "# Suppress logs to keep things tidy\n",
    "datasets.logging.set_verbosity_error()"
   ]
  },
  {
   "cell_type": "markdown",
   "id": "9e42b0bd-7d57-4c5a-9792-8cdbb1fb310e",
   "metadata": {},
   "source": [
    "## Loading the data"
   ]
  },
  {
   "cell_type": "markdown",
   "id": "a8a8142a-a5d7-4083-aa85-7d863f827dc4",
   "metadata": {},
   "source": [
    "Last lecture we fine-tuned a pretrained CNN on the top tagging dataset, where each jet was represented as a 2D image of \"energy pixels\". Today, we'll take a look at training our own CNN from scratch, and explore some of the techniques that fastai utilizes to stabilise the training of these neural nets. To get started, let's download the same dataset of jet images from last lecture:"
   ]
  },
  {
   "cell_type": "code",
   "execution_count": 3,
   "id": "aaa93e67-1da6-47c5-8ba3-ff28ebd4c6d4",
   "metadata": {},
   "outputs": [
    {
     "data": {
      "application/vnd.jupyter.widget-view+json": {
       "model_id": "9f75ae7e9089413bb5de76b999c332af",
       "version_major": 2,
       "version_minor": 0
      },
      "text/plain": [
       "  0%|          | 0/3 [00:00<?, ?it/s]"
      ]
     },
     "metadata": {},
     "output_type": "display_data"
    },
    {
     "data": {
      "image/png": "[encoded data removed]",
      "text/plain": [
       "<Figure size 432x288 with 1 Axes>"
      ]
     },
     "metadata": {
      "needs_background": "light"
     },
     "output_type": "display_data"
    }
   ],
   "source": [
    "images_ds = load_dataset(\"dl4phys/top_tagging_images\")\n",
    "\n",
    "# Peek at one example\n",
    "plt.imshow(images_ds[\"train\"][0][\"image\"]);"
   ]
  },
  {
   "cell_type": "markdown",
   "id": "76bcd2ae-aca2-4c0f-acab-99e6038a7954",
   "metadata": {},
   "source": [
    "As we saw last lecture, we need to convert these PIL images into PyTorch tensors, so let's reuse the same helper function to create a training and validation set to experiment with:"
   ]
  },
  {
   "cell_type": "code",
   "execution_count": 4,
   "id": "2130839e-200e-45c0-ae91-7cea9728eb03",
   "metadata": {},
   "outputs": [],
   "source": [
    "def get_dataset(dataset, num_examples=None):\n",
    "    if num_examples is not None:\n",
    "        dataset = dataset.shuffle(seed=42).select(range(num_examples))\n",
    "\n",
    "    x = torch.cat([ToTensor()(img) for img in dataset[\"image\"]]).unsqueeze(1)\n",
    "    y = torch.cat([torch.tensor(l).unsqueeze(0) for l in dataset[\"label\"]])\n",
    "\n",
    "    return TensorDataset(x, y)"
   ]
  },
  {
   "cell_type": "markdown",
   "id": "570d160e-1d3d-4083-b064-f83d160c333c",
   "metadata": {},
   "source": [
    "With this function, we can now generate a sample of jets as follows:"
   ]
  },
  {
   "cell_type": "code",
   "execution_count": 5,
   "id": "bed72e0b-996f-4812-83bf-3c68a9685855",
   "metadata": {},
   "outputs": [],
   "source": [
    "# Lower the training size if Colab RAM explodes 💣\n",
    "train_ds = get_dataset(images_ds[\"train\"], num_examples=350_000)\n",
    "valid_ds = get_dataset(images_ds[\"validation\"], num_examples=35_000)"
   ]
  },
  {
   "cell_type": "markdown",
   "id": "44714b91-61d3-48dc-a486-adcfad3acf60",
   "metadata": {},
   "source": [
    "Since we'll be experimenting a bit with the batch size in this lecture, we'll also implement a helper function to return the dataloaders associated with these datasets:"
   ]
  },
  {
   "cell_type": "code",
   "execution_count": 6,
   "id": "fb79e523-8551-4594-b2d1-cfe955808b51",
   "metadata": {},
   "outputs": [],
   "source": [
    "def get_dls(bs=128):\n",
    "    train_dl = DataLoader(train_ds, bs=bs, shuffle=True)\n",
    "    valid_dl = DataLoader(valid_ds, bs=bs)\n",
    "    return DataLoaders(train_dl, valid_dl)"
   ]
  },
  {
   "cell_type": "markdown",
   "id": "ca0d405b-19de-4479-8bee-ebdd3a09c653",
   "metadata": {},
   "source": [
    "Now that we have this function, we can get the dataloaders and grab a batch of data to test with:"
   ]
  },
  {
   "cell_type": "code",
   "execution_count": 7,
   "id": "2d58401f-94a9-48fd-855d-6df0cbd52eba",
   "metadata": {},
   "outputs": [
    {
     "data": {
      "text/plain": [
       "(torch.Size([128, 1, 40, 40]), torch.Size([128]))"
      ]
     },
     "execution_count": 7,
     "metadata": {},
     "output_type": "execute_result"
    }
   ],
   "source": [
    "dls = get_dls()\n",
    "\n",
    "xb, yb = first(dls.train)\n",
    "xb.shape, yb.shape"
   ]
  },
  {
   "cell_type": "markdown",
   "id": "c718b6da-5040-4532-9b88-d47804ba3b32",
   "metadata": {},
   "source": [
    "## Creating a CNN"
   ]
  },
  {
   "cell_type": "markdown",
   "id": "b81aff1e-2590-4c51-a666-0ce7f01cdc02",
   "metadata": {},
   "source": [
    "Recall in lecture 3, that we created a neural network for $N$-subjettiness features. We used the `nn.Sequential()` class to create a network that involved stacking fully-connected layers and ReLU activation functions:"
   ]
  },
  {
   "cell_type": "code",
   "execution_count": 8,
   "id": "a5a9802d-4595-4195-94e6-323c05060490",
   "metadata": {},
   "outputs": [
    {
     "data": {
      "text/plain": [
       "Sequential(\n",
       "  (0): Linear(in_features=20, out_features=200, bias=True)\n",
       "  (1): ReLU()\n",
       "  (2): Linear(in_features=200, out_features=2, bias=True)\n",
       ")"
      ]
     },
     "execution_count": 8,
     "metadata": {},
     "output_type": "execute_result"
    }
   ],
   "source": [
    "model = nn.Sequential(\n",
    "    nn.Linear(20, 200),\n",
    "    nn.ReLU(),\n",
    "    nn.Linear(200, 2),\n",
    ")\n",
    "\n",
    "model"
   ]
  },
  {
   "cell_type": "markdown",
   "id": "303bd45c-f58d-41ff-917e-d4c8a1a2bedc",
   "metadata": {},
   "source": [
    "In this lecture, we'll take a similar approach, but this time using _convolutional layers_ instead of linear ones. In PyTorch, convolutional layers are created by using the `nn.Conv2d()` module. Let's try replacing the `nn.Linear()` layers in our previous architecture with `nn.Conv2d()` ones instead:"
   ]
  },
  {
   "cell_type": "code",
   "execution_count": 9,
   "id": "3cd0c734-2eee-4f19-b70f-32aa1b0d5c1e",
   "metadata": {},
   "outputs": [],
   "source": [
    "broken_cnn = nn.Sequential(\n",
    "    nn.Conv2d(1, 30, kernel_size=3, padding=1),\n",
    "    nn.ReLU(),\n",
    "    nn.Conv2d(30, 1, kernel_size=3, padding=1),\n",
    ")"
   ]
  },
  {
   "cell_type": "markdown",
   "id": "ea83b3c3-172f-4960-99f5-3b12a5f37fbc",
   "metadata": {},
   "source": [
    "Note that unlike linear layers, convolutional layers don't require us to specify the number of features in the input. That's because convolutions are applied across each pixel automatically, so the weights only depend on the number of channels and the kernel size. \n",
    "\n",
    "Let's now see what happens if we pass a minibatch of data through this model:"
   ]
  },
  {
   "cell_type": "code",
   "execution_count": 10,
   "id": "03c20c8f-4c58-43ad-869a-986cbd69308a",
   "metadata": {},
   "outputs": [
    {
     "data": {
      "text/plain": [
       "torch.Size([128, 1, 40, 40])"
      ]
     },
     "execution_count": 10,
     "metadata": {},
     "output_type": "execute_result"
    }
   ],
   "source": [
    "# Feed a minibatch to the model\n",
    "outputs = broken_cnn(xb)\n",
    "outputs.shape"
   ]
  },
  {
   "cell_type": "markdown",
   "id": "c4ccb3ca-5e3b-49f6-948a-f835932d5ebb",
   "metadata": {},
   "source": [
    "Hmm, this output isn't quite what we want for classification: we need a tensor of shape `(batch_size, num_classes)` but instead have a $40\\times 40$ map of activations. The standard way to handle this is to apply a sequence of _stride-2 convolutions_, which decrease the size of the outputs so that the final layer size is 1. To see why this is the case, recall that for an image of height $n_H$ and width $n_W$, the dimension of the output activation map is given by:\n",
    "\n",
    "$$\\left( \\left\\lfloor\\frac{n_H + 2p - k}{s} + 1 \\right\\rfloor ,  \\left\\lfloor\\frac{n_W + 2p - k}{s} + 1 \\right\\rfloor \\right) \\,,$$\n",
    "\n",
    "where $p$ is the padding, $k$ the kernel of size $k\\times k$, and $s$ the stride. For fixed $p,f$ and $s>1$, we can see that the dimension of the activation map is shrunk with each convolutional layer.\n",
    "\n",
    "With this in mind, let's create a stack of stride-2 convolutional layers with $3\\times 3$ kernels. We'll intersperse each convolutional layer with a ReLU activation, so let's write a helper function that returns the two together:"
   ]
  },
  {
   "cell_type": "code",
   "execution_count": 11,
   "id": "03e32bc3-ed53-45be-bb81-efe847c56377",
   "metadata": {},
   "outputs": [],
   "source": [
    "def conv(ni, nf, ks=3, act=True):\n",
    "    layer = nn.Conv2d(ni, nf, stride=2, kernel_size=ks, padding=ks // 2)\n",
    "    if act:\n",
    "        layer = nn.Sequential(layer, nn.ReLU())\n",
    "    return layer"
   ]
  },
  {
   "cell_type": "markdown",
   "id": "cae27a32-4002-43ae-adf6-34780c300178",
   "metadata": {},
   "source": [
    "As discussed in the fastai book, it's good practice to increase the number of output features `nf` with each convolutional layer. That's because, stride-2 convolutions decrease the size of the activation map, so we increase the number of output features to avoid compressing the capacity of our model. We also set the kernel size `ks` to the typical value of $3\\times 3$, and set the padding to $ks//2$ to ensure the output activation map is the same shape as the input image.\n",
    "\n",
    "We can now build a CNN by stacking the `conv()` function until we reach a $1\\times 1$ activation map:"
   ]
  },
  {
   "cell_type": "code",
   "execution_count": 12,
   "id": "b892abb2-34ec-406b-9079-6618c9f68dc8",
   "metadata": {},
   "outputs": [
    {
     "data": {
      "text/html": [
       "\n",
       "<style>\n",
       "    /* Turns off some styling */\n",
       "    progress {\n",
       "        /* gets rid of default border in Firefox and Opera. */\n",
       "        border: none;\n",
       "        /* Needs to be in here for Safari polyfill so background images work as expected. */\n",
       "        background-size: auto;\n",
       "    }\n",
       "    .progress-bar-interrupted, .progress-bar-interrupted::-webkit-progress-bar {\n",
       "        background: #F44336;\n",
       "    }\n",
       "</style>\n"
      ],
      "text/plain": [
       "<IPython.core.display.HTML object>"
      ]
     },
     "metadata": {},
     "output_type": "display_data"
    },
    {
     "data": {
      "text/html": [],
      "text/plain": [
       "<IPython.core.display.HTML object>"
      ]
     },
     "metadata": {},
     "output_type": "display_data"
    },
    {
     "data": {
      "text/plain": [
       "Sequential (Input shape: 128 x 1 x 40 x 40)\n",
       "============================================================================\n",
       "Layer (type)         Output Shape         Param #    Trainable \n",
       "============================================================================\n",
       "                     128 x 4 x 20 x 20   \n",
       "Conv2d                                    40         True      \n",
       "ReLU                                                           \n",
       "____________________________________________________________________________\n",
       "                     128 x 8 x 10 x 10   \n",
       "Conv2d                                    296        True      \n",
       "ReLU                                                           \n",
       "____________________________________________________________________________\n",
       "                     128 x 16 x 5 x 5    \n",
       "Conv2d                                    1168       True      \n",
       "ReLU                                                           \n",
       "____________________________________________________________________________\n",
       "                     128 x 32 x 3 x 3    \n",
       "Conv2d                                    4640       True      \n",
       "ReLU                                                           \n",
       "____________________________________________________________________________\n",
       "                     128 x 16 x 2 x 2    \n",
       "Conv2d                                    4624       True      \n",
       "ReLU                                                           \n",
       "____________________________________________________________________________\n",
       "                     128 x 2 x 1 x 1     \n",
       "Conv2d                                    290        True      \n",
       "____________________________________________________________________________\n",
       "                     128 x 2             \n",
       "Flatten                                                        \n",
       "____________________________________________________________________________\n",
       "\n",
       "Total params: 11,058\n",
       "Total trainable params: 11,058\n",
       "Total non-trainable params: 0\n",
       "\n",
       "Optimizer used: <function Adam at 0x7fea02760430>\n",
       "Loss function: <function cross_entropy at 0x7fea509cf8b0>\n",
       "\n",
       "Callbacks:\n",
       "  - TrainEvalCallback\n",
       "  - Recorder\n",
       "  - ProgressCallback"
      ]
     },
     "execution_count": 12,
     "metadata": {},
     "output_type": "execute_result"
    }
   ],
   "source": [
    "simple_cnn = nn.Sequential(\n",
    "    conv(1, 4),  # 20x20\n",
    "    conv(4, 8),  # 10x10\n",
    "    conv(8, 16),  # 5x5\n",
    "    conv(16, 32),  # 3x3\n",
    "    conv(32, 16),  # 2x2\n",
    "    conv(16, 2, act=False),  # 1x1\n",
    "    Flatten(),\n",
    ")\n",
    "\n",
    "learn = Learner(\n",
    "    dls, simple_cnn, metrics=[accuracy, RocAucBinary()], loss_func=F.cross_entropy\n",
    ")\n",
    "learn.summary()"
   ]
  },
  {
   "cell_type": "markdown",
   "id": "94522bdd-d222-4640-8cbb-1b05abd7be21",
   "metadata": {},
   "source": [
    "Since the final convolutional layer will be a tensor of shape $128\\times2\\times1\\times1$, we've stripped off those final $1\\times 1$ axes via the `Flatten()` module. We can now verify that the output of this model is in a form suitable for classification:"
   ]
  },
  {
   "cell_type": "code",
   "execution_count": 13,
   "id": "6da3d452-ee27-42b9-97e1-782a6c73b8c6",
   "metadata": {},
   "outputs": [
    {
     "data": {
      "text/plain": [
       "torch.Size([128, 2])"
      ]
     },
     "execution_count": 13,
     "metadata": {},
     "output_type": "execute_result"
    }
   ],
   "source": [
    "simple_cnn(xb).shape"
   ]
  },
  {
   "cell_type": "markdown",
   "id": "9941e8e6-2e5d-4de8-8597-9a32dc8b8d3a",
   "metadata": {},
   "source": [
    "Okay, this looks good, so let's find a good learning rate and train for a few epochs:"
   ]
  },
  {
   "cell_type": "code",
   "execution_count": 14,
   "id": "5578dcce-95d0-4507-95a7-c14e0f9655ee",
   "metadata": {},
   "outputs": [
    {
     "data": {
      "text/html": [
       "\n",
       "<style>\n",
       "    /* Turns off some styling */\n",
       "    progress {\n",
       "        /* gets rid of default border in Firefox and Opera. */\n",
       "        border: none;\n",
       "        /* Needs to be in here for Safari polyfill so background images work as expected. */\n",
       "        background-size: auto;\n",
       "    }\n",
       "    .progress-bar-interrupted, .progress-bar-interrupted::-webkit-progress-bar {\n",
       "        background: #F44336;\n",
       "    }\n",
       "</style>\n"
      ],
      "text/plain": [
       "<IPython.core.display.HTML object>"
      ]
     },
     "metadata": {},
     "output_type": "display_data"
    },
    {
     "data": {
      "text/html": [],
      "text/plain": [
       "<IPython.core.display.HTML object>"
      ]
     },
     "metadata": {},
     "output_type": "display_data"
    },
    {
     "data": {
      "text/plain": [
       "SuggestedLRs(valley=0.03981071710586548)"
      ]
     },
     "execution_count": 14,
     "metadata": {},
     "output_type": "execute_result"
    },
    {
     "data": {
      "image/png": "[encoded data removed]",
      "text/plain": [
       "<Figure size 432x288 with 1 Axes>"
      ]
     },
     "metadata": {
      "needs_background": "light"
     },
     "output_type": "display_data"
    }
   ],
   "source": [
    "learn.lr_find()"
   ]
  },
  {
   "cell_type": "code",
   "execution_count": 15,
   "id": "e30ade1d-125f-42d3-9eb9-2bf54bf2bde0",
   "metadata": {},
   "outputs": [
    {
     "data": {
      "text/html": [
       "\n",
       "<style>\n",
       "    /* Turns off some styling */\n",
       "    progress {\n",
       "        /* gets rid of default border in Firefox and Opera. */\n",
       "        border: none;\n",
       "        /* Needs to be in here for Safari polyfill so background images work as expected. */\n",
       "        background-size: auto;\n",
       "    }\n",
       "    .progress-bar-interrupted, .progress-bar-interrupted::-webkit-progress-bar {\n",
       "        background: #F44336;\n",
       "    }\n",
       "</style>\n"
      ],
      "text/plain": [
       "<IPython.core.display.HTML object>"
      ]
     },
     "metadata": {},
     "output_type": "display_data"
    },
    {
     "data": {
      "text/html": [
       "<table border=\"1\" class=\"dataframe\">\n",
       "  <thead>\n",
       "    <tr style=\"text-align: left;\">\n",
       "      <th>epoch</th>\n",
       "      <th>train_loss</th>\n",
       "      <th>valid_loss</th>\n",
       "      <th>accuracy</th>\n",
       "      <th>roc_auc_score</th>\n",
       "      <th>time</th>\n",
       "    </tr>\n",
       "  </thead>\n",
       "  <tbody>\n",
       "    <tr>\n",
       "      <td>0</td>\n",
       "      <td>0.251922</td>\n",
       "      <td>0.257991</td>\n",
       "      <td>0.892286</td>\n",
       "      <td>0.957853</td>\n",
       "      <td>00:12</td>\n",
       "    </tr>\n",
       "    <tr>\n",
       "      <td>1</td>\n",
       "      <td>0.248150</td>\n",
       "      <td>0.243493</td>\n",
       "      <td>0.899114</td>\n",
       "      <td>0.963003</td>\n",
       "      <td>00:12</td>\n",
       "    </tr>\n",
       "    <tr>\n",
       "      <td>2</td>\n",
       "      <td>0.231296</td>\n",
       "      <td>0.237253</td>\n",
       "      <td>0.900543</td>\n",
       "      <td>0.964258</td>\n",
       "      <td>00:12</td>\n",
       "    </tr>\n",
       "  </tbody>\n",
       "</table>"
      ],
      "text/plain": [
       "<IPython.core.display.HTML object>"
      ]
     },
     "metadata": {},
     "output_type": "display_data"
    }
   ],
   "source": [
    "learn.fit(3, 3e-3)"
   ]
  },
  {
   "cell_type": "markdown",
   "id": "07caba6f-b7ec-4ec4-8dca-a8fef8a527b1",
   "metadata": {},
   "source": [
    "This model is much worse than the pretrained ResNet34 model that we fine-tuned in the previous lecture. We can also see that we've started overfitting quite strongly after the first epoch (because the training and validation losses are diverging). Let's now see if we can make the model more accurate and train it even faster by using some of the techniques that the factory learners (like `vision_learner()`) provide under the hood."
   ]
  },
  {
   "cell_type": "markdown",
   "id": "5e3ba0b8-0187-4820-85da-46d0a4e1c9bd",
   "metadata": {},
   "source": [
    "## Debugging training with activation statistics"
   ]
  },
  {
   "cell_type": "markdown",
   "id": "40fa303d-a681-4990-9de9-897568a25b6c",
   "metadata": {},
   "source": [
    "One way to train a more accurate CNN is simply double the number of filters in each stride-2 layer. However, increasing the number of filters also requires us to increase the kernel size. For example, if our first layer increases the number of filters from 4 to 8, then a $3 \\times 3$ kernel will not force the CNN to learn any useful features. To handle that, we'll increase the kernel size to $5\\times 5$ and adjust the CNN architecture as follows:"
   ]
  },
  {
   "cell_type": "code",
   "execution_count": 16,
   "id": "7514c2ef-8197-4d4e-a4a9-a3e8cded781c",
   "metadata": {},
   "outputs": [],
   "source": [
    "def simple_cnn():\n",
    "    return nn.Sequential(\n",
    "        conv(1, 8, ks=5),  # 20x20\n",
    "        conv(8, 16),  # 10x10\n",
    "        conv(16, 32),  # 5x5\n",
    "        conv(32, 64),  # 3x3\n",
    "        conv(64, 128),  # 2x2\n",
    "        conv(128, 2, act=False),  # 1x1\n",
    "        Flatten(),\n",
    "    ).to(\"cuda\")"
   ]
  },
  {
   "cell_type": "markdown",
   "id": "3f3f54fa-beea-4cee-adef-7b1860241292",
   "metadata": {},
   "source": [
    "Since we'll be training this network in several ways, let's wrap the creation of the `Learner` and training in a `fit()` function:"
   ]
  },
  {
   "cell_type": "code",
   "execution_count": 17,
   "id": "31d9faea-10ff-4f5c-b1b3-ee931e9b76c6",
   "metadata": {},
   "outputs": [],
   "source": [
    "def fit(epochs=1, lr=0.06):\n",
    "    learn = Learner(\n",
    "        dls,\n",
    "        simple_cnn(),\n",
    "        metrics=[accuracy, RocAucBinary()],\n",
    "        loss_func=F.cross_entropy,\n",
    "        cbs=ActivationStats(with_hist=True),\n",
    "    )\n",
    "    learn.fit(epochs, lr)\n",
    "    return learn"
   ]
  },
  {
   "cell_type": "markdown",
   "id": "07fbbea4-ea40-4cac-a19e-7977ddb0a6b3",
   "metadata": {},
   "source": [
    "To give a sense for what can go wrong when training CNNs, we've used a much larger learning rate than before. We've also use the `ActivationStats()` callback, which records the statistics of the activations in each layer - this will be handy for debugging. Let's see how well this model performs after 1 epoch:"
   ]
  },
  {
   "cell_type": "code",
   "execution_count": 18,
   "id": "91b843fb-a642-4a09-a0b5-2857f6c980dd",
   "metadata": {},
   "outputs": [
    {
     "name": "stderr",
     "output_type": "stream",
     "text": [
      "/home/lewis/miniconda3/envs/dl4phys/lib/python3.9/site-packages/fastai/callback/core.py:67: UserWarning: You are shadowing an attribute (modules) that exists in the learner. Use `self.learn.modules` to avoid this\n",
      "  warn(f\"You are shadowing an attribute ({name}) that exists in the learner. Use `self.learn.{name}` to avoid this\")\n"
     ]
    },
    {
     "data": {
      "text/html": [
       "\n",
       "<style>\n",
       "    /* Turns off some styling */\n",
       "    progress {\n",
       "        /* gets rid of default border in Firefox and Opera. */\n",
       "        border: none;\n",
       "        /* Needs to be in here for Safari polyfill so background images work as expected. */\n",
       "        background-size: auto;\n",
       "    }\n",
       "    .progress-bar-interrupted, .progress-bar-interrupted::-webkit-progress-bar {\n",
       "        background: #F44336;\n",
       "    }\n",
       "</style>\n"
      ],
      "text/plain": [
       "<IPython.core.display.HTML object>"
      ]
     },
     "metadata": {},
     "output_type": "display_data"
    },
    {
     "data": {
      "text/html": [
       "<table border=\"1\" class=\"dataframe\">\n",
       "  <thead>\n",
       "    <tr style=\"text-align: left;\">\n",
       "      <th>epoch</th>\n",
       "      <th>train_loss</th>\n",
       "      <th>valid_loss</th>\n",
       "      <th>accuracy</th>\n",
       "      <th>roc_auc_score</th>\n",
       "      <th>time</th>\n",
       "    </tr>\n",
       "  </thead>\n",
       "  <tbody>\n",
       "    <tr>\n",
       "      <td>0</td>\n",
       "      <td>0.694601</td>\n",
       "      <td>0.693960</td>\n",
       "      <td>0.500343</td>\n",
       "      <td>0.500000</td>\n",
       "      <td>00:19</td>\n",
       "    </tr>\n",
       "  </tbody>\n",
       "</table>"
      ],
      "text/plain": [
       "<IPython.core.display.HTML object>"
      ]
     },
     "metadata": {},
     "output_type": "display_data"
    }
   ],
   "source": [
    "learn = fit()"
   ]
  },
  {
   "cell_type": "markdown",
   "id": "b5252429-272e-41af-9fd0-b6c96e6dd591",
   "metadata": {},
   "source": [
    "Okay, it seems the large learning rate has given us a model than doesn't perform better than random chance. To diagnose the problem, we can use the `plot_layer_stats()` method that the `ActivationStats` callback has tracked. For example, here are the mean and standard deviation of the activations in the first layer:"
   ]
  },
  {
   "cell_type": "code",
   "execution_count": 19,
   "id": "26a2013b-032b-4eb6-9690-0a4d957f5527",
   "metadata": {},
   "outputs": [
    {
     "data": {
      "image/png": "[encoded data removed]",
      "text/plain": [
       "<Figure size 864x216 with 3 Axes>"
      ]
     },
     "metadata": {
      "needs_background": "light"
     },
     "output_type": "display_data"
    }
   ],
   "source": [
    "learn.activation_stats.plot_layer_stats(0)"
   ]
  },
  {
   "cell_type": "markdown",
   "id": "8babf04d-4c04-49f7-bc8c-241548fe2dbe",
   "metadata": {},
   "source": [
    "Here we can see that the mean and standard deviation have a somewhat dramatic spike / drop in the early stages of training. A bigger problem is that the fraction of activations that are near zero is almost 1 after a few iterations. This is a problem because activations that are zero in one layer, will propagate zeros to the next layer, and so on. As a result, these parts of the network are effectively turned off, which makes the learning process suboptimal. \n",
    "\n",
    "Let's now have a look at the last convolutional layer in the CNN:"
   ]
  },
  {
   "cell_type": "code",
   "execution_count": 20,
   "id": "d4f4304b-708d-4869-8c3c-3a6c5f6828d1",
   "metadata": {},
   "outputs": [
    {
     "data": {
      "image/png": "[encoded data removed]",
      "text/plain": [
       "<Figure size 864x216 with 3 Axes>"
      ]
     },
     "metadata": {
      "needs_background": "light"
     },
     "output_type": "display_data"
    }
   ],
   "source": [
    "learn.activation_stats.plot_layer_stats(-2)"
   ]
  },
  {
   "cell_type": "markdown",
   "id": "23443277-57ef-4bcd-9a88-5b6f2ba35965",
   "metadata": {},
   "source": [
    "Here we see a similar pattern, with the fraction of near zero activations reaching almost 1 in fewer iterations. Let's see if we can imprve the situation by increasing the batch size."
   ]
  },
  {
   "cell_type": "markdown",
   "id": "f7a40e92-d146-45fc-a639-3977ec5408dc",
   "metadata": {},
   "source": [
    "### Increasing the batch size"
   ]
  },
  {
   "cell_type": "markdown",
   "id": "8f5a9d8d-a53e-4a56-b59d-b8c8f6ff98d4",
   "metadata": {},
   "source": [
    "If you're GPU can handle it, increasing the batch size is one technique that can sometimes stabilise training. This is because a larger batch size implies more accurate gradients, so SGD can potentially train more efficiently. Let's try increasing our batch size by a factor of 4, training the model and investigating the activation statistics:"
   ]
  },
  {
   "cell_type": "code",
   "execution_count": 21,
   "id": "3a18217e-2008-45d2-a621-595be005c9e2",
   "metadata": {},
   "outputs": [
    {
     "name": "stderr",
     "output_type": "stream",
     "text": [
      "/home/lewis/miniconda3/envs/dl4phys/lib/python3.9/site-packages/fastai/callback/core.py:67: UserWarning: You are shadowing an attribute (modules) that exists in the learner. Use `self.learn.modules` to avoid this\n",
      "  warn(f\"You are shadowing an attribute ({name}) that exists in the learner. Use `self.learn.{name}` to avoid this\")\n"
     ]
    },
    {
     "data": {
      "text/html": [
       "\n",
       "<style>\n",
       "    /* Turns off some styling */\n",
       "    progress {\n",
       "        /* gets rid of default border in Firefox and Opera. */\n",
       "        border: none;\n",
       "        /* Needs to be in here for Safari polyfill so background images work as expected. */\n",
       "        background-size: auto;\n",
       "    }\n",
       "    .progress-bar-interrupted, .progress-bar-interrupted::-webkit-progress-bar {\n",
       "        background: #F44336;\n",
       "    }\n",
       "</style>\n"
      ],
      "text/plain": [
       "<IPython.core.display.HTML object>"
      ]
     },
     "metadata": {},
     "output_type": "display_data"
    },
    {
     "data": {
      "text/html": [
       "<table border=\"1\" class=\"dataframe\">\n",
       "  <thead>\n",
       "    <tr style=\"text-align: left;\">\n",
       "      <th>epoch</th>\n",
       "      <th>train_loss</th>\n",
       "      <th>valid_loss</th>\n",
       "      <th>accuracy</th>\n",
       "      <th>roc_auc_score</th>\n",
       "      <th>time</th>\n",
       "    </tr>\n",
       "  </thead>\n",
       "  <tbody>\n",
       "    <tr>\n",
       "      <td>0</td>\n",
       "      <td>0.693562</td>\n",
       "      <td>0.693991</td>\n",
       "      <td>0.499657</td>\n",
       "      <td>0.500000</td>\n",
       "      <td>00:12</td>\n",
       "    </tr>\n",
       "  </tbody>\n",
       "</table>"
      ],
      "text/plain": [
       "<IPython.core.display.HTML object>"
      ]
     },
     "metadata": {},
     "output_type": "display_data"
    },
    {
     "data": {
      "image/png": "[encoded data removed]",
      "text/plain": [
       "<Figure size 864x216 with 3 Axes>"
      ]
     },
     "metadata": {
      "needs_background": "light"
     },
     "output_type": "display_data"
    }
   ],
   "source": [
    "dls = get_dls(512)\n",
    "learn = fit()\n",
    "learn.activation_stats.plot_layer_stats(-2)"
   ]
  },
  {
   "cell_type": "markdown",
   "id": "fc94691b-b8db-45b5-ae4a-77fb9a0e32bd",
   "metadata": {},
   "source": [
    "Okay, increasing the batch size hasn't helped much. Clearly the problem is that our learning rate is too large, which is causing training to diverge. One way to handle this is to use a _dynamic_ learning rate that is adjusted from low to high, and back to low values during training itself! Let's take a look at 1-cycle training and finally understand what's going one when we call `Learner.fit_one_cycle()`."
   ]
  },
  {
   "cell_type": "markdown",
   "id": "8f6da557-50e8-473c-89fd-380cfed9c2ce",
   "metadata": {},
   "source": [
    "### 1-cycle training"
   ]
  },
  {
   "cell_type": "markdown",
   "id": "88fcdcbf-3f96-4e27-b36e-03c0a31db576",
   "metadata": {},
   "source": [
    "The basic idea behind 1-cycle training is to split training into two phases:\n",
    "\n",
    "* **Warmup:** grow the learning rate from some minimum to maximum value. By starting with a small learning rate, we can avoid hopping out of a local minimum in the loss and diverging.\n",
    "* **Annealing:** decrease the learning rate from the maximum value to the minimum. By gradually lowering the learning rate, we avoid skipping a good local minimum towards the end of training.\n",
    "\n",
    "This technique is one of the main aspects that allows fastai to train fast and accurate models. As we've done in previous lectures, we can use the `fit_one_cycle()` method, so let's adjust our `fit()` function and train again:"
   ]
  },
  {
   "cell_type": "code",
   "execution_count": 22,
   "id": "cc0358c8-1d38-40df-8bb8-364d3ef80228",
   "metadata": {},
   "outputs": [
    {
     "name": "stderr",
     "output_type": "stream",
     "text": [
      "/home/lewis/miniconda3/envs/dl4phys/lib/python3.9/site-packages/fastai/callback/core.py:67: UserWarning: You are shadowing an attribute (modules) that exists in the learner. Use `self.learn.modules` to avoid this\n",
      "  warn(f\"You are shadowing an attribute ({name}) that exists in the learner. Use `self.learn.{name}` to avoid this\")\n"
     ]
    },
    {
     "data": {
      "text/html": [
       "\n",
       "<style>\n",
       "    /* Turns off some styling */\n",
       "    progress {\n",
       "        /* gets rid of default border in Firefox and Opera. */\n",
       "        border: none;\n",
       "        /* Needs to be in here for Safari polyfill so background images work as expected. */\n",
       "        background-size: auto;\n",
       "    }\n",
       "    .progress-bar-interrupted, .progress-bar-interrupted::-webkit-progress-bar {\n",
       "        background: #F44336;\n",
       "    }\n",
       "</style>\n"
      ],
      "text/plain": [
       "<IPython.core.display.HTML object>"
      ]
     },
     "metadata": {},
     "output_type": "display_data"
    },
    {
     "data": {
      "text/html": [
       "<table border=\"1\" class=\"dataframe\">\n",
       "  <thead>\n",
       "    <tr style=\"text-align: left;\">\n",
       "      <th>epoch</th>\n",
       "      <th>train_loss</th>\n",
       "      <th>valid_loss</th>\n",
       "      <th>accuracy</th>\n",
       "      <th>roc_auc_score</th>\n",
       "      <th>time</th>\n",
       "    </tr>\n",
       "  </thead>\n",
       "  <tbody>\n",
       "    <tr>\n",
       "      <td>0</td>\n",
       "      <td>0.255070</td>\n",
       "      <td>0.257523</td>\n",
       "      <td>0.892029</td>\n",
       "      <td>0.957344</td>\n",
       "      <td>00:12</td>\n",
       "    </tr>\n",
       "  </tbody>\n",
       "</table>"
      ],
      "text/plain": [
       "<IPython.core.display.HTML object>"
      ]
     },
     "metadata": {},
     "output_type": "display_data"
    }
   ],
   "source": [
    "def fit(epochs=1, lr=0.06):\n",
    "    learn = Learner(\n",
    "        dls,\n",
    "        simple_cnn(),\n",
    "        metrics=[accuracy, RocAucBinary()],\n",
    "        loss_func=F.cross_entropy,\n",
    "        cbs=ActivationStats(with_hist=True),\n",
    "    )\n",
    "    learn.fit_one_cycle(epochs, lr)\n",
    "    return learn\n",
    "\n",
    "learn = fit()"
   ]
  },
  {
   "cell_type": "markdown",
   "id": "f112f556-0480-48b2-8f61-bae857b0e6a2",
   "metadata": {},
   "source": [
    "Nice, we've finally got a model that performs better than random! All fastai `Learner`s come with a `Recorder()` callback, which tracks various aspect of training. Here we can use it to inspect the evolution of the learning rate:"
   ]
  },
  {
   "cell_type": "code",
   "execution_count": 23,
   "id": "5b2f1967-9cc4-417c-9d28-3644735fa181",
   "metadata": {},
   "outputs": [
    {
     "data": {
      "image/png": "[encoded data removed]",
      "text/plain": [
       "<Figure size 864x288 with 2 Axes>"
      ]
     },
     "metadata": {
      "needs_background": "light"
     },
     "output_type": "display_data"
    }
   ],
   "source": [
    "learn.recorder.plot_sched()"
   ]
  },
  {
   "cell_type": "markdown",
   "id": "ccc9bb55-f30c-424c-a4de-cc5836b89510",
   "metadata": {},
   "source": [
    "Here we can see the learning rate increases linearly until the maximum value, before being annealed with a cosine function. The second plot refers to a hyperparameter called _momentum_, which takes values between $[0,1]$ and is often denoted by $\\beta$. This hyperparameter belongs to a technique called _momentum optimization_, which extends SGD to speed up training. Recall that in SGD, we update our weights and biases according to the following update rule:\n",
    "\n",
    "$$ \\theta \\to \\theta' = \\theta - \\eta \\nabla_\\theta L(\\theta) .$$\n",
    "\n",
    "One problem with this rule, is that if the gradients are small in some region, then the subsequent updates will also be small and training can be slow. To deal with this, momentum optimization uses an _exponentially weighted average_ to modify the update rule:\n",
    "\n",
    "\\begin{align}\n",
    "\\mathbf{m}'&= \\beta\\mathbf{m} + (1-\\beta)\\nabla_\\theta L(\\theta) \\\\\n",
    "\\theta' &= \\theta - \\eta\\mathbf{m}'\n",
    "\\end{align}\n",
    "\n",
    "Intuitively, the momentum vector $\\mathbf{m}$ is storing a running average of past gradient values, and this enables the update step to pick directions based on these averages. The result is that SGD with momentum allows us to traverse the loss landscape much faster (especially through plateaus). \n",
    "\n",
    "Let's now have a look at the activation statistics in the final `conv()` layer:"
   ]
  },
  {
   "cell_type": "code",
   "execution_count": 25,
   "id": "86907a10-c8e8-4036-9288-006632d6db2d",
   "metadata": {},
   "outputs": [
    {
     "data": {
      "image/png": "[encoded data removed]",
      "text/plain": [
       "<Figure size 864x216 with 3 Axes>"
      ]
     },
     "metadata": {
      "needs_background": "light"
     },
     "output_type": "display_data"
    }
   ],
   "source": [
    "learn.activation_stats.plot_layer_stats(-2)"
   ]
  },
  {
   "cell_type": "markdown",
   "id": "ab7384c0-0c22-45a6-b2e5-e091b56523e1",
   "metadata": {},
   "source": [
    "Okay, we've getting somewhat better, but we still have quite a few activations getting close to zero towards the end of training. Let's look at one last technique that can help us deal with this."
   ]
  },
  {
   "cell_type": "markdown",
   "id": "ecf02e2d-6b9d-49dc-9232-4b8f9653c467",
   "metadata": {},
   "source": [
    "### Batch normalization"
   ]
  },
  {
   "cell_type": "markdown",
   "id": "fe0e4dfe-fecd-4701-975f-0e8cd944a760",
   "metadata": {},
   "source": [
    "A very effective technique to deal with vanishing activations in training is to use _batch normalization_ (or batchnorm for short). This techniuqe tries to maintain a good distribution of activations during training by applying a normalization operation just before or after each hidden layer. The way this works is to zero-center and normalize the activations in each layer by introducing two new parameters $\\gamma$ and $\\beta$ (not the same $\\beta$ from momentum!). The parameters are used to learn the optimal scale of the inputs across each layer, and the batchnorm operation can be summarised in the following equations:\n",
    "\n",
    "\\begin{align}\n",
    "\\mathbf{\\mu}_B &= \\frac{1}{m_B} \\sum_i \\mathbf{x}^{(i)} \\\\\n",
    "\\sigma_B^2 &= \\frac{1}{m_B} \\sum_i \\left(\\mathbf{x}^{(i)} - \\mathbf{\\mu}_B\\right)^2  \\\\\n",
    "\\hat{\\mathbf{x}}^{(i)}  &= \\frac{\\mathbf{x}^{(i)} - \\mathbf{\\mu}_B}{\\sqrt{\\mathbf{\\sigma}_B^2 + \\epsilon}} \\\\\n",
    "\\mathbf{z}^{(i)} &= \\mathbf{\\gamma} \\odot \\hat{\\mathbf{x}}^{(i)} + \\mathbf{\\beta}\n",
    "\\end{align}\n",
    "\n",
    "These statistics make it easier to train models, since we don't have to enforce a global normalization on the data (as we did with the `MinMaxScaler()` in previous lectures).\n",
    "\n",
    "Implementing batchnorm in PyTorch is rather simple: we just add a `nn.BatchNorm2d()` layer after each convolution:"
   ]
  },
  {
   "cell_type": "code",
   "execution_count": 26,
   "id": "b127a070-d0d7-44c8-914d-cebce2bf766a",
   "metadata": {},
   "outputs": [],
   "source": [
    "def conv(ni, nf, ks=3, act=True):\n",
    "    layers = [nn.Conv2d(ni, nf, stride=2, kernel_size=ks, padding=ks // 2)]\n",
    "    layers.append(nn.BatchNorm2d(nf))\n",
    "    if act:\n",
    "        layers.append(nn.ReLU())\n",
    "    return nn.Sequential(*layers)"
   ]
  },
  {
   "cell_type": "markdown",
   "id": "1e5bd23f-8417-48cb-8370-a9dfc30b2bd1",
   "metadata": {},
   "source": [
    "Let's now train the model again with 1-cycle policy training:"
   ]
  },
  {
   "cell_type": "code",
   "execution_count": 27,
   "id": "d4f749c7-c0c1-4a28-b340-9d297cf57678",
   "metadata": {},
   "outputs": [
    {
     "name": "stderr",
     "output_type": "stream",
     "text": [
      "/home/lewis/miniconda3/envs/dl4phys/lib/python3.9/site-packages/fastai/callback/core.py:67: UserWarning: You are shadowing an attribute (modules) that exists in the learner. Use `self.learn.modules` to avoid this\n",
      "  warn(f\"You are shadowing an attribute ({name}) that exists in the learner. Use `self.learn.{name}` to avoid this\")\n"
     ]
    },
    {
     "data": {
      "text/html": [
       "\n",
       "<style>\n",
       "    /* Turns off some styling */\n",
       "    progress {\n",
       "        /* gets rid of default border in Firefox and Opera. */\n",
       "        border: none;\n",
       "        /* Needs to be in here for Safari polyfill so background images work as expected. */\n",
       "        background-size: auto;\n",
       "    }\n",
       "    .progress-bar-interrupted, .progress-bar-interrupted::-webkit-progress-bar {\n",
       "        background: #F44336;\n",
       "    }\n",
       "</style>\n"
      ],
      "text/plain": [
       "<IPython.core.display.HTML object>"
      ]
     },
     "metadata": {},
     "output_type": "display_data"
    },
    {
     "data": {
      "text/html": [
       "<table border=\"1\" class=\"dataframe\">\n",
       "  <thead>\n",
       "    <tr style=\"text-align: left;\">\n",
       "      <th>epoch</th>\n",
       "      <th>train_loss</th>\n",
       "      <th>valid_loss</th>\n",
       "      <th>accuracy</th>\n",
       "      <th>roc_auc_score</th>\n",
       "      <th>time</th>\n",
       "    </tr>\n",
       "  </thead>\n",
       "  <tbody>\n",
       "    <tr>\n",
       "      <td>0</td>\n",
       "      <td>0.216597</td>\n",
       "      <td>0.214471</td>\n",
       "      <td>0.909714</td>\n",
       "      <td>0.970490</td>\n",
       "      <td>00:22</td>\n",
       "    </tr>\n",
       "  </tbody>\n",
       "</table>"
      ],
      "text/plain": [
       "<IPython.core.display.HTML object>"
      ]
     },
     "metadata": {},
     "output_type": "display_data"
    }
   ],
   "source": [
    "learn = fit()"
   ]
  },
  {
   "cell_type": "markdown",
   "id": "44923836-41e4-4d95-90f3-be584a5870ca",
   "metadata": {},
   "source": [
    "Nice! This is pretty great result after just one epoch of training, and gets is quite close to the results quoted for CNNs in the top taggin review paper. Let's also inspect the activation statistics:"
   ]
  },
  {
   "cell_type": "code",
   "execution_count": 28,
   "id": "9e31bad8-aa9a-4168-8f76-64f11a0594f2",
   "metadata": {},
   "outputs": [
    {
     "data": {
      "image/png": "[encoded data removed]",
      "text/plain": [
       "<Figure size 864x216 with 3 Axes>"
      ]
     },
     "metadata": {
      "needs_background": "light"
     },
     "output_type": "display_data"
    }
   ],
   "source": [
    "learn.activation_stats.plot_layer_stats(-2)"
   ]
  },
  {
   "cell_type": "markdown",
   "id": "75d85343-2876-4c3b-9167-f11262d15287",
   "metadata": {},
   "source": [
    "This is looking much better: the activations evolve smoothly and we've managed to prevent half of the activations from vanishing. Since batchnorm claims to work with large learning rates, let's ramp this up to 0.1 and see what we get:"
   ]
  },
  {
   "cell_type": "code",
   "execution_count": 87,
   "id": "37ac31bb-445b-406f-90cd-a18d37138346",
   "metadata": {},
   "outputs": [
    {
     "name": "stderr",
     "output_type": "stream",
     "text": [
      "/home/lewis/miniconda3/envs/dl4phys/lib/python3.9/site-packages/fastai/callback/core.py:67: UserWarning: You are shadowing an attribute (modules) that exists in the learner. Use `self.learn.modules` to avoid this\n",
      "  warn(f\"You are shadowing an attribute ({name}) that exists in the learner. Use `self.learn.{name}` to avoid this\")\n"
     ]
    },
    {
     "data": {
      "text/html": [
       "\n",
       "<style>\n",
       "    /* Turns off some styling */\n",
       "    progress {\n",
       "        /* gets rid of default border in Firefox and Opera. */\n",
       "        border: none;\n",
       "        /* Needs to be in here for Safari polyfill so background images work as expected. */\n",
       "        background-size: auto;\n",
       "    }\n",
       "    .progress-bar-interrupted, .progress-bar-interrupted::-webkit-progress-bar {\n",
       "        background: #F44336;\n",
       "    }\n",
       "</style>\n"
      ],
      "text/plain": [
       "<IPython.core.display.HTML object>"
      ]
     },
     "metadata": {},
     "output_type": "display_data"
    },
    {
     "data": {
      "text/html": [
       "<table border=\"1\" class=\"dataframe\">\n",
       "  <thead>\n",
       "    <tr style=\"text-align: left;\">\n",
       "      <th>epoch</th>\n",
       "      <th>train_loss</th>\n",
       "      <th>valid_loss</th>\n",
       "      <th>accuracy</th>\n",
       "      <th>roc_auc_score</th>\n",
       "      <th>time</th>\n",
       "    </tr>\n",
       "  </thead>\n",
       "  <tbody>\n",
       "    <tr>\n",
       "      <td>0</td>\n",
       "      <td>0.241621</td>\n",
       "      <td>0.324524</td>\n",
       "      <td>0.879571</td>\n",
       "      <td>0.951736</td>\n",
       "      <td>00:22</td>\n",
       "    </tr>\n",
       "    <tr>\n",
       "      <td>1</td>\n",
       "      <td>0.232091</td>\n",
       "      <td>1.657844</td>\n",
       "      <td>0.655914</td>\n",
       "      <td>0.913255</td>\n",
       "      <td>00:21</td>\n",
       "    </tr>\n",
       "    <tr>\n",
       "      <td>2</td>\n",
       "      <td>0.222661</td>\n",
       "      <td>0.819799</td>\n",
       "      <td>0.612086</td>\n",
       "      <td>0.906052</td>\n",
       "      <td>00:21</td>\n",
       "    </tr>\n",
       "    <tr>\n",
       "      <td>3</td>\n",
       "      <td>0.220339</td>\n",
       "      <td>0.276002</td>\n",
       "      <td>0.885429</td>\n",
       "      <td>0.957145</td>\n",
       "      <td>00:21</td>\n",
       "    </tr>\n",
       "    <tr>\n",
       "      <td>4</td>\n",
       "      <td>0.217905</td>\n",
       "      <td>0.410375</td>\n",
       "      <td>0.813257</td>\n",
       "      <td>0.920187</td>\n",
       "      <td>00:21</td>\n",
       "    </tr>\n",
       "    <tr>\n",
       "      <td>5</td>\n",
       "      <td>0.209055</td>\n",
       "      <td>0.433610</td>\n",
       "      <td>0.802971</td>\n",
       "      <td>0.920204</td>\n",
       "      <td>00:21</td>\n",
       "    </tr>\n",
       "    <tr>\n",
       "      <td>6</td>\n",
       "      <td>0.204782</td>\n",
       "      <td>0.363477</td>\n",
       "      <td>0.832943</td>\n",
       "      <td>0.945951</td>\n",
       "      <td>00:21</td>\n",
       "    </tr>\n",
       "    <tr>\n",
       "      <td>7</td>\n",
       "      <td>0.198509</td>\n",
       "      <td>0.206748</td>\n",
       "      <td>0.913429</td>\n",
       "      <td>0.972911</td>\n",
       "      <td>00:21</td>\n",
       "    </tr>\n",
       "    <tr>\n",
       "      <td>8</td>\n",
       "      <td>0.191656</td>\n",
       "      <td>0.202564</td>\n",
       "      <td>0.916000</td>\n",
       "      <td>0.974434</td>\n",
       "      <td>00:21</td>\n",
       "    </tr>\n",
       "    <tr>\n",
       "      <td>9</td>\n",
       "      <td>0.182151</td>\n",
       "      <td>0.196292</td>\n",
       "      <td>0.918886</td>\n",
       "      <td>0.975237</td>\n",
       "      <td>00:21</td>\n",
       "    </tr>\n",
       "  </tbody>\n",
       "</table>"
      ],
      "text/plain": [
       "<IPython.core.display.HTML object>"
      ]
     },
     "metadata": {},
     "output_type": "display_data"
    }
   ],
   "source": [
    "learn = fit(10, lr=0.1)"
   ]
  },
  {
   "cell_type": "markdown",
   "id": "10359325-adec-4f54-989f-d1b9b89940d1",
   "metadata": {},
   "source": [
    "Great, this has given us a small boost and only took a few minutes to train a CNN form scratch!"
   ]
  },
  {
   "cell_type": "markdown",
   "id": "bdbb5628-c819-4469-810e-a55fb4e2c621",
   "metadata": {},
   "source": [
    "## Exercises\n",
    "\n",
    "* Implement the same CNN architecture from the review. Can you get close to their results?\n",
    "* Read the [1-cycle policy training paper](https://arxiv.org/abs/1708.07120)"
   ]
  },
  {
   "cell_type": "code",
   "execution_count": null,
   "id": "6bcf2a4a-72d0-4efe-b569-f2ada3dfd2d5",
   "metadata": {},
   "outputs": [],
   "source": []
  }
 ],
 "metadata": {
  "kernelspec": {
   "display_name": "Python 3 (ipykernel)",
   "language": "python",
   "name": "python3"
  },
  "language_info": {
   "codemirror_mode": {
    "name": "ipython",
    "version": 3
   },
   "file_extension": ".py",
   "mimetype": "text/x-python",
   "name": "python",
   "nbconvert_exporter": "python",
   "pygments_lexer": "ipython3",
   "version": "3.9.12"
  }
 },
 "nbformat": 4,
 "nbformat_minor": 5
}
