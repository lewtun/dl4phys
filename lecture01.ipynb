{
 "cells": [
  {
   "cell_type": "markdown",
   "id": "9e046cf7-e28b-4384-989c-ea8400b58982",
   "metadata": {},
   "source": [
    "# Lessons 1 - Introduction to deep neural networks"
   ]
  },
  {
   "cell_type": "code",
   "execution_count": null,
   "id": "d07469bf",
   "metadata": {},
   "outputs": [],
   "source": [
    "%load_ext autoreload\n",
    "%autoreload 2"
   ]
  },
  {
   "cell_type": "markdown",
   "id": "6ff2081e-ce52-49f2-b1e0-d76ccab64886",
   "metadata": {},
   "source": [
    "## TODO"
   ]
  },
  {
   "cell_type": "markdown",
   "id": "1c6233fc-0a3e-4bab-b955-e1efb4383c3f",
   "metadata": {},
   "source": [
    "* Put dataset on the Hub with a loading script\n",
    "* Figure out how to load `Dataset` objects in dataloaders\n",
    "* Tidy up, add prose\n",
    "* Add exercises"
   ]
  },
  {
   "cell_type": "markdown",
   "id": "3f46888d",
   "metadata": {},
   "source": [
    "## Imports"
   ]
  },
  {
   "cell_type": "code",
   "execution_count": null,
   "id": "3694579d",
   "metadata": {},
   "outputs": [],
   "source": [
    "import numpy as np\n",
    "import pandas as pd\n",
    "from datasets import Dataset\n",
    "from pytorch_lightning import LightningModule, Trainer\n",
    "import torch\n",
    "from torch.utils.data import DataLoader, TensorDataset\n",
    "import torch.nn.functional as F\n",
    "import torch.nn as nn\n",
    "import torchmetrics\n",
    "from sklearn.metrics import roc_auc_score, roc_curve\n",
    "import matplotlib.pyplot as plt"
   ]
  },
  {
   "cell_type": "markdown",
   "id": "360f069d",
   "metadata": {},
   "source": [
    "## Load data"
   ]
  },
  {
   "cell_type": "code",
   "execution_count": null,
   "id": "5680b9a5",
   "metadata": {},
   "outputs": [],
   "source": [
    "EVENTS_PATH = \"data/QG_nsubs.npz?dl=1\"\n",
    "\n",
    "with np.load(EVENTS_PATH) as f:\n",
    "    X, y = f['X'], f['y']"
   ]
  },
  {
   "cell_type": "code",
   "execution_count": null,
   "id": "a18f838b",
   "metadata": {},
   "outputs": [
    {
     "data": {
      "text/plain": [
       "((100000, 45), (100000,))"
      ]
     },
     "execution_count": null,
     "metadata": {},
     "output_type": "execute_result"
    }
   ],
   "source": [
    "X.shape, y.shape"
   ]
  },
  {
   "cell_type": "code",
   "execution_count": null,
   "id": "e1d13bec",
   "metadata": {},
   "outputs": [],
   "source": [
    "data = {f\"feature_{idx}\":X[:, idx] for idx in range(45)}"
   ]
  },
  {
   "cell_type": "code",
   "execution_count": null,
   "id": "c49662be",
   "metadata": {},
   "outputs": [],
   "source": [
    "data[\"label\"] = y"
   ]
  },
  {
   "cell_type": "code",
   "execution_count": null,
   "id": "47b34a41",
   "metadata": {},
   "outputs": [
    {
     "data": {
      "text/html": [
       "<div>\n",
       "<style scoped>\n",
       "    .dataframe tbody tr th:only-of-type {\n",
       "        vertical-align: middle;\n",
       "    }\n",
       "\n",
       "    .dataframe tbody tr th {\n",
       "        vertical-align: top;\n",
       "    }\n",
       "\n",
       "    .dataframe thead th {\n",
       "        text-align: right;\n",
       "    }\n",
       "</style>\n",
       "<table border=\"1\" class=\"dataframe\">\n",
       "  <thead>\n",
       "    <tr style=\"text-align: right;\">\n",
       "      <th></th>\n",
       "      <th>feature_0</th>\n",
       "      <th>feature_1</th>\n",
       "      <th>feature_2</th>\n",
       "      <th>feature_3</th>\n",
       "      <th>feature_4</th>\n",
       "      <th>feature_5</th>\n",
       "      <th>feature_6</th>\n",
       "      <th>feature_7</th>\n",
       "      <th>feature_8</th>\n",
       "      <th>feature_9</th>\n",
       "      <th>...</th>\n",
       "      <th>feature_36</th>\n",
       "      <th>feature_37</th>\n",
       "      <th>feature_38</th>\n",
       "      <th>feature_39</th>\n",
       "      <th>feature_40</th>\n",
       "      <th>feature_41</th>\n",
       "      <th>feature_42</th>\n",
       "      <th>feature_43</th>\n",
       "      <th>feature_44</th>\n",
       "      <th>label</th>\n",
       "    </tr>\n",
       "  </thead>\n",
       "  <tbody>\n",
       "    <tr>\n",
       "      <th>0</th>\n",
       "      <td>0.582885</td>\n",
       "      <td>0.359834</td>\n",
       "      <td>0.159466</td>\n",
       "      <td>0.286434</td>\n",
       "      <td>0.109313</td>\n",
       "      <td>0.031360</td>\n",
       "      <td>0.291994</td>\n",
       "      <td>0.104627</td>\n",
       "      <td>0.025298</td>\n",
       "      <td>0.269625</td>\n",
       "      <td>...</td>\n",
       "      <td>0.191827</td>\n",
       "      <td>0.045562</td>\n",
       "      <td>0.004745</td>\n",
       "      <td>0.183424</td>\n",
       "      <td>0.042593</td>\n",
       "      <td>0.004490</td>\n",
       "      <td>0.174668</td>\n",
       "      <td>0.039015</td>\n",
       "      <td>0.004060</td>\n",
       "      <td>0.0</td>\n",
       "    </tr>\n",
       "    <tr>\n",
       "      <th>1</th>\n",
       "      <td>0.260756</td>\n",
       "      <td>0.084642</td>\n",
       "      <td>0.019812</td>\n",
       "      <td>0.240676</td>\n",
       "      <td>0.073122</td>\n",
       "      <td>0.015786</td>\n",
       "      <td>0.225725</td>\n",
       "      <td>0.063897</td>\n",
       "      <td>0.012387</td>\n",
       "      <td>0.215447</td>\n",
       "      <td>...</td>\n",
       "      <td>0.126111</td>\n",
       "      <td>0.021134</td>\n",
       "      <td>0.002316</td>\n",
       "      <td>0.122458</td>\n",
       "      <td>0.018581</td>\n",
       "      <td>0.001079</td>\n",
       "      <td>0.117416</td>\n",
       "      <td>0.017345</td>\n",
       "      <td>0.000992</td>\n",
       "      <td>0.0</td>\n",
       "    </tr>\n",
       "    <tr>\n",
       "      <th>2</th>\n",
       "      <td>0.564012</td>\n",
       "      <td>0.330684</td>\n",
       "      <td>0.127177</td>\n",
       "      <td>0.292710</td>\n",
       "      <td>0.110119</td>\n",
       "      <td>0.024787</td>\n",
       "      <td>0.258846</td>\n",
       "      <td>0.086578</td>\n",
       "      <td>0.017215</td>\n",
       "      <td>0.240176</td>\n",
       "      <td>...</td>\n",
       "      <td>0.150572</td>\n",
       "      <td>0.034919</td>\n",
       "      <td>0.003328</td>\n",
       "      <td>0.147431</td>\n",
       "      <td>0.032971</td>\n",
       "      <td>0.003017</td>\n",
       "      <td>0.143079</td>\n",
       "      <td>0.031147</td>\n",
       "      <td>0.002829</td>\n",
       "      <td>0.0</td>\n",
       "    </tr>\n",
       "    <tr>\n",
       "      <th>3</th>\n",
       "      <td>0.395935</td>\n",
       "      <td>0.170801</td>\n",
       "      <td>0.042085</td>\n",
       "      <td>0.344588</td>\n",
       "      <td>0.130606</td>\n",
       "      <td>0.026208</td>\n",
       "      <td>0.271026</td>\n",
       "      <td>0.090233</td>\n",
       "      <td>0.017891</td>\n",
       "      <td>0.243731</td>\n",
       "      <td>...</td>\n",
       "      <td>0.164546</td>\n",
       "      <td>0.034850</td>\n",
       "      <td>0.004036</td>\n",
       "      <td>0.151774</td>\n",
       "      <td>0.029703</td>\n",
       "      <td>0.002897</td>\n",
       "      <td>0.149630</td>\n",
       "      <td>0.028986</td>\n",
       "      <td>0.002850</td>\n",
       "      <td>0.0</td>\n",
       "    </tr>\n",
       "    <tr>\n",
       "      <th>4</th>\n",
       "      <td>0.196304</td>\n",
       "      <td>0.051556</td>\n",
       "      <td>0.011701</td>\n",
       "      <td>0.192528</td>\n",
       "      <td>0.048644</td>\n",
       "      <td>0.010743</td>\n",
       "      <td>0.178389</td>\n",
       "      <td>0.043404</td>\n",
       "      <td>0.009060</td>\n",
       "      <td>0.172218</td>\n",
       "      <td>...</td>\n",
       "      <td>0.084400</td>\n",
       "      <td>0.012952</td>\n",
       "      <td>0.001005</td>\n",
       "      <td>0.078391</td>\n",
       "      <td>0.011012</td>\n",
       "      <td>0.000815</td>\n",
       "      <td>0.076849</td>\n",
       "      <td>0.010029</td>\n",
       "      <td>0.000572</td>\n",
       "      <td>0.0</td>\n",
       "    </tr>\n",
       "  </tbody>\n",
       "</table>\n",
       "<p>5 rows × 46 columns</p>\n",
       "</div>"
      ],
      "text/plain": [
       "   feature_0  feature_1  feature_2  feature_3  feature_4  feature_5  \\\n",
       "0   0.582885   0.359834   0.159466   0.286434   0.109313   0.031360   \n",
       "1   0.260756   0.084642   0.019812   0.240676   0.073122   0.015786   \n",
       "2   0.564012   0.330684   0.127177   0.292710   0.110119   0.024787   \n",
       "3   0.395935   0.170801   0.042085   0.344588   0.130606   0.026208   \n",
       "4   0.196304   0.051556   0.011701   0.192528   0.048644   0.010743   \n",
       "\n",
       "   feature_6  feature_7  feature_8  feature_9  ...  feature_36  feature_37  \\\n",
       "0   0.291994   0.104627   0.025298   0.269625  ...    0.191827    0.045562   \n",
       "1   0.225725   0.063897   0.012387   0.215447  ...    0.126111    0.021134   \n",
       "2   0.258846   0.086578   0.017215   0.240176  ...    0.150572    0.034919   \n",
       "3   0.271026   0.090233   0.017891   0.243731  ...    0.164546    0.034850   \n",
       "4   0.178389   0.043404   0.009060   0.172218  ...    0.084400    0.012952   \n",
       "\n",
       "   feature_38  feature_39  feature_40  feature_41  feature_42  feature_43  \\\n",
       "0    0.004745    0.183424    0.042593    0.004490    0.174668    0.039015   \n",
       "1    0.002316    0.122458    0.018581    0.001079    0.117416    0.017345   \n",
       "2    0.003328    0.147431    0.032971    0.003017    0.143079    0.031147   \n",
       "3    0.004036    0.151774    0.029703    0.002897    0.149630    0.028986   \n",
       "4    0.001005    0.078391    0.011012    0.000815    0.076849    0.010029   \n",
       "\n",
       "   feature_44  label  \n",
       "0    0.004060    0.0  \n",
       "1    0.000992    0.0  \n",
       "2    0.002829    0.0  \n",
       "3    0.002850    0.0  \n",
       "4    0.000572    0.0  \n",
       "\n",
       "[5 rows x 46 columns]"
      ]
     },
     "execution_count": null,
     "metadata": {},
     "output_type": "execute_result"
    }
   ],
   "source": [
    "df = pd.DataFrame(data)\n",
    "df.head()"
   ]
  },
  {
   "cell_type": "code",
   "execution_count": null,
   "id": "35927298",
   "metadata": {},
   "outputs": [
    {
     "data": {
      "text/plain": [
       "Dataset({\n",
       "    features: ['feature_0', 'feature_1', 'feature_2', 'feature_3', 'feature_4', 'feature_5', 'feature_6', 'feature_7', 'feature_8', 'feature_9', 'feature_10', 'feature_11', 'feature_12', 'feature_13', 'feature_14', 'feature_15', 'feature_16', 'feature_17', 'feature_18', 'feature_19', 'feature_20', 'feature_21', 'feature_22', 'feature_23', 'feature_24', 'feature_25', 'feature_26', 'feature_27', 'feature_28', 'feature_29', 'feature_30', 'feature_31', 'feature_32', 'feature_33', 'feature_34', 'feature_35', 'feature_36', 'feature_37', 'feature_38', 'feature_39', 'feature_40', 'feature_41', 'feature_42', 'feature_43', 'feature_44', 'label'],\n",
       "    num_rows: 100000\n",
       "})"
      ]
     },
     "execution_count": null,
     "metadata": {},
     "output_type": "execute_result"
    }
   ],
   "source": [
    "# Can't use categorical\n",
    "dset = Dataset.from_pandas(df)\n",
    "dset"
   ]
  },
  {
   "cell_type": "code",
   "execution_count": null,
   "id": "0527c105",
   "metadata": {},
   "outputs": [
    {
     "data": {
      "text/plain": [
       "(100000, 45)"
      ]
     },
     "execution_count": null,
     "metadata": {},
     "output_type": "execute_result"
    }
   ],
   "source": [
    "X.shape"
   ]
  },
  {
   "cell_type": "code",
   "execution_count": null,
   "id": "d520460d",
   "metadata": {},
   "outputs": [
    {
     "data": {
      "text/plain": [
       "(100000,)"
      ]
     },
     "execution_count": null,
     "metadata": {},
     "output_type": "execute_result"
    }
   ],
   "source": [
    "y.shape"
   ]
  },
  {
   "cell_type": "code",
   "execution_count": null,
   "id": "b3423f83",
   "metadata": {},
   "outputs": [],
   "source": [
    "X = torch.from_numpy(X).float()\n",
    "y = torch.from_numpy(y).long()"
   ]
  },
  {
   "cell_type": "code",
   "execution_count": null,
   "id": "3bd07645-6f68-4f81-bd06-f3e6a56f098d",
   "metadata": {},
   "outputs": [],
   "source": [
    "num_nsubs = 1\n",
    "X = X[:, :num_nsubs]"
   ]
  },
  {
   "cell_type": "code",
   "execution_count": null,
   "id": "e8707711-bd1b-4162-8bbd-301de9a363aa",
   "metadata": {},
   "outputs": [],
   "source": [
    "X_train, X_val, X_test = X[:75_000], X[75_000:85_000], X[85_000:]\n",
    "y_train, y_val, y_test = y[:75_000], y[75_000:85_000], y[85_000:]"
   ]
  },
  {
   "cell_type": "code",
   "execution_count": null,
   "id": "2525451a",
   "metadata": {},
   "outputs": [],
   "source": [
    "train_ds = TensorDataset(X_train, y_train)\n",
    "val_ds = TensorDataset(X_val, y_val)\n",
    "test_ds = TensorDataset(X_test, y_test)"
   ]
  },
  {
   "cell_type": "code",
   "execution_count": null,
   "id": "43e682e0",
   "metadata": {},
   "outputs": [],
   "source": [
    "train_dl = DataLoader(train_ds, batch_size=100, shuffle=True)\n",
    "val_dl = DataLoader(val_ds, batch_size=100)\n",
    "test_dl = DataLoader(test_ds, batch_size=100)"
   ]
  },
  {
   "cell_type": "markdown",
   "id": "8a8b5ca2",
   "metadata": {},
   "source": [
    "## Define model"
   ]
  },
  {
   "cell_type": "code",
   "execution_count": null,
   "id": "94bff9e5",
   "metadata": {},
   "outputs": [],
   "source": [
    "class DNNModel(LightningModule):\n",
    "    def __init__(self, nsubs = 45):\n",
    "        super().__init__()\n",
    "        self.nsubs = nsubs\n",
    "        self.accuracy = torchmetrics.Accuracy()\n",
    "        self.roc_auc = torchmetrics.AUROC(num_classes=2)\n",
    "        self.layers = nn.Sequential(nn.Linear(self.nsubs, 100), nn.ReLU(), nn.Linear(100, 100), nn.ReLU(), nn.Linear(100, 2))\n",
    "\n",
    "    def forward(self, batch):\n",
    "        x, y = batch\n",
    "        x = self.layers(x.view(x.size(0), -1))\n",
    "        return F.log_softmax(x, dim=1)\n",
    "\n",
    "    def training_step(self, batch, batch_idx):\n",
    "        x, y = batch\n",
    "        loss = F.cross_entropy(self(x), y)\n",
    "        self.log(\"train_loss\", loss, on_epoch=True, prog_bar=True)\n",
    "        return loss\n",
    "    \n",
    "    def validation_step(self, batch, batch_idx):\n",
    "        x, y = batch\n",
    "        y_hat = self(x)\n",
    "        val_loss = F.cross_entropy(y_hat, y)\n",
    "        self.accuracy(y_hat, y)\n",
    "        self.roc_auc(y_hat, y)\n",
    "        self.log(\"val_accuracy\", self.accuracy, on_epoch=True, prog_bar=True)\n",
    "        self.log(\"val_roc_auc\", self.roc_auc, on_epoch=True, )\n",
    "        self.log(\"val_loss\", val_loss, on_epoch=True,)\n",
    "        \n",
    "    def test_step(self, batch, batch_idx):\n",
    "        x, y = batch\n",
    "        y_hat = self(x)\n",
    "        val_loss = F.cross_entropy(y_hat, y)\n",
    "        self.accuracy(y_hat, y)\n",
    "        self.roc_auc(y_hat, y)\n",
    "        self.log(\"test_accuracy\", self.accuracy, on_epoch=True, prog_bar=True)\n",
    "        self.log(\"test_roc_auc\", self.roc_auc, on_epoch=True, )\n",
    "        self.log(\"test_loss\", val_loss, on_epoch=True,)\n",
    "\n",
    "\n",
    "    def configure_optimizers(self):\n",
    "        return torch.optim.Adam(self.parameters(), lr=0.02)\n",
    "    \n",
    "    def train_dataloader(self):\n",
    "        return train_dl\n",
    "\n",
    "    def val_dataloader(self):\n",
    "        return valid_dl\n",
    "\n",
    "    def test_dataloader(self):\n",
    "        return test_dl"
   ]
  },
  {
   "cell_type": "code",
   "execution_count": null,
   "id": "2584175c-7f2a-4832-bd65-bd03e5852097",
   "metadata": {},
   "outputs": [],
   "source": [
    "batch = next(iter(test_dl))"
   ]
  },
  {
   "cell_type": "code",
   "execution_count": null,
   "id": "71bde0a0",
   "metadata": {},
   "outputs": [
    {
     "name": "stderr",
     "output_type": "stream",
     "text": [
      "/opt/conda/envs/dl4phys/lib/python3.9/site-packages/torchmetrics/utilities/prints.py:36: UserWarning: Metric `AUROC` will save all targets and predictions in buffer. For large datasets this may lead to large memory footprint.\n",
      "  warnings.warn(*args, **kwargs)\n"
     ]
    }
   ],
   "source": [
    "model = DNNModel(nsubs=1)"
   ]
  },
  {
   "cell_type": "code",
   "execution_count": null,
   "id": "0670e145-7ffb-4da3-99d0-64079aed8eb3",
   "metadata": {},
   "outputs": [
    {
     "data": {
      "text/plain": [
       "torch.Size([100, 2])"
      ]
     },
     "execution_count": null,
     "metadata": {},
     "output_type": "execute_result"
    }
   ],
   "source": [
    "model(batch).shape"
   ]
  },
  {
   "cell_type": "code",
   "execution_count": null,
   "id": "23cc5bab",
   "metadata": {},
   "outputs": [
    {
     "name": "stderr",
     "output_type": "stream",
     "text": [
      "/opt/conda/envs/dl4phys/lib/python3.9/site-packages/pytorch_lightning/utilities/model_summary.py:471: LightningDeprecationWarning: Argument `mode` in `LightningModule.summarize` is deprecated in v1.4 and will be removed in v1.6. Use `max_depth=1` to replicate `mode=top` behavior.\n",
      "  rank_zero_deprecation(\n"
     ]
    },
    {
     "data": {
      "text/plain": [
       "  | Name     | Type       | Params\n",
       "----------------------------------------\n",
       "0 | accuracy | Accuracy   | 0     \n",
       "1 | roc_auc  | AUROC      | 0     \n",
       "2 | layers   | Sequential | 10.5 K\n",
       "----------------------------------------\n",
       "10.5 K    Trainable params\n",
       "0         Non-trainable params\n",
       "10.5 K    Total params\n",
       "0.042     Total estimated model params size (MB)"
      ]
     },
     "execution_count": null,
     "metadata": {},
     "output_type": "execute_result"
    }
   ],
   "source": [
    "model.summarize()"
   ]
  },
  {
   "cell_type": "code",
   "execution_count": null,
   "id": "71f77252",
   "metadata": {},
   "outputs": [
    {
     "name": "stderr",
     "output_type": "stream",
     "text": [
      "GPU available: True, used: True\n",
      "TPU available: False, using: 0 TPU cores\n",
      "IPU available: False, using: 0 IPUs\n"
     ]
    }
   ],
   "source": [
    "trainer = Trainer(\n",
    "    gpus=1,\n",
    "    max_epochs=10,\n",
    "    # auto_lr_find=True\n",
    "    # progress_bar_refresh_rate=100,\n",
    ")"
   ]
  },
  {
   "cell_type": "code",
   "execution_count": null,
   "id": "50b43932",
   "metadata": {},
   "outputs": [
    {
     "name": "stderr",
     "output_type": "stream",
     "text": [
      "/opt/conda/envs/dl4phys/lib/python3.9/site-packages/pytorch_lightning/trainer/trainer.py:735: LightningDeprecationWarning: `trainer.fit(train_dataloader)` is deprecated in v1.4 and will be removed in v1.6. Use `trainer.fit(train_dataloaders)` instead. HINT: added 's'\n",
      "  rank_zero_deprecation(\n",
      "LOCAL_RANK: 0 - CUDA_VISIBLE_DEVICES: [0]\n",
      "\n",
      "  | Name     | Type       | Params\n",
      "----------------------------------------\n",
      "0 | accuracy | Accuracy   | 0     \n",
      "1 | roc_auc  | AUROC      | 0     \n",
      "2 | layers   | Sequential | 10.5 K\n",
      "----------------------------------------\n",
      "10.5 K    Trainable params\n",
      "0         Non-trainable params\n",
      "10.5 K    Total params\n",
      "0.042     Total estimated model params size (MB)\n"
     ]
    },
    {
     "data": {
      "application/vnd.jupyter.widget-view+json": {
       "model_id": "",
       "version_major": 2,
       "version_minor": 0
      },
      "text/plain": [
       "Validation sanity check: 0it [00:00, ?it/s]"
      ]
     },
     "metadata": {},
     "output_type": "display_data"
    },
    {
     "name": "stderr",
     "output_type": "stream",
     "text": [
      "/opt/conda/envs/dl4phys/lib/python3.9/site-packages/pytorch_lightning/trainer/data_loading.py:132: UserWarning: The dataloader, val_dataloader 0, does not have many workers which may be a bottleneck. Consider increasing the value of the `num_workers` argument` (try 8 which is the number of cpus on this machine) in the `DataLoader` init to improve performance.\n",
      "  rank_zero_warn(\n",
      "/opt/conda/envs/dl4phys/lib/python3.9/site-packages/pytorch_lightning/trainer/data_loading.py:132: UserWarning: The dataloader, train_dataloader, does not have many workers which may be a bottleneck. Consider increasing the value of the `num_workers` argument` (try 8 which is the number of cpus on this machine) in the `DataLoader` init to improve performance.\n",
      "  rank_zero_warn(\n"
     ]
    },
    {
     "data": {
      "application/vnd.jupyter.widget-view+json": {
       "model_id": "31be8594a6ea4157b351b7c0ada7e177",
       "version_major": 2,
       "version_minor": 0
      },
      "text/plain": [
       "Training: 0it [00:00, ?it/s]"
      ]
     },
     "metadata": {},
     "output_type": "display_data"
    },
    {
     "data": {
      "application/vnd.jupyter.widget-view+json": {
       "model_id": "",
       "version_major": 2,
       "version_minor": 0
      },
      "text/plain": [
       "Validating: 0it [00:00, ?it/s]"
      ]
     },
     "metadata": {},
     "output_type": "display_data"
    },
    {
     "data": {
      "application/vnd.jupyter.widget-view+json": {
       "model_id": "",
       "version_major": 2,
       "version_minor": 0
      },
      "text/plain": [
       "Validating: 0it [00:00, ?it/s]"
      ]
     },
     "metadata": {},
     "output_type": "display_data"
    },
    {
     "data": {
      "application/vnd.jupyter.widget-view+json": {
       "model_id": "",
       "version_major": 2,
       "version_minor": 0
      },
      "text/plain": [
       "Validating: 0it [00:00, ?it/s]"
      ]
     },
     "metadata": {},
     "output_type": "display_data"
    },
    {
     "data": {
      "application/vnd.jupyter.widget-view+json": {
       "model_id": "",
       "version_major": 2,
       "version_minor": 0
      },
      "text/plain": [
       "Validating: 0it [00:00, ?it/s]"
      ]
     },
     "metadata": {},
     "output_type": "display_data"
    },
    {
     "data": {
      "application/vnd.jupyter.widget-view+json": {
       "model_id": "",
       "version_major": 2,
       "version_minor": 0
      },
      "text/plain": [
       "Validating: 0it [00:00, ?it/s]"
      ]
     },
     "metadata": {},
     "output_type": "display_data"
    },
    {
     "data": {
      "application/vnd.jupyter.widget-view+json": {
       "model_id": "",
       "version_major": 2,
       "version_minor": 0
      },
      "text/plain": [
       "Validating: 0it [00:00, ?it/s]"
      ]
     },
     "metadata": {},
     "output_type": "display_data"
    },
    {
     "data": {
      "application/vnd.jupyter.widget-view+json": {
       "model_id": "",
       "version_major": 2,
       "version_minor": 0
      },
      "text/plain": [
       "Validating: 0it [00:00, ?it/s]"
      ]
     },
     "metadata": {},
     "output_type": "display_data"
    },
    {
     "data": {
      "application/vnd.jupyter.widget-view+json": {
       "model_id": "",
       "version_major": 2,
       "version_minor": 0
      },
      "text/plain": [
       "Validating: 0it [00:00, ?it/s]"
      ]
     },
     "metadata": {},
     "output_type": "display_data"
    },
    {
     "data": {
      "application/vnd.jupyter.widget-view+json": {
       "model_id": "",
       "version_major": 2,
       "version_minor": 0
      },
      "text/plain": [
       "Validating: 0it [00:00, ?it/s]"
      ]
     },
     "metadata": {},
     "output_type": "display_data"
    },
    {
     "data": {
      "application/vnd.jupyter.widget-view+json": {
       "model_id": "",
       "version_major": 2,
       "version_minor": 0
      },
      "text/plain": [
       "Validating: 0it [00:00, ?it/s]"
      ]
     },
     "metadata": {},
     "output_type": "display_data"
    }
   ],
   "source": [
    "trainer.fit(model, train_dataloader=train_dl, val_dataloaders=val_dl)"
   ]
  },
  {
   "cell_type": "code",
   "execution_count": null,
   "id": "cd26463e",
   "metadata": {},
   "outputs": [
    {
     "name": "stderr",
     "output_type": "stream",
     "text": [
      "LOCAL_RANK: 0 - CUDA_VISIBLE_DEVICES: [0]\n",
      "/opt/conda/envs/dl4phys/lib/python3.9/site-packages/pytorch_lightning/trainer/data_loading.py:132: UserWarning: The dataloader, test_dataloader 0, does not have many workers which may be a bottleneck. Consider increasing the value of the `num_workers` argument` (try 8 which is the number of cpus on this machine) in the `DataLoader` init to improve performance.\n",
      "  rank_zero_warn(\n"
     ]
    },
    {
     "data": {
      "application/vnd.jupyter.widget-view+json": {
       "model_id": "84cd9c8ba1854b8e817dbe382e6a9060",
       "version_major": 2,
       "version_minor": 0
      },
      "text/plain": [
       "Testing: 0it [00:00, ?it/s]"
      ]
     },
     "metadata": {},
     "output_type": "display_data"
    },
    {
     "name": "stdout",
     "output_type": "stream",
     "text": [
      "--------------------------------------------------------------------------------\n",
      "DATALOADER:0 TEST RESULTS\n",
      "{'test_accuracy': 0.6751999855041504,\n",
      " 'test_loss': 0.5903524160385132,\n",
      " 'test_roc_auc': 0.7281567454338074}\n",
      "--------------------------------------------------------------------------------\n"
     ]
    },
    {
     "data": {
      "text/plain": [
       "[{'test_accuracy': 0.6751999855041504,\n",
       "  'test_roc_auc': 0.7281567454338074,\n",
       "  'test_loss': 0.5903524160385132}]"
      ]
     },
     "execution_count": null,
     "metadata": {},
     "output_type": "execute_result"
    }
   ],
   "source": [
    "trainer.test(model)"
   ]
  },
  {
   "cell_type": "code",
   "execution_count": null,
   "id": "9705934f",
   "metadata": {},
   "outputs": [
    {
     "name": "stderr",
     "output_type": "stream",
     "text": [
      "LOCAL_RANK: 0 - CUDA_VISIBLE_DEVICES: [0]\n"
     ]
    },
    {
     "data": {
      "application/vnd.jupyter.widget-view+json": {
       "model_id": "2a0ec27a0d854410b73e5aaaf98b174b",
       "version_major": 2,
       "version_minor": 0
      },
      "text/plain": [
       "Predicting: 0it [00:00, ?it/s]"
      ]
     },
     "metadata": {},
     "output_type": "display_data"
    }
   ],
   "source": [
    "preds = trainer.predict(model, test_dl)"
   ]
  },
  {
   "cell_type": "code",
   "execution_count": null,
   "id": "86be7ca2-3bb3-479b-9917-e3ac00dd67c8",
   "metadata": {},
   "outputs": [
    {
     "data": {
      "text/plain": [
       "150"
      ]
     },
     "execution_count": null,
     "metadata": {},
     "output_type": "execute_result"
    }
   ],
   "source": [
    "len(preds)"
   ]
  },
  {
   "cell_type": "code",
   "execution_count": null,
   "id": "31e00285-96ed-4920-87c7-10f73a974a65",
   "metadata": {},
   "outputs": [],
   "source": [
    "preds_np = np.vstack(preds)"
   ]
  },
  {
   "cell_type": "code",
   "execution_count": null,
   "id": "be5a2e6e-4726-4311-81ed-543a7ea426b4",
   "metadata": {},
   "outputs": [
    {
     "data": {
      "text/plain": [
       "(15000, 2)"
      ]
     },
     "execution_count": null,
     "metadata": {},
     "output_type": "execute_result"
    }
   ],
   "source": [
    "preds_np.shape"
   ]
  },
  {
   "cell_type": "code",
   "execution_count": null,
   "id": "a228de91-ae61-4ce1-8ae3-8fd947965b22",
   "metadata": {},
   "outputs": [
    {
     "data": {
      "text/plain": [
       "(15000,)"
      ]
     },
     "execution_count": null,
     "metadata": {},
     "output_type": "execute_result"
    }
   ],
   "source": [
    "y_test.numpy().shape"
   ]
  },
  {
   "cell_type": "code",
   "execution_count": null,
   "id": "1c5b81be-b6eb-4b3d-a63b-99bfaa584085",
   "metadata": {},
   "outputs": [
    {
     "data": {
      "text/plain": [
       "tensor([-0.5266, -0.8931])"
      ]
     },
     "execution_count": null,
     "metadata": {},
     "output_type": "execute_result"
    }
   ],
   "source": [
    "preds[0][0]"
   ]
  },
  {
   "cell_type": "code",
   "execution_count": null,
   "id": "2fc53c16-1b58-421f-8fe5-f0b4636f1320",
   "metadata": {},
   "outputs": [
    {
     "data": {
      "text/plain": [
       "0.7281606545078303"
      ]
     },
     "execution_count": null,
     "metadata": {},
     "output_type": "execute_result"
    }
   ],
   "source": [
    "roc_auc_score(y_test, preds_np[:, 1])"
   ]
  },
  {
   "cell_type": "code",
   "execution_count": null,
   "id": "a237bd02-7bc9-4dac-a29e-733570ca2789",
   "metadata": {},
   "outputs": [],
   "source": [
    "rc = roc_curve(y_test, preds_np[:, 1])"
   ]
  },
  {
   "cell_type": "code",
   "execution_count": null,
   "id": "ae0174f1-9744-4baf-a0e3-8f03a564982c",
   "metadata": {},
   "outputs": [
    {
     "data": {
      "text/plain": [
       "3"
      ]
     },
     "execution_count": null,
     "metadata": {},
     "output_type": "execute_result"
    }
   ],
   "source": [
    "len(rc)"
   ]
  },
  {
   "cell_type": "code",
   "execution_count": null,
   "id": "55e5b33b-aebb-4912-81d8-9bceaf9a22a4",
   "metadata": {},
   "outputs": [
    {
     "data": {
      "text/plain": [
       "(6252,)"
      ]
     },
     "execution_count": null,
     "metadata": {},
     "output_type": "execute_result"
    }
   ],
   "source": [
    "rc[0].shape"
   ]
  },
  {
   "cell_type": "code",
   "execution_count": null,
   "id": "feffc690-d5a1-41fb-9d0e-d979e2d55eb0",
   "metadata": {},
   "outputs": [
    {
     "data": {
      "text/plain": [
       "(6252,)"
      ]
     },
     "execution_count": null,
     "metadata": {},
     "output_type": "execute_result"
    }
   ],
   "source": [
    "rc[1].shape"
   ]
  },
  {
   "cell_type": "code",
   "execution_count": null,
   "id": "3767cde0-6723-45b7-96d2-09a3bde36e0d",
   "metadata": {},
   "outputs": [
    {
     "data": {
      "text/plain": [
       "(6252,)"
      ]
     },
     "execution_count": null,
     "metadata": {},
     "output_type": "execute_result"
    }
   ],
   "source": [
    "rc[2].shape"
   ]
  },
  {
   "cell_type": "code",
   "execution_count": null,
   "id": "db2e5839-d773-4fb9-84ae-039416a64bc3",
   "metadata": {},
   "outputs": [
    {
     "data": {
      "text/plain": [
       "(0.0, 1.0)"
      ]
     },
     "execution_count": null,
     "metadata": {},
     "output_type": "execute_result"
    },
    {
     "data": {
      "image/png": "[encoded data removed]",
      "text/plain": [
       "<Figure size 432x288 with 1 Axes>"
      ]
     },
     "metadata": {
      "needs_background": "light"
     },
     "output_type": "display_data"
    }
   ],
   "source": [
    "plt.plot(rc[1], 1-rc[0], '-')\n",
    "plt.xlim(0, 1)\n",
    "plt.ylim(0, 1)"
   ]
  },
  {
   "cell_type": "markdown",
   "id": "9f991f06-0222-47b8-8f9e-e2ef88442360",
   "metadata": {},
   "source": [
    "## With fastai"
   ]
  },
  {
   "cell_type": "code",
   "execution_count": null,
   "id": "f0502555-e215-49b0-8e9a-5fd81d8e7857",
   "metadata": {},
   "outputs": [
    {
     "data": {
      "text/html": [
       "<div>\n",
       "<style scoped>\n",
       "    .dataframe tbody tr th:only-of-type {\n",
       "        vertical-align: middle;\n",
       "    }\n",
       "\n",
       "    .dataframe tbody tr th {\n",
       "        vertical-align: top;\n",
       "    }\n",
       "\n",
       "    .dataframe thead th {\n",
       "        text-align: right;\n",
       "    }\n",
       "</style>\n",
       "<table border=\"1\" class=\"dataframe\">\n",
       "  <thead>\n",
       "    <tr style=\"text-align: right;\">\n",
       "      <th></th>\n",
       "      <th>feature_0</th>\n",
       "      <th>feature_1</th>\n",
       "      <th>feature_2</th>\n",
       "      <th>feature_3</th>\n",
       "      <th>feature_4</th>\n",
       "      <th>feature_5</th>\n",
       "      <th>feature_6</th>\n",
       "      <th>feature_7</th>\n",
       "      <th>feature_8</th>\n",
       "      <th>feature_9</th>\n",
       "      <th>...</th>\n",
       "      <th>feature_36</th>\n",
       "      <th>feature_37</th>\n",
       "      <th>feature_38</th>\n",
       "      <th>feature_39</th>\n",
       "      <th>feature_40</th>\n",
       "      <th>feature_41</th>\n",
       "      <th>feature_42</th>\n",
       "      <th>feature_43</th>\n",
       "      <th>feature_44</th>\n",
       "      <th>label</th>\n",
       "    </tr>\n",
       "  </thead>\n",
       "  <tbody>\n",
       "    <tr>\n",
       "      <th>0</th>\n",
       "      <td>0.582885</td>\n",
       "      <td>0.359834</td>\n",
       "      <td>0.159466</td>\n",
       "      <td>0.286434</td>\n",
       "      <td>0.109313</td>\n",
       "      <td>0.031360</td>\n",
       "      <td>0.291994</td>\n",
       "      <td>0.104627</td>\n",
       "      <td>0.025298</td>\n",
       "      <td>0.269625</td>\n",
       "      <td>...</td>\n",
       "      <td>0.191827</td>\n",
       "      <td>0.045562</td>\n",
       "      <td>0.004745</td>\n",
       "      <td>0.183424</td>\n",
       "      <td>0.042593</td>\n",
       "      <td>0.004490</td>\n",
       "      <td>0.174668</td>\n",
       "      <td>0.039015</td>\n",
       "      <td>0.004060</td>\n",
       "      <td>0.0</td>\n",
       "    </tr>\n",
       "    <tr>\n",
       "      <th>1</th>\n",
       "      <td>0.260756</td>\n",
       "      <td>0.084642</td>\n",
       "      <td>0.019812</td>\n",
       "      <td>0.240676</td>\n",
       "      <td>0.073122</td>\n",
       "      <td>0.015786</td>\n",
       "      <td>0.225725</td>\n",
       "      <td>0.063897</td>\n",
       "      <td>0.012387</td>\n",
       "      <td>0.215447</td>\n",
       "      <td>...</td>\n",
       "      <td>0.126111</td>\n",
       "      <td>0.021134</td>\n",
       "      <td>0.002316</td>\n",
       "      <td>0.122458</td>\n",
       "      <td>0.018581</td>\n",
       "      <td>0.001079</td>\n",
       "      <td>0.117416</td>\n",
       "      <td>0.017345</td>\n",
       "      <td>0.000992</td>\n",
       "      <td>0.0</td>\n",
       "    </tr>\n",
       "    <tr>\n",
       "      <th>2</th>\n",
       "      <td>0.564012</td>\n",
       "      <td>0.330684</td>\n",
       "      <td>0.127177</td>\n",
       "      <td>0.292710</td>\n",
       "      <td>0.110119</td>\n",
       "      <td>0.024787</td>\n",
       "      <td>0.258846</td>\n",
       "      <td>0.086578</td>\n",
       "      <td>0.017215</td>\n",
       "      <td>0.240176</td>\n",
       "      <td>...</td>\n",
       "      <td>0.150572</td>\n",
       "      <td>0.034919</td>\n",
       "      <td>0.003328</td>\n",
       "      <td>0.147431</td>\n",
       "      <td>0.032971</td>\n",
       "      <td>0.003017</td>\n",
       "      <td>0.143079</td>\n",
       "      <td>0.031147</td>\n",
       "      <td>0.002829</td>\n",
       "      <td>0.0</td>\n",
       "    </tr>\n",
       "    <tr>\n",
       "      <th>3</th>\n",
       "      <td>0.395935</td>\n",
       "      <td>0.170801</td>\n",
       "      <td>0.042085</td>\n",
       "      <td>0.344588</td>\n",
       "      <td>0.130606</td>\n",
       "      <td>0.026208</td>\n",
       "      <td>0.271026</td>\n",
       "      <td>0.090233</td>\n",
       "      <td>0.017891</td>\n",
       "      <td>0.243731</td>\n",
       "      <td>...</td>\n",
       "      <td>0.164546</td>\n",
       "      <td>0.034850</td>\n",
       "      <td>0.004036</td>\n",
       "      <td>0.151774</td>\n",
       "      <td>0.029703</td>\n",
       "      <td>0.002897</td>\n",
       "      <td>0.149630</td>\n",
       "      <td>0.028986</td>\n",
       "      <td>0.002850</td>\n",
       "      <td>0.0</td>\n",
       "    </tr>\n",
       "    <tr>\n",
       "      <th>4</th>\n",
       "      <td>0.196304</td>\n",
       "      <td>0.051556</td>\n",
       "      <td>0.011701</td>\n",
       "      <td>0.192528</td>\n",
       "      <td>0.048644</td>\n",
       "      <td>0.010743</td>\n",
       "      <td>0.178389</td>\n",
       "      <td>0.043404</td>\n",
       "      <td>0.009060</td>\n",
       "      <td>0.172218</td>\n",
       "      <td>...</td>\n",
       "      <td>0.084400</td>\n",
       "      <td>0.012952</td>\n",
       "      <td>0.001005</td>\n",
       "      <td>0.078391</td>\n",
       "      <td>0.011012</td>\n",
       "      <td>0.000815</td>\n",
       "      <td>0.076849</td>\n",
       "      <td>0.010029</td>\n",
       "      <td>0.000572</td>\n",
       "      <td>0.0</td>\n",
       "    </tr>\n",
       "  </tbody>\n",
       "</table>\n",
       "<p>5 rows × 46 columns</p>\n",
       "</div>"
      ],
      "text/plain": [
       "   feature_0  feature_1  feature_2  feature_3  feature_4  feature_5  \\\n",
       "0   0.582885   0.359834   0.159466   0.286434   0.109313   0.031360   \n",
       "1   0.260756   0.084642   0.019812   0.240676   0.073122   0.015786   \n",
       "2   0.564012   0.330684   0.127177   0.292710   0.110119   0.024787   \n",
       "3   0.395935   0.170801   0.042085   0.344588   0.130606   0.026208   \n",
       "4   0.196304   0.051556   0.011701   0.192528   0.048644   0.010743   \n",
       "\n",
       "   feature_6  feature_7  feature_8  feature_9  ...  feature_36  feature_37  \\\n",
       "0   0.291994   0.104627   0.025298   0.269625  ...    0.191827    0.045562   \n",
       "1   0.225725   0.063897   0.012387   0.215447  ...    0.126111    0.021134   \n",
       "2   0.258846   0.086578   0.017215   0.240176  ...    0.150572    0.034919   \n",
       "3   0.271026   0.090233   0.017891   0.243731  ...    0.164546    0.034850   \n",
       "4   0.178389   0.043404   0.009060   0.172218  ...    0.084400    0.012952   \n",
       "\n",
       "   feature_38  feature_39  feature_40  feature_41  feature_42  feature_43  \\\n",
       "0    0.004745    0.183424    0.042593    0.004490    0.174668    0.039015   \n",
       "1    0.002316    0.122458    0.018581    0.001079    0.117416    0.017345   \n",
       "2    0.003328    0.147431    0.032971    0.003017    0.143079    0.031147   \n",
       "3    0.004036    0.151774    0.029703    0.002897    0.149630    0.028986   \n",
       "4    0.001005    0.078391    0.011012    0.000815    0.076849    0.010029   \n",
       "\n",
       "   feature_44  label  \n",
       "0    0.004060    0.0  \n",
       "1    0.000992    0.0  \n",
       "2    0.002829    0.0  \n",
       "3    0.002850    0.0  \n",
       "4    0.000572    0.0  \n",
       "\n",
       "[5 rows x 46 columns]"
      ]
     },
     "execution_count": null,
     "metadata": {},
     "output_type": "execute_result"
    }
   ],
   "source": [
    "df.head()"
   ]
  },
  {
   "cell_type": "code",
   "execution_count": null,
   "id": "f3192dae-411f-4076-ae7e-d2e97f5f8b85",
   "metadata": {},
   "outputs": [
    {
     "data": {
      "text/plain": [
       "2"
      ]
     },
     "execution_count": null,
     "metadata": {},
     "output_type": "execute_result"
    }
   ],
   "source": [
    "df[\"label\"].nunique()"
   ]
  },
  {
   "cell_type": "code",
   "execution_count": null,
   "id": "27d38d0d-5402-42b9-bdf7-b34584a8f0ff",
   "metadata": {},
   "outputs": [],
   "source": [
    "from fastai.tabular.all import *"
   ]
  },
  {
   "cell_type": "code",
   "execution_count": null,
   "id": "96c0d931-dfd3-4950-b10b-51ac543bc8ee",
   "metadata": {},
   "outputs": [],
   "source": [
    "features = df.columns.drop(\"label\")"
   ]
  },
  {
   "cell_type": "code",
   "execution_count": null,
   "id": "e006bb68-657b-437a-9de4-6a14a20c9f8b",
   "metadata": {},
   "outputs": [],
   "source": [
    "splits = RandomSplitter(valid_pct=0.10)(range_of(df[:85_000]))"
   ]
  },
  {
   "cell_type": "code",
   "execution_count": null,
   "id": "77c20431-221c-428c-b71d-640607b9eaba",
   "metadata": {},
   "outputs": [
    {
     "data": {
      "text/plain": [
       "((#76500) [78294,81755,8283,47871,84655,67855,71312,74301,56209,7510...],\n",
       " (#8500) [66260,14610,57717,999,45759,14189,966,24236,68218,60306...])"
      ]
     },
     "execution_count": null,
     "metadata": {},
     "output_type": "execute_result"
    }
   ],
   "source": [
    "splits"
   ]
  },
  {
   "cell_type": "code",
   "execution_count": null,
   "id": "d157d939-d3b8-4d17-98ac-32c44f3bda1e",
   "metadata": {},
   "outputs": [],
   "source": [
    "dls = TabularDataLoaders.from_df(df, y_names=\"label\", cont_names=list(features), procs=[Normalize], bs=1000, y_block=CategoryBlock, splits=splits)"
   ]
  },
  {
   "cell_type": "code",
   "execution_count": null,
   "id": "f4da7090-0421-4d0b-baec-fdd3166145ce",
   "metadata": {},
   "outputs": [],
   "source": [
    "learn = tabular_learner(dls, metrics=[accuracy, RocAucBinary()])"
   ]
  },
  {
   "cell_type": "code",
   "execution_count": null,
   "id": "e570ab61-f3da-4198-b768-241b15ed6208",
   "metadata": {},
   "outputs": [
    {
     "data": {
      "text/html": [],
      "text/plain": [
       "<IPython.core.display.HTML object>"
      ]
     },
     "metadata": {},
     "output_type": "display_data"
    },
    {
     "data": {
      "text/plain": [
       "SuggestedLRs(valley=0.0006918309954926372)"
      ]
     },
     "execution_count": null,
     "metadata": {},
     "output_type": "execute_result"
    },
    {
     "data": {
      "image/png": "[encoded data removed]",
      "text/plain": [
       "<Figure size 432x288 with 1 Axes>"
      ]
     },
     "metadata": {
      "needs_background": "light"
     },
     "output_type": "display_data"
    }
   ],
   "source": [
    "learn.lr_find()"
   ]
  },
  {
   "cell_type": "code",
   "execution_count": null,
   "id": "b167c721-8a56-431c-8102-69ca1aec7847",
   "metadata": {},
   "outputs": [
    {
     "data": {
      "text/html": [
       "<table border=\"1\" class=\"dataframe\">\n",
       "  <thead>\n",
       "    <tr style=\"text-align: left;\">\n",
       "      <th>epoch</th>\n",
       "      <th>train_loss</th>\n",
       "      <th>valid_loss</th>\n",
       "      <th>accuracy</th>\n",
       "      <th>roc_auc_score</th>\n",
       "      <th>time</th>\n",
       "    </tr>\n",
       "  </thead>\n",
       "  <tbody>\n",
       "    <tr>\n",
       "      <td>0</td>\n",
       "      <td>0.489699</td>\n",
       "      <td>0.443246</td>\n",
       "      <td>0.794600</td>\n",
       "      <td>0.875026</td>\n",
       "      <td>00:00</td>\n",
       "    </tr>\n",
       "    <tr>\n",
       "      <td>1</td>\n",
       "      <td>0.448113</td>\n",
       "      <td>0.438429</td>\n",
       "      <td>0.797850</td>\n",
       "      <td>0.877755</td>\n",
       "      <td>00:00</td>\n",
       "    </tr>\n",
       "    <tr>\n",
       "      <td>2</td>\n",
       "      <td>0.440322</td>\n",
       "      <td>0.437804</td>\n",
       "      <td>0.798050</td>\n",
       "      <td>0.878260</td>\n",
       "      <td>00:00</td>\n",
       "    </tr>\n",
       "  </tbody>\n",
       "</table>"
      ],
      "text/plain": [
       "<IPython.core.display.HTML object>"
      ]
     },
     "metadata": {},
     "output_type": "display_data"
    }
   ],
   "source": [
    "learn.fit_one_cycle(3, lr_max=1e-3)"
   ]
  },
  {
   "cell_type": "code",
   "execution_count": null,
   "id": "f7db480a-516f-4fbe-b748-6f83f9a0d00a",
   "metadata": {},
   "outputs": [],
   "source": [
    "test_dl = learn.dls.test_dl(df[85_000:])"
   ]
  },
  {
   "cell_type": "code",
   "execution_count": null,
   "id": "d7faf926-f254-4236-9b80-13d741195e3e",
   "metadata": {},
   "outputs": [
    {
     "data": {
      "text/html": [],
      "text/plain": [
       "<IPython.core.display.HTML object>"
      ]
     },
     "metadata": {},
     "output_type": "display_data"
    }
   ],
   "source": [
    "preds = learn.get_preds(dl=test_dl)"
   ]
  },
  {
   "cell_type": "code",
   "execution_count": null,
   "id": "ad883d00-b8a3-4923-a9b4-390a3d528c69",
   "metadata": {},
   "outputs": [
    {
     "data": {
      "text/plain": [
       "(tensor([[0.4733, 0.5267],\n",
       "         [0.6497, 0.3503],\n",
       "         [0.5906, 0.4094],\n",
       "         ...,\n",
       "         [0.4672, 0.5328],\n",
       "         [0.2885, 0.7115],\n",
       "         [0.9574, 0.0426]]),\n",
       " tensor([[0],\n",
       "         [0],\n",
       "         [1],\n",
       "         ...,\n",
       "         [0],\n",
       "         [1],\n",
       "         [0]], dtype=torch.int8))"
      ]
     },
     "execution_count": null,
     "metadata": {},
     "output_type": "execute_result"
    }
   ],
   "source": [
    "preds"
   ]
  },
  {
   "cell_type": "code",
   "execution_count": null,
   "id": "a7991f51-1d67-459b-a8a1-253b76a070b7",
   "metadata": {},
   "outputs": [
    {
     "data": {
      "text/plain": [
       "tensor([[0.4733, 0.5267],\n",
       "        [0.6497, 0.3503],\n",
       "        [0.5906, 0.4094],\n",
       "        ...,\n",
       "        [0.4672, 0.5328],\n",
       "        [0.2885, 0.7115],\n",
       "        [0.9574, 0.0426]])"
      ]
     },
     "execution_count": null,
     "metadata": {},
     "output_type": "execute_result"
    }
   ],
   "source": [
    "preds[0]"
   ]
  },
  {
   "cell_type": "code",
   "execution_count": null,
   "id": "d1c9b089-bf03-4286-b878-30de54d51628",
   "metadata": {},
   "outputs": [],
   "source": [
    "rc = roc_curve(df[85_000:][\"label\"], preds[0][:, 1])"
   ]
  },
  {
   "cell_type": "code",
   "execution_count": null,
   "id": "2aeb4add-2243-436e-9760-5cd46e15c360",
   "metadata": {},
   "outputs": [
    {
     "data": {
      "text/plain": [
       "3"
      ]
     },
     "execution_count": null,
     "metadata": {},
     "output_type": "execute_result"
    }
   ],
   "source": [
    "len(rc)"
   ]
  },
  {
   "cell_type": "code",
   "execution_count": null,
   "id": "74b5a55b-bc0c-4af3-9a30-8f90561a8210",
   "metadata": {},
   "outputs": [
    {
     "data": {
      "text/plain": [
       "(4170,)"
      ]
     },
     "execution_count": null,
     "metadata": {},
     "output_type": "execute_result"
    }
   ],
   "source": [
    "rc[0].shape"
   ]
  },
  {
   "cell_type": "code",
   "execution_count": null,
   "id": "a9d9f8e5-4035-49d5-9d88-1744b27f53e4",
   "metadata": {},
   "outputs": [
    {
     "data": {
      "text/plain": [
       "(4170,)"
      ]
     },
     "execution_count": null,
     "metadata": {},
     "output_type": "execute_result"
    }
   ],
   "source": [
    "rc[1].shape"
   ]
  },
  {
   "cell_type": "code",
   "execution_count": null,
   "id": "79178169-7655-4394-b21d-50aa4133d7f4",
   "metadata": {},
   "outputs": [
    {
     "data": {
      "text/plain": [
       "(4170,)"
      ]
     },
     "execution_count": null,
     "metadata": {},
     "output_type": "execute_result"
    }
   ],
   "source": [
    "rc[2].shape"
   ]
  },
  {
   "cell_type": "code",
   "execution_count": null,
   "id": "cadbbae0-af12-4cb3-a3d5-cc89cb63babb",
   "metadata": {},
   "outputs": [
    {
     "data": {
      "text/plain": [
       "(0.0, 1.0)"
      ]
     },
     "execution_count": null,
     "metadata": {},
     "output_type": "execute_result"
    },
    {
     "data": {
      "image/png": "[encoded data removed]",
      "text/plain": [
       "<Figure size 432x288 with 1 Axes>"
      ]
     },
     "metadata": {
      "needs_background": "light"
     },
     "output_type": "display_data"
    }
   ],
   "source": [
    "plt.plot(rc[1], 1-rc[0], '-')\n",
    "plt.xlim(0, 1)\n",
    "plt.ylim(0, 1)"
   ]
  },
  {
   "cell_type": "code",
   "execution_count": null,
   "id": "983cc87a-9f7f-49cc-894f-8a3fde310ee4",
   "metadata": {},
   "outputs": [],
   "source": []
  }
 ],
 "metadata": {
  "kernelspec": {
   "display_name": "Python 3 (ipykernel)",
   "language": "python",
   "name": "python3"
  }
 },
 "nbformat": 4,
 "nbformat_minor": 5
}
