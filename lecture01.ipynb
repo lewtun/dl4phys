{
 "cells": [
  {
   "cell_type": "markdown",
   "id": "9e046cf7-e28b-4384-989c-ea8400b58982",
   "metadata": {},
   "source": [
    "# Lesson 1 - Introduction to deep neural networks"
   ]
  },
  {
   "cell_type": "code",
   "execution_count": null,
   "id": "d07469bf",
   "metadata": {},
   "outputs": [],
   "source": [
    "%load_ext autoreload\n",
    "%autoreload 2"
   ]
  },
  {
   "cell_type": "markdown",
   "id": "6ff2081e-ce52-49f2-b1e0-d76ccab64886",
   "metadata": {},
   "source": [
    "## TODO"
   ]
  },
  {
   "cell_type": "markdown",
   "id": "1c6233fc-0a3e-4bab-b955-e1efb4383c3f",
   "metadata": {},
   "source": [
    "* Put dataset on the Hub with a loading script\n",
    "* Figure out how to load `Dataset` objects in dataloaders\n",
    "* Tidy up, add prose\n",
    "* Add exercises\n",
    "* Push model to Hub? => save for next lecture when we actually train from scratch\n",
    "* Primer on N-subjettiness"
   ]
  },
  {
   "cell_type": "markdown",
   "id": "3f46888d",
   "metadata": {},
   "source": [
    "## Imports"
   ]
  },
  {
   "cell_type": "code",
   "execution_count": null,
   "id": "3694579d",
   "metadata": {},
   "outputs": [],
   "source": [
    "import numpy as np\n",
    "import pandas as pd\n",
    "from datasets import Dataset\n",
    "from pytorch_lightning import LightningModule, Trainer\n",
    "import torch\n",
    "from torch.utils.data import DataLoader, TensorDataset\n",
    "import torch.nn.functional as F\n",
    "import torch.nn as nn\n",
    "import torchmetrics\n",
    "from sklearn.metrics import roc_auc_score, roc_curve\n",
    "import matplotlib.pyplot as plt\n",
    "from huggingface_hub import PyTorchModelHubMixin"
   ]
  },
  {
   "cell_type": "markdown",
   "id": "360f069d",
   "metadata": {},
   "source": [
    "## Load data"
   ]
  },
  {
   "cell_type": "code",
   "execution_count": null,
   "id": "5680b9a5",
   "metadata": {},
   "outputs": [],
   "source": [
    "EVENTS_PATH = \"data/QG_nsubs.npz?dl=1\"\n",
    "\n",
    "with np.load(EVENTS_PATH) as f:\n",
    "    X, y = f['X'], f['y']"
   ]
  },
  {
   "cell_type": "code",
   "execution_count": null,
   "id": "a18f838b",
   "metadata": {},
   "outputs": [
    {
     "data": {
      "text/plain": [
       "((100000, 45), (100000,))"
      ]
     },
     "execution_count": null,
     "metadata": {},
     "output_type": "execute_result"
    }
   ],
   "source": [
    "X.shape, y.shape"
   ]
  },
  {
   "cell_type": "code",
   "execution_count": null,
   "id": "e1d13bec",
   "metadata": {},
   "outputs": [],
   "source": [
    "data = {f\"feature_{idx}\":X[:, idx] for idx in range(45)}"
   ]
  },
  {
   "cell_type": "code",
   "execution_count": null,
   "id": "c49662be",
   "metadata": {},
   "outputs": [],
   "source": [
    "data[\"label\"] = y"
   ]
  },
  {
   "cell_type": "code",
   "execution_count": null,
   "id": "47b34a41",
   "metadata": {},
   "outputs": [
    {
     "data": {
      "text/html": [
       "<div>\n",
       "<style scoped>\n",
       "    .dataframe tbody tr th:only-of-type {\n",
       "        vertical-align: middle;\n",
       "    }\n",
       "\n",
       "    .dataframe tbody tr th {\n",
       "        vertical-align: top;\n",
       "    }\n",
       "\n",
       "    .dataframe thead th {\n",
       "        text-align: right;\n",
       "    }\n",
       "</style>\n",
       "<table border=\"1\" class=\"dataframe\">\n",
       "  <thead>\n",
       "    <tr style=\"text-align: right;\">\n",
       "      <th></th>\n",
       "      <th>feature_0</th>\n",
       "      <th>feature_1</th>\n",
       "      <th>feature_2</th>\n",
       "      <th>feature_3</th>\n",
       "      <th>feature_4</th>\n",
       "      <th>feature_5</th>\n",
       "      <th>feature_6</th>\n",
       "      <th>feature_7</th>\n",
       "      <th>feature_8</th>\n",
       "      <th>feature_9</th>\n",
       "      <th>...</th>\n",
       "      <th>feature_36</th>\n",
       "      <th>feature_37</th>\n",
       "      <th>feature_38</th>\n",
       "      <th>feature_39</th>\n",
       "      <th>feature_40</th>\n",
       "      <th>feature_41</th>\n",
       "      <th>feature_42</th>\n",
       "      <th>feature_43</th>\n",
       "      <th>feature_44</th>\n",
       "      <th>label</th>\n",
       "    </tr>\n",
       "  </thead>\n",
       "  <tbody>\n",
       "    <tr>\n",
       "      <th>0</th>\n",
       "      <td>0.582885</td>\n",
       "      <td>0.359834</td>\n",
       "      <td>0.159466</td>\n",
       "      <td>0.286434</td>\n",
       "      <td>0.109313</td>\n",
       "      <td>0.031360</td>\n",
       "      <td>0.291994</td>\n",
       "      <td>0.104627</td>\n",
       "      <td>0.025298</td>\n",
       "      <td>0.269625</td>\n",
       "      <td>...</td>\n",
       "      <td>0.191827</td>\n",
       "      <td>0.045562</td>\n",
       "      <td>0.004745</td>\n",
       "      <td>0.183424</td>\n",
       "      <td>0.042593</td>\n",
       "      <td>0.004490</td>\n",
       "      <td>0.174668</td>\n",
       "      <td>0.039015</td>\n",
       "      <td>0.004060</td>\n",
       "      <td>0.0</td>\n",
       "    </tr>\n",
       "    <tr>\n",
       "      <th>1</th>\n",
       "      <td>0.260756</td>\n",
       "      <td>0.084642</td>\n",
       "      <td>0.019812</td>\n",
       "      <td>0.240676</td>\n",
       "      <td>0.073122</td>\n",
       "      <td>0.015786</td>\n",
       "      <td>0.225725</td>\n",
       "      <td>0.063897</td>\n",
       "      <td>0.012387</td>\n",
       "      <td>0.215447</td>\n",
       "      <td>...</td>\n",
       "      <td>0.126111</td>\n",
       "      <td>0.021134</td>\n",
       "      <td>0.002316</td>\n",
       "      <td>0.122458</td>\n",
       "      <td>0.018581</td>\n",
       "      <td>0.001079</td>\n",
       "      <td>0.117416</td>\n",
       "      <td>0.017345</td>\n",
       "      <td>0.000992</td>\n",
       "      <td>0.0</td>\n",
       "    </tr>\n",
       "    <tr>\n",
       "      <th>2</th>\n",
       "      <td>0.564012</td>\n",
       "      <td>0.330684</td>\n",
       "      <td>0.127177</td>\n",
       "      <td>0.292710</td>\n",
       "      <td>0.110119</td>\n",
       "      <td>0.024787</td>\n",
       "      <td>0.258846</td>\n",
       "      <td>0.086578</td>\n",
       "      <td>0.017215</td>\n",
       "      <td>0.240176</td>\n",
       "      <td>...</td>\n",
       "      <td>0.150572</td>\n",
       "      <td>0.034919</td>\n",
       "      <td>0.003328</td>\n",
       "      <td>0.147431</td>\n",
       "      <td>0.032971</td>\n",
       "      <td>0.003017</td>\n",
       "      <td>0.143079</td>\n",
       "      <td>0.031147</td>\n",
       "      <td>0.002829</td>\n",
       "      <td>0.0</td>\n",
       "    </tr>\n",
       "    <tr>\n",
       "      <th>3</th>\n",
       "      <td>0.395935</td>\n",
       "      <td>0.170801</td>\n",
       "      <td>0.042085</td>\n",
       "      <td>0.344588</td>\n",
       "      <td>0.130606</td>\n",
       "      <td>0.026208</td>\n",
       "      <td>0.271026</td>\n",
       "      <td>0.090233</td>\n",
       "      <td>0.017891</td>\n",
       "      <td>0.243731</td>\n",
       "      <td>...</td>\n",
       "      <td>0.164546</td>\n",
       "      <td>0.034850</td>\n",
       "      <td>0.004036</td>\n",
       "      <td>0.151774</td>\n",
       "      <td>0.029703</td>\n",
       "      <td>0.002897</td>\n",
       "      <td>0.149630</td>\n",
       "      <td>0.028986</td>\n",
       "      <td>0.002850</td>\n",
       "      <td>0.0</td>\n",
       "    </tr>\n",
       "    <tr>\n",
       "      <th>4</th>\n",
       "      <td>0.196304</td>\n",
       "      <td>0.051556</td>\n",
       "      <td>0.011701</td>\n",
       "      <td>0.192528</td>\n",
       "      <td>0.048644</td>\n",
       "      <td>0.010743</td>\n",
       "      <td>0.178389</td>\n",
       "      <td>0.043404</td>\n",
       "      <td>0.009060</td>\n",
       "      <td>0.172218</td>\n",
       "      <td>...</td>\n",
       "      <td>0.084400</td>\n",
       "      <td>0.012952</td>\n",
       "      <td>0.001005</td>\n",
       "      <td>0.078391</td>\n",
       "      <td>0.011012</td>\n",
       "      <td>0.000815</td>\n",
       "      <td>0.076849</td>\n",
       "      <td>0.010029</td>\n",
       "      <td>0.000572</td>\n",
       "      <td>0.0</td>\n",
       "    </tr>\n",
       "  </tbody>\n",
       "</table>\n",
       "<p>5 rows × 46 columns</p>\n",
       "</div>"
      ],
      "text/plain": [
       "   feature_0  feature_1  feature_2  feature_3  feature_4  feature_5  \\\n",
       "0   0.582885   0.359834   0.159466   0.286434   0.109313   0.031360   \n",
       "1   0.260756   0.084642   0.019812   0.240676   0.073122   0.015786   \n",
       "2   0.564012   0.330684   0.127177   0.292710   0.110119   0.024787   \n",
       "3   0.395935   0.170801   0.042085   0.344588   0.130606   0.026208   \n",
       "4   0.196304   0.051556   0.011701   0.192528   0.048644   0.010743   \n",
       "\n",
       "   feature_6  feature_7  feature_8  feature_9  ...  feature_36  feature_37  \\\n",
       "0   0.291994   0.104627   0.025298   0.269625  ...    0.191827    0.045562   \n",
       "1   0.225725   0.063897   0.012387   0.215447  ...    0.126111    0.021134   \n",
       "2   0.258846   0.086578   0.017215   0.240176  ...    0.150572    0.034919   \n",
       "3   0.271026   0.090233   0.017891   0.243731  ...    0.164546    0.034850   \n",
       "4   0.178389   0.043404   0.009060   0.172218  ...    0.084400    0.012952   \n",
       "\n",
       "   feature_38  feature_39  feature_40  feature_41  feature_42  feature_43  \\\n",
       "0    0.004745    0.183424    0.042593    0.004490    0.174668    0.039015   \n",
       "1    0.002316    0.122458    0.018581    0.001079    0.117416    0.017345   \n",
       "2    0.003328    0.147431    0.032971    0.003017    0.143079    0.031147   \n",
       "3    0.004036    0.151774    0.029703    0.002897    0.149630    0.028986   \n",
       "4    0.001005    0.078391    0.011012    0.000815    0.076849    0.010029   \n",
       "\n",
       "   feature_44  label  \n",
       "0    0.004060    0.0  \n",
       "1    0.000992    0.0  \n",
       "2    0.002829    0.0  \n",
       "3    0.002850    0.0  \n",
       "4    0.000572    0.0  \n",
       "\n",
       "[5 rows x 46 columns]"
      ]
     },
     "execution_count": null,
     "metadata": {},
     "output_type": "execute_result"
    }
   ],
   "source": [
    "df = pd.DataFrame(data)\n",
    "df.head()"
   ]
  },
  {
   "cell_type": "code",
   "execution_count": null,
   "id": "35927298",
   "metadata": {},
   "outputs": [
    {
     "data": {
      "text/plain": [
       "Dataset({\n",
       "    features: ['feature_0', 'feature_1', 'feature_2', 'feature_3', 'feature_4', 'feature_5', 'feature_6', 'feature_7', 'feature_8', 'feature_9', 'feature_10', 'feature_11', 'feature_12', 'feature_13', 'feature_14', 'feature_15', 'feature_16', 'feature_17', 'feature_18', 'feature_19', 'feature_20', 'feature_21', 'feature_22', 'feature_23', 'feature_24', 'feature_25', 'feature_26', 'feature_27', 'feature_28', 'feature_29', 'feature_30', 'feature_31', 'feature_32', 'feature_33', 'feature_34', 'feature_35', 'feature_36', 'feature_37', 'feature_38', 'feature_39', 'feature_40', 'feature_41', 'feature_42', 'feature_43', 'feature_44', 'label'],\n",
       "    num_rows: 100000\n",
       "})"
      ]
     },
     "execution_count": null,
     "metadata": {},
     "output_type": "execute_result"
    }
   ],
   "source": [
    "# Can't use categorical\n",
    "dset = Dataset.from_pandas(df)\n",
    "dset"
   ]
  },
  {
   "cell_type": "code",
   "execution_count": null,
   "id": "0527c105",
   "metadata": {},
   "outputs": [
    {
     "data": {
      "text/plain": [
       "(100000, 45)"
      ]
     },
     "execution_count": null,
     "metadata": {},
     "output_type": "execute_result"
    }
   ],
   "source": [
    "X.shape"
   ]
  },
  {
   "cell_type": "code",
   "execution_count": null,
   "id": "d520460d",
   "metadata": {},
   "outputs": [
    {
     "data": {
      "text/plain": [
       "(100000,)"
      ]
     },
     "execution_count": null,
     "metadata": {},
     "output_type": "execute_result"
    }
   ],
   "source": [
    "y.shape"
   ]
  },
  {
   "cell_type": "code",
   "execution_count": null,
   "id": "b3423f83",
   "metadata": {},
   "outputs": [],
   "source": [
    "X = torch.from_numpy(X).float()\n",
    "y = torch.from_numpy(y).long()"
   ]
  },
  {
   "cell_type": "code",
   "execution_count": null,
   "id": "3bd07645-6f68-4f81-bd06-f3e6a56f098d",
   "metadata": {},
   "outputs": [],
   "source": [
    "num_nsubs = 1\n",
    "X = X[:, :num_nsubs]"
   ]
  },
  {
   "cell_type": "code",
   "execution_count": null,
   "id": "e8707711-bd1b-4162-8bbd-301de9a363aa",
   "metadata": {},
   "outputs": [],
   "source": [
    "X_train, X_val, X_test = X[:75_000], X[75_000:85_000], X[85_000:]\n",
    "y_train, y_val, y_test = y[:75_000], y[75_000:85_000], y[85_000:]"
   ]
  },
  {
   "cell_type": "code",
   "execution_count": null,
   "id": "2525451a",
   "metadata": {},
   "outputs": [],
   "source": [
    "train_ds = TensorDataset(X_train, y_train)\n",
    "val_ds = TensorDataset(X_val, y_val)\n",
    "test_ds = TensorDataset(X_test, y_test)"
   ]
  },
  {
   "cell_type": "code",
   "execution_count": null,
   "id": "43e682e0",
   "metadata": {},
   "outputs": [],
   "source": [
    "train_dl = DataLoader(train_ds, batch_size=100, shuffle=True)\n",
    "val_dl = DataLoader(val_ds, batch_size=100)\n",
    "test_dl = DataLoader(test_ds, batch_size=100)"
   ]
  },
  {
   "cell_type": "markdown",
   "id": "8a8b5ca2",
   "metadata": {},
   "source": [
    "## Define model"
   ]
  },
  {
   "cell_type": "code",
   "execution_count": null,
   "id": "94bff9e5",
   "metadata": {},
   "outputs": [],
   "source": [
    "class DNNModel(LightningModule):\n",
    "    def __init__(self, nsubs = 45):\n",
    "        super().__init__()\n",
    "        self.nsubs = nsubs\n",
    "        self.accuracy = torchmetrics.Accuracy()\n",
    "        self.roc_auc = torchmetrics.AUROC(num_classes=2)\n",
    "        self.layers = nn.Sequential(nn.Linear(self.nsubs, 100), nn.ReLU(), nn.Linear(100, 100), nn.ReLU(), nn.Linear(100, 2))\n",
    "\n",
    "    def forward(self, batch):\n",
    "        x, y = batch\n",
    "        x = self.layers(x.view(x.size(0), -1))\n",
    "        return F.log_softmax(x, dim=1)\n",
    "\n",
    "    def training_step(self, batch, batch_idx):\n",
    "        x, y = batch\n",
    "        loss = F.cross_entropy(self(x), y)\n",
    "        self.log(\"train_loss\", loss, on_epoch=True, prog_bar=True)\n",
    "        return loss\n",
    "    \n",
    "    def validation_step(self, batch, batch_idx):\n",
    "        x, y = batch\n",
    "        y_hat = self(x)\n",
    "        val_loss = F.cross_entropy(y_hat, y)\n",
    "        self.accuracy(y_hat, y)\n",
    "        self.roc_auc(y_hat, y)\n",
    "        self.log(\"val_accuracy\", self.accuracy, on_epoch=True, prog_bar=True)\n",
    "        self.log(\"val_roc_auc\", self.roc_auc, on_epoch=True, )\n",
    "        self.log(\"val_loss\", val_loss, on_epoch=True,)\n",
    "        \n",
    "    def test_step(self, batch, batch_idx):\n",
    "        x, y = batch\n",
    "        y_hat = self(x)\n",
    "        val_loss = F.cross_entropy(y_hat, y)\n",
    "        self.accuracy(y_hat, y)\n",
    "        self.roc_auc(y_hat, y)\n",
    "        self.log(\"test_accuracy\", self.accuracy, on_epoch=True, prog_bar=True)\n",
    "        self.log(\"test_roc_auc\", self.roc_auc, on_epoch=True, )\n",
    "        self.log(\"test_loss\", val_loss, on_epoch=True,)\n",
    "\n",
    "\n",
    "    def configure_optimizers(self):\n",
    "        return torch.optim.Adam(self.parameters(), lr=0.02)\n",
    "    \n",
    "    def train_dataloader(self):\n",
    "        return train_dl\n",
    "\n",
    "    def val_dataloader(self):\n",
    "        return valid_dl\n",
    "\n",
    "    def test_dataloader(self):\n",
    "        return test_dl"
   ]
  },
  {
   "cell_type": "code",
   "execution_count": null,
   "id": "2584175c-7f2a-4832-bd65-bd03e5852097",
   "metadata": {},
   "outputs": [],
   "source": [
    "batch = next(iter(test_dl))"
   ]
  },
  {
   "cell_type": "code",
   "execution_count": null,
   "id": "71bde0a0",
   "metadata": {},
   "outputs": [
    {
     "name": "stderr",
     "output_type": "stream",
     "text": [
      "/opt/conda/envs/dl4phys/lib/python3.9/site-packages/torchmetrics/utilities/prints.py:36: UserWarning: Metric `AUROC` will save all targets and predictions in buffer. For large datasets this may lead to large memory footprint.\n",
      "  warnings.warn(*args, **kwargs)\n"
     ]
    }
   ],
   "source": [
    "model = DNNModel(nsubs=1)"
   ]
  },
  {
   "cell_type": "code",
   "execution_count": null,
   "id": "0670e145-7ffb-4da3-99d0-64079aed8eb3",
   "metadata": {},
   "outputs": [
    {
     "data": {
      "text/plain": [
       "torch.Size([100, 2])"
      ]
     },
     "execution_count": null,
     "metadata": {},
     "output_type": "execute_result"
    }
   ],
   "source": [
    "model(batch).shape"
   ]
  },
  {
   "cell_type": "code",
   "execution_count": null,
   "id": "23cc5bab",
   "metadata": {},
   "outputs": [
    {
     "name": "stderr",
     "output_type": "stream",
     "text": [
      "/opt/conda/envs/dl4phys/lib/python3.9/site-packages/pytorch_lightning/utilities/model_summary.py:471: LightningDeprecationWarning: Argument `mode` in `LightningModule.summarize` is deprecated in v1.4 and will be removed in v1.6. Use `max_depth=1` to replicate `mode=top` behavior.\n",
      "  rank_zero_deprecation(\n"
     ]
    },
    {
     "data": {
      "text/plain": [
       "  | Name     | Type       | Params\n",
       "----------------------------------------\n",
       "0 | accuracy | Accuracy   | 0     \n",
       "1 | roc_auc  | AUROC      | 0     \n",
       "2 | layers   | Sequential | 10.5 K\n",
       "----------------------------------------\n",
       "10.5 K    Trainable params\n",
       "0         Non-trainable params\n",
       "10.5 K    Total params\n",
       "0.042     Total estimated model params size (MB)"
      ]
     },
     "execution_count": null,
     "metadata": {},
     "output_type": "execute_result"
    }
   ],
   "source": [
    "model.summarize()"
   ]
  },
  {
   "cell_type": "code",
   "execution_count": null,
   "id": "71f77252",
   "metadata": {},
   "outputs": [
    {
     "name": "stderr",
     "output_type": "stream",
     "text": [
      "GPU available: True, used: True\n",
      "TPU available: False, using: 0 TPU cores\n",
      "IPU available: False, using: 0 IPUs\n"
     ]
    }
   ],
   "source": [
    "trainer = Trainer(\n",
    "    gpus=1,\n",
    "    max_epochs=10,\n",
    "    # auto_lr_find=True\n",
    "    # progress_bar_refresh_rate=100,\n",
    ")"
   ]
  },
  {
   "cell_type": "code",
   "execution_count": null,
   "id": "50b43932",
   "metadata": {},
   "outputs": [
    {
     "name": "stderr",
     "output_type": "stream",
     "text": [
      "/opt/conda/envs/dl4phys/lib/python3.9/site-packages/pytorch_lightning/trainer/trainer.py:735: LightningDeprecationWarning: `trainer.fit(train_dataloader)` is deprecated in v1.4 and will be removed in v1.6. Use `trainer.fit(train_dataloaders)` instead. HINT: added 's'\n",
      "  rank_zero_deprecation(\n",
      "LOCAL_RANK: 0 - CUDA_VISIBLE_DEVICES: [0]\n",
      "\n",
      "  | Name     | Type       | Params\n",
      "----------------------------------------\n",
      "0 | accuracy | Accuracy   | 0     \n",
      "1 | roc_auc  | AUROC      | 0     \n",
      "2 | layers   | Sequential | 10.5 K\n",
      "----------------------------------------\n",
      "10.5 K    Trainable params\n",
      "0         Non-trainable params\n",
      "10.5 K    Total params\n",
      "0.042     Total estimated model params size (MB)\n"
     ]
    },
    {
     "data": {
      "application/vnd.jupyter.widget-view+json": {
       "model_id": "",
       "version_major": 2,
       "version_minor": 0
      },
      "text/plain": [
       "Validation sanity check: 0it [00:00, ?it/s]"
      ]
     },
     "metadata": {},
     "output_type": "display_data"
    },
    {
     "name": "stderr",
     "output_type": "stream",
     "text": [
      "/opt/conda/envs/dl4phys/lib/python3.9/site-packages/pytorch_lightning/trainer/data_loading.py:132: UserWarning: The dataloader, val_dataloader 0, does not have many workers which may be a bottleneck. Consider increasing the value of the `num_workers` argument` (try 8 which is the number of cpus on this machine) in the `DataLoader` init to improve performance.\n",
      "  rank_zero_warn(\n",
      "/opt/conda/envs/dl4phys/lib/python3.9/site-packages/pytorch_lightning/trainer/data_loading.py:132: UserWarning: The dataloader, train_dataloader, does not have many workers which may be a bottleneck. Consider increasing the value of the `num_workers` argument` (try 8 which is the number of cpus on this machine) in the `DataLoader` init to improve performance.\n",
      "  rank_zero_warn(\n"
     ]
    },
    {
     "data": {
      "application/vnd.jupyter.widget-view+json": {
       "model_id": "31be8594a6ea4157b351b7c0ada7e177",
       "version_major": 2,
       "version_minor": 0
      },
      "text/plain": [
       "Training: 0it [00:00, ?it/s]"
      ]
     },
     "metadata": {},
     "output_type": "display_data"
    },
    {
     "data": {
      "application/vnd.jupyter.widget-view+json": {
       "model_id": "",
       "version_major": 2,
       "version_minor": 0
      },
      "text/plain": [
       "Validating: 0it [00:00, ?it/s]"
      ]
     },
     "metadata": {},
     "output_type": "display_data"
    },
    {
     "data": {
      "application/vnd.jupyter.widget-view+json": {
       "model_id": "",
       "version_major": 2,
       "version_minor": 0
      },
      "text/plain": [
       "Validating: 0it [00:00, ?it/s]"
      ]
     },
     "metadata": {},
     "output_type": "display_data"
    },
    {
     "data": {
      "application/vnd.jupyter.widget-view+json": {
       "model_id": "",
       "version_major": 2,
       "version_minor": 0
      },
      "text/plain": [
       "Validating: 0it [00:00, ?it/s]"
      ]
     },
     "metadata": {},
     "output_type": "display_data"
    },
    {
     "data": {
      "application/vnd.jupyter.widget-view+json": {
       "model_id": "",
       "version_major": 2,
       "version_minor": 0
      },
      "text/plain": [
       "Validating: 0it [00:00, ?it/s]"
      ]
     },
     "metadata": {},
     "output_type": "display_data"
    },
    {
     "data": {
      "application/vnd.jupyter.widget-view+json": {
       "model_id": "",
       "version_major": 2,
       "version_minor": 0
      },
      "text/plain": [
       "Validating: 0it [00:00, ?it/s]"
      ]
     },
     "metadata": {},
     "output_type": "display_data"
    },
    {
     "data": {
      "application/vnd.jupyter.widget-view+json": {
       "model_id": "",
       "version_major": 2,
       "version_minor": 0
      },
      "text/plain": [
       "Validating: 0it [00:00, ?it/s]"
      ]
     },
     "metadata": {},
     "output_type": "display_data"
    },
    {
     "data": {
      "application/vnd.jupyter.widget-view+json": {
       "model_id": "",
       "version_major": 2,
       "version_minor": 0
      },
      "text/plain": [
       "Validating: 0it [00:00, ?it/s]"
      ]
     },
     "metadata": {},
     "output_type": "display_data"
    },
    {
     "data": {
      "application/vnd.jupyter.widget-view+json": {
       "model_id": "",
       "version_major": 2,
       "version_minor": 0
      },
      "text/plain": [
       "Validating: 0it [00:00, ?it/s]"
      ]
     },
     "metadata": {},
     "output_type": "display_data"
    },
    {
     "data": {
      "application/vnd.jupyter.widget-view+json": {
       "model_id": "",
       "version_major": 2,
       "version_minor": 0
      },
      "text/plain": [
       "Validating: 0it [00:00, ?it/s]"
      ]
     },
     "metadata": {},
     "output_type": "display_data"
    },
    {
     "data": {
      "application/vnd.jupyter.widget-view+json": {
       "model_id": "",
       "version_major": 2,
       "version_minor": 0
      },
      "text/plain": [
       "Validating: 0it [00:00, ?it/s]"
      ]
     },
     "metadata": {},
     "output_type": "display_data"
    }
   ],
   "source": [
    "trainer.fit(model, train_dataloader=train_dl, val_dataloaders=val_dl)"
   ]
  },
  {
   "cell_type": "code",
   "execution_count": null,
   "id": "cd26463e",
   "metadata": {},
   "outputs": [
    {
     "name": "stderr",
     "output_type": "stream",
     "text": [
      "LOCAL_RANK: 0 - CUDA_VISIBLE_DEVICES: [0]\n",
      "/opt/conda/envs/dl4phys/lib/python3.9/site-packages/pytorch_lightning/trainer/data_loading.py:132: UserWarning: The dataloader, test_dataloader 0, does not have many workers which may be a bottleneck. Consider increasing the value of the `num_workers` argument` (try 8 which is the number of cpus on this machine) in the `DataLoader` init to improve performance.\n",
      "  rank_zero_warn(\n"
     ]
    },
    {
     "data": {
      "application/vnd.jupyter.widget-view+json": {
       "model_id": "84cd9c8ba1854b8e817dbe382e6a9060",
       "version_major": 2,
       "version_minor": 0
      },
      "text/plain": [
       "Testing: 0it [00:00, ?it/s]"
      ]
     },
     "metadata": {},
     "output_type": "display_data"
    },
    {
     "name": "stdout",
     "output_type": "stream",
     "text": [
      "--------------------------------------------------------------------------------\n",
      "DATALOADER:0 TEST RESULTS\n",
      "{'test_accuracy': 0.6751999855041504,\n",
      " 'test_loss': 0.5903524160385132,\n",
      " 'test_roc_auc': 0.7281567454338074}\n",
      "--------------------------------------------------------------------------------\n"
     ]
    },
    {
     "data": {
      "text/plain": [
       "[{'test_accuracy': 0.6751999855041504,\n",
       "  'test_roc_auc': 0.7281567454338074,\n",
       "  'test_loss': 0.5903524160385132}]"
      ]
     },
     "execution_count": null,
     "metadata": {},
     "output_type": "execute_result"
    }
   ],
   "source": [
    "trainer.test(model)"
   ]
  },
  {
   "cell_type": "code",
   "execution_count": null,
   "id": "9705934f",
   "metadata": {},
   "outputs": [
    {
     "name": "stderr",
     "output_type": "stream",
     "text": [
      "LOCAL_RANK: 0 - CUDA_VISIBLE_DEVICES: [0]\n"
     ]
    },
    {
     "data": {
      "application/vnd.jupyter.widget-view+json": {
       "model_id": "2a0ec27a0d854410b73e5aaaf98b174b",
       "version_major": 2,
       "version_minor": 0
      },
      "text/plain": [
       "Predicting: 0it [00:00, ?it/s]"
      ]
     },
     "metadata": {},
     "output_type": "display_data"
    }
   ],
   "source": [
    "preds = trainer.predict(model, test_dl)"
   ]
  },
  {
   "cell_type": "code",
   "execution_count": null,
   "id": "86be7ca2-3bb3-479b-9917-e3ac00dd67c8",
   "metadata": {},
   "outputs": [
    {
     "data": {
      "text/plain": [
       "150"
      ]
     },
     "execution_count": null,
     "metadata": {},
     "output_type": "execute_result"
    }
   ],
   "source": [
    "len(preds)"
   ]
  },
  {
   "cell_type": "code",
   "execution_count": null,
   "id": "31e00285-96ed-4920-87c7-10f73a974a65",
   "metadata": {},
   "outputs": [],
   "source": [
    "preds_np = np.vstack(preds)"
   ]
  },
  {
   "cell_type": "code",
   "execution_count": null,
   "id": "be5a2e6e-4726-4311-81ed-543a7ea426b4",
   "metadata": {},
   "outputs": [
    {
     "data": {
      "text/plain": [
       "(15000, 2)"
      ]
     },
     "execution_count": null,
     "metadata": {},
     "output_type": "execute_result"
    }
   ],
   "source": [
    "preds_np.shape"
   ]
  },
  {
   "cell_type": "code",
   "execution_count": null,
   "id": "a228de91-ae61-4ce1-8ae3-8fd947965b22",
   "metadata": {},
   "outputs": [
    {
     "data": {
      "text/plain": [
       "(15000,)"
      ]
     },
     "execution_count": null,
     "metadata": {},
     "output_type": "execute_result"
    }
   ],
   "source": [
    "y_test.numpy().shape"
   ]
  },
  {
   "cell_type": "code",
   "execution_count": null,
   "id": "1c5b81be-b6eb-4b3d-a63b-99bfaa584085",
   "metadata": {},
   "outputs": [
    {
     "data": {
      "text/plain": [
       "tensor([-0.5266, -0.8931])"
      ]
     },
     "execution_count": null,
     "metadata": {},
     "output_type": "execute_result"
    }
   ],
   "source": [
    "preds[0][0]"
   ]
  },
  {
   "cell_type": "code",
   "execution_count": null,
   "id": "2fc53c16-1b58-421f-8fe5-f0b4636f1320",
   "metadata": {},
   "outputs": [
    {
     "data": {
      "text/plain": [
       "0.7281606545078303"
      ]
     },
     "execution_count": null,
     "metadata": {},
     "output_type": "execute_result"
    }
   ],
   "source": [
    "roc_auc_score(y_test, preds_np[:, 1])"
   ]
  },
  {
   "cell_type": "code",
   "execution_count": null,
   "id": "a237bd02-7bc9-4dac-a29e-733570ca2789",
   "metadata": {},
   "outputs": [],
   "source": [
    "rc = roc_curve(y_test, preds_np[:, 1])"
   ]
  },
  {
   "cell_type": "code",
   "execution_count": null,
   "id": "ae0174f1-9744-4baf-a0e3-8f03a564982c",
   "metadata": {},
   "outputs": [
    {
     "data": {
      "text/plain": [
       "3"
      ]
     },
     "execution_count": null,
     "metadata": {},
     "output_type": "execute_result"
    }
   ],
   "source": [
    "len(rc)"
   ]
  },
  {
   "cell_type": "code",
   "execution_count": null,
   "id": "55e5b33b-aebb-4912-81d8-9bceaf9a22a4",
   "metadata": {},
   "outputs": [
    {
     "data": {
      "text/plain": [
       "(6252,)"
      ]
     },
     "execution_count": null,
     "metadata": {},
     "output_type": "execute_result"
    }
   ],
   "source": [
    "rc[0].shape"
   ]
  },
  {
   "cell_type": "code",
   "execution_count": null,
   "id": "feffc690-d5a1-41fb-9d0e-d979e2d55eb0",
   "metadata": {},
   "outputs": [
    {
     "data": {
      "text/plain": [
       "(6252,)"
      ]
     },
     "execution_count": null,
     "metadata": {},
     "output_type": "execute_result"
    }
   ],
   "source": [
    "rc[1].shape"
   ]
  },
  {
   "cell_type": "code",
   "execution_count": null,
   "id": "3767cde0-6723-45b7-96d2-09a3bde36e0d",
   "metadata": {},
   "outputs": [
    {
     "data": {
      "text/plain": [
       "(6252,)"
      ]
     },
     "execution_count": null,
     "metadata": {},
     "output_type": "execute_result"
    }
   ],
   "source": [
    "rc[2].shape"
   ]
  },
  {
   "cell_type": "code",
   "execution_count": null,
   "id": "db2e5839-d773-4fb9-84ae-039416a64bc3",
   "metadata": {},
   "outputs": [
    {
     "data": {
      "text/plain": [
       "(0.0, 1.0)"
      ]
     },
     "execution_count": null,
     "metadata": {},
     "output_type": "execute_result"
    },
    {
     "data": {
      "image/png": "[encoded data removed]",
      "text/plain": [
       "<Figure size 432x288 with 1 Axes>"
      ]
     },
     "metadata": {
      "needs_background": "light"
     },
     "output_type": "display_data"
    }
   ],
   "source": [
    "plt.plot(rc[1], 1-rc[0], '-')\n",
    "plt.xlim(0, 1)\n",
    "plt.ylim(0, 1)"
   ]
  },
  {
   "cell_type": "markdown",
   "id": "9f991f06-0222-47b8-8f9e-e2ef88442360",
   "metadata": {},
   "source": [
    "## With fastai"
   ]
  },
  {
   "cell_type": "code",
   "execution_count": null,
   "id": "f0502555-e215-49b0-8e9a-5fd81d8e7857",
   "metadata": {},
   "outputs": [
    {
     "data": {
      "text/html": [
       "<div>\n",
       "<style scoped>\n",
       "    .dataframe tbody tr th:only-of-type {\n",
       "        vertical-align: middle;\n",
       "    }\n",
       "\n",
       "    .dataframe tbody tr th {\n",
       "        vertical-align: top;\n",
       "    }\n",
       "\n",
       "    .dataframe thead th {\n",
       "        text-align: right;\n",
       "    }\n",
       "</style>\n",
       "<table border=\"1\" class=\"dataframe\">\n",
       "  <thead>\n",
       "    <tr style=\"text-align: right;\">\n",
       "      <th></th>\n",
       "      <th>feature_0</th>\n",
       "      <th>feature_1</th>\n",
       "      <th>feature_2</th>\n",
       "      <th>feature_3</th>\n",
       "      <th>feature_4</th>\n",
       "      <th>feature_5</th>\n",
       "      <th>feature_6</th>\n",
       "      <th>feature_7</th>\n",
       "      <th>feature_8</th>\n",
       "      <th>feature_9</th>\n",
       "      <th>...</th>\n",
       "      <th>feature_36</th>\n",
       "      <th>feature_37</th>\n",
       "      <th>feature_38</th>\n",
       "      <th>feature_39</th>\n",
       "      <th>feature_40</th>\n",
       "      <th>feature_41</th>\n",
       "      <th>feature_42</th>\n",
       "      <th>feature_43</th>\n",
       "      <th>feature_44</th>\n",
       "      <th>label</th>\n",
       "    </tr>\n",
       "  </thead>\n",
       "  <tbody>\n",
       "    <tr>\n",
       "      <th>0</th>\n",
       "      <td>0.582885</td>\n",
       "      <td>0.359834</td>\n",
       "      <td>0.159466</td>\n",
       "      <td>0.286434</td>\n",
       "      <td>0.109313</td>\n",
       "      <td>0.031360</td>\n",
       "      <td>0.291994</td>\n",
       "      <td>0.104627</td>\n",
       "      <td>0.025298</td>\n",
       "      <td>0.269625</td>\n",
       "      <td>...</td>\n",
       "      <td>0.191827</td>\n",
       "      <td>0.045562</td>\n",
       "      <td>0.004745</td>\n",
       "      <td>0.183424</td>\n",
       "      <td>0.042593</td>\n",
       "      <td>0.004490</td>\n",
       "      <td>0.174668</td>\n",
       "      <td>0.039015</td>\n",
       "      <td>0.004060</td>\n",
       "      <td>0.0</td>\n",
       "    </tr>\n",
       "    <tr>\n",
       "      <th>1</th>\n",
       "      <td>0.260756</td>\n",
       "      <td>0.084642</td>\n",
       "      <td>0.019812</td>\n",
       "      <td>0.240676</td>\n",
       "      <td>0.073122</td>\n",
       "      <td>0.015786</td>\n",
       "      <td>0.225725</td>\n",
       "      <td>0.063897</td>\n",
       "      <td>0.012387</td>\n",
       "      <td>0.215447</td>\n",
       "      <td>...</td>\n",
       "      <td>0.126111</td>\n",
       "      <td>0.021134</td>\n",
       "      <td>0.002316</td>\n",
       "      <td>0.122458</td>\n",
       "      <td>0.018581</td>\n",
       "      <td>0.001079</td>\n",
       "      <td>0.117416</td>\n",
       "      <td>0.017345</td>\n",
       "      <td>0.000992</td>\n",
       "      <td>0.0</td>\n",
       "    </tr>\n",
       "    <tr>\n",
       "      <th>2</th>\n",
       "      <td>0.564012</td>\n",
       "      <td>0.330684</td>\n",
       "      <td>0.127177</td>\n",
       "      <td>0.292710</td>\n",
       "      <td>0.110119</td>\n",
       "      <td>0.024787</td>\n",
       "      <td>0.258846</td>\n",
       "      <td>0.086578</td>\n",
       "      <td>0.017215</td>\n",
       "      <td>0.240176</td>\n",
       "      <td>...</td>\n",
       "      <td>0.150572</td>\n",
       "      <td>0.034919</td>\n",
       "      <td>0.003328</td>\n",
       "      <td>0.147431</td>\n",
       "      <td>0.032971</td>\n",
       "      <td>0.003017</td>\n",
       "      <td>0.143079</td>\n",
       "      <td>0.031147</td>\n",
       "      <td>0.002829</td>\n",
       "      <td>0.0</td>\n",
       "    </tr>\n",
       "    <tr>\n",
       "      <th>3</th>\n",
       "      <td>0.395935</td>\n",
       "      <td>0.170801</td>\n",
       "      <td>0.042085</td>\n",
       "      <td>0.344588</td>\n",
       "      <td>0.130606</td>\n",
       "      <td>0.026208</td>\n",
       "      <td>0.271026</td>\n",
       "      <td>0.090233</td>\n",
       "      <td>0.017891</td>\n",
       "      <td>0.243731</td>\n",
       "      <td>...</td>\n",
       "      <td>0.164546</td>\n",
       "      <td>0.034850</td>\n",
       "      <td>0.004036</td>\n",
       "      <td>0.151774</td>\n",
       "      <td>0.029703</td>\n",
       "      <td>0.002897</td>\n",
       "      <td>0.149630</td>\n",
       "      <td>0.028986</td>\n",
       "      <td>0.002850</td>\n",
       "      <td>0.0</td>\n",
       "    </tr>\n",
       "    <tr>\n",
       "      <th>4</th>\n",
       "      <td>0.196304</td>\n",
       "      <td>0.051556</td>\n",
       "      <td>0.011701</td>\n",
       "      <td>0.192528</td>\n",
       "      <td>0.048644</td>\n",
       "      <td>0.010743</td>\n",
       "      <td>0.178389</td>\n",
       "      <td>0.043404</td>\n",
       "      <td>0.009060</td>\n",
       "      <td>0.172218</td>\n",
       "      <td>...</td>\n",
       "      <td>0.084400</td>\n",
       "      <td>0.012952</td>\n",
       "      <td>0.001005</td>\n",
       "      <td>0.078391</td>\n",
       "      <td>0.011012</td>\n",
       "      <td>0.000815</td>\n",
       "      <td>0.076849</td>\n",
       "      <td>0.010029</td>\n",
       "      <td>0.000572</td>\n",
       "      <td>0.0</td>\n",
       "    </tr>\n",
       "  </tbody>\n",
       "</table>\n",
       "<p>5 rows × 46 columns</p>\n",
       "</div>"
      ],
      "text/plain": [
       "   feature_0  feature_1  feature_2  feature_3  feature_4  feature_5  \\\n",
       "0   0.582885   0.359834   0.159466   0.286434   0.109313   0.031360   \n",
       "1   0.260756   0.084642   0.019812   0.240676   0.073122   0.015786   \n",
       "2   0.564012   0.330684   0.127177   0.292710   0.110119   0.024787   \n",
       "3   0.395935   0.170801   0.042085   0.344588   0.130606   0.026208   \n",
       "4   0.196304   0.051556   0.011701   0.192528   0.048644   0.010743   \n",
       "\n",
       "   feature_6  feature_7  feature_8  feature_9  ...  feature_36  feature_37  \\\n",
       "0   0.291994   0.104627   0.025298   0.269625  ...    0.191827    0.045562   \n",
       "1   0.225725   0.063897   0.012387   0.215447  ...    0.126111    0.021134   \n",
       "2   0.258846   0.086578   0.017215   0.240176  ...    0.150572    0.034919   \n",
       "3   0.271026   0.090233   0.017891   0.243731  ...    0.164546    0.034850   \n",
       "4   0.178389   0.043404   0.009060   0.172218  ...    0.084400    0.012952   \n",
       "\n",
       "   feature_38  feature_39  feature_40  feature_41  feature_42  feature_43  \\\n",
       "0    0.004745    0.183424    0.042593    0.004490    0.174668    0.039015   \n",
       "1    0.002316    0.122458    0.018581    0.001079    0.117416    0.017345   \n",
       "2    0.003328    0.147431    0.032971    0.003017    0.143079    0.031147   \n",
       "3    0.004036    0.151774    0.029703    0.002897    0.149630    0.028986   \n",
       "4    0.001005    0.078391    0.011012    0.000815    0.076849    0.010029   \n",
       "\n",
       "   feature_44  label  \n",
       "0    0.004060    0.0  \n",
       "1    0.000992    0.0  \n",
       "2    0.002829    0.0  \n",
       "3    0.002850    0.0  \n",
       "4    0.000572    0.0  \n",
       "\n",
       "[5 rows x 46 columns]"
      ]
     },
     "execution_count": null,
     "metadata": {},
     "output_type": "execute_result"
    }
   ],
   "source": [
    "df.head()"
   ]
  },
  {
   "cell_type": "code",
   "execution_count": null,
   "id": "f3192dae-411f-4076-ae7e-d2e97f5f8b85",
   "metadata": {},
   "outputs": [
    {
     "data": {
      "text/plain": [
       "2"
      ]
     },
     "execution_count": null,
     "metadata": {},
     "output_type": "execute_result"
    }
   ],
   "source": [
    "df[\"label\"].nunique()"
   ]
  },
  {
   "cell_type": "code",
   "execution_count": null,
   "id": "27d38d0d-5402-42b9-bdf7-b34584a8f0ff",
   "metadata": {},
   "outputs": [],
   "source": [
    "from fastai.tabular.all import *"
   ]
  },
  {
   "cell_type": "code",
   "execution_count": null,
   "id": "96c0d931-dfd3-4950-b10b-51ac543bc8ee",
   "metadata": {},
   "outputs": [],
   "source": [
    "features = df.columns.drop(\"label\")"
   ]
  },
  {
   "cell_type": "code",
   "execution_count": null,
   "id": "e006bb68-657b-437a-9de4-6a14a20c9f8b",
   "metadata": {},
   "outputs": [],
   "source": [
    "splits = RandomSplitter(valid_pct=0.10)(range_of(df[:85_000]))"
   ]
  },
  {
   "cell_type": "code",
   "execution_count": null,
   "id": "77c20431-221c-428c-b71d-640607b9eaba",
   "metadata": {},
   "outputs": [
    {
     "data": {
      "text/plain": [
       "((#76500) [67545,8277,41805,18967,78104,54169,60781,12268,67912,63376...],\n",
       " (#8500) [19270,75839,71207,53275,45829,69054,49743,54284,23240,72438...])"
      ]
     },
     "execution_count": null,
     "metadata": {},
     "output_type": "execute_result"
    }
   ],
   "source": [
    "splits"
   ]
  },
  {
   "cell_type": "code",
   "execution_count": null,
   "id": "d157d939-d3b8-4d17-98ac-32c44f3bda1e",
   "metadata": {},
   "outputs": [],
   "source": [
    "dls = TabularDataLoaders.from_df(df, y_names=\"label\", bs=1000, y_block=CategoryBlock, splits=splits)"
   ]
  },
  {
   "cell_type": "code",
   "execution_count": null,
   "id": "fd626c14-c752-467e-bcd2-869f1a5bf205",
   "metadata": {},
   "outputs": [
    {
     "data": {
      "text/html": [
       "<table border=\"1\" class=\"dataframe\">\n",
       "  <thead>\n",
       "    <tr style=\"text-align: right;\">\n",
       "      <th></th>\n",
       "      <th>feature_24</th>\n",
       "      <th>feature_16</th>\n",
       "      <th>feature_28</th>\n",
       "      <th>feature_38</th>\n",
       "      <th>feature_25</th>\n",
       "      <th>feature_42</th>\n",
       "      <th>feature_30</th>\n",
       "      <th>feature_39</th>\n",
       "      <th>feature_5</th>\n",
       "      <th>feature_43</th>\n",
       "      <th>feature_40</th>\n",
       "      <th>feature_44</th>\n",
       "      <th>feature_6</th>\n",
       "      <th>feature_8</th>\n",
       "      <th>feature_31</th>\n",
       "      <th>feature_14</th>\n",
       "      <th>feature_26</th>\n",
       "      <th>feature_34</th>\n",
       "      <th>feature_21</th>\n",
       "      <th>feature_15</th>\n",
       "      <th>feature_9</th>\n",
       "      <th>feature_2</th>\n",
       "      <th>feature_13</th>\n",
       "      <th>feature_11</th>\n",
       "      <th>feature_19</th>\n",
       "      <th>feature_1</th>\n",
       "      <th>feature_7</th>\n",
       "      <th>feature_20</th>\n",
       "      <th>feature_32</th>\n",
       "      <th>feature_10</th>\n",
       "      <th>feature_12</th>\n",
       "      <th>feature_3</th>\n",
       "      <th>feature_37</th>\n",
       "      <th>feature_0</th>\n",
       "      <th>feature_4</th>\n",
       "      <th>feature_17</th>\n",
       "      <th>feature_35</th>\n",
       "      <th>feature_36</th>\n",
       "      <th>feature_23</th>\n",
       "      <th>feature_41</th>\n",
       "      <th>feature_18</th>\n",
       "      <th>feature_29</th>\n",
       "      <th>feature_27</th>\n",
       "      <th>feature_22</th>\n",
       "      <th>feature_33</th>\n",
       "      <th>label</th>\n",
       "    </tr>\n",
       "  </thead>\n",
       "  <tbody>\n",
       "    <tr>\n",
       "      <th>0</th>\n",
       "      <td>0.185194</td>\n",
       "      <td>0.053089</td>\n",
       "      <td>0.041008</td>\n",
       "      <td>0.002979</td>\n",
       "      <td>0.044070</td>\n",
       "      <td>0.144495</td>\n",
       "      <td>0.166375</td>\n",
       "      <td>0.147515</td>\n",
       "      <td>0.025747</td>\n",
       "      <td>0.026998</td>\n",
       "      <td>0.029079</td>\n",
       "      <td>0.002171</td>\n",
       "      <td>0.245831</td>\n",
       "      <td>0.014403</td>\n",
       "      <td>0.037341</td>\n",
       "      <td>0.009594</td>\n",
       "      <td>0.004961</td>\n",
       "      <td>0.033700</td>\n",
       "      <td>0.189481</td>\n",
       "      <td>0.196262</td>\n",
       "      <td>0.225695</td>\n",
       "      <td>0.093540</td>\n",
       "      <td>0.058713</td>\n",
       "      <td>0.010801</td>\n",
       "      <td>0.046884</td>\n",
       "      <td>0.275510</td>\n",
       "      <td>0.077715</td>\n",
       "      <td>0.005861</td>\n",
       "      <td>0.004295</td>\n",
       "      <td>0.064914</td>\n",
       "      <td>0.208107</td>\n",
       "      <td>0.273149</td>\n",
       "      <td>0.031442</td>\n",
       "      <td>0.511993</td>\n",
       "      <td>0.101145</td>\n",
       "      <td>0.008813</td>\n",
       "      <td>0.003520</td>\n",
       "      <td>0.155650</td>\n",
       "      <td>0.005176</td>\n",
       "      <td>0.002830</td>\n",
       "      <td>0.188686</td>\n",
       "      <td>0.004722</td>\n",
       "      <td>0.175115</td>\n",
       "      <td>0.046443</td>\n",
       "      <td>0.159716</td>\n",
       "      <td>0.0</td>\n",
       "    </tr>\n",
       "    <tr>\n",
       "      <th>1</th>\n",
       "      <td>0.154837</td>\n",
       "      <td>0.044756</td>\n",
       "      <td>0.028701</td>\n",
       "      <td>0.001735</td>\n",
       "      <td>0.031711</td>\n",
       "      <td>0.100638</td>\n",
       "      <td>0.138981</td>\n",
       "      <td>0.109141</td>\n",
       "      <td>0.029434</td>\n",
       "      <td>0.017405</td>\n",
       "      <td>0.019051</td>\n",
       "      <td>0.001462</td>\n",
       "      <td>0.239137</td>\n",
       "      <td>0.011502</td>\n",
       "      <td>0.025465</td>\n",
       "      <td>0.007073</td>\n",
       "      <td>0.003474</td>\n",
       "      <td>0.023734</td>\n",
       "      <td>0.156264</td>\n",
       "      <td>0.188918</td>\n",
       "      <td>0.205493</td>\n",
       "      <td>0.036263</td>\n",
       "      <td>0.050321</td>\n",
       "      <td>0.009984</td>\n",
       "      <td>0.038632</td>\n",
       "      <td>0.126155</td>\n",
       "      <td>0.067949</td>\n",
       "      <td>0.006227</td>\n",
       "      <td>0.002522</td>\n",
       "      <td>0.054573</td>\n",
       "      <td>0.201908</td>\n",
       "      <td>0.280126</td>\n",
       "      <td>0.021849</td>\n",
       "      <td>0.330568</td>\n",
       "      <td>0.098169</td>\n",
       "      <td>0.006487</td>\n",
       "      <td>0.001799</td>\n",
       "      <td>0.128880</td>\n",
       "      <td>0.003763</td>\n",
       "      <td>0.001675</td>\n",
       "      <td>0.165827</td>\n",
       "      <td>0.002739</td>\n",
       "      <td>0.149987</td>\n",
       "      <td>0.032841</td>\n",
       "      <td>0.136902</td>\n",
       "      <td>1.0</td>\n",
       "    </tr>\n",
       "    <tr>\n",
       "      <th>2</th>\n",
       "      <td>0.163588</td>\n",
       "      <td>0.060223</td>\n",
       "      <td>0.034840</td>\n",
       "      <td>0.003502</td>\n",
       "      <td>0.039190</td>\n",
       "      <td>0.116773</td>\n",
       "      <td>0.152627</td>\n",
       "      <td>0.132403</td>\n",
       "      <td>0.038119</td>\n",
       "      <td>0.022620</td>\n",
       "      <td>0.025853</td>\n",
       "      <td>0.003179</td>\n",
       "      <td>0.280104</td>\n",
       "      <td>0.032888</td>\n",
       "      <td>0.033392</td>\n",
       "      <td>0.015290</td>\n",
       "      <td>0.005746</td>\n",
       "      <td>0.030018</td>\n",
       "      <td>0.172121</td>\n",
       "      <td>0.208801</td>\n",
       "      <td>0.240193</td>\n",
       "      <td>0.247349</td>\n",
       "      <td>0.067003</td>\n",
       "      <td>0.016696</td>\n",
       "      <td>0.048646</td>\n",
       "      <td>0.476126</td>\n",
       "      <td>0.101936</td>\n",
       "      <td>0.009763</td>\n",
       "      <td>0.004335</td>\n",
       "      <td>0.074928</td>\n",
       "      <td>0.223138</td>\n",
       "      <td>0.266440</td>\n",
       "      <td>0.027863</td>\n",
       "      <td>0.682251</td>\n",
       "      <td>0.102301</td>\n",
       "      <td>0.013052</td>\n",
       "      <td>0.003797</td>\n",
       "      <td>0.139177</td>\n",
       "      <td>0.009406</td>\n",
       "      <td>0.003384</td>\n",
       "      <td>0.178385</td>\n",
       "      <td>0.004430</td>\n",
       "      <td>0.157179</td>\n",
       "      <td>0.045706</td>\n",
       "      <td>0.144159</td>\n",
       "      <td>0.0</td>\n",
       "    </tr>\n",
       "    <tr>\n",
       "      <th>3</th>\n",
       "      <td>0.139858</td>\n",
       "      <td>0.040314</td>\n",
       "      <td>0.026749</td>\n",
       "      <td>0.002512</td>\n",
       "      <td>0.028472</td>\n",
       "      <td>0.094703</td>\n",
       "      <td>0.120973</td>\n",
       "      <td>0.096247</td>\n",
       "      <td>0.018575</td>\n",
       "      <td>0.018171</td>\n",
       "      <td>0.019424</td>\n",
       "      <td>0.001897</td>\n",
       "      <td>0.210910</td>\n",
       "      <td>0.017651</td>\n",
       "      <td>0.024032</td>\n",
       "      <td>0.008684</td>\n",
       "      <td>0.003728</td>\n",
       "      <td>0.022579</td>\n",
       "      <td>0.145046</td>\n",
       "      <td>0.169489</td>\n",
       "      <td>0.199423</td>\n",
       "      <td>0.032625</td>\n",
       "      <td>0.043576</td>\n",
       "      <td>0.012199</td>\n",
       "      <td>0.036582</td>\n",
       "      <td>0.118808</td>\n",
       "      <td>0.063415</td>\n",
       "      <td>0.005207</td>\n",
       "      <td>0.003410</td>\n",
       "      <td>0.054476</td>\n",
       "      <td>0.175057</td>\n",
       "      <td>0.212852</td>\n",
       "      <td>0.021036</td>\n",
       "      <td>0.311755</td>\n",
       "      <td>0.065127</td>\n",
       "      <td>0.006182</td>\n",
       "      <td>0.003371</td>\n",
       "      <td>0.112674</td>\n",
       "      <td>0.004595</td>\n",
       "      <td>0.002487</td>\n",
       "      <td>0.161216</td>\n",
       "      <td>0.003664</td>\n",
       "      <td>0.130369</td>\n",
       "      <td>0.030987</td>\n",
       "      <td>0.114249</td>\n",
       "      <td>0.0</td>\n",
       "    </tr>\n",
       "    <tr>\n",
       "      <th>4</th>\n",
       "      <td>0.040853</td>\n",
       "      <td>0.012787</td>\n",
       "      <td>0.004435</td>\n",
       "      <td>0.000109</td>\n",
       "      <td>0.005554</td>\n",
       "      <td>0.015543</td>\n",
       "      <td>0.036101</td>\n",
       "      <td>0.020431</td>\n",
       "      <td>0.007534</td>\n",
       "      <td>0.000748</td>\n",
       "      <td>0.001532</td>\n",
       "      <td>0.000061</td>\n",
       "      <td>0.102285</td>\n",
       "      <td>0.006118</td>\n",
       "      <td>0.003478</td>\n",
       "      <td>0.004320</td>\n",
       "      <td>0.000877</td>\n",
       "      <td>0.002764</td>\n",
       "      <td>0.047701</td>\n",
       "      <td>0.078664</td>\n",
       "      <td>0.095033</td>\n",
       "      <td>0.008240</td>\n",
       "      <td>0.014192</td>\n",
       "      <td>0.004500</td>\n",
       "      <td>0.010228</td>\n",
       "      <td>0.026090</td>\n",
       "      <td>0.021252</td>\n",
       "      <td>0.002643</td>\n",
       "      <td>0.000294</td>\n",
       "      <td>0.017767</td>\n",
       "      <td>0.079493</td>\n",
       "      <td>0.138703</td>\n",
       "      <td>0.002138</td>\n",
       "      <td>0.109770</td>\n",
       "      <td>0.028758</td>\n",
       "      <td>0.002775</td>\n",
       "      <td>0.000112</td>\n",
       "      <td>0.025477</td>\n",
       "      <td>0.001052</td>\n",
       "      <td>0.000099</td>\n",
       "      <td>0.051343</td>\n",
       "      <td>0.000588</td>\n",
       "      <td>0.038460</td>\n",
       "      <td>0.007691</td>\n",
       "      <td>0.034712</td>\n",
       "      <td>0.0</td>\n",
       "    </tr>\n",
       "    <tr>\n",
       "      <th>5</th>\n",
       "      <td>0.205352</td>\n",
       "      <td>0.077191</td>\n",
       "      <td>0.051419</td>\n",
       "      <td>0.005667</td>\n",
       "      <td>0.054836</td>\n",
       "      <td>0.157026</td>\n",
       "      <td>0.189188</td>\n",
       "      <td>0.169544</td>\n",
       "      <td>0.066031</td>\n",
       "      <td>0.035864</td>\n",
       "      <td>0.040159</td>\n",
       "      <td>0.004524</td>\n",
       "      <td>0.287957</td>\n",
       "      <td>0.026686</td>\n",
       "      <td>0.049261</td>\n",
       "      <td>0.017222</td>\n",
       "      <td>0.007055</td>\n",
       "      <td>0.045073</td>\n",
       "      <td>0.215800</td>\n",
       "      <td>0.242947</td>\n",
       "      <td>0.262567</td>\n",
       "      <td>0.086512</td>\n",
       "      <td>0.080922</td>\n",
       "      <td>0.018833</td>\n",
       "      <td>0.069530</td>\n",
       "      <td>0.226306</td>\n",
       "      <td>0.104237</td>\n",
       "      <td>0.013625</td>\n",
       "      <td>0.006536</td>\n",
       "      <td>0.087196</td>\n",
       "      <td>0.252433</td>\n",
       "      <td>0.380118</td>\n",
       "      <td>0.042959</td>\n",
       "      <td>0.446352</td>\n",
       "      <td>0.181680</td>\n",
       "      <td>0.016349</td>\n",
       "      <td>0.005829</td>\n",
       "      <td>0.174354</td>\n",
       "      <td>0.011817</td>\n",
       "      <td>0.005008</td>\n",
       "      <td>0.226898</td>\n",
       "      <td>0.006758</td>\n",
       "      <td>0.194557</td>\n",
       "      <td>0.063406</td>\n",
       "      <td>0.180631</td>\n",
       "      <td>0.0</td>\n",
       "    </tr>\n",
       "    <tr>\n",
       "      <th>6</th>\n",
       "      <td>0.148555</td>\n",
       "      <td>0.045485</td>\n",
       "      <td>0.027909</td>\n",
       "      <td>0.002176</td>\n",
       "      <td>0.032576</td>\n",
       "      <td>0.078030</td>\n",
       "      <td>0.107167</td>\n",
       "      <td>0.082808</td>\n",
       "      <td>0.024470</td>\n",
       "      <td>0.015133</td>\n",
       "      <td>0.016937</td>\n",
       "      <td>0.001688</td>\n",
       "      <td>0.200131</td>\n",
       "      <td>0.016501</td>\n",
       "      <td>0.024380</td>\n",
       "      <td>0.011864</td>\n",
       "      <td>0.003584</td>\n",
       "      <td>0.021436</td>\n",
       "      <td>0.152820</td>\n",
       "      <td>0.171460</td>\n",
       "      <td>0.198388</td>\n",
       "      <td>0.111636</td>\n",
       "      <td>0.055439</td>\n",
       "      <td>0.013423</td>\n",
       "      <td>0.040703</td>\n",
       "      <td>0.271745</td>\n",
       "      <td>0.066888</td>\n",
       "      <td>0.006202</td>\n",
       "      <td>0.002684</td>\n",
       "      <td>0.063401</td>\n",
       "      <td>0.183766</td>\n",
       "      <td>0.253355</td>\n",
       "      <td>0.018375</td>\n",
       "      <td>0.495643</td>\n",
       "      <td>0.088891</td>\n",
       "      <td>0.006984</td>\n",
       "      <td>0.002523</td>\n",
       "      <td>0.086334</td>\n",
       "      <td>0.004533</td>\n",
       "      <td>0.001956</td>\n",
       "      <td>0.159855</td>\n",
       "      <td>0.003139</td>\n",
       "      <td>0.116553</td>\n",
       "      <td>0.035541</td>\n",
       "      <td>0.094610</td>\n",
       "      <td>1.0</td>\n",
       "    </tr>\n",
       "    <tr>\n",
       "      <th>7</th>\n",
       "      <td>0.209559</td>\n",
       "      <td>0.068475</td>\n",
       "      <td>0.052363</td>\n",
       "      <td>0.005745</td>\n",
       "      <td>0.055494</td>\n",
       "      <td>0.154116</td>\n",
       "      <td>0.190126</td>\n",
       "      <td>0.161806</td>\n",
       "      <td>0.031298</td>\n",
       "      <td>0.037358</td>\n",
       "      <td>0.040673</td>\n",
       "      <td>0.004528</td>\n",
       "      <td>0.244445</td>\n",
       "      <td>0.017186</td>\n",
       "      <td>0.047455</td>\n",
       "      <td>0.012547</td>\n",
       "      <td>0.008240</td>\n",
       "      <td>0.043901</td>\n",
       "      <td>0.211990</td>\n",
       "      <td>0.236582</td>\n",
       "      <td>0.235739</td>\n",
       "      <td>0.128509</td>\n",
       "      <td>0.068648</td>\n",
       "      <td>0.013829</td>\n",
       "      <td>0.063982</td>\n",
       "      <td>0.327863</td>\n",
       "      <td>0.080202</td>\n",
       "      <td>0.010518</td>\n",
       "      <td>0.006121</td>\n",
       "      <td>0.072909</td>\n",
       "      <td>0.232175</td>\n",
       "      <td>0.324924</td>\n",
       "      <td>0.041580</td>\n",
       "      <td>0.555822</td>\n",
       "      <td>0.129712</td>\n",
       "      <td>0.011668</td>\n",
       "      <td>0.006007</td>\n",
       "      <td>0.162761</td>\n",
       "      <td>0.008741</td>\n",
       "      <td>0.005274</td>\n",
       "      <td>0.228928</td>\n",
       "      <td>0.007661</td>\n",
       "      <td>0.202572</td>\n",
       "      <td>0.057318</td>\n",
       "      <td>0.168416</td>\n",
       "      <td>0.0</td>\n",
       "    </tr>\n",
       "    <tr>\n",
       "      <th>8</th>\n",
       "      <td>0.047290</td>\n",
       "      <td>0.009803</td>\n",
       "      <td>0.004858</td>\n",
       "      <td>0.000393</td>\n",
       "      <td>0.005788</td>\n",
       "      <td>0.018674</td>\n",
       "      <td>0.035005</td>\n",
       "      <td>0.022650</td>\n",
       "      <td>0.001687</td>\n",
       "      <td>0.002018</td>\n",
       "      <td>0.002237</td>\n",
       "      <td>0.000247</td>\n",
       "      <td>0.118561</td>\n",
       "      <td>0.001521</td>\n",
       "      <td>0.003823</td>\n",
       "      <td>0.001141</td>\n",
       "      <td>0.000714</td>\n",
       "      <td>0.003278</td>\n",
       "      <td>0.060978</td>\n",
       "      <td>0.083616</td>\n",
       "      <td>0.093127</td>\n",
       "      <td>0.001947</td>\n",
       "      <td>0.011709</td>\n",
       "      <td>0.001187</td>\n",
       "      <td>0.007275</td>\n",
       "      <td>0.022787</td>\n",
       "      <td>0.018266</td>\n",
       "      <td>0.000728</td>\n",
       "      <td>0.000527</td>\n",
       "      <td>0.012247</td>\n",
       "      <td>0.091053</td>\n",
       "      <td>0.129791</td>\n",
       "      <td>0.002577</td>\n",
       "      <td>0.134479</td>\n",
       "      <td>0.020839</td>\n",
       "      <td>0.000900</td>\n",
       "      <td>0.000524</td>\n",
       "      <td>0.023317</td>\n",
       "      <td>0.000720</td>\n",
       "      <td>0.000248</td>\n",
       "      <td>0.065028</td>\n",
       "      <td>0.000561</td>\n",
       "      <td>0.041021</td>\n",
       "      <td>0.006684</td>\n",
       "      <td>0.025696</td>\n",
       "      <td>1.0</td>\n",
       "    </tr>\n",
       "    <tr>\n",
       "      <th>9</th>\n",
       "      <td>0.080333</td>\n",
       "      <td>0.017774</td>\n",
       "      <td>0.007945</td>\n",
       "      <td>0.000269</td>\n",
       "      <td>0.010288</td>\n",
       "      <td>0.030962</td>\n",
       "      <td>0.058378</td>\n",
       "      <td>0.035082</td>\n",
       "      <td>0.009193</td>\n",
       "      <td>0.001999</td>\n",
       "      <td>0.002752</td>\n",
       "      <td>0.000022</td>\n",
       "      <td>0.145289</td>\n",
       "      <td>0.007587</td>\n",
       "      <td>0.006282</td>\n",
       "      <td>0.002396</td>\n",
       "      <td>0.001373</td>\n",
       "      <td>0.005104</td>\n",
       "      <td>0.092539</td>\n",
       "      <td>0.104114</td>\n",
       "      <td>0.132031</td>\n",
       "      <td>0.034837</td>\n",
       "      <td>0.020081</td>\n",
       "      <td>0.007122</td>\n",
       "      <td>0.014222</td>\n",
       "      <td>0.145820</td>\n",
       "      <td>0.031927</td>\n",
       "      <td>0.001592</td>\n",
       "      <td>0.000462</td>\n",
       "      <td>0.027618</td>\n",
       "      <td>0.117867</td>\n",
       "      <td>0.180918</td>\n",
       "      <td>0.004032</td>\n",
       "      <td>0.360394</td>\n",
       "      <td>0.046479</td>\n",
       "      <td>0.002321</td>\n",
       "      <td>0.000449</td>\n",
       "      <td>0.043936</td>\n",
       "      <td>0.001406</td>\n",
       "      <td>0.000052</td>\n",
       "      <td>0.098371</td>\n",
       "      <td>0.000488</td>\n",
       "      <td>0.071925</td>\n",
       "      <td>0.011976</td>\n",
       "      <td>0.046549</td>\n",
       "      <td>1.0</td>\n",
       "    </tr>\n",
       "  </tbody>\n",
       "</table>"
      ],
      "text/plain": [
       "<IPython.core.display.HTML object>"
      ]
     },
     "metadata": {},
     "output_type": "display_data"
    }
   ],
   "source": [
    "dls.show_batch()"
   ]
  },
  {
   "cell_type": "code",
   "execution_count": null,
   "id": "f4da7090-0421-4d0b-baec-fdd3166145ce",
   "metadata": {},
   "outputs": [],
   "source": [
    "learn = tabular_learner(dls, layers=[100,100], metrics=[accuracy, RocAucBinary()])"
   ]
  },
  {
   "cell_type": "code",
   "execution_count": null,
   "id": "e1330aa3-69b5-44be-bf31-d596a870043b",
   "metadata": {},
   "outputs": [
    {
     "data": {
      "text/html": [],
      "text/plain": [
       "<IPython.core.display.HTML object>"
      ]
     },
     "metadata": {},
     "output_type": "display_data"
    },
    {
     "data": {
      "text/plain": [
       "TabularModel (Input shape: 1000 x 0)\n",
       "============================================================================\n",
       "Layer (type)         Output Shape         Param #    Trainable \n",
       "============================================================================\n",
       "                     1000 x 45           \n",
       "BatchNorm1d                               90         True      \n",
       "____________________________________________________________________________\n",
       "                     1000 x 100          \n",
       "Linear                                    4500       True      \n",
       "ReLU                                                           \n",
       "BatchNorm1d                               200        True      \n",
       "Linear                                    10000      True      \n",
       "ReLU                                                           \n",
       "BatchNorm1d                               200        True      \n",
       "____________________________________________________________________________\n",
       "                     1000 x 2            \n",
       "Linear                                    202        True      \n",
       "____________________________________________________________________________\n",
       "\n",
       "Total params: 15,192\n",
       "Total trainable params: 15,192\n",
       "Total non-trainable params: 0\n",
       "\n",
       "Optimizer used: <function Adam at 0x7f68f1e1f0d0>\n",
       "Loss function: FlattenedLoss of CrossEntropyLoss()\n",
       "\n",
       "Callbacks:\n",
       "  - TrainEvalCallback\n",
       "  - Recorder\n",
       "  - ProgressCallback"
      ]
     },
     "execution_count": null,
     "metadata": {},
     "output_type": "execute_result"
    }
   ],
   "source": [
    "learn.summary()"
   ]
  },
  {
   "cell_type": "code",
   "execution_count": null,
   "id": "e570ab61-f3da-4198-b768-241b15ed6208",
   "metadata": {},
   "outputs": [
    {
     "data": {
      "text/html": [],
      "text/plain": [
       "<IPython.core.display.HTML object>"
      ]
     },
     "metadata": {},
     "output_type": "display_data"
    },
    {
     "data": {
      "text/plain": [
       "SuggestedLRs(valley=0.0010000000474974513)"
      ]
     },
     "execution_count": null,
     "metadata": {},
     "output_type": "execute_result"
    },
    {
     "data": {
      "image/png": "[encoded data removed]",
      "text/plain": [
       "<Figure size 432x288 with 1 Axes>"
      ]
     },
     "metadata": {
      "needs_background": "light"
     },
     "output_type": "display_data"
    }
   ],
   "source": [
    "learn.lr_find()"
   ]
  },
  {
   "cell_type": "code",
   "execution_count": null,
   "id": "b167c721-8a56-431c-8102-69ca1aec7847",
   "metadata": {},
   "outputs": [
    {
     "data": {
      "text/html": [
       "<table border=\"1\" class=\"dataframe\">\n",
       "  <thead>\n",
       "    <tr style=\"text-align: left;\">\n",
       "      <th>epoch</th>\n",
       "      <th>train_loss</th>\n",
       "      <th>valid_loss</th>\n",
       "      <th>accuracy</th>\n",
       "      <th>roc_auc_score</th>\n",
       "      <th>time</th>\n",
       "    </tr>\n",
       "  </thead>\n",
       "  <tbody>\n",
       "    <tr>\n",
       "      <td>0</td>\n",
       "      <td>0.458178</td>\n",
       "      <td>0.465397</td>\n",
       "      <td>0.783050</td>\n",
       "      <td>0.861671</td>\n",
       "      <td>00:00</td>\n",
       "    </tr>\n",
       "    <tr>\n",
       "      <td>1</td>\n",
       "      <td>0.443100</td>\n",
       "      <td>0.438490</td>\n",
       "      <td>0.800400</td>\n",
       "      <td>0.878128</td>\n",
       "      <td>00:00</td>\n",
       "    </tr>\n",
       "    <tr>\n",
       "      <td>2</td>\n",
       "      <td>0.437348</td>\n",
       "      <td>0.437551</td>\n",
       "      <td>0.801400</td>\n",
       "      <td>0.878659</td>\n",
       "      <td>00:00</td>\n",
       "    </tr>\n",
       "  </tbody>\n",
       "</table>"
      ],
      "text/plain": [
       "<IPython.core.display.HTML object>"
      ]
     },
     "metadata": {},
     "output_type": "display_data"
    }
   ],
   "source": [
    "learn.fit_one_cycle(3, lr_max=1e-3)"
   ]
  },
  {
   "cell_type": "code",
   "execution_count": null,
   "id": "9c3559bf-0c47-4e1d-bbba-f11427c4c54d",
   "metadata": {},
   "outputs": [
    {
     "data": {
      "text/html": [],
      "text/plain": [
       "<IPython.core.display.HTML object>"
      ]
     },
     "metadata": {},
     "output_type": "display_data"
    },
    {
     "data": {
      "text/html": [
       "<table border=\"1\" class=\"dataframe\">\n",
       "  <thead>\n",
       "    <tr style=\"text-align: right;\">\n",
       "      <th></th>\n",
       "      <th>feature_24</th>\n",
       "      <th>feature_16</th>\n",
       "      <th>feature_28</th>\n",
       "      <th>feature_38</th>\n",
       "      <th>feature_25</th>\n",
       "      <th>feature_42</th>\n",
       "      <th>feature_30</th>\n",
       "      <th>feature_39</th>\n",
       "      <th>feature_5</th>\n",
       "      <th>feature_43</th>\n",
       "      <th>feature_40</th>\n",
       "      <th>feature_44</th>\n",
       "      <th>feature_6</th>\n",
       "      <th>feature_8</th>\n",
       "      <th>feature_31</th>\n",
       "      <th>feature_14</th>\n",
       "      <th>feature_26</th>\n",
       "      <th>feature_34</th>\n",
       "      <th>feature_21</th>\n",
       "      <th>feature_15</th>\n",
       "      <th>feature_9</th>\n",
       "      <th>feature_2</th>\n",
       "      <th>feature_13</th>\n",
       "      <th>feature_11</th>\n",
       "      <th>feature_19</th>\n",
       "      <th>feature_1</th>\n",
       "      <th>feature_7</th>\n",
       "      <th>feature_20</th>\n",
       "      <th>feature_32</th>\n",
       "      <th>feature_10</th>\n",
       "      <th>feature_12</th>\n",
       "      <th>feature_3</th>\n",
       "      <th>feature_37</th>\n",
       "      <th>feature_0</th>\n",
       "      <th>feature_4</th>\n",
       "      <th>feature_17</th>\n",
       "      <th>feature_35</th>\n",
       "      <th>feature_36</th>\n",
       "      <th>feature_23</th>\n",
       "      <th>feature_41</th>\n",
       "      <th>feature_18</th>\n",
       "      <th>feature_29</th>\n",
       "      <th>feature_27</th>\n",
       "      <th>feature_22</th>\n",
       "      <th>feature_33</th>\n",
       "      <th>label</th>\n",
       "      <th>label_pred</th>\n",
       "    </tr>\n",
       "  </thead>\n",
       "  <tbody>\n",
       "    <tr>\n",
       "      <th>0</th>\n",
       "      <td>0.227775</td>\n",
       "      <td>0.079140</td>\n",
       "      <td>0.058734</td>\n",
       "      <td>0.005328</td>\n",
       "      <td>0.063042</td>\n",
       "      <td>0.179912</td>\n",
       "      <td>0.206097</td>\n",
       "      <td>0.186450</td>\n",
       "      <td>0.033491</td>\n",
       "      <td>0.042604</td>\n",
       "      <td>0.044229</td>\n",
       "      <td>0.004341</td>\n",
       "      <td>0.306551</td>\n",
       "      <td>0.020594</td>\n",
       "      <td>0.054839</td>\n",
       "      <td>0.013553</td>\n",
       "      <td>0.007791</td>\n",
       "      <td>0.050727</td>\n",
       "      <td>0.233949</td>\n",
       "      <td>0.263623</td>\n",
       "      <td>0.285375</td>\n",
       "      <td>0.202654</td>\n",
       "      <td>0.088226</td>\n",
       "      <td>0.015841</td>\n",
       "      <td>0.071732</td>\n",
       "      <td>0.405048</td>\n",
       "      <td>0.110986</td>\n",
       "      <td>0.008847</td>\n",
       "      <td>0.006726</td>\n",
       "      <td>0.096076</td>\n",
       "      <td>0.274660</td>\n",
       "      <td>0.365671</td>\n",
       "      <td>0.047304</td>\n",
       "      <td>0.618640</td>\n",
       "      <td>0.149649</td>\n",
       "      <td>0.010278</td>\n",
       "      <td>0.006129</td>\n",
       "      <td>0.191194</td>\n",
       "      <td>0.008384</td>\n",
       "      <td>0.004404</td>\n",
       "      <td>0.248775</td>\n",
       "      <td>0.007256</td>\n",
       "      <td>0.214206</td>\n",
       "      <td>0.066523</td>\n",
       "      <td>0.196891</td>\n",
       "      <td>0.0</td>\n",
       "      <td>0.0</td>\n",
       "    </tr>\n",
       "    <tr>\n",
       "      <th>1</th>\n",
       "      <td>0.047025</td>\n",
       "      <td>0.014853</td>\n",
       "      <td>0.007005</td>\n",
       "      <td>0.000331</td>\n",
       "      <td>0.008302</td>\n",
       "      <td>0.015521</td>\n",
       "      <td>0.039139</td>\n",
       "      <td>0.027910</td>\n",
       "      <td>0.011292</td>\n",
       "      <td>0.002281</td>\n",
       "      <td>0.002909</td>\n",
       "      <td>0.000183</td>\n",
       "      <td>0.123851</td>\n",
       "      <td>0.010191</td>\n",
       "      <td>0.006043</td>\n",
       "      <td>0.002425</td>\n",
       "      <td>0.001416</td>\n",
       "      <td>0.004463</td>\n",
       "      <td>0.079090</td>\n",
       "      <td>0.092949</td>\n",
       "      <td>0.113008</td>\n",
       "      <td>0.012088</td>\n",
       "      <td>0.017070</td>\n",
       "      <td>0.004172</td>\n",
       "      <td>0.012710</td>\n",
       "      <td>0.035734</td>\n",
       "      <td>0.028129</td>\n",
       "      <td>0.002257</td>\n",
       "      <td>0.000796</td>\n",
       "      <td>0.020078</td>\n",
       "      <td>0.105630</td>\n",
       "      <td>0.170989</td>\n",
       "      <td>0.003693</td>\n",
       "      <td>0.134717</td>\n",
       "      <td>0.040721</td>\n",
       "      <td>0.002330</td>\n",
       "      <td>0.000633</td>\n",
       "      <td>0.030193</td>\n",
       "      <td>0.001423</td>\n",
       "      <td>0.000185</td>\n",
       "      <td>0.083601</td>\n",
       "      <td>0.001375</td>\n",
       "      <td>0.040307</td>\n",
       "      <td>0.010288</td>\n",
       "      <td>0.031198</td>\n",
       "      <td>1.0</td>\n",
       "      <td>1.0</td>\n",
       "    </tr>\n",
       "    <tr>\n",
       "      <th>2</th>\n",
       "      <td>0.103661</td>\n",
       "      <td>0.025886</td>\n",
       "      <td>0.015985</td>\n",
       "      <td>0.001326</td>\n",
       "      <td>0.018337</td>\n",
       "      <td>0.041770</td>\n",
       "      <td>0.085046</td>\n",
       "      <td>0.043662</td>\n",
       "      <td>0.009381</td>\n",
       "      <td>0.006068</td>\n",
       "      <td>0.007465</td>\n",
       "      <td>0.000483</td>\n",
       "      <td>0.156498</td>\n",
       "      <td>0.007101</td>\n",
       "      <td>0.013159</td>\n",
       "      <td>0.005934</td>\n",
       "      <td>0.002737</td>\n",
       "      <td>0.010338</td>\n",
       "      <td>0.108997</td>\n",
       "      <td>0.128647</td>\n",
       "      <td>0.138500</td>\n",
       "      <td>0.009939</td>\n",
       "      <td>0.028832</td>\n",
       "      <td>0.006188</td>\n",
       "      <td>0.023533</td>\n",
       "      <td>0.037889</td>\n",
       "      <td>0.034811</td>\n",
       "      <td>0.004397</td>\n",
       "      <td>0.001796</td>\n",
       "      <td>0.030492</td>\n",
       "      <td>0.133117</td>\n",
       "      <td>0.157364</td>\n",
       "      <td>0.008562</td>\n",
       "      <td>0.149147</td>\n",
       "      <td>0.038931</td>\n",
       "      <td>0.005155</td>\n",
       "      <td>0.001769</td>\n",
       "      <td>0.046354</td>\n",
       "      <td>0.004372</td>\n",
       "      <td>0.001167</td>\n",
       "      <td>0.123081</td>\n",
       "      <td>0.002529</td>\n",
       "      <td>0.093365</td>\n",
       "      <td>0.021520</td>\n",
       "      <td>0.050570</td>\n",
       "      <td>1.0</td>\n",
       "      <td>1.0</td>\n",
       "    </tr>\n",
       "    <tr>\n",
       "      <th>3</th>\n",
       "      <td>0.097009</td>\n",
       "      <td>0.022096</td>\n",
       "      <td>0.010681</td>\n",
       "      <td>0.000447</td>\n",
       "      <td>0.013719</td>\n",
       "      <td>0.060565</td>\n",
       "      <td>0.078562</td>\n",
       "      <td>0.068626</td>\n",
       "      <td>0.006140</td>\n",
       "      <td>0.006332</td>\n",
       "      <td>0.007572</td>\n",
       "      <td>0.000379</td>\n",
       "      <td>0.180292</td>\n",
       "      <td>0.003834</td>\n",
       "      <td>0.010260</td>\n",
       "      <td>0.002800</td>\n",
       "      <td>0.000932</td>\n",
       "      <td>0.009119</td>\n",
       "      <td>0.105196</td>\n",
       "      <td>0.119957</td>\n",
       "      <td>0.158182</td>\n",
       "      <td>0.007472</td>\n",
       "      <td>0.027622</td>\n",
       "      <td>0.003048</td>\n",
       "      <td>0.018582</td>\n",
       "      <td>0.055950</td>\n",
       "      <td>0.039551</td>\n",
       "      <td>0.002022</td>\n",
       "      <td>0.000724</td>\n",
       "      <td>0.031414</td>\n",
       "      <td>0.144610</td>\n",
       "      <td>0.207086</td>\n",
       "      <td>0.008376</td>\n",
       "      <td>0.211276</td>\n",
       "      <td>0.051025</td>\n",
       "      <td>0.002565</td>\n",
       "      <td>0.000525</td>\n",
       "      <td>0.072947</td>\n",
       "      <td>0.001121</td>\n",
       "      <td>0.000416</td>\n",
       "      <td>0.108597</td>\n",
       "      <td>0.000739</td>\n",
       "      <td>0.081029</td>\n",
       "      <td>0.016232</td>\n",
       "      <td>0.075860</td>\n",
       "      <td>0.0</td>\n",
       "      <td>1.0</td>\n",
       "    </tr>\n",
       "    <tr>\n",
       "      <th>4</th>\n",
       "      <td>0.060129</td>\n",
       "      <td>0.010345</td>\n",
       "      <td>0.005053</td>\n",
       "      <td>0.000126</td>\n",
       "      <td>0.006164</td>\n",
       "      <td>0.011464</td>\n",
       "      <td>0.044825</td>\n",
       "      <td>0.012810</td>\n",
       "      <td>0.002965</td>\n",
       "      <td>0.000637</td>\n",
       "      <td>0.001019</td>\n",
       "      <td>0.000015</td>\n",
       "      <td>0.108684</td>\n",
       "      <td>0.001629</td>\n",
       "      <td>0.004259</td>\n",
       "      <td>0.001172</td>\n",
       "      <td>0.000274</td>\n",
       "      <td>0.002991</td>\n",
       "      <td>0.062868</td>\n",
       "      <td>0.076646</td>\n",
       "      <td>0.102058</td>\n",
       "      <td>0.004557</td>\n",
       "      <td>0.012986</td>\n",
       "      <td>0.001212</td>\n",
       "      <td>0.009485</td>\n",
       "      <td>0.037739</td>\n",
       "      <td>0.017288</td>\n",
       "      <td>0.000909</td>\n",
       "      <td>0.000242</td>\n",
       "      <td>0.014444</td>\n",
       "      <td>0.095086</td>\n",
       "      <td>0.154573</td>\n",
       "      <td>0.001872</td>\n",
       "      <td>0.169849</td>\n",
       "      <td>0.030330</td>\n",
       "      <td>0.001120</td>\n",
       "      <td>0.000193</td>\n",
       "      <td>0.030348</td>\n",
       "      <td>0.000846</td>\n",
       "      <td>0.000123</td>\n",
       "      <td>0.075397</td>\n",
       "      <td>0.000263</td>\n",
       "      <td>0.049687</td>\n",
       "      <td>0.007611</td>\n",
       "      <td>0.036011</td>\n",
       "      <td>1.0</td>\n",
       "      <td>1.0</td>\n",
       "    </tr>\n",
       "    <tr>\n",
       "      <th>5</th>\n",
       "      <td>0.208022</td>\n",
       "      <td>0.073273</td>\n",
       "      <td>0.047865</td>\n",
       "      <td>0.005100</td>\n",
       "      <td>0.054232</td>\n",
       "      <td>0.159554</td>\n",
       "      <td>0.185741</td>\n",
       "      <td>0.168155</td>\n",
       "      <td>0.044447</td>\n",
       "      <td>0.034759</td>\n",
       "      <td>0.038209</td>\n",
       "      <td>0.004098</td>\n",
       "      <td>0.290285</td>\n",
       "      <td>0.027797</td>\n",
       "      <td>0.046523</td>\n",
       "      <td>0.016990</td>\n",
       "      <td>0.007328</td>\n",
       "      <td>0.043462</td>\n",
       "      <td>0.214740</td>\n",
       "      <td>0.233511</td>\n",
       "      <td>0.245214</td>\n",
       "      <td>0.074159</td>\n",
       "      <td>0.082530</td>\n",
       "      <td>0.017751</td>\n",
       "      <td>0.062822</td>\n",
       "      <td>0.194678</td>\n",
       "      <td>0.108137</td>\n",
       "      <td>0.009661</td>\n",
       "      <td>0.006177</td>\n",
       "      <td>0.082859</td>\n",
       "      <td>0.253004</td>\n",
       "      <td>0.286495</td>\n",
       "      <td>0.041407</td>\n",
       "      <td>0.398665</td>\n",
       "      <td>0.122122</td>\n",
       "      <td>0.015163</td>\n",
       "      <td>0.005828</td>\n",
       "      <td>0.174849</td>\n",
       "      <td>0.008549</td>\n",
       "      <td>0.004676</td>\n",
       "      <td>0.221884</td>\n",
       "      <td>0.006524</td>\n",
       "      <td>0.188007</td>\n",
       "      <td>0.058298</td>\n",
       "      <td>0.177686</td>\n",
       "      <td>0.0</td>\n",
       "      <td>0.0</td>\n",
       "    </tr>\n",
       "    <tr>\n",
       "      <th>6</th>\n",
       "      <td>0.184638</td>\n",
       "      <td>0.055367</td>\n",
       "      <td>0.037581</td>\n",
       "      <td>0.002134</td>\n",
       "      <td>0.040763</td>\n",
       "      <td>0.125363</td>\n",
       "      <td>0.165799</td>\n",
       "      <td>0.139219</td>\n",
       "      <td>0.019682</td>\n",
       "      <td>0.023349</td>\n",
       "      <td>0.026451</td>\n",
       "      <td>0.001905</td>\n",
       "      <td>0.253996</td>\n",
       "      <td>0.011079</td>\n",
       "      <td>0.034336</td>\n",
       "      <td>0.007890</td>\n",
       "      <td>0.003909</td>\n",
       "      <td>0.030505</td>\n",
       "      <td>0.191579</td>\n",
       "      <td>0.218795</td>\n",
       "      <td>0.243054</td>\n",
       "      <td>0.075169</td>\n",
       "      <td>0.062488</td>\n",
       "      <td>0.009050</td>\n",
       "      <td>0.047623</td>\n",
       "      <td>0.247540</td>\n",
       "      <td>0.076869</td>\n",
       "      <td>0.005983</td>\n",
       "      <td>0.003351</td>\n",
       "      <td>0.068811</td>\n",
       "      <td>0.231412</td>\n",
       "      <td>0.281915</td>\n",
       "      <td>0.027325</td>\n",
       "      <td>0.485383</td>\n",
       "      <td>0.096049</td>\n",
       "      <td>0.006654</td>\n",
       "      <td>0.002219</td>\n",
       "      <td>0.141429</td>\n",
       "      <td>0.004199</td>\n",
       "      <td>0.002064</td>\n",
       "      <td>0.197208</td>\n",
       "      <td>0.003601</td>\n",
       "      <td>0.174887</td>\n",
       "      <td>0.043437</td>\n",
       "      <td>0.159571</td>\n",
       "      <td>1.0</td>\n",
       "      <td>0.0</td>\n",
       "    </tr>\n",
       "    <tr>\n",
       "      <th>7</th>\n",
       "      <td>0.165170</td>\n",
       "      <td>0.045790</td>\n",
       "      <td>0.033450</td>\n",
       "      <td>0.003378</td>\n",
       "      <td>0.037546</td>\n",
       "      <td>0.097749</td>\n",
       "      <td>0.139099</td>\n",
       "      <td>0.103619</td>\n",
       "      <td>0.013819</td>\n",
       "      <td>0.017423</td>\n",
       "      <td>0.019502</td>\n",
       "      <td>0.002271</td>\n",
       "      <td>0.204915</td>\n",
       "      <td>0.012237</td>\n",
       "      <td>0.031327</td>\n",
       "      <td>0.008867</td>\n",
       "      <td>0.006084</td>\n",
       "      <td>0.025934</td>\n",
       "      <td>0.172807</td>\n",
       "      <td>0.187944</td>\n",
       "      <td>0.205363</td>\n",
       "      <td>0.041007</td>\n",
       "      <td>0.049099</td>\n",
       "      <td>0.010017</td>\n",
       "      <td>0.043964</td>\n",
       "      <td>0.155349</td>\n",
       "      <td>0.057318</td>\n",
       "      <td>0.007140</td>\n",
       "      <td>0.005166</td>\n",
       "      <td>0.054470</td>\n",
       "      <td>0.191830</td>\n",
       "      <td>0.213002</td>\n",
       "      <td>0.022349</td>\n",
       "      <td>0.370517</td>\n",
       "      <td>0.062125</td>\n",
       "      <td>0.007328</td>\n",
       "      <td>0.004678</td>\n",
       "      <td>0.110052</td>\n",
       "      <td>0.007002</td>\n",
       "      <td>0.002568</td>\n",
       "      <td>0.183697</td>\n",
       "      <td>0.005995</td>\n",
       "      <td>0.142006</td>\n",
       "      <td>0.040880</td>\n",
       "      <td>0.117400</td>\n",
       "      <td>0.0</td>\n",
       "      <td>0.0</td>\n",
       "    </tr>\n",
       "    <tr>\n",
       "      <th>8</th>\n",
       "      <td>0.112578</td>\n",
       "      <td>0.036230</td>\n",
       "      <td>0.020618</td>\n",
       "      <td>0.001536</td>\n",
       "      <td>0.024123</td>\n",
       "      <td>0.066257</td>\n",
       "      <td>0.104246</td>\n",
       "      <td>0.068184</td>\n",
       "      <td>0.022252</td>\n",
       "      <td>0.011843</td>\n",
       "      <td>0.012833</td>\n",
       "      <td>0.001312</td>\n",
       "      <td>0.204107</td>\n",
       "      <td>0.021207</td>\n",
       "      <td>0.018382</td>\n",
       "      <td>0.010440</td>\n",
       "      <td>0.004049</td>\n",
       "      <td>0.017086</td>\n",
       "      <td>0.128786</td>\n",
       "      <td>0.153118</td>\n",
       "      <td>0.198839</td>\n",
       "      <td>0.035806</td>\n",
       "      <td>0.039525</td>\n",
       "      <td>0.017784</td>\n",
       "      <td>0.030323</td>\n",
       "      <td>0.080449</td>\n",
       "      <td>0.062091</td>\n",
       "      <td>0.006274</td>\n",
       "      <td>0.002278</td>\n",
       "      <td>0.056747</td>\n",
       "      <td>0.155266</td>\n",
       "      <td>0.166194</td>\n",
       "      <td>0.015062</td>\n",
       "      <td>0.221888</td>\n",
       "      <td>0.054124</td>\n",
       "      <td>0.006740</td>\n",
       "      <td>0.002257</td>\n",
       "      <td>0.086428</td>\n",
       "      <td>0.004103</td>\n",
       "      <td>0.001501</td>\n",
       "      <td>0.132099</td>\n",
       "      <td>0.002932</td>\n",
       "      <td>0.107547</td>\n",
       "      <td>0.026915</td>\n",
       "      <td>0.089222</td>\n",
       "      <td>1.0</td>\n",
       "      <td>0.0</td>\n",
       "    </tr>\n",
       "  </tbody>\n",
       "</table>"
      ],
      "text/plain": [
       "<IPython.core.display.HTML object>"
      ]
     },
     "metadata": {},
     "output_type": "display_data"
    }
   ],
   "source": [
    "learn.show_results()"
   ]
  },
  {
   "cell_type": "code",
   "execution_count": null,
   "id": "f7db480a-516f-4fbe-b748-6f83f9a0d00a",
   "metadata": {},
   "outputs": [],
   "source": [
    "test_dl = learn.dls.test_dl(df[85_000:])"
   ]
  },
  {
   "cell_type": "code",
   "execution_count": null,
   "id": "d7faf926-f254-4236-9b80-13d741195e3e",
   "metadata": {},
   "outputs": [
    {
     "data": {
      "text/html": [],
      "text/plain": [
       "<IPython.core.display.HTML object>"
      ]
     },
     "metadata": {},
     "output_type": "display_data"
    }
   ],
   "source": [
    "preds = learn.get_preds(dl=test_dl)"
   ]
  },
  {
   "cell_type": "code",
   "execution_count": null,
   "id": "ad883d00-b8a3-4923-a9b4-390a3d528c69",
   "metadata": {},
   "outputs": [
    {
     "data": {
      "text/plain": [
       "(tensor([[0.4733, 0.5267],\n",
       "         [0.6497, 0.3503],\n",
       "         [0.5906, 0.4094],\n",
       "         ...,\n",
       "         [0.4672, 0.5328],\n",
       "         [0.2885, 0.7115],\n",
       "         [0.9574, 0.0426]]),\n",
       " tensor([[0],\n",
       "         [0],\n",
       "         [1],\n",
       "         ...,\n",
       "         [0],\n",
       "         [1],\n",
       "         [0]], dtype=torch.int8))"
      ]
     },
     "execution_count": null,
     "metadata": {},
     "output_type": "execute_result"
    }
   ],
   "source": [
    "preds"
   ]
  },
  {
   "cell_type": "code",
   "execution_count": null,
   "id": "a7991f51-1d67-459b-a8a1-253b76a070b7",
   "metadata": {},
   "outputs": [
    {
     "data": {
      "text/plain": [
       "tensor([[0.4733, 0.5267],\n",
       "        [0.6497, 0.3503],\n",
       "        [0.5906, 0.4094],\n",
       "        ...,\n",
       "        [0.4672, 0.5328],\n",
       "        [0.2885, 0.7115],\n",
       "        [0.9574, 0.0426]])"
      ]
     },
     "execution_count": null,
     "metadata": {},
     "output_type": "execute_result"
    }
   ],
   "source": [
    "preds[0]"
   ]
  },
  {
   "cell_type": "code",
   "execution_count": null,
   "id": "d1c9b089-bf03-4286-b878-30de54d51628",
   "metadata": {},
   "outputs": [],
   "source": [
    "rc = roc_curve(df[85_000:][\"label\"], preds[0][:, 1])"
   ]
  },
  {
   "cell_type": "code",
   "execution_count": null,
   "id": "2aeb4add-2243-436e-9760-5cd46e15c360",
   "metadata": {},
   "outputs": [
    {
     "data": {
      "text/plain": [
       "3"
      ]
     },
     "execution_count": null,
     "metadata": {},
     "output_type": "execute_result"
    }
   ],
   "source": [
    "len(rc)"
   ]
  },
  {
   "cell_type": "code",
   "execution_count": null,
   "id": "74b5a55b-bc0c-4af3-9a30-8f90561a8210",
   "metadata": {},
   "outputs": [
    {
     "data": {
      "text/plain": [
       "(4170,)"
      ]
     },
     "execution_count": null,
     "metadata": {},
     "output_type": "execute_result"
    }
   ],
   "source": [
    "rc[0].shape"
   ]
  },
  {
   "cell_type": "code",
   "execution_count": null,
   "id": "a9d9f8e5-4035-49d5-9d88-1744b27f53e4",
   "metadata": {},
   "outputs": [
    {
     "data": {
      "text/plain": [
       "(4170,)"
      ]
     },
     "execution_count": null,
     "metadata": {},
     "output_type": "execute_result"
    }
   ],
   "source": [
    "rc[1].shape"
   ]
  },
  {
   "cell_type": "code",
   "execution_count": null,
   "id": "79178169-7655-4394-b21d-50aa4133d7f4",
   "metadata": {},
   "outputs": [
    {
     "data": {
      "text/plain": [
       "(4170,)"
      ]
     },
     "execution_count": null,
     "metadata": {},
     "output_type": "execute_result"
    }
   ],
   "source": [
    "rc[2].shape"
   ]
  },
  {
   "cell_type": "code",
   "execution_count": null,
   "id": "cadbbae0-af12-4cb3-a3d5-cc89cb63babb",
   "metadata": {},
   "outputs": [
    {
     "data": {
      "text/plain": [
       "(0.0, 1.0)"
      ]
     },
     "execution_count": null,
     "metadata": {},
     "output_type": "execute_result"
    },
    {
     "data": {
      "image/png": "[encoded data removed]",
      "text/plain": [
       "<Figure size 432x288 with 1 Axes>"
      ]
     },
     "metadata": {
      "needs_background": "light"
     },
     "output_type": "display_data"
    }
   ],
   "source": [
    "plt.plot(rc[1], 1-rc[0], '-')\n",
    "plt.xlim(0, 1)\n",
    "plt.ylim(0, 1)"
   ]
  },
  {
   "cell_type": "code",
   "execution_count": null,
   "id": "983cc87a-9f7f-49cc-894f-8a3fde310ee4",
   "metadata": {},
   "outputs": [],
   "source": []
  }
 ],
 "metadata": {
  "kernelspec": {
   "display_name": "Python 3 (ipykernel)",
   "language": "python",
   "name": "python3"
  }
 },
 "nbformat": 4,
 "nbformat_minor": 5
}
