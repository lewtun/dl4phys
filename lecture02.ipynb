{
 "cells": [
  {
   "cell_type": "markdown",
   "id": "4375c2f8-249a-4f6d-8089-2b647bd83ecb",
   "metadata": {},
   "source": [
    "# Lecture 2 - Gradient descent"
   ]
  },
  {
   "cell_type": "markdown",
   "id": "07d6c97c-1780-40a8-a739-f4c962182986",
   "metadata": {},
   "source": [
    "> A look at optimising functions with gradient descent"
   ]
  },
  {
   "cell_type": "markdown",
   "id": "dc5f2762-c6b8-4368-8042-336c40a448d8",
   "metadata": {},
   "source": [
    "## Learning objectives\n",
    "\n",
    "* Understand what stochastic gradient descent is and how to minimise functions with it in PyTorch"
   ]
  },
  {
   "cell_type": "markdown",
   "id": "47dfe094-686e-40e7-8eaa-0d4991a2243c",
   "metadata": {},
   "source": [
    "## References\n",
    "\n",
    "* This notebook is a condensed version of Chapter 4 of [_Deep Learning for Coders with fastai & PyTorch_](https://github.com/fastai/fastbook) by Jeremy Howard and Sylvain Gugger. We recommend reading that chapter in detail to get the full context."
   ]
  },
  {
   "cell_type": "markdown",
   "id": "5e790193-a383-4447-a178-0d4c5c746d83",
   "metadata": {},
   "source": [
    "## Setup"
   ]
  },
  {
   "cell_type": "code",
   "execution_count": null,
   "id": "f648626c-7646-4dea-9834-6769828b8d52",
   "metadata": {},
   "outputs": [],
   "source": [
    "# Uncomment and run this cell if using Colab, Kaggle etc\n",
    "# %pip install fastai==2.6.0"
   ]
  },
  {
   "cell_type": "markdown",
   "id": "699fa5d4-0c13-4e79-821c-e2701c4279c3",
   "metadata": {
    "tags": []
   },
   "source": [
    "## Imports"
   ]
  },
  {
   "cell_type": "code",
   "execution_count": 20,
   "id": "73261150-b566-48b0-812f-293e97564d7c",
   "metadata": {},
   "outputs": [],
   "source": [
    "import torch\n",
    "from fastai.tabular.all import *"
   ]
  },
  {
   "cell_type": "markdown",
   "id": "7c021731-28ce-4c4e-a823-1aef76109e6e",
   "metadata": {},
   "source": [
    "## Stochastic gradient descent"
   ]
  },
  {
   "cell_type": "markdown",
   "id": "a05acad5-6cff-4a85-bedf-e4cc7d5a3eb9",
   "metadata": {},
   "source": [
    "What does it actually mean to _train_ a model? In deep learning, this process is called _stochastic gradient descent_ (SGD). As described in the fastai book, this process involves 7 main steps:\n",
    "\n",
    "1. Initialize the parameters of the neural network\n",
    "2. For each example in the dataset, use the parameters to make a predicition (e.g. is this jet produced by a top-quark or QCD background?)\n",
    "3. Use these predictions to calculate the model performance via the _loss_\n",
    "4. Calculate the _gradients_\n",
    "5. Update all the parameters by taking a _step_ in the direction that minimises the loss\n",
    "6. Repeat from step 2\n",
    "7. Stop the training process once the model is good enough"
   ]
  },
  {
   "cell_type": "markdown",
   "id": "2e45f3b0-3c38-4d8e-9d48-1021aa3374b6",
   "metadata": {},
   "source": [
    "In this lecture, we will take a deep dive into how these steps work in PyTorch. But before doing that, let's take a quick look at how gradients are computed in PyTorch, as they'll play a large role in what follows."
   ]
  },
  {
   "cell_type": "markdown",
   "id": "8ffd764e-bcf8-4a05-843e-6e0f04622c08",
   "metadata": {},
   "source": [
    "### Calculating gradients"
   ]
  },
  {
   "cell_type": "markdown",
   "id": "b3281a84-3d2a-4f3f-b21a-80e435e4bc33",
   "metadata": {},
   "source": [
    "To illustrate how gradients are computed in PyTorch, let's consider a simple quadratic loss function:"
   ]
  },
  {
   "cell_type": "code",
   "execution_count": 21,
   "id": "c8e8500c-e93a-47d8-9e23-caa7c0ff1eea",
   "metadata": {},
   "outputs": [],
   "source": [
    "def f(x):\n",
    "    return x**2"
   ]
  },
  {
   "cell_type": "markdown",
   "id": "9a4662d6-2535-49cc-a723-2d637e0797f7",
   "metadata": {},
   "source": [
    "Next, let's create a tensor at the point we wish to calculate the gradient of $f(x)$:"
   ]
  },
  {
   "cell_type": "code",
   "execution_count": 24,
   "id": "08b05fe2-33de-41ed-8e7d-a673fe46db0d",
   "metadata": {},
   "outputs": [
    {
     "data": {
      "text/plain": [
       "tensor(3., requires_grad=True)"
      ]
     },
     "execution_count": 24,
     "metadata": {},
     "output_type": "execute_result"
    }
   ],
   "source": [
    "xt = torch.tensor(3.0, requires_grad=True)\n",
    "xt"
   ]
  },
  {
   "cell_type": "markdown",
   "id": "86650d9f-5177-43b7-ac37-04924dabce4c",
   "metadata": {},
   "source": [
    "Here, the `requires_grad` argument tells PyTorch to begin recording operations on the tensor `xt`; in particular which parts of the code should be included for computing gradients. Next, let's use this tensor to generate the output `yt` from our function:"
   ]
  },
  {
   "cell_type": "code",
   "execution_count": 25,
   "id": "45a4497c-e407-4b89-aec3-b84f1002c1f9",
   "metadata": {},
   "outputs": [
    {
     "data": {
      "text/plain": [
       "tensor(9., grad_fn=<PowBackward0>)"
      ]
     },
     "execution_count": 25,
     "metadata": {},
     "output_type": "execute_result"
    }
   ],
   "source": [
    "yt = f(xt)\n",
    "yt"
   ]
  },
  {
   "cell_type": "markdown",
   "id": "bb86a9ce-4657-45ec-977d-40ea6fc2818a",
   "metadata": {},
   "source": [
    "This looks good and here PyTorch is indicating both the value of the tensor and the gradient function that will be used. So let's now compute the gradients with the `backward()` method:"
   ]
  },
  {
   "cell_type": "code",
   "execution_count": 26,
   "id": "a7c4e735-8957-4ccf-9177-37ddcb288f49",
   "metadata": {},
   "outputs": [],
   "source": [
    "yt.backward()"
   ]
  },
  {
   "cell_type": "markdown",
   "id": "9a188ec2-27e7-4376-8c20-bdfc171bbfca",
   "metadata": {},
   "source": [
    "Here, \"backward\" refers to _backpropagation_, which is the technique used in deep learning to compute the gradients of the loss with respect to all the parameters in the model. In this simple example we just have one parameter to consider, but in general, a neural network can have thousands to billions of parameters, and so an efficient method is needed to compute this many gradients efficiently.\n",
    "\n",
    "Under the hood, PyTorch implements backprogations via an automatic differentiation engine called _autograd_ that keeps a record of tensors and all executed operations (like sum, multiplication etc) as a _directed acyclic graph_ (DAG). We'll look at backpropagation in a bit more detail later, but for now the main thing to note is that the gradients are stored in the `Tensor.grad` attribute:"
   ]
  },
  {
   "cell_type": "code",
   "execution_count": 27,
   "id": "834d56d8-c1c3-4481-8e5c-15662883a71c",
   "metadata": {},
   "outputs": [
    {
     "data": {
      "text/plain": [
       "tensor(6.)"
      ]
     },
     "execution_count": 27,
     "metadata": {},
     "output_type": "execute_result"
    }
   ],
   "source": [
    "xt.grad"
   ]
  },
  {
   "cell_type": "markdown",
   "id": "0ce54f58-8780-43bf-a45b-a0a261b1c2c8",
   "metadata": {},
   "source": [
    "Great, this worked since we know analytically that $f'(3) = 6$! Now let's generalise to the case where our tensor is an array of values:"
   ]
  },
  {
   "cell_type": "code",
   "execution_count": 28,
   "id": "26ce9687-a5fc-4a0a-84c8-9ad8c53e625a",
   "metadata": {},
   "outputs": [
    {
     "data": {
      "text/plain": [
       "tensor([ 3.,  4., 10.], requires_grad=True)"
      ]
     },
     "execution_count": 28,
     "metadata": {},
     "output_type": "execute_result"
    }
   ],
   "source": [
    "xt = torch.tensor([3.0, 4.0, 10.0], requires_grad=True)\n",
    "xt"
   ]
  },
  {
   "cell_type": "markdown",
   "id": "28d5a14f-ac93-452f-80c2-be84301ec7c6",
   "metadata": {},
   "source": [
    "To compute the gradients, we'll also need to add a `sum()` operator to our function so that it returns a scalar:"
   ]
  },
  {
   "cell_type": "code",
   "execution_count": 29,
   "id": "8a482427-0955-4bb8-a4e5-8329feda1ed7",
   "metadata": {},
   "outputs": [
    {
     "data": {
      "text/plain": [
       "tensor(125., grad_fn=<SumBackward0>)"
      ]
     },
     "execution_count": 29,
     "metadata": {},
     "output_type": "execute_result"
    }
   ],
   "source": [
    "def f(x):\n",
    "    return (x**2).sum()\n",
    "\n",
    "\n",
    "yt = f(xt)\n",
    "yt"
   ]
  },
  {
   "cell_type": "markdown",
   "id": "31bdcc71-d04f-4d8c-9359-b7e62551c594",
   "metadata": {},
   "source": [
    "Here we can see that passing an array of values and applying the sum is equivalent to computing:\n",
    "\n",
    "$$ f(x_0) = \\sum_i x_i^2 \\Big|_{x_0}  $$ \n",
    "\n",
    "Finally, let's check the values of our gradients $f'(x_0)$:"
   ]
  },
  {
   "cell_type": "code",
   "execution_count": 30,
   "id": "af068326-575b-4af6-9a7c-6ff62abc211f",
   "metadata": {},
   "outputs": [
    {
     "data": {
      "text/plain": [
       "tensor([ 6.,  8., 20.])"
      ]
     },
     "execution_count": 30,
     "metadata": {},
     "output_type": "execute_result"
    }
   ],
   "source": [
    "yt.backward()\n",
    "xt.grad"
   ]
  },
  {
   "cell_type": "markdown",
   "id": "047c551e-af98-4de2-a7ac-020e5b5444b8",
   "metadata": {},
   "source": [
    "Now that we know how to compute gradients, we next need to find a way to update all the weights. Let's take a look at this with a more realistic example."
   ]
  },
  {
   "cell_type": "markdown",
   "id": "3fc3e03e-8518-4639-aee2-f3c59b3a5a6a",
   "metadata": {},
   "source": [
    "## A toy example"
   ]
  },
  {
   "cell_type": "markdown",
   "id": "a722762b-b594-4428-9e16-4b301a36f7d4",
   "metadata": {},
   "source": [
    "Imagine that you're measuring some signal at fixed time steps:"
   ]
  },
  {
   "cell_type": "code",
   "execution_count": 31,
   "id": "33e7ffd2-6bb8-40c1-8e66-43d9886dd008",
   "metadata": {},
   "outputs": [],
   "source": [
    "time = torch.arange(0, 20).float()"
   ]
  },
  {
   "cell_type": "markdown",
   "id": "334f367c-a939-4c48-8d70-b9c141e3948b",
   "metadata": {},
   "source": [
    "and then find the result of your measurements looks something like a parabola:"
   ]
  },
  {
   "cell_type": "code",
   "execution_count": 32,
   "id": "d1606a74-afa6-446a-a24e-3369c4035e96",
   "metadata": {},
   "outputs": [
    {
     "data": {
      "image/png": "[encoded data removed]",
      "text/plain": [
       "<Figure size 432x288 with 1 Axes>"
      ]
     },
     "metadata": {
      "needs_background": "light"
     },
     "output_type": "display_data"
    }
   ],
   "source": [
    "signal = torch.randn(20) * 3 + 0.75 * (time - 9.5) ** 2 + 1\n",
    "plt.scatter(time, signal);"
   ]
  },
  {
   "cell_type": "markdown",
   "id": "f1f3f3f3-0a3a-478d-b1ea-77abc15c2ad8",
   "metadata": {},
   "source": [
    "Using SGD, our goal will be to find a function that best fits the data. A good choice of function would be a general quadratic of the form:\n",
    "\n",
    "$$ f(t, a,b,c) = at^2 + bt + c $$\n",
    "\n",
    "We can then define a function that collects the timestep $t$ and the parameters $a,b,c$ as separate arguments:"
   ]
  },
  {
   "cell_type": "code",
   "execution_count": 33,
   "id": "248c3b59-54ee-4ed5-a545-cd832bc997f3",
   "metadata": {},
   "outputs": [],
   "source": [
    "def f(t, params):\n",
    "    a, b, c = params\n",
    "    return a * (t**2) + (b * t) + c"
   ]
  },
  {
   "cell_type": "markdown",
   "id": "ee12bfc1-3c0b-4d16-a7f6-bb0c1b0c49dd",
   "metadata": {},
   "source": [
    "To define what we mean by \"best\" values of $a,b,c$, we'll need to choose a loss function. For regression problems like ours, it is common to use the mean squared error, which we can define as follows:"
   ]
  },
  {
   "cell_type": "code",
   "execution_count": 34,
   "id": "d046fe1b-bfe0-4778-8fc4-7cf11250b2ee",
   "metadata": {},
   "outputs": [],
   "source": [
    "def mse(preds, targets):\n",
    "    return ((preds - targets) ** 2).mean()"
   ]
  },
  {
   "cell_type": "markdown",
   "id": "a6597c21-d6ea-4125-80b5-94e3441999d3",
   "metadata": {},
   "source": [
    "Now that we have a function we with to optimise and a loss function, let's work through the 7 steps of training a model."
   ]
  },
  {
   "cell_type": "markdown",
   "id": "5d4f01e8-f930-4d8c-bceb-e8d9c392288c",
   "metadata": {},
   "source": [
    "### Step 1: Initialize the parameters"
   ]
  },
  {
   "cell_type": "markdown",
   "id": "b24e0e33-e976-48c7-85e9-5739c3eaf706",
   "metadata": {},
   "source": [
    "Since our function involves three parameters $a,b,c$, we'll initialise random values of them using the `torch.randn()` function:"
   ]
  },
  {
   "cell_type": "code",
   "execution_count": 48,
   "id": "1a89a2b1-4034-4699-97de-46465338cc78",
   "metadata": {},
   "outputs": [
    {
     "data": {
      "text/plain": [
       "tensor([-2.1188,  0.0635, -1.4555], requires_grad=True)"
      ]
     },
     "execution_count": 48,
     "metadata": {},
     "output_type": "execute_result"
    }
   ],
   "source": [
    "set_seed(666)\n",
    "params = torch.randn(3, requires_grad=True)\n",
    "params"
   ]
  },
  {
   "cell_type": "markdown",
   "id": "0b061136-f122-4c68-a2ce-07871f01be70",
   "metadata": {},
   "source": [
    "As we did earlier, we've applied the `requires_grad_()` method to indicate that we wish to track the gradients of the `params` tensor. We've also set the seed to the number of the beast so that the results are reproducible when you run the code on your own machine 😈."
   ]
  },
  {
   "cell_type": "markdown",
   "id": "3b2fd45d-8aec-4167-bbae-426b0a0e50ee",
   "metadata": {},
   "source": [
    "### Step 2: Calculate the predictions"
   ]
  },
  {
   "cell_type": "markdown",
   "id": "f16ff0ce-de7f-4068-843f-3fde9a342599",
   "metadata": {},
   "source": [
    "The next step is compute the predictions from the \"model\":"
   ]
  },
  {
   "cell_type": "code",
   "execution_count": 49,
   "id": "34dc48b8-bad8-4d99-b995-45d63781e470",
   "metadata": {},
   "outputs": [
    {
     "data": {
      "text/plain": [
       "torch.Size([20])"
      ]
     },
     "execution_count": 49,
     "metadata": {},
     "output_type": "execute_result"
    }
   ],
   "source": [
    "preds = f(time, params)\n",
    "preds.shape"
   ]
  },
  {
   "cell_type": "markdown",
   "id": "4d18373d-5740-49be-94d3-6bffde1a8fe3",
   "metadata": {},
   "source": [
    "Notice that we get one prediction for each of the time step in the `time` array. We can visualise these predictions with the following helper function:"
   ]
  },
  {
   "cell_type": "code",
   "execution_count": 50,
   "id": "d1d1f620-560a-4799-bb16-0c2902c1cf37",
   "metadata": {},
   "outputs": [
    {
     "data": {
      "image/png": "[encoded data removed]",
      "text/plain": [
       "<Figure size 432x288 with 1 Axes>"
      ]
     },
     "metadata": {
      "needs_background": "light"
     },
     "output_type": "display_data"
    }
   ],
   "source": [
    "def show_preds(preds, ax=None):\n",
    "    if ax is None:\n",
    "        ax = plt.subplots()[1]\n",
    "    ax.scatter(time, signal)\n",
    "    ax.scatter(time, to_np(preds), color=\"red\")\n",
    "    ax.set_ylim(-300, 100)\n",
    "\n",
    "\n",
    "show_preds(preds)"
   ]
  },
  {
   "cell_type": "markdown",
   "id": "d3e7ceb4-dbb7-427c-ae3d-8079012a6699",
   "metadata": {},
   "source": [
    "Unsuprisngly, our randomly initialised model isn't very good - let's see if we can improve it by adjusting the parameters!"
   ]
  },
  {
   "cell_type": "markdown",
   "id": "c99a4f0a-0d95-46ee-9fc3-c1ac81aa381d",
   "metadata": {},
   "source": [
    "### Step 3: Calculate the loss"
   ]
  },
  {
   "cell_type": "markdown",
   "id": "a8160cbd-10be-4cbf-a10a-ab6c9aa90dc1",
   "metadata": {},
   "source": [
    "To know how we should adjust the parameters, we need a way to indicate in which direction we should optimise them. To do so, we'll first compute the loss:"
   ]
  },
  {
   "cell_type": "code",
   "execution_count": 51,
   "id": "20b5d66f-1d40-42ad-af6c-ad19aee5c9d7",
   "metadata": {},
   "outputs": [
    {
     "data": {
      "text/plain": [
       "tensor(143791.4688, grad_fn=<MeanBackward0>)"
      ]
     },
     "execution_count": 51,
     "metadata": {},
     "output_type": "execute_result"
    }
   ],
   "source": [
    "loss = mse(preds, signal)\n",
    "loss"
   ]
  },
  {
   "cell_type": "markdown",
   "id": "b53f42f7-e7c2-41f5-a471-b2e89a75d6f0",
   "metadata": {},
   "source": [
    "To improve this value (i.e. make it lower), we'll need the gradients."
   ]
  },
  {
   "cell_type": "markdown",
   "id": "d7430731-4a93-474b-af62-1aec0b8e2c6b",
   "metadata": {},
   "source": [
    "### Step 4: Calculate the gradients"
   ]
  },
  {
   "cell_type": "markdown",
   "id": "934b6907-cdd6-4412-a40e-37df9c74ac5f",
   "metadata": {},
   "source": [
    "Next we calculate the gradients:"
   ]
  },
  {
   "cell_type": "code",
   "execution_count": 52,
   "id": "d624a6e3-d734-4b00-8e5c-f93b0de81904",
   "metadata": {},
   "outputs": [
    {
     "data": {
      "text/plain": [
       "tensor([-126908.2109,   -8142.3379,    -576.0350])"
      ]
     },
     "execution_count": 52,
     "metadata": {},
     "output_type": "execute_result"
    }
   ],
   "source": [
    "loss.backward()\n",
    "params.grad"
   ]
  },
  {
   "cell_type": "markdown",
   "id": "486c0669-4a09-44d1-91fa-7afad8ee6ec5",
   "metadata": {},
   "source": [
    "### Step 5: Step the weights"
   ]
  },
  {
   "cell_type": "markdown",
   "id": "2d467b2a-9c7a-4802-ba20-e4dba5402ec6",
   "metadata": {},
   "source": [
    "Next we need to update the parameters according to a learning rate. For now we'll just ues $10^{-5}$:"
   ]
  },
  {
   "cell_type": "code",
   "execution_count": 53,
   "id": "48074427-f33e-46e4-bbcf-9c4314780c34",
   "metadata": {},
   "outputs": [],
   "source": [
    "lr = 1e-5\n",
    "params.data -= lr * params.data\n",
    "params.grad = None"
   ]
  },
  {
   "cell_type": "markdown",
   "id": "762c0394-8dc2-415f-92bc-0c39cc80ad1b",
   "metadata": {},
   "source": [
    "Let's check if the loss has improved:"
   ]
  },
  {
   "cell_type": "code",
   "execution_count": 54,
   "id": "270db918-f088-427c-9e5b-024c6eba6506",
   "metadata": {},
   "outputs": [
    {
     "data": {
      "text/plain": [
       "tensor(143788.7812, grad_fn=<MeanBackward0>)"
      ]
     },
     "execution_count": 54,
     "metadata": {},
     "output_type": "execute_result"
    }
   ],
   "source": [
    "preds = f(time, params)\n",
    "mse(preds, signal)"
   ]
  },
  {
   "cell_type": "code",
   "execution_count": 55,
   "id": "fda0f160-a0e2-46e0-b81d-cbeed3715926",
   "metadata": {},
   "outputs": [
    {
     "data": {
      "image/png": "[encoded data removed]",
      "text/plain": [
       "<Figure size 432x288 with 1 Axes>"
      ]
     },
     "metadata": {
      "needs_background": "light"
     },
     "output_type": "display_data"
    }
   ],
   "source": [
    "show_preds(preds)"
   ]
  },
  {
   "cell_type": "markdown",
   "id": "e7f8ee8e-e9b3-4c8b-9e98-3a77434fb64f",
   "metadata": {},
   "source": [
    "Okay, not much of a change after one step so let's repeat the process a few times to see how things improve. To do so, we'll create another helper function that combines all of the above logic:"
   ]
  },
  {
   "cell_type": "code",
   "execution_count": 56,
   "id": "005b2fb1-aa1e-49e1-8620-7b6e18a37c5c",
   "metadata": {},
   "outputs": [],
   "source": [
    "def apply_step(params, prn=True):\n",
    "    preds = f(time, params)\n",
    "    loss = mse(preds, signal)\n",
    "    loss.backward()\n",
    "    params.data -= lr * params.grad.data\n",
    "    params.grad = None\n",
    "    if prn:\n",
    "        print(loss.item())\n",
    "    return preds"
   ]
  },
  {
   "cell_type": "markdown",
   "id": "4d512d32-833d-4eda-9619-193bd3bfe8bd",
   "metadata": {},
   "source": [
    "### Step 6: Repeat the process"
   ]
  },
  {
   "cell_type": "markdown",
   "id": "e69cacd3-932d-4f83-9c15-c0c10d638efb",
   "metadata": {},
   "source": [
    "Now that we've done one step of gradient descent, it's time to repeat a few times to see if the loss decreases:"
   ]
  },
  {
   "cell_type": "code",
   "execution_count": 57,
   "id": "6182f515-c8b0-442d-bc0a-5b688eb64733",
   "metadata": {
    "tags": []
   },
   "outputs": [
    {
     "name": "stdout",
     "output_type": "stream",
     "text": [
      "143788.78125\n",
      "27754.04296875\n",
      "5796.7294921875\n",
      "1641.7310791015625\n",
      "855.4754638671875\n",
      "706.6890869140625\n",
      "678.531494140625\n",
      "673.2003173828125\n",
      "672.1886596679688\n",
      "671.9944458007812\n"
     ]
    }
   ],
   "source": [
    "num_of_iterations = 10\n",
    "\n",
    "for iteration in range(num_of_iterations):\n",
    "    apply_step(params)"
   ]
  },
  {
   "cell_type": "markdown",
   "id": "403ee8dd-f2f9-4c48-9ba1-8f8c64df0733",
   "metadata": {},
   "source": [
    "Great, this seems to work! The loss is decreasing with each step, indicating that a different quadratic function is being tried with different values of the parameters $a,b,c$. We can visualise this process by plotting the intermediate results of the first few steps:"
   ]
  },
  {
   "cell_type": "code",
   "execution_count": 58,
   "id": "56a2976a-f5a9-4881-a648-d47bd24dca6c",
   "metadata": {},
   "outputs": [
    {
     "data": {
      "image/png": "[encoded data removed]",
      "text/plain": [
       "<Figure size 864x216 with 4 Axes>"
      ]
     },
     "metadata": {
      "needs_background": "light"
     },
     "output_type": "display_data"
    }
   ],
   "source": [
    "set_seed(666)\n",
    "params = torch.randn(3).requires_grad_()\n",
    "\n",
    "_, axs = plt.subplots(1, 4, figsize=(12, 3))\n",
    "for ax in axs:\n",
    "    show_preds(apply_step(params, False), ax)\n",
    "plt.tight_layout()"
   ]
  },
  {
   "cell_type": "markdown",
   "id": "fa4cac8a-3a5d-4091-ab82-40f05ae0553e",
   "metadata": {},
   "source": [
    "### Step 7: Stop"
   ]
  },
  {
   "cell_type": "markdown",
   "id": "e60ac751-f087-40a0-abd9-df5ba2261488",
   "metadata": {},
   "source": [
    "Here we stopped the process after 10 steps, but in practice one would track metrics like accuracy and loss on the validation set to decide when is a good point to terminate the training."
   ]
  },
  {
   "cell_type": "markdown",
   "id": "1488420a-7f07-45d3-b357-ec0da0d70750",
   "metadata": {},
   "source": [
    "All of these steps can be carried over to any deep learning problem, so next lecture we'll see how all these steps can be applied to the jet tagging datasets from lecture 1!"
   ]
  },
  {
   "cell_type": "markdown",
   "id": "bdd14292-73d5-436c-888d-6477a7823359",
   "metadata": {},
   "source": [
    "## Exercises\n",
    "\n",
    "* Generate some random linear data and use SGD to find the best parameters for a linear regression model $\\hat{y} = h_\\theta(\\bf{x}) = \\bf{\\theta}\\cdot {\\bf x} $"
   ]
  }
 ],
 "metadata": {
  "kernelspec": {
   "display_name": "Python 3 (ipykernel)",
   "language": "python",
   "name": "python3"
  },
  "language_info": {
   "codemirror_mode": {
    "name": "ipython",
    "version": 3
   },
   "file_extension": ".py",
   "mimetype": "text/x-python",
   "name": "python",
   "nbconvert_exporter": "python",
   "pygments_lexer": "ipython3",
   "version": "3.9.11"
  }
 },
 "nbformat": 4,
 "nbformat_minor": 5
}
