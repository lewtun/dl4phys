{
 "cells": [
  {
   "cell_type": "markdown",
   "id": "4375c2f8-249a-4f6d-8089-2b647bd83ecb",
   "metadata": {},
   "source": [
    "# Lecture 2 - Neural network deep dive"
   ]
  },
  {
   "cell_type": "markdown",
   "id": "07d6c97c-1780-40a8-a739-f4c962182986",
   "metadata": {},
   "source": [
    "> A deep dive into optimising neural networks with stochastic gradient descent"
   ]
  },
  {
   "cell_type": "markdown",
   "id": "dc5f2762-c6b8-4368-8042-336c40a448d8",
   "metadata": {},
   "source": [
    "## Learning objectives\n",
    "\n",
    "* Understand what stochastic gradient descent is and how to minimise functions with it in PyTorch\n",
    "* Understand all the ingredients needed to define a `Learner` in fastai"
   ]
  },
  {
   "cell_type": "markdown",
   "id": "47dfe094-686e-40e7-8eaa-0d4991a2243c",
   "metadata": {},
   "source": [
    "## References\n",
    "\n",
    "* This lecture draws heavily from Chapter 4 of [_Deep Learning for Coders with fastai & PyTorch_](https://github.com/fastai/fastbook) by Jeremy Howard and Sylvain Gugger. The main difference is the use of a tabular dataset of $N$-subjettiness features to showcase how all the elements of a `Learner` are combined."
   ]
  },
  {
   "cell_type": "markdown",
   "id": "699fa5d4-0c13-4e79-821c-e2701c4279c3",
   "metadata": {
    "tags": []
   },
   "source": [
    "## Imports"
   ]
  },
  {
   "cell_type": "code",
   "execution_count": 401,
   "id": "73261150-b566-48b0-812f-293e97564d7c",
   "metadata": {},
   "outputs": [],
   "source": [
    "import torch\n",
    "from datasets import load_dataset\n",
    "from fastai.tabular.all import *\n",
    "from sklearn.model_selection import train_test_split"
   ]
  },
  {
   "cell_type": "code",
   "execution_count": 402,
   "id": "62c70888-089f-42ec-904a-a271a66c5060",
   "metadata": {},
   "outputs": [],
   "source": [
    "import datasets\n",
    "\n",
    "# Suppress logs\n",
    "datasets.logging.set_verbosity_error()"
   ]
  },
  {
   "cell_type": "markdown",
   "id": "7c021731-28ce-4c4e-a823-1aef76109e6e",
   "metadata": {},
   "source": [
    "## Stochastic gradient descent"
   ]
  },
  {
   "cell_type": "markdown",
   "id": "a05acad5-6cff-4a85-bedf-e4cc7d5a3eb9",
   "metadata": {},
   "source": [
    "What does it mean to \"train\" a model? In deep learning, this process is called _stochastic gradient descent_ (SGD) and involves 7 main steps:\n",
    "\n",
    "1. Initialize the weights of the neural network\n",
    "2. For each example in the dataset, use the weights to make a predicition (e.g. is this jet produced by a top-quark or QCD background?)\n",
    "3. Use these predictions to calculate the model performance via the _loss_\n",
    "4. Calculate the _gradients_\n",
    "5. Update all the weights by taking a _step_\n",
    "6. Repeat from step 2\n",
    "7. Stop the training process once the model is good enough"
   ]
  },
  {
   "cell_type": "markdown",
   "id": "2e45f3b0-3c38-4d8e-9d48-1021aa3374b6",
   "metadata": {},
   "source": [
    "In this lecture, we will take a deep dive into how these steps work in PyTorch. But before doing that, let's take a quick look at how gradients are computed in PyTorch, as they'll play a large role in what follows."
   ]
  },
  {
   "cell_type": "markdown",
   "id": "8ffd764e-bcf8-4a05-843e-6e0f04622c08",
   "metadata": {},
   "source": [
    "### Calculating gradients"
   ]
  },
  {
   "cell_type": "markdown",
   "id": "b3281a84-3d2a-4f3f-b21a-80e435e4bc33",
   "metadata": {},
   "source": [
    "To illustrate how gradients are computed in PyTorch, let's consider a simple quadratic loss function:"
   ]
  },
  {
   "cell_type": "code",
   "execution_count": 292,
   "id": "c8e8500c-e93a-47d8-9e23-caa7c0ff1eea",
   "metadata": {},
   "outputs": [],
   "source": [
    "def f(x):\n",
    "    return x**2"
   ]
  },
  {
   "cell_type": "markdown",
   "id": "9a4662d6-2535-49cc-a723-2d637e0797f7",
   "metadata": {},
   "source": [
    "Next, let's create a tensor at the point we wish to calculate the gradient of $f(x)$:"
   ]
  },
  {
   "cell_type": "code",
   "execution_count": 294,
   "id": "08b05fe2-33de-41ed-8e7d-a673fe46db0d",
   "metadata": {},
   "outputs": [
    {
     "data": {
      "text/plain": [
       "tensor(3., requires_grad=True)"
      ]
     },
     "execution_count": 294,
     "metadata": {},
     "output_type": "execute_result"
    }
   ],
   "source": [
    "xt = tensor(3.0).requires_grad_()\n",
    "xt"
   ]
  },
  {
   "cell_type": "markdown",
   "id": "86650d9f-5177-43b7-ac37-04924dabce4c",
   "metadata": {},
   "source": [
    "Here, the special `requires_grad_()` method tells PyTorch to begin recording operations on the tensor `xt`; in particular which parts of the code should be included for computing gradients. Next, let's use this tensor to generate the output `yt` from our function:"
   ]
  },
  {
   "cell_type": "code",
   "execution_count": 298,
   "id": "45a4497c-e407-4b89-aec3-b84f1002c1f9",
   "metadata": {},
   "outputs": [
    {
     "data": {
      "text/plain": [
       "tensor(9., grad_fn=<PowBackward0>)"
      ]
     },
     "execution_count": 298,
     "metadata": {},
     "output_type": "execute_result"
    }
   ],
   "source": [
    "yt = f(xt)\n",
    "yt"
   ]
  },
  {
   "cell_type": "markdown",
   "id": "bb86a9ce-4657-45ec-977d-40ea6fc2818a",
   "metadata": {},
   "source": [
    "This looks good and here PyTorch is indicating both the value of the tensor and the gradient function that will be used. So let's now compute the gradients with the `backward()` method:"
   ]
  },
  {
   "cell_type": "code",
   "execution_count": 299,
   "id": "a7c4e735-8957-4ccf-9177-37ddcb288f49",
   "metadata": {},
   "outputs": [],
   "source": [
    "yt.backward()"
   ]
  },
  {
   "cell_type": "markdown",
   "id": "9a188ec2-27e7-4376-8c20-bdfc171bbfca",
   "metadata": {},
   "source": [
    "Here, \"backward\" refers to _backpropagation_, which is the technique used in deep learning to compute the gradients of the loss with respect to all the weights in the model. We'll look at backpropagation in a bit more detail soon, but for now the main thing to note is that the gradients are stored in the `Tensor.grad` attribute:"
   ]
  },
  {
   "cell_type": "code",
   "execution_count": 300,
   "id": "834d56d8-c1c3-4481-8e5c-15662883a71c",
   "metadata": {},
   "outputs": [
    {
     "data": {
      "text/plain": [
       "tensor(6.)"
      ]
     },
     "execution_count": 300,
     "metadata": {},
     "output_type": "execute_result"
    }
   ],
   "source": [
    "xt.grad"
   ]
  },
  {
   "cell_type": "markdown",
   "id": "0ce54f58-8780-43bf-a45b-a0a261b1c2c8",
   "metadata": {},
   "source": [
    "Great, this worked since we know analytically that $f'(3) = 6$! Now let's generalise to the case where our tensor is an array of values:"
   ]
  },
  {
   "cell_type": "code",
   "execution_count": 301,
   "id": "26ce9687-a5fc-4a0a-84c8-9ad8c53e625a",
   "metadata": {},
   "outputs": [
    {
     "data": {
      "text/plain": [
       "tensor([ 3.,  4., 10.], requires_grad=True)"
      ]
     },
     "execution_count": 301,
     "metadata": {},
     "output_type": "execute_result"
    }
   ],
   "source": [
    "xt = tensor([3.0, 4.0, 10.0]).requires_grad_()\n",
    "xt"
   ]
  },
  {
   "cell_type": "markdown",
   "id": "28d5a14f-ac93-452f-80c2-be84301ec7c6",
   "metadata": {},
   "source": [
    "To compute the gradients, we'll also need to add a `sum()` operator to our function so that it returns a scalar:"
   ]
  },
  {
   "cell_type": "code",
   "execution_count": 302,
   "id": "8a482427-0955-4bb8-a4e5-8329feda1ed7",
   "metadata": {},
   "outputs": [
    {
     "data": {
      "text/plain": [
       "tensor(125., grad_fn=<SumBackward0>)"
      ]
     },
     "execution_count": 302,
     "metadata": {},
     "output_type": "execute_result"
    }
   ],
   "source": [
    "def f(x):\n",
    "    return (x**2).sum()\n",
    "\n",
    "\n",
    "yt = f(xt)\n",
    "yt"
   ]
  },
  {
   "cell_type": "markdown",
   "id": "31bdcc71-d04f-4d8c-9359-b7e62551c594",
   "metadata": {},
   "source": [
    "Here we can see that passing an array of values and applying the sum is equivalent to computing:\n",
    "\n",
    "$$ f(x_0) = \\sum_i x_i^2 \\Big|_{x_0}  $$ \n",
    "\n",
    "Finally, let's check the values of our gradients $f'(x_0)$:"
   ]
  },
  {
   "cell_type": "code",
   "execution_count": 303,
   "id": "af068326-575b-4af6-9a7c-6ff62abc211f",
   "metadata": {},
   "outputs": [
    {
     "data": {
      "text/plain": [
       "tensor([ 6.,  8., 20.])"
      ]
     },
     "execution_count": 303,
     "metadata": {},
     "output_type": "execute_result"
    }
   ],
   "source": [
    "yt.backward()\n",
    "xt.grad"
   ]
  },
  {
   "cell_type": "markdown",
   "id": "047c551e-af98-4de2-a7ac-020e5b5444b8",
   "metadata": {},
   "source": [
    "Now that we know how to compute gradients, we next need to find a way to update all the weights. Let's take a look at this with a more realistic example."
   ]
  },
  {
   "cell_type": "markdown",
   "id": "3fc3e03e-8518-4639-aee2-f3c59b3a5a6a",
   "metadata": {},
   "source": [
    "## An end-to-end example"
   ]
  },
  {
   "cell_type": "markdown",
   "id": "a722762b-b594-4428-9e16-4b301a36f7d4",
   "metadata": {},
   "source": [
    "Imagine that you're measuring some signal at fixed time steps:"
   ]
  },
  {
   "cell_type": "code",
   "execution_count": 304,
   "id": "33e7ffd2-6bb8-40c1-8e66-43d9886dd008",
   "metadata": {},
   "outputs": [
    {
     "data": {
      "text/plain": [
       "tensor([ 0.,  1.,  2.,  3.,  4.,  5.,  6.,  7.,  8.,  9., 10., 11., 12., 13.,\n",
       "        14., 15., 16., 17., 18., 19.])"
      ]
     },
     "execution_count": 304,
     "metadata": {},
     "output_type": "execute_result"
    }
   ],
   "source": [
    "time = torch.arange(0, 20).float()"
   ]
  },
  {
   "cell_type": "markdown",
   "id": "334f367c-a939-4c48-8d70-b9c141e3948b",
   "metadata": {},
   "source": [
    "and then find the result of your measurements looks something like a parabola:"
   ]
  },
  {
   "cell_type": "code",
   "execution_count": 323,
   "id": "d1606a74-afa6-446a-a24e-3369c4035e96",
   "metadata": {},
   "outputs": [
    {
     "data": {
      "image/png": "[encoded data removed]",
      "text/plain": [
       "<Figure size 432x288 with 1 Axes>"
      ]
     },
     "metadata": {
      "needs_background": "light"
     },
     "output_type": "display_data"
    }
   ],
   "source": [
    "signal = torch.randn(20) * 3 + 0.75 * (time - 9.5) ** 2 + 1\n",
    "plt.scatter(time, signal);"
   ]
  },
  {
   "cell_type": "markdown",
   "id": "f1f3f3f3-0a3a-478d-b1ea-77abc15c2ad8",
   "metadata": {},
   "source": [
    "Using SGD, our goal will be to find a function that best fits the data. A good choice of function would be a general quadratic of the form:\n",
    "\n",
    "$$ f(t) = at^2 + bt + c $$\n",
    "\n",
    "We can then define a function that collects the timestep $t$ and the parameters $a,b,c$ as separate arguments:"
   ]
  },
  {
   "cell_type": "code",
   "execution_count": 324,
   "id": "248c3b59-54ee-4ed5-a545-cd832bc997f3",
   "metadata": {},
   "outputs": [],
   "source": [
    "def f(t, params):\n",
    "    a, b, c = params\n",
    "    return a * (t**2) + (b * t) + c"
   ]
  },
  {
   "cell_type": "markdown",
   "id": "ee12bfc1-3c0b-4d16-a7f6-bb0c1b0c49dd",
   "metadata": {},
   "source": [
    "To define what we mean by \"best\" values of $a,b,c$, we'll need to choose a loss function. For regression problems like ours, it is common to use the mean squared error, which we can define as follows:"
   ]
  },
  {
   "cell_type": "code",
   "execution_count": 307,
   "id": "d046fe1b-bfe0-4778-8fc4-7cf11250b2ee",
   "metadata": {},
   "outputs": [],
   "source": [
    "def mse(preds, targets):\n",
    "    return ((preds - targets) ** 2).mean()"
   ]
  },
  {
   "cell_type": "markdown",
   "id": "a6597c21-d6ea-4125-80b5-94e3441999d3",
   "metadata": {},
   "source": [
    "Now that we have a function we with to optimise and a loss function, let's work through the 7 steps of training a model."
   ]
  },
  {
   "cell_type": "markdown",
   "id": "5d4f01e8-f930-4d8c-bceb-e8d9c392288c",
   "metadata": {},
   "source": [
    "### Step 1: Initialize the parameters"
   ]
  },
  {
   "cell_type": "markdown",
   "id": "b24e0e33-e976-48c7-85e9-5739c3eaf706",
   "metadata": {},
   "source": [
    "Since our function involves three parameters $a,b,c$, we'll initialise random values of them using the `torch.randn()` function:"
   ]
  },
  {
   "cell_type": "code",
   "execution_count": 327,
   "id": "1a89a2b1-4034-4699-97de-46465338cc78",
   "metadata": {},
   "outputs": [
    {
     "data": {
      "text/plain": [
       "tensor([-2.1188,  0.0635, -1.4555], requires_grad=True)"
      ]
     },
     "execution_count": 327,
     "metadata": {},
     "output_type": "execute_result"
    }
   ],
   "source": [
    "set_seed(666)\n",
    "params = torch.randn(3).requires_grad_()\n",
    "params"
   ]
  },
  {
   "cell_type": "markdown",
   "id": "0b061136-f122-4c68-a2ce-07871f01be70",
   "metadata": {},
   "source": [
    "As we did earlier, we've applied the `requires_grad_()` method to indicate that we wish to track the gradients of the `params` tensor. We've also set the seed to the number of the beast so that the results are reproducible when you run the code on your own machine 😈."
   ]
  },
  {
   "cell_type": "markdown",
   "id": "3b2fd45d-8aec-4167-bbae-426b0a0e50ee",
   "metadata": {},
   "source": [
    "### Step 2: Calculate the predictions"
   ]
  },
  {
   "cell_type": "markdown",
   "id": "f16ff0ce-de7f-4068-843f-3fde9a342599",
   "metadata": {},
   "source": [
    "The next step is compute the predictions from the \"model\":"
   ]
  },
  {
   "cell_type": "code",
   "execution_count": 348,
   "id": "34dc48b8-bad8-4d99-b995-45d63781e470",
   "metadata": {},
   "outputs": [
    {
     "data": {
      "text/plain": [
       "torch.Size([20])"
      ]
     },
     "execution_count": 348,
     "metadata": {},
     "output_type": "execute_result"
    }
   ],
   "source": [
    "preds = f(time, params)\n",
    "preds.shape"
   ]
  },
  {
   "cell_type": "markdown",
   "id": "4d18373d-5740-49be-94d3-6bffde1a8fe3",
   "metadata": {},
   "source": [
    "Notice that we get one prediction for each of the time step in the `time` array. We can visualise these predictions with the following helper function:"
   ]
  },
  {
   "cell_type": "code",
   "execution_count": 349,
   "id": "d1d1f620-560a-4799-bb16-0c2902c1cf37",
   "metadata": {},
   "outputs": [
    {
     "data": {
      "image/png": "[encoded data removed]",
      "text/plain": [
       "<Figure size 432x288 with 1 Axes>"
      ]
     },
     "metadata": {
      "needs_background": "light"
     },
     "output_type": "display_data"
    }
   ],
   "source": [
    "def show_preds(preds, ax=None):\n",
    "    if ax is None:\n",
    "        ax = plt.subplots()[1]\n",
    "    ax.scatter(time, speed)\n",
    "    ax.scatter(time, to_np(preds), color=\"red\")\n",
    "    ax.set_ylim(-300, 100)\n",
    "\n",
    "\n",
    "show_preds(preds)"
   ]
  },
  {
   "cell_type": "markdown",
   "id": "d3e7ceb4-dbb7-427c-ae3d-8079012a6699",
   "metadata": {},
   "source": [
    "Unsuprisngly, our randomly initialised model isn't very good - let's see if we can improve it by adjusting the parameters!"
   ]
  },
  {
   "cell_type": "markdown",
   "id": "c99a4f0a-0d95-46ee-9fc3-c1ac81aa381d",
   "metadata": {},
   "source": [
    "### Step 3: Calculate the loss"
   ]
  },
  {
   "cell_type": "markdown",
   "id": "a8160cbd-10be-4cbf-a10a-ab6c9aa90dc1",
   "metadata": {},
   "source": [
    "To know how we should adjust the parameters, we need a way to indicate in which direction we should optimise them. To do so, we'll first compute the loss:"
   ]
  },
  {
   "cell_type": "code",
   "execution_count": 350,
   "id": "20b5d66f-1d40-42ad-af6c-ad19aee5c9d7",
   "metadata": {},
   "outputs": [
    {
     "data": {
      "text/plain": [
       "tensor(118648.7969, grad_fn=<MeanBackward0>)"
      ]
     },
     "execution_count": 350,
     "metadata": {},
     "output_type": "execute_result"
    }
   ],
   "source": [
    "loss = mse(preds, signal)\n",
    "loss"
   ]
  },
  {
   "cell_type": "markdown",
   "id": "b53f42f7-e7c2-41f5-a471-b2e89a75d6f0",
   "metadata": {},
   "source": [
    "To improve this value (i.e. make it lower), we'll need the gradients."
   ]
  },
  {
   "cell_type": "markdown",
   "id": "d7430731-4a93-474b-af62-1aec0b8e2c6b",
   "metadata": {},
   "source": [
    "### Step 4: Calculate the gradients"
   ]
  },
  {
   "cell_type": "markdown",
   "id": "934b6907-cdd6-4412-a40e-37df9c74ac5f",
   "metadata": {},
   "source": [
    "Next we calculate the gradients:"
   ]
  },
  {
   "cell_type": "code",
   "execution_count": 351,
   "id": "d624a6e3-d734-4b00-8e5c-f93b0de81904",
   "metadata": {},
   "outputs": [
    {
     "data": {
      "text/plain": [
       "tensor([-115240.7969,   -7393.0049,    -524.1800])"
      ]
     },
     "execution_count": 351,
     "metadata": {},
     "output_type": "execute_result"
    }
   ],
   "source": [
    "loss.backward()\n",
    "params.grad"
   ]
  },
  {
   "cell_type": "markdown",
   "id": "486c0669-4a09-44d1-91fa-7afad8ee6ec5",
   "metadata": {},
   "source": [
    "### Step 5: Step the weights"
   ]
  },
  {
   "cell_type": "markdown",
   "id": "2d467b2a-9c7a-4802-ba20-e4dba5402ec6",
   "metadata": {},
   "source": [
    "Next we need to update the parameters according to a learning rate. For now we'll just ues $10^{-5}$:"
   ]
  },
  {
   "cell_type": "code",
   "execution_count": 352,
   "id": "48074427-f33e-46e4-bbcf-9c4314780c34",
   "metadata": {},
   "outputs": [],
   "source": [
    "lr = 1e-5\n",
    "params.data -= lr * params.data\n",
    "params.grad = None"
   ]
  },
  {
   "cell_type": "markdown",
   "id": "762c0394-8dc2-415f-92bc-0c39cc80ad1b",
   "metadata": {},
   "source": [
    "Let's check if the loss has improved:"
   ]
  },
  {
   "cell_type": "code",
   "execution_count": 353,
   "id": "270db918-f088-427c-9e5b-024c6eba6506",
   "metadata": {},
   "outputs": [
    {
     "data": {
      "text/plain": [
       "tensor(117749.7500, grad_fn=<MeanBackward0>)"
      ]
     },
     "execution_count": 353,
     "metadata": {},
     "output_type": "execute_result"
    }
   ],
   "source": [
    "preds = f(time, params)\n",
    "mse(preds, speed)"
   ]
  },
  {
   "cell_type": "code",
   "execution_count": 354,
   "id": "fda0f160-a0e2-46e0-b81d-cbeed3715926",
   "metadata": {},
   "outputs": [
    {
     "data": {
      "image/png": "[encoded data removed]",
      "text/plain": [
       "<Figure size 432x288 with 1 Axes>"
      ]
     },
     "metadata": {
      "needs_background": "light"
     },
     "output_type": "display_data"
    }
   ],
   "source": [
    "show_preds(preds)"
   ]
  },
  {
   "cell_type": "markdown",
   "id": "e7f8ee8e-e9b3-4c8b-9e98-3a77434fb64f",
   "metadata": {},
   "source": [
    "Okay, not much of a change after one step so let's repeat the process a few times to see how things improve. To do so, we'll create another helper function that combines all of the above logic:"
   ]
  },
  {
   "cell_type": "code",
   "execution_count": 355,
   "id": "005b2fb1-aa1e-49e1-8620-7b6e18a37c5c",
   "metadata": {},
   "outputs": [],
   "source": [
    "def apply_step(params, prn=True):\n",
    "    preds = f(time, params)\n",
    "    loss = mse(preds, speed)\n",
    "    loss.backward()\n",
    "    params.data -= lr * params.grad.data\n",
    "    params.grad = None\n",
    "    if prn:\n",
    "        print(loss.item())\n",
    "    return preds"
   ]
  },
  {
   "cell_type": "markdown",
   "id": "4d512d32-833d-4eda-9619-193bd3bfe8bd",
   "metadata": {},
   "source": [
    "### Step 6: Repeat the process"
   ]
  },
  {
   "cell_type": "markdown",
   "id": "e69cacd3-932d-4f83-9c15-c0c10d638efb",
   "metadata": {},
   "source": [
    "Now that we've done one step of gradient descent, it's time to repeat a few times to see if the loss decreases:"
   ]
  },
  {
   "cell_type": "code",
   "execution_count": 356,
   "id": "6182f515-c8b0-442d-bc0a-5b688eb64733",
   "metadata": {
    "tags": []
   },
   "outputs": [
    {
     "name": "stdout",
     "output_type": "stream",
     "text": [
      "117749.75\n",
      "22843.13671875\n",
      "4883.90283203125\n",
      "1485.4649658203125\n",
      "842.3732299804688\n",
      "720.677490234375\n",
      "697.6458740234375\n",
      "693.2843627929688\n",
      "692.4559326171875\n",
      "692.2958984375\n"
     ]
    }
   ],
   "source": [
    "for _ in range(10):\n",
    "    apply_step(params)"
   ]
  },
  {
   "cell_type": "markdown",
   "id": "403ee8dd-f2f9-4c48-9ba1-8f8c64df0733",
   "metadata": {},
   "source": [
    "Great, this seems to work! The loss is decreasing with each step, indicating that a different quadratic function is being tried with different values of the parameters $a,b,c$. We can visualise this process by plotting the intermediate results of the first few steps:"
   ]
  },
  {
   "cell_type": "code",
   "execution_count": 362,
   "id": "56a2976a-f5a9-4881-a648-d47bd24dca6c",
   "metadata": {},
   "outputs": [
    {
     "data": {
      "image/png": "[encoded data removed]",
      "text/plain": [
       "<Figure size 864x216 with 4 Axes>"
      ]
     },
     "metadata": {
      "needs_background": "light"
     },
     "output_type": "display_data"
    }
   ],
   "source": [
    "set_seed(666)\n",
    "params = torch.randn(3).requires_grad_()\n",
    "\n",
    "_, axs = plt.subplots(1, 4, figsize=(12, 3))\n",
    "for ax in axs:\n",
    "    show_preds(apply_step(params, False), ax)\n",
    "plt.tight_layout()"
   ]
  },
  {
   "cell_type": "markdown",
   "id": "fa4cac8a-3a5d-4091-ab82-40f05ae0553e",
   "metadata": {},
   "source": [
    "### Step 7: Stop"
   ]
  },
  {
   "cell_type": "markdown",
   "id": "e60ac751-f087-40a0-abd9-df5ba2261488",
   "metadata": {},
   "source": [
    "Here we stopped the process after 10 steps, but in practice one would track metrics like accuracy and loss on the validation set to decide when is a good point to terminate the training."
   ]
  },
  {
   "cell_type": "markdown",
   "id": "1488420a-7f07-45d3-b357-ec0da0d70750",
   "metadata": {},
   "source": [
    "All of these steps can be carried over to any deep learning problem, so let's revisit the $N$-subjettiness dataset of particle jets from lecture 1."
   ]
  },
  {
   "cell_type": "markdown",
   "id": "230c5b5f-3b6c-4c99-a4aa-94393105d7a4",
   "metadata": {},
   "source": [
    "## A real-world example"
   ]
  },
  {
   "cell_type": "markdown",
   "id": "0cb5955a-ecce-4d19-8f2b-08581a0fdac6",
   "metadata": {},
   "source": [
    "So far we've focused on optimising simple quadratic functions, but let's now tackle a problem using neural networks! We'll use the same dataset from lecture 1 that contains simulated jets of top-quarks and QCD background. As usual, we load the dataset from the Hugging Face Hub and convert it to a Pandas `DataFrame`:"
   ]
  },
  {
   "cell_type": "code",
   "execution_count": 403,
   "id": "d67c6c7d-f7fc-44bf-8ba0-448d66495554",
   "metadata": {},
   "outputs": [
    {
     "data": {
      "application/vnd.jupyter.widget-view+json": {
       "model_id": "0d7d4c31729545dda0cf2e8c7e3ce0a0",
       "version_major": 2,
       "version_minor": 0
      },
      "text/plain": [
       "  0%|          | 0/3 [00:00<?, ?it/s]"
      ]
     },
     "metadata": {},
     "output_type": "display_data"
    },
    {
     "data": {
      "text/html": [
       "<div>\n",
       "<style scoped>\n",
       "    .dataframe tbody tr th:only-of-type {\n",
       "        vertical-align: middle;\n",
       "    }\n",
       "\n",
       "    .dataframe tbody tr th {\n",
       "        vertical-align: top;\n",
       "    }\n",
       "\n",
       "    .dataframe thead th {\n",
       "        text-align: right;\n",
       "    }\n",
       "</style>\n",
       "<table border=\"1\" class=\"dataframe\">\n",
       "  <thead>\n",
       "    <tr style=\"text-align: right;\">\n",
       "      <th></th>\n",
       "      <th>pT</th>\n",
       "      <th>mass</th>\n",
       "      <th>tau_1_0.5</th>\n",
       "      <th>tau_1_1</th>\n",
       "      <th>tau_1_2</th>\n",
       "      <th>tau_2_0.5</th>\n",
       "      <th>tau_2_1</th>\n",
       "      <th>tau_2_2</th>\n",
       "      <th>tau_3_0.5</th>\n",
       "      <th>tau_3_1</th>\n",
       "      <th>...</th>\n",
       "      <th>tau_4_0.5</th>\n",
       "      <th>tau_4_1</th>\n",
       "      <th>tau_4_2</th>\n",
       "      <th>tau_5_0.5</th>\n",
       "      <th>tau_5_1</th>\n",
       "      <th>tau_5_2</th>\n",
       "      <th>tau_6_0.5</th>\n",
       "      <th>tau_6_1</th>\n",
       "      <th>tau_6_2</th>\n",
       "      <th>label</th>\n",
       "    </tr>\n",
       "  </thead>\n",
       "  <tbody>\n",
       "    <tr>\n",
       "      <th>0</th>\n",
       "      <td>543.633944</td>\n",
       "      <td>25.846792</td>\n",
       "      <td>0.165122</td>\n",
       "      <td>0.032661</td>\n",
       "      <td>0.002262</td>\n",
       "      <td>0.048830</td>\n",
       "      <td>0.003711</td>\n",
       "      <td>0.000044</td>\n",
       "      <td>0.030994</td>\n",
       "      <td>0.001630</td>\n",
       "      <td>...</td>\n",
       "      <td>0.024336</td>\n",
       "      <td>0.001115</td>\n",
       "      <td>0.000008</td>\n",
       "      <td>0.004252</td>\n",
       "      <td>0.000234</td>\n",
       "      <td>7.706005e-07</td>\n",
       "      <td>0.000000</td>\n",
       "      <td>0.000000</td>\n",
       "      <td>0.000000e+00</td>\n",
       "      <td>0</td>\n",
       "    </tr>\n",
       "    <tr>\n",
       "      <th>1</th>\n",
       "      <td>452.411860</td>\n",
       "      <td>13.388679</td>\n",
       "      <td>0.162938</td>\n",
       "      <td>0.027598</td>\n",
       "      <td>0.000876</td>\n",
       "      <td>0.095902</td>\n",
       "      <td>0.015461</td>\n",
       "      <td>0.000506</td>\n",
       "      <td>0.079750</td>\n",
       "      <td>0.009733</td>\n",
       "      <td>...</td>\n",
       "      <td>0.056854</td>\n",
       "      <td>0.005454</td>\n",
       "      <td>0.000072</td>\n",
       "      <td>0.044211</td>\n",
       "      <td>0.004430</td>\n",
       "      <td>6.175314e-05</td>\n",
       "      <td>0.037458</td>\n",
       "      <td>0.003396</td>\n",
       "      <td>3.670517e-05</td>\n",
       "      <td>0</td>\n",
       "    </tr>\n",
       "    <tr>\n",
       "      <th>2</th>\n",
       "      <td>429.495258</td>\n",
       "      <td>32.021091</td>\n",
       "      <td>0.244436</td>\n",
       "      <td>0.065901</td>\n",
       "      <td>0.005557</td>\n",
       "      <td>0.155202</td>\n",
       "      <td>0.038807</td>\n",
       "      <td>0.002762</td>\n",
       "      <td>0.123285</td>\n",
       "      <td>0.025339</td>\n",
       "      <td>...</td>\n",
       "      <td>0.078205</td>\n",
       "      <td>0.012678</td>\n",
       "      <td>0.000567</td>\n",
       "      <td>0.052374</td>\n",
       "      <td>0.005935</td>\n",
       "      <td>9.395772e-05</td>\n",
       "      <td>0.037572</td>\n",
       "      <td>0.002932</td>\n",
       "      <td>2.237277e-05</td>\n",
       "      <td>0</td>\n",
       "    </tr>\n",
       "    <tr>\n",
       "      <th>3</th>\n",
       "      <td>512.675443</td>\n",
       "      <td>6.684734</td>\n",
       "      <td>0.102580</td>\n",
       "      <td>0.011369</td>\n",
       "      <td>0.000170</td>\n",
       "      <td>0.086306</td>\n",
       "      <td>0.007760</td>\n",
       "      <td>0.000071</td>\n",
       "      <td>0.068169</td>\n",
       "      <td>0.005386</td>\n",
       "      <td>...</td>\n",
       "      <td>0.044705</td>\n",
       "      <td>0.002376</td>\n",
       "      <td>0.000008</td>\n",
       "      <td>0.027895</td>\n",
       "      <td>0.001364</td>\n",
       "      <td>4.400042e-06</td>\n",
       "      <td>0.009012</td>\n",
       "      <td>0.000379</td>\n",
       "      <td>6.731099e-07</td>\n",
       "      <td>0</td>\n",
       "    </tr>\n",
       "    <tr>\n",
       "      <th>4</th>\n",
       "      <td>527.956859</td>\n",
       "      <td>133.985415</td>\n",
       "      <td>0.407009</td>\n",
       "      <td>0.191839</td>\n",
       "      <td>0.065169</td>\n",
       "      <td>0.291460</td>\n",
       "      <td>0.105479</td>\n",
       "      <td>0.029753</td>\n",
       "      <td>0.209341</td>\n",
       "      <td>0.049187</td>\n",
       "      <td>...</td>\n",
       "      <td>0.143768</td>\n",
       "      <td>0.033249</td>\n",
       "      <td>0.003689</td>\n",
       "      <td>0.135407</td>\n",
       "      <td>0.029054</td>\n",
       "      <td>2.593460e-03</td>\n",
       "      <td>0.110805</td>\n",
       "      <td>0.023179</td>\n",
       "      <td>2.202088e-03</td>\n",
       "      <td>0</td>\n",
       "    </tr>\n",
       "  </tbody>\n",
       "</table>\n",
       "<p>5 rows × 21 columns</p>\n",
       "</div>"
      ],
      "text/plain": [
       "           pT        mass  tau_1_0.5   tau_1_1   tau_1_2  tau_2_0.5   tau_2_1  \\\n",
       "0  543.633944   25.846792   0.165122  0.032661  0.002262   0.048830  0.003711   \n",
       "1  452.411860   13.388679   0.162938  0.027598  0.000876   0.095902  0.015461   \n",
       "2  429.495258   32.021091   0.244436  0.065901  0.005557   0.155202  0.038807   \n",
       "3  512.675443    6.684734   0.102580  0.011369  0.000170   0.086306  0.007760   \n",
       "4  527.956859  133.985415   0.407009  0.191839  0.065169   0.291460  0.105479   \n",
       "\n",
       "    tau_2_2  tau_3_0.5   tau_3_1  ...  tau_4_0.5   tau_4_1   tau_4_2  \\\n",
       "0  0.000044   0.030994  0.001630  ...   0.024336  0.001115  0.000008   \n",
       "1  0.000506   0.079750  0.009733  ...   0.056854  0.005454  0.000072   \n",
       "2  0.002762   0.123285  0.025339  ...   0.078205  0.012678  0.000567   \n",
       "3  0.000071   0.068169  0.005386  ...   0.044705  0.002376  0.000008   \n",
       "4  0.029753   0.209341  0.049187  ...   0.143768  0.033249  0.003689   \n",
       "\n",
       "   tau_5_0.5   tau_5_1       tau_5_2  tau_6_0.5   tau_6_1       tau_6_2  label  \n",
       "0   0.004252  0.000234  7.706005e-07   0.000000  0.000000  0.000000e+00      0  \n",
       "1   0.044211  0.004430  6.175314e-05   0.037458  0.003396  3.670517e-05      0  \n",
       "2   0.052374  0.005935  9.395772e-05   0.037572  0.002932  2.237277e-05      0  \n",
       "3   0.027895  0.001364  4.400042e-06   0.009012  0.000379  6.731099e-07      0  \n",
       "4   0.135407  0.029054  2.593460e-03   0.110805  0.023179  2.202088e-03      0  \n",
       "\n",
       "[5 rows x 21 columns]"
      ]
     },
     "execution_count": 403,
     "metadata": {},
     "output_type": "execute_result"
    }
   ],
   "source": [
    "nsubjet_ds = load_dataset(\"dl4phys/top_tagging_nsubjettiness\")\n",
    "df = nsubjet_ds[\"train\"].to_pandas()\n",
    "df.head()"
   ]
  },
  {
   "cell_type": "markdown",
   "id": "f97a3a8d-3dfd-4a59-bd1d-fa77f14b5b95",
   "metadata": {
    "tags": []
   },
   "source": [
    "## Binary cross entropy loss function"
   ]
  },
  {
   "cell_type": "code",
   "execution_count": null,
   "id": "f726497c-eded-412d-8513-efcaa7a29200",
   "metadata": {},
   "outputs": [],
   "source": [
    "def binary_cross_entropy(predictions, targets):\n",
    "    predictions = predictions.sigmoid()\n",
    "    return -torch.where(targets == 1, predictions, 1 - predictions).log().mean()"
   ]
  },
  {
   "cell_type": "code",
   "execution_count": null,
   "id": "edf706f7-05cc-4f6e-804c-74a901dafbdd",
   "metadata": {},
   "outputs": [],
   "source": [
    "targs = tensor([1, 0, 1])\n",
    "preds = tensor([0.9, 0.4, 0.2])"
   ]
  },
  {
   "cell_type": "code",
   "execution_count": null,
   "id": "12c8f7f2-59a6-4380-a4d1-c59bcb2dd7cb",
   "metadata": {},
   "outputs": [
    {
     "data": {
      "text/plain": [
       "tensor([0.7109, 0.5987, 0.5498])"
      ]
     },
     "execution_count": 193,
     "metadata": {},
     "output_type": "execute_result"
    }
   ],
   "source": [
    "preds.sigmoid()"
   ]
  },
  {
   "cell_type": "code",
   "execution_count": null,
   "id": "096dab2f-fd16-452b-9e32-2ba9c3d35ab7",
   "metadata": {},
   "outputs": [
    {
     "data": {
      "text/plain": [
       "tensor(0.6174)"
      ]
     },
     "execution_count": 194,
     "metadata": {},
     "output_type": "execute_result"
    }
   ],
   "source": [
    "binary_cross_entropy(preds, targs)"
   ]
  },
  {
   "cell_type": "code",
   "execution_count": 368,
   "id": "8e62de99-b6ed-477e-82a2-ba8f880d53ed",
   "metadata": {},
   "outputs": [],
   "source": [
    "train_df, valid_df = train_test_split(df)"
   ]
  },
  {
   "cell_type": "code",
   "execution_count": 255,
   "id": "cab90990-be16-4757-a4b7-a54fa005b2e7",
   "metadata": {},
   "outputs": [],
   "source": [
    "scaler = StandardScaler()"
   ]
  },
  {
   "cell_type": "code",
   "execution_count": 256,
   "id": "f7da9e6c-9b7f-4731-977d-9aef74362a2a",
   "metadata": {},
   "outputs": [],
   "source": [
    "train_x, valid_x = scaler.fit_transform(train_df.iloc[:, :-1]), scaler.fit_transform(\n",
    "    valid_df.iloc[:, :-1]\n",
    ")"
   ]
  },
  {
   "cell_type": "code",
   "execution_count": 257,
   "id": "80493d92-e86c-43a6-8c57-217544d30415",
   "metadata": {},
   "outputs": [
    {
     "ename": "TypeError",
     "evalue": "expected np.ndarray (got Tensor)",
     "output_type": "error",
     "traceback": [
      "\u001b[0;31m---------------------------------------------------------------------------\u001b[0m",
      "\u001b[0;31mTypeError\u001b[0m                                 Traceback (most recent call last)",
      "Input \u001b[0;32mIn [369]\u001b[0m, in \u001b[0;36m<cell line: 1>\u001b[0;34m()\u001b[0m\n\u001b[0;32m----> 1\u001b[0m train_x, train_y \u001b[38;5;241m=\u001b[39m \u001b[43mtorch\u001b[49m\u001b[38;5;241;43m.\u001b[39;49m\u001b[43mfrom_numpy\u001b[49m\u001b[43m(\u001b[49m\u001b[43mtrain_x\u001b[49m\u001b[43m)\u001b[49m\u001b[38;5;241m.\u001b[39mfloat(), torch\u001b[38;5;241m.\u001b[39mfrom_numpy(\n\u001b[1;32m      2\u001b[0m     train_df\u001b[38;5;241m.\u001b[39miloc[:, \u001b[38;5;241m-\u001b[39m\u001b[38;5;241m1\u001b[39m]\u001b[38;5;241m.\u001b[39mvalues\n\u001b[1;32m      3\u001b[0m )\n\u001b[1;32m      4\u001b[0m valid_x, valid_y \u001b[38;5;241m=\u001b[39m torch\u001b[38;5;241m.\u001b[39mfrom_numpy(valid_x)\u001b[38;5;241m.\u001b[39mfloat(), torch\u001b[38;5;241m.\u001b[39mfrom_numpy(\n\u001b[1;32m      5\u001b[0m     valid_df\u001b[38;5;241m.\u001b[39miloc[:, \u001b[38;5;241m-\u001b[39m\u001b[38;5;241m1\u001b[39m]\u001b[38;5;241m.\u001b[39mvalues\n\u001b[1;32m      6\u001b[0m )\n",
      "\u001b[0;31mTypeError\u001b[0m: expected np.ndarray (got Tensor)"
     ]
    }
   ],
   "source": [
    "train_x, train_y = torch.from_numpy(train_x).float(), torch.from_numpy(\n",
    "    train_df.iloc[:, -1].values\n",
    ")\n",
    "valid_x, valid_y = torch.from_numpy(valid_x).float(), torch.from_numpy(\n",
    "    valid_df.iloc[:, -1].values\n",
    ")"
   ]
  },
  {
   "cell_type": "code",
   "execution_count": 371,
   "id": "a69d9dfe-246e-4087-99ef-864480d3bc67",
   "metadata": {},
   "outputs": [],
   "source": [
    "train_x, train_y = torch.from_numpy(train_df.iloc[:,:-1].values).float(), torch.from_numpy(\n",
    "    train_df.iloc[:, -1].values\n",
    ")\n",
    "valid_x, valid_y = torch.from_numpy(valid_df.iloc[:,:-1].values).float(), torch.from_numpy(\n",
    "    valid_df.iloc[:, -1].values\n",
    ")"
   ]
  },
  {
   "cell_type": "code",
   "execution_count": 372,
   "id": "d42746c4-3c49-4681-b1ba-f314eebed055",
   "metadata": {},
   "outputs": [
    {
     "data": {
      "text/plain": [
       "torch.Size([908250, 20])"
      ]
     },
     "execution_count": 372,
     "metadata": {},
     "output_type": "execute_result"
    }
   ],
   "source": [
    "train_x.shape"
   ]
  },
  {
   "cell_type": "code",
   "execution_count": 373,
   "id": "2a26f78d-db23-4554-beb5-5462b277b27d",
   "metadata": {},
   "outputs": [
    {
     "data": {
      "text/plain": [
       "torch.Size([908250])"
      ]
     },
     "execution_count": 373,
     "metadata": {},
     "output_type": "execute_result"
    }
   ],
   "source": [
    "train_y.shape"
   ]
  },
  {
   "cell_type": "code",
   "execution_count": 374,
   "id": "4f3d2df9-98ae-4b41-9091-fe4a39dc4621",
   "metadata": {},
   "outputs": [],
   "source": [
    "train_dset = list(zip(train_x, train_y))\n",
    "valid_dset = list(zip(valid_x, valid_y))"
   ]
  },
  {
   "cell_type": "code",
   "execution_count": 375,
   "id": "042fbfcf-26dc-43f7-8f25-c39ae3527ce1",
   "metadata": {},
   "outputs": [
    {
     "data": {
      "text/plain": [
       "(torch.Size([20]), tensor(0))"
      ]
     },
     "execution_count": 375,
     "metadata": {},
     "output_type": "execute_result"
    }
   ],
   "source": [
    "x, y = train_dset[0]\n",
    "x.shape, y"
   ]
  },
  {
   "cell_type": "code",
   "execution_count": 376,
   "id": "d3f2f32f-23bb-4770-8384-46eb727fc78d",
   "metadata": {},
   "outputs": [],
   "source": [
    "def init_params(size, std=1.0):\n",
    "    return (torch.randn(size) * std).requires_grad_()\n",
    "\n",
    "\n",
    "weights = init_params((20, 1))"
   ]
  },
  {
   "cell_type": "code",
   "execution_count": 377,
   "id": "0abe9243-b573-4a82-a8d5-2a7fd04483da",
   "metadata": {},
   "outputs": [],
   "source": [
    "bias = init_params(1)"
   ]
  },
  {
   "cell_type": "code",
   "execution_count": 378,
   "id": "3112a808-28c4-4b93-b3bd-c3249c7adaa6",
   "metadata": {},
   "outputs": [
    {
     "data": {
      "text/plain": [
       "tensor([-666.3676], grad_fn=<AddBackward0>)"
      ]
     },
     "execution_count": 378,
     "metadata": {},
     "output_type": "execute_result"
    }
   ],
   "source": [
    "(train_x[0] * weights.T).sum() + bias"
   ]
  },
  {
   "cell_type": "code",
   "execution_count": 379,
   "id": "de2be529-0604-4e8d-a019-7e2659de0ef7",
   "metadata": {},
   "outputs": [
    {
     "data": {
      "text/plain": [
       "tensor([[-666.3676],\n",
       "        [-541.1531],\n",
       "        [-579.3569],\n",
       "        [-577.7356],\n",
       "        [-538.3561],\n",
       "        [-584.6491],\n",
       "        [-520.9910],\n",
       "        [-462.0930],\n",
       "        [-526.1752],\n",
       "        [-540.0436]], grad_fn=<SliceBackward0>)"
      ]
     },
     "execution_count": 379,
     "metadata": {},
     "output_type": "execute_result"
    }
   ],
   "source": [
    "def linear1(xb):\n",
    "    return xb @ weights + bias\n",
    "\n",
    "\n",
    "preds = linear1(train_x)\n",
    "preds[:10]"
   ]
  },
  {
   "cell_type": "markdown",
   "id": "38bffd6b-eb0f-4301-bda0-6ae7381771f1",
   "metadata": {},
   "source": [
    "### GD and mini-batches"
   ]
  },
  {
   "cell_type": "code",
   "execution_count": 380,
   "id": "68787149-b157-455d-abe6-fe51f304c967",
   "metadata": {},
   "outputs": [
    {
     "data": {
      "text/plain": [
       "[tensor([10,  5,  0,  8,  4]),\n",
       " tensor([12,  2,  3,  1, 13]),\n",
       " tensor([11,  9, 14,  6,  7])]"
      ]
     },
     "execution_count": 380,
     "metadata": {},
     "output_type": "execute_result"
    }
   ],
   "source": [
    "coll = range(15)\n",
    "dl = DataLoader(coll, batch_size=5, shuffle=True)\n",
    "list(dl)"
   ]
  },
  {
   "cell_type": "code",
   "execution_count": 381,
   "id": "7cdd3fc8-243d-4aab-b4da-13d94046003b",
   "metadata": {},
   "outputs": [],
   "source": [
    "weights = init_params((20, 1))\n",
    "bias = init_params(1)"
   ]
  },
  {
   "cell_type": "code",
   "execution_count": 382,
   "id": "604a4bde-cf24-4a96-af0f-152b902ffd1c",
   "metadata": {},
   "outputs": [
    {
     "data": {
      "text/plain": [
       "(torch.Size([1024, 20]), torch.Size([1024]))"
      ]
     },
     "execution_count": 382,
     "metadata": {},
     "output_type": "execute_result"
    }
   ],
   "source": [
    "train_dl = DataLoader(train_dset, batch_size=1024, shuffle=True)\n",
    "(\n",
    "    xb,\n",
    "    yb,\n",
    ") = first(train_dl)\n",
    "xb.shape, yb.shape"
   ]
  },
  {
   "cell_type": "code",
   "execution_count": 383,
   "id": "bc3856f8-7c10-4cc1-a152-ac6c96d5a762",
   "metadata": {},
   "outputs": [],
   "source": [
    "valid_dl = DataLoader(valid_dset, batch_size=1024)"
   ]
  },
  {
   "cell_type": "code",
   "execution_count": 384,
   "id": "06cd6471-369a-4f85-bc28-eb8958de2793",
   "metadata": {},
   "outputs": [
    {
     "data": {
      "text/plain": [
       "torch.Size([4, 20])"
      ]
     },
     "execution_count": 384,
     "metadata": {},
     "output_type": "execute_result"
    }
   ],
   "source": [
    "batch = train_x[:4]\n",
    "batch.shape"
   ]
  },
  {
   "cell_type": "code",
   "execution_count": 385,
   "id": "16c78a49-3c7d-44c7-86aa-e59eaa6227b8",
   "metadata": {},
   "outputs": [],
   "source": [
    "preds = linear1(batch)"
   ]
  },
  {
   "cell_type": "code",
   "execution_count": 386,
   "id": "0f853a1c-92bd-4bbf-bbad-e7e0019f7230",
   "metadata": {},
   "outputs": [
    {
     "data": {
      "text/plain": [
       "tensor([0, 1, 0, 1])"
      ]
     },
     "execution_count": 386,
     "metadata": {},
     "output_type": "execute_result"
    }
   ],
   "source": [
    "train_y[:4]"
   ]
  },
  {
   "cell_type": "code",
   "execution_count": 387,
   "id": "4c94a9da-c981-4cf5-8f9f-155906aa7956",
   "metadata": {},
   "outputs": [
    {
     "data": {
      "text/plain": [
       "tensor(inf, grad_fn=<NegBackward0>)"
      ]
     },
     "execution_count": 387,
     "metadata": {},
     "output_type": "execute_result"
    }
   ],
   "source": [
    "loss = binary_cross_entropy(preds, train_y[:4])\n",
    "loss"
   ]
  },
  {
   "cell_type": "code",
   "execution_count": 388,
   "id": "bbb29364-a5bf-4d67-a9d1-e03573da4312",
   "metadata": {},
   "outputs": [
    {
     "data": {
      "text/plain": [
       "(torch.Size([20, 1]), tensor(nan), tensor([nan]))"
      ]
     },
     "execution_count": 388,
     "metadata": {},
     "output_type": "execute_result"
    }
   ],
   "source": [
    "loss.backward()\n",
    "weights.grad.shape, weights.grad.mean(), bias.grad"
   ]
  },
  {
   "cell_type": "code",
   "execution_count": 389,
   "id": "37b82964-6ffa-47a3-9482-6a1926134d34",
   "metadata": {},
   "outputs": [],
   "source": [
    "def calc_grad(xb, yb, model):\n",
    "    preds = model(xb)\n",
    "    loss = binary_cross_entropy(preds, yb)\n",
    "    loss.backward()"
   ]
  },
  {
   "cell_type": "code",
   "execution_count": 390,
   "id": "e87522bb-1850-4f9a-b3cf-9ea95594a0d9",
   "metadata": {},
   "outputs": [],
   "source": [
    "calc_grad(batch, train_y[:4], linear1)"
   ]
  },
  {
   "cell_type": "code",
   "execution_count": 391,
   "id": "02b7db57-26ff-4290-834c-06e316133767",
   "metadata": {},
   "outputs": [
    {
     "data": {
      "text/plain": [
       "(tensor(nan), tensor([nan]))"
      ]
     },
     "execution_count": 391,
     "metadata": {},
     "output_type": "execute_result"
    }
   ],
   "source": [
    "weights.grad.mean(), bias.grad"
   ]
  },
  {
   "cell_type": "code",
   "execution_count": 392,
   "id": "9e879c84-6e93-4ec2-a0d9-5e774dfeadde",
   "metadata": {},
   "outputs": [],
   "source": [
    "simple_net = nn.Sequential(\n",
    "    nn.Linear(20, 200),\n",
    "    nn.ReLU(),\n",
    "    nn.Linear(200, 200),\n",
    "    nn.ReLU(),\n",
    "    nn.Linear(200, 50),\n",
    "    nn.ReLU(),\n",
    "    nn.Linear(50, 50),\n",
    "    nn.ReLU(),\n",
    "    nn.Linear(50, 2),\n",
    ")"
   ]
  },
  {
   "cell_type": "code",
   "execution_count": 393,
   "id": "1b261941-cf55-4611-9bc5-d3f08769905a",
   "metadata": {},
   "outputs": [],
   "source": [
    "dls = DataLoaders(train_dl, valid_dl)"
   ]
  },
  {
   "cell_type": "code",
   "execution_count": 394,
   "id": "2bdfc9f2-8b19-4f07-bef9-f24d1e90a61e",
   "metadata": {},
   "outputs": [],
   "source": [
    "batch = first(dls.train)"
   ]
  },
  {
   "cell_type": "code",
   "execution_count": 395,
   "id": "3074b930-9672-47d3-aa47-2e2f18c6c5f0",
   "metadata": {},
   "outputs": [
    {
     "data": {
      "text/plain": [
       "tensor([[ 0.8083, -3.0183],\n",
       "        [ 0.4695, -3.3335],\n",
       "        [ 0.4803, -3.5679],\n",
       "        ...,\n",
       "        [ 0.4428, -3.1990],\n",
       "        [ 0.5333, -3.1783],\n",
       "        [ 0.8053, -3.1044]], grad_fn=<AddmmBackward0>)"
      ]
     },
     "execution_count": 395,
     "metadata": {},
     "output_type": "execute_result"
    }
   ],
   "source": [
    "simple_net(batch[0])"
   ]
  },
  {
   "cell_type": "code",
   "execution_count": 396,
   "id": "a4ea43f6-e74e-4f32-a6df-dd27c940511a",
   "metadata": {},
   "outputs": [
    {
     "data": {
      "text/plain": [
       "(tensor([[5.2842e+02, 1.9778e+01, 1.7351e-01,  ..., 1.3846e-02, 6.0999e-04,\n",
       "          1.4087e-06],\n",
       "         [4.5030e+02, 3.1336e+01, 2.5348e-01,  ..., 0.0000e+00, 0.0000e+00,\n",
       "          0.0000e+00],\n",
       "         [5.2283e+02, 1.2416e+02, 4.0226e-01,  ..., 1.1785e-01, 2.2504e-02,\n",
       "          1.4995e-03],\n",
       "         ...,\n",
       "         [4.0644e+02, 1.2486e+02, 4.4976e-01,  ..., 1.1141e-01, 1.8902e-02,\n",
       "          9.9766e-04],\n",
       "         [5.6150e+02, 4.1299e+01, 2.5652e-01,  ..., 3.7876e-02, 5.5316e-03,\n",
       "          2.7687e-04],\n",
       "         [4.9614e+02, 8.8101e+01, 3.1262e-01,  ..., 3.2621e-02, 2.0467e-03,\n",
       "          1.3801e-05]]),\n",
       " tensor([0, 0, 1,  ..., 1, 0, 1]))"
      ]
     },
     "execution_count": 396,
     "metadata": {},
     "output_type": "execute_result"
    }
   ],
   "source": [
    "first(dls.valid)"
   ]
  },
  {
   "cell_type": "code",
   "execution_count": 397,
   "id": "22aecb17-f9dc-450a-9067-682d9e12ba69",
   "metadata": {},
   "outputs": [],
   "source": [
    "learn = Learner(\n",
    "    dls,\n",
    "    simple_net,\n",
    "    opt_func=SGD,\n",
    "    loss_func=nn.CrossEntropyLoss(),\n",
    "    metrics=[accuracy, RocAucBinary()],\n",
    ")"
   ]
  },
  {
   "cell_type": "code",
   "execution_count": 398,
   "id": "76010e73-ea95-41f8-b353-bd641e2cbc92",
   "metadata": {},
   "outputs": [
    {
     "data": {
      "text/html": [
       "\n",
       "<style>\n",
       "    /* Turns off some styling */\n",
       "    progress {\n",
       "        /* gets rid of default border in Firefox and Opera. */\n",
       "        border: none;\n",
       "        /* Needs to be in here for Safari polyfill so background images work as expected. */\n",
       "        background-size: auto;\n",
       "    }\n",
       "    .progress-bar-interrupted, .progress-bar-interrupted::-webkit-progress-bar {\n",
       "        background: #F44336;\n",
       "    }\n",
       "</style>\n"
      ],
      "text/plain": [
       "<IPython.core.display.HTML object>"
      ]
     },
     "metadata": {},
     "output_type": "display_data"
    },
    {
     "data": {
      "text/html": [],
      "text/plain": [
       "<IPython.core.display.HTML object>"
      ]
     },
     "metadata": {},
     "output_type": "display_data"
    },
    {
     "data": {
      "text/plain": [
       "Sequential (Input shape: 1024 x 20)\n",
       "============================================================================\n",
       "Layer (type)         Output Shape         Param #    Trainable \n",
       "============================================================================\n",
       "                     1024 x 200          \n",
       "Linear                                    4200       True      \n",
       "ReLU                                                           \n",
       "Linear                                    40200      True      \n",
       "ReLU                                                           \n",
       "____________________________________________________________________________\n",
       "                     1024 x 50           \n",
       "Linear                                    10050      True      \n",
       "ReLU                                                           \n",
       "Linear                                    2550       True      \n",
       "ReLU                                                           \n",
       "____________________________________________________________________________\n",
       "                     1024 x 2            \n",
       "Linear                                    102        True      \n",
       "____________________________________________________________________________\n",
       "\n",
       "Total params: 57,102\n",
       "Total trainable params: 57,102\n",
       "Total non-trainable params: 0\n",
       "\n",
       "Optimizer used: <function SGD at 0x7fa8ad5d1ca0>\n",
       "Loss function: CrossEntropyLoss()\n",
       "\n",
       "Callbacks:\n",
       "  - TrainEvalCallback\n",
       "  - Recorder\n",
       "  - ProgressCallback"
      ]
     },
     "execution_count": 398,
     "metadata": {},
     "output_type": "execute_result"
    }
   ],
   "source": [
    "learn.summary()"
   ]
  },
  {
   "cell_type": "code",
   "execution_count": 399,
   "id": "8d7c5015-8419-4869-9873-a541b071fff3",
   "metadata": {},
   "outputs": [
    {
     "data": {
      "text/html": [
       "\n",
       "<style>\n",
       "    /* Turns off some styling */\n",
       "    progress {\n",
       "        /* gets rid of default border in Firefox and Opera. */\n",
       "        border: none;\n",
       "        /* Needs to be in here for Safari polyfill so background images work as expected. */\n",
       "        background-size: auto;\n",
       "    }\n",
       "    .progress-bar-interrupted, .progress-bar-interrupted::-webkit-progress-bar {\n",
       "        background: #F44336;\n",
       "    }\n",
       "</style>\n"
      ],
      "text/plain": [
       "<IPython.core.display.HTML object>"
      ]
     },
     "metadata": {},
     "output_type": "display_data"
    },
    {
     "data": {
      "text/html": [],
      "text/plain": [
       "<IPython.core.display.HTML object>"
      ]
     },
     "metadata": {},
     "output_type": "display_data"
    },
    {
     "data": {
      "text/plain": [
       "SuggestedLRs(valley=0.0002754228771664202)"
      ]
     },
     "execution_count": 399,
     "metadata": {},
     "output_type": "execute_result"
    },
    {
     "data": {
      "image/png": "[encoded data removed]",
      "text/plain": [
       "<Figure size 432x288 with 1 Axes>"
      ]
     },
     "metadata": {
      "needs_background": "light"
     },
     "output_type": "display_data"
    }
   ],
   "source": [
    "learn.lr_find()"
   ]
  },
  {
   "cell_type": "code",
   "execution_count": 400,
   "id": "747d665b-1c79-44d4-a952-0ff1f5e31785",
   "metadata": {},
   "outputs": [
    {
     "data": {
      "text/html": [
       "\n",
       "<style>\n",
       "    /* Turns off some styling */\n",
       "    progress {\n",
       "        /* gets rid of default border in Firefox and Opera. */\n",
       "        border: none;\n",
       "        /* Needs to be in here for Safari polyfill so background images work as expected. */\n",
       "        background-size: auto;\n",
       "    }\n",
       "    .progress-bar-interrupted, .progress-bar-interrupted::-webkit-progress-bar {\n",
       "        background: #F44336;\n",
       "    }\n",
       "</style>\n"
      ],
      "text/plain": [
       "<IPython.core.display.HTML object>"
      ]
     },
     "metadata": {},
     "output_type": "display_data"
    },
    {
     "data": {
      "text/html": [
       "<table border=\"1\" class=\"dataframe\">\n",
       "  <thead>\n",
       "    <tr style=\"text-align: left;\">\n",
       "      <th>epoch</th>\n",
       "      <th>train_loss</th>\n",
       "      <th>valid_loss</th>\n",
       "      <th>accuracy</th>\n",
       "      <th>roc_auc_score</th>\n",
       "      <th>time</th>\n",
       "    </tr>\n",
       "  </thead>\n",
       "  <tbody>\n",
       "    <tr>\n",
       "      <td>0</td>\n",
       "      <td>0.314220</td>\n",
       "      <td>0.313295</td>\n",
       "      <td>0.880254</td>\n",
       "      <td>0.909836</td>\n",
       "      <td>00:05</td>\n",
       "    </tr>\n",
       "    <tr>\n",
       "      <td>1</td>\n",
       "      <td>0.304527</td>\n",
       "      <td>0.306532</td>\n",
       "      <td>0.880096</td>\n",
       "      <td>0.920431</td>\n",
       "      <td>00:05</td>\n",
       "    </tr>\n",
       "    <tr>\n",
       "      <td>2</td>\n",
       "      <td>0.306645</td>\n",
       "      <td>0.305693</td>\n",
       "      <td>0.880221</td>\n",
       "      <td>0.922144</td>\n",
       "      <td>00:05</td>\n",
       "    </tr>\n",
       "  </tbody>\n",
       "</table>"
      ],
      "text/plain": [
       "<IPython.core.display.HTML object>"
      ]
     },
     "metadata": {},
     "output_type": "display_data"
    }
   ],
   "source": [
    "learn.fit_one_cycle(3, 1e-3)"
   ]
  },
  {
   "cell_type": "code",
   "execution_count": null,
   "id": "60bf402f-9093-4b30-a02b-69db2d890752",
   "metadata": {},
   "outputs": [],
   "source": []
  }
 ],
 "metadata": {
  "kernelspec": {
   "display_name": "Python 3 (ipykernel)",
   "language": "python",
   "name": "python3"
  },
  "language_info": {
   "codemirror_mode": {
    "name": "ipython",
    "version": 3
   },
   "file_extension": ".py",
   "mimetype": "text/x-python",
   "name": "python",
   "nbconvert_exporter": "python",
   "pygments_lexer": "ipython3",
   "version": "3.9.11"
  }
 },
 "nbformat": 4,
 "nbformat_minor": 5
}
