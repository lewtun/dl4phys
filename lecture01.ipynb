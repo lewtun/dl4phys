{
 "cells": [
  {
   "cell_type": "markdown",
   "id": "9e046cf7-e28b-4384-989c-ea8400b58982",
   "metadata": {},
   "source": [
    "# Lesson 1 - Jet tagging with neural networks"
   ]
  },
  {
   "cell_type": "markdown",
   "id": "7570366e-3bb2-4741-b300-1f93213b3262",
   "metadata": {},
   "source": [
    "> A first look at training deep neural networks to tag jets in proton-proton collisions."
   ]
  },
  {
   "cell_type": "markdown",
   "id": "603d61ac-7bed-4ee3-b966-acf6a89bae70",
   "metadata": {},
   "source": [
    "## TODO\n",
    "\n",
    "* Move `top_quark_tagging` to `dl4phys` org"
   ]
  },
  {
   "cell_type": "markdown",
   "id": "aef867e4-7f1e-4550-9d06-85cc91a5fffd",
   "metadata": {},
   "source": [
    "## Learning objectives\n",
    "\n",
    "* Understand what jet tagging is and how to frame it as a machine learning task\n",
    "* Understand the main steps needed to train and evaluate a jet tagger\n",
    "* Gain an introduction to the fastai library"
   ]
  },
  {
   "cell_type": "markdown",
   "id": "32450a59-30d3-4648-92e8-ae41459e5119",
   "metadata": {},
   "source": [
    "## References\n",
    "\n",
    "* Chapter 1 of [_Deep Learning for Coders with fastai & PyTorch_](https://github.com/fastai/fastbook) by Jeremy Howard and Sylvain Gugger.\n",
    "* [_The Machine Learning Landscape of Top Taggers_](https://arxiv.org/abs/1902.09914) by G. Kasieczka et al.\n",
    "* [_How Much Information is in a Jet?_](https://arxiv.org/abs/1704.08249) by K. Datta and A. Larkowski"
   ]
  },
  {
   "cell_type": "markdown",
   "id": "13d80ea2-6645-4b6c-90d2-5b661a262088",
   "metadata": {},
   "source": [
    "## The data"
   ]
  },
  {
   "cell_type": "markdown",
   "id": "312b2adf-e12f-4d19-8012-e00240254e8a",
   "metadata": {},
   "source": [
    "For the first few lessons, we'll be analysing the [_Top Quark Tagging_ dataset](https://zenodo.org/record/2603256), which is a famous benchmark that's used to compare the performance of jet classification algorithms. The dataset is described as follows:\n",
    "\n",
    "* 14 TeV, hadronic tops for signal, qcd diets background, Delphes ATLAS detector card with Pythia8\n",
    "* No MPI/pile-up included\n",
    "* Clustering of  particle-flow entries (produced by Delphes E-flow) into anti-kT 0.8 jets in the pT range [550,650] GeV\n",
    "* All top jets are matched to a parton-level top within ∆R = 0.8, and to all top decay partons within 0.8\n",
    "* Jets are required to have |eta| < 2\n",
    "* The leading 200 jet constituent four-momenta are stored, with zero-padding for jets with fewer than 200\n",
    "* Constituents are sorted by pT, with the highest pT one first\n",
    "* A flag (1 for top, 0 for QCD) is kept for each jet. It is called is_signal_new\n",
    "\n",
    "Framed as a supervised machine learning task, the goal is to train a model that can classify each jet as either a top quark signal or quark-gluon background."
   ]
  },
  {
   "cell_type": "markdown",
   "id": "c8db4ada-8e8c-4c24-9b14-59db681a408c",
   "metadata": {},
   "source": [
    "## Import libraries"
   ]
  },
  {
   "cell_type": "code",
   "execution_count": 1,
   "id": "872d0a1a-7a3b-4500-a8cf-f5a36216af97",
   "metadata": {},
   "outputs": [],
   "source": [
    "import torch.nn.functional as F\n",
    "from datasets import load_dataset\n",
    "from fastai.tabular.all import *\n",
    "from scipy.interpolate import interp1d\n",
    "from sklearn.metrics import accuracy_score, auc, roc_auc_score, roc_curve\n",
    "from sklearn.model_selection import train_test_split"
   ]
  },
  {
   "cell_type": "code",
   "execution_count": 2,
   "id": "54801fba-818e-488a-bc03-321519c5ef0e",
   "metadata": {
    "tags": [
     "hide-cell"
    ]
   },
   "outputs": [],
   "source": [
    "import datasets\n",
    "\n",
    "# Suppress logs\n",
    "datasets.logging.set_verbosity_error()"
   ]
  },
  {
   "cell_type": "markdown",
   "id": "61eea3a0-aa61-4296-b1c1-96271e768c34",
   "metadata": {},
   "source": [
    "## Getting the data"
   ]
  },
  {
   "cell_type": "markdown",
   "id": "e81bfbfb-16cb-46b8-97ef-53ee7ed890c6",
   "metadata": {},
   "source": [
    "We will use the [🤗 Datasets](https://github.com/huggingface/datasets) library to download and process the datasets that we'll encounter in this course. 🤗 Datasets provides smart caching and allows you to process larger-than-RAM datasets by exploiting a technique called _memory-mapping_ that provides a mapping between RAM and filesystem storage.\n",
    "\n",
    "To download the Top Quark Tagging dataset from the Hugging Face Hub, we can use the `load_dataset()` function:"
   ]
  },
  {
   "cell_type": "code",
   "execution_count": 3,
   "id": "f0848f0c-5f7b-403f-ba8e-4b7cac30ffdd",
   "metadata": {
    "tags": [
     "hide-output"
    ]
   },
   "outputs": [],
   "source": [
    "dataset_id = \"lewtun/top_quark_tagging\"\n",
    "top_quark_ds = load_dataset(dataset_id, name=\"raw\", split=\"train\", streaming=True)"
   ]
  },
  {
   "cell_type": "markdown",
   "id": "4f97efc7-5e48-4065-8d65-35dc8093f25d",
   "metadata": {},
   "source": [
    "To get a quick feel for what type of data we're dealing with, we've selected just the training split associated with the `raw` subset (which contains all the raw events). Since this dataset is rather large with 1.2 million events, we've also enabled _dataset streaming_ so we can grab a sample of events without having to load the whole dataset into RAM. The `take()` method returns the first $n$ examples in the datasets, so let's grab 5 events and load them in a pandas `DataFrame`:"
   ]
  },
  {
   "cell_type": "code",
   "execution_count": 4,
   "id": "19f17074-c1e6-459f-a212-6f1ba16cab6d",
   "metadata": {
    "tags": [
     "hide-output"
    ]
   },
   "outputs": [
    {
     "data": {
      "text/html": [
       "<div>\n",
       "<style scoped>\n",
       "    .dataframe tbody tr th:only-of-type {\n",
       "        vertical-align: middle;\n",
       "    }\n",
       "\n",
       "    .dataframe tbody tr th {\n",
       "        vertical-align: top;\n",
       "    }\n",
       "\n",
       "    .dataframe thead th {\n",
       "        text-align: right;\n",
       "    }\n",
       "</style>\n",
       "<table border=\"1\" class=\"dataframe\">\n",
       "  <thead>\n",
       "    <tr style=\"text-align: right;\">\n",
       "      <th></th>\n",
       "      <th>E_0</th>\n",
       "      <th>PX_0</th>\n",
       "      <th>PY_0</th>\n",
       "      <th>PZ_0</th>\n",
       "      <th>E_1</th>\n",
       "      <th>PX_1</th>\n",
       "      <th>PY_1</th>\n",
       "      <th>PZ_1</th>\n",
       "      <th>E_2</th>\n",
       "      <th>PX_2</th>\n",
       "      <th>...</th>\n",
       "      <th>E_199</th>\n",
       "      <th>PX_199</th>\n",
       "      <th>PY_199</th>\n",
       "      <th>PZ_199</th>\n",
       "      <th>truthE</th>\n",
       "      <th>truthPX</th>\n",
       "      <th>truthPY</th>\n",
       "      <th>truthPZ</th>\n",
       "      <th>ttv</th>\n",
       "      <th>is_signal_new</th>\n",
       "    </tr>\n",
       "  </thead>\n",
       "  <tbody>\n",
       "    <tr>\n",
       "      <th>0</th>\n",
       "      <td>474.071136</td>\n",
       "      <td>-250.347031</td>\n",
       "      <td>-223.651962</td>\n",
       "      <td>-334.738098</td>\n",
       "      <td>103.236237</td>\n",
       "      <td>-48.866222</td>\n",
       "      <td>-56.790775</td>\n",
       "      <td>-71.025490</td>\n",
       "      <td>105.255569</td>\n",
       "      <td>-55.415001</td>\n",
       "      <td>...</td>\n",
       "      <td>0.0</td>\n",
       "      <td>0.0</td>\n",
       "      <td>0.0</td>\n",
       "      <td>0.0</td>\n",
       "      <td>0.0</td>\n",
       "      <td>0.0</td>\n",
       "      <td>0.0</td>\n",
       "      <td>0.0</td>\n",
       "      <td>0</td>\n",
       "      <td>0</td>\n",
       "    </tr>\n",
       "    <tr>\n",
       "      <th>1</th>\n",
       "      <td>150.504532</td>\n",
       "      <td>120.062393</td>\n",
       "      <td>76.852005</td>\n",
       "      <td>-48.274265</td>\n",
       "      <td>82.257057</td>\n",
       "      <td>63.801739</td>\n",
       "      <td>42.754807</td>\n",
       "      <td>-29.454842</td>\n",
       "      <td>48.573559</td>\n",
       "      <td>36.763199</td>\n",
       "      <td>...</td>\n",
       "      <td>0.0</td>\n",
       "      <td>0.0</td>\n",
       "      <td>0.0</td>\n",
       "      <td>0.0</td>\n",
       "      <td>0.0</td>\n",
       "      <td>0.0</td>\n",
       "      <td>0.0</td>\n",
       "      <td>0.0</td>\n",
       "      <td>0</td>\n",
       "      <td>0</td>\n",
       "    </tr>\n",
       "    <tr>\n",
       "      <th>2</th>\n",
       "      <td>251.645386</td>\n",
       "      <td>10.427651</td>\n",
       "      <td>-147.573746</td>\n",
       "      <td>203.564880</td>\n",
       "      <td>104.147797</td>\n",
       "      <td>10.718256</td>\n",
       "      <td>-54.497948</td>\n",
       "      <td>88.101395</td>\n",
       "      <td>78.043213</td>\n",
       "      <td>5.724113</td>\n",
       "      <td>...</td>\n",
       "      <td>0.0</td>\n",
       "      <td>0.0</td>\n",
       "      <td>0.0</td>\n",
       "      <td>0.0</td>\n",
       "      <td>0.0</td>\n",
       "      <td>0.0</td>\n",
       "      <td>0.0</td>\n",
       "      <td>0.0</td>\n",
       "      <td>0</td>\n",
       "      <td>0</td>\n",
       "    </tr>\n",
       "    <tr>\n",
       "      <th>3</th>\n",
       "      <td>451.566132</td>\n",
       "      <td>129.885437</td>\n",
       "      <td>-99.066292</td>\n",
       "      <td>-420.984100</td>\n",
       "      <td>208.410919</td>\n",
       "      <td>59.033958</td>\n",
       "      <td>-46.177090</td>\n",
       "      <td>-194.467941</td>\n",
       "      <td>190.183304</td>\n",
       "      <td>54.069675</td>\n",
       "      <td>...</td>\n",
       "      <td>0.0</td>\n",
       "      <td>0.0</td>\n",
       "      <td>0.0</td>\n",
       "      <td>0.0</td>\n",
       "      <td>0.0</td>\n",
       "      <td>0.0</td>\n",
       "      <td>0.0</td>\n",
       "      <td>0.0</td>\n",
       "      <td>0</td>\n",
       "      <td>0</td>\n",
       "    </tr>\n",
       "    <tr>\n",
       "      <th>4</th>\n",
       "      <td>399.093903</td>\n",
       "      <td>-168.432083</td>\n",
       "      <td>-47.205597</td>\n",
       "      <td>-358.717438</td>\n",
       "      <td>273.691956</td>\n",
       "      <td>-121.926941</td>\n",
       "      <td>-30.803854</td>\n",
       "      <td>-243.088928</td>\n",
       "      <td>152.837219</td>\n",
       "      <td>-44.400204</td>\n",
       "      <td>...</td>\n",
       "      <td>0.0</td>\n",
       "      <td>0.0</td>\n",
       "      <td>0.0</td>\n",
       "      <td>0.0</td>\n",
       "      <td>0.0</td>\n",
       "      <td>0.0</td>\n",
       "      <td>0.0</td>\n",
       "      <td>0.0</td>\n",
       "      <td>0</td>\n",
       "      <td>0</td>\n",
       "    </tr>\n",
       "  </tbody>\n",
       "</table>\n",
       "<p>5 rows × 806 columns</p>\n",
       "</div>"
      ],
      "text/plain": [
       "          E_0        PX_0        PY_0        PZ_0         E_1        PX_1  \\\n",
       "0  474.071136 -250.347031 -223.651962 -334.738098  103.236237  -48.866222   \n",
       "1  150.504532  120.062393   76.852005  -48.274265   82.257057   63.801739   \n",
       "2  251.645386   10.427651 -147.573746  203.564880  104.147797   10.718256   \n",
       "3  451.566132  129.885437  -99.066292 -420.984100  208.410919   59.033958   \n",
       "4  399.093903 -168.432083  -47.205597 -358.717438  273.691956 -121.926941   \n",
       "\n",
       "        PY_1        PZ_1         E_2       PX_2  ...  E_199  PX_199  PY_199  \\\n",
       "0 -56.790775  -71.025490  105.255569 -55.415001  ...    0.0     0.0     0.0   \n",
       "1  42.754807  -29.454842   48.573559  36.763199  ...    0.0     0.0     0.0   \n",
       "2 -54.497948   88.101395   78.043213   5.724113  ...    0.0     0.0     0.0   \n",
       "3 -46.177090 -194.467941  190.183304  54.069675  ...    0.0     0.0     0.0   \n",
       "4 -30.803854 -243.088928  152.837219 -44.400204  ...    0.0     0.0     0.0   \n",
       "\n",
       "   PZ_199  truthE  truthPX  truthPY  truthPZ  ttv  is_signal_new  \n",
       "0     0.0     0.0      0.0      0.0      0.0    0              0  \n",
       "1     0.0     0.0      0.0      0.0      0.0    0              0  \n",
       "2     0.0     0.0      0.0      0.0      0.0    0              0  \n",
       "3     0.0     0.0      0.0      0.0      0.0    0              0  \n",
       "4     0.0     0.0      0.0      0.0      0.0    0              0  \n",
       "\n",
       "[5 rows x 806 columns]"
      ]
     },
     "execution_count": 4,
     "metadata": {},
     "output_type": "execute_result"
    }
   ],
   "source": [
    "sample = list(top_quark_ds.take(5))\n",
    "pd.DataFrame(sample)"
   ]
  },
  {
   "cell_type": "markdown",
   "id": "3ed98137-8c5d-47da-9868-4a2d7a2cb1a1",
   "metadata": {},
   "source": [
    "As we can see, each row consists of 4-vectors $(E_i, p_{x_i}, p_{y_i}, p_{z_i})$ that correspond to the maximum 200 particles that make up each jet. We can also see that each jet has been padded with zeros, since most won't have 200 particles. We also have an `is_signal_new` column that indicates whether the jet is a top quark signal (1) or QCD background (0).\n",
    "\n",
    "Now that we've had a look at a sample of the raw data, let's take a look at how we can convert it to a format that is suitable for neural networks!"
   ]
  },
  {
   "cell_type": "markdown",
   "id": "ca6fd041-3bd5-497a-a095-b78624766a40",
   "metadata": {},
   "source": [
    "## Jet representations"
   ]
  },
  {
   "cell_type": "markdown",
   "id": "fec0fa8c-d73b-41eb-b252-b955d21e3d8b",
   "metadata": {},
   "source": [
    "In any machine learning problem, the first step is to decide how to represent the data. For jet tagging, the most common approaches one finds in the literature include:\n",
    "\n",
    "* **Jets as images.** A jet image is a pixelated grayscale image, where the pixel intensity represents the energy (or transverse momentum) of all particles that deposited energy in a particular location in the $\\eta-\\phi$ plane. Typically, _convolutional neural networks (CNNs)_ (which we'll encounter later in the course) are used to process the images.\n",
    "* **Jets as sequences.** Here the idea is to order the particles in a jet (usually by $p_T$) and use sequence-based architectures like _recurrent neural networks (RNNs)._\n",
    "* **Jets as graphs.** This approach treats each jet as a generic graph of nodes and edges. Graph neural networks (which we'll also encounter later in the course) excel on this tpe of data.\n",
    "* **Jets as sets.** A generalisation of the previous representations, this approach simply treats each jets as an unordered collection or point cloud of 4-vectors.\n",
    "* **Theory-inspired representations.** Instead of representing the jets in formats to match specific neural network architectures, these approaches use results on IR safety from QCD to represent the jets as a simplified set of features. Fully-connected neural networks are then trained on these features.\n",
    "\n",
    "You can find more details about each representation in a nice [review article](https://arxiv.org/abs/1709.04464) from 2017. In this lesson and the next, we'll use one of the theory-inspired representations called $N$-subjettiness. Let's take a look."
   ]
  },
  {
   "cell_type": "markdown",
   "id": "6d70b6cf-c13d-48a1-a737-dbf75a873cc4",
   "metadata": {},
   "source": [
    "### Representing jets with $N$-subjettiness observables"
   ]
  },
  {
   "cell_type": "markdown",
   "id": "471be338-08e1-4ee6-84a5-44055613aac1",
   "metadata": {},
   "source": [
    "$N$-subjettiness observables quantify how much of the radiation in a jet is aligned along different subjet axes. Although originally used for analytic approaches to distinguish different decays and event topologies, these observable can also be used as inputs for machine learning models and provide strong discriminating power. \n",
    "\n",
    "To be precise, an $N$-subjettiness observable $\\tau_N^{(\\beta)}$ measures the radiation about $N$ axes in the jet according to an angular exponent $\\beta>0$:\n",
    "\n",
    "$$ \\tau_N^{(\\beta)} = \\frac{1}{p_{T,J}} \\sum_{i\\in J} p_{T,i} \\min \\left\\{ R_{1,i}^\\beta, R_{1,i}^\\beta, \\ldots , R_{1,i}^\\beta \\right\\} $$\n",
    "\n",
    "Here $p_{T,J}$ is the transverse momentum of the jet, $p_{T,i}$ is the transverse momentum of particle $i$ in the jet, and $R_{K,i}$ is the distance in the $\\eta-\\phi$ plane of particle $i$ to axis $K$.\n",
    "\n",
    "To measure substructure in a jet, one thus needs to measure a suitable number of $N$-subjettiness observables. In practice this is done by specifying the corrdinates of $M$-body phase space in terms of $3m - 4$ $N$-subjettiness observables:\n",
    "\n",
    "$$ \\left\\{ \\tau_1^{(0.5)}, \\tau_1^{(1)}, \\tau_1^{(2)}, \\tau_2^{(0.5)}, \\tau_2^{(1)}, \\tau_2^{(2)}, \\ldots , \\tau_{m-1}^{(0.5)}, \\tau_{m-1}^{(1)}, \\tau_{m-1}^{(2)} \\right\\} $$\n",
    "\n",
    "To see how we can use this basis as features for a neural network, we have computed $N$-subjettiness observables up through 4-body phase space using the [Fastjet library](https://github.com/scikit-hep/fastjet). You can download these features by passing the `nsubjetiness` subset to the `load_dataset()` function:"
   ]
  },
  {
   "cell_type": "code",
   "execution_count": 6,
   "id": "9f0a5389-e6f5-4e89-a2b6-e6d2b143ccf3",
   "metadata": {},
   "outputs": [
    {
     "data": {
      "application/vnd.jupyter.widget-view+json": {
       "model_id": "d84d294b5b114db483aa1a23464e34a5",
       "version_major": 2,
       "version_minor": 0
      },
      "text/plain": [
       "  0%|          | 0/3 [00:00<?, ?it/s]"
      ]
     },
     "metadata": {},
     "output_type": "display_data"
    }
   ],
   "source": [
    "nsubjet_ds = load_dataset(dataset_id, name=\"nsubjettiness\")"
   ]
  },
  {
   "cell_type": "markdown",
   "id": "cded6667-4ec5-4ff2-a6a2-2773dc2e4201",
   "metadata": {},
   "source": [
    "If we look inside our `nsubjet_ds` object"
   ]
  },
  {
   "cell_type": "code",
   "execution_count": 7,
   "id": "76c759e0-5f64-4b86-9dc6-bf0af2a6fd8a",
   "metadata": {},
   "outputs": [
    {
     "data": {
      "text/plain": [
       "DatasetDict({\n",
       "    train: Dataset({\n",
       "        features: ['tau_1_0.5', 'tau_1_1', 'tau_1_2', 'tau_2_0.5', 'tau_2_1', 'tau_2_2', 'tau_3_0.5', 'tau_3_1', 'tau_3_2', 'tau_4_0.5', 'tau_4_1', 'tau_4_2', 'is_signal_new'],\n",
       "        num_rows: 1211000\n",
       "    })\n",
       "    validation: Dataset({\n",
       "        features: ['tau_1_0.5', 'tau_1_1', 'tau_1_2', 'tau_2_0.5', 'tau_2_1', 'tau_2_2', 'tau_3_0.5', 'tau_3_1', 'tau_3_2', 'tau_4_0.5', 'tau_4_1', 'tau_4_2', 'is_signal_new'],\n",
       "        num_rows: 403000\n",
       "    })\n",
       "    test: Dataset({\n",
       "        features: ['tau_1_0.5', 'tau_1_1', 'tau_1_2', 'tau_2_0.5', 'tau_2_1', 'tau_2_2', 'tau_3_0.5', 'tau_3_1', 'tau_3_2', 'tau_4_0.5', 'tau_4_1', 'tau_4_2', 'is_signal_new'],\n",
       "        num_rows: 404000\n",
       "    })\n",
       "})"
      ]
     },
     "execution_count": 7,
     "metadata": {},
     "output_type": "execute_result"
    }
   ],
   "source": [
    "nsubjet_ds"
   ]
  },
  {
   "cell_type": "markdown",
   "id": "aaf13b66-9a4c-4353-a0cd-1621442fabf8",
   "metadata": {},
   "source": [
    "we see it is similar to a Python dictionary, with each key corresponding to a different split. And we can use the usual dictionary syntax to access an individual split:"
   ]
  },
  {
   "cell_type": "code",
   "execution_count": 8,
   "id": "c5eab197-9e09-4129-97d8-2e2b210eedd8",
   "metadata": {},
   "outputs": [
    {
     "data": {
      "text/plain": [
       "Dataset({\n",
       "    features: ['tau_1_0.5', 'tau_1_1', 'tau_1_2', 'tau_2_0.5', 'tau_2_1', 'tau_2_2', 'tau_3_0.5', 'tau_3_1', 'tau_3_2', 'tau_4_0.5', 'tau_4_1', 'tau_4_2', 'is_signal_new'],\n",
       "    num_rows: 1211000\n",
       "})"
      ]
     },
     "execution_count": 8,
     "metadata": {},
     "output_type": "execute_result"
    }
   ],
   "source": [
    "train_ds = nsubjet_ds[\"train\"]\n",
    "train_ds"
   ]
  },
  {
   "cell_type": "markdown",
   "id": "6c29747f-0a36-4140-8b10-adcdf09ac6c9",
   "metadata": {},
   "source": [
    "The `Dataset` object is one of the core data structures in 🤗 Datasets and behaves like an ordinary Python `list`, so we can query its length:"
   ]
  },
  {
   "cell_type": "code",
   "execution_count": 9,
   "id": "d2e4789b-d74a-4b89-b4f2-579567d8925b",
   "metadata": {},
   "outputs": [
    {
     "data": {
      "text/plain": [
       "1211000"
      ]
     },
     "execution_count": 9,
     "metadata": {},
     "output_type": "execute_result"
    }
   ],
   "source": [
    "len(train_ds)"
   ]
  },
  {
   "cell_type": "markdown",
   "id": "7bf93017-e9d4-4791-b5b2-ec23c14633e8",
   "metadata": {},
   "source": [
    "or access a single element by its index:"
   ]
  },
  {
   "cell_type": "code",
   "execution_count": 11,
   "id": "aa72cf0f-af6e-45df-9614-140b08152c6a",
   "metadata": {},
   "outputs": [
    {
     "data": {
      "text/plain": [
       "{'tau_1_0.5': 543.6339721679688,\n",
       " 'tau_1_1': 0.16512173414230347,\n",
       " 'tau_1_2': 0.032661281526088715,\n",
       " 'tau_2_0.5': 0.0022617217618972063,\n",
       " 'tau_2_1': 0.048829928040504456,\n",
       " 'tau_2_2': 0.003710513934493065,\n",
       " 'tau_3_0.5': 4.390962203615345e-05,\n",
       " 'tau_3_1': 0.030994312837719917,\n",
       " 'tau_3_2': 0.0016299881972372532,\n",
       " 'tau_4_0.5': 1.1181864465470426e-05,\n",
       " 'tau_4_1': 0.001115332474000752,\n",
       " 'tau_4_2': 7.765891496092081e-06,\n",
       " 'is_signal_new': 0}"
      ]
     },
     "execution_count": 11,
     "metadata": {},
     "output_type": "execute_result"
    }
   ],
   "source": [
    "train_ds[0]"
   ]
  },
  {
   "cell_type": "markdown",
   "id": "2e253591-66c7-4483-b9e1-65ffdf6f3fc0",
   "metadata": {},
   "source": [
    "Here we see that a single row is repesented as a dictionary where the keys correspond to the column names. Although, 🤗 Datasets provides a lot of low-level functionality for preprocessing datasets, it is often conventient to convert a `Dataset` object to a Pandas `DataFrame`. We can do this by using the `to_pandas()` method as follows:"
   ]
  },
  {
   "cell_type": "code",
   "execution_count": 12,
   "id": "498662cc-e3fa-4244-8a5a-ddccacf5cb54",
   "metadata": {},
   "outputs": [
    {
     "data": {
      "text/html": [
       "<div>\n",
       "<style scoped>\n",
       "    .dataframe tbody tr th:only-of-type {\n",
       "        vertical-align: middle;\n",
       "    }\n",
       "\n",
       "    .dataframe tbody tr th {\n",
       "        vertical-align: top;\n",
       "    }\n",
       "\n",
       "    .dataframe thead th {\n",
       "        text-align: right;\n",
       "    }\n",
       "</style>\n",
       "<table border=\"1\" class=\"dataframe\">\n",
       "  <thead>\n",
       "    <tr style=\"text-align: right;\">\n",
       "      <th></th>\n",
       "      <th>tau_1_0.5</th>\n",
       "      <th>tau_1_1</th>\n",
       "      <th>tau_1_2</th>\n",
       "      <th>tau_2_0.5</th>\n",
       "      <th>tau_2_1</th>\n",
       "      <th>tau_2_2</th>\n",
       "      <th>tau_3_0.5</th>\n",
       "      <th>tau_3_1</th>\n",
       "      <th>tau_3_2</th>\n",
       "      <th>tau_4_0.5</th>\n",
       "      <th>tau_4_1</th>\n",
       "      <th>tau_4_2</th>\n",
       "      <th>is_signal_new</th>\n",
       "    </tr>\n",
       "  </thead>\n",
       "  <tbody>\n",
       "    <tr>\n",
       "      <th>0</th>\n",
       "      <td>543.633972</td>\n",
       "      <td>0.165122</td>\n",
       "      <td>0.032661</td>\n",
       "      <td>0.002262</td>\n",
       "      <td>0.048830</td>\n",
       "      <td>0.003711</td>\n",
       "      <td>0.000044</td>\n",
       "      <td>0.030994</td>\n",
       "      <td>0.001630</td>\n",
       "      <td>0.000011</td>\n",
       "      <td>0.001115</td>\n",
       "      <td>0.000008</td>\n",
       "      <td>0</td>\n",
       "    </tr>\n",
       "    <tr>\n",
       "      <th>1</th>\n",
       "      <td>452.411865</td>\n",
       "      <td>0.162938</td>\n",
       "      <td>0.027598</td>\n",
       "      <td>0.000876</td>\n",
       "      <td>0.095902</td>\n",
       "      <td>0.015461</td>\n",
       "      <td>0.000506</td>\n",
       "      <td>0.079750</td>\n",
       "      <td>0.009733</td>\n",
       "      <td>0.000163</td>\n",
       "      <td>0.005454</td>\n",
       "      <td>0.000072</td>\n",
       "      <td>0</td>\n",
       "    </tr>\n",
       "    <tr>\n",
       "      <th>2</th>\n",
       "      <td>429.495270</td>\n",
       "      <td>0.244436</td>\n",
       "      <td>0.065901</td>\n",
       "      <td>0.005557</td>\n",
       "      <td>0.155202</td>\n",
       "      <td>0.038807</td>\n",
       "      <td>0.002762</td>\n",
       "      <td>0.123285</td>\n",
       "      <td>0.025339</td>\n",
       "      <td>0.001385</td>\n",
       "      <td>0.012678</td>\n",
       "      <td>0.000567</td>\n",
       "      <td>0</td>\n",
       "    </tr>\n",
       "    <tr>\n",
       "      <th>3</th>\n",
       "      <td>512.675415</td>\n",
       "      <td>0.102580</td>\n",
       "      <td>0.011369</td>\n",
       "      <td>0.000170</td>\n",
       "      <td>0.086306</td>\n",
       "      <td>0.007759</td>\n",
       "      <td>0.000071</td>\n",
       "      <td>0.068169</td>\n",
       "      <td>0.005386</td>\n",
       "      <td>0.000048</td>\n",
       "      <td>0.002376</td>\n",
       "      <td>0.000008</td>\n",
       "      <td>0</td>\n",
       "    </tr>\n",
       "    <tr>\n",
       "      <th>4</th>\n",
       "      <td>527.956848</td>\n",
       "      <td>0.407009</td>\n",
       "      <td>0.191839</td>\n",
       "      <td>0.065169</td>\n",
       "      <td>0.291460</td>\n",
       "      <td>0.105479</td>\n",
       "      <td>0.029753</td>\n",
       "      <td>0.209341</td>\n",
       "      <td>0.049187</td>\n",
       "      <td>0.004359</td>\n",
       "      <td>0.033249</td>\n",
       "      <td>0.003689</td>\n",
       "      <td>0</td>\n",
       "    </tr>\n",
       "  </tbody>\n",
       "</table>\n",
       "</div>"
      ],
      "text/plain": [
       "    tau_1_0.5   tau_1_1   tau_1_2  tau_2_0.5   tau_2_1   tau_2_2  tau_3_0.5  \\\n",
       "0  543.633972  0.165122  0.032661   0.002262  0.048830  0.003711   0.000044   \n",
       "1  452.411865  0.162938  0.027598   0.000876  0.095902  0.015461   0.000506   \n",
       "2  429.495270  0.244436  0.065901   0.005557  0.155202  0.038807   0.002762   \n",
       "3  512.675415  0.102580  0.011369   0.000170  0.086306  0.007759   0.000071   \n",
       "4  527.956848  0.407009  0.191839   0.065169  0.291460  0.105479   0.029753   \n",
       "\n",
       "    tau_3_1   tau_3_2  tau_4_0.5   tau_4_1   tau_4_2  is_signal_new  \n",
       "0  0.030994  0.001630   0.000011  0.001115  0.000008              0  \n",
       "1  0.079750  0.009733   0.000163  0.005454  0.000072              0  \n",
       "2  0.123285  0.025339   0.001385  0.012678  0.000567              0  \n",
       "3  0.068169  0.005386   0.000048  0.002376  0.000008              0  \n",
       "4  0.209341  0.049187   0.004359  0.033249  0.003689              0  "
      ]
     },
     "execution_count": 12,
     "metadata": {},
     "output_type": "execute_result"
    }
   ],
   "source": [
    "train_df = train_ds.to_pandas()\n",
    "train_df.head()"
   ]
  },
  {
   "cell_type": "markdown",
   "id": "e619bf96-1e95-42ca-875a-970f6c0555ca",
   "metadata": {
    "tags": []
   },
   "source": [
    "## Introducing fastai\n",
    "\n",
    "Now that we've downloaded our dataset of $N$-subjettiness variables, it's time to train a model! To do so, we'll use the [fastai library](https://github.com/fastai/fastai). fastai is the most popular framework for training deep neural networks with PyTorch and provides various application-specific classes for different types of deep learning data structures and architectures. It is also designed with a _layered API_, which means:\n",
    "\n",
    "* We can use high-level components to quickly and easily get state-of-the-art results in standard deep learning domains\n",
    "* Low-level components can be mixed and matched to build new approaches\n",
    "\n",
    "In particular, this approach will allow us in later lessons to use pure PyTorch code to define our models, and then let fastai take care of the training loop (which is often an error-prone process).\n",
    "\n",
    "**Basics of the API**\n",
    "\n",
    "The most common steps one takes when training a model in fastai are:\n",
    "\n",
    "* Create `DataLoaders` to feed batches of data to the model\n",
    "* Create a `Learner` which wraps the architecture, optimizer, and data, and automatically chooses an appropriate loss function where possible\n",
    "* Find a good learning rate\n",
    "* Train your model\n",
    "* Evaluate your model\n",
    "\n",
    "Let's go through each of these steps to build a neural network that can classify top quark jets from the QCD background!"
   ]
  },
  {
   "cell_type": "markdown",
   "id": "f820a022-ca1e-40ef-8e8b-7007347c7e2c",
   "metadata": {},
   "source": [
    "### From data to DataLoaders"
   ]
  },
  {
   "cell_type": "markdown",
   "id": "35e75770-cb9c-44f2-af57-bed0b0548b7a",
   "metadata": {},
   "source": [
    "To wrangle our data in a format that's suitable for training neural nets, we need to create an object called `DataLoaders`. To turn our dataset into a `DataLoaders` object we need to specify:\n",
    "\n",
    "* What type of data we are dealing with (tabular, images, etc)\n",
    "* How to get the examples\n",
    "* How to label each example\n",
    "* How to create the validation set\n",
    "\n",
    "fastai provides a number of classes for different kinds of deep learning datasets and problems. In our case, the data is in a _tabular_ format (i.e. a table of rows and columns), so we can use the `TabularDataLoaders` class:"
   ]
  },
  {
   "cell_type": "code",
   "execution_count": 17,
   "id": "14740d2c-8c45-4bdb-bd86-f20ea4980100",
   "metadata": {},
   "outputs": [],
   "source": [
    "features = list(train_df.drop(columns=\"is_signal_new\").columns)\n",
    "splits = RandomSplitter(valid_pct=0.20, seed=42)(range_of(train_df))\n",
    "\n",
    "dls = TabularDataLoaders.from_df(\n",
    "    df=train_df,\n",
    "    cont_names=features,\n",
    "    y_names=\"is_signal_new\",\n",
    "    y_block=CategoryBlock,\n",
    "    splits=splits,\n",
    "    bs=1024,\n",
    ")"
   ]
  },
  {
   "cell_type": "markdown",
   "id": "e46e17c6-ec3b-45d0-a68d-3c71ab602e79",
   "metadata": {},
   "source": [
    "Let's unpack this code a bit. The first thing we've specified is which columns of our dataset correspond to _continuous features_ via the `cont_names` argument. To do this, we've simply grabbed all column names from our `DataFrame`, except for the label column `is_signal_new`. Next, we've specified which column is the target in `y_names` and that this is a _categorical feature_ with `CategoryBlock`. Finally we've specified the training and validation splits with `RandomSplitter` and picked a batch size of 1,024 examples.\n",
    "\n",
    "After we've defined a `DataLoaders` object, we can take a look at the data by using the `show_batch()` method:"
   ]
  },
  {
   "cell_type": "code",
   "execution_count": 18,
   "id": "e6a95121-8dc4-4a66-a44a-04b1df40cf40",
   "metadata": {},
   "outputs": [
    {
     "data": {
      "text/html": [
       "<table border=\"1\" class=\"dataframe\">\n",
       "  <thead>\n",
       "    <tr style=\"text-align: right;\">\n",
       "      <th></th>\n",
       "      <th>tau_1_0.5</th>\n",
       "      <th>tau_1_1</th>\n",
       "      <th>tau_1_2</th>\n",
       "      <th>tau_2_0.5</th>\n",
       "      <th>tau_2_1</th>\n",
       "      <th>tau_2_2</th>\n",
       "      <th>tau_3_0.5</th>\n",
       "      <th>tau_3_1</th>\n",
       "      <th>tau_3_2</th>\n",
       "      <th>tau_4_0.5</th>\n",
       "      <th>tau_4_1</th>\n",
       "      <th>tau_4_2</th>\n",
       "      <th>is_signal_new</th>\n",
       "    </tr>\n",
       "  </thead>\n",
       "  <tbody>\n",
       "    <tr>\n",
       "      <th>0</th>\n",
       "      <td>526.996704</td>\n",
       "      <td>0.231750</td>\n",
       "      <td>0.058536</td>\n",
       "      <td>0.005026</td>\n",
       "      <td>0.110192</td>\n",
       "      <td>0.017049</td>\n",
       "      <td>0.000736</td>\n",
       "      <td>0.072942</td>\n",
       "      <td>0.006917</td>\n",
       "      <td>0.000098</td>\n",
       "      <td>0.005003</td>\n",
       "      <td>0.000080</td>\n",
       "      <td>0</td>\n",
       "    </tr>\n",
       "    <tr>\n",
       "      <th>1</th>\n",
       "      <td>483.704834</td>\n",
       "      <td>0.467989</td>\n",
       "      <td>0.224612</td>\n",
       "      <td>0.057664</td>\n",
       "      <td>0.239997</td>\n",
       "      <td>0.072601</td>\n",
       "      <td>0.009191</td>\n",
       "      <td>0.198352</td>\n",
       "      <td>0.045954</td>\n",
       "      <td>0.003342</td>\n",
       "      <td>0.036456</td>\n",
       "      <td>0.002275</td>\n",
       "      <td>1</td>\n",
       "    </tr>\n",
       "    <tr>\n",
       "      <th>2</th>\n",
       "      <td>417.697479</td>\n",
       "      <td>0.542197</td>\n",
       "      <td>0.296876</td>\n",
       "      <td>0.095060</td>\n",
       "      <td>0.348525</td>\n",
       "      <td>0.140700</td>\n",
       "      <td>0.030083</td>\n",
       "      <td>0.221308</td>\n",
       "      <td>0.051202</td>\n",
       "      <td>0.003244</td>\n",
       "      <td>0.033043</td>\n",
       "      <td>0.002117</td>\n",
       "      <td>1</td>\n",
       "    </tr>\n",
       "    <tr>\n",
       "      <th>3</th>\n",
       "      <td>432.009430</td>\n",
       "      <td>0.149398</td>\n",
       "      <td>0.022970</td>\n",
       "      <td>0.000583</td>\n",
       "      <td>0.095446</td>\n",
       "      <td>0.009663</td>\n",
       "      <td>0.000113</td>\n",
       "      <td>0.078619</td>\n",
       "      <td>0.006459</td>\n",
       "      <td>0.000049</td>\n",
       "      <td>0.003556</td>\n",
       "      <td>0.000019</td>\n",
       "      <td>0</td>\n",
       "    </tr>\n",
       "    <tr>\n",
       "      <th>4</th>\n",
       "      <td>517.105469</td>\n",
       "      <td>0.272606</td>\n",
       "      <td>0.085563</td>\n",
       "      <td>0.010561</td>\n",
       "      <td>0.244199</td>\n",
       "      <td>0.061096</td>\n",
       "      <td>0.004171</td>\n",
       "      <td>0.137500</td>\n",
       "      <td>0.028416</td>\n",
       "      <td>0.001636</td>\n",
       "      <td>0.013571</td>\n",
       "      <td>0.000436</td>\n",
       "      <td>0</td>\n",
       "    </tr>\n",
       "    <tr>\n",
       "      <th>5</th>\n",
       "      <td>463.732727</td>\n",
       "      <td>0.296045</td>\n",
       "      <td>0.093306</td>\n",
       "      <td>0.011557</td>\n",
       "      <td>0.153243</td>\n",
       "      <td>0.031092</td>\n",
       "      <td>0.002150</td>\n",
       "      <td>0.111019</td>\n",
       "      <td>0.019585</td>\n",
       "      <td>0.001183</td>\n",
       "      <td>0.009900</td>\n",
       "      <td>0.000374</td>\n",
       "      <td>0</td>\n",
       "    </tr>\n",
       "    <tr>\n",
       "      <th>6</th>\n",
       "      <td>503.907440</td>\n",
       "      <td>0.341699</td>\n",
       "      <td>0.133994</td>\n",
       "      <td>0.033539</td>\n",
       "      <td>0.129351</td>\n",
       "      <td>0.018143</td>\n",
       "      <td>0.000479</td>\n",
       "      <td>0.102874</td>\n",
       "      <td>0.012927</td>\n",
       "      <td>0.000334</td>\n",
       "      <td>0.008003</td>\n",
       "      <td>0.000142</td>\n",
       "      <td>1</td>\n",
       "    </tr>\n",
       "    <tr>\n",
       "      <th>7</th>\n",
       "      <td>509.960846</td>\n",
       "      <td>0.171433</td>\n",
       "      <td>0.035066</td>\n",
       "      <td>0.002474</td>\n",
       "      <td>0.138663</td>\n",
       "      <td>0.024151</td>\n",
       "      <td>0.001402</td>\n",
       "      <td>0.058914</td>\n",
       "      <td>0.009510</td>\n",
       "      <td>0.000549</td>\n",
       "      <td>0.004657</td>\n",
       "      <td>0.000114</td>\n",
       "      <td>0</td>\n",
       "    </tr>\n",
       "    <tr>\n",
       "      <th>8</th>\n",
       "      <td>467.276764</td>\n",
       "      <td>0.518515</td>\n",
       "      <td>0.297962</td>\n",
       "      <td>0.137698</td>\n",
       "      <td>0.337402</td>\n",
       "      <td>0.128645</td>\n",
       "      <td>0.031829</td>\n",
       "      <td>0.152667</td>\n",
       "      <td>0.031816</td>\n",
       "      <td>0.002779</td>\n",
       "      <td>0.024103</td>\n",
       "      <td>0.001090</td>\n",
       "      <td>1</td>\n",
       "    </tr>\n",
       "    <tr>\n",
       "      <th>9</th>\n",
       "      <td>520.603210</td>\n",
       "      <td>0.350139</td>\n",
       "      <td>0.126118</td>\n",
       "      <td>0.020427</td>\n",
       "      <td>0.208071</td>\n",
       "      <td>0.049597</td>\n",
       "      <td>0.007076</td>\n",
       "      <td>0.150795</td>\n",
       "      <td>0.029969</td>\n",
       "      <td>0.005587</td>\n",
       "      <td>0.018874</td>\n",
       "      <td>0.000736</td>\n",
       "      <td>0</td>\n",
       "    </tr>\n",
       "  </tbody>\n",
       "</table>"
      ],
      "text/plain": [
       "<IPython.core.display.HTML object>"
      ]
     },
     "metadata": {},
     "output_type": "display_data"
    }
   ],
   "source": [
    "dls.show_batch()"
   ]
  },
  {
   "cell_type": "markdown",
   "id": "b94bdc16-7c76-4504-8783-0802b756d85a",
   "metadata": {},
   "source": [
    "### Create a Learner"
   ]
  },
  {
   "cell_type": "markdown",
   "id": "5e8da4e7-482c-41a0-85d4-409332091774",
   "metadata": {},
   "source": [
    "We can now create the `Learner` for this data. fastai provides various application-specific learner classes, each of which come with a set of good defaults for training. In our case, we'll use the `tabular_learner` class:"
   ]
  },
  {
   "cell_type": "code",
   "execution_count": 24,
   "id": "15a41f91-dafa-4f3c-95aa-59ca58030e3d",
   "metadata": {},
   "outputs": [],
   "source": [
    "learn = tabular_learner(\n",
    "    dls, layers=[200, 200, 50, 50], metrics=[accuracy, RocAucBinary()]\n",
    ")"
   ]
  },
  {
   "cell_type": "markdown",
   "id": "606cad43-2d4a-4040-89eb-6941d725cee3",
   "metadata": {},
   "source": [
    "By default, `tabular_learner` creates a neural network with two hidden layers and 200 and 100 activations each. This works great for small datasets, but since our dataset is quite large, we've increased the depth of the network by adding two more layers. We've also provides two common classification metrics to track during training: accuracy and the Area Under the Receiver Operating Characteristic Curve (ROC AUC). We'll look a ROC AUC later, so for now let's take a look at our network with the `summary()` method:"
   ]
  },
  {
   "cell_type": "code",
   "execution_count": 25,
   "id": "0527cd48-316a-494f-8ff1-9efc7e153fd6",
   "metadata": {},
   "outputs": [
    {
     "data": {
      "text/html": [
       "\n",
       "<style>\n",
       "    /* Turns off some styling */\n",
       "    progress {\n",
       "        /* gets rid of default border in Firefox and Opera. */\n",
       "        border: none;\n",
       "        /* Needs to be in here for Safari polyfill so background images work as expected. */\n",
       "        background-size: auto;\n",
       "    }\n",
       "    .progress-bar-interrupted, .progress-bar-interrupted::-webkit-progress-bar {\n",
       "        background: #F44336;\n",
       "    }\n",
       "</style>\n"
      ],
      "text/plain": [
       "<IPython.core.display.HTML object>"
      ]
     },
     "metadata": {},
     "output_type": "display_data"
    },
    {
     "data": {
      "text/html": [],
      "text/plain": [
       "<IPython.core.display.HTML object>"
      ]
     },
     "metadata": {},
     "output_type": "display_data"
    },
    {
     "data": {
      "text/plain": [
       "TabularModel (Input shape: 1024 x 0)\n",
       "============================================================================\n",
       "Layer (type)         Output Shape         Param #    Trainable \n",
       "============================================================================\n",
       "                     1024 x 12           \n",
       "BatchNorm1d                               24         True      \n",
       "____________________________________________________________________________\n",
       "                     1024 x 200          \n",
       "Linear                                    2400       True      \n",
       "ReLU                                                           \n",
       "BatchNorm1d                               400        True      \n",
       "Linear                                    40000      True      \n",
       "ReLU                                                           \n",
       "BatchNorm1d                               400        True      \n",
       "____________________________________________________________________________\n",
       "                     1024 x 50           \n",
       "Linear                                    10000      True      \n",
       "ReLU                                                           \n",
       "BatchNorm1d                               100        True      \n",
       "Linear                                    2500       True      \n",
       "ReLU                                                           \n",
       "BatchNorm1d                               100        True      \n",
       "____________________________________________________________________________\n",
       "                     1024 x 2            \n",
       "Linear                                    102        True      \n",
       "____________________________________________________________________________\n",
       "\n",
       "Total params: 56,026\n",
       "Total trainable params: 56,026\n",
       "Total non-trainable params: 0\n",
       "\n",
       "Optimizer used: <function Adam at 0x7fea52d2c160>\n",
       "Loss function: FlattenedLoss of CrossEntropyLoss()\n",
       "\n",
       "Callbacks:\n",
       "  - TrainEvalCallback\n",
       "  - Recorder\n",
       "  - ProgressCallback"
      ]
     },
     "execution_count": 25,
     "metadata": {},
     "output_type": "execute_result"
    }
   ],
   "source": [
    "learn.summary()"
   ]
  },
  {
   "cell_type": "markdown",
   "id": "6257d53c-30e0-4739-a634-8441fb36bb91",
   "metadata": {},
   "source": [
    "Here we can see that this particular network has around 56,000 parameters - although this sounds like a lot, it's actually a very small model by modern standards (e.g. in natural language processing, some models have hundreds of billions of parameters!)."
   ]
  },
  {
   "cell_type": "markdown",
   "id": "5a822240-e8c5-4560-88e5-cccae83d7a9a",
   "metadata": {},
   "source": [
    "### Find a good learning rate"
   ]
  },
  {
   "cell_type": "markdown",
   "id": "d142f032-6764-4d67-91cc-ce56c88f64d7",
   "metadata": {},
   "source": [
    "The learning rate is one of the most important hyperparameters involved in training neural networks, so it's important to make sure you've picked a good one. We'll see in the next lesson exactly how this parameter impacts training, but for now it is enough to know that:\n",
    "\n",
    "* If our learning rate is too low, it will take a long time to train the model and there is a good chance of overfitting.\n",
    "* If our learning rate is too high, the training process can diverge.\n",
    "\n",
    "To handle these two extremes, fastai provides a _learning rate finder_ that tracks the loss as we increase the learning rate. You can see this in action by using the `lr_find()` method of any `Learner`:"
   ]
  },
  {
   "cell_type": "code",
   "execution_count": 26,
   "id": "f1cd3ea0-df09-43e0-82a0-1db33bdc29a4",
   "metadata": {},
   "outputs": [
    {
     "data": {
      "text/html": [
       "\n",
       "<style>\n",
       "    /* Turns off some styling */\n",
       "    progress {\n",
       "        /* gets rid of default border in Firefox and Opera. */\n",
       "        border: none;\n",
       "        /* Needs to be in here for Safari polyfill so background images work as expected. */\n",
       "        background-size: auto;\n",
       "    }\n",
       "    .progress-bar-interrupted, .progress-bar-interrupted::-webkit-progress-bar {\n",
       "        background: #F44336;\n",
       "    }\n",
       "</style>\n"
      ],
      "text/plain": [
       "<IPython.core.display.HTML object>"
      ]
     },
     "metadata": {},
     "output_type": "display_data"
    },
    {
     "data": {
      "text/html": [],
      "text/plain": [
       "<IPython.core.display.HTML object>"
      ]
     },
     "metadata": {},
     "output_type": "display_data"
    },
    {
     "data": {
      "text/plain": [
       "SuggestedLRs(valley=0.0014454397605732083)"
      ]
     },
     "execution_count": 26,
     "metadata": {},
     "output_type": "execute_result"
    },
    {
     "data": {
      "image/png": "[encoded data removed]",
      "text/plain": [
       "<Figure size 432x288 with 1 Axes>"
      ]
     },
     "metadata": {
      "needs_background": "light"
     },
     "output_type": "display_data"
    }
   ],
   "source": [
    "learn.lr_find()"
   ]
  },
  {
   "cell_type": "markdown",
   "id": "5aac905b-9bd3-460e-bf79-70c806d9ccf4",
   "metadata": {},
   "source": [
    "From this curve we can see that the loss hits a minimum around a learning rate of $10^{-1}$, so we should select a learning rate lower than this point. The `lr_find()` method provides a handy heuristic to pick the learning rate 1-2 orders of magnitude less than the minimum, as indicated by the orange dot. "
   ]
  },
  {
   "cell_type": "markdown",
   "id": "766ad957-ff12-4cd5-b2b8-6aa35c9b9450",
   "metadata": {},
   "source": [
    "### Train your model"
   ]
  },
  {
   "cell_type": "markdown",
   "id": "af6b834e-e597-49f4-bfb7-30c48ac0b29d",
   "metadata": {},
   "source": [
    "In the above learning rate plot, it appears a learning rate of around 1e-3 would be good, so let's choose that and train our models for 3 epochs:"
   ]
  },
  {
   "cell_type": "code",
   "execution_count": 27,
   "id": "55669c54-12f5-4a76-a4b6-88c31fc6895a",
   "metadata": {},
   "outputs": [
    {
     "data": {
      "text/html": [
       "\n",
       "<style>\n",
       "    /* Turns off some styling */\n",
       "    progress {\n",
       "        /* gets rid of default border in Firefox and Opera. */\n",
       "        border: none;\n",
       "        /* Needs to be in here for Safari polyfill so background images work as expected. */\n",
       "        background-size: auto;\n",
       "    }\n",
       "    .progress-bar-interrupted, .progress-bar-interrupted::-webkit-progress-bar {\n",
       "        background: #F44336;\n",
       "    }\n",
       "</style>\n"
      ],
      "text/plain": [
       "<IPython.core.display.HTML object>"
      ]
     },
     "metadata": {},
     "output_type": "display_data"
    },
    {
     "data": {
      "text/html": [
       "<table border=\"1\" class=\"dataframe\">\n",
       "  <thead>\n",
       "    <tr style=\"text-align: left;\">\n",
       "      <th>epoch</th>\n",
       "      <th>train_loss</th>\n",
       "      <th>valid_loss</th>\n",
       "      <th>accuracy</th>\n",
       "      <th>roc_auc_score</th>\n",
       "      <th>time</th>\n",
       "    </tr>\n",
       "  </thead>\n",
       "  <tbody>\n",
       "    <tr>\n",
       "      <td>0</td>\n",
       "      <td>0.250276</td>\n",
       "      <td>0.238789</td>\n",
       "      <td>0.899100</td>\n",
       "      <td>0.963261</td>\n",
       "      <td>00:08</td>\n",
       "    </tr>\n",
       "    <tr>\n",
       "      <td>1</td>\n",
       "      <td>0.237248</td>\n",
       "      <td>0.245006</td>\n",
       "      <td>0.896156</td>\n",
       "      <td>0.963753</td>\n",
       "      <td>00:08</td>\n",
       "    </tr>\n",
       "    <tr>\n",
       "      <td>2</td>\n",
       "      <td>0.231249</td>\n",
       "      <td>0.240040</td>\n",
       "      <td>0.897027</td>\n",
       "      <td>0.965829</td>\n",
       "      <td>00:08</td>\n",
       "    </tr>\n",
       "  </tbody>\n",
       "</table>"
      ],
      "text/plain": [
       "<IPython.core.display.HTML object>"
      ]
     },
     "metadata": {},
     "output_type": "display_data"
    }
   ],
   "source": [
    "learn.fit_one_cycle(n_epoch=3, lr_max=1e-3)"
   ]
  },
  {
   "cell_type": "markdown",
   "id": "6e630b0a-7ae9-4f77-b0e3-291f976e73e8",
   "metadata": {},
   "source": [
    "Once the model is trained, we can view the results in various ways. A simple approach is to use the `show_results()` method to compare the model errors:"
   ]
  },
  {
   "cell_type": "code",
   "execution_count": 28,
   "id": "4949435c-9b95-4bad-8c9f-bfc2f1306494",
   "metadata": {},
   "outputs": [
    {
     "data": {
      "text/html": [
       "\n",
       "<style>\n",
       "    /* Turns off some styling */\n",
       "    progress {\n",
       "        /* gets rid of default border in Firefox and Opera. */\n",
       "        border: none;\n",
       "        /* Needs to be in here for Safari polyfill so background images work as expected. */\n",
       "        background-size: auto;\n",
       "    }\n",
       "    .progress-bar-interrupted, .progress-bar-interrupted::-webkit-progress-bar {\n",
       "        background: #F44336;\n",
       "    }\n",
       "</style>\n"
      ],
      "text/plain": [
       "<IPython.core.display.HTML object>"
      ]
     },
     "metadata": {},
     "output_type": "display_data"
    },
    {
     "data": {
      "text/html": [],
      "text/plain": [
       "<IPython.core.display.HTML object>"
      ]
     },
     "metadata": {},
     "output_type": "display_data"
    },
    {
     "data": {
      "text/html": [
       "<table border=\"1\" class=\"dataframe\">\n",
       "  <thead>\n",
       "    <tr style=\"text-align: right;\">\n",
       "      <th></th>\n",
       "      <th>tau_1_0.5</th>\n",
       "      <th>tau_1_1</th>\n",
       "      <th>tau_1_2</th>\n",
       "      <th>tau_2_0.5</th>\n",
       "      <th>tau_2_1</th>\n",
       "      <th>tau_2_2</th>\n",
       "      <th>tau_3_0.5</th>\n",
       "      <th>tau_3_1</th>\n",
       "      <th>tau_3_2</th>\n",
       "      <th>tau_4_0.5</th>\n",
       "      <th>tau_4_1</th>\n",
       "      <th>tau_4_2</th>\n",
       "      <th>is_signal_new</th>\n",
       "      <th>is_signal_new_pred</th>\n",
       "    </tr>\n",
       "  </thead>\n",
       "  <tbody>\n",
       "    <tr>\n",
       "      <th>0</th>\n",
       "      <td>-1.947309</td>\n",
       "      <td>0.926203</td>\n",
       "      <td>0.270699</td>\n",
       "      <td>-0.114332</td>\n",
       "      <td>1.249062</td>\n",
       "      <td>0.595708</td>\n",
       "      <td>-0.050255</td>\n",
       "      <td>0.315546</td>\n",
       "      <td>-0.052304</td>\n",
       "      <td>-0.063876</td>\n",
       "      <td>0.097168</td>\n",
       "      <td>-0.048806</td>\n",
       "      <td>1.0</td>\n",
       "      <td>1.0</td>\n",
       "    </tr>\n",
       "    <tr>\n",
       "      <th>1</th>\n",
       "      <td>0.879042</td>\n",
       "      <td>-0.368789</td>\n",
       "      <td>-0.231403</td>\n",
       "      <td>-0.139125</td>\n",
       "      <td>0.014944</td>\n",
       "      <td>-0.075256</td>\n",
       "      <td>-0.072862</td>\n",
       "      <td>-0.172220</td>\n",
       "      <td>-0.129792</td>\n",
       "      <td>-0.051958</td>\n",
       "      <td>-0.053092</td>\n",
       "      <td>-0.044962</td>\n",
       "      <td>1.0</td>\n",
       "      <td>1.0</td>\n",
       "    </tr>\n",
       "    <tr>\n",
       "      <th>2</th>\n",
       "      <td>0.803042</td>\n",
       "      <td>-1.738004</td>\n",
       "      <td>-0.576891</td>\n",
       "      <td>-0.159969</td>\n",
       "      <td>-1.816268</td>\n",
       "      <td>-0.627292</td>\n",
       "      <td>-0.107585</td>\n",
       "      <td>-1.883698</td>\n",
       "      <td>-0.676825</td>\n",
       "      <td>-0.069955</td>\n",
       "      <td>-0.679554</td>\n",
       "      <td>-0.054457</td>\n",
       "      <td>0.0</td>\n",
       "      <td>0.0</td>\n",
       "    </tr>\n",
       "    <tr>\n",
       "      <th>3</th>\n",
       "      <td>0.481037</td>\n",
       "      <td>0.874037</td>\n",
       "      <td>0.245544</td>\n",
       "      <td>-0.118403</td>\n",
       "      <td>0.556596</td>\n",
       "      <td>0.172138</td>\n",
       "      <td>-0.077974</td>\n",
       "      <td>0.027121</td>\n",
       "      <td>-0.105609</td>\n",
       "      <td>-0.062644</td>\n",
       "      <td>-0.474316</td>\n",
       "      <td>-0.053557</td>\n",
       "      <td>1.0</td>\n",
       "      <td>1.0</td>\n",
       "    </tr>\n",
       "    <tr>\n",
       "      <th>4</th>\n",
       "      <td>-0.984107</td>\n",
       "      <td>0.303840</td>\n",
       "      <td>0.009448</td>\n",
       "      <td>-0.127366</td>\n",
       "      <td>1.131559</td>\n",
       "      <td>0.434795</td>\n",
       "      <td>-0.068384</td>\n",
       "      <td>0.860640</td>\n",
       "      <td>0.384995</td>\n",
       "      <td>-0.045383</td>\n",
       "      <td>0.651991</td>\n",
       "      <td>-0.029641</td>\n",
       "      <td>1.0</td>\n",
       "      <td>1.0</td>\n",
       "    </tr>\n",
       "    <tr>\n",
       "      <th>5</th>\n",
       "      <td>0.106860</td>\n",
       "      <td>-0.679268</td>\n",
       "      <td>-0.375832</td>\n",
       "      <td>-0.154271</td>\n",
       "      <td>-0.522182</td>\n",
       "      <td>-0.244822</td>\n",
       "      <td>-0.094518</td>\n",
       "      <td>-0.375993</td>\n",
       "      <td>-0.198173</td>\n",
       "      <td>-0.062035</td>\n",
       "      <td>-0.180509</td>\n",
       "      <td>-0.048787</td>\n",
       "      <td>0.0</td>\n",
       "      <td>0.0</td>\n",
       "    </tr>\n",
       "    <tr>\n",
       "      <th>6</th>\n",
       "      <td>2.403219</td>\n",
       "      <td>-0.958923</td>\n",
       "      <td>-0.472849</td>\n",
       "      <td>-0.159017</td>\n",
       "      <td>-1.599104</td>\n",
       "      <td>-0.598868</td>\n",
       "      <td>-0.107379</td>\n",
       "      <td>-1.673422</td>\n",
       "      <td>-0.652416</td>\n",
       "      <td>-0.069832</td>\n",
       "      <td>-0.679554</td>\n",
       "      <td>-0.054457</td>\n",
       "      <td>0.0</td>\n",
       "      <td>0.0</td>\n",
       "    </tr>\n",
       "    <tr>\n",
       "      <th>7</th>\n",
       "      <td>0.136110</td>\n",
       "      <td>0.489993</td>\n",
       "      <td>0.131335</td>\n",
       "      <td>-0.109151</td>\n",
       "      <td>0.511853</td>\n",
       "      <td>0.020762</td>\n",
       "      <td>-0.093840</td>\n",
       "      <td>0.996578</td>\n",
       "      <td>0.314105</td>\n",
       "      <td>-0.054156</td>\n",
       "      <td>0.480184</td>\n",
       "      <td>-0.032850</td>\n",
       "      <td>1.0</td>\n",
       "      <td>0.0</td>\n",
       "    </tr>\n",
       "    <tr>\n",
       "      <th>8</th>\n",
       "      <td>1.945964</td>\n",
       "      <td>-1.420909</td>\n",
       "      <td>-0.524806</td>\n",
       "      <td>-0.157572</td>\n",
       "      <td>-1.066425</td>\n",
       "      <td>-0.497073</td>\n",
       "      <td>-0.101179</td>\n",
       "      <td>-0.930981</td>\n",
       "      <td>-0.491751</td>\n",
       "      <td>-0.063756</td>\n",
       "      <td>-0.524255</td>\n",
       "      <td>-0.053857</td>\n",
       "      <td>0.0</td>\n",
       "      <td>0.0</td>\n",
       "    </tr>\n",
       "  </tbody>\n",
       "</table>"
      ],
      "text/plain": [
       "<IPython.core.display.HTML object>"
      ]
     },
     "metadata": {},
     "output_type": "display_data"
    }
   ],
   "source": [
    "learn.show_results()"
   ]
  },
  {
   "cell_type": "markdown",
   "id": "11269ab4-6c51-4daa-ac7c-b3160d1963aa",
   "metadata": {},
   "source": [
    "Here we can see that model only made a handful of errors, which is expected since our accuracy is already around 90%. Evaluating our model’s predictions on the same data it was trained on is almost always a recipe for disaster! Why? The problem is that the model may memorise the structure of the data it sees and fail to provide good predictions when shown new data. Let's see how we can evaluate our model on the _test set_."
   ]
  },
  {
   "cell_type": "markdown",
   "id": "27e1675a-52a4-4fe4-b8c7-4fb5bb31f57b",
   "metadata": {},
   "source": [
    "### Evaluate your model"
   ]
  },
  {
   "cell_type": "markdown",
   "id": "5b4b0d46-f442-413d-8a30-a00a41c8de68",
   "metadata": {},
   "source": [
    "Note that in addition to accuracy, we also show a second value, the Area Under the ROC Curve (AUC). The AUC is a good summary statistic of the predictiveness of a binary classifier. It varies from zero to one, and a value of 0.5 corresponds to randomness (the classifier cannot distinguish at all between \"signal\" and \"background\"), while a value of 1.0 means that it is perfect.\n",
    "\n",
    "The \"ROC\" refers to the Receiver Operating Characteristic curve which plots the true positive rate\n",
    "\n",
    "$$ \\mathrm{TPR} = \\frac{\\mathrm{TP}}{\\mathrm{TP} + \\mathrm{FP}} \\,, \\qquad \\mathrm{TP\\, (FP)} = \\mathrm{number\\, of\\, true\\, (false) \\,positives}\\,, $$\n",
    "\n",
    "against the false positive rate FPR, where the FPR is the ratio of negative instances that are incorrectly classified as positive. In general there is a tradeoff between these two quantities: the higher the TPR, the more false positives (FPR) the classifier produces.\n",
    "\n",
    "For our analysis, these ROC curves effectively plot signal efficiency versus background rejection at various thresholds of some discriminating variable."
   ]
  },
  {
   "cell_type": "code",
   "execution_count": 113,
   "id": "40f2fa5a-6761-4976-8175-b63f658f5759",
   "metadata": {},
   "outputs": [
    {
     "data": {
      "text/html": [
       "\n",
       "<style>\n",
       "    /* Turns off some styling */\n",
       "    progress {\n",
       "        /* gets rid of default border in Firefox and Opera. */\n",
       "        border: none;\n",
       "        /* Needs to be in here for Safari polyfill so background images work as expected. */\n",
       "        background-size: auto;\n",
       "    }\n",
       "    .progress-bar-interrupted, .progress-bar-interrupted::-webkit-progress-bar {\n",
       "        background: #F44336;\n",
       "    }\n",
       "</style>\n"
      ],
      "text/plain": [
       "<IPython.core.display.HTML object>"
      ]
     },
     "metadata": {},
     "output_type": "display_data"
    },
    {
     "data": {
      "text/html": [],
      "text/plain": [
       "<IPython.core.display.HTML object>"
      ]
     },
     "metadata": {},
     "output_type": "display_data"
    }
   ],
   "source": [
    "test_dl = learn.dls.test_dl(test_df)\n",
    "preds = learn.get_preds(dl=test_dl)"
   ]
  },
  {
   "cell_type": "code",
   "execution_count": 114,
   "id": "c8b80dd9-cea7-415f-a430-04858848cc90",
   "metadata": {},
   "outputs": [],
   "source": [
    "signal_test = preds[0][:, 1][test_df[\"is_signal_new\"].values == 1].numpy()\n",
    "background_test = preds[0][:, 1][test_df[\"is_signal_new\"].values == 0].numpy()"
   ]
  },
  {
   "cell_type": "code",
   "execution_count": 117,
   "id": "a8c1d399-dd8d-45f4-bf79-2f6d858c7325",
   "metadata": {},
   "outputs": [
    {
     "data": {
      "image/png": "[encoded data removed]",
      "text/plain": [
       "<Figure size 432x288 with 1 Axes>"
      ]
     },
     "metadata": {
      "needs_background": "light"
     },
     "output_type": "display_data"
    }
   ],
   "source": [
    "plt.hist(signal_test, histtype=\"step\", bins=20, range=(0, 1), label=\"Signal\")\n",
    "plt.hist(background_test, histtype=\"step\", bins=20, range=(0, 1), label=\"Background\")\n",
    "plt.xlabel(\"Probability\")\n",
    "plt.ylabel(\"Events/bin\")\n",
    "plt.yscale(\"log\")\n",
    "plt.xlim(0, 1)\n",
    "plt.minorticks_on()\n",
    "\n",
    "plt.legend(loc=\"upper center\", frameon=False)\n",
    "plt.show()"
   ]
  },
  {
   "cell_type": "markdown",
   "id": "d8dabed1-bc35-4c93-8f0f-fb7a85a250b5",
   "metadata": {},
   "source": [
    "As expected, the background events are clustered around 0 and the signal events are clustered around 1. Imagine cutting the data, and only the datapoints with a score larger than a certin number. If we start the cut at 0, all of the events make it through, so we have a signal efficiency $\\epsilon_S$ and a background efficiency $\\epsilon_B$ equal to 1. In the opposite extreme, we could only take events with a score larger than 1, in which case no events pass, thus $\\epsilon_S = \\epsilon_B = 0$. As we scan the value of the cut, $\\epsilon_S$ and $\\epsilon_B$ will work from 0 to 1, plotting these parametrically defines the ROC Curve. If $\\epsilon_S=\\epsilon_B$ everywhere, our model is never gaining an advantage over random guessing.\n",
    "\n",
    "To compute the ROC curve, we will use part of scikit-learn."
   ]
  },
  {
   "cell_type": "code",
   "execution_count": 66,
   "id": "d49d9e84-a7a5-4b3b-b26a-9e4ed629343d",
   "metadata": {},
   "outputs": [
    {
     "data": {
      "text/plain": [
       "tensor([0, 0, 0,  ..., 1, 1, 1])"
      ]
     },
     "execution_count": 66,
     "metadata": {},
     "output_type": "execute_result"
    }
   ],
   "source": [
    "preds[0].argmax(dim=-1)"
   ]
  },
  {
   "cell_type": "code",
   "execution_count": 67,
   "id": "3a2fbae1-2d9e-4cef-9fa8-037798ace714",
   "metadata": {},
   "outputs": [
    {
     "data": {
      "text/plain": [
       "0.8897945544554455"
      ]
     },
     "execution_count": 67,
     "metadata": {},
     "output_type": "execute_result"
    }
   ],
   "source": [
    "accuracy_score(test_df[\"is_signal_new\"], preds[0].argmax(dim=-1))"
   ]
  },
  {
   "cell_type": "code",
   "execution_count": 68,
   "id": "5f800978-a953-45bb-9169-8c60d914add1",
   "metadata": {},
   "outputs": [],
   "source": [
    "rc = roc_curve(test_df[\"is_signal_new\"], preds[0][:, 1])"
   ]
  },
  {
   "cell_type": "code",
   "execution_count": 69,
   "id": "97aca712-1e24-4e86-a8ef-29e2ed0d4929",
   "metadata": {},
   "outputs": [
    {
     "data": {
      "text/plain": [
       "3"
      ]
     },
     "execution_count": 69,
     "metadata": {},
     "output_type": "execute_result"
    }
   ],
   "source": [
    "len(rc)"
   ]
  },
  {
   "cell_type": "code",
   "execution_count": 70,
   "id": "b72d878e-dc86-4161-8060-d934601eefe4",
   "metadata": {},
   "outputs": [
    {
     "data": {
      "text/plain": [
       "(86735,)"
      ]
     },
     "execution_count": 70,
     "metadata": {},
     "output_type": "execute_result"
    }
   ],
   "source": [
    "rc[0].shape"
   ]
  },
  {
   "cell_type": "code",
   "execution_count": 71,
   "id": "7ee4136d-8e06-471c-9b01-0eeb16de0767",
   "metadata": {},
   "outputs": [
    {
     "data": {
      "text/plain": [
       "(86735,)"
      ]
     },
     "execution_count": 71,
     "metadata": {},
     "output_type": "execute_result"
    }
   ],
   "source": [
    "rc[1].shape"
   ]
  },
  {
   "cell_type": "code",
   "execution_count": 72,
   "id": "15ea74ac-c00a-4e16-97d8-5cbecc7fc2bb",
   "metadata": {},
   "outputs": [
    {
     "data": {
      "text/plain": [
       "(86735,)"
      ]
     },
     "execution_count": 72,
     "metadata": {},
     "output_type": "execute_result"
    }
   ],
   "source": [
    "rc[2].shape"
   ]
  },
  {
   "cell_type": "code",
   "execution_count": 73,
   "id": "b7d9ee28-086c-47e4-a6bd-ebe631762ae5",
   "metadata": {},
   "outputs": [
    {
     "data": {
      "text/plain": [
       "(0.0, 1.0)"
      ]
     },
     "execution_count": 73,
     "metadata": {},
     "output_type": "execute_result"
    },
    {
     "data": {
      "image/png": "[encoded data removed]",
      "text/plain": [
       "<Figure size 432x288 with 1 Axes>"
      ]
     },
     "metadata": {
      "needs_background": "light"
     },
     "output_type": "display_data"
    }
   ],
   "source": [
    "plt.plot(rc[1], 1 - rc[0], \"-\")\n",
    "plt.xlim(0, 1)\n",
    "plt.ylim(0, 1)"
   ]
  },
  {
   "cell_type": "code",
   "execution_count": 118,
   "id": "a9f5802b-afd7-4380-bd4a-ec262fbde1e1",
   "metadata": {},
   "outputs": [],
   "source": [
    "fpr_n, tpr_n, thresholds_n = roc_curve(\n",
    "    y_true=test_df[\"is_signal_new\"], y_score=preds[0][:, 1]\n",
    ")"
   ]
  },
  {
   "cell_type": "code",
   "execution_count": 119,
   "id": "6278fd5e-9ddf-4cd6-b270-7698f2aa3406",
   "metadata": {},
   "outputs": [
    {
     "name": "stdout",
     "output_type": "stream",
     "text": [
      "The area under the curve is 0.965\n",
      "The backround rejection at signal efficieny 0.3 is 276.595\n"
     ]
    }
   ],
   "source": [
    "auc_n = auc(fpr_n, tpr_n)\n",
    "\n",
    "background_eff_n = interp1d(tpr_n, fpr_n)\n",
    "working_point_n = background_eff_n(0.3)\n",
    "\n",
    "print(f\"The area under the curve is {auc_n:0.3f}\")\n",
    "print(f\"The backround rejection at signal efficieny 0.3 is {1/working_point_n:0.3f}\")"
   ]
  },
  {
   "cell_type": "code",
   "execution_count": 120,
   "id": "182236f1-911e-4e79-8112-58186cbecf21",
   "metadata": {},
   "outputs": [
    {
     "data": {
      "image/png": "[encoded data removed]",
      "text/plain": [
       "<Figure size 432x288 with 1 Axes>"
      ]
     },
     "metadata": {
      "needs_background": "light"
     },
     "output_type": "display_data"
    }
   ],
   "source": [
    "# Plot the epsilon_S along the y axis and epsilon_B along the x\n",
    "plt.plot(fpr_n, tpr_n)\n",
    "plt.plot(\n",
    "    [0, 1], [0, 1], ls=\":\", color=\"k\"\n",
    ")  # interpolating between all events and no events\n",
    "plt.xlabel(r\"$\\epsilon_B$\")\n",
    "plt.ylabel(r\"$\\epsilon_S$\")\n",
    "plt.show()"
   ]
  },
  {
   "cell_type": "code",
   "execution_count": 121,
   "id": "69360f07-f1e7-40c2-9dfb-751e0a907553",
   "metadata": {},
   "outputs": [
    {
     "name": "stderr",
     "output_type": "stream",
     "text": [
      "/tmp/ipykernel_8851/1205818864.py:2: RuntimeWarning: divide by zero encountered in true_divide\n",
      "  1/fpr_n,\n"
     ]
    },
    {
     "data": {
      "image/png": "[encoded data removed]",
      "text/plain": [
       "<Figure size 432x288 with 1 Axes>"
      ]
     },
     "metadata": {
      "needs_background": "light"
     },
     "output_type": "display_data"
    }
   ],
   "source": [
    "plt.plot(tpr_n, 1 / fpr_n, label=\"{0:.1f}\".format(1 / working_point_n))\n",
    "plt.xlabel(\"$\\epsilon_{S}$\")\n",
    "plt.ylabel(\"$1/\\epsilon_{B}$\")\n",
    "plt.xlim(0, 1)\n",
    "plt.yscale(\"log\")\n",
    "plt.legend()\n",
    "plt.show()"
   ]
  },
  {
   "cell_type": "markdown",
   "id": "ca85e7ef-d84c-48e9-b99b-84dade221a47",
   "metadata": {},
   "source": [
    "## Exercises"
   ]
  },
  {
   "cell_type": "markdown",
   "id": "efea2955-3e65-439b-afeb-e9f65967a991",
   "metadata": {},
   "source": [
    "* Add susy dataset and use as exercise!"
   ]
  },
  {
   "cell_type": "code",
   "execution_count": null,
   "id": "0c94153b-af03-4670-9680-744943559a60",
   "metadata": {},
   "outputs": [],
   "source": []
  }
 ],
 "metadata": {
  "kernelspec": {
   "display_name": "Python 3 (ipykernel)",
   "language": "python",
   "name": "python3"
  },
  "language_info": {
   "codemirror_mode": {
    "name": "ipython",
    "version": 3
   },
   "file_extension": ".py",
   "mimetype": "text/x-python",
   "name": "python",
   "nbconvert_exporter": "python",
   "pygments_lexer": "ipython3",
   "version": "3.9.11"
  }
 },
 "nbformat": 4,
 "nbformat_minor": 5
}
