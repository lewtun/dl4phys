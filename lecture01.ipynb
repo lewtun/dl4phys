{
 "cells": [
  {
   "cell_type": "markdown",
   "id": "9e046cf7-e28b-4384-989c-ea8400b58982",
   "metadata": {},
   "source": [
    "# Lesson 1 - Introduction to deep neural networks"
   ]
  },
  {
   "cell_type": "code",
   "execution_count": 1,
   "id": "d07469bf",
   "metadata": {},
   "outputs": [],
   "source": [
    "%load_ext autoreload\n",
    "%autoreload 2"
   ]
  },
  {
   "cell_type": "markdown",
   "id": "6ff2081e-ce52-49f2-b1e0-d76ccab64886",
   "metadata": {},
   "source": [
    "## TODO"
   ]
  },
  {
   "cell_type": "markdown",
   "id": "1c6233fc-0a3e-4bab-b955-e1efb4383c3f",
   "metadata": {},
   "source": [
    "* Put dataset on the Hub with a loading script\n",
    "* Figure out how to load `Dataset` objects in dataloaders\n",
    "* Tidy up, add prose\n",
    "* Add exercises\n",
    "* Push model to Hub? => save for next lecture when we actually train from scratch\n",
    "* Primer on N-subjettiness"
   ]
  },
  {
   "cell_type": "markdown",
   "id": "c8db4ada-8e8c-4c24-9b14-59db681a408c",
   "metadata": {},
   "source": [
    "## Imports"
   ]
  },
  {
   "cell_type": "code",
   "execution_count": 44,
   "id": "872d0a1a-7a3b-4500-a8cf-f5a36216af97",
   "metadata": {},
   "outputs": [],
   "source": [
    "from datasets import load_dataset\n",
    "from sklearn.model_selection import train_test_split\n",
    "from sklearn.metrics import roc_auc_score, roc_curve\n",
    "from fastai.tabular.all import *"
   ]
  },
  {
   "cell_type": "markdown",
   "id": "61eea3a0-aa61-4296-b1c1-96271e768c34",
   "metadata": {},
   "source": [
    "## Load data"
   ]
  },
  {
   "cell_type": "code",
   "execution_count": 3,
   "id": "816c2d42-15e7-49bf-a570-c06c8fafbb90",
   "metadata": {},
   "outputs": [
    {
     "data": {
      "application/vnd.jupyter.widget-view+json": {
       "model_id": "f78998bf853c4555ba1bcbcaffd070de",
       "version_major": 2,
       "version_minor": 0
      },
      "text/plain": [
       "Downloading builder script:   0%|          | 0.00/14.8k [00:00<?, ?B/s]"
      ]
     },
     "metadata": {},
     "output_type": "display_data"
    },
    {
     "name": "stdout",
     "output_type": "stream",
     "text": [
      "Downloading and preparing dataset top_quark_tagging/nsubjettiness to /home/lewis/.cache/huggingface/datasets/lewtun___top_quark_tagging/nsubjettiness/0.0.0/6de286bd1d56b73a8bc020b4a5487e37ff3a690841b71c70989a2cb849848f89...\n"
     ]
    },
    {
     "data": {
      "application/vnd.jupyter.widget-view+json": {
       "model_id": "bb70cada1cc34c78823b4d7a431ba39b",
       "version_major": 2,
       "version_minor": 0
      },
      "text/plain": [
       "Downloading data files:   0%|          | 0/3 [00:00<?, ?it/s]"
      ]
     },
     "metadata": {},
     "output_type": "display_data"
    },
    {
     "data": {
      "application/vnd.jupyter.widget-view+json": {
       "model_id": "7a7f4d87cb674aaa9bd52ac0c0c6cced",
       "version_major": 2,
       "version_minor": 0
      },
      "text/plain": [
       "Downloading data:   0%|          | 0.00/120M [00:00<?, ?B/s]"
      ]
     },
     "metadata": {},
     "output_type": "display_data"
    },
    {
     "data": {
      "application/vnd.jupyter.widget-view+json": {
       "model_id": "b17d49bee9014e3c820cf5d7156f7aac",
       "version_major": 2,
       "version_minor": 0
      },
      "text/plain": [
       "Downloading data:   0%|          | 0.00/42.2M [00:00<?, ?B/s]"
      ]
     },
     "metadata": {},
     "output_type": "display_data"
    },
    {
     "data": {
      "application/vnd.jupyter.widget-view+json": {
       "model_id": "85beffcc448444afa66938e357f35051",
       "version_major": 2,
       "version_minor": 0
      },
      "text/plain": [
       "Downloading data:   0%|          | 0.00/42.3M [00:00<?, ?B/s]"
      ]
     },
     "metadata": {},
     "output_type": "display_data"
    },
    {
     "data": {
      "application/vnd.jupyter.widget-view+json": {
       "model_id": "360d7a70b6754b0182419fb6943d2a7b",
       "version_major": 2,
       "version_minor": 0
      },
      "text/plain": [
       "Extracting data files:   0%|          | 0/3 [00:00<?, ?it/s]"
      ]
     },
     "metadata": {},
     "output_type": "display_data"
    },
    {
     "data": {
      "application/vnd.jupyter.widget-view+json": {
       "model_id": "",
       "version_major": 2,
       "version_minor": 0
      },
      "text/plain": [
       "Generating train split: 0 examples [00:00, ? examples/s]"
      ]
     },
     "metadata": {},
     "output_type": "display_data"
    },
    {
     "name": "stderr",
     "output_type": "stream",
     "text": [
      "Using custom data configuration default-39637b94b6989be7\n"
     ]
    },
    {
     "name": "stdout",
     "output_type": "stream",
     "text": [
      "Downloading and preparing dataset parquet/default to /home/lewis/.cache/huggingface/datasets/parquet/default-39637b94b6989be7/0.0.0/0b6d5799bb726b24ad7fc7be720c170d8e497f575d02d47537de9a5bac074901...\n"
     ]
    },
    {
     "data": {
      "application/vnd.jupyter.widget-view+json": {
       "model_id": "b5df7ce31533486fa4374a85d810d165",
       "version_major": 2,
       "version_minor": 0
      },
      "text/plain": [
       "Downloading data files:   0%|          | 0/1 [00:00<?, ?it/s]"
      ]
     },
     "metadata": {},
     "output_type": "display_data"
    },
    {
     "data": {
      "application/vnd.jupyter.widget-view+json": {
       "model_id": "e3fd81b33da84db7bbcd2e712c6b0942",
       "version_major": 2,
       "version_minor": 0
      },
      "text/plain": [
       "Extracting data files:   0%|          | 0/1 [00:00<?, ?it/s]"
      ]
     },
     "metadata": {},
     "output_type": "display_data"
    },
    {
     "name": "stdout",
     "output_type": "stream",
     "text": [
      "Dataset parquet downloaded and prepared to /home/lewis/.cache/huggingface/datasets/parquet/default-39637b94b6989be7/0.0.0/0b6d5799bb726b24ad7fc7be720c170d8e497f575d02d47537de9a5bac074901. Subsequent calls will reuse this data.\n"
     ]
    },
    {
     "data": {
      "application/vnd.jupyter.widget-view+json": {
       "model_id": "",
       "version_major": 2,
       "version_minor": 0
      },
      "text/plain": [
       "Generating validation split: 0 examples [00:00, ? examples/s]"
      ]
     },
     "metadata": {},
     "output_type": "display_data"
    },
    {
     "name": "stderr",
     "output_type": "stream",
     "text": [
      "Using custom data configuration default-e61835675f94b1e9\n"
     ]
    },
    {
     "name": "stdout",
     "output_type": "stream",
     "text": [
      "Downloading and preparing dataset parquet/default to /home/lewis/.cache/huggingface/datasets/parquet/default-e61835675f94b1e9/0.0.0/0b6d5799bb726b24ad7fc7be720c170d8e497f575d02d47537de9a5bac074901...\n"
     ]
    },
    {
     "data": {
      "application/vnd.jupyter.widget-view+json": {
       "model_id": "fb872970e4354cbd887031a83a933be8",
       "version_major": 2,
       "version_minor": 0
      },
      "text/plain": [
       "Downloading data files:   0%|          | 0/1 [00:00<?, ?it/s]"
      ]
     },
     "metadata": {},
     "output_type": "display_data"
    },
    {
     "data": {
      "application/vnd.jupyter.widget-view+json": {
       "model_id": "3008124012a5413499d699399993d1d5",
       "version_major": 2,
       "version_minor": 0
      },
      "text/plain": [
       "Extracting data files:   0%|          | 0/1 [00:00<?, ?it/s]"
      ]
     },
     "metadata": {},
     "output_type": "display_data"
    },
    {
     "name": "stdout",
     "output_type": "stream",
     "text": [
      "Dataset parquet downloaded and prepared to /home/lewis/.cache/huggingface/datasets/parquet/default-e61835675f94b1e9/0.0.0/0b6d5799bb726b24ad7fc7be720c170d8e497f575d02d47537de9a5bac074901. Subsequent calls will reuse this data.\n"
     ]
    },
    {
     "data": {
      "application/vnd.jupyter.widget-view+json": {
       "model_id": "",
       "version_major": 2,
       "version_minor": 0
      },
      "text/plain": [
       "Generating test split: 0 examples [00:00, ? examples/s]"
      ]
     },
     "metadata": {},
     "output_type": "display_data"
    },
    {
     "name": "stderr",
     "output_type": "stream",
     "text": [
      "Using custom data configuration default-7a2b28b0fd3ee604\n"
     ]
    },
    {
     "name": "stdout",
     "output_type": "stream",
     "text": [
      "Downloading and preparing dataset parquet/default to /home/lewis/.cache/huggingface/datasets/parquet/default-7a2b28b0fd3ee604/0.0.0/0b6d5799bb726b24ad7fc7be720c170d8e497f575d02d47537de9a5bac074901...\n"
     ]
    },
    {
     "data": {
      "application/vnd.jupyter.widget-view+json": {
       "model_id": "2efc251417824e68b9b02441c6b3e6b6",
       "version_major": 2,
       "version_minor": 0
      },
      "text/plain": [
       "Downloading data files:   0%|          | 0/1 [00:00<?, ?it/s]"
      ]
     },
     "metadata": {},
     "output_type": "display_data"
    },
    {
     "data": {
      "application/vnd.jupyter.widget-view+json": {
       "model_id": "a5aea03bf2e7432c9629031b642429f3",
       "version_major": 2,
       "version_minor": 0
      },
      "text/plain": [
       "Extracting data files:   0%|          | 0/1 [00:00<?, ?it/s]"
      ]
     },
     "metadata": {},
     "output_type": "display_data"
    },
    {
     "name": "stdout",
     "output_type": "stream",
     "text": [
      "Dataset parquet downloaded and prepared to /home/lewis/.cache/huggingface/datasets/parquet/default-7a2b28b0fd3ee604/0.0.0/0b6d5799bb726b24ad7fc7be720c170d8e497f575d02d47537de9a5bac074901. Subsequent calls will reuse this data.\n",
      "Dataset top_quark_tagging downloaded and prepared to /home/lewis/.cache/huggingface/datasets/lewtun___top_quark_tagging/nsubjettiness/0.0.0/6de286bd1d56b73a8bc020b4a5487e37ff3a690841b71c70989a2cb849848f89. Subsequent calls will reuse this data.\n"
     ]
    }
   ],
   "source": [
    "nsubj_dset = load_dataset(\"lewtun/top_quark_tagging\", name=\"nsubjettiness\", split=\"train\")"
   ]
  },
  {
   "cell_type": "code",
   "execution_count": 4,
   "id": "e5711d6b-aa08-4509-91a9-7a9ae285e743",
   "metadata": {},
   "outputs": [
    {
     "data": {
      "text/plain": [
       "Dataset({\n",
       "    features: ['tau_1_0.5', 'tau_1_1', 'tau_1_2', 'tau_2_0.5', 'tau_2_1', 'tau_2_2', 'tau_3_0.5', 'tau_3_1', 'tau_3_2', 'tau_4_0.5', 'tau_4_1', 'tau_4_2', 'is_signal_new'],\n",
       "    num_rows: 1211000\n",
       "})"
      ]
     },
     "execution_count": 4,
     "metadata": {},
     "output_type": "execute_result"
    }
   ],
   "source": [
    "nsubj_dset"
   ]
  },
  {
   "cell_type": "code",
   "execution_count": 5,
   "id": "849e070d-f223-4fbb-9dde-8e9f3e8dba17",
   "metadata": {},
   "outputs": [],
   "source": [
    "df = nsubj_dset.to_pandas()"
   ]
  },
  {
   "cell_type": "code",
   "execution_count": 6,
   "id": "40bf3ec7-fb7f-4f99-a963-698df5bf0ba4",
   "metadata": {},
   "outputs": [
    {
     "data": {
      "text/html": [
       "<div>\n",
       "<style scoped>\n",
       "    .dataframe tbody tr th:only-of-type {\n",
       "        vertical-align: middle;\n",
       "    }\n",
       "\n",
       "    .dataframe tbody tr th {\n",
       "        vertical-align: top;\n",
       "    }\n",
       "\n",
       "    .dataframe thead th {\n",
       "        text-align: right;\n",
       "    }\n",
       "</style>\n",
       "<table border=\"1\" class=\"dataframe\">\n",
       "  <thead>\n",
       "    <tr style=\"text-align: right;\">\n",
       "      <th></th>\n",
       "      <th>tau_1_0.5</th>\n",
       "      <th>tau_1_1</th>\n",
       "      <th>tau_1_2</th>\n",
       "      <th>tau_2_0.5</th>\n",
       "      <th>tau_2_1</th>\n",
       "      <th>tau_2_2</th>\n",
       "      <th>tau_3_0.5</th>\n",
       "      <th>tau_3_1</th>\n",
       "      <th>tau_3_2</th>\n",
       "      <th>tau_4_0.5</th>\n",
       "      <th>tau_4_1</th>\n",
       "      <th>tau_4_2</th>\n",
       "      <th>is_signal_new</th>\n",
       "    </tr>\n",
       "  </thead>\n",
       "  <tbody>\n",
       "    <tr>\n",
       "      <th>0</th>\n",
       "      <td>543.633972</td>\n",
       "      <td>0.165122</td>\n",
       "      <td>0.032661</td>\n",
       "      <td>0.002262</td>\n",
       "      <td>0.048830</td>\n",
       "      <td>0.003711</td>\n",
       "      <td>0.000044</td>\n",
       "      <td>0.030994</td>\n",
       "      <td>0.001630</td>\n",
       "      <td>0.000011</td>\n",
       "      <td>0.001115</td>\n",
       "      <td>0.000008</td>\n",
       "      <td>0</td>\n",
       "    </tr>\n",
       "    <tr>\n",
       "      <th>1</th>\n",
       "      <td>452.411865</td>\n",
       "      <td>0.162938</td>\n",
       "      <td>0.027598</td>\n",
       "      <td>0.000876</td>\n",
       "      <td>0.095902</td>\n",
       "      <td>0.015461</td>\n",
       "      <td>0.000506</td>\n",
       "      <td>0.079750</td>\n",
       "      <td>0.009733</td>\n",
       "      <td>0.000163</td>\n",
       "      <td>0.005454</td>\n",
       "      <td>0.000072</td>\n",
       "      <td>0</td>\n",
       "    </tr>\n",
       "    <tr>\n",
       "      <th>2</th>\n",
       "      <td>429.495270</td>\n",
       "      <td>0.244436</td>\n",
       "      <td>0.065901</td>\n",
       "      <td>0.005557</td>\n",
       "      <td>0.155202</td>\n",
       "      <td>0.038807</td>\n",
       "      <td>0.002762</td>\n",
       "      <td>0.123285</td>\n",
       "      <td>0.025339</td>\n",
       "      <td>0.001385</td>\n",
       "      <td>0.012678</td>\n",
       "      <td>0.000567</td>\n",
       "      <td>0</td>\n",
       "    </tr>\n",
       "    <tr>\n",
       "      <th>3</th>\n",
       "      <td>512.675415</td>\n",
       "      <td>0.102580</td>\n",
       "      <td>0.011369</td>\n",
       "      <td>0.000170</td>\n",
       "      <td>0.086306</td>\n",
       "      <td>0.007759</td>\n",
       "      <td>0.000071</td>\n",
       "      <td>0.068169</td>\n",
       "      <td>0.005386</td>\n",
       "      <td>0.000048</td>\n",
       "      <td>0.002376</td>\n",
       "      <td>0.000008</td>\n",
       "      <td>0</td>\n",
       "    </tr>\n",
       "    <tr>\n",
       "      <th>4</th>\n",
       "      <td>527.956848</td>\n",
       "      <td>0.407009</td>\n",
       "      <td>0.191839</td>\n",
       "      <td>0.065169</td>\n",
       "      <td>0.291460</td>\n",
       "      <td>0.105479</td>\n",
       "      <td>0.029753</td>\n",
       "      <td>0.209341</td>\n",
       "      <td>0.049187</td>\n",
       "      <td>0.004359</td>\n",
       "      <td>0.033249</td>\n",
       "      <td>0.003689</td>\n",
       "      <td>0</td>\n",
       "    </tr>\n",
       "  </tbody>\n",
       "</table>\n",
       "</div>"
      ],
      "text/plain": [
       "    tau_1_0.5   tau_1_1   tau_1_2  ...   tau_4_1   tau_4_2  is_signal_new\n",
       "0  543.633972  0.165122  0.032661  ...  0.001115  0.000008              0\n",
       "1  452.411865  0.162938  0.027598  ...  0.005454  0.000072              0\n",
       "2  429.495270  0.244436  0.065901  ...  0.012678  0.000567              0\n",
       "3  512.675415  0.102580  0.011369  ...  0.002376  0.000008              0\n",
       "4  527.956848  0.407009  0.191839  ...  0.033249  0.003689              0\n",
       "\n",
       "[5 rows x 13 columns]"
      ]
     },
     "execution_count": 6,
     "metadata": {},
     "output_type": "execute_result"
    }
   ],
   "source": [
    "df.head()"
   ]
  },
  {
   "cell_type": "code",
   "execution_count": 7,
   "id": "18165974-0b6c-4935-8891-0092acb64de4",
   "metadata": {},
   "outputs": [
    {
     "data": {
      "text/plain": [
       "0    605523\n",
       "1    605477\n",
       "Name: is_signal_new, dtype: int64"
      ]
     },
     "execution_count": 7,
     "metadata": {},
     "output_type": "execute_result"
    }
   ],
   "source": [
    "df[\"is_signal_new\"].value_counts()"
   ]
  },
  {
   "cell_type": "code",
   "execution_count": 23,
   "id": "31d27172-8684-479b-943d-7d7d56f43fd0",
   "metadata": {},
   "outputs": [],
   "source": [
    "train_df, test_df = train_test_split(df)"
   ]
  },
  {
   "cell_type": "code",
   "execution_count": 25,
   "id": "b8e7a7c1-9f46-4ed3-b7f9-b2d4bc3c4e03",
   "metadata": {},
   "outputs": [
    {
     "data": {
      "text/plain": [
       "(908250, 13)"
      ]
     },
     "execution_count": 25,
     "metadata": {},
     "output_type": "execute_result"
    }
   ],
   "source": [
    "train_df.shape"
   ]
  },
  {
   "cell_type": "code",
   "execution_count": 26,
   "id": "a0d0c17b-dbb3-4a12-9896-2d39eaa3284a",
   "metadata": {},
   "outputs": [
    {
     "data": {
      "text/plain": [
       "(302750, 13)"
      ]
     },
     "execution_count": 26,
     "metadata": {},
     "output_type": "execute_result"
    }
   ],
   "source": [
    "test_df.shape"
   ]
  },
  {
   "cell_type": "code",
   "execution_count": 27,
   "id": "0f567c50-c35a-4210-ab4b-d8b20372f4d5",
   "metadata": {},
   "outputs": [],
   "source": [
    "sample_df = train_df.sample(n=100_000, random_state=42)"
   ]
  },
  {
   "cell_type": "code",
   "execution_count": 28,
   "id": "94e5ec64-651c-4c79-97b6-6f2181b22f76",
   "metadata": {},
   "outputs": [
    {
     "data": {
      "text/plain": [
       "1    50185\n",
       "0    49815\n",
       "Name: is_signal_new, dtype: int64"
      ]
     },
     "execution_count": 28,
     "metadata": {},
     "output_type": "execute_result"
    }
   ],
   "source": [
    "sample_df[\"is_signal_new\"].value_counts()"
   ]
  },
  {
   "cell_type": "markdown",
   "id": "21b77e3c-8d7e-496f-a046-4ec59dcdb3b5",
   "metadata": {},
   "source": [
    "## Create data loaders"
   ]
  },
  {
   "cell_type": "code",
   "execution_count": 29,
   "id": "96c0d931-dfd3-4950-b10b-51ac543bc8ee",
   "metadata": {},
   "outputs": [],
   "source": [
    "features = sample_df.columns.drop(\"is_signal_new\")"
   ]
  },
  {
   "cell_type": "code",
   "execution_count": 30,
   "id": "e006bb68-657b-437a-9de4-6a14a20c9f8b",
   "metadata": {},
   "outputs": [],
   "source": [
    "splits = RandomSplitter(valid_pct=0.10)(range_of(df[:85_000]))"
   ]
  },
  {
   "cell_type": "code",
   "execution_count": 31,
   "id": "77c20431-221c-428c-b71d-640607b9eaba",
   "metadata": {},
   "outputs": [
    {
     "data": {
      "text/plain": [
       "((#76500) [34813,14564,65209,49472,69128,46709,57207,73510,15847,32026...],\n",
       " (#8500) [63739,65314,21683,28284,22165,52995,27209,23541,1850,78596...])"
      ]
     },
     "execution_count": 31,
     "metadata": {},
     "output_type": "execute_result"
    }
   ],
   "source": [
    "splits"
   ]
  },
  {
   "cell_type": "code",
   "execution_count": 32,
   "id": "d157d939-d3b8-4d17-98ac-32c44f3bda1e",
   "metadata": {},
   "outputs": [],
   "source": [
    "dls = TabularDataLoaders.from_df(sample_df, y_names=\"is_signal_new\", bs=1000, y_block=CategoryBlock, splits=splits)"
   ]
  },
  {
   "cell_type": "code",
   "execution_count": 33,
   "id": "fd626c14-c752-467e-bcd2-869f1a5bf205",
   "metadata": {},
   "outputs": [
    {
     "data": {
      "text/html": [
       "<table border=\"1\" class=\"dataframe\">\n",
       "  <thead>\n",
       "    <tr style=\"text-align: right;\">\n",
       "      <th></th>\n",
       "      <th>tau_4_2</th>\n",
       "      <th>tau_1_0.5</th>\n",
       "      <th>tau_2_0.5</th>\n",
       "      <th>tau_2_2</th>\n",
       "      <th>tau_2_1</th>\n",
       "      <th>tau_3_2</th>\n",
       "      <th>tau_1_1</th>\n",
       "      <th>tau_1_2</th>\n",
       "      <th>tau_4_1</th>\n",
       "      <th>tau_4_0.5</th>\n",
       "      <th>tau_3_1</th>\n",
       "      <th>tau_3_0.5</th>\n",
       "      <th>is_signal_new</th>\n",
       "    </tr>\n",
       "  </thead>\n",
       "  <tbody>\n",
       "    <tr>\n",
       "      <th>0</th>\n",
       "      <td>0.002777</td>\n",
       "      <td>441.215393</td>\n",
       "      <td>0.074535</td>\n",
       "      <td>0.086947</td>\n",
       "      <td>0.276038</td>\n",
       "      <td>0.044386</td>\n",
       "      <td>0.528368</td>\n",
       "      <td>0.272553</td>\n",
       "      <td>0.030299</td>\n",
       "      <td>0.003536</td>\n",
       "      <td>0.202745</td>\n",
       "      <td>0.013085</td>\n",
       "      <td>1</td>\n",
       "    </tr>\n",
       "    <tr>\n",
       "      <th>1</th>\n",
       "      <td>0.000132</td>\n",
       "      <td>576.360718</td>\n",
       "      <td>0.000601</td>\n",
       "      <td>0.010034</td>\n",
       "      <td>0.078334</td>\n",
       "      <td>0.008359</td>\n",
       "      <td>0.130199</td>\n",
       "      <td>0.019437</td>\n",
       "      <td>0.006016</td>\n",
       "      <td>0.000215</td>\n",
       "      <td>0.070089</td>\n",
       "      <td>0.000278</td>\n",
       "      <td>0</td>\n",
       "    </tr>\n",
       "    <tr>\n",
       "      <th>2</th>\n",
       "      <td>0.005199</td>\n",
       "      <td>384.253113</td>\n",
       "      <td>0.084608</td>\n",
       "      <td>0.126435</td>\n",
       "      <td>0.354513</td>\n",
       "      <td>0.088373</td>\n",
       "      <td>0.532427</td>\n",
       "      <td>0.281507</td>\n",
       "      <td>0.061778</td>\n",
       "      <td>0.010225</td>\n",
       "      <td>0.280693</td>\n",
       "      <td>0.016943</td>\n",
       "      <td>1</td>\n",
       "    </tr>\n",
       "    <tr>\n",
       "      <th>3</th>\n",
       "      <td>0.001447</td>\n",
       "      <td>509.842529</td>\n",
       "      <td>0.049615</td>\n",
       "      <td>0.106640</td>\n",
       "      <td>0.295423</td>\n",
       "      <td>0.033763</td>\n",
       "      <td>0.402925</td>\n",
       "      <td>0.174615</td>\n",
       "      <td>0.026291</td>\n",
       "      <td>0.002476</td>\n",
       "      <td>0.163897</td>\n",
       "      <td>0.025785</td>\n",
       "      <td>1</td>\n",
       "    </tr>\n",
       "    <tr>\n",
       "      <th>4</th>\n",
       "      <td>0.001487</td>\n",
       "      <td>416.946899</td>\n",
       "      <td>0.041824</td>\n",
       "      <td>0.065809</td>\n",
       "      <td>0.225147</td>\n",
       "      <td>0.040160</td>\n",
       "      <td>0.334466</td>\n",
       "      <td>0.138401</td>\n",
       "      <td>0.027568</td>\n",
       "      <td>0.006057</td>\n",
       "      <td>0.160053</td>\n",
       "      <td>0.010943</td>\n",
       "      <td>1</td>\n",
       "    </tr>\n",
       "    <tr>\n",
       "      <th>5</th>\n",
       "      <td>0.000975</td>\n",
       "      <td>479.938293</td>\n",
       "      <td>0.069743</td>\n",
       "      <td>0.071532</td>\n",
       "      <td>0.248328</td>\n",
       "      <td>0.032414</td>\n",
       "      <td>0.508649</td>\n",
       "      <td>0.258250</td>\n",
       "      <td>0.020523</td>\n",
       "      <td>0.001858</td>\n",
       "      <td>0.164908</td>\n",
       "      <td>0.011656</td>\n",
       "      <td>1</td>\n",
       "    </tr>\n",
       "    <tr>\n",
       "      <th>6</th>\n",
       "      <td>0.004175</td>\n",
       "      <td>504.706848</td>\n",
       "      <td>0.027598</td>\n",
       "      <td>0.062499</td>\n",
       "      <td>0.235053</td>\n",
       "      <td>0.044049</td>\n",
       "      <td>0.298077</td>\n",
       "      <td>0.111748</td>\n",
       "      <td>0.028002</td>\n",
       "      <td>0.005130</td>\n",
       "      <td>0.187525</td>\n",
       "      <td>0.007169</td>\n",
       "      <td>0</td>\n",
       "    </tr>\n",
       "    <tr>\n",
       "      <th>7</th>\n",
       "      <td>0.000714</td>\n",
       "      <td>527.025635</td>\n",
       "      <td>0.012327</td>\n",
       "      <td>0.048450</td>\n",
       "      <td>0.216248</td>\n",
       "      <td>0.019981</td>\n",
       "      <td>0.257796</td>\n",
       "      <td>0.078500</td>\n",
       "      <td>0.012484</td>\n",
       "      <td>0.000992</td>\n",
       "      <td>0.111528</td>\n",
       "      <td>0.002733</td>\n",
       "      <td>0</td>\n",
       "    </tr>\n",
       "    <tr>\n",
       "      <th>8</th>\n",
       "      <td>0.007010</td>\n",
       "      <td>469.466553</td>\n",
       "      <td>0.153218</td>\n",
       "      <td>0.125269</td>\n",
       "      <td>0.344477</td>\n",
       "      <td>0.083169</td>\n",
       "      <td>0.632687</td>\n",
       "      <td>0.386468</td>\n",
       "      <td>0.047925</td>\n",
       "      <td>0.013177</td>\n",
       "      <td>0.263503</td>\n",
       "      <td>0.026248</td>\n",
       "      <td>1</td>\n",
       "    </tr>\n",
       "    <tr>\n",
       "      <th>9</th>\n",
       "      <td>0.001172</td>\n",
       "      <td>466.757050</td>\n",
       "      <td>0.053230</td>\n",
       "      <td>0.050794</td>\n",
       "      <td>0.209271</td>\n",
       "      <td>0.032802</td>\n",
       "      <td>0.339307</td>\n",
       "      <td>0.146132</td>\n",
       "      <td>0.020747</td>\n",
       "      <td>0.002579</td>\n",
       "      <td>0.166957</td>\n",
       "      <td>0.004821</td>\n",
       "      <td>1</td>\n",
       "    </tr>\n",
       "  </tbody>\n",
       "</table>"
      ],
      "text/plain": [
       "<IPython.core.display.HTML object>"
      ]
     },
     "metadata": {},
     "output_type": "display_data"
    }
   ],
   "source": [
    "dls.show_batch()"
   ]
  },
  {
   "cell_type": "code",
   "execution_count": 34,
   "id": "f4da7090-0421-4d0b-baec-fdd3166145ce",
   "metadata": {},
   "outputs": [],
   "source": [
    "learn = tabular_learner(dls, layers=[100,100], metrics=[accuracy, RocAucBinary()])"
   ]
  },
  {
   "cell_type": "code",
   "execution_count": 35,
   "id": "e1330aa3-69b5-44be-bf31-d596a870043b",
   "metadata": {},
   "outputs": [
    {
     "data": {
      "text/html": [
       "\n",
       "<style>\n",
       "    /* Turns off some styling */\n",
       "    progress {\n",
       "        /* gets rid of default border in Firefox and Opera. */\n",
       "        border: none;\n",
       "        /* Needs to be in here for Safari polyfill so background images work as expected. */\n",
       "        background-size: auto;\n",
       "    }\n",
       "    .progress-bar-interrupted, .progress-bar-interrupted::-webkit-progress-bar {\n",
       "        background: #F44336;\n",
       "    }\n",
       "</style>\n"
      ],
      "text/plain": [
       "<IPython.core.display.HTML object>"
      ]
     },
     "metadata": {},
     "output_type": "display_data"
    },
    {
     "data": {
      "text/html": [],
      "text/plain": [
       "<IPython.core.display.HTML object>"
      ]
     },
     "metadata": {},
     "output_type": "display_data"
    },
    {
     "data": {
      "text/plain": [
       "TabularModel (Input shape: 1000 x 0)\n",
       "============================================================================\n",
       "Layer (type)         Output Shape         Param #    Trainable \n",
       "============================================================================\n",
       "                     1000 x 12           \n",
       "BatchNorm1d                               24         True      \n",
       "____________________________________________________________________________\n",
       "                     1000 x 100          \n",
       "Linear                                    1200       True      \n",
       "ReLU                                                           \n",
       "BatchNorm1d                               200        True      \n",
       "Linear                                    10000      True      \n",
       "ReLU                                                           \n",
       "BatchNorm1d                               200        True      \n",
       "____________________________________________________________________________\n",
       "                     1000 x 2            \n",
       "Linear                                    202        True      \n",
       "____________________________________________________________________________\n",
       "\n",
       "Total params: 11,826\n",
       "Total trainable params: 11,826\n",
       "Total non-trainable params: 0\n",
       "\n",
       "Optimizer used: <function Adam at 0x7f33636ed9d0>\n",
       "Loss function: FlattenedLoss of CrossEntropyLoss()\n",
       "\n",
       "Callbacks:\n",
       "  - TrainEvalCallback\n",
       "  - Recorder\n",
       "  - ProgressCallback"
      ]
     },
     "execution_count": 35,
     "metadata": {},
     "output_type": "execute_result"
    }
   ],
   "source": [
    "learn.summary()"
   ]
  },
  {
   "cell_type": "code",
   "execution_count": 36,
   "id": "e570ab61-f3da-4198-b768-241b15ed6208",
   "metadata": {},
   "outputs": [
    {
     "data": {
      "text/html": [
       "\n",
       "<style>\n",
       "    /* Turns off some styling */\n",
       "    progress {\n",
       "        /* gets rid of default border in Firefox and Opera. */\n",
       "        border: none;\n",
       "        /* Needs to be in here for Safari polyfill so background images work as expected. */\n",
       "        background-size: auto;\n",
       "    }\n",
       "    .progress-bar-interrupted, .progress-bar-interrupted::-webkit-progress-bar {\n",
       "        background: #F44336;\n",
       "    }\n",
       "</style>\n"
      ],
      "text/plain": [
       "<IPython.core.display.HTML object>"
      ]
     },
     "metadata": {},
     "output_type": "display_data"
    },
    {
     "data": {
      "text/html": [],
      "text/plain": [
       "<IPython.core.display.HTML object>"
      ]
     },
     "metadata": {},
     "output_type": "display_data"
    },
    {
     "data": {
      "text/plain": [
       "SuggestedLRs(valley=0.0014454397605732083)"
      ]
     },
     "execution_count": 36,
     "metadata": {},
     "output_type": "execute_result"
    },
    {
     "data": {
      "image/png": "[encoded data removed]",
      "text/plain": [
       "<Figure size 432x288 with 1 Axes>"
      ]
     },
     "metadata": {
      "needs_background": "light"
     },
     "output_type": "display_data"
    }
   ],
   "source": [
    "learn.lr_find()"
   ]
  },
  {
   "cell_type": "code",
   "execution_count": 37,
   "id": "f0825432-4dfc-4627-aaf8-ec6892a5e61e",
   "metadata": {},
   "outputs": [
    {
     "data": {
      "text/html": [
       "\n",
       "<style>\n",
       "    /* Turns off some styling */\n",
       "    progress {\n",
       "        /* gets rid of default border in Firefox and Opera. */\n",
       "        border: none;\n",
       "        /* Needs to be in here for Safari polyfill so background images work as expected. */\n",
       "        background-size: auto;\n",
       "    }\n",
       "    .progress-bar-interrupted, .progress-bar-interrupted::-webkit-progress-bar {\n",
       "        background: #F44336;\n",
       "    }\n",
       "</style>\n"
      ],
      "text/plain": [
       "<IPython.core.display.HTML object>"
      ]
     },
     "metadata": {},
     "output_type": "display_data"
    },
    {
     "data": {
      "text/html": [
       "<table border=\"1\" class=\"dataframe\">\n",
       "  <thead>\n",
       "    <tr style=\"text-align: left;\">\n",
       "      <th>epoch</th>\n",
       "      <th>train_loss</th>\n",
       "      <th>valid_loss</th>\n",
       "      <th>accuracy</th>\n",
       "      <th>roc_auc_score</th>\n",
       "      <th>time</th>\n",
       "    </tr>\n",
       "  </thead>\n",
       "  <tbody>\n",
       "    <tr>\n",
       "      <td>0</td>\n",
       "      <td>0.355766</td>\n",
       "      <td>0.293832</td>\n",
       "      <td>0.872400</td>\n",
       "      <td>0.944473</td>\n",
       "      <td>00:00</td>\n",
       "    </tr>\n",
       "    <tr>\n",
       "      <td>1</td>\n",
       "      <td>0.302097</td>\n",
       "      <td>0.280379</td>\n",
       "      <td>0.877150</td>\n",
       "      <td>0.950258</td>\n",
       "      <td>00:00</td>\n",
       "    </tr>\n",
       "    <tr>\n",
       "      <td>2</td>\n",
       "      <td>0.285595</td>\n",
       "      <td>0.277358</td>\n",
       "      <td>0.877750</td>\n",
       "      <td>0.951282</td>\n",
       "      <td>00:00</td>\n",
       "    </tr>\n",
       "  </tbody>\n",
       "</table>"
      ],
      "text/plain": [
       "<IPython.core.display.HTML object>"
      ]
     },
     "metadata": {},
     "output_type": "display_data"
    }
   ],
   "source": [
    "learn.fit_one_cycle(3, lr_max=1e-3)"
   ]
  },
  {
   "cell_type": "code",
   "execution_count": 38,
   "id": "9c3559bf-0c47-4e1d-bbba-f11427c4c54d",
   "metadata": {},
   "outputs": [
    {
     "data": {
      "text/html": [
       "\n",
       "<style>\n",
       "    /* Turns off some styling */\n",
       "    progress {\n",
       "        /* gets rid of default border in Firefox and Opera. */\n",
       "        border: none;\n",
       "        /* Needs to be in here for Safari polyfill so background images work as expected. */\n",
       "        background-size: auto;\n",
       "    }\n",
       "    .progress-bar-interrupted, .progress-bar-interrupted::-webkit-progress-bar {\n",
       "        background: #F44336;\n",
       "    }\n",
       "</style>\n"
      ],
      "text/plain": [
       "<IPython.core.display.HTML object>"
      ]
     },
     "metadata": {},
     "output_type": "display_data"
    },
    {
     "data": {
      "text/html": [],
      "text/plain": [
       "<IPython.core.display.HTML object>"
      ]
     },
     "metadata": {},
     "output_type": "display_data"
    },
    {
     "data": {
      "text/html": [
       "<table border=\"1\" class=\"dataframe\">\n",
       "  <thead>\n",
       "    <tr style=\"text-align: right;\">\n",
       "      <th></th>\n",
       "      <th>tau_4_2</th>\n",
       "      <th>tau_1_0.5</th>\n",
       "      <th>tau_2_0.5</th>\n",
       "      <th>tau_2_2</th>\n",
       "      <th>tau_2_1</th>\n",
       "      <th>tau_3_2</th>\n",
       "      <th>tau_1_1</th>\n",
       "      <th>tau_1_2</th>\n",
       "      <th>tau_4_1</th>\n",
       "      <th>tau_4_0.5</th>\n",
       "      <th>tau_3_1</th>\n",
       "      <th>tau_3_0.5</th>\n",
       "      <th>is_signal_new</th>\n",
       "      <th>is_signal_new_pred</th>\n",
       "    </tr>\n",
       "  </thead>\n",
       "  <tbody>\n",
       "    <tr>\n",
       "      <th>0</th>\n",
       "      <td>0.000000</td>\n",
       "      <td>540.477051</td>\n",
       "      <td>0.000302</td>\n",
       "      <td>0.001867</td>\n",
       "      <td>0.027803</td>\n",
       "      <td>0.000659</td>\n",
       "      <td>0.075491</td>\n",
       "      <td>0.007854</td>\n",
       "      <td>0.000000</td>\n",
       "      <td>0.000008</td>\n",
       "      <td>0.019679</td>\n",
       "      <td>0.000034</td>\n",
       "      <td>0.0</td>\n",
       "      <td>0.0</td>\n",
       "    </tr>\n",
       "    <tr>\n",
       "      <th>1</th>\n",
       "      <td>0.003022</td>\n",
       "      <td>496.872711</td>\n",
       "      <td>4.480433</td>\n",
       "      <td>0.072395</td>\n",
       "      <td>0.241002</td>\n",
       "      <td>0.046703</td>\n",
       "      <td>0.714757</td>\n",
       "      <td>0.942276</td>\n",
       "      <td>0.037865</td>\n",
       "      <td>0.003976</td>\n",
       "      <td>0.198403</td>\n",
       "      <td>0.009224</td>\n",
       "      <td>0.0</td>\n",
       "      <td>1.0</td>\n",
       "    </tr>\n",
       "    <tr>\n",
       "      <th>2</th>\n",
       "      <td>0.000003</td>\n",
       "      <td>519.949341</td>\n",
       "      <td>0.000024</td>\n",
       "      <td>0.002448</td>\n",
       "      <td>0.044243</td>\n",
       "      <td>0.001114</td>\n",
       "      <td>0.040280</td>\n",
       "      <td>0.002792</td>\n",
       "      <td>0.000861</td>\n",
       "      <td>0.000004</td>\n",
       "      <td>0.027938</td>\n",
       "      <td>0.000015</td>\n",
       "      <td>0.0</td>\n",
       "      <td>0.0</td>\n",
       "    </tr>\n",
       "    <tr>\n",
       "      <th>3</th>\n",
       "      <td>0.002650</td>\n",
       "      <td>464.712891</td>\n",
       "      <td>0.086075</td>\n",
       "      <td>0.116142</td>\n",
       "      <td>0.332644</td>\n",
       "      <td>0.036104</td>\n",
       "      <td>0.535061</td>\n",
       "      <td>0.283257</td>\n",
       "      <td>0.031346</td>\n",
       "      <td>0.002866</td>\n",
       "      <td>0.178635</td>\n",
       "      <td>0.017234</td>\n",
       "      <td>1.0</td>\n",
       "      <td>1.0</td>\n",
       "    </tr>\n",
       "    <tr>\n",
       "      <th>4</th>\n",
       "      <td>0.000022</td>\n",
       "      <td>525.882263</td>\n",
       "      <td>0.000254</td>\n",
       "      <td>0.006961</td>\n",
       "      <td>0.070747</td>\n",
       "      <td>0.004679</td>\n",
       "      <td>0.082872</td>\n",
       "      <td>0.009469</td>\n",
       "      <td>0.002600</td>\n",
       "      <td>0.000090</td>\n",
       "      <td>0.055170</td>\n",
       "      <td>0.000138</td>\n",
       "      <td>0.0</td>\n",
       "      <td>0.0</td>\n",
       "    </tr>\n",
       "    <tr>\n",
       "      <th>5</th>\n",
       "      <td>0.000189</td>\n",
       "      <td>531.225220</td>\n",
       "      <td>0.002503</td>\n",
       "      <td>0.021948</td>\n",
       "      <td>0.132333</td>\n",
       "      <td>0.012336</td>\n",
       "      <td>0.165050</td>\n",
       "      <td>0.033305</td>\n",
       "      <td>0.005691</td>\n",
       "      <td>0.000444</td>\n",
       "      <td>0.094771</td>\n",
       "      <td>0.001425</td>\n",
       "      <td>0.0</td>\n",
       "      <td>0.0</td>\n",
       "    </tr>\n",
       "    <tr>\n",
       "      <th>6</th>\n",
       "      <td>0.000002</td>\n",
       "      <td>535.681519</td>\n",
       "      <td>0.004411</td>\n",
       "      <td>0.008653</td>\n",
       "      <td>0.077265</td>\n",
       "      <td>0.004027</td>\n",
       "      <td>0.242011</td>\n",
       "      <td>0.061206</td>\n",
       "      <td>0.000767</td>\n",
       "      <td>0.000036</td>\n",
       "      <td>0.043582</td>\n",
       "      <td>0.000111</td>\n",
       "      <td>0.0</td>\n",
       "      <td>0.0</td>\n",
       "    </tr>\n",
       "    <tr>\n",
       "      <th>7</th>\n",
       "      <td>0.001891</td>\n",
       "      <td>468.946167</td>\n",
       "      <td>0.010646</td>\n",
       "      <td>0.065812</td>\n",
       "      <td>0.250716</td>\n",
       "      <td>0.054828</td>\n",
       "      <td>0.289389</td>\n",
       "      <td>0.089976</td>\n",
       "      <td>0.035511</td>\n",
       "      <td>0.003939</td>\n",
       "      <td>0.226285</td>\n",
       "      <td>0.005331</td>\n",
       "      <td>0.0</td>\n",
       "      <td>0.0</td>\n",
       "    </tr>\n",
       "    <tr>\n",
       "      <th>8</th>\n",
       "      <td>0.001709</td>\n",
       "      <td>472.518616</td>\n",
       "      <td>0.075037</td>\n",
       "      <td>0.125395</td>\n",
       "      <td>0.333533</td>\n",
       "      <td>0.031601</td>\n",
       "      <td>0.428955</td>\n",
       "      <td>0.217078</td>\n",
       "      <td>0.024324</td>\n",
       "      <td>0.002482</td>\n",
       "      <td>0.150076</td>\n",
       "      <td>0.024317</td>\n",
       "      <td>1.0</td>\n",
       "      <td>1.0</td>\n",
       "    </tr>\n",
       "  </tbody>\n",
       "</table>"
      ],
      "text/plain": [
       "<IPython.core.display.HTML object>"
      ]
     },
     "metadata": {},
     "output_type": "display_data"
    }
   ],
   "source": [
    "learn.show_results()"
   ]
  },
  {
   "cell_type": "code",
   "execution_count": 39,
   "id": "f7db480a-516f-4fbe-b748-6f83f9a0d00a",
   "metadata": {},
   "outputs": [],
   "source": [
    "test_dl = learn.dls.test_dl(test_df)"
   ]
  },
  {
   "cell_type": "code",
   "execution_count": 40,
   "id": "d7faf926-f254-4236-9b80-13d741195e3e",
   "metadata": {},
   "outputs": [
    {
     "data": {
      "text/html": [
       "\n",
       "<style>\n",
       "    /* Turns off some styling */\n",
       "    progress {\n",
       "        /* gets rid of default border in Firefox and Opera. */\n",
       "        border: none;\n",
       "        /* Needs to be in here for Safari polyfill so background images work as expected. */\n",
       "        background-size: auto;\n",
       "    }\n",
       "    .progress-bar-interrupted, .progress-bar-interrupted::-webkit-progress-bar {\n",
       "        background: #F44336;\n",
       "    }\n",
       "</style>\n"
      ],
      "text/plain": [
       "<IPython.core.display.HTML object>"
      ]
     },
     "metadata": {},
     "output_type": "display_data"
    },
    {
     "data": {
      "text/html": [],
      "text/plain": [
       "<IPython.core.display.HTML object>"
      ]
     },
     "metadata": {},
     "output_type": "display_data"
    }
   ],
   "source": [
    "preds = learn.get_preds(dl=test_dl)"
   ]
  },
  {
   "cell_type": "code",
   "execution_count": 41,
   "id": "ad883d00-b8a3-4923-a9b4-390a3d528c69",
   "metadata": {},
   "outputs": [
    {
     "data": {
      "text/plain": [
       "(tensor([[0.0976, 0.9024],\n",
       "         [0.0847, 0.9153],\n",
       "         [0.3953, 0.6047],\n",
       "         ...,\n",
       "         [0.4001, 0.5999],\n",
       "         [0.9862, 0.0138],\n",
       "         [0.0725, 0.9275]]),\n",
       " tensor([[1],\n",
       "         [0],\n",
       "         [1],\n",
       "         ...,\n",
       "         [0],\n",
       "         [0],\n",
       "         [1]], dtype=torch.int8))"
      ]
     },
     "execution_count": 41,
     "metadata": {},
     "output_type": "execute_result"
    }
   ],
   "source": [
    "preds"
   ]
  },
  {
   "cell_type": "code",
   "execution_count": 42,
   "id": "a7991f51-1d67-459b-a8a1-253b76a070b7",
   "metadata": {},
   "outputs": [
    {
     "data": {
      "text/plain": [
       "tensor([[0.0976, 0.9024],\n",
       "        [0.0847, 0.9153],\n",
       "        [0.3953, 0.6047],\n",
       "        ...,\n",
       "        [0.4001, 0.5999],\n",
       "        [0.9862, 0.0138],\n",
       "        [0.0725, 0.9275]])"
      ]
     },
     "execution_count": 42,
     "metadata": {},
     "output_type": "execute_result"
    }
   ],
   "source": [
    "preds[0]"
   ]
  },
  {
   "cell_type": "code",
   "execution_count": 45,
   "id": "d1c9b089-bf03-4286-b878-30de54d51628",
   "metadata": {},
   "outputs": [],
   "source": [
    "rc = roc_curve(test_df[\"is_signal_new\"], preds[0][:, 1])"
   ]
  },
  {
   "cell_type": "code",
   "execution_count": 46,
   "id": "2aeb4add-2243-436e-9760-5cd46e15c360",
   "metadata": {},
   "outputs": [
    {
     "data": {
      "text/plain": [
       "3"
      ]
     },
     "execution_count": 46,
     "metadata": {},
     "output_type": "execute_result"
    }
   ],
   "source": [
    "len(rc)"
   ]
  },
  {
   "cell_type": "code",
   "execution_count": 47,
   "id": "74b5a55b-bc0c-4af3-9a30-8f90561a8210",
   "metadata": {},
   "outputs": [
    {
     "data": {
      "text/plain": [
       "(61321,)"
      ]
     },
     "execution_count": 47,
     "metadata": {},
     "output_type": "execute_result"
    }
   ],
   "source": [
    "rc[0].shape"
   ]
  },
  {
   "cell_type": "code",
   "execution_count": 48,
   "id": "a9d9f8e5-4035-49d5-9d88-1744b27f53e4",
   "metadata": {},
   "outputs": [
    {
     "data": {
      "text/plain": [
       "(61321,)"
      ]
     },
     "execution_count": 48,
     "metadata": {},
     "output_type": "execute_result"
    }
   ],
   "source": [
    "rc[1].shape"
   ]
  },
  {
   "cell_type": "code",
   "execution_count": 49,
   "id": "79178169-7655-4394-b21d-50aa4133d7f4",
   "metadata": {},
   "outputs": [
    {
     "data": {
      "text/plain": [
       "(61321,)"
      ]
     },
     "execution_count": 49,
     "metadata": {},
     "output_type": "execute_result"
    }
   ],
   "source": [
    "rc[2].shape"
   ]
  },
  {
   "cell_type": "code",
   "execution_count": 50,
   "id": "cadbbae0-af12-4cb3-a3d5-cc89cb63babb",
   "metadata": {},
   "outputs": [
    {
     "data": {
      "text/plain": [
       "(0.0, 1.0)"
      ]
     },
     "execution_count": 50,
     "metadata": {},
     "output_type": "execute_result"
    },
    {
     "data": {
      "image/png": "[encoded data removed]",
      "text/plain": [
       "<Figure size 432x288 with 1 Axes>"
      ]
     },
     "metadata": {
      "needs_background": "light"
     },
     "output_type": "display_data"
    }
   ],
   "source": [
    "plt.plot(rc[1], 1-rc[0], '-')\n",
    "plt.xlim(0, 1)\n",
    "plt.ylim(0, 1)"
   ]
  },
  {
   "cell_type": "markdown",
   "id": "f914755c-f2f3-4708-94df-5d971fc1bdf2",
   "metadata": {},
   "source": [
    "## Try with Tabular model"
   ]
  },
  {
   "cell_type": "code",
   "execution_count": 53,
   "id": "7192ebec-7b93-49f1-8004-c5c8ecc11a54",
   "metadata": {},
   "outputs": [],
   "source": [
    "nsubs=12\n",
    "model = nn.Sequential(nn.Linear(nsubs, 100), nn.ReLU(), nn.Linear(100, 100), nn.ReLU(), nn.Linear(100, 2))"
   ]
  },
  {
   "cell_type": "code",
   "execution_count": 54,
   "id": "e2012fb0-6460-4fa3-9e2e-cea16026527f",
   "metadata": {},
   "outputs": [
    {
     "data": {
      "text/plain": [
       "Sequential(\n",
       "  (0): Linear(in_features=12, out_features=100, bias=True)\n",
       "  (1): ReLU()\n",
       "  (2): Linear(in_features=100, out_features=100, bias=True)\n",
       "  (3): ReLU()\n",
       "  (4): Linear(in_features=100, out_features=2, bias=True)\n",
       ")"
      ]
     },
     "execution_count": 54,
     "metadata": {},
     "output_type": "execute_result"
    }
   ],
   "source": [
    "model.eval()"
   ]
  },
  {
   "cell_type": "code",
   "execution_count": 70,
   "id": "21f87695-3f89-4689-8851-d4099eae841b",
   "metadata": {},
   "outputs": [
    {
     "data": {
      "text/plain": [
       "tensor([4.8312e+02, 3.0377e-01, 1.2350e-01, 4.4046e-02, 2.5815e-01, 8.4568e-02,\n",
       "        2.5386e-02, 1.6574e-01, 3.2938e-02, 1.7562e-03, 2.4802e-02, 1.2312e-03,\n",
       "        1.0000e+00], dtype=torch.float64)"
      ]
     },
     "execution_count": 70,
     "metadata": {},
     "output_type": "execute_result"
    }
   ],
   "source": [
    "torch.from_numpy(np.array(inputs))"
   ]
  },
  {
   "cell_type": "code",
   "execution_count": 73,
   "id": "ba393fa3-a806-4dc1-9de1-25cc5dbb2749",
   "metadata": {},
   "outputs": [
    {
     "data": {
      "text/plain": [
       "tensor([4.8312e+02, 3.0377e-01, 1.2350e-01, 4.4046e-02, 2.5815e-01, 8.4568e-02,\n",
       "        2.5386e-02, 1.6574e-01, 3.2938e-02, 1.7562e-03, 2.4802e-02, 1.2312e-03],\n",
       "       dtype=torch.float64)"
      ]
     },
     "execution_count": 73,
     "metadata": {},
     "output_type": "execute_result"
    }
   ],
   "source": [
    "inputs"
   ]
  },
  {
   "cell_type": "code",
   "execution_count": 74,
   "id": "e7f782ca-e535-49c7-876c-3593ad4c62bd",
   "metadata": {},
   "outputs": [
    {
     "data": {
      "text/plain": [
       "tensor([-18.8246,  -4.6523], grad_fn=<AddBackward0>)"
      ]
     },
     "execution_count": 74,
     "metadata": {},
     "output_type": "execute_result"
    }
   ],
   "source": [
    "inputs = train_df.iloc[0, :-1]\n",
    "inputs = torch.from_numpy(np.array(inputs)).float()\n",
    "model.forward(inputs)"
   ]
  },
  {
   "cell_type": "code",
   "execution_count": 80,
   "id": "ed12f013-06a6-42ec-9d49-f2a6cc285012",
   "metadata": {},
   "outputs": [
    {
     "data": {
      "text/plain": [
       "TabularModel(\n",
       "  (embeds): ModuleList()\n",
       "  (emb_drop): Dropout(p=0.0, inplace=False)\n",
       "  (bn_cont): BatchNorm1d(12, eps=1e-05, momentum=0.1, affine=True, track_running_stats=True)\n",
       "  (layers): Sequential(\n",
       "    (0): LinBnDrop(\n",
       "      (0): Linear(in_features=12, out_features=100, bias=False)\n",
       "      (1): ReLU(inplace=True)\n",
       "      (2): BatchNorm1d(100, eps=1e-05, momentum=0.1, affine=True, track_running_stats=True)\n",
       "    )\n",
       "    (1): LinBnDrop(\n",
       "      (0): Linear(in_features=100, out_features=100, bias=False)\n",
       "      (1): ReLU(inplace=True)\n",
       "      (2): BatchNorm1d(100, eps=1e-05, momentum=0.1, affine=True, track_running_stats=True)\n",
       "    )\n",
       "    (2): LinBnDrop(\n",
       "      (0): Linear(in_features=100, out_features=2, bias=True)\n",
       "    )\n",
       "  )\n",
       ")"
      ]
     },
     "execution_count": 80,
     "metadata": {},
     "output_type": "execute_result"
    }
   ],
   "source": [
    "learn.model"
   ]
  },
  {
   "cell_type": "code",
   "execution_count": 82,
   "id": "65da0287-2bcd-4098-aae3-0eaf5a9e9f3c",
   "metadata": {},
   "outputs": [
    {
     "data": {
      "text/plain": [
       "12"
      ]
     },
     "execution_count": 82,
     "metadata": {},
     "output_type": "execute_result"
    }
   ],
   "source": [
    "learn.model.n_cont"
   ]
  },
  {
   "cell_type": "code",
   "execution_count": 90,
   "id": "eb8e8488-f540-442e-abbb-551a38da7f95",
   "metadata": {},
   "outputs": [],
   "source": [
    "emb_szs = []\n",
    "m = TabularModel(emb_szs, n_cont=12, out_sz=2, layers=[100,100]).eval()"
   ]
  },
  {
   "cell_type": "code",
   "execution_count": 98,
   "id": "7fa062ce-a0a1-4f64-ac4f-3807c702672e",
   "metadata": {},
   "outputs": [
    {
     "data": {
      "text/plain": [
       "torch.Size([12])"
      ]
     },
     "execution_count": 98,
     "metadata": {},
     "output_type": "execute_result"
    }
   ],
   "source": [
    "inputs.shape"
   ]
  },
  {
   "cell_type": "code",
   "execution_count": 101,
   "id": "a274d8e8-8c14-43ea-ac3e-2c5ca77d7ed2",
   "metadata": {},
   "outputs": [
    {
     "data": {
      "text/plain": [
       "1"
      ]
     },
     "execution_count": 101,
     "metadata": {},
     "output_type": "execute_result"
    }
   ],
   "source": [
    "inputs.dim()"
   ]
  },
  {
   "cell_type": "code",
   "execution_count": 89,
   "id": "04a839ee-b230-4f04-9a12-95e2c3edaefa",
   "metadata": {},
   "outputs": [],
   "source": [
    "tab_learn = TabularLearner(dls, m, metrics=[accuracy, RocAucBinary()])"
   ]
  },
  {
   "cell_type": "code",
   "execution_count": 93,
   "id": "44d813d5-cfa4-42a4-9a95-cef5b81c9692",
   "metadata": {},
   "outputs": [
    {
     "data": {
      "text/html": [
       "\n",
       "<style>\n",
       "    /* Turns off some styling */\n",
       "    progress {\n",
       "        /* gets rid of default border in Firefox and Opera. */\n",
       "        border: none;\n",
       "        /* Needs to be in here for Safari polyfill so background images work as expected. */\n",
       "        background-size: auto;\n",
       "    }\n",
       "    .progress-bar-interrupted, .progress-bar-interrupted::-webkit-progress-bar {\n",
       "        background: #F44336;\n",
       "    }\n",
       "</style>\n"
      ],
      "text/plain": [
       "<IPython.core.display.HTML object>"
      ]
     },
     "metadata": {},
     "output_type": "display_data"
    },
    {
     "data": {
      "text/html": [],
      "text/plain": [
       "<IPython.core.display.HTML object>"
      ]
     },
     "metadata": {},
     "output_type": "display_data"
    },
    {
     "data": {
      "text/plain": [
       "SuggestedLRs(valley=0.0012022644514217973)"
      ]
     },
     "execution_count": 93,
     "metadata": {},
     "output_type": "execute_result"
    },
    {
     "data": {
      "image/png": "[encoded data removed]",
      "text/plain": [
       "<Figure size 432x288 with 1 Axes>"
      ]
     },
     "metadata": {
      "needs_background": "light"
     },
     "output_type": "display_data"
    }
   ],
   "source": [
    "tab_learn.lr_find()"
   ]
  },
  {
   "cell_type": "code",
   "execution_count": 94,
   "id": "2f28b232-09a5-4978-af98-660f1bccf1d3",
   "metadata": {},
   "outputs": [
    {
     "data": {
      "text/html": [
       "\n",
       "<style>\n",
       "    /* Turns off some styling */\n",
       "    progress {\n",
       "        /* gets rid of default border in Firefox and Opera. */\n",
       "        border: none;\n",
       "        /* Needs to be in here for Safari polyfill so background images work as expected. */\n",
       "        background-size: auto;\n",
       "    }\n",
       "    .progress-bar-interrupted, .progress-bar-interrupted::-webkit-progress-bar {\n",
       "        background: #F44336;\n",
       "    }\n",
       "</style>\n"
      ],
      "text/plain": [
       "<IPython.core.display.HTML object>"
      ]
     },
     "metadata": {},
     "output_type": "display_data"
    },
    {
     "data": {
      "text/html": [
       "<table border=\"1\" class=\"dataframe\">\n",
       "  <thead>\n",
       "    <tr style=\"text-align: left;\">\n",
       "      <th>epoch</th>\n",
       "      <th>train_loss</th>\n",
       "      <th>valid_loss</th>\n",
       "      <th>accuracy</th>\n",
       "      <th>roc_auc_score</th>\n",
       "      <th>time</th>\n",
       "    </tr>\n",
       "  </thead>\n",
       "  <tbody>\n",
       "    <tr>\n",
       "      <td>0</td>\n",
       "      <td>0.388897</td>\n",
       "      <td>0.293609</td>\n",
       "      <td>0.872350</td>\n",
       "      <td>0.944520</td>\n",
       "      <td>00:00</td>\n",
       "    </tr>\n",
       "    <tr>\n",
       "      <td>1</td>\n",
       "      <td>0.307618</td>\n",
       "      <td>0.281418</td>\n",
       "      <td>0.877400</td>\n",
       "      <td>0.949350</td>\n",
       "      <td>00:00</td>\n",
       "    </tr>\n",
       "    <tr>\n",
       "      <td>2</td>\n",
       "      <td>0.289134</td>\n",
       "      <td>0.279580</td>\n",
       "      <td>0.878250</td>\n",
       "      <td>0.949996</td>\n",
       "      <td>00:00</td>\n",
       "    </tr>\n",
       "  </tbody>\n",
       "</table>"
      ],
      "text/plain": [
       "<IPython.core.display.HTML object>"
      ]
     },
     "metadata": {},
     "output_type": "display_data"
    }
   ],
   "source": [
    "tab_learn.fit_one_cycle(3, lr_max=1e-3)"
   ]
  },
  {
   "cell_type": "markdown",
   "id": "721d9a97-40b0-4408-91c4-a5d0fe11faca",
   "metadata": {},
   "source": [
    "## Down to here"
   ]
  },
  {
   "cell_type": "markdown",
   "id": "3f46888d",
   "metadata": {},
   "source": [
    "## Imports"
   ]
  },
  {
   "cell_type": "code",
   "execution_count": null,
   "id": "3694579d",
   "metadata": {},
   "outputs": [],
   "source": [
    "import numpy as np\n",
    "import pandas as pd\n",
    "from datasets import Dataset\n",
    "from pytorch_lightning import LightningModule, Trainer\n",
    "import torch\n",
    "from torch.utils.data import DataLoader, TensorDataset\n",
    "import torch.nn.functional as F\n",
    "import torch.nn as nn\n",
    "import torchmetrics\n",
    "from sklearn.metrics import roc_auc_score, roc_curve\n",
    "import matplotlib.pyplot as plt\n",
    "from huggingface_hub import PyTorchModelHubMixin"
   ]
  },
  {
   "cell_type": "markdown",
   "id": "360f069d",
   "metadata": {},
   "source": [
    "## Load data"
   ]
  },
  {
   "cell_type": "code",
   "execution_count": null,
   "id": "5680b9a5",
   "metadata": {},
   "outputs": [],
   "source": [
    "EVENTS_PATH = \"data/QG_nsubs.npz?dl=1\"\n",
    "\n",
    "with np.load(EVENTS_PATH) as f:\n",
    "    X, y = f['X'], f['y']"
   ]
  },
  {
   "cell_type": "code",
   "execution_count": null,
   "id": "a18f838b",
   "metadata": {},
   "outputs": [
    {
     "data": {
      "text/plain": [
       "((100000, 45), (100000,))"
      ]
     },
     "execution_count": null,
     "metadata": {},
     "output_type": "execute_result"
    }
   ],
   "source": [
    "X.shape, y.shape"
   ]
  },
  {
   "cell_type": "code",
   "execution_count": null,
   "id": "e1d13bec",
   "metadata": {},
   "outputs": [],
   "source": [
    "data = {f\"feature_{idx}\":X[:, idx] for idx in range(45)}"
   ]
  },
  {
   "cell_type": "code",
   "execution_count": null,
   "id": "c49662be",
   "metadata": {},
   "outputs": [],
   "source": [
    "data[\"label\"] = y"
   ]
  },
  {
   "cell_type": "code",
   "execution_count": null,
   "id": "47b34a41",
   "metadata": {},
   "outputs": [
    {
     "data": {
      "text/html": [
       "<div>\n",
       "<style scoped>\n",
       "    .dataframe tbody tr th:only-of-type {\n",
       "        vertical-align: middle;\n",
       "    }\n",
       "\n",
       "    .dataframe tbody tr th {\n",
       "        vertical-align: top;\n",
       "    }\n",
       "\n",
       "    .dataframe thead th {\n",
       "        text-align: right;\n",
       "    }\n",
       "</style>\n",
       "<table border=\"1\" class=\"dataframe\">\n",
       "  <thead>\n",
       "    <tr style=\"text-align: right;\">\n",
       "      <th></th>\n",
       "      <th>feature_0</th>\n",
       "      <th>feature_1</th>\n",
       "      <th>feature_2</th>\n",
       "      <th>feature_3</th>\n",
       "      <th>feature_4</th>\n",
       "      <th>feature_5</th>\n",
       "      <th>feature_6</th>\n",
       "      <th>feature_7</th>\n",
       "      <th>feature_8</th>\n",
       "      <th>feature_9</th>\n",
       "      <th>...</th>\n",
       "      <th>feature_36</th>\n",
       "      <th>feature_37</th>\n",
       "      <th>feature_38</th>\n",
       "      <th>feature_39</th>\n",
       "      <th>feature_40</th>\n",
       "      <th>feature_41</th>\n",
       "      <th>feature_42</th>\n",
       "      <th>feature_43</th>\n",
       "      <th>feature_44</th>\n",
       "      <th>label</th>\n",
       "    </tr>\n",
       "  </thead>\n",
       "  <tbody>\n",
       "    <tr>\n",
       "      <th>0</th>\n",
       "      <td>0.582885</td>\n",
       "      <td>0.359834</td>\n",
       "      <td>0.159466</td>\n",
       "      <td>0.286434</td>\n",
       "      <td>0.109313</td>\n",
       "      <td>0.031360</td>\n",
       "      <td>0.291994</td>\n",
       "      <td>0.104627</td>\n",
       "      <td>0.025298</td>\n",
       "      <td>0.269625</td>\n",
       "      <td>...</td>\n",
       "      <td>0.191827</td>\n",
       "      <td>0.045562</td>\n",
       "      <td>0.004745</td>\n",
       "      <td>0.183424</td>\n",
       "      <td>0.042593</td>\n",
       "      <td>0.004490</td>\n",
       "      <td>0.174668</td>\n",
       "      <td>0.039015</td>\n",
       "      <td>0.004060</td>\n",
       "      <td>0.0</td>\n",
       "    </tr>\n",
       "    <tr>\n",
       "      <th>1</th>\n",
       "      <td>0.260756</td>\n",
       "      <td>0.084642</td>\n",
       "      <td>0.019812</td>\n",
       "      <td>0.240676</td>\n",
       "      <td>0.073122</td>\n",
       "      <td>0.015786</td>\n",
       "      <td>0.225725</td>\n",
       "      <td>0.063897</td>\n",
       "      <td>0.012387</td>\n",
       "      <td>0.215447</td>\n",
       "      <td>...</td>\n",
       "      <td>0.126111</td>\n",
       "      <td>0.021134</td>\n",
       "      <td>0.002316</td>\n",
       "      <td>0.122458</td>\n",
       "      <td>0.018581</td>\n",
       "      <td>0.001079</td>\n",
       "      <td>0.117416</td>\n",
       "      <td>0.017345</td>\n",
       "      <td>0.000992</td>\n",
       "      <td>0.0</td>\n",
       "    </tr>\n",
       "    <tr>\n",
       "      <th>2</th>\n",
       "      <td>0.564012</td>\n",
       "      <td>0.330684</td>\n",
       "      <td>0.127177</td>\n",
       "      <td>0.292710</td>\n",
       "      <td>0.110119</td>\n",
       "      <td>0.024787</td>\n",
       "      <td>0.258846</td>\n",
       "      <td>0.086578</td>\n",
       "      <td>0.017215</td>\n",
       "      <td>0.240176</td>\n",
       "      <td>...</td>\n",
       "      <td>0.150572</td>\n",
       "      <td>0.034919</td>\n",
       "      <td>0.003328</td>\n",
       "      <td>0.147431</td>\n",
       "      <td>0.032971</td>\n",
       "      <td>0.003017</td>\n",
       "      <td>0.143079</td>\n",
       "      <td>0.031147</td>\n",
       "      <td>0.002829</td>\n",
       "      <td>0.0</td>\n",
       "    </tr>\n",
       "    <tr>\n",
       "      <th>3</th>\n",
       "      <td>0.395935</td>\n",
       "      <td>0.170801</td>\n",
       "      <td>0.042085</td>\n",
       "      <td>0.344588</td>\n",
       "      <td>0.130606</td>\n",
       "      <td>0.026208</td>\n",
       "      <td>0.271026</td>\n",
       "      <td>0.090233</td>\n",
       "      <td>0.017891</td>\n",
       "      <td>0.243731</td>\n",
       "      <td>...</td>\n",
       "      <td>0.164546</td>\n",
       "      <td>0.034850</td>\n",
       "      <td>0.004036</td>\n",
       "      <td>0.151774</td>\n",
       "      <td>0.029703</td>\n",
       "      <td>0.002897</td>\n",
       "      <td>0.149630</td>\n",
       "      <td>0.028986</td>\n",
       "      <td>0.002850</td>\n",
       "      <td>0.0</td>\n",
       "    </tr>\n",
       "    <tr>\n",
       "      <th>4</th>\n",
       "      <td>0.196304</td>\n",
       "      <td>0.051556</td>\n",
       "      <td>0.011701</td>\n",
       "      <td>0.192528</td>\n",
       "      <td>0.048644</td>\n",
       "      <td>0.010743</td>\n",
       "      <td>0.178389</td>\n",
       "      <td>0.043404</td>\n",
       "      <td>0.009060</td>\n",
       "      <td>0.172218</td>\n",
       "      <td>...</td>\n",
       "      <td>0.084400</td>\n",
       "      <td>0.012952</td>\n",
       "      <td>0.001005</td>\n",
       "      <td>0.078391</td>\n",
       "      <td>0.011012</td>\n",
       "      <td>0.000815</td>\n",
       "      <td>0.076849</td>\n",
       "      <td>0.010029</td>\n",
       "      <td>0.000572</td>\n",
       "      <td>0.0</td>\n",
       "    </tr>\n",
       "  </tbody>\n",
       "</table>\n",
       "<p>5 rows × 46 columns</p>\n",
       "</div>"
      ],
      "text/plain": [
       "   feature_0  feature_1  feature_2  feature_3  feature_4  feature_5  \\\n",
       "0   0.582885   0.359834   0.159466   0.286434   0.109313   0.031360   \n",
       "1   0.260756   0.084642   0.019812   0.240676   0.073122   0.015786   \n",
       "2   0.564012   0.330684   0.127177   0.292710   0.110119   0.024787   \n",
       "3   0.395935   0.170801   0.042085   0.344588   0.130606   0.026208   \n",
       "4   0.196304   0.051556   0.011701   0.192528   0.048644   0.010743   \n",
       "\n",
       "   feature_6  feature_7  feature_8  feature_9  ...  feature_36  feature_37  \\\n",
       "0   0.291994   0.104627   0.025298   0.269625  ...    0.191827    0.045562   \n",
       "1   0.225725   0.063897   0.012387   0.215447  ...    0.126111    0.021134   \n",
       "2   0.258846   0.086578   0.017215   0.240176  ...    0.150572    0.034919   \n",
       "3   0.271026   0.090233   0.017891   0.243731  ...    0.164546    0.034850   \n",
       "4   0.178389   0.043404   0.009060   0.172218  ...    0.084400    0.012952   \n",
       "\n",
       "   feature_38  feature_39  feature_40  feature_41  feature_42  feature_43  \\\n",
       "0    0.004745    0.183424    0.042593    0.004490    0.174668    0.039015   \n",
       "1    0.002316    0.122458    0.018581    0.001079    0.117416    0.017345   \n",
       "2    0.003328    0.147431    0.032971    0.003017    0.143079    0.031147   \n",
       "3    0.004036    0.151774    0.029703    0.002897    0.149630    0.028986   \n",
       "4    0.001005    0.078391    0.011012    0.000815    0.076849    0.010029   \n",
       "\n",
       "   feature_44  label  \n",
       "0    0.004060    0.0  \n",
       "1    0.000992    0.0  \n",
       "2    0.002829    0.0  \n",
       "3    0.002850    0.0  \n",
       "4    0.000572    0.0  \n",
       "\n",
       "[5 rows x 46 columns]"
      ]
     },
     "execution_count": null,
     "metadata": {},
     "output_type": "execute_result"
    }
   ],
   "source": [
    "df = pd.DataFrame(data)\n",
    "df.head()"
   ]
  },
  {
   "cell_type": "code",
   "execution_count": null,
   "id": "35927298",
   "metadata": {},
   "outputs": [
    {
     "data": {
      "text/plain": [
       "Dataset({\n",
       "    features: ['feature_0', 'feature_1', 'feature_2', 'feature_3', 'feature_4', 'feature_5', 'feature_6', 'feature_7', 'feature_8', 'feature_9', 'feature_10', 'feature_11', 'feature_12', 'feature_13', 'feature_14', 'feature_15', 'feature_16', 'feature_17', 'feature_18', 'feature_19', 'feature_20', 'feature_21', 'feature_22', 'feature_23', 'feature_24', 'feature_25', 'feature_26', 'feature_27', 'feature_28', 'feature_29', 'feature_30', 'feature_31', 'feature_32', 'feature_33', 'feature_34', 'feature_35', 'feature_36', 'feature_37', 'feature_38', 'feature_39', 'feature_40', 'feature_41', 'feature_42', 'feature_43', 'feature_44', 'label'],\n",
       "    num_rows: 100000\n",
       "})"
      ]
     },
     "execution_count": null,
     "metadata": {},
     "output_type": "execute_result"
    }
   ],
   "source": [
    "# Can't use categorical\n",
    "dset = Dataset.from_pandas(df)\n",
    "dset"
   ]
  },
  {
   "cell_type": "code",
   "execution_count": null,
   "id": "0527c105",
   "metadata": {},
   "outputs": [
    {
     "data": {
      "text/plain": [
       "(100000, 45)"
      ]
     },
     "execution_count": null,
     "metadata": {},
     "output_type": "execute_result"
    }
   ],
   "source": [
    "X.shape"
   ]
  },
  {
   "cell_type": "code",
   "execution_count": null,
   "id": "d520460d",
   "metadata": {},
   "outputs": [
    {
     "data": {
      "text/plain": [
       "(100000,)"
      ]
     },
     "execution_count": null,
     "metadata": {},
     "output_type": "execute_result"
    }
   ],
   "source": [
    "y.shape"
   ]
  },
  {
   "cell_type": "code",
   "execution_count": null,
   "id": "b3423f83",
   "metadata": {},
   "outputs": [],
   "source": [
    "X = torch.from_numpy(X).float()\n",
    "y = torch.from_numpy(y).long()"
   ]
  },
  {
   "cell_type": "code",
   "execution_count": null,
   "id": "3bd07645-6f68-4f81-bd06-f3e6a56f098d",
   "metadata": {},
   "outputs": [],
   "source": [
    "num_nsubs = 1\n",
    "X = X[:, :num_nsubs]"
   ]
  },
  {
   "cell_type": "code",
   "execution_count": null,
   "id": "e8707711-bd1b-4162-8bbd-301de9a363aa",
   "metadata": {},
   "outputs": [],
   "source": [
    "X_train, X_val, X_test = X[:75_000], X[75_000:85_000], X[85_000:]\n",
    "y_train, y_val, y_test = y[:75_000], y[75_000:85_000], y[85_000:]"
   ]
  },
  {
   "cell_type": "code",
   "execution_count": null,
   "id": "2525451a",
   "metadata": {},
   "outputs": [],
   "source": [
    "train_ds = TensorDataset(X_train, y_train)\n",
    "val_ds = TensorDataset(X_val, y_val)\n",
    "test_ds = TensorDataset(X_test, y_test)"
   ]
  },
  {
   "cell_type": "code",
   "execution_count": null,
   "id": "43e682e0",
   "metadata": {},
   "outputs": [],
   "source": [
    "train_dl = DataLoader(train_ds, batch_size=100, shuffle=True)\n",
    "val_dl = DataLoader(val_ds, batch_size=100)\n",
    "test_dl = DataLoader(test_ds, batch_size=100)"
   ]
  },
  {
   "cell_type": "markdown",
   "id": "8a8b5ca2",
   "metadata": {},
   "source": [
    "## Define model"
   ]
  },
  {
   "cell_type": "code",
   "execution_count": null,
   "id": "94bff9e5",
   "metadata": {},
   "outputs": [],
   "source": [
    "class DNNModel(LightningModule):\n",
    "    def __init__(self, nsubs = 45):\n",
    "        super().__init__()\n",
    "        self.nsubs = nsubs\n",
    "        self.accuracy = torchmetrics.Accuracy()\n",
    "        self.roc_auc = torchmetrics.AUROC(num_classes=2)\n",
    "        self.layers = nn.Sequential(nn.Linear(self.nsubs, 100), nn.ReLU(), nn.Linear(100, 100), nn.ReLU(), nn.Linear(100, 2))\n",
    "\n",
    "    def forward(self, batch):\n",
    "        x, y = batch\n",
    "        x = self.layers(x.view(x.size(0), -1))\n",
    "        return F.log_softmax(x, dim=1)\n",
    "\n",
    "    def training_step(self, batch, batch_idx):\n",
    "        x, y = batch\n",
    "        loss = F.cross_entropy(self(x), y)\n",
    "        self.log(\"train_loss\", loss, on_epoch=True, prog_bar=True)\n",
    "        return loss\n",
    "    \n",
    "    def validation_step(self, batch, batch_idx):\n",
    "        x, y = batch\n",
    "        y_hat = self(x)\n",
    "        val_loss = F.cross_entropy(y_hat, y)\n",
    "        self.accuracy(y_hat, y)\n",
    "        self.roc_auc(y_hat, y)\n",
    "        self.log(\"val_accuracy\", self.accuracy, on_epoch=True, prog_bar=True)\n",
    "        self.log(\"val_roc_auc\", self.roc_auc, on_epoch=True, )\n",
    "        self.log(\"val_loss\", val_loss, on_epoch=True,)\n",
    "        \n",
    "    def test_step(self, batch, batch_idx):\n",
    "        x, y = batch\n",
    "        y_hat = self(x)\n",
    "        val_loss = F.cross_entropy(y_hat, y)\n",
    "        self.accuracy(y_hat, y)\n",
    "        self.roc_auc(y_hat, y)\n",
    "        self.log(\"test_accuracy\", self.accuracy, on_epoch=True, prog_bar=True)\n",
    "        self.log(\"test_roc_auc\", self.roc_auc, on_epoch=True, )\n",
    "        self.log(\"test_loss\", val_loss, on_epoch=True,)\n",
    "\n",
    "\n",
    "    def configure_optimizers(self):\n",
    "        return torch.optim.Adam(self.parameters(), lr=0.02)\n",
    "    \n",
    "    def train_dataloader(self):\n",
    "        return train_dl\n",
    "\n",
    "    def val_dataloader(self):\n",
    "        return valid_dl\n",
    "\n",
    "    def test_dataloader(self):\n",
    "        return test_dl"
   ]
  },
  {
   "cell_type": "code",
   "execution_count": null,
   "id": "2584175c-7f2a-4832-bd65-bd03e5852097",
   "metadata": {},
   "outputs": [],
   "source": [
    "batch = next(iter(test_dl))"
   ]
  },
  {
   "cell_type": "code",
   "execution_count": null,
   "id": "71bde0a0",
   "metadata": {},
   "outputs": [
    {
     "name": "stderr",
     "output_type": "stream",
     "text": [
      "/opt/conda/envs/dl4phys/lib/python3.9/site-packages/torchmetrics/utilities/prints.py:36: UserWarning: Metric `AUROC` will save all targets and predictions in buffer. For large datasets this may lead to large memory footprint.\n",
      "  warnings.warn(*args, **kwargs)\n"
     ]
    }
   ],
   "source": [
    "model = DNNModel(nsubs=1)"
   ]
  },
  {
   "cell_type": "code",
   "execution_count": null,
   "id": "0670e145-7ffb-4da3-99d0-64079aed8eb3",
   "metadata": {},
   "outputs": [
    {
     "data": {
      "text/plain": [
       "torch.Size([100, 2])"
      ]
     },
     "execution_count": null,
     "metadata": {},
     "output_type": "execute_result"
    }
   ],
   "source": [
    "model(batch).shape"
   ]
  },
  {
   "cell_type": "code",
   "execution_count": null,
   "id": "23cc5bab",
   "metadata": {},
   "outputs": [
    {
     "name": "stderr",
     "output_type": "stream",
     "text": [
      "/opt/conda/envs/dl4phys/lib/python3.9/site-packages/pytorch_lightning/utilities/model_summary.py:471: LightningDeprecationWarning: Argument `mode` in `LightningModule.summarize` is deprecated in v1.4 and will be removed in v1.6. Use `max_depth=1` to replicate `mode=top` behavior.\n",
      "  rank_zero_deprecation(\n"
     ]
    },
    {
     "data": {
      "text/plain": [
       "  | Name     | Type       | Params\n",
       "----------------------------------------\n",
       "0 | accuracy | Accuracy   | 0     \n",
       "1 | roc_auc  | AUROC      | 0     \n",
       "2 | layers   | Sequential | 10.5 K\n",
       "----------------------------------------\n",
       "10.5 K    Trainable params\n",
       "0         Non-trainable params\n",
       "10.5 K    Total params\n",
       "0.042     Total estimated model params size (MB)"
      ]
     },
     "execution_count": null,
     "metadata": {},
     "output_type": "execute_result"
    }
   ],
   "source": [
    "model.summarize()"
   ]
  },
  {
   "cell_type": "code",
   "execution_count": null,
   "id": "71f77252",
   "metadata": {},
   "outputs": [
    {
     "name": "stderr",
     "output_type": "stream",
     "text": [
      "GPU available: True, used: True\n",
      "TPU available: False, using: 0 TPU cores\n",
      "IPU available: False, using: 0 IPUs\n"
     ]
    }
   ],
   "source": [
    "trainer = Trainer(\n",
    "    gpus=1,\n",
    "    max_epochs=10,\n",
    "    # auto_lr_find=True\n",
    "    # progress_bar_refresh_rate=100,\n",
    ")"
   ]
  },
  {
   "cell_type": "code",
   "execution_count": null,
   "id": "50b43932",
   "metadata": {},
   "outputs": [
    {
     "name": "stderr",
     "output_type": "stream",
     "text": [
      "/opt/conda/envs/dl4phys/lib/python3.9/site-packages/pytorch_lightning/trainer/trainer.py:735: LightningDeprecationWarning: `trainer.fit(train_dataloader)` is deprecated in v1.4 and will be removed in v1.6. Use `trainer.fit(train_dataloaders)` instead. HINT: added 's'\n",
      "  rank_zero_deprecation(\n",
      "LOCAL_RANK: 0 - CUDA_VISIBLE_DEVICES: [0]\n",
      "\n",
      "  | Name     | Type       | Params\n",
      "----------------------------------------\n",
      "0 | accuracy | Accuracy   | 0     \n",
      "1 | roc_auc  | AUROC      | 0     \n",
      "2 | layers   | Sequential | 10.5 K\n",
      "----------------------------------------\n",
      "10.5 K    Trainable params\n",
      "0         Non-trainable params\n",
      "10.5 K    Total params\n",
      "0.042     Total estimated model params size (MB)\n"
     ]
    },
    {
     "data": {
      "application/vnd.jupyter.widget-view+json": {
       "model_id": "",
       "version_major": 2,
       "version_minor": 0
      },
      "text/plain": [
       "Validation sanity check: 0it [00:00, ?it/s]"
      ]
     },
     "metadata": {},
     "output_type": "display_data"
    },
    {
     "name": "stderr",
     "output_type": "stream",
     "text": [
      "/opt/conda/envs/dl4phys/lib/python3.9/site-packages/pytorch_lightning/trainer/data_loading.py:132: UserWarning: The dataloader, val_dataloader 0, does not have many workers which may be a bottleneck. Consider increasing the value of the `num_workers` argument` (try 8 which is the number of cpus on this machine) in the `DataLoader` init to improve performance.\n",
      "  rank_zero_warn(\n",
      "/opt/conda/envs/dl4phys/lib/python3.9/site-packages/pytorch_lightning/trainer/data_loading.py:132: UserWarning: The dataloader, train_dataloader, does not have many workers which may be a bottleneck. Consider increasing the value of the `num_workers` argument` (try 8 which is the number of cpus on this machine) in the `DataLoader` init to improve performance.\n",
      "  rank_zero_warn(\n"
     ]
    },
    {
     "data": {
      "application/vnd.jupyter.widget-view+json": {
       "model_id": "31be8594a6ea4157b351b7c0ada7e177",
       "version_major": 2,
       "version_minor": 0
      },
      "text/plain": [
       "Training: 0it [00:00, ?it/s]"
      ]
     },
     "metadata": {},
     "output_type": "display_data"
    },
    {
     "data": {
      "application/vnd.jupyter.widget-view+json": {
       "model_id": "",
       "version_major": 2,
       "version_minor": 0
      },
      "text/plain": [
       "Validating: 0it [00:00, ?it/s]"
      ]
     },
     "metadata": {},
     "output_type": "display_data"
    },
    {
     "data": {
      "application/vnd.jupyter.widget-view+json": {
       "model_id": "",
       "version_major": 2,
       "version_minor": 0
      },
      "text/plain": [
       "Validating: 0it [00:00, ?it/s]"
      ]
     },
     "metadata": {},
     "output_type": "display_data"
    },
    {
     "data": {
      "application/vnd.jupyter.widget-view+json": {
       "model_id": "",
       "version_major": 2,
       "version_minor": 0
      },
      "text/plain": [
       "Validating: 0it [00:00, ?it/s]"
      ]
     },
     "metadata": {},
     "output_type": "display_data"
    },
    {
     "data": {
      "application/vnd.jupyter.widget-view+json": {
       "model_id": "",
       "version_major": 2,
       "version_minor": 0
      },
      "text/plain": [
       "Validating: 0it [00:00, ?it/s]"
      ]
     },
     "metadata": {},
     "output_type": "display_data"
    },
    {
     "data": {
      "application/vnd.jupyter.widget-view+json": {
       "model_id": "",
       "version_major": 2,
       "version_minor": 0
      },
      "text/plain": [
       "Validating: 0it [00:00, ?it/s]"
      ]
     },
     "metadata": {},
     "output_type": "display_data"
    },
    {
     "data": {
      "application/vnd.jupyter.widget-view+json": {
       "model_id": "",
       "version_major": 2,
       "version_minor": 0
      },
      "text/plain": [
       "Validating: 0it [00:00, ?it/s]"
      ]
     },
     "metadata": {},
     "output_type": "display_data"
    },
    {
     "data": {
      "application/vnd.jupyter.widget-view+json": {
       "model_id": "",
       "version_major": 2,
       "version_minor": 0
      },
      "text/plain": [
       "Validating: 0it [00:00, ?it/s]"
      ]
     },
     "metadata": {},
     "output_type": "display_data"
    },
    {
     "data": {
      "application/vnd.jupyter.widget-view+json": {
       "model_id": "",
       "version_major": 2,
       "version_minor": 0
      },
      "text/plain": [
       "Validating: 0it [00:00, ?it/s]"
      ]
     },
     "metadata": {},
     "output_type": "display_data"
    },
    {
     "data": {
      "application/vnd.jupyter.widget-view+json": {
       "model_id": "",
       "version_major": 2,
       "version_minor": 0
      },
      "text/plain": [
       "Validating: 0it [00:00, ?it/s]"
      ]
     },
     "metadata": {},
     "output_type": "display_data"
    },
    {
     "data": {
      "application/vnd.jupyter.widget-view+json": {
       "model_id": "",
       "version_major": 2,
       "version_minor": 0
      },
      "text/plain": [
       "Validating: 0it [00:00, ?it/s]"
      ]
     },
     "metadata": {},
     "output_type": "display_data"
    }
   ],
   "source": [
    "trainer.fit(model, train_dataloader=train_dl, val_dataloaders=val_dl)"
   ]
  },
  {
   "cell_type": "code",
   "execution_count": null,
   "id": "cd26463e",
   "metadata": {},
   "outputs": [
    {
     "name": "stderr",
     "output_type": "stream",
     "text": [
      "LOCAL_RANK: 0 - CUDA_VISIBLE_DEVICES: [0]\n",
      "/opt/conda/envs/dl4phys/lib/python3.9/site-packages/pytorch_lightning/trainer/data_loading.py:132: UserWarning: The dataloader, test_dataloader 0, does not have many workers which may be a bottleneck. Consider increasing the value of the `num_workers` argument` (try 8 which is the number of cpus on this machine) in the `DataLoader` init to improve performance.\n",
      "  rank_zero_warn(\n"
     ]
    },
    {
     "data": {
      "application/vnd.jupyter.widget-view+json": {
       "model_id": "84cd9c8ba1854b8e817dbe382e6a9060",
       "version_major": 2,
       "version_minor": 0
      },
      "text/plain": [
       "Testing: 0it [00:00, ?it/s]"
      ]
     },
     "metadata": {},
     "output_type": "display_data"
    },
    {
     "name": "stdout",
     "output_type": "stream",
     "text": [
      "--------------------------------------------------------------------------------\n",
      "DATALOADER:0 TEST RESULTS\n",
      "{'test_accuracy': 0.6751999855041504,\n",
      " 'test_loss': 0.5903524160385132,\n",
      " 'test_roc_auc': 0.7281567454338074}\n",
      "--------------------------------------------------------------------------------\n"
     ]
    },
    {
     "data": {
      "text/plain": [
       "[{'test_accuracy': 0.6751999855041504,\n",
       "  'test_roc_auc': 0.7281567454338074,\n",
       "  'test_loss': 0.5903524160385132}]"
      ]
     },
     "execution_count": null,
     "metadata": {},
     "output_type": "execute_result"
    }
   ],
   "source": [
    "trainer.test(model)"
   ]
  },
  {
   "cell_type": "code",
   "execution_count": null,
   "id": "9705934f",
   "metadata": {},
   "outputs": [
    {
     "name": "stderr",
     "output_type": "stream",
     "text": [
      "LOCAL_RANK: 0 - CUDA_VISIBLE_DEVICES: [0]\n"
     ]
    },
    {
     "data": {
      "application/vnd.jupyter.widget-view+json": {
       "model_id": "2a0ec27a0d854410b73e5aaaf98b174b",
       "version_major": 2,
       "version_minor": 0
      },
      "text/plain": [
       "Predicting: 0it [00:00, ?it/s]"
      ]
     },
     "metadata": {},
     "output_type": "display_data"
    }
   ],
   "source": [
    "preds = trainer.predict(model, test_dl)"
   ]
  },
  {
   "cell_type": "code",
   "execution_count": null,
   "id": "86be7ca2-3bb3-479b-9917-e3ac00dd67c8",
   "metadata": {},
   "outputs": [
    {
     "data": {
      "text/plain": [
       "150"
      ]
     },
     "execution_count": null,
     "metadata": {},
     "output_type": "execute_result"
    }
   ],
   "source": [
    "len(preds)"
   ]
  },
  {
   "cell_type": "code",
   "execution_count": null,
   "id": "31e00285-96ed-4920-87c7-10f73a974a65",
   "metadata": {},
   "outputs": [],
   "source": [
    "preds_np = np.vstack(preds)"
   ]
  },
  {
   "cell_type": "code",
   "execution_count": null,
   "id": "be5a2e6e-4726-4311-81ed-543a7ea426b4",
   "metadata": {},
   "outputs": [
    {
     "data": {
      "text/plain": [
       "(15000, 2)"
      ]
     },
     "execution_count": null,
     "metadata": {},
     "output_type": "execute_result"
    }
   ],
   "source": [
    "preds_np.shape"
   ]
  },
  {
   "cell_type": "code",
   "execution_count": null,
   "id": "a228de91-ae61-4ce1-8ae3-8fd947965b22",
   "metadata": {},
   "outputs": [
    {
     "data": {
      "text/plain": [
       "(15000,)"
      ]
     },
     "execution_count": null,
     "metadata": {},
     "output_type": "execute_result"
    }
   ],
   "source": [
    "y_test.numpy().shape"
   ]
  },
  {
   "cell_type": "code",
   "execution_count": null,
   "id": "1c5b81be-b6eb-4b3d-a63b-99bfaa584085",
   "metadata": {},
   "outputs": [
    {
     "data": {
      "text/plain": [
       "tensor([-0.5266, -0.8931])"
      ]
     },
     "execution_count": null,
     "metadata": {},
     "output_type": "execute_result"
    }
   ],
   "source": [
    "preds[0][0]"
   ]
  },
  {
   "cell_type": "code",
   "execution_count": null,
   "id": "2fc53c16-1b58-421f-8fe5-f0b4636f1320",
   "metadata": {},
   "outputs": [
    {
     "data": {
      "text/plain": [
       "0.7281606545078303"
      ]
     },
     "execution_count": null,
     "metadata": {},
     "output_type": "execute_result"
    }
   ],
   "source": [
    "roc_auc_score(y_test, preds_np[:, 1])"
   ]
  },
  {
   "cell_type": "code",
   "execution_count": null,
   "id": "a237bd02-7bc9-4dac-a29e-733570ca2789",
   "metadata": {},
   "outputs": [],
   "source": [
    "rc = roc_curve(y_test, preds_np[:, 1])"
   ]
  },
  {
   "cell_type": "code",
   "execution_count": null,
   "id": "ae0174f1-9744-4baf-a0e3-8f03a564982c",
   "metadata": {},
   "outputs": [
    {
     "data": {
      "text/plain": [
       "3"
      ]
     },
     "execution_count": null,
     "metadata": {},
     "output_type": "execute_result"
    }
   ],
   "source": [
    "len(rc)"
   ]
  },
  {
   "cell_type": "code",
   "execution_count": null,
   "id": "55e5b33b-aebb-4912-81d8-9bceaf9a22a4",
   "metadata": {},
   "outputs": [
    {
     "data": {
      "text/plain": [
       "(6252,)"
      ]
     },
     "execution_count": null,
     "metadata": {},
     "output_type": "execute_result"
    }
   ],
   "source": [
    "rc[0].shape"
   ]
  },
  {
   "cell_type": "code",
   "execution_count": null,
   "id": "feffc690-d5a1-41fb-9d0e-d979e2d55eb0",
   "metadata": {},
   "outputs": [
    {
     "data": {
      "text/plain": [
       "(6252,)"
      ]
     },
     "execution_count": null,
     "metadata": {},
     "output_type": "execute_result"
    }
   ],
   "source": [
    "rc[1].shape"
   ]
  },
  {
   "cell_type": "code",
   "execution_count": null,
   "id": "3767cde0-6723-45b7-96d2-09a3bde36e0d",
   "metadata": {},
   "outputs": [
    {
     "data": {
      "text/plain": [
       "(6252,)"
      ]
     },
     "execution_count": null,
     "metadata": {},
     "output_type": "execute_result"
    }
   ],
   "source": [
    "rc[2].shape"
   ]
  },
  {
   "cell_type": "code",
   "execution_count": null,
   "id": "db2e5839-d773-4fb9-84ae-039416a64bc3",
   "metadata": {},
   "outputs": [
    {
     "data": {
      "text/plain": [
       "(0.0, 1.0)"
      ]
     },
     "execution_count": null,
     "metadata": {},
     "output_type": "execute_result"
    },
    {
     "data": {
      "image/png": "[encoded data removed]",
      "text/plain": [
       "<Figure size 432x288 with 1 Axes>"
      ]
     },
     "metadata": {
      "needs_background": "light"
     },
     "output_type": "display_data"
    }
   ],
   "source": [
    "plt.plot(rc[1], 1-rc[0], '-')\n",
    "plt.xlim(0, 1)\n",
    "plt.ylim(0, 1)"
   ]
  },
  {
   "cell_type": "markdown",
   "id": "9f991f06-0222-47b8-8f9e-e2ef88442360",
   "metadata": {},
   "source": [
    "## With fastai"
   ]
  },
  {
   "cell_type": "code",
   "execution_count": null,
   "id": "f0502555-e215-49b0-8e9a-5fd81d8e7857",
   "metadata": {},
   "outputs": [
    {
     "data": {
      "text/html": [
       "<div>\n",
       "<style scoped>\n",
       "    .dataframe tbody tr th:only-of-type {\n",
       "        vertical-align: middle;\n",
       "    }\n",
       "\n",
       "    .dataframe tbody tr th {\n",
       "        vertical-align: top;\n",
       "    }\n",
       "\n",
       "    .dataframe thead th {\n",
       "        text-align: right;\n",
       "    }\n",
       "</style>\n",
       "<table border=\"1\" class=\"dataframe\">\n",
       "  <thead>\n",
       "    <tr style=\"text-align: right;\">\n",
       "      <th></th>\n",
       "      <th>feature_0</th>\n",
       "      <th>feature_1</th>\n",
       "      <th>feature_2</th>\n",
       "      <th>feature_3</th>\n",
       "      <th>feature_4</th>\n",
       "      <th>feature_5</th>\n",
       "      <th>feature_6</th>\n",
       "      <th>feature_7</th>\n",
       "      <th>feature_8</th>\n",
       "      <th>feature_9</th>\n",
       "      <th>...</th>\n",
       "      <th>feature_36</th>\n",
       "      <th>feature_37</th>\n",
       "      <th>feature_38</th>\n",
       "      <th>feature_39</th>\n",
       "      <th>feature_40</th>\n",
       "      <th>feature_41</th>\n",
       "      <th>feature_42</th>\n",
       "      <th>feature_43</th>\n",
       "      <th>feature_44</th>\n",
       "      <th>label</th>\n",
       "    </tr>\n",
       "  </thead>\n",
       "  <tbody>\n",
       "    <tr>\n",
       "      <th>0</th>\n",
       "      <td>0.582885</td>\n",
       "      <td>0.359834</td>\n",
       "      <td>0.159466</td>\n",
       "      <td>0.286434</td>\n",
       "      <td>0.109313</td>\n",
       "      <td>0.031360</td>\n",
       "      <td>0.291994</td>\n",
       "      <td>0.104627</td>\n",
       "      <td>0.025298</td>\n",
       "      <td>0.269625</td>\n",
       "      <td>...</td>\n",
       "      <td>0.191827</td>\n",
       "      <td>0.045562</td>\n",
       "      <td>0.004745</td>\n",
       "      <td>0.183424</td>\n",
       "      <td>0.042593</td>\n",
       "      <td>0.004490</td>\n",
       "      <td>0.174668</td>\n",
       "      <td>0.039015</td>\n",
       "      <td>0.004060</td>\n",
       "      <td>0.0</td>\n",
       "    </tr>\n",
       "    <tr>\n",
       "      <th>1</th>\n",
       "      <td>0.260756</td>\n",
       "      <td>0.084642</td>\n",
       "      <td>0.019812</td>\n",
       "      <td>0.240676</td>\n",
       "      <td>0.073122</td>\n",
       "      <td>0.015786</td>\n",
       "      <td>0.225725</td>\n",
       "      <td>0.063897</td>\n",
       "      <td>0.012387</td>\n",
       "      <td>0.215447</td>\n",
       "      <td>...</td>\n",
       "      <td>0.126111</td>\n",
       "      <td>0.021134</td>\n",
       "      <td>0.002316</td>\n",
       "      <td>0.122458</td>\n",
       "      <td>0.018581</td>\n",
       "      <td>0.001079</td>\n",
       "      <td>0.117416</td>\n",
       "      <td>0.017345</td>\n",
       "      <td>0.000992</td>\n",
       "      <td>0.0</td>\n",
       "    </tr>\n",
       "    <tr>\n",
       "      <th>2</th>\n",
       "      <td>0.564012</td>\n",
       "      <td>0.330684</td>\n",
       "      <td>0.127177</td>\n",
       "      <td>0.292710</td>\n",
       "      <td>0.110119</td>\n",
       "      <td>0.024787</td>\n",
       "      <td>0.258846</td>\n",
       "      <td>0.086578</td>\n",
       "      <td>0.017215</td>\n",
       "      <td>0.240176</td>\n",
       "      <td>...</td>\n",
       "      <td>0.150572</td>\n",
       "      <td>0.034919</td>\n",
       "      <td>0.003328</td>\n",
       "      <td>0.147431</td>\n",
       "      <td>0.032971</td>\n",
       "      <td>0.003017</td>\n",
       "      <td>0.143079</td>\n",
       "      <td>0.031147</td>\n",
       "      <td>0.002829</td>\n",
       "      <td>0.0</td>\n",
       "    </tr>\n",
       "    <tr>\n",
       "      <th>3</th>\n",
       "      <td>0.395935</td>\n",
       "      <td>0.170801</td>\n",
       "      <td>0.042085</td>\n",
       "      <td>0.344588</td>\n",
       "      <td>0.130606</td>\n",
       "      <td>0.026208</td>\n",
       "      <td>0.271026</td>\n",
       "      <td>0.090233</td>\n",
       "      <td>0.017891</td>\n",
       "      <td>0.243731</td>\n",
       "      <td>...</td>\n",
       "      <td>0.164546</td>\n",
       "      <td>0.034850</td>\n",
       "      <td>0.004036</td>\n",
       "      <td>0.151774</td>\n",
       "      <td>0.029703</td>\n",
       "      <td>0.002897</td>\n",
       "      <td>0.149630</td>\n",
       "      <td>0.028986</td>\n",
       "      <td>0.002850</td>\n",
       "      <td>0.0</td>\n",
       "    </tr>\n",
       "    <tr>\n",
       "      <th>4</th>\n",
       "      <td>0.196304</td>\n",
       "      <td>0.051556</td>\n",
       "      <td>0.011701</td>\n",
       "      <td>0.192528</td>\n",
       "      <td>0.048644</td>\n",
       "      <td>0.010743</td>\n",
       "      <td>0.178389</td>\n",
       "      <td>0.043404</td>\n",
       "      <td>0.009060</td>\n",
       "      <td>0.172218</td>\n",
       "      <td>...</td>\n",
       "      <td>0.084400</td>\n",
       "      <td>0.012952</td>\n",
       "      <td>0.001005</td>\n",
       "      <td>0.078391</td>\n",
       "      <td>0.011012</td>\n",
       "      <td>0.000815</td>\n",
       "      <td>0.076849</td>\n",
       "      <td>0.010029</td>\n",
       "      <td>0.000572</td>\n",
       "      <td>0.0</td>\n",
       "    </tr>\n",
       "  </tbody>\n",
       "</table>\n",
       "<p>5 rows × 46 columns</p>\n",
       "</div>"
      ],
      "text/plain": [
       "   feature_0  feature_1  feature_2  feature_3  feature_4  feature_5  \\\n",
       "0   0.582885   0.359834   0.159466   0.286434   0.109313   0.031360   \n",
       "1   0.260756   0.084642   0.019812   0.240676   0.073122   0.015786   \n",
       "2   0.564012   0.330684   0.127177   0.292710   0.110119   0.024787   \n",
       "3   0.395935   0.170801   0.042085   0.344588   0.130606   0.026208   \n",
       "4   0.196304   0.051556   0.011701   0.192528   0.048644   0.010743   \n",
       "\n",
       "   feature_6  feature_7  feature_8  feature_9  ...  feature_36  feature_37  \\\n",
       "0   0.291994   0.104627   0.025298   0.269625  ...    0.191827    0.045562   \n",
       "1   0.225725   0.063897   0.012387   0.215447  ...    0.126111    0.021134   \n",
       "2   0.258846   0.086578   0.017215   0.240176  ...    0.150572    0.034919   \n",
       "3   0.271026   0.090233   0.017891   0.243731  ...    0.164546    0.034850   \n",
       "4   0.178389   0.043404   0.009060   0.172218  ...    0.084400    0.012952   \n",
       "\n",
       "   feature_38  feature_39  feature_40  feature_41  feature_42  feature_43  \\\n",
       "0    0.004745    0.183424    0.042593    0.004490    0.174668    0.039015   \n",
       "1    0.002316    0.122458    0.018581    0.001079    0.117416    0.017345   \n",
       "2    0.003328    0.147431    0.032971    0.003017    0.143079    0.031147   \n",
       "3    0.004036    0.151774    0.029703    0.002897    0.149630    0.028986   \n",
       "4    0.001005    0.078391    0.011012    0.000815    0.076849    0.010029   \n",
       "\n",
       "   feature_44  label  \n",
       "0    0.004060    0.0  \n",
       "1    0.000992    0.0  \n",
       "2    0.002829    0.0  \n",
       "3    0.002850    0.0  \n",
       "4    0.000572    0.0  \n",
       "\n",
       "[5 rows x 46 columns]"
      ]
     },
     "execution_count": null,
     "metadata": {},
     "output_type": "execute_result"
    }
   ],
   "source": [
    "df.head()"
   ]
  },
  {
   "cell_type": "code",
   "execution_count": null,
   "id": "f3192dae-411f-4076-ae7e-d2e97f5f8b85",
   "metadata": {},
   "outputs": [
    {
     "data": {
      "text/plain": [
       "2"
      ]
     },
     "execution_count": null,
     "metadata": {},
     "output_type": "execute_result"
    }
   ],
   "source": [
    "df[\"label\"].nunique()"
   ]
  },
  {
   "cell_type": "code",
   "execution_count": null,
   "id": "27d38d0d-5402-42b9-bdf7-b34584a8f0ff",
   "metadata": {},
   "outputs": [],
   "source": [
    "from fastai.tabular.all import *"
   ]
  },
  {
   "cell_type": "code",
   "execution_count": null,
   "id": "983cc87a-9f7f-49cc-894f-8a3fde310ee4",
   "metadata": {},
   "outputs": [],
   "source": []
  }
 ],
 "metadata": {
  "kernelspec": {
   "display_name": "Python 3 (ipykernel)",
   "language": "python",
   "name": "python3"
  },
  "language_info": {
   "codemirror_mode": {
    "name": "ipython",
    "version": 3
   },
   "file_extension": ".py",
   "mimetype": "text/x-python",
   "name": "python",
   "nbconvert_exporter": "python",
   "pygments_lexer": "ipython3",
   "version": "3.8.12"
  }
 },
 "nbformat": 4,
 "nbformat_minor": 5
}
