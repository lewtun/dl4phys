{
 "cells": [
  {
   "cell_type": "markdown",
   "id": "d715d6a9-c3d7-492f-aa7d-6465b264d01c",
   "metadata": {},
   "source": [
    "## Lecture 5 - Convolutional neural networks"
   ]
  },
  {
   "cell_type": "markdown",
   "id": "dda90d94-084b-46a7-98e0-19c4c3e63c34",
   "metadata": {},
   "source": [
    "> A deep dive into convolutional neural networks for jet tagging"
   ]
  },
  {
   "cell_type": "markdown",
   "id": "33cd450c-b40e-4116-8619-6647371d0661",
   "metadata": {},
   "source": [
    "## Learning objectives\n",
    "\n",
    "* Know how to implement and train a convolutional neural network in PyTorch\n",
    "* Understand what the 1-cycle training policy is\n",
    "* Understand batch norm"
   ]
  },
  {
   "cell_type": "markdown",
   "id": "9df3227f-1c01-4552-804f-d8324dc539db",
   "metadata": {},
   "source": [
    "## References\n",
    "\n",
    "* Chapter 13 of [_Deep Learning for Coders with fastai & PyTorch_](https://github.com/fastai/fastbook) by Jeremy Howard and Sylvain Gugger."
   ]
  },
  {
   "cell_type": "markdown",
   "id": "517b33cb-9796-464c-96a2-14da6eb96aef",
   "metadata": {},
   "source": [
    "## Setup"
   ]
  },
  {
   "cell_type": "code",
   "execution_count": null,
   "id": "a60f6f46-f4a7-49c8-acbb-df68c1318751",
   "metadata": {},
   "outputs": [],
   "source": [
    "# Uncomment and run this cell if using Colab, Kaggle etc\n",
    "# %pip install fastai==2.6.0 datasets"
   ]
  },
  {
   "cell_type": "markdown",
   "id": "c1dd43ed-3e9b-4359-a3e1-992acef49068",
   "metadata": {},
   "source": [
    "## Imports"
   ]
  },
  {
   "cell_type": "code",
   "execution_count": 1,
   "id": "4bdcfefa-9b67-480c-b15b-320e7d2d0c8a",
   "metadata": {},
   "outputs": [],
   "source": [
    "from datasets import load_dataset\n",
    "from fastai.vision.all import *\n",
    "from sklearn.metrics import accuracy_score\n",
    "from torch.utils.data import TensorDataset\n",
    "from torchvision.transforms import ToTensor"
   ]
  },
  {
   "cell_type": "code",
   "execution_count": 2,
   "id": "88c210f7-1dc4-4ace-9ba8-88f48e5bad4a",
   "metadata": {},
   "outputs": [],
   "source": [
    "import datasets\n",
    "\n",
    "# Suppress logs to keep things tidy\n",
    "datasets.logging.set_verbosity_error()"
   ]
  },
  {
   "cell_type": "markdown",
   "id": "9e42b0bd-7d57-4c5a-9792-8cdbb1fb310e",
   "metadata": {},
   "source": [
    "## Loading the data"
   ]
  },
  {
   "cell_type": "markdown",
   "id": "a8a8142a-a5d7-4083-aa85-7d863f827dc4",
   "metadata": {},
   "source": [
    "Last lecture we fine-tuned a pretrained CNN on the top tagging dataset, where each jet was represented as a 2D image of \"energy pixels\". Today, we'll take a look at training our own CNN from scratch, and explore some of the techniques that fastai utilizes to stabilise the training of these neural nets. To get started, let's download the same dataset of jet images from last lecture:"
   ]
  },
  {
   "cell_type": "code",
   "execution_count": 3,
   "id": "aaa93e67-1da6-47c5-8ba3-ff28ebd4c6d4",
   "metadata": {},
   "outputs": [
    {
     "data": {
      "application/vnd.jupyter.widget-view+json": {
       "model_id": "e4662ee0a2d648afb6fb098c983bb5be",
       "version_major": 2,
       "version_minor": 0
      },
      "text/plain": [
       "  0%|          | 0/3 [00:00<?, ?it/s]"
      ]
     },
     "metadata": {},
     "output_type": "display_data"
    },
    {
     "data": {
      "image/png": "[encoded data removed]",
      "text/plain": [
       "<Figure size 432x288 with 1 Axes>"
      ]
     },
     "metadata": {
      "needs_background": "light"
     },
     "output_type": "display_data"
    }
   ],
   "source": [
    "images_ds = load_dataset(\"dl4phys/top_tagging_images\")\n",
    "\n",
    "# Peek at one example\n",
    "plt.imshow(images_ds[\"train\"][0][\"image\"]);"
   ]
  },
  {
   "cell_type": "markdown",
   "id": "76bcd2ae-aca2-4c0f-acab-99e6038a7954",
   "metadata": {},
   "source": [
    "As we saw last lecture, we need to convert these PIL images into PyTorch tensors, so let's reuse the same helper function to create a training and validation set to experiment with:"
   ]
  },
  {
   "cell_type": "code",
   "execution_count": 4,
   "id": "2130839e-200e-45c0-ae91-7cea9728eb03",
   "metadata": {},
   "outputs": [],
   "source": [
    "def get_dataset(dataset, num_examples=None):\n",
    "    if num_examples is not None:\n",
    "        dataset = dataset.shuffle(seed=42).select(range(num_examples))\n",
    "\n",
    "    x = torch.cat([ToTensor()(img) for img in dataset[\"image\"]]).unsqueeze(1)\n",
    "    y = torch.cat([torch.tensor(l).unsqueeze(0) for l in dataset[\"label\"]])\n",
    "\n",
    "    return TensorDataset(x, y)"
   ]
  },
  {
   "cell_type": "markdown",
   "id": "570d160e-1d3d-4083-b064-f83d160c333c",
   "metadata": {},
   "source": [
    "With this function, we can now generate a sample of jets as follows:"
   ]
  },
  {
   "cell_type": "code",
   "execution_count": 5,
   "id": "bed72e0b-996f-4812-83bf-3c68a9685855",
   "metadata": {},
   "outputs": [],
   "source": [
    "# Lower the training size if Colab RAM explodes 💣\n",
    "train_ds = get_dataset(images_ds[\"train\"], num_examples=350_000)\n",
    "valid_ds = get_dataset(images_ds[\"validation\"], num_examples=35_000)"
   ]
  },
  {
   "cell_type": "markdown",
   "id": "44714b91-61d3-48dc-a486-adcfad3acf60",
   "metadata": {},
   "source": [
    "Since we'll be experimenting a bit with the batch size in this lecture, we'll also implement a helper function to return the dataloaders associated with these datasets:"
   ]
  },
  {
   "cell_type": "code",
   "execution_count": 6,
   "id": "fb79e523-8551-4594-b2d1-cfe955808b51",
   "metadata": {},
   "outputs": [],
   "source": [
    "def get_dls(bs=128):\n",
    "    train_dl = DataLoader(train_ds, bs=bs, shuffle=True)\n",
    "    valid_dl = DataLoader(valid_ds, bs=bs)\n",
    "    return DataLoaders(train_dl, valid_dl)"
   ]
  },
  {
   "cell_type": "markdown",
   "id": "ca0d405b-19de-4479-8bee-ebdd3a09c653",
   "metadata": {},
   "source": [
    "Now that we have this function, we can get the dataloaders and grab a batch of data to test with:"
   ]
  },
  {
   "cell_type": "code",
   "execution_count": 7,
   "id": "2d58401f-94a9-48fd-855d-6df0cbd52eba",
   "metadata": {},
   "outputs": [
    {
     "data": {
      "text/plain": [
       "(torch.Size([128, 1, 40, 40]), torch.Size([128]))"
      ]
     },
     "execution_count": 7,
     "metadata": {},
     "output_type": "execute_result"
    }
   ],
   "source": [
    "dls = get_dls()\n",
    "\n",
    "xb, yb = first(dls.train)\n",
    "xb.shape, yb.shape"
   ]
  },
  {
   "cell_type": "markdown",
   "id": "c718b6da-5040-4532-9b88-d47804ba3b32",
   "metadata": {},
   "source": [
    "## Creating a CNN"
   ]
  },
  {
   "cell_type": "markdown",
   "id": "b81aff1e-2590-4c51-a666-0ce7f01cdc02",
   "metadata": {},
   "source": [
    "Recall in lecture 3, that we created a neural network for $N$-subjettiness features. We used the `nn.Sequential()` class to create a network that involved stacking fully-connected layers and ReLU activation functions:"
   ]
  },
  {
   "cell_type": "code",
   "execution_count": 10,
   "id": "a5a9802d-4595-4195-94e6-323c05060490",
   "metadata": {},
   "outputs": [
    {
     "data": {
      "text/plain": [
       "Sequential(\n",
       "  (0): Linear(in_features=20, out_features=200, bias=True)\n",
       "  (1): ReLU()\n",
       "  (2): Linear(in_features=200, out_features=2, bias=True)\n",
       ")"
      ]
     },
     "execution_count": 10,
     "metadata": {},
     "output_type": "execute_result"
    }
   ],
   "source": [
    "model = nn.Sequential(\n",
    "    nn.Linear(20, 200),\n",
    "    nn.ReLU(),\n",
    "    nn.Linear(200, 2),\n",
    ")\n",
    "\n",
    "model"
   ]
  },
  {
   "cell_type": "markdown",
   "id": "303bd45c-f58d-41ff-917e-d4c8a1a2bedc",
   "metadata": {},
   "source": [
    "In this lecture, we'll take a similar approach, but this time using _convolutional layers_ instead of linear ones. In PyTorch, convolutional layers are created by using the `nn.Conv2d()` module. Let's try replacing the `nn.Linear()` layers in our previous architecture with `nn.Conv2d()` ones instead:"
   ]
  },
  {
   "cell_type": "code",
   "execution_count": 13,
   "id": "3cd0c734-2eee-4f19-b70f-32aa1b0d5c1e",
   "metadata": {},
   "outputs": [],
   "source": [
    "broken_cnn = nn.Sequential(\n",
    "    nn.Conv2d(1, 30, kernel_size=3, padding=1),\n",
    "    nn.ReLU(),\n",
    "    nn.Conv2d(30, 1, kernel_size=3, padding=1),\n",
    ")"
   ]
  },
  {
   "cell_type": "markdown",
   "id": "ea83b3c3-172f-4960-99f5-3b12a5f37fbc",
   "metadata": {},
   "source": [
    "Note that unlike linear layers, convolutional layers don't require us to specify the number of features in the input. That's because convolutions are applied across each pixel automatically, so the weights only depend on the number of channels and the kernel size. \n",
    "\n",
    "Let's now see what happens if we pass a minibatch of data through this model:"
   ]
  },
  {
   "cell_type": "code",
   "execution_count": 15,
   "id": "03c20c8f-4c58-43ad-869a-986cbd69308a",
   "metadata": {},
   "outputs": [
    {
     "data": {
      "text/plain": [
       "torch.Size([128, 1, 40, 40])"
      ]
     },
     "execution_count": 15,
     "metadata": {},
     "output_type": "execute_result"
    }
   ],
   "source": [
    "# Feed a minibatch to the model\n",
    "outputs = broken_cnn(xb)\n",
    "outputs.shape"
   ]
  },
  {
   "cell_type": "markdown",
   "id": "c4ccb3ca-5e3b-49f6-948a-f835932d5ebb",
   "metadata": {},
   "source": [
    "Hmm, this output isn't quite what we want for classification: we need a tensor of shape `(batch_size, num_classes)` but instead have a $40\\times 40$ map of activations. The standard way to handle this is to apply a sequence of _stride-2 convolutions_, which decrease the size of the outputs so that the final layer size is 1. To see why this is the case, recall that for an image of height $n_H$ and width $n_W$, the dimension of the output activation map is given by:\n",
    "\n",
    "$$\\left( \\left\\lfloor\\frac{n_H + 2p - k}{s} + 1 \\right\\rfloor ,  \\left\\lfloor\\frac{n_W + 2p - k}{s} + 1 \\right\\rfloor \\right) \\,,$$\n",
    "\n",
    "where $p$ is the padding, $k$ the kernel of size $k\\times k$, and $s$ the stride. For fixed $p,f$ and $s>1$, we can see that the dimension of the activation map is shrunk with each convolutional layer.\n",
    "\n",
    "With this in mind, let's create a stack of stride-2 convolutional layers with $3\\times 3$ kernels."
   ]
  },
  {
   "cell_type": "code",
   "execution_count": 16,
   "id": "03e32bc3-ed53-45be-bb81-efe847c56377",
   "metadata": {},
   "outputs": [],
   "source": [
    "def conv(ni, nf, ks=3, act=True):\n",
    "    res = nn.Conv2d(ni, nf, stride=2, kernel_size=ks, padding=ks // 2)\n",
    "    if act:\n",
    "        res = nn.Sequential(res, nn.ReLU())\n",
    "    return res"
   ]
  },
  {
   "cell_type": "code",
   "execution_count": 60,
   "id": "b892abb2-34ec-406b-9079-6618c9f68dc8",
   "metadata": {},
   "outputs": [],
   "source": [
    "simple_cnn = nn.Sequential(\n",
    "    conv(1, 4),  # 20x20\n",
    "    conv(4, 8),  # 10x10\n",
    "    conv(8, 16),  # 5x5\n",
    "    conv(16, 32),  # 3x3\n",
    "    conv(32, 16),  # 2x2\n",
    "    conv(16, 2, act=False),  # 1x1\n",
    "    Flatten(),\n",
    ")"
   ]
  },
  {
   "cell_type": "code",
   "execution_count": 61,
   "id": "6da3d452-ee27-42b9-97e1-782a6c73b8c6",
   "metadata": {},
   "outputs": [
    {
     "data": {
      "text/plain": [
       "torch.Size([128, 2])"
      ]
     },
     "execution_count": 61,
     "metadata": {},
     "output_type": "execute_result"
    }
   ],
   "source": [
    "simple_cnn(xb).shape"
   ]
  },
  {
   "cell_type": "code",
   "execution_count": 62,
   "id": "e648f27f-51b5-4142-841f-f26f543f359c",
   "metadata": {},
   "outputs": [],
   "source": [
    "learn = Learner(\n",
    "    dls, simple_cnn, metrics=[accuracy, RocAucBinary()], loss_func=F.cross_entropy\n",
    ")"
   ]
  },
  {
   "cell_type": "code",
   "execution_count": 63,
   "id": "745a9984-4a24-4d77-98b1-07dd55466339",
   "metadata": {},
   "outputs": [
    {
     "data": {
      "text/html": [
       "\n",
       "<style>\n",
       "    /* Turns off some styling */\n",
       "    progress {\n",
       "        /* gets rid of default border in Firefox and Opera. */\n",
       "        border: none;\n",
       "        /* Needs to be in here for Safari polyfill so background images work as expected. */\n",
       "        background-size: auto;\n",
       "    }\n",
       "    .progress-bar-interrupted, .progress-bar-interrupted::-webkit-progress-bar {\n",
       "        background: #F44336;\n",
       "    }\n",
       "</style>\n"
      ],
      "text/plain": [
       "<IPython.core.display.HTML object>"
      ]
     },
     "metadata": {},
     "output_type": "display_data"
    },
    {
     "data": {
      "text/html": [],
      "text/plain": [
       "<IPython.core.display.HTML object>"
      ]
     },
     "metadata": {},
     "output_type": "display_data"
    },
    {
     "data": {
      "text/plain": [
       "Sequential (Input shape: 128 x 1 x 40 x 40)\n",
       "============================================================================\n",
       "Layer (type)         Output Shape         Param #    Trainable \n",
       "============================================================================\n",
       "                     128 x 4 x 20 x 20   \n",
       "Conv2d                                    40         True      \n",
       "ReLU                                                           \n",
       "____________________________________________________________________________\n",
       "                     128 x 8 x 10 x 10   \n",
       "Conv2d                                    296        True      \n",
       "ReLU                                                           \n",
       "____________________________________________________________________________\n",
       "                     128 x 16 x 5 x 5    \n",
       "Conv2d                                    1168       True      \n",
       "ReLU                                                           \n",
       "____________________________________________________________________________\n",
       "                     128 x 32 x 3 x 3    \n",
       "Conv2d                                    4640       True      \n",
       "ReLU                                                           \n",
       "____________________________________________________________________________\n",
       "                     128 x 16 x 2 x 2    \n",
       "Conv2d                                    4624       True      \n",
       "ReLU                                                           \n",
       "____________________________________________________________________________\n",
       "                     128 x 2 x 1 x 1     \n",
       "Conv2d                                    290        True      \n",
       "____________________________________________________________________________\n",
       "                     128 x 2             \n",
       "Flatten                                                        \n",
       "____________________________________________________________________________\n",
       "\n",
       "Total params: 11,058\n",
       "Total trainable params: 11,058\n",
       "Total non-trainable params: 0\n",
       "\n",
       "Optimizer used: <function Adam at 0x7f6360893550>\n",
       "Loss function: <function cross_entropy at 0x7f63b0cdd8b0>\n",
       "\n",
       "Callbacks:\n",
       "  - TrainEvalCallback\n",
       "  - Recorder\n",
       "  - ProgressCallback"
      ]
     },
     "execution_count": 63,
     "metadata": {},
     "output_type": "execute_result"
    }
   ],
   "source": [
    "learn.summary()"
   ]
  },
  {
   "cell_type": "code",
   "execution_count": 64,
   "id": "88331f61-e70a-44c5-8153-2d5d0546aab4",
   "metadata": {},
   "outputs": [],
   "source": [
    "learn.model.to(\"cuda\");"
   ]
  },
  {
   "cell_type": "code",
   "execution_count": 65,
   "id": "5578dcce-95d0-4507-95a7-c14e0f9655ee",
   "metadata": {},
   "outputs": [
    {
     "data": {
      "text/html": [
       "\n",
       "<style>\n",
       "    /* Turns off some styling */\n",
       "    progress {\n",
       "        /* gets rid of default border in Firefox and Opera. */\n",
       "        border: none;\n",
       "        /* Needs to be in here for Safari polyfill so background images work as expected. */\n",
       "        background-size: auto;\n",
       "    }\n",
       "    .progress-bar-interrupted, .progress-bar-interrupted::-webkit-progress-bar {\n",
       "        background: #F44336;\n",
       "    }\n",
       "</style>\n"
      ],
      "text/plain": [
       "<IPython.core.display.HTML object>"
      ]
     },
     "metadata": {},
     "output_type": "display_data"
    },
    {
     "data": {
      "text/html": [],
      "text/plain": [
       "<IPython.core.display.HTML object>"
      ]
     },
     "metadata": {},
     "output_type": "display_data"
    },
    {
     "data": {
      "text/plain": [
       "SuggestedLRs(valley=0.0012022644514217973)"
      ]
     },
     "execution_count": 65,
     "metadata": {},
     "output_type": "execute_result"
    },
    {
     "data": {
      "image/png": "[encoded data removed]",
      "text/plain": [
       "<Figure size 432x288 with 1 Axes>"
      ]
     },
     "metadata": {
      "needs_background": "light"
     },
     "output_type": "display_data"
    }
   ],
   "source": [
    "learn.lr_find()"
   ]
  },
  {
   "cell_type": "code",
   "execution_count": 66,
   "id": "e30ade1d-125f-42d3-9eb9-2bf54bf2bde0",
   "metadata": {},
   "outputs": [
    {
     "data": {
      "text/html": [
       "\n",
       "<style>\n",
       "    /* Turns off some styling */\n",
       "    progress {\n",
       "        /* gets rid of default border in Firefox and Opera. */\n",
       "        border: none;\n",
       "        /* Needs to be in here for Safari polyfill so background images work as expected. */\n",
       "        background-size: auto;\n",
       "    }\n",
       "    .progress-bar-interrupted, .progress-bar-interrupted::-webkit-progress-bar {\n",
       "        background: #F44336;\n",
       "    }\n",
       "</style>\n"
      ],
      "text/plain": [
       "<IPython.core.display.HTML object>"
      ]
     },
     "metadata": {},
     "output_type": "display_data"
    },
    {
     "data": {
      "text/html": [
       "<table border=\"1\" class=\"dataframe\">\n",
       "  <thead>\n",
       "    <tr style=\"text-align: left;\">\n",
       "      <th>epoch</th>\n",
       "      <th>train_loss</th>\n",
       "      <th>valid_loss</th>\n",
       "      <th>accuracy</th>\n",
       "      <th>roc_auc_score</th>\n",
       "      <th>time</th>\n",
       "    </tr>\n",
       "  </thead>\n",
       "  <tbody>\n",
       "    <tr>\n",
       "      <td>0</td>\n",
       "      <td>0.290375</td>\n",
       "      <td>0.293057</td>\n",
       "      <td>0.873886</td>\n",
       "      <td>0.947308</td>\n",
       "      <td>00:10</td>\n",
       "    </tr>\n",
       "    <tr>\n",
       "      <td>1</td>\n",
       "      <td>0.254559</td>\n",
       "      <td>0.252380</td>\n",
       "      <td>0.894314</td>\n",
       "      <td>0.959527</td>\n",
       "      <td>00:10</td>\n",
       "    </tr>\n",
       "    <tr>\n",
       "      <td>2</td>\n",
       "      <td>0.233504</td>\n",
       "      <td>0.246849</td>\n",
       "      <td>0.898086</td>\n",
       "      <td>0.961033</td>\n",
       "      <td>00:10</td>\n",
       "    </tr>\n",
       "  </tbody>\n",
       "</table>"
      ],
      "text/plain": [
       "<IPython.core.display.HTML object>"
      ]
     },
     "metadata": {},
     "output_type": "display_data"
    }
   ],
   "source": [
    "learn.fit_one_cycle(3, 1e-3)"
   ]
  },
  {
   "cell_type": "markdown",
   "id": "5e3ba0b8-0187-4820-85da-46d0a4e1c9bd",
   "metadata": {},
   "source": [
    "## Improving training stability"
   ]
  },
  {
   "cell_type": "code",
   "execution_count": 67,
   "id": "7514c2ef-8197-4d4e-a4a9-a3e8cded781c",
   "metadata": {},
   "outputs": [],
   "source": [
    "def simple_cnn():\n",
    "    return nn.Sequential(\n",
    "        conv(1, 8, ks=5),  # 20x20\n",
    "        conv(8, 16),  # 10x10\n",
    "        conv(16, 32),  # 5x5\n",
    "        conv(32, 64),  # 3x3\n",
    "        conv(64, 128),  # 2x2\n",
    "        conv(128, 2, act=False),  # 1x1\n",
    "        Flatten(),\n",
    "    ).to(\"cuda\")"
   ]
  },
  {
   "cell_type": "code",
   "execution_count": 68,
   "id": "105ad7fe-85d1-4514-a8b6-cb0dfde14a26",
   "metadata": {},
   "outputs": [],
   "source": [
    "from fastai.callback.hook import *"
   ]
  },
  {
   "cell_type": "code",
   "execution_count": 69,
   "id": "31d9faea-10ff-4f5c-b1b3-ee931e9b76c6",
   "metadata": {},
   "outputs": [],
   "source": [
    "def fit(epochs=1):\n",
    "    learn = Learner(\n",
    "        dls,\n",
    "        simple_cnn(),\n",
    "        metrics=[accuracy, RocAucBinary()],\n",
    "        loss_func=F.cross_entropy,\n",
    "        cbs=ActivationStats(with_hist=True),\n",
    "    )\n",
    "    learn.fit(epochs, 0.06)\n",
    "    return learn"
   ]
  },
  {
   "cell_type": "code",
   "execution_count": 70,
   "id": "91b843fb-a642-4a09-a0b5-2857f6c980dd",
   "metadata": {},
   "outputs": [
    {
     "name": "stderr",
     "output_type": "stream",
     "text": [
      "/home/lewis/miniconda3/envs/dl4phys/lib/python3.9/site-packages/fastai/callback/core.py:67: UserWarning: You are shadowing an attribute (modules) that exists in the learner. Use `self.learn.modules` to avoid this\n",
      "  warn(f\"You are shadowing an attribute ({name}) that exists in the learner. Use `self.learn.{name}` to avoid this\")\n"
     ]
    },
    {
     "data": {
      "text/html": [
       "\n",
       "<style>\n",
       "    /* Turns off some styling */\n",
       "    progress {\n",
       "        /* gets rid of default border in Firefox and Opera. */\n",
       "        border: none;\n",
       "        /* Needs to be in here for Safari polyfill so background images work as expected. */\n",
       "        background-size: auto;\n",
       "    }\n",
       "    .progress-bar-interrupted, .progress-bar-interrupted::-webkit-progress-bar {\n",
       "        background: #F44336;\n",
       "    }\n",
       "</style>\n"
      ],
      "text/plain": [
       "<IPython.core.display.HTML object>"
      ]
     },
     "metadata": {},
     "output_type": "display_data"
    },
    {
     "data": {
      "text/html": [
       "<table border=\"1\" class=\"dataframe\">\n",
       "  <thead>\n",
       "    <tr style=\"text-align: left;\">\n",
       "      <th>epoch</th>\n",
       "      <th>train_loss</th>\n",
       "      <th>valid_loss</th>\n",
       "      <th>accuracy</th>\n",
       "      <th>roc_auc_score</th>\n",
       "      <th>time</th>\n",
       "    </tr>\n",
       "  </thead>\n",
       "  <tbody>\n",
       "    <tr>\n",
       "      <td>0</td>\n",
       "      <td>0.694316</td>\n",
       "      <td>0.693301</td>\n",
       "      <td>0.500343</td>\n",
       "      <td>0.500000</td>\n",
       "      <td>00:19</td>\n",
       "    </tr>\n",
       "  </tbody>\n",
       "</table>"
      ],
      "text/plain": [
       "<IPython.core.display.HTML object>"
      ]
     },
     "metadata": {},
     "output_type": "display_data"
    }
   ],
   "source": [
    "learn = fit()"
   ]
  },
  {
   "cell_type": "code",
   "execution_count": 71,
   "id": "26a2013b-032b-4eb6-9690-0a4d957f5527",
   "metadata": {},
   "outputs": [
    {
     "data": {
      "image/png": "[encoded data removed]",
      "text/plain": [
       "<Figure size 864x216 with 3 Axes>"
      ]
     },
     "metadata": {
      "needs_background": "light"
     },
     "output_type": "display_data"
    }
   ],
   "source": [
    "learn.activation_stats.plot_layer_stats(0)"
   ]
  },
  {
   "cell_type": "code",
   "execution_count": 72,
   "id": "d4f4304b-708d-4869-8c3c-3a6c5f6828d1",
   "metadata": {},
   "outputs": [
    {
     "data": {
      "image/png": "[encoded data removed]",
      "text/plain": [
       "<Figure size 864x216 with 3 Axes>"
      ]
     },
     "metadata": {
      "needs_background": "light"
     },
     "output_type": "display_data"
    }
   ],
   "source": [
    "learn.activation_stats.plot_layer_stats(-2)"
   ]
  },
  {
   "cell_type": "markdown",
   "id": "f7a40e92-d146-45fc-a639-3977ec5408dc",
   "metadata": {},
   "source": [
    "### Increase batch size"
   ]
  },
  {
   "cell_type": "code",
   "execution_count": 73,
   "id": "730abcbc-6853-4273-9736-e16f5b10a4b6",
   "metadata": {},
   "outputs": [],
   "source": [
    "dls = get_dls(512)"
   ]
  },
  {
   "cell_type": "code",
   "execution_count": null,
   "id": "4fd3cb08-cd31-44c3-b92a-3fdca86fbd49",
   "metadata": {},
   "outputs": [],
   "source": [
    "learn = fit()"
   ]
  },
  {
   "cell_type": "code",
   "execution_count": 75,
   "id": "26ecdfa6-d217-4dba-8712-6242aba39c2b",
   "metadata": {},
   "outputs": [
    {
     "data": {
      "image/png": "[encoded data removed]",
      "text/plain": [
       "<Figure size 864x216 with 3 Axes>"
      ]
     },
     "metadata": {
      "needs_background": "light"
     },
     "output_type": "display_data"
    }
   ],
   "source": [
    "learn.activation_stats.plot_layer_stats(-2)"
   ]
  },
  {
   "cell_type": "markdown",
   "id": "8f6da557-50e8-473c-89fd-380cfed9c2ce",
   "metadata": {},
   "source": [
    "### One-cycle training"
   ]
  },
  {
   "cell_type": "code",
   "execution_count": 77,
   "id": "cc0358c8-1d38-40df-8bb8-364d3ef80228",
   "metadata": {},
   "outputs": [],
   "source": [
    "def fit(epochs=1, lr=0.06):\n",
    "    learn = Learner(\n",
    "        dls,\n",
    "        simple_cnn(),\n",
    "        metrics=[accuracy, RocAucBinary()],\n",
    "        loss_func=F.cross_entropy,\n",
    "        cbs=ActivationStats(with_hist=True),\n",
    "    )\n",
    "    learn.fit_one_cycle(epochs, lr)\n",
    "    return learn"
   ]
  },
  {
   "cell_type": "code",
   "execution_count": 78,
   "id": "4f99370c-2c82-41f5-9eee-b4aacfd27c7d",
   "metadata": {},
   "outputs": [
    {
     "name": "stderr",
     "output_type": "stream",
     "text": [
      "/home/lewis/miniconda3/envs/dl4phys/lib/python3.9/site-packages/fastai/callback/core.py:67: UserWarning: You are shadowing an attribute (modules) that exists in the learner. Use `self.learn.modules` to avoid this\n",
      "  warn(f\"You are shadowing an attribute ({name}) that exists in the learner. Use `self.learn.{name}` to avoid this\")\n"
     ]
    },
    {
     "data": {
      "text/html": [
       "\n",
       "<style>\n",
       "    /* Turns off some styling */\n",
       "    progress {\n",
       "        /* gets rid of default border in Firefox and Opera. */\n",
       "        border: none;\n",
       "        /* Needs to be in here for Safari polyfill so background images work as expected. */\n",
       "        background-size: auto;\n",
       "    }\n",
       "    .progress-bar-interrupted, .progress-bar-interrupted::-webkit-progress-bar {\n",
       "        background: #F44336;\n",
       "    }\n",
       "</style>\n"
      ],
      "text/plain": [
       "<IPython.core.display.HTML object>"
      ]
     },
     "metadata": {},
     "output_type": "display_data"
    },
    {
     "data": {
      "text/html": [
       "<table border=\"1\" class=\"dataframe\">\n",
       "  <thead>\n",
       "    <tr style=\"text-align: left;\">\n",
       "      <th>epoch</th>\n",
       "      <th>train_loss</th>\n",
       "      <th>valid_loss</th>\n",
       "      <th>accuracy</th>\n",
       "      <th>roc_auc_score</th>\n",
       "      <th>time</th>\n",
       "    </tr>\n",
       "  </thead>\n",
       "  <tbody>\n",
       "    <tr>\n",
       "      <td>0</td>\n",
       "      <td>0.255303</td>\n",
       "      <td>0.255807</td>\n",
       "      <td>0.895400</td>\n",
       "      <td>0.958187</td>\n",
       "      <td>00:12</td>\n",
       "    </tr>\n",
       "  </tbody>\n",
       "</table>"
      ],
      "text/plain": [
       "<IPython.core.display.HTML object>"
      ]
     },
     "metadata": {},
     "output_type": "display_data"
    }
   ],
   "source": [
    "learn = fit()"
   ]
  },
  {
   "cell_type": "code",
   "execution_count": 79,
   "id": "5b2f1967-9cc4-417c-9d28-3644735fa181",
   "metadata": {},
   "outputs": [
    {
     "data": {
      "image/png": "[encoded data removed]",
      "text/plain": [
       "<Figure size 864x288 with 2 Axes>"
      ]
     },
     "metadata": {
      "needs_background": "light"
     },
     "output_type": "display_data"
    }
   ],
   "source": [
    "learn.recorder.plot_sched()"
   ]
  },
  {
   "cell_type": "code",
   "execution_count": 80,
   "id": "86907a10-c8e8-4036-9288-006632d6db2d",
   "metadata": {},
   "outputs": [
    {
     "data": {
      "image/png": "[encoded data removed]",
      "text/plain": [
       "<Figure size 864x216 with 3 Axes>"
      ]
     },
     "metadata": {
      "needs_background": "light"
     },
     "output_type": "display_data"
    }
   ],
   "source": [
    "learn.activation_stats.plot_layer_stats(-2)"
   ]
  },
  {
   "cell_type": "markdown",
   "id": "ecf02e2d-6b9d-49dc-9232-4b8f9653c467",
   "metadata": {},
   "source": [
    "### Batch normalization"
   ]
  },
  {
   "cell_type": "code",
   "execution_count": 82,
   "id": "b127a070-d0d7-44c8-914d-cebce2bf766a",
   "metadata": {},
   "outputs": [],
   "source": [
    "def conv(ni, nf, ks=3, act=True):\n",
    "    layers = [nn.Conv2d(ni, nf, stride=2, kernel_size=ks, padding=ks // 2)]\n",
    "    layers.append(nn.BatchNorm2d(nf))\n",
    "    if act:\n",
    "        layers.append(nn.ReLU())\n",
    "    return nn.Sequential(*layers)"
   ]
  },
  {
   "cell_type": "code",
   "execution_count": 85,
   "id": "d4f749c7-c0c1-4a28-b340-9d297cf57678",
   "metadata": {},
   "outputs": [
    {
     "name": "stderr",
     "output_type": "stream",
     "text": [
      "/home/lewis/miniconda3/envs/dl4phys/lib/python3.9/site-packages/fastai/callback/core.py:67: UserWarning: You are shadowing an attribute (modules) that exists in the learner. Use `self.learn.modules` to avoid this\n",
      "  warn(f\"You are shadowing an attribute ({name}) that exists in the learner. Use `self.learn.{name}` to avoid this\")\n"
     ]
    },
    {
     "data": {
      "text/html": [
       "\n",
       "<style>\n",
       "    /* Turns off some styling */\n",
       "    progress {\n",
       "        /* gets rid of default border in Firefox and Opera. */\n",
       "        border: none;\n",
       "        /* Needs to be in here for Safari polyfill so background images work as expected. */\n",
       "        background-size: auto;\n",
       "    }\n",
       "    .progress-bar-interrupted, .progress-bar-interrupted::-webkit-progress-bar {\n",
       "        background: #F44336;\n",
       "    }\n",
       "</style>\n"
      ],
      "text/plain": [
       "<IPython.core.display.HTML object>"
      ]
     },
     "metadata": {},
     "output_type": "display_data"
    },
    {
     "data": {
      "text/html": [
       "<table border=\"1\" class=\"dataframe\">\n",
       "  <thead>\n",
       "    <tr style=\"text-align: left;\">\n",
       "      <th>epoch</th>\n",
       "      <th>train_loss</th>\n",
       "      <th>valid_loss</th>\n",
       "      <th>accuracy</th>\n",
       "      <th>roc_auc_score</th>\n",
       "      <th>time</th>\n",
       "    </tr>\n",
       "  </thead>\n",
       "  <tbody>\n",
       "    <tr>\n",
       "      <td>0</td>\n",
       "      <td>0.215361</td>\n",
       "      <td>0.215348</td>\n",
       "      <td>0.909914</td>\n",
       "      <td>0.970373</td>\n",
       "      <td>00:22</td>\n",
       "    </tr>\n",
       "  </tbody>\n",
       "</table>"
      ],
      "text/plain": [
       "<IPython.core.display.HTML object>"
      ]
     },
     "metadata": {},
     "output_type": "display_data"
    }
   ],
   "source": [
    "learn = fit()"
   ]
  },
  {
   "cell_type": "code",
   "execution_count": 86,
   "id": "9e31bad8-aa9a-4168-8f76-64f11a0594f2",
   "metadata": {},
   "outputs": [
    {
     "data": {
      "image/png": "[encoded data removed]",
      "text/plain": [
       "<Figure size 864x216 with 3 Axes>"
      ]
     },
     "metadata": {
      "needs_background": "light"
     },
     "output_type": "display_data"
    }
   ],
   "source": [
    "learn.activation_stats.plot_layer_stats(-2)"
   ]
  },
  {
   "cell_type": "code",
   "execution_count": 87,
   "id": "37ac31bb-445b-406f-90cd-a18d37138346",
   "metadata": {},
   "outputs": [
    {
     "name": "stderr",
     "output_type": "stream",
     "text": [
      "/home/lewis/miniconda3/envs/dl4phys/lib/python3.9/site-packages/fastai/callback/core.py:67: UserWarning: You are shadowing an attribute (modules) that exists in the learner. Use `self.learn.modules` to avoid this\n",
      "  warn(f\"You are shadowing an attribute ({name}) that exists in the learner. Use `self.learn.{name}` to avoid this\")\n"
     ]
    },
    {
     "data": {
      "text/html": [
       "\n",
       "<style>\n",
       "    /* Turns off some styling */\n",
       "    progress {\n",
       "        /* gets rid of default border in Firefox and Opera. */\n",
       "        border: none;\n",
       "        /* Needs to be in here for Safari polyfill so background images work as expected. */\n",
       "        background-size: auto;\n",
       "    }\n",
       "    .progress-bar-interrupted, .progress-bar-interrupted::-webkit-progress-bar {\n",
       "        background: #F44336;\n",
       "    }\n",
       "</style>\n"
      ],
      "text/plain": [
       "<IPython.core.display.HTML object>"
      ]
     },
     "metadata": {},
     "output_type": "display_data"
    },
    {
     "data": {
      "text/html": [
       "<table border=\"1\" class=\"dataframe\">\n",
       "  <thead>\n",
       "    <tr style=\"text-align: left;\">\n",
       "      <th>epoch</th>\n",
       "      <th>train_loss</th>\n",
       "      <th>valid_loss</th>\n",
       "      <th>accuracy</th>\n",
       "      <th>roc_auc_score</th>\n",
       "      <th>time</th>\n",
       "    </tr>\n",
       "  </thead>\n",
       "  <tbody>\n",
       "    <tr>\n",
       "      <td>0</td>\n",
       "      <td>0.241621</td>\n",
       "      <td>0.324524</td>\n",
       "      <td>0.879571</td>\n",
       "      <td>0.951736</td>\n",
       "      <td>00:22</td>\n",
       "    </tr>\n",
       "    <tr>\n",
       "      <td>1</td>\n",
       "      <td>0.232091</td>\n",
       "      <td>1.657844</td>\n",
       "      <td>0.655914</td>\n",
       "      <td>0.913255</td>\n",
       "      <td>00:21</td>\n",
       "    </tr>\n",
       "    <tr>\n",
       "      <td>2</td>\n",
       "      <td>0.222661</td>\n",
       "      <td>0.819799</td>\n",
       "      <td>0.612086</td>\n",
       "      <td>0.906052</td>\n",
       "      <td>00:21</td>\n",
       "    </tr>\n",
       "    <tr>\n",
       "      <td>3</td>\n",
       "      <td>0.220339</td>\n",
       "      <td>0.276002</td>\n",
       "      <td>0.885429</td>\n",
       "      <td>0.957145</td>\n",
       "      <td>00:21</td>\n",
       "    </tr>\n",
       "    <tr>\n",
       "      <td>4</td>\n",
       "      <td>0.217905</td>\n",
       "      <td>0.410375</td>\n",
       "      <td>0.813257</td>\n",
       "      <td>0.920187</td>\n",
       "      <td>00:21</td>\n",
       "    </tr>\n",
       "    <tr>\n",
       "      <td>5</td>\n",
       "      <td>0.209055</td>\n",
       "      <td>0.433610</td>\n",
       "      <td>0.802971</td>\n",
       "      <td>0.920204</td>\n",
       "      <td>00:21</td>\n",
       "    </tr>\n",
       "    <tr>\n",
       "      <td>6</td>\n",
       "      <td>0.204782</td>\n",
       "      <td>0.363477</td>\n",
       "      <td>0.832943</td>\n",
       "      <td>0.945951</td>\n",
       "      <td>00:21</td>\n",
       "    </tr>\n",
       "    <tr>\n",
       "      <td>7</td>\n",
       "      <td>0.198509</td>\n",
       "      <td>0.206748</td>\n",
       "      <td>0.913429</td>\n",
       "      <td>0.972911</td>\n",
       "      <td>00:21</td>\n",
       "    </tr>\n",
       "    <tr>\n",
       "      <td>8</td>\n",
       "      <td>0.191656</td>\n",
       "      <td>0.202564</td>\n",
       "      <td>0.916000</td>\n",
       "      <td>0.974434</td>\n",
       "      <td>00:21</td>\n",
       "    </tr>\n",
       "    <tr>\n",
       "      <td>9</td>\n",
       "      <td>0.182151</td>\n",
       "      <td>0.196292</td>\n",
       "      <td>0.918886</td>\n",
       "      <td>0.975237</td>\n",
       "      <td>00:21</td>\n",
       "    </tr>\n",
       "  </tbody>\n",
       "</table>"
      ],
      "text/plain": [
       "<IPython.core.display.HTML object>"
      ]
     },
     "metadata": {},
     "output_type": "display_data"
    }
   ],
   "source": [
    "learn = fit(10, lr=0.1)"
   ]
  },
  {
   "cell_type": "markdown",
   "id": "bdbb5628-c819-4469-810e-a55fb4e2c621",
   "metadata": {},
   "source": [
    "## Exercises\n",
    "\n",
    "* Implement the same CNN architecture from the review. Can you get close to their results?"
   ]
  },
  {
   "cell_type": "code",
   "execution_count": null,
   "id": "6bcf2a4a-72d0-4efe-b569-f2ada3dfd2d5",
   "metadata": {},
   "outputs": [],
   "source": []
  }
 ],
 "metadata": {
  "kernelspec": {
   "display_name": "Python 3 (ipykernel)",
   "language": "python",
   "name": "python3"
  },
  "language_info": {
   "codemirror_mode": {
    "name": "ipython",
    "version": 3
   },
   "file_extension": ".py",
   "mimetype": "text/x-python",
   "name": "python",
   "nbconvert_exporter": "python",
   "pygments_lexer": "ipython3",
   "version": "3.9.12"
  }
 },
 "nbformat": 4,
 "nbformat_minor": 5
}
