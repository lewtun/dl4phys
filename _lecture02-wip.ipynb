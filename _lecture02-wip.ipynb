{
 "cells": [
  {
   "cell_type": "markdown",
   "id": "4375c2f8-249a-4f6d-8089-2b647bd83ecb",
   "metadata": {},
   "source": [
    "# Lecture 2 - Neural network deep dive"
   ]
  },
  {
   "cell_type": "markdown",
   "id": "07d6c97c-1780-40a8-a739-f4c962182986",
   "metadata": {},
   "source": [
    "> A deep dive into optimising neural networks with stochastic gradient descent"
   ]
  },
  {
   "cell_type": "markdown",
   "id": "dc5f2762-c6b8-4368-8042-336c40a448d8",
   "metadata": {},
   "source": [
    "## Learning objectives\n",
    "\n",
    "* Understand what stochastic gradient descent is and how to minimise functions with it in PyTorch\n",
    "* Understand all the ingredients needed to define a `Learner` in fastai"
   ]
  },
  {
   "cell_type": "markdown",
   "id": "47dfe094-686e-40e7-8eaa-0d4991a2243c",
   "metadata": {},
   "source": [
    "## References\n",
    "\n",
    "* This lecture draws heavily from Chapter 4 of [_Deep Learning for Coders with fastai & PyTorch_](https://github.com/fastai/fastbook) by Jeremy Howard and Sylvain Gugger. The main difference is the use of a tabular jet tagging dataset instead of MNIST to showcase how all the elements of a `Learner` are combined."
   ]
  },
  {
   "cell_type": "markdown",
   "id": "699fa5d4-0c13-4e79-821c-e2701c4279c3",
   "metadata": {
    "tags": []
   },
   "source": [
    "## Imports"
   ]
  },
  {
   "cell_type": "code",
   "execution_count": 1,
   "id": "73261150-b566-48b0-812f-293e97564d7c",
   "metadata": {},
   "outputs": [],
   "source": [
    "import torch\n",
    "from datasets import load_dataset\n",
    "from fastai.tabular.all import *\n",
    "from sklearn.model_selection import train_test_split"
   ]
  },
  {
   "cell_type": "code",
   "execution_count": 2,
   "id": "62c70888-089f-42ec-904a-a271a66c5060",
   "metadata": {},
   "outputs": [],
   "source": [
    "import datasets\n",
    "\n",
    "# Suppress logs to keep things tidy\n",
    "datasets.logging.set_verbosity_error()"
   ]
  },
  {
   "cell_type": "markdown",
   "id": "7c021731-28ce-4c4e-a823-1aef76109e6e",
   "metadata": {},
   "source": [
    "## Stochastic gradient descent"
   ]
  },
  {
   "cell_type": "markdown",
   "id": "a05acad5-6cff-4a85-bedf-e4cc7d5a3eb9",
   "metadata": {},
   "source": [
    "What does it actually mean to _train_ a model? In deep learning, this process is called _stochastic gradient descent_ (SGD) and involves 7 main steps:\n",
    "\n",
    "1. Initialize the parameters of the neural network\n",
    "2. For each example in the dataset, use the parameters to make a predicition (e.g. is this jet produced by a top-quark or QCD background?)\n",
    "3. Use these predictions to calculate the model performance via the _loss_\n",
    "4. Calculate the _gradients_\n",
    "5. Update all the parameters by taking a _step_ in the direction that minimises the loss\n",
    "6. Repeat from step 2\n",
    "7. Stop the training process once the model is good enough"
   ]
  },
  {
   "cell_type": "markdown",
   "id": "2e45f3b0-3c38-4d8e-9d48-1021aa3374b6",
   "metadata": {},
   "source": [
    "In this lecture, we will take a deep dive into how these steps work in PyTorch. But before doing that, let's take a quick look at how gradients are computed in PyTorch, as they'll play a large role in what follows."
   ]
  },
  {
   "cell_type": "markdown",
   "id": "8ffd764e-bcf8-4a05-843e-6e0f04622c08",
   "metadata": {},
   "source": [
    "### Calculating gradients"
   ]
  },
  {
   "cell_type": "markdown",
   "id": "b3281a84-3d2a-4f3f-b21a-80e435e4bc33",
   "metadata": {},
   "source": [
    "To illustrate how gradients are computed in PyTorch, let's consider a simple quadratic loss function:"
   ]
  },
  {
   "cell_type": "code",
   "execution_count": 3,
   "id": "c8e8500c-e93a-47d8-9e23-caa7c0ff1eea",
   "metadata": {},
   "outputs": [],
   "source": [
    "def f(x):\n",
    "    return x**2"
   ]
  },
  {
   "cell_type": "markdown",
   "id": "9a4662d6-2535-49cc-a723-2d637e0797f7",
   "metadata": {},
   "source": [
    "Next, let's create a tensor at the point we wish to calculate the gradient of $f(x)$:"
   ]
  },
  {
   "cell_type": "code",
   "execution_count": 4,
   "id": "08b05fe2-33de-41ed-8e7d-a673fe46db0d",
   "metadata": {},
   "outputs": [
    {
     "data": {
      "text/plain": [
       "tensor(3., requires_grad=True)"
      ]
     },
     "execution_count": 4,
     "metadata": {},
     "output_type": "execute_result"
    }
   ],
   "source": [
    "xt = tensor(3.0).requires_grad_()\n",
    "xt"
   ]
  },
  {
   "cell_type": "markdown",
   "id": "86650d9f-5177-43b7-ac37-04924dabce4c",
   "metadata": {},
   "source": [
    "Here, the special `requires_grad_()` method tells PyTorch to begin recording operations on the tensor `xt`; in particular which parts of the code should be included for computing gradients. Next, let's use this tensor to generate the output `yt` from our function:"
   ]
  },
  {
   "cell_type": "code",
   "execution_count": 5,
   "id": "45a4497c-e407-4b89-aec3-b84f1002c1f9",
   "metadata": {},
   "outputs": [
    {
     "data": {
      "text/plain": [
       "tensor(9., grad_fn=<PowBackward0>)"
      ]
     },
     "execution_count": 5,
     "metadata": {},
     "output_type": "execute_result"
    }
   ],
   "source": [
    "yt = f(xt)\n",
    "yt"
   ]
  },
  {
   "cell_type": "markdown",
   "id": "bb86a9ce-4657-45ec-977d-40ea6fc2818a",
   "metadata": {},
   "source": [
    "This looks good and here PyTorch is indicating both the value of the tensor and the gradient function that will be used. So let's now compute the gradients with the `backward()` method:"
   ]
  },
  {
   "cell_type": "code",
   "execution_count": 6,
   "id": "a7c4e735-8957-4ccf-9177-37ddcb288f49",
   "metadata": {},
   "outputs": [],
   "source": [
    "yt.backward()"
   ]
  },
  {
   "cell_type": "markdown",
   "id": "9a188ec2-27e7-4376-8c20-bdfc171bbfca",
   "metadata": {},
   "source": [
    "Here, \"backward\" refers to _backpropagation_, which is the technique used in deep learning to compute the gradients of the loss with respect to all the weights in the model. We'll look at backpropagation in a bit more detail soon, but for now the main thing to note is that the gradients are stored in the `Tensor.grad` attribute:"
   ]
  },
  {
   "cell_type": "code",
   "execution_count": 7,
   "id": "834d56d8-c1c3-4481-8e5c-15662883a71c",
   "metadata": {},
   "outputs": [
    {
     "data": {
      "text/plain": [
       "tensor(6.)"
      ]
     },
     "execution_count": 7,
     "metadata": {},
     "output_type": "execute_result"
    }
   ],
   "source": [
    "xt.grad"
   ]
  },
  {
   "cell_type": "markdown",
   "id": "0ce54f58-8780-43bf-a45b-a0a261b1c2c8",
   "metadata": {},
   "source": [
    "Great, this worked since we know analytically that $f'(3) = 6$! Now let's generalise to the case where our tensor is an array of values:"
   ]
  },
  {
   "cell_type": "code",
   "execution_count": 8,
   "id": "26ce9687-a5fc-4a0a-84c8-9ad8c53e625a",
   "metadata": {},
   "outputs": [
    {
     "data": {
      "text/plain": [
       "tensor([ 3.,  4., 10.], requires_grad=True)"
      ]
     },
     "execution_count": 8,
     "metadata": {},
     "output_type": "execute_result"
    }
   ],
   "source": [
    "xt = tensor([3.0, 4.0, 10.0]).requires_grad_()\n",
    "xt"
   ]
  },
  {
   "cell_type": "markdown",
   "id": "28d5a14f-ac93-452f-80c2-be84301ec7c6",
   "metadata": {},
   "source": [
    "To compute the gradients, we'll also need to add a `sum()` operator to our function so that it returns a scalar:"
   ]
  },
  {
   "cell_type": "code",
   "execution_count": 9,
   "id": "8a482427-0955-4bb8-a4e5-8329feda1ed7",
   "metadata": {},
   "outputs": [
    {
     "data": {
      "text/plain": [
       "tensor(125., grad_fn=<SumBackward0>)"
      ]
     },
     "execution_count": 9,
     "metadata": {},
     "output_type": "execute_result"
    }
   ],
   "source": [
    "def f(x):\n",
    "    return (x**2).sum()\n",
    "\n",
    "\n",
    "yt = f(xt)\n",
    "yt"
   ]
  },
  {
   "cell_type": "markdown",
   "id": "31bdcc71-d04f-4d8c-9359-b7e62551c594",
   "metadata": {},
   "source": [
    "Here we can see that passing an array of values and applying the sum is equivalent to computing:\n",
    "\n",
    "$$ f(x_0) = \\sum_i x_i^2 \\Big|_{x_0}  $$ \n",
    "\n",
    "Finally, let's check the values of our gradients $f'(x_0)$:"
   ]
  },
  {
   "cell_type": "code",
   "execution_count": 10,
   "id": "af068326-575b-4af6-9a7c-6ff62abc211f",
   "metadata": {},
   "outputs": [
    {
     "data": {
      "text/plain": [
       "tensor([ 6.,  8., 20.])"
      ]
     },
     "execution_count": 10,
     "metadata": {},
     "output_type": "execute_result"
    }
   ],
   "source": [
    "yt.backward()\n",
    "xt.grad"
   ]
  },
  {
   "cell_type": "markdown",
   "id": "047c551e-af98-4de2-a7ac-020e5b5444b8",
   "metadata": {},
   "source": [
    "Now that we know how to compute gradients, we next need to find a way to update all the weights. Let's take a look at this with a more realistic example."
   ]
  },
  {
   "cell_type": "markdown",
   "id": "3fc3e03e-8518-4639-aee2-f3c59b3a5a6a",
   "metadata": {},
   "source": [
    "## An end-to-end example"
   ]
  },
  {
   "cell_type": "markdown",
   "id": "a722762b-b594-4428-9e16-4b301a36f7d4",
   "metadata": {},
   "source": [
    "Imagine that you're measuring some signal at fixed time steps:"
   ]
  },
  {
   "cell_type": "code",
   "execution_count": 11,
   "id": "33e7ffd2-6bb8-40c1-8e66-43d9886dd008",
   "metadata": {},
   "outputs": [],
   "source": [
    "time = torch.arange(0, 20).float()"
   ]
  },
  {
   "cell_type": "markdown",
   "id": "334f367c-a939-4c48-8d70-b9c141e3948b",
   "metadata": {},
   "source": [
    "and then find the result of your measurements looks something like a parabola:"
   ]
  },
  {
   "cell_type": "code",
   "execution_count": 12,
   "id": "d1606a74-afa6-446a-a24e-3369c4035e96",
   "metadata": {},
   "outputs": [
    {
     "data": {
      "image/png": "[encoded data removed]",
      "text/plain": [
       "<Figure size 432x288 with 1 Axes>"
      ]
     },
     "metadata": {
      "needs_background": "light"
     },
     "output_type": "display_data"
    }
   ],
   "source": [
    "signal = torch.randn(20) * 3 + 0.75 * (time - 9.5) ** 2 + 1\n",
    "plt.scatter(time, signal);"
   ]
  },
  {
   "cell_type": "markdown",
   "id": "f1f3f3f3-0a3a-478d-b1ea-77abc15c2ad8",
   "metadata": {},
   "source": [
    "Using SGD, our goal will be to find a function that best fits the data. A good choice of function would be a general quadratic of the form:\n",
    "\n",
    "$$ f(t) = at^2 + bt + c $$\n",
    "\n",
    "We can then define a function that collects the timestep $t$ and the parameters $a,b,c$ as separate arguments:"
   ]
  },
  {
   "cell_type": "code",
   "execution_count": 13,
   "id": "248c3b59-54ee-4ed5-a545-cd832bc997f3",
   "metadata": {},
   "outputs": [],
   "source": [
    "def f(t, params):\n",
    "    a, b, c = params\n",
    "    return a * (t**2) + (b * t) + c"
   ]
  },
  {
   "cell_type": "markdown",
   "id": "ee12bfc1-3c0b-4d16-a7f6-bb0c1b0c49dd",
   "metadata": {},
   "source": [
    "To define what we mean by \"best\" values of $a,b,c$, we'll need to choose a loss function. For regression problems like ours, it is common to use the mean squared error, which we can define as follows:"
   ]
  },
  {
   "cell_type": "code",
   "execution_count": 14,
   "id": "d046fe1b-bfe0-4778-8fc4-7cf11250b2ee",
   "metadata": {},
   "outputs": [],
   "source": [
    "def mse(preds, targets):\n",
    "    return ((preds - targets) ** 2).mean()"
   ]
  },
  {
   "cell_type": "markdown",
   "id": "a6597c21-d6ea-4125-80b5-94e3441999d3",
   "metadata": {},
   "source": [
    "Now that we have a function we with to optimise and a loss function, let's work through the 7 steps of training a model."
   ]
  },
  {
   "cell_type": "markdown",
   "id": "5d4f01e8-f930-4d8c-bceb-e8d9c392288c",
   "metadata": {},
   "source": [
    "### Step 1: Initialize the parameters"
   ]
  },
  {
   "cell_type": "markdown",
   "id": "b24e0e33-e976-48c7-85e9-5739c3eaf706",
   "metadata": {},
   "source": [
    "Since our function involves three parameters $a,b,c$, we'll initialise random values of them using the `torch.randn()` function:"
   ]
  },
  {
   "cell_type": "code",
   "execution_count": 15,
   "id": "1a89a2b1-4034-4699-97de-46465338cc78",
   "metadata": {},
   "outputs": [
    {
     "data": {
      "text/plain": [
       "tensor([-2.1188,  0.0635, -1.4555], requires_grad=True)"
      ]
     },
     "execution_count": 15,
     "metadata": {},
     "output_type": "execute_result"
    }
   ],
   "source": [
    "set_seed(666)\n",
    "params = torch.randn(3).requires_grad_()\n",
    "params"
   ]
  },
  {
   "cell_type": "markdown",
   "id": "0b061136-f122-4c68-a2ce-07871f01be70",
   "metadata": {},
   "source": [
    "As we did earlier, we've applied the `requires_grad_()` method to indicate that we wish to track the gradients of the `params` tensor. We've also set the seed to the number of the beast so that the results are reproducible when you run the code on your own machine 😈."
   ]
  },
  {
   "cell_type": "markdown",
   "id": "3b2fd45d-8aec-4167-bbae-426b0a0e50ee",
   "metadata": {},
   "source": [
    "### Step 2: Calculate the predictions"
   ]
  },
  {
   "cell_type": "markdown",
   "id": "f16ff0ce-de7f-4068-843f-3fde9a342599",
   "metadata": {},
   "source": [
    "The next step is compute the predictions from the \"model\":"
   ]
  },
  {
   "cell_type": "code",
   "execution_count": 16,
   "id": "34dc48b8-bad8-4d99-b995-45d63781e470",
   "metadata": {},
   "outputs": [
    {
     "data": {
      "text/plain": [
       "torch.Size([20])"
      ]
     },
     "execution_count": 16,
     "metadata": {},
     "output_type": "execute_result"
    }
   ],
   "source": [
    "preds = f(time, params)\n",
    "preds.shape"
   ]
  },
  {
   "cell_type": "markdown",
   "id": "4d18373d-5740-49be-94d3-6bffde1a8fe3",
   "metadata": {},
   "source": [
    "Notice that we get one prediction for each of the time step in the `time` array. We can visualise these predictions with the following helper function:"
   ]
  },
  {
   "cell_type": "code",
   "execution_count": 17,
   "id": "d1d1f620-560a-4799-bb16-0c2902c1cf37",
   "metadata": {},
   "outputs": [
    {
     "data": {
      "image/png": "[encoded data removed]",
      "text/plain": [
       "<Figure size 432x288 with 1 Axes>"
      ]
     },
     "metadata": {
      "needs_background": "light"
     },
     "output_type": "display_data"
    }
   ],
   "source": [
    "def show_preds(preds, ax=None):\n",
    "    if ax is None:\n",
    "        ax = plt.subplots()[1]\n",
    "    ax.scatter(time, signal)\n",
    "    ax.scatter(time, to_np(preds), color=\"red\")\n",
    "    ax.set_ylim(-300, 100)\n",
    "\n",
    "\n",
    "show_preds(preds)"
   ]
  },
  {
   "cell_type": "markdown",
   "id": "d3e7ceb4-dbb7-427c-ae3d-8079012a6699",
   "metadata": {},
   "source": [
    "Unsuprisngly, our randomly initialised model isn't very good - let's see if we can improve it by adjusting the parameters!"
   ]
  },
  {
   "cell_type": "markdown",
   "id": "c99a4f0a-0d95-46ee-9fc3-c1ac81aa381d",
   "metadata": {},
   "source": [
    "### Step 3: Calculate the loss"
   ]
  },
  {
   "cell_type": "markdown",
   "id": "a8160cbd-10be-4cbf-a10a-ab6c9aa90dc1",
   "metadata": {},
   "source": [
    "To know how we should adjust the parameters, we need a way to indicate in which direction we should optimise them. To do so, we'll first compute the loss:"
   ]
  },
  {
   "cell_type": "code",
   "execution_count": 18,
   "id": "20b5d66f-1d40-42ad-af6c-ad19aee5c9d7",
   "metadata": {},
   "outputs": [
    {
     "data": {
      "text/plain": [
       "tensor(144123.2188, grad_fn=<MeanBackward0>)"
      ]
     },
     "execution_count": 18,
     "metadata": {},
     "output_type": "execute_result"
    }
   ],
   "source": [
    "loss = mse(preds, signal)\n",
    "loss"
   ]
  },
  {
   "cell_type": "markdown",
   "id": "b53f42f7-e7c2-41f5-a471-b2e89a75d6f0",
   "metadata": {},
   "source": [
    "To improve this value (i.e. make it lower), we'll need the gradients."
   ]
  },
  {
   "cell_type": "markdown",
   "id": "d7430731-4a93-474b-af62-1aec0b8e2c6b",
   "metadata": {},
   "source": [
    "### Step 4: Calculate the gradients"
   ]
  },
  {
   "cell_type": "markdown",
   "id": "934b6907-cdd6-4412-a40e-37df9c74ac5f",
   "metadata": {},
   "source": [
    "Next we calculate the gradients:"
   ]
  },
  {
   "cell_type": "code",
   "execution_count": 19,
   "id": "d624a6e3-d734-4b00-8e5c-f93b0de81904",
   "metadata": {},
   "outputs": [
    {
     "data": {
      "text/plain": [
       "tensor([-127067.0156,   -8144.7261,    -574.7094])"
      ]
     },
     "execution_count": 19,
     "metadata": {},
     "output_type": "execute_result"
    }
   ],
   "source": [
    "loss.backward()\n",
    "params.grad"
   ]
  },
  {
   "cell_type": "markdown",
   "id": "486c0669-4a09-44d1-91fa-7afad8ee6ec5",
   "metadata": {},
   "source": [
    "### Step 5: Step the weights"
   ]
  },
  {
   "cell_type": "markdown",
   "id": "2d467b2a-9c7a-4802-ba20-e4dba5402ec6",
   "metadata": {},
   "source": [
    "Next we need to update the parameters according to a learning rate. For now we'll just ues $10^{-5}$:"
   ]
  },
  {
   "cell_type": "code",
   "execution_count": 20,
   "id": "48074427-f33e-46e4-bbcf-9c4314780c34",
   "metadata": {},
   "outputs": [],
   "source": [
    "lr = 1e-5\n",
    "params.data -= lr * params.data\n",
    "params.grad = None"
   ]
  },
  {
   "cell_type": "markdown",
   "id": "762c0394-8dc2-415f-92bc-0c39cc80ad1b",
   "metadata": {},
   "source": [
    "Let's check if the loss has improved:"
   ]
  },
  {
   "cell_type": "code",
   "execution_count": 21,
   "id": "270db918-f088-427c-9e5b-024c6eba6506",
   "metadata": {},
   "outputs": [
    {
     "data": {
      "text/plain": [
       "tensor(144120.5156, grad_fn=<MeanBackward0>)"
      ]
     },
     "execution_count": 21,
     "metadata": {},
     "output_type": "execute_result"
    }
   ],
   "source": [
    "preds = f(time, params)\n",
    "mse(preds, signal)"
   ]
  },
  {
   "cell_type": "code",
   "execution_count": 22,
   "id": "fda0f160-a0e2-46e0-b81d-cbeed3715926",
   "metadata": {},
   "outputs": [
    {
     "data": {
      "image/png": "[encoded data removed]",
      "text/plain": [
       "<Figure size 432x288 with 1 Axes>"
      ]
     },
     "metadata": {
      "needs_background": "light"
     },
     "output_type": "display_data"
    }
   ],
   "source": [
    "show_preds(preds)"
   ]
  },
  {
   "cell_type": "markdown",
   "id": "e7f8ee8e-e9b3-4c8b-9e98-3a77434fb64f",
   "metadata": {},
   "source": [
    "Okay, not much of a change after one step so let's repeat the process a few times to see how things improve. To do so, we'll create another helper function that combines all of the above logic:"
   ]
  },
  {
   "cell_type": "code",
   "execution_count": 23,
   "id": "005b2fb1-aa1e-49e1-8620-7b6e18a37c5c",
   "metadata": {},
   "outputs": [],
   "source": [
    "def apply_step(params, prn=True):\n",
    "    preds = f(time, params)\n",
    "    loss = mse(preds, signal)\n",
    "    loss.backward()\n",
    "    params.data -= lr * params.grad.data\n",
    "    params.grad = None\n",
    "    if prn:\n",
    "        print(loss.item())\n",
    "    return preds"
   ]
  },
  {
   "cell_type": "markdown",
   "id": "4d512d32-833d-4eda-9619-193bd3bfe8bd",
   "metadata": {},
   "source": [
    "### Step 6: Repeat the process"
   ]
  },
  {
   "cell_type": "markdown",
   "id": "e69cacd3-932d-4f83-9c15-c0c10d638efb",
   "metadata": {},
   "source": [
    "Now that we've done one step of gradient descent, it's time to repeat a few times to see if the loss decreases:"
   ]
  },
  {
   "cell_type": "code",
   "execution_count": 24,
   "id": "6182f515-c8b0-442d-bc0a-5b688eb64733",
   "metadata": {
    "tags": []
   },
   "outputs": [
    {
     "name": "stdout",
     "output_type": "stream",
     "text": [
      "144120.515625\n",
      "27796.125\n",
      "5783.99853515625\n",
      "1618.6278076171875\n",
      "830.4098510742188\n",
      "681.2518310546875\n",
      "653.0234985351562\n",
      "647.678955078125\n",
      "646.66455078125\n",
      "646.4696044921875\n"
     ]
    }
   ],
   "source": [
    "for _ in range(10):\n",
    "    apply_step(params)"
   ]
  },
  {
   "cell_type": "markdown",
   "id": "403ee8dd-f2f9-4c48-9ba1-8f8c64df0733",
   "metadata": {},
   "source": [
    "Great, this seems to work! The loss is decreasing with each step, indicating that a different quadratic function is being tried with different values of the parameters $a,b,c$. We can visualise this process by plotting the intermediate results of the first few steps:"
   ]
  },
  {
   "cell_type": "code",
   "execution_count": 25,
   "id": "56a2976a-f5a9-4881-a648-d47bd24dca6c",
   "metadata": {},
   "outputs": [
    {
     "data": {
      "image/png": "[encoded data removed]",
      "text/plain": [
       "<Figure size 864x216 with 4 Axes>"
      ]
     },
     "metadata": {
      "needs_background": "light"
     },
     "output_type": "display_data"
    }
   ],
   "source": [
    "set_seed(666)\n",
    "params = torch.randn(3).requires_grad_()\n",
    "\n",
    "_, axs = plt.subplots(1, 4, figsize=(12, 3))\n",
    "for ax in axs:\n",
    "    show_preds(apply_step(params, False), ax)\n",
    "plt.tight_layout()"
   ]
  },
  {
   "cell_type": "markdown",
   "id": "fa4cac8a-3a5d-4091-ab82-40f05ae0553e",
   "metadata": {},
   "source": [
    "### Step 7: Stop"
   ]
  },
  {
   "cell_type": "markdown",
   "id": "e60ac751-f087-40a0-abd9-df5ba2261488",
   "metadata": {},
   "source": [
    "Here we stopped the process after 10 steps, but in practice one would track metrics like accuracy and loss on the validation set to decide when is a good point to terminate the training."
   ]
  },
  {
   "cell_type": "markdown",
   "id": "1488420a-7f07-45d3-b357-ec0da0d70750",
   "metadata": {},
   "source": [
    "All of these steps can be carried over to any deep learning problem, so let's revisit the $N$-subjettiness dataset of particle jets from lecture 1."
   ]
  },
  {
   "cell_type": "markdown",
   "id": "230c5b5f-3b6c-4c99-a4aa-94393105d7a4",
   "metadata": {},
   "source": [
    "## A real-world example"
   ]
  },
  {
   "cell_type": "markdown",
   "id": "0cb5955a-ecce-4d19-8f2b-08581a0fdac6",
   "metadata": {},
   "source": [
    "So far we've focused on optimising simple quadratic functions, but let's now tackle a real-world problem using neural networks! We'll use the same dataset from lecture 1 that contains jets of top-quarks and QCD background. As usual, we'll load the dataset from the Hugging Face Hub and convert it to a Pandas `DataFrame` via the `to_pandas()` method:"
   ]
  },
  {
   "cell_type": "code",
   "execution_count": 26,
   "id": "d67c6c7d-f7fc-44bf-8ba0-448d66495554",
   "metadata": {},
   "outputs": [
    {
     "data": {
      "application/vnd.jupyter.widget-view+json": {
       "model_id": "c03170257c984b4f9911c44b305b2f82",
       "version_major": 2,
       "version_minor": 0
      },
      "text/plain": [
       "  0%|          | 0/3 [00:00<?, ?it/s]"
      ]
     },
     "metadata": {},
     "output_type": "display_data"
    },
    {
     "data": {
      "text/html": [
       "<div>\n",
       "<style scoped>\n",
       "    .dataframe tbody tr th:only-of-type {\n",
       "        vertical-align: middle;\n",
       "    }\n",
       "\n",
       "    .dataframe tbody tr th {\n",
       "        vertical-align: top;\n",
       "    }\n",
       "\n",
       "    .dataframe thead th {\n",
       "        text-align: right;\n",
       "    }\n",
       "</style>\n",
       "<table border=\"1\" class=\"dataframe\">\n",
       "  <thead>\n",
       "    <tr style=\"text-align: right;\">\n",
       "      <th></th>\n",
       "      <th>pT</th>\n",
       "      <th>mass</th>\n",
       "      <th>tau_1_0.5</th>\n",
       "      <th>tau_1_1</th>\n",
       "      <th>tau_1_2</th>\n",
       "      <th>tau_2_0.5</th>\n",
       "      <th>tau_2_1</th>\n",
       "      <th>tau_2_2</th>\n",
       "      <th>tau_3_0.5</th>\n",
       "      <th>tau_3_1</th>\n",
       "      <th>...</th>\n",
       "      <th>tau_4_0.5</th>\n",
       "      <th>tau_4_1</th>\n",
       "      <th>tau_4_2</th>\n",
       "      <th>tau_5_0.5</th>\n",
       "      <th>tau_5_1</th>\n",
       "      <th>tau_5_2</th>\n",
       "      <th>tau_6_0.5</th>\n",
       "      <th>tau_6_1</th>\n",
       "      <th>tau_6_2</th>\n",
       "      <th>label</th>\n",
       "    </tr>\n",
       "  </thead>\n",
       "  <tbody>\n",
       "    <tr>\n",
       "      <th>0</th>\n",
       "      <td>543.633944</td>\n",
       "      <td>25.846792</td>\n",
       "      <td>0.165122</td>\n",
       "      <td>0.032661</td>\n",
       "      <td>0.002262</td>\n",
       "      <td>0.048830</td>\n",
       "      <td>0.003711</td>\n",
       "      <td>0.000044</td>\n",
       "      <td>0.030994</td>\n",
       "      <td>0.001630</td>\n",
       "      <td>...</td>\n",
       "      <td>0.024336</td>\n",
       "      <td>0.001115</td>\n",
       "      <td>0.000008</td>\n",
       "      <td>0.004252</td>\n",
       "      <td>0.000234</td>\n",
       "      <td>7.706005e-07</td>\n",
       "      <td>0.000000</td>\n",
       "      <td>0.000000</td>\n",
       "      <td>0.000000e+00</td>\n",
       "      <td>0</td>\n",
       "    </tr>\n",
       "    <tr>\n",
       "      <th>1</th>\n",
       "      <td>452.411860</td>\n",
       "      <td>13.388679</td>\n",
       "      <td>0.162938</td>\n",
       "      <td>0.027598</td>\n",
       "      <td>0.000876</td>\n",
       "      <td>0.095902</td>\n",
       "      <td>0.015461</td>\n",
       "      <td>0.000506</td>\n",
       "      <td>0.079750</td>\n",
       "      <td>0.009733</td>\n",
       "      <td>...</td>\n",
       "      <td>0.056854</td>\n",
       "      <td>0.005454</td>\n",
       "      <td>0.000072</td>\n",
       "      <td>0.044211</td>\n",
       "      <td>0.004430</td>\n",
       "      <td>6.175314e-05</td>\n",
       "      <td>0.037458</td>\n",
       "      <td>0.003396</td>\n",
       "      <td>3.670517e-05</td>\n",
       "      <td>0</td>\n",
       "    </tr>\n",
       "    <tr>\n",
       "      <th>2</th>\n",
       "      <td>429.495258</td>\n",
       "      <td>32.021091</td>\n",
       "      <td>0.244436</td>\n",
       "      <td>0.065901</td>\n",
       "      <td>0.005557</td>\n",
       "      <td>0.155202</td>\n",
       "      <td>0.038807</td>\n",
       "      <td>0.002762</td>\n",
       "      <td>0.123285</td>\n",
       "      <td>0.025339</td>\n",
       "      <td>...</td>\n",
       "      <td>0.078205</td>\n",
       "      <td>0.012678</td>\n",
       "      <td>0.000567</td>\n",
       "      <td>0.052374</td>\n",
       "      <td>0.005935</td>\n",
       "      <td>9.395772e-05</td>\n",
       "      <td>0.037572</td>\n",
       "      <td>0.002932</td>\n",
       "      <td>2.237277e-05</td>\n",
       "      <td>0</td>\n",
       "    </tr>\n",
       "    <tr>\n",
       "      <th>3</th>\n",
       "      <td>512.675443</td>\n",
       "      <td>6.684734</td>\n",
       "      <td>0.102580</td>\n",
       "      <td>0.011369</td>\n",
       "      <td>0.000170</td>\n",
       "      <td>0.086306</td>\n",
       "      <td>0.007760</td>\n",
       "      <td>0.000071</td>\n",
       "      <td>0.068169</td>\n",
       "      <td>0.005386</td>\n",
       "      <td>...</td>\n",
       "      <td>0.044705</td>\n",
       "      <td>0.002376</td>\n",
       "      <td>0.000008</td>\n",
       "      <td>0.027895</td>\n",
       "      <td>0.001364</td>\n",
       "      <td>4.400042e-06</td>\n",
       "      <td>0.009012</td>\n",
       "      <td>0.000379</td>\n",
       "      <td>6.731099e-07</td>\n",
       "      <td>0</td>\n",
       "    </tr>\n",
       "    <tr>\n",
       "      <th>4</th>\n",
       "      <td>527.956859</td>\n",
       "      <td>133.985415</td>\n",
       "      <td>0.407009</td>\n",
       "      <td>0.191839</td>\n",
       "      <td>0.065169</td>\n",
       "      <td>0.291460</td>\n",
       "      <td>0.105479</td>\n",
       "      <td>0.029753</td>\n",
       "      <td>0.209341</td>\n",
       "      <td>0.049187</td>\n",
       "      <td>...</td>\n",
       "      <td>0.143768</td>\n",
       "      <td>0.033249</td>\n",
       "      <td>0.003689</td>\n",
       "      <td>0.135407</td>\n",
       "      <td>0.029054</td>\n",
       "      <td>2.593460e-03</td>\n",
       "      <td>0.110805</td>\n",
       "      <td>0.023179</td>\n",
       "      <td>2.202088e-03</td>\n",
       "      <td>0</td>\n",
       "    </tr>\n",
       "  </tbody>\n",
       "</table>\n",
       "<p>5 rows × 21 columns</p>\n",
       "</div>"
      ],
      "text/plain": [
       "           pT        mass  tau_1_0.5   tau_1_1   tau_1_2  tau_2_0.5   tau_2_1  \\\n",
       "0  543.633944   25.846792   0.165122  0.032661  0.002262   0.048830  0.003711   \n",
       "1  452.411860   13.388679   0.162938  0.027598  0.000876   0.095902  0.015461   \n",
       "2  429.495258   32.021091   0.244436  0.065901  0.005557   0.155202  0.038807   \n",
       "3  512.675443    6.684734   0.102580  0.011369  0.000170   0.086306  0.007760   \n",
       "4  527.956859  133.985415   0.407009  0.191839  0.065169   0.291460  0.105479   \n",
       "\n",
       "    tau_2_2  tau_3_0.5   tau_3_1  ...  tau_4_0.5   tau_4_1   tau_4_2  \\\n",
       "0  0.000044   0.030994  0.001630  ...   0.024336  0.001115  0.000008   \n",
       "1  0.000506   0.079750  0.009733  ...   0.056854  0.005454  0.000072   \n",
       "2  0.002762   0.123285  0.025339  ...   0.078205  0.012678  0.000567   \n",
       "3  0.000071   0.068169  0.005386  ...   0.044705  0.002376  0.000008   \n",
       "4  0.029753   0.209341  0.049187  ...   0.143768  0.033249  0.003689   \n",
       "\n",
       "   tau_5_0.5   tau_5_1       tau_5_2  tau_6_0.5   tau_6_1       tau_6_2  label  \n",
       "0   0.004252  0.000234  7.706005e-07   0.000000  0.000000  0.000000e+00      0  \n",
       "1   0.044211  0.004430  6.175314e-05   0.037458  0.003396  3.670517e-05      0  \n",
       "2   0.052374  0.005935  9.395772e-05   0.037572  0.002932  2.237277e-05      0  \n",
       "3   0.027895  0.001364  4.400042e-06   0.009012  0.000379  6.731099e-07      0  \n",
       "4   0.135407  0.029054  2.593460e-03   0.110805  0.023179  2.202088e-03      0  \n",
       "\n",
       "[5 rows x 21 columns]"
      ]
     },
     "execution_count": 26,
     "metadata": {},
     "output_type": "execute_result"
    }
   ],
   "source": [
    "nsubjet_ds = load_dataset(\"dl4phys/top_tagging_nsubjettiness\")\n",
    "df = nsubjet_ds[\"train\"].to_pandas()\n",
    "df.head()"
   ]
  },
  {
   "cell_type": "markdown",
   "id": "525f61c3-7372-42a9-ba7e-12a28260fecf",
   "metadata": {},
   "source": [
    "### Preparing the data"
   ]
  },
  {
   "cell_type": "markdown",
   "id": "4c9e87bc-05c4-4b26-8bdf-a7e8180b457b",
   "metadata": {},
   "source": [
    "In lecture 1, we used the `TabularDataLoaders.from_df()` method to quickly create dataloaders for the train and validation sets. In this lecture, we'll take a different approach. We'll first create tensors of the features and labels, wrap them as a PyTorch `Dataset`, and finally create the dataloaders using the generic `DataLoaders` class from fastai.\n",
    "\n",
    "To get started, we'll need to split our data into a training and validation sets. We can do this quickly via the `train_test_split()` function from scikit-learn:"
   ]
  },
  {
   "cell_type": "code",
   "execution_count": 27,
   "id": "8e62de99-b6ed-477e-82a2-ba8f880d53ed",
   "metadata": {},
   "outputs": [
    {
     "data": {
      "text/plain": [
       "((908250, 21), (302750, 21))"
      ]
     },
     "execution_count": 27,
     "metadata": {},
     "output_type": "execute_result"
    }
   ],
   "source": [
    "train_df, valid_df = train_test_split(df, random_state=42)\n",
    "train_df.shape, valid_df.shape"
   ]
  },
  {
   "cell_type": "markdown",
   "id": "0fc4eeca-192d-45a5-a0bb-c2cc2e9ede86",
   "metadata": {},
   "source": [
    "This has allocated 75% of our original dataset to `train_df` and the remainder to `valid_df`. Now that we have these `DataFrames`, the next thing we'll need are tensors for the features $(p_T, m, \\tau_1^{(0.5)},\\ldots)$ and labels. PyTorch provides a handy `from_numpy()` method that allows us to quickly convert the values of a `DataFrame` to tensors:"
   ]
  },
  {
   "cell_type": "code",
   "execution_count": 442,
   "id": "a69d9dfe-246e-4087-99ef-864480d3bc67",
   "metadata": {},
   "outputs": [
    {
     "data": {
      "text/plain": [
       "(torch.Size([908250, 20]), torch.Size([908250, 1]))"
      ]
     },
     "execution_count": 442,
     "metadata": {},
     "output_type": "execute_result"
    }
   ],
   "source": [
    "# Slice out all feature columns and cast to float32\n",
    "train_x = torch.from_numpy(train_df.iloc[:, :-1].values).float()\n",
    "# Slice out the label column and convert to matrix of shape (num_examples, 1)\n",
    "train_y = torch.from_numpy(train_df.iloc[:, -1].values).unsqueeze(1)\n",
    "# Sanity check on the shapes\n",
    "train_x.shape, train_y.shape"
   ]
  },
  {
   "cell_type": "markdown",
   "id": "df7d0808-6857-4a81-91cd-399d95b99ccd",
   "metadata": {},
   "source": [
    "From these tensors we can now create a PyTorch `Dataset`. These objects need to return a tuple of $(x,y)$ pairs when indexed, and we can achieve this by simply combining a Python `list` with the `zip` function:"
   ]
  },
  {
   "cell_type": "code",
   "execution_count": 443,
   "id": "440a8699-5a85-4dec-a8a9-e4baf2e59609",
   "metadata": {},
   "outputs": [
    {
     "data": {
      "text/plain": [
       "(torch.Size([20]), tensor([1]))"
      ]
     },
     "execution_count": 443,
     "metadata": {},
     "output_type": "execute_result"
    }
   ],
   "source": [
    "train_dset = list(zip(train_x, train_y))\n",
    "x, y = train_dset[0]\n",
    "x.shape, y"
   ]
  },
  {
   "cell_type": "markdown",
   "id": "276ca5fa-8968-4893-b8c8-b5cd286edbfd",
   "metadata": {},
   "source": [
    "This look good for a single example in the dataset, so let's also do the same steps for the validation set:"
   ]
  },
  {
   "cell_type": "code",
   "execution_count": 444,
   "id": "a96809df-8f6a-4ada-bfc3-1ac3ca7a0f34",
   "metadata": {},
   "outputs": [],
   "source": [
    "valid_x = torch.from_numpy(valid_df.iloc[:, :-1].values).float()\n",
    "valid_y = torch.from_numpy(valid_df.iloc[:, -1].values).unsqueeze(1)\n",
    "valid_dset = list(zip(valid_x, valid_y))"
   ]
  },
  {
   "cell_type": "code",
   "execution_count": 481,
   "id": "2a4bc839-1ea9-409f-826e-a38258cc1b7f",
   "metadata": {},
   "outputs": [],
   "source": [
    "# from sklearn.preprocessing import StandardScaler\n",
    "\n",
    "# scaler = StandardScaler()\n",
    "\n",
    "# train_x, valid_x = torch.from_numpy(scaler.fit_transform(train_x)).float(), torch.from_numpy(scaler.fit_transform(valid_x)).float()"
   ]
  },
  {
   "cell_type": "markdown",
   "id": "910ebeeb-f67b-41f8-9541-d3b7b1501bd2",
   "metadata": {},
   "source": [
    "### Initialise the parameters"
   ]
  },
  {
   "cell_type": "markdown",
   "id": "82590405-3808-40dd-b2bd-9d891440ca1a",
   "metadata": {},
   "source": [
    "Next we need to a way to randomly initialize the parameters of the models we'll create. To do so, we can create a simple helper function:"
   ]
  },
  {
   "cell_type": "code",
   "execution_count": 446,
   "id": "d3f2f32f-23bb-4770-8384-46eb727fc78d",
   "metadata": {},
   "outputs": [],
   "source": [
    "def init_params(size, std=1.0):\n",
    "    return (torch.randn(size) * std).requires_grad_()\n",
    "\n",
    "\n",
    "set_seed(666)\n",
    "weights = init_params((20, 1))"
   ]
  },
  {
   "cell_type": "markdown",
   "id": "e00872d8-4032-410d-ba29-5e6c1bfc899e",
   "metadata": {},
   "source": [
    "Recall that in neural networks, a linear transformation is applied to each input `x`, so we'll also need to initialize the bias term:"
   ]
  },
  {
   "cell_type": "code",
   "execution_count": 447,
   "id": "0abe9243-b573-4a82-a8d5-2a7fd04483da",
   "metadata": {},
   "outputs": [],
   "source": [
    "set_seed(666)\n",
    "bias = init_params(1)"
   ]
  },
  {
   "cell_type": "markdown",
   "id": "f7a676bb-92de-4f54-a8dc-c9bc064a44d2",
   "metadata": {},
   "source": [
    "With these parameters, we can create a simple linear classifier that predicts the jet class for a single example:"
   ]
  },
  {
   "cell_type": "code",
   "execution_count": 448,
   "id": "6b0a197b-2af1-403a-a6e0-2d1b1e9e48a4",
   "metadata": {},
   "outputs": [
    {
     "data": {
      "text/plain": [
       "tensor([-293.2585], grad_fn=<AddBackward0>)"
      ]
     },
     "execution_count": 448,
     "metadata": {},
     "output_type": "execute_result"
    }
   ],
   "source": [
    "(x * weights.T).sum() + bias"
   ]
  },
  {
   "cell_type": "markdown",
   "id": "b3fbbca4-bd7e-4395-bc5e-caeb139c0e24",
   "metadata": {},
   "source": [
    "Now in principle, we'd like to compute the predictions of _all_ the examples in our training set. We could do this with a Python for-loop, but this will be extremely slow and won't make use of the acceleration provided by a GPU. Instead, we'll use matrix multiplication to compute all the predictions in one go:"
   ]
  },
  {
   "cell_type": "code",
   "execution_count": 449,
   "id": "fd83118d-668a-41e4-843d-a8b7941c5e98",
   "metadata": {},
   "outputs": [],
   "source": [
    "def linear_model(xb):\n",
    "    return xb @ weights + bias"
   ]
  },
  {
   "cell_type": "markdown",
   "id": "9161f5d2-4b02-484a-b3d1-78cd51452221",
   "metadata": {},
   "source": [
    "With this simple linear classifier, we can now compute the predictions over the whole training set:"
   ]
  },
  {
   "cell_type": "code",
   "execution_count": 450,
   "id": "9dc11889-47e4-47bc-bebc-2b056204cdad",
   "metadata": {},
   "outputs": [
    {
     "data": {
      "text/plain": [
       "tensor([[-1.0355],\n",
       "        [-5.4567],\n",
       "        [-0.9416],\n",
       "        ...,\n",
       "        [-1.4827],\n",
       "        [-4.6571],\n",
       "        [-7.6550]], grad_fn=<AddBackward0>)"
      ]
     },
     "execution_count": 450,
     "metadata": {},
     "output_type": "execute_result"
    }
   ],
   "source": [
    "preds = linear_model(train_x)\n",
    "preds"
   ]
  },
  {
   "cell_type": "markdown",
   "id": "6bc15fdc-b421-4906-9d9d-c5e107924f7d",
   "metadata": {},
   "source": [
    "Now that we have a model we can generate predictions from (step 2), the next thing we need is a loss function to measure how well these predictions compare to the true values."
   ]
  },
  {
   "cell_type": "markdown",
   "id": "f97a3a8d-3dfd-4a59-bd1d-fa77f14b5b95",
   "metadata": {
    "tags": []
   },
   "source": [
    "## Binary cross entropy"
   ]
  },
  {
   "cell_type": "markdown",
   "id": "5f91ac0a-b743-424e-b0f8-c4d30bb6830a",
   "metadata": {},
   "source": [
    "Suppose "
   ]
  },
  {
   "cell_type": "code",
   "execution_count": 518,
   "id": "f726497c-eded-412d-8513-efcaa7a29200",
   "metadata": {},
   "outputs": [],
   "source": [
    "def binary_cross_entropy(predictions, targets):\n",
    "    predictions = predictions.sigmoid()\n",
    "    print(predictions)\n",
    "    return -torch.where(targets == 1, predictions, 1 - predictions).log().mean()"
   ]
  },
  {
   "cell_type": "markdown",
   "id": "38bffd6b-eb0f-4301-bda0-6ae7381771f1",
   "metadata": {},
   "source": [
    "### SGD and mini-batches"
   ]
  },
  {
   "cell_type": "code",
   "execution_count": 501,
   "id": "68787149-b157-455d-abe6-fe51f304c967",
   "metadata": {},
   "outputs": [
    {
     "data": {
      "text/plain": [
       "[tensor([11,  9,  1,  3,  0]),\n",
       " tensor([13, 10,  6,  5,  7]),\n",
       " tensor([ 2,  4,  8, 12, 14])]"
      ]
     },
     "execution_count": 501,
     "metadata": {},
     "output_type": "execute_result"
    }
   ],
   "source": [
    "coll = range(15)\n",
    "dl = DataLoader(coll, batch_size=5, shuffle=True)\n",
    "list(dl)"
   ]
  },
  {
   "cell_type": "code",
   "execution_count": 502,
   "id": "7cdd3fc8-243d-4aab-b4da-13d94046003b",
   "metadata": {},
   "outputs": [],
   "source": [
    "weights = init_params((20, 1))\n",
    "bias = init_params(1)"
   ]
  },
  {
   "cell_type": "code",
   "execution_count": 503,
   "id": "a437b61f-697f-43f0-ad24-70c7b6dbb124",
   "metadata": {},
   "outputs": [],
   "source": [
    "train_dl = DataLoader(train_dset, batch_size=1024, shuffle=True)"
   ]
  },
  {
   "cell_type": "code",
   "execution_count": 504,
   "id": "16dd991a-c2a3-4fd3-8ea0-6324f852ce5e",
   "metadata": {},
   "outputs": [
    {
     "data": {
      "text/plain": [
       "(torch.Size([1024, 20]), torch.Size([1024, 1]))"
      ]
     },
     "execution_count": 504,
     "metadata": {},
     "output_type": "execute_result"
    }
   ],
   "source": [
    "xb,yb = first(train_dl)\n",
    "xb.shape, yb.shape"
   ]
  },
  {
   "cell_type": "code",
   "execution_count": 505,
   "id": "bc3856f8-7c10-4cc1-a152-ac6c96d5a762",
   "metadata": {},
   "outputs": [],
   "source": [
    "valid_dl = DataLoader(valid_dset, batch_size=1024)"
   ]
  },
  {
   "cell_type": "code",
   "execution_count": 506,
   "id": "16c78a49-3c7d-44c7-86aa-e59eaa6227b8",
   "metadata": {},
   "outputs": [],
   "source": [
    "preds = linear_model(xb)"
   ]
  },
  {
   "cell_type": "code",
   "execution_count": 516,
   "id": "8118e6de-be4f-4762-8783-15db88142894",
   "metadata": {},
   "outputs": [
    {
     "data": {
      "text/plain": [
       "tensor([[408.8538],\n",
       "        [173.9517],\n",
       "        [366.2723],\n",
       "        [181.1378],\n",
       "        [297.0280],\n",
       "        [155.0407],\n",
       "        [148.4101],\n",
       "        [290.3214],\n",
       "        [110.0510],\n",
       "        [242.1872]], grad_fn=<SliceBackward0>)"
      ]
     },
     "execution_count": 516,
     "metadata": {},
     "output_type": "execute_result"
    }
   ],
   "source": [
    "preds[:10]"
   ]
  },
  {
   "cell_type": "code",
   "execution_count": 519,
   "id": "4c94a9da-c981-4cf5-8f9f-155906aa7956",
   "metadata": {},
   "outputs": [
    {
     "name": "stdout",
     "output_type": "stream",
     "text": [
      "tensor([[1.],\n",
      "        [1.],\n",
      "        [1.],\n",
      "        [1.],\n",
      "        [1.],\n",
      "        [1.],\n",
      "        [1.],\n",
      "        [1.],\n",
      "        [1.],\n",
      "        [1.]], grad_fn=<SigmoidBackward0>)\n"
     ]
    },
    {
     "data": {
      "text/plain": [
       "tensor(inf, grad_fn=<NegBackward0>)"
      ]
     },
     "execution_count": 519,
     "metadata": {},
     "output_type": "execute_result"
    }
   ],
   "source": [
    "loss = binary_cross_entropy(preds[:10], yb[:10])\n",
    "loss"
   ]
  },
  {
   "cell_type": "code",
   "execution_count": 523,
   "id": "e0ba1e1f-262a-4f9e-8ea3-8852b882345c",
   "metadata": {},
   "outputs": [
    {
     "ename": "RuntimeError",
     "evalue": "Found dtype Long but expected Float",
     "output_type": "error",
     "traceback": [
      "\u001b[0;31m---------------------------------------------------------------------------\u001b[0m",
      "\u001b[0;31mRuntimeError\u001b[0m                              Traceback (most recent call last)",
      "Input \u001b[0;32mIn [523]\u001b[0m, in \u001b[0;36m<cell line: 2>\u001b[0;34m()\u001b[0m\n\u001b[1;32m      1\u001b[0m loss \u001b[38;5;241m=\u001b[39m nn\u001b[38;5;241m.\u001b[39mBCELoss()\n\u001b[0;32m----> 2\u001b[0m \u001b[43mloss\u001b[49m\u001b[43m(\u001b[49m\u001b[43mpreds\u001b[49m\u001b[43m[\u001b[49m\u001b[43m:\u001b[49m\u001b[38;5;241;43m10\u001b[39;49m\u001b[43m]\u001b[49m\u001b[43m,\u001b[49m\u001b[43m \u001b[49m\u001b[43myb\u001b[49m\u001b[43m[\u001b[49m\u001b[43m:\u001b[49m\u001b[38;5;241;43m10\u001b[39;49m\u001b[43m]\u001b[49m\u001b[43m)\u001b[49m\n",
      "File \u001b[0;32m~/miniconda3/envs/dl4phys/lib/python3.9/site-packages/torch/nn/modules/module.py:1110\u001b[0m, in \u001b[0;36mModule._call_impl\u001b[0;34m(self, *input, **kwargs)\u001b[0m\n\u001b[1;32m   1106\u001b[0m \u001b[38;5;66;03m# If we don't have any hooks, we want to skip the rest of the logic in\u001b[39;00m\n\u001b[1;32m   1107\u001b[0m \u001b[38;5;66;03m# this function, and just call forward.\u001b[39;00m\n\u001b[1;32m   1108\u001b[0m \u001b[38;5;28;01mif\u001b[39;00m \u001b[38;5;129;01mnot\u001b[39;00m (\u001b[38;5;28mself\u001b[39m\u001b[38;5;241m.\u001b[39m_backward_hooks \u001b[38;5;129;01mor\u001b[39;00m \u001b[38;5;28mself\u001b[39m\u001b[38;5;241m.\u001b[39m_forward_hooks \u001b[38;5;129;01mor\u001b[39;00m \u001b[38;5;28mself\u001b[39m\u001b[38;5;241m.\u001b[39m_forward_pre_hooks \u001b[38;5;129;01mor\u001b[39;00m _global_backward_hooks\n\u001b[1;32m   1109\u001b[0m         \u001b[38;5;129;01mor\u001b[39;00m _global_forward_hooks \u001b[38;5;129;01mor\u001b[39;00m _global_forward_pre_hooks):\n\u001b[0;32m-> 1110\u001b[0m     \u001b[38;5;28;01mreturn\u001b[39;00m \u001b[43mforward_call\u001b[49m\u001b[43m(\u001b[49m\u001b[38;5;241;43m*\u001b[39;49m\u001b[38;5;28;43minput\u001b[39;49m\u001b[43m,\u001b[49m\u001b[43m \u001b[49m\u001b[38;5;241;43m*\u001b[39;49m\u001b[38;5;241;43m*\u001b[39;49m\u001b[43mkwargs\u001b[49m\u001b[43m)\u001b[49m\n\u001b[1;32m   1111\u001b[0m \u001b[38;5;66;03m# Do not call functions when jit is used\u001b[39;00m\n\u001b[1;32m   1112\u001b[0m full_backward_hooks, non_full_backward_hooks \u001b[38;5;241m=\u001b[39m [], []\n",
      "File \u001b[0;32m~/miniconda3/envs/dl4phys/lib/python3.9/site-packages/torch/nn/modules/loss.py:612\u001b[0m, in \u001b[0;36mBCELoss.forward\u001b[0;34m(self, input, target)\u001b[0m\n\u001b[1;32m    611\u001b[0m \u001b[38;5;28;01mdef\u001b[39;00m \u001b[38;5;21mforward\u001b[39m(\u001b[38;5;28mself\u001b[39m, \u001b[38;5;28minput\u001b[39m: Tensor, target: Tensor) \u001b[38;5;241m-\u001b[39m\u001b[38;5;241m>\u001b[39m Tensor:\n\u001b[0;32m--> 612\u001b[0m     \u001b[38;5;28;01mreturn\u001b[39;00m \u001b[43mF\u001b[49m\u001b[38;5;241;43m.\u001b[39;49m\u001b[43mbinary_cross_entropy\u001b[49m\u001b[43m(\u001b[49m\u001b[38;5;28;43minput\u001b[39;49m\u001b[43m,\u001b[49m\u001b[43m \u001b[49m\u001b[43mtarget\u001b[49m\u001b[43m,\u001b[49m\u001b[43m \u001b[49m\u001b[43mweight\u001b[49m\u001b[38;5;241;43m=\u001b[39;49m\u001b[38;5;28;43mself\u001b[39;49m\u001b[38;5;241;43m.\u001b[39;49m\u001b[43mweight\u001b[49m\u001b[43m,\u001b[49m\u001b[43m \u001b[49m\u001b[43mreduction\u001b[49m\u001b[38;5;241;43m=\u001b[39;49m\u001b[38;5;28;43mself\u001b[39;49m\u001b[38;5;241;43m.\u001b[39;49m\u001b[43mreduction\u001b[49m\u001b[43m)\u001b[49m\n",
      "File \u001b[0;32m~/miniconda3/envs/dl4phys/lib/python3.9/site-packages/torch/nn/functional.py:3065\u001b[0m, in \u001b[0;36mbinary_cross_entropy\u001b[0;34m(input, target, weight, size_average, reduce, reduction)\u001b[0m\n\u001b[1;32m   3062\u001b[0m     new_size \u001b[38;5;241m=\u001b[39m _infer_size(target\u001b[38;5;241m.\u001b[39msize(), weight\u001b[38;5;241m.\u001b[39msize())\n\u001b[1;32m   3063\u001b[0m     weight \u001b[38;5;241m=\u001b[39m weight\u001b[38;5;241m.\u001b[39mexpand(new_size)\n\u001b[0;32m-> 3065\u001b[0m \u001b[38;5;28;01mreturn\u001b[39;00m \u001b[43mtorch\u001b[49m\u001b[38;5;241;43m.\u001b[39;49m\u001b[43m_C\u001b[49m\u001b[38;5;241;43m.\u001b[39;49m\u001b[43m_nn\u001b[49m\u001b[38;5;241;43m.\u001b[39;49m\u001b[43mbinary_cross_entropy\u001b[49m\u001b[43m(\u001b[49m\u001b[38;5;28;43minput\u001b[39;49m\u001b[43m,\u001b[49m\u001b[43m \u001b[49m\u001b[43mtarget\u001b[49m\u001b[43m,\u001b[49m\u001b[43m \u001b[49m\u001b[43mweight\u001b[49m\u001b[43m,\u001b[49m\u001b[43m \u001b[49m\u001b[43mreduction_enum\u001b[49m\u001b[43m)\u001b[49m\n",
      "\u001b[0;31mRuntimeError\u001b[0m: Found dtype Long but expected Float"
     ]
    }
   ],
   "source": [
    "loss = nn.BCELoss()\n",
    "loss(preds[:10], yb[:10])"
   ]
  },
  {
   "cell_type": "code",
   "execution_count": 520,
   "id": "8e40c573-88a8-4e4a-b83a-54ad698a3342",
   "metadata": {},
   "outputs": [
    {
     "ename": "RuntimeError",
     "evalue": "result type Float can't be cast to the desired output type Long",
     "output_type": "error",
     "traceback": [
      "\u001b[0;31m---------------------------------------------------------------------------\u001b[0m",
      "\u001b[0;31mRuntimeError\u001b[0m                              Traceback (most recent call last)",
      "Input \u001b[0;32mIn [520]\u001b[0m, in \u001b[0;36m<cell line: 1>\u001b[0;34m()\u001b[0m\n\u001b[0;32m----> 1\u001b[0m \u001b[43mF\u001b[49m\u001b[38;5;241;43m.\u001b[39;49m\u001b[43mbinary_cross_entropy_with_logits\u001b[49m\u001b[43m(\u001b[49m\u001b[43mpreds\u001b[49m\u001b[43m,\u001b[49m\u001b[43m \u001b[49m\u001b[43myb\u001b[49m\u001b[43m)\u001b[49m\n",
      "File \u001b[0;32m~/miniconda3/envs/dl4phys/lib/python3.9/site-packages/torch/nn/functional.py:3132\u001b[0m, in \u001b[0;36mbinary_cross_entropy_with_logits\u001b[0;34m(input, target, weight, size_average, reduce, reduction, pos_weight)\u001b[0m\n\u001b[1;32m   3129\u001b[0m \u001b[38;5;28;01mif\u001b[39;00m \u001b[38;5;129;01mnot\u001b[39;00m (target\u001b[38;5;241m.\u001b[39msize() \u001b[38;5;241m==\u001b[39m \u001b[38;5;28minput\u001b[39m\u001b[38;5;241m.\u001b[39msize()):\n\u001b[1;32m   3130\u001b[0m     \u001b[38;5;28;01mraise\u001b[39;00m \u001b[38;5;167;01mValueError\u001b[39;00m(\u001b[38;5;124m\"\u001b[39m\u001b[38;5;124mTarget size (\u001b[39m\u001b[38;5;132;01m{}\u001b[39;00m\u001b[38;5;124m) must be the same as input size (\u001b[39m\u001b[38;5;132;01m{}\u001b[39;00m\u001b[38;5;124m)\u001b[39m\u001b[38;5;124m\"\u001b[39m\u001b[38;5;241m.\u001b[39mformat(target\u001b[38;5;241m.\u001b[39msize(), \u001b[38;5;28minput\u001b[39m\u001b[38;5;241m.\u001b[39msize()))\n\u001b[0;32m-> 3132\u001b[0m \u001b[38;5;28;01mreturn\u001b[39;00m \u001b[43mtorch\u001b[49m\u001b[38;5;241;43m.\u001b[39;49m\u001b[43mbinary_cross_entropy_with_logits\u001b[49m\u001b[43m(\u001b[49m\u001b[38;5;28;43minput\u001b[39;49m\u001b[43m,\u001b[49m\u001b[43m \u001b[49m\u001b[43mtarget\u001b[49m\u001b[43m,\u001b[49m\u001b[43m \u001b[49m\u001b[43mweight\u001b[49m\u001b[43m,\u001b[49m\u001b[43m \u001b[49m\u001b[43mpos_weight\u001b[49m\u001b[43m,\u001b[49m\u001b[43m \u001b[49m\u001b[43mreduction_enum\u001b[49m\u001b[43m)\u001b[49m\n",
      "\u001b[0;31mRuntimeError\u001b[0m: result type Float can't be cast to the desired output type Long"
     ]
    }
   ],
   "source": [
    "F.binary_cross_entropy_with_logits(preds, yb)"
   ]
  },
  {
   "cell_type": "code",
   "execution_count": 306,
   "id": "bbb29364-a5bf-4d67-a9d1-e03573da4312",
   "metadata": {},
   "outputs": [
    {
     "data": {
      "text/plain": [
       "(torch.Size([20]), tensor(0.), tensor([0.]))"
      ]
     },
     "execution_count": 306,
     "metadata": {},
     "output_type": "execute_result"
    }
   ],
   "source": [
    "loss.backward()\n",
    "weights.grad.shape, weights.grad.mean(), bias.grad"
   ]
  },
  {
   "cell_type": "code",
   "execution_count": 307,
   "id": "37b82964-6ffa-47a3-9482-6a1926134d34",
   "metadata": {},
   "outputs": [],
   "source": [
    "def calc_grad(xb, yb, model):\n",
    "    preds = model(xb)\n",
    "    loss = binary_cross_entropy(preds, yb)\n",
    "    loss.backward()"
   ]
  },
  {
   "cell_type": "code",
   "execution_count": 309,
   "id": "02b7db57-26ff-4290-834c-06e316133767",
   "metadata": {},
   "outputs": [
    {
     "data": {
      "text/plain": [
       "(tensor(0.), tensor([0.]))"
      ]
     },
     "execution_count": 309,
     "metadata": {},
     "output_type": "execute_result"
    }
   ],
   "source": [
    "weights.grad.mean(), bias.grad"
   ]
  },
  {
   "cell_type": "code",
   "execution_count": 337,
   "id": "9e879c84-6e93-4ec2-a0d9-5e774dfeadde",
   "metadata": {},
   "outputs": [],
   "source": [
    "simple_net = nn.Sequential(\n",
    "    nn.Linear(20, 200),\n",
    "    nn.ReLU(),\n",
    "    nn.Linear(200, 200),\n",
    "    nn.ReLU(),\n",
    "    nn.Linear(200, 50),\n",
    "    nn.ReLU(),\n",
    "    nn.Linear(50, 50),\n",
    "    nn.ReLU(),\n",
    "    nn.Linear(50, 2),\n",
    ")"
   ]
  },
  {
   "cell_type": "code",
   "execution_count": 338,
   "id": "1b261941-cf55-4611-9bc5-d3f08769905a",
   "metadata": {},
   "outputs": [],
   "source": [
    "dls = DataLoaders(train_dl, valid_dl)"
   ]
  },
  {
   "cell_type": "code",
   "execution_count": 339,
   "id": "2bdfc9f2-8b19-4f07-bef9-f24d1e90a61e",
   "metadata": {},
   "outputs": [],
   "source": [
    "batch = first(dls.train)"
   ]
  },
  {
   "cell_type": "code",
   "execution_count": 340,
   "id": "9cc800d9-efd4-421e-88eb-ce05915924be",
   "metadata": {},
   "outputs": [
    {
     "data": {
      "text/plain": [
       "torch.Size([1024, 20])"
      ]
     },
     "execution_count": 340,
     "metadata": {},
     "output_type": "execute_result"
    }
   ],
   "source": [
    "batch[0].shape"
   ]
  },
  {
   "cell_type": "code",
   "execution_count": 341,
   "id": "af75c9c9-b7f1-4c9b-9bc8-01d220de27bf",
   "metadata": {},
   "outputs": [
    {
     "data": {
      "text/plain": [
       "torch.Size([1024])"
      ]
     },
     "execution_count": 341,
     "metadata": {},
     "output_type": "execute_result"
    }
   ],
   "source": [
    "batch[1].shape"
   ]
  },
  {
   "cell_type": "code",
   "execution_count": 342,
   "id": "c11ff8ec-5518-4696-b7f6-db440dc31aff",
   "metadata": {},
   "outputs": [
    {
     "data": {
      "text/plain": [
       "torch.Size([1024, 2])"
      ]
     },
     "execution_count": 342,
     "metadata": {},
     "output_type": "execute_result"
    }
   ],
   "source": [
    "simple_net(batch[0]).shape"
   ]
  },
  {
   "cell_type": "code",
   "execution_count": 343,
   "id": "3074b930-9672-47d3-aa47-2e2f18c6c5f0",
   "metadata": {},
   "outputs": [
    {
     "ename": "RuntimeError",
     "evalue": "The size of tensor a (1024) must match the size of tensor b (2) at non-singleton dimension 1",
     "output_type": "error",
     "traceback": [
      "\u001b[0;31m---------------------------------------------------------------------------\u001b[0m",
      "\u001b[0;31mRuntimeError\u001b[0m                              Traceback (most recent call last)",
      "Input \u001b[0;32mIn [343]\u001b[0m, in \u001b[0;36m<cell line: 1>\u001b[0;34m()\u001b[0m\n\u001b[0;32m----> 1\u001b[0m \u001b[43mbinary_cross_entropy\u001b[49m\u001b[43m(\u001b[49m\u001b[43msimple_net\u001b[49m\u001b[43m(\u001b[49m\u001b[43mbatch\u001b[49m\u001b[43m[\u001b[49m\u001b[38;5;241;43m0\u001b[39;49m\u001b[43m]\u001b[49m\u001b[43m)\u001b[49m\u001b[43m,\u001b[49m\u001b[43m \u001b[49m\u001b[43mbatch\u001b[49m\u001b[43m[\u001b[49m\u001b[38;5;241;43m1\u001b[39;49m\u001b[43m]\u001b[49m\u001b[43m)\u001b[49m\n",
      "Input \u001b[0;32mIn [286]\u001b[0m, in \u001b[0;36mbinary_cross_entropy\u001b[0;34m(predictions, targets)\u001b[0m\n\u001b[1;32m      1\u001b[0m \u001b[38;5;28;01mdef\u001b[39;00m \u001b[38;5;21mbinary_cross_entropy\u001b[39m(predictions, targets):\n\u001b[1;32m      2\u001b[0m     predictions \u001b[38;5;241m=\u001b[39m predictions\u001b[38;5;241m.\u001b[39msigmoid()\n\u001b[0;32m----> 3\u001b[0m     \u001b[38;5;28;01mreturn\u001b[39;00m \u001b[43mtorch\u001b[49m\u001b[38;5;241;43m.\u001b[39;49m\u001b[43mwhere\u001b[49m\u001b[43m(\u001b[49m\u001b[43mtargets\u001b[49m\u001b[43m \u001b[49m\u001b[38;5;241;43m==\u001b[39;49m\u001b[43m \u001b[49m\u001b[38;5;241;43m1\u001b[39;49m\u001b[43m,\u001b[49m\u001b[43m \u001b[49m\u001b[43mpredictions\u001b[49m\u001b[43m,\u001b[49m\u001b[43m \u001b[49m\u001b[38;5;241;43m1\u001b[39;49m\u001b[43m \u001b[49m\u001b[38;5;241;43m-\u001b[39;49m\u001b[43m \u001b[49m\u001b[43mpredictions\u001b[49m\u001b[43m)\u001b[49m\u001b[38;5;241m.\u001b[39mmean()\n",
      "\u001b[0;31mRuntimeError\u001b[0m: The size of tensor a (1024) must match the size of tensor b (2) at non-singleton dimension 1"
     ]
    }
   ],
   "source": [
    "binary_cross_entropy(simple_net(batch[0]), batch[1])"
   ]
  },
  {
   "cell_type": "code",
   "execution_count": 344,
   "id": "d8f0d80f-4b3f-4bad-9f0d-92b1c5b591b8",
   "metadata": {},
   "outputs": [
    {
     "data": {
      "text/plain": [
       "tensor(0.8711, grad_fn=<NllLossBackward0>)"
      ]
     },
     "execution_count": 344,
     "metadata": {},
     "output_type": "execute_result"
    }
   ],
   "source": [
    "F.cross_entropy(simple_net(batch[0]), batch[1])"
   ]
  },
  {
   "cell_type": "code",
   "execution_count": 348,
   "id": "22aecb17-f9dc-450a-9067-682d9e12ba69",
   "metadata": {},
   "outputs": [],
   "source": [
    "learn = Learner(\n",
    "    dls,\n",
    "    simple_net,\n",
    "    opt_func=SGD,\n",
    "    loss_func=nn.CrossEntropyLoss(),\n",
    "    metrics=[accuracy, RocAucBinary()],\n",
    ")"
   ]
  },
  {
   "cell_type": "code",
   "execution_count": 349,
   "id": "76010e73-ea95-41f8-b353-bd641e2cbc92",
   "metadata": {},
   "outputs": [
    {
     "data": {
      "text/html": [
       "\n",
       "<style>\n",
       "    /* Turns off some styling */\n",
       "    progress {\n",
       "        /* gets rid of default border in Firefox and Opera. */\n",
       "        border: none;\n",
       "        /* Needs to be in here for Safari polyfill so background images work as expected. */\n",
       "        background-size: auto;\n",
       "    }\n",
       "    .progress-bar-interrupted, .progress-bar-interrupted::-webkit-progress-bar {\n",
       "        background: #F44336;\n",
       "    }\n",
       "</style>\n"
      ],
      "text/plain": [
       "<IPython.core.display.HTML object>"
      ]
     },
     "metadata": {},
     "output_type": "display_data"
    },
    {
     "data": {
      "text/html": [],
      "text/plain": [
       "<IPython.core.display.HTML object>"
      ]
     },
     "metadata": {},
     "output_type": "display_data"
    },
    {
     "data": {
      "text/plain": [
       "Sequential (Input shape: 1024 x 20)\n",
       "============================================================================\n",
       "Layer (type)         Output Shape         Param #    Trainable \n",
       "============================================================================\n",
       "                     1024 x 200          \n",
       "Linear                                    4200       True      \n",
       "ReLU                                                           \n",
       "Linear                                    40200      True      \n",
       "ReLU                                                           \n",
       "____________________________________________________________________________\n",
       "                     1024 x 50           \n",
       "Linear                                    10050      True      \n",
       "ReLU                                                           \n",
       "Linear                                    2550       True      \n",
       "ReLU                                                           \n",
       "____________________________________________________________________________\n",
       "                     1024 x 2            \n",
       "Linear                                    102        True      \n",
       "____________________________________________________________________________\n",
       "\n",
       "Total params: 57,102\n",
       "Total trainable params: 57,102\n",
       "Total non-trainable params: 0\n",
       "\n",
       "Optimizer used: <function SGD at 0x7f195c8db940>\n",
       "Loss function: CrossEntropyLoss()\n",
       "\n",
       "Callbacks:\n",
       "  - TrainEvalCallback\n",
       "  - Recorder\n",
       "  - ProgressCallback"
      ]
     },
     "execution_count": 349,
     "metadata": {},
     "output_type": "execute_result"
    }
   ],
   "source": [
    "learn.summary()"
   ]
  },
  {
   "cell_type": "code",
   "execution_count": 350,
   "id": "8d7c5015-8419-4869-9873-a541b071fff3",
   "metadata": {},
   "outputs": [
    {
     "data": {
      "text/html": [
       "\n",
       "<style>\n",
       "    /* Turns off some styling */\n",
       "    progress {\n",
       "        /* gets rid of default border in Firefox and Opera. */\n",
       "        border: none;\n",
       "        /* Needs to be in here for Safari polyfill so background images work as expected. */\n",
       "        background-size: auto;\n",
       "    }\n",
       "    .progress-bar-interrupted, .progress-bar-interrupted::-webkit-progress-bar {\n",
       "        background: #F44336;\n",
       "    }\n",
       "</style>\n"
      ],
      "text/plain": [
       "<IPython.core.display.HTML object>"
      ]
     },
     "metadata": {},
     "output_type": "display_data"
    },
    {
     "data": {
      "text/html": [],
      "text/plain": [
       "<IPython.core.display.HTML object>"
      ]
     },
     "metadata": {},
     "output_type": "display_data"
    },
    {
     "data": {
      "text/plain": [
       "SuggestedLRs(valley=4.365158383734524e-05)"
      ]
     },
     "execution_count": 350,
     "metadata": {},
     "output_type": "execute_result"
    },
    {
     "data": {
      "image/png": "[encoded data removed]",
      "text/plain": [
       "<Figure size 432x288 with 1 Axes>"
      ]
     },
     "metadata": {
      "needs_background": "light"
     },
     "output_type": "display_data"
    }
   ],
   "source": [
    "learn.lr_find()"
   ]
  },
  {
   "cell_type": "code",
   "execution_count": 351,
   "id": "747d665b-1c79-44d4-a952-0ff1f5e31785",
   "metadata": {},
   "outputs": [
    {
     "data": {
      "text/html": [
       "\n",
       "<style>\n",
       "    /* Turns off some styling */\n",
       "    progress {\n",
       "        /* gets rid of default border in Firefox and Opera. */\n",
       "        border: none;\n",
       "        /* Needs to be in here for Safari polyfill so background images work as expected. */\n",
       "        background-size: auto;\n",
       "    }\n",
       "    .progress-bar-interrupted, .progress-bar-interrupted::-webkit-progress-bar {\n",
       "        background: #F44336;\n",
       "    }\n",
       "</style>\n"
      ],
      "text/plain": [
       "<IPython.core.display.HTML object>"
      ]
     },
     "metadata": {},
     "output_type": "display_data"
    },
    {
     "data": {
      "text/html": [
       "<table border=\"1\" class=\"dataframe\">\n",
       "  <thead>\n",
       "    <tr style=\"text-align: left;\">\n",
       "      <th>epoch</th>\n",
       "      <th>train_loss</th>\n",
       "      <th>valid_loss</th>\n",
       "      <th>accuracy</th>\n",
       "      <th>roc_auc_score</th>\n",
       "      <th>time</th>\n",
       "    </tr>\n",
       "  </thead>\n",
       "  <tbody>\n",
       "    <tr>\n",
       "      <td>0</td>\n",
       "      <td>0.313139</td>\n",
       "      <td>0.320223</td>\n",
       "      <td>0.874471</td>\n",
       "      <td>0.912726</td>\n",
       "      <td>00:05</td>\n",
       "    </tr>\n",
       "    <tr>\n",
       "      <td>1</td>\n",
       "      <td>0.305614</td>\n",
       "      <td>0.303472</td>\n",
       "      <td>0.880766</td>\n",
       "      <td>0.925295</td>\n",
       "      <td>00:05</td>\n",
       "    </tr>\n",
       "    <tr>\n",
       "      <td>2</td>\n",
       "      <td>0.302619</td>\n",
       "      <td>0.302697</td>\n",
       "      <td>0.880968</td>\n",
       "      <td>0.926046</td>\n",
       "      <td>00:05</td>\n",
       "    </tr>\n",
       "  </tbody>\n",
       "</table>"
      ],
      "text/plain": [
       "<IPython.core.display.HTML object>"
      ]
     },
     "metadata": {},
     "output_type": "display_data"
    }
   ],
   "source": [
    "learn.fit_one_cycle(3, 1e-3)"
   ]
  },
  {
   "cell_type": "code",
   "execution_count": null,
   "id": "2d0bf43f-e200-4c04-acc6-589e2dafaad8",
   "metadata": {},
   "outputs": [],
   "source": []
  },
  {
   "cell_type": "code",
   "execution_count": null,
   "id": "60bf402f-9093-4b30-a02b-69db2d890752",
   "metadata": {},
   "outputs": [],
   "source": []
  }
 ],
 "metadata": {
  "kernelspec": {
   "display_name": "Python 3 (ipykernel)",
   "language": "python",
   "name": "python3"
  },
  "language_info": {
   "codemirror_mode": {
    "name": "ipython",
    "version": 3
   },
   "file_extension": ".py",
   "mimetype": "text/x-python",
   "name": "python",
   "nbconvert_exporter": "python",
   "pygments_lexer": "ipython3",
   "version": "3.9.11"
  }
 },
 "nbformat": 4,
 "nbformat_minor": 5
}
